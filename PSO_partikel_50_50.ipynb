{
  "nbformat": 4,
  "nbformat_minor": 0,
  "metadata": {
    "colab": {
      "provenance": []
    },
    "kernelspec": {
      "name": "python3",
      "display_name": "Python 3"
    },
    "language_info": {
      "name": "python"
    }
  },
  "cells": [
    {
      "cell_type": "code",
      "source": [
        "!pip install pyswarms"
      ],
      "metadata": {
        "colab": {
          "base_uri": "https://localhost:8080/"
        },
        "id": "Z84jcFvJx9Fd",
        "outputId": "ecf93b2d-e561-40fd-d350-3ddccdab17f1"
      },
      "execution_count": null,
      "outputs": [
        {
          "output_type": "stream",
          "name": "stdout",
          "text": [
            "Looking in indexes: https://pypi.org/simple, https://us-python.pkg.dev/colab-wheels/public/simple/\n",
            "Collecting pyswarms\n",
            "  Downloading pyswarms-1.3.0-py2.py3-none-any.whl (104 kB)\n",
            "\u001b[K     |████████████████████████████████| 104 kB 5.1 MB/s \n",
            "\u001b[?25hRequirement already satisfied: attrs in /usr/local/lib/python3.8/dist-packages (from pyswarms) (22.1.0)\n",
            "Requirement already satisfied: tqdm in /usr/local/lib/python3.8/dist-packages (from pyswarms) (4.64.1)\n",
            "Requirement already satisfied: pyyaml in /usr/local/lib/python3.8/dist-packages (from pyswarms) (6.0)\n",
            "Requirement already satisfied: scipy in /usr/local/lib/python3.8/dist-packages (from pyswarms) (1.7.3)\n",
            "Requirement already satisfied: future in /usr/local/lib/python3.8/dist-packages (from pyswarms) (0.16.0)\n",
            "Requirement already satisfied: numpy in /usr/local/lib/python3.8/dist-packages (from pyswarms) (1.21.6)\n",
            "Requirement already satisfied: matplotlib>=1.3.1 in /usr/local/lib/python3.8/dist-packages (from pyswarms) (3.2.2)\n",
            "Requirement already satisfied: cycler>=0.10 in /usr/local/lib/python3.8/dist-packages (from matplotlib>=1.3.1->pyswarms) (0.11.0)\n",
            "Requirement already satisfied: pyparsing!=2.0.4,!=2.1.2,!=2.1.6,>=2.0.1 in /usr/local/lib/python3.8/dist-packages (from matplotlib>=1.3.1->pyswarms) (3.0.9)\n",
            "Requirement already satisfied: python-dateutil>=2.1 in /usr/local/lib/python3.8/dist-packages (from matplotlib>=1.3.1->pyswarms) (2.8.2)\n",
            "Requirement already satisfied: kiwisolver>=1.0.1 in /usr/local/lib/python3.8/dist-packages (from matplotlib>=1.3.1->pyswarms) (1.4.4)\n",
            "Requirement already satisfied: six>=1.5 in /usr/local/lib/python3.8/dist-packages (from python-dateutil>=2.1->matplotlib>=1.3.1->pyswarms) (1.15.0)\n",
            "Installing collected packages: pyswarms\n",
            "Successfully installed pyswarms-1.3.0\n"
          ]
        }
      ]
    },
    {
      "cell_type": "code",
      "source": [
        "#First step :- Load libraries\n",
        "from keras.models import Sequential\n",
        "from keras.layers import Dense      #neural net layers\n",
        "import pandas as pd                  \n",
        "from sklearn.model_selection import train_test_split   #to spit dataset into train,validation,test \n",
        "import matplotlib.pyplot as plt\n",
        "import numpy as np\n",
        "import pyswarms as ps\n",
        "from sklearn.metrics import mean_squared_error\n",
        "from scipy import stats\n",
        "import seaborn as sns\n"
      ],
      "metadata": {
        "id": "3FPzHNDSwWcW"
      },
      "execution_count": null,
      "outputs": []
    },
    {
      "cell_type": "code",
      "execution_count": null,
      "metadata": {
        "colab": {
          "base_uri": "https://localhost:8080/",
          "height": 206
        },
        "id": "T_NthWDHwDkM",
        "outputId": "f8cee641-1322-4a5f-fc6f-3a69d4280a92"
      },
      "outputs": [
        {
          "output_type": "execute_result",
          "data": {
            "text/plain": [
              "   age     sex     bmi  children smoker     region      charges\n",
              "0   19  female  27.900         0    yes  southwest  16884.92400\n",
              "1   18    male  33.770         1     no  southeast   1725.55230\n",
              "2   28    male  33.000         3     no  southeast   4449.46200\n",
              "3   33    male  22.705         0     no  northwest  21984.47061\n",
              "4   32    male  28.880         0     no  northwest   3866.85520"
            ],
            "text/html": [
              "\n",
              "  <div id=\"df-041516b7-47bd-44cb-a1d7-483f386046de\">\n",
              "    <div class=\"colab-df-container\">\n",
              "      <div>\n",
              "<style scoped>\n",
              "    .dataframe tbody tr th:only-of-type {\n",
              "        vertical-align: middle;\n",
              "    }\n",
              "\n",
              "    .dataframe tbody tr th {\n",
              "        vertical-align: top;\n",
              "    }\n",
              "\n",
              "    .dataframe thead th {\n",
              "        text-align: right;\n",
              "    }\n",
              "</style>\n",
              "<table border=\"1\" class=\"dataframe\">\n",
              "  <thead>\n",
              "    <tr style=\"text-align: right;\">\n",
              "      <th></th>\n",
              "      <th>age</th>\n",
              "      <th>sex</th>\n",
              "      <th>bmi</th>\n",
              "      <th>children</th>\n",
              "      <th>smoker</th>\n",
              "      <th>region</th>\n",
              "      <th>charges</th>\n",
              "    </tr>\n",
              "  </thead>\n",
              "  <tbody>\n",
              "    <tr>\n",
              "      <th>0</th>\n",
              "      <td>19</td>\n",
              "      <td>female</td>\n",
              "      <td>27.900</td>\n",
              "      <td>0</td>\n",
              "      <td>yes</td>\n",
              "      <td>southwest</td>\n",
              "      <td>16884.92400</td>\n",
              "    </tr>\n",
              "    <tr>\n",
              "      <th>1</th>\n",
              "      <td>18</td>\n",
              "      <td>male</td>\n",
              "      <td>33.770</td>\n",
              "      <td>1</td>\n",
              "      <td>no</td>\n",
              "      <td>southeast</td>\n",
              "      <td>1725.55230</td>\n",
              "    </tr>\n",
              "    <tr>\n",
              "      <th>2</th>\n",
              "      <td>28</td>\n",
              "      <td>male</td>\n",
              "      <td>33.000</td>\n",
              "      <td>3</td>\n",
              "      <td>no</td>\n",
              "      <td>southeast</td>\n",
              "      <td>4449.46200</td>\n",
              "    </tr>\n",
              "    <tr>\n",
              "      <th>3</th>\n",
              "      <td>33</td>\n",
              "      <td>male</td>\n",
              "      <td>22.705</td>\n",
              "      <td>0</td>\n",
              "      <td>no</td>\n",
              "      <td>northwest</td>\n",
              "      <td>21984.47061</td>\n",
              "    </tr>\n",
              "    <tr>\n",
              "      <th>4</th>\n",
              "      <td>32</td>\n",
              "      <td>male</td>\n",
              "      <td>28.880</td>\n",
              "      <td>0</td>\n",
              "      <td>no</td>\n",
              "      <td>northwest</td>\n",
              "      <td>3866.85520</td>\n",
              "    </tr>\n",
              "  </tbody>\n",
              "</table>\n",
              "</div>\n",
              "      <button class=\"colab-df-convert\" onclick=\"convertToInteractive('df-041516b7-47bd-44cb-a1d7-483f386046de')\"\n",
              "              title=\"Convert this dataframe to an interactive table.\"\n",
              "              style=\"display:none;\">\n",
              "        \n",
              "  <svg xmlns=\"http://www.w3.org/2000/svg\" height=\"24px\"viewBox=\"0 0 24 24\"\n",
              "       width=\"24px\">\n",
              "    <path d=\"M0 0h24v24H0V0z\" fill=\"none\"/>\n",
              "    <path d=\"M18.56 5.44l.94 2.06.94-2.06 2.06-.94-2.06-.94-.94-2.06-.94 2.06-2.06.94zm-11 1L8.5 8.5l.94-2.06 2.06-.94-2.06-.94L8.5 2.5l-.94 2.06-2.06.94zm10 10l.94 2.06.94-2.06 2.06-.94-2.06-.94-.94-2.06-.94 2.06-2.06.94z\"/><path d=\"M17.41 7.96l-1.37-1.37c-.4-.4-.92-.59-1.43-.59-.52 0-1.04.2-1.43.59L10.3 9.45l-7.72 7.72c-.78.78-.78 2.05 0 2.83L4 21.41c.39.39.9.59 1.41.59.51 0 1.02-.2 1.41-.59l7.78-7.78 2.81-2.81c.8-.78.8-2.07 0-2.86zM5.41 20L4 18.59l7.72-7.72 1.47 1.35L5.41 20z\"/>\n",
              "  </svg>\n",
              "      </button>\n",
              "      \n",
              "  <style>\n",
              "    .colab-df-container {\n",
              "      display:flex;\n",
              "      flex-wrap:wrap;\n",
              "      gap: 12px;\n",
              "    }\n",
              "\n",
              "    .colab-df-convert {\n",
              "      background-color: #E8F0FE;\n",
              "      border: none;\n",
              "      border-radius: 50%;\n",
              "      cursor: pointer;\n",
              "      display: none;\n",
              "      fill: #1967D2;\n",
              "      height: 32px;\n",
              "      padding: 0 0 0 0;\n",
              "      width: 32px;\n",
              "    }\n",
              "\n",
              "    .colab-df-convert:hover {\n",
              "      background-color: #E2EBFA;\n",
              "      box-shadow: 0px 1px 2px rgba(60, 64, 67, 0.3), 0px 1px 3px 1px rgba(60, 64, 67, 0.15);\n",
              "      fill: #174EA6;\n",
              "    }\n",
              "\n",
              "    [theme=dark] .colab-df-convert {\n",
              "      background-color: #3B4455;\n",
              "      fill: #D2E3FC;\n",
              "    }\n",
              "\n",
              "    [theme=dark] .colab-df-convert:hover {\n",
              "      background-color: #434B5C;\n",
              "      box-shadow: 0px 1px 3px 1px rgba(0, 0, 0, 0.15);\n",
              "      filter: drop-shadow(0px 1px 2px rgba(0, 0, 0, 0.3));\n",
              "      fill: #FFFFFF;\n",
              "    }\n",
              "  </style>\n",
              "\n",
              "      <script>\n",
              "        const buttonEl =\n",
              "          document.querySelector('#df-041516b7-47bd-44cb-a1d7-483f386046de button.colab-df-convert');\n",
              "        buttonEl.style.display =\n",
              "          google.colab.kernel.accessAllowed ? 'block' : 'none';\n",
              "\n",
              "        async function convertToInteractive(key) {\n",
              "          const element = document.querySelector('#df-041516b7-47bd-44cb-a1d7-483f386046de');\n",
              "          const dataTable =\n",
              "            await google.colab.kernel.invokeFunction('convertToInteractive',\n",
              "                                                     [key], {});\n",
              "          if (!dataTable) return;\n",
              "\n",
              "          const docLinkHtml = 'Like what you see? Visit the ' +\n",
              "            '<a target=\"_blank\" href=https://colab.research.google.com/notebooks/data_table.ipynb>data table notebook</a>'\n",
              "            + ' to learn more about interactive tables.';\n",
              "          element.innerHTML = '';\n",
              "          dataTable['output_type'] = 'display_data';\n",
              "          await google.colab.output.renderOutput(dataTable, element);\n",
              "          const docLink = document.createElement('div');\n",
              "          docLink.innerHTML = docLinkHtml;\n",
              "          element.appendChild(docLink);\n",
              "        }\n",
              "      </script>\n",
              "    </div>\n",
              "  </div>\n",
              "  "
            ]
          },
          "metadata": {},
          "execution_count": 3
        }
      ],
      "source": [
        "Medic= pd.read_csv('Data Medical Cost_Regresi.csv')\n",
        "Medic.head()"
      ]
    },
    {
      "cell_type": "code",
      "source": [
        "Medic.describe()"
      ],
      "metadata": {
        "colab": {
          "base_uri": "https://localhost:8080/",
          "height": 300
        },
        "id": "8ufE-yRdlIln",
        "outputId": "edfe2863-86ce-491b-d9a8-294b44c5a48f"
      },
      "execution_count": null,
      "outputs": [
        {
          "output_type": "execute_result",
          "data": {
            "text/plain": [
              "               age          bmi     children       charges\n",
              "count  1338.000000  1338.000000  1338.000000   1338.000000\n",
              "mean     39.207025    30.663397     1.094918  13270.422265\n",
              "std      14.049960     6.098187     1.205493  12110.011237\n",
              "min      18.000000    15.960000     0.000000   1121.873900\n",
              "25%      27.000000    26.296250     0.000000   4740.287150\n",
              "50%      39.000000    30.400000     1.000000   9382.033000\n",
              "75%      51.000000    34.693750     2.000000  16639.912515\n",
              "max      64.000000    53.130000     5.000000  63770.428010"
            ],
            "text/html": [
              "\n",
              "  <div id=\"df-9d42b096-eb2c-48d6-947c-2456c2b90492\">\n",
              "    <div class=\"colab-df-container\">\n",
              "      <div>\n",
              "<style scoped>\n",
              "    .dataframe tbody tr th:only-of-type {\n",
              "        vertical-align: middle;\n",
              "    }\n",
              "\n",
              "    .dataframe tbody tr th {\n",
              "        vertical-align: top;\n",
              "    }\n",
              "\n",
              "    .dataframe thead th {\n",
              "        text-align: right;\n",
              "    }\n",
              "</style>\n",
              "<table border=\"1\" class=\"dataframe\">\n",
              "  <thead>\n",
              "    <tr style=\"text-align: right;\">\n",
              "      <th></th>\n",
              "      <th>age</th>\n",
              "      <th>bmi</th>\n",
              "      <th>children</th>\n",
              "      <th>charges</th>\n",
              "    </tr>\n",
              "  </thead>\n",
              "  <tbody>\n",
              "    <tr>\n",
              "      <th>count</th>\n",
              "      <td>1338.000000</td>\n",
              "      <td>1338.000000</td>\n",
              "      <td>1338.000000</td>\n",
              "      <td>1338.000000</td>\n",
              "    </tr>\n",
              "    <tr>\n",
              "      <th>mean</th>\n",
              "      <td>39.207025</td>\n",
              "      <td>30.663397</td>\n",
              "      <td>1.094918</td>\n",
              "      <td>13270.422265</td>\n",
              "    </tr>\n",
              "    <tr>\n",
              "      <th>std</th>\n",
              "      <td>14.049960</td>\n",
              "      <td>6.098187</td>\n",
              "      <td>1.205493</td>\n",
              "      <td>12110.011237</td>\n",
              "    </tr>\n",
              "    <tr>\n",
              "      <th>min</th>\n",
              "      <td>18.000000</td>\n",
              "      <td>15.960000</td>\n",
              "      <td>0.000000</td>\n",
              "      <td>1121.873900</td>\n",
              "    </tr>\n",
              "    <tr>\n",
              "      <th>25%</th>\n",
              "      <td>27.000000</td>\n",
              "      <td>26.296250</td>\n",
              "      <td>0.000000</td>\n",
              "      <td>4740.287150</td>\n",
              "    </tr>\n",
              "    <tr>\n",
              "      <th>50%</th>\n",
              "      <td>39.000000</td>\n",
              "      <td>30.400000</td>\n",
              "      <td>1.000000</td>\n",
              "      <td>9382.033000</td>\n",
              "    </tr>\n",
              "    <tr>\n",
              "      <th>75%</th>\n",
              "      <td>51.000000</td>\n",
              "      <td>34.693750</td>\n",
              "      <td>2.000000</td>\n",
              "      <td>16639.912515</td>\n",
              "    </tr>\n",
              "    <tr>\n",
              "      <th>max</th>\n",
              "      <td>64.000000</td>\n",
              "      <td>53.130000</td>\n",
              "      <td>5.000000</td>\n",
              "      <td>63770.428010</td>\n",
              "    </tr>\n",
              "  </tbody>\n",
              "</table>\n",
              "</div>\n",
              "      <button class=\"colab-df-convert\" onclick=\"convertToInteractive('df-9d42b096-eb2c-48d6-947c-2456c2b90492')\"\n",
              "              title=\"Convert this dataframe to an interactive table.\"\n",
              "              style=\"display:none;\">\n",
              "        \n",
              "  <svg xmlns=\"http://www.w3.org/2000/svg\" height=\"24px\"viewBox=\"0 0 24 24\"\n",
              "       width=\"24px\">\n",
              "    <path d=\"M0 0h24v24H0V0z\" fill=\"none\"/>\n",
              "    <path d=\"M18.56 5.44l.94 2.06.94-2.06 2.06-.94-2.06-.94-.94-2.06-.94 2.06-2.06.94zm-11 1L8.5 8.5l.94-2.06 2.06-.94-2.06-.94L8.5 2.5l-.94 2.06-2.06.94zm10 10l.94 2.06.94-2.06 2.06-.94-2.06-.94-.94-2.06-.94 2.06-2.06.94z\"/><path d=\"M17.41 7.96l-1.37-1.37c-.4-.4-.92-.59-1.43-.59-.52 0-1.04.2-1.43.59L10.3 9.45l-7.72 7.72c-.78.78-.78 2.05 0 2.83L4 21.41c.39.39.9.59 1.41.59.51 0 1.02-.2 1.41-.59l7.78-7.78 2.81-2.81c.8-.78.8-2.07 0-2.86zM5.41 20L4 18.59l7.72-7.72 1.47 1.35L5.41 20z\"/>\n",
              "  </svg>\n",
              "      </button>\n",
              "      \n",
              "  <style>\n",
              "    .colab-df-container {\n",
              "      display:flex;\n",
              "      flex-wrap:wrap;\n",
              "      gap: 12px;\n",
              "    }\n",
              "\n",
              "    .colab-df-convert {\n",
              "      background-color: #E8F0FE;\n",
              "      border: none;\n",
              "      border-radius: 50%;\n",
              "      cursor: pointer;\n",
              "      display: none;\n",
              "      fill: #1967D2;\n",
              "      height: 32px;\n",
              "      padding: 0 0 0 0;\n",
              "      width: 32px;\n",
              "    }\n",
              "\n",
              "    .colab-df-convert:hover {\n",
              "      background-color: #E2EBFA;\n",
              "      box-shadow: 0px 1px 2px rgba(60, 64, 67, 0.3), 0px 1px 3px 1px rgba(60, 64, 67, 0.15);\n",
              "      fill: #174EA6;\n",
              "    }\n",
              "\n",
              "    [theme=dark] .colab-df-convert {\n",
              "      background-color: #3B4455;\n",
              "      fill: #D2E3FC;\n",
              "    }\n",
              "\n",
              "    [theme=dark] .colab-df-convert:hover {\n",
              "      background-color: #434B5C;\n",
              "      box-shadow: 0px 1px 3px 1px rgba(0, 0, 0, 0.15);\n",
              "      filter: drop-shadow(0px 1px 2px rgba(0, 0, 0, 0.3));\n",
              "      fill: #FFFFFF;\n",
              "    }\n",
              "  </style>\n",
              "\n",
              "      <script>\n",
              "        const buttonEl =\n",
              "          document.querySelector('#df-9d42b096-eb2c-48d6-947c-2456c2b90492 button.colab-df-convert');\n",
              "        buttonEl.style.display =\n",
              "          google.colab.kernel.accessAllowed ? 'block' : 'none';\n",
              "\n",
              "        async function convertToInteractive(key) {\n",
              "          const element = document.querySelector('#df-9d42b096-eb2c-48d6-947c-2456c2b90492');\n",
              "          const dataTable =\n",
              "            await google.colab.kernel.invokeFunction('convertToInteractive',\n",
              "                                                     [key], {});\n",
              "          if (!dataTable) return;\n",
              "\n",
              "          const docLinkHtml = 'Like what you see? Visit the ' +\n",
              "            '<a target=\"_blank\" href=https://colab.research.google.com/notebooks/data_table.ipynb>data table notebook</a>'\n",
              "            + ' to learn more about interactive tables.';\n",
              "          element.innerHTML = '';\n",
              "          dataTable['output_type'] = 'display_data';\n",
              "          await google.colab.output.renderOutput(dataTable, element);\n",
              "          const docLink = document.createElement('div');\n",
              "          docLink.innerHTML = docLinkHtml;\n",
              "          element.appendChild(docLink);\n",
              "        }\n",
              "      </script>\n",
              "    </div>\n",
              "  </div>\n",
              "  "
            ]
          },
          "metadata": {},
          "execution_count": 4
        }
      ]
    },
    {
      "cell_type": "code",
      "source": [
        "from sklearn.preprocessing import LabelEncoder\n",
        "#sex\n",
        "le = LabelEncoder()\n",
        "le.fit(Medic.sex.drop_duplicates()) \n",
        "Medic.sex = le.transform(Medic.sex)\n",
        "# smoker or not\n",
        "le.fit(Medic.smoker.drop_duplicates()) \n",
        "Medic.smoker = le.transform(Medic.smoker)\n",
        "#region\n",
        "le.fit(Medic.region.drop_duplicates()) \n",
        "Medic.region = le.transform(Medic.region)\n",
        "Medic.head()"
      ],
      "metadata": {
        "colab": {
          "base_uri": "https://localhost:8080/",
          "height": 206
        },
        "id": "TvFeWFdfwKJf",
        "outputId": "15002d94-55b4-4c2f-ae9e-81eeb0985536"
      },
      "execution_count": null,
      "outputs": [
        {
          "output_type": "execute_result",
          "data": {
            "text/plain": [
              "   age  sex     bmi  children  smoker  region      charges\n",
              "0   19    0  27.900         0       1       3  16884.92400\n",
              "1   18    1  33.770         1       0       2   1725.55230\n",
              "2   28    1  33.000         3       0       2   4449.46200\n",
              "3   33    1  22.705         0       0       1  21984.47061\n",
              "4   32    1  28.880         0       0       1   3866.85520"
            ],
            "text/html": [
              "\n",
              "  <div id=\"df-27bd9716-ab62-4e40-9416-2293d21d5182\">\n",
              "    <div class=\"colab-df-container\">\n",
              "      <div>\n",
              "<style scoped>\n",
              "    .dataframe tbody tr th:only-of-type {\n",
              "        vertical-align: middle;\n",
              "    }\n",
              "\n",
              "    .dataframe tbody tr th {\n",
              "        vertical-align: top;\n",
              "    }\n",
              "\n",
              "    .dataframe thead th {\n",
              "        text-align: right;\n",
              "    }\n",
              "</style>\n",
              "<table border=\"1\" class=\"dataframe\">\n",
              "  <thead>\n",
              "    <tr style=\"text-align: right;\">\n",
              "      <th></th>\n",
              "      <th>age</th>\n",
              "      <th>sex</th>\n",
              "      <th>bmi</th>\n",
              "      <th>children</th>\n",
              "      <th>smoker</th>\n",
              "      <th>region</th>\n",
              "      <th>charges</th>\n",
              "    </tr>\n",
              "  </thead>\n",
              "  <tbody>\n",
              "    <tr>\n",
              "      <th>0</th>\n",
              "      <td>19</td>\n",
              "      <td>0</td>\n",
              "      <td>27.900</td>\n",
              "      <td>0</td>\n",
              "      <td>1</td>\n",
              "      <td>3</td>\n",
              "      <td>16884.92400</td>\n",
              "    </tr>\n",
              "    <tr>\n",
              "      <th>1</th>\n",
              "      <td>18</td>\n",
              "      <td>1</td>\n",
              "      <td>33.770</td>\n",
              "      <td>1</td>\n",
              "      <td>0</td>\n",
              "      <td>2</td>\n",
              "      <td>1725.55230</td>\n",
              "    </tr>\n",
              "    <tr>\n",
              "      <th>2</th>\n",
              "      <td>28</td>\n",
              "      <td>1</td>\n",
              "      <td>33.000</td>\n",
              "      <td>3</td>\n",
              "      <td>0</td>\n",
              "      <td>2</td>\n",
              "      <td>4449.46200</td>\n",
              "    </tr>\n",
              "    <tr>\n",
              "      <th>3</th>\n",
              "      <td>33</td>\n",
              "      <td>1</td>\n",
              "      <td>22.705</td>\n",
              "      <td>0</td>\n",
              "      <td>0</td>\n",
              "      <td>1</td>\n",
              "      <td>21984.47061</td>\n",
              "    </tr>\n",
              "    <tr>\n",
              "      <th>4</th>\n",
              "      <td>32</td>\n",
              "      <td>1</td>\n",
              "      <td>28.880</td>\n",
              "      <td>0</td>\n",
              "      <td>0</td>\n",
              "      <td>1</td>\n",
              "      <td>3866.85520</td>\n",
              "    </tr>\n",
              "  </tbody>\n",
              "</table>\n",
              "</div>\n",
              "      <button class=\"colab-df-convert\" onclick=\"convertToInteractive('df-27bd9716-ab62-4e40-9416-2293d21d5182')\"\n",
              "              title=\"Convert this dataframe to an interactive table.\"\n",
              "              style=\"display:none;\">\n",
              "        \n",
              "  <svg xmlns=\"http://www.w3.org/2000/svg\" height=\"24px\"viewBox=\"0 0 24 24\"\n",
              "       width=\"24px\">\n",
              "    <path d=\"M0 0h24v24H0V0z\" fill=\"none\"/>\n",
              "    <path d=\"M18.56 5.44l.94 2.06.94-2.06 2.06-.94-2.06-.94-.94-2.06-.94 2.06-2.06.94zm-11 1L8.5 8.5l.94-2.06 2.06-.94-2.06-.94L8.5 2.5l-.94 2.06-2.06.94zm10 10l.94 2.06.94-2.06 2.06-.94-2.06-.94-.94-2.06-.94 2.06-2.06.94z\"/><path d=\"M17.41 7.96l-1.37-1.37c-.4-.4-.92-.59-1.43-.59-.52 0-1.04.2-1.43.59L10.3 9.45l-7.72 7.72c-.78.78-.78 2.05 0 2.83L4 21.41c.39.39.9.59 1.41.59.51 0 1.02-.2 1.41-.59l7.78-7.78 2.81-2.81c.8-.78.8-2.07 0-2.86zM5.41 20L4 18.59l7.72-7.72 1.47 1.35L5.41 20z\"/>\n",
              "  </svg>\n",
              "      </button>\n",
              "      \n",
              "  <style>\n",
              "    .colab-df-container {\n",
              "      display:flex;\n",
              "      flex-wrap:wrap;\n",
              "      gap: 12px;\n",
              "    }\n",
              "\n",
              "    .colab-df-convert {\n",
              "      background-color: #E8F0FE;\n",
              "      border: none;\n",
              "      border-radius: 50%;\n",
              "      cursor: pointer;\n",
              "      display: none;\n",
              "      fill: #1967D2;\n",
              "      height: 32px;\n",
              "      padding: 0 0 0 0;\n",
              "      width: 32px;\n",
              "    }\n",
              "\n",
              "    .colab-df-convert:hover {\n",
              "      background-color: #E2EBFA;\n",
              "      box-shadow: 0px 1px 2px rgba(60, 64, 67, 0.3), 0px 1px 3px 1px rgba(60, 64, 67, 0.15);\n",
              "      fill: #174EA6;\n",
              "    }\n",
              "\n",
              "    [theme=dark] .colab-df-convert {\n",
              "      background-color: #3B4455;\n",
              "      fill: #D2E3FC;\n",
              "    }\n",
              "\n",
              "    [theme=dark] .colab-df-convert:hover {\n",
              "      background-color: #434B5C;\n",
              "      box-shadow: 0px 1px 3px 1px rgba(0, 0, 0, 0.15);\n",
              "      filter: drop-shadow(0px 1px 2px rgba(0, 0, 0, 0.3));\n",
              "      fill: #FFFFFF;\n",
              "    }\n",
              "  </style>\n",
              "\n",
              "      <script>\n",
              "        const buttonEl =\n",
              "          document.querySelector('#df-27bd9716-ab62-4e40-9416-2293d21d5182 button.colab-df-convert');\n",
              "        buttonEl.style.display =\n",
              "          google.colab.kernel.accessAllowed ? 'block' : 'none';\n",
              "\n",
              "        async function convertToInteractive(key) {\n",
              "          const element = document.querySelector('#df-27bd9716-ab62-4e40-9416-2293d21d5182');\n",
              "          const dataTable =\n",
              "            await google.colab.kernel.invokeFunction('convertToInteractive',\n",
              "                                                     [key], {});\n",
              "          if (!dataTable) return;\n",
              "\n",
              "          const docLinkHtml = 'Like what you see? Visit the ' +\n",
              "            '<a target=\"_blank\" href=https://colab.research.google.com/notebooks/data_table.ipynb>data table notebook</a>'\n",
              "            + ' to learn more about interactive tables.';\n",
              "          element.innerHTML = '';\n",
              "          dataTable['output_type'] = 'display_data';\n",
              "          await google.colab.output.renderOutput(dataTable, element);\n",
              "          const docLink = document.createElement('div');\n",
              "          docLink.innerHTML = docLinkHtml;\n",
              "          element.appendChild(docLink);\n",
              "        }\n",
              "      </script>\n",
              "    </div>\n",
              "  </div>\n",
              "  "
            ]
          },
          "metadata": {},
          "execution_count": 5
        }
      ]
    },
    {
      "cell_type": "code",
      "source": [
        "Medic.dtypes"
      ],
      "metadata": {
        "colab": {
          "base_uri": "https://localhost:8080/"
        },
        "id": "-0PWOTLudBqs",
        "outputId": "b2a678f5-d842-42a5-ab9b-3489d696260e"
      },
      "execution_count": null,
      "outputs": [
        {
          "output_type": "execute_result",
          "data": {
            "text/plain": [
              "age           int64\n",
              "sex           int64\n",
              "bmi         float64\n",
              "children      int64\n",
              "smoker        int64\n",
              "region        int64\n",
              "charges     float64\n",
              "dtype: object"
            ]
          },
          "metadata": {},
          "execution_count": 6
        }
      ]
    },
    {
      "cell_type": "code",
      "source": [
        "korelasi = Medic.corr()\n",
        "sns.heatmap(korelasi, annot = True)\n",
        "plt.show()"
      ],
      "metadata": {
        "colab": {
          "base_uri": "https://localhost:8080/",
          "height": 300
        },
        "id": "xImqrNr68YjF",
        "outputId": "6a4427ce-0962-4b2d-e420-24b1b4411378"
      },
      "execution_count": null,
      "outputs": [
        {
          "output_type": "display_data",
          "data": {
            "text/plain": [
              "<Figure size 432x288 with 2 Axes>"
            ],
            "image/png": "[encoded data removed]"
          },
          "metadata": {
            "needs_background": "light"
          }
        }
      ]
    },
    {
      "cell_type": "code",
      "source": [
        "#Medic = Medic.drop(labels='sex', axis=1)\n",
        "#Medic = Medic.drop(labels='children', axis=1)\n",
        "Medic = Medic.drop(labels='region', axis=1)"
      ],
      "metadata": {
        "id": "b6cxal0bwckk"
      },
      "execution_count": null,
      "outputs": []
    },
    {
      "cell_type": "code",
      "source": [
        "Medic.head()"
      ],
      "metadata": {
        "colab": {
          "base_uri": "https://localhost:8080/",
          "height": 206
        },
        "id": "n52Bz2Tewe3t",
        "outputId": "69a5bcb4-5cac-45e3-f4ca-5470c665c1cc"
      },
      "execution_count": null,
      "outputs": [
        {
          "output_type": "execute_result",
          "data": {
            "text/plain": [
              "   age  sex     bmi  children  smoker      charges\n",
              "0   19    0  27.900         0       1  16884.92400\n",
              "1   18    1  33.770         1       0   1725.55230\n",
              "2   28    1  33.000         3       0   4449.46200\n",
              "3   33    1  22.705         0       0  21984.47061\n",
              "4   32    1  28.880         0       0   3866.85520"
            ],
            "text/html": [
              "\n",
              "  <div id=\"df-17fa3dc3-2948-4e79-80ef-b003c447895f\">\n",
              "    <div class=\"colab-df-container\">\n",
              "      <div>\n",
              "<style scoped>\n",
              "    .dataframe tbody tr th:only-of-type {\n",
              "        vertical-align: middle;\n",
              "    }\n",
              "\n",
              "    .dataframe tbody tr th {\n",
              "        vertical-align: top;\n",
              "    }\n",
              "\n",
              "    .dataframe thead th {\n",
              "        text-align: right;\n",
              "    }\n",
              "</style>\n",
              "<table border=\"1\" class=\"dataframe\">\n",
              "  <thead>\n",
              "    <tr style=\"text-align: right;\">\n",
              "      <th></th>\n",
              "      <th>age</th>\n",
              "      <th>sex</th>\n",
              "      <th>bmi</th>\n",
              "      <th>children</th>\n",
              "      <th>smoker</th>\n",
              "      <th>charges</th>\n",
              "    </tr>\n",
              "  </thead>\n",
              "  <tbody>\n",
              "    <tr>\n",
              "      <th>0</th>\n",
              "      <td>19</td>\n",
              "      <td>0</td>\n",
              "      <td>27.900</td>\n",
              "      <td>0</td>\n",
              "      <td>1</td>\n",
              "      <td>16884.92400</td>\n",
              "    </tr>\n",
              "    <tr>\n",
              "      <th>1</th>\n",
              "      <td>18</td>\n",
              "      <td>1</td>\n",
              "      <td>33.770</td>\n",
              "      <td>1</td>\n",
              "      <td>0</td>\n",
              "      <td>1725.55230</td>\n",
              "    </tr>\n",
              "    <tr>\n",
              "      <th>2</th>\n",
              "      <td>28</td>\n",
              "      <td>1</td>\n",
              "      <td>33.000</td>\n",
              "      <td>3</td>\n",
              "      <td>0</td>\n",
              "      <td>4449.46200</td>\n",
              "    </tr>\n",
              "    <tr>\n",
              "      <th>3</th>\n",
              "      <td>33</td>\n",
              "      <td>1</td>\n",
              "      <td>22.705</td>\n",
              "      <td>0</td>\n",
              "      <td>0</td>\n",
              "      <td>21984.47061</td>\n",
              "    </tr>\n",
              "    <tr>\n",
              "      <th>4</th>\n",
              "      <td>32</td>\n",
              "      <td>1</td>\n",
              "      <td>28.880</td>\n",
              "      <td>0</td>\n",
              "      <td>0</td>\n",
              "      <td>3866.85520</td>\n",
              "    </tr>\n",
              "  </tbody>\n",
              "</table>\n",
              "</div>\n",
              "      <button class=\"colab-df-convert\" onclick=\"convertToInteractive('df-17fa3dc3-2948-4e79-80ef-b003c447895f')\"\n",
              "              title=\"Convert this dataframe to an interactive table.\"\n",
              "              style=\"display:none;\">\n",
              "        \n",
              "  <svg xmlns=\"http://www.w3.org/2000/svg\" height=\"24px\"viewBox=\"0 0 24 24\"\n",
              "       width=\"24px\">\n",
              "    <path d=\"M0 0h24v24H0V0z\" fill=\"none\"/>\n",
              "    <path d=\"M18.56 5.44l.94 2.06.94-2.06 2.06-.94-2.06-.94-.94-2.06-.94 2.06-2.06.94zm-11 1L8.5 8.5l.94-2.06 2.06-.94-2.06-.94L8.5 2.5l-.94 2.06-2.06.94zm10 10l.94 2.06.94-2.06 2.06-.94-2.06-.94-.94-2.06-.94 2.06-2.06.94z\"/><path d=\"M17.41 7.96l-1.37-1.37c-.4-.4-.92-.59-1.43-.59-.52 0-1.04.2-1.43.59L10.3 9.45l-7.72 7.72c-.78.78-.78 2.05 0 2.83L4 21.41c.39.39.9.59 1.41.59.51 0 1.02-.2 1.41-.59l7.78-7.78 2.81-2.81c.8-.78.8-2.07 0-2.86zM5.41 20L4 18.59l7.72-7.72 1.47 1.35L5.41 20z\"/>\n",
              "  </svg>\n",
              "      </button>\n",
              "      \n",
              "  <style>\n",
              "    .colab-df-container {\n",
              "      display:flex;\n",
              "      flex-wrap:wrap;\n",
              "      gap: 12px;\n",
              "    }\n",
              "\n",
              "    .colab-df-convert {\n",
              "      background-color: #E8F0FE;\n",
              "      border: none;\n",
              "      border-radius: 50%;\n",
              "      cursor: pointer;\n",
              "      display: none;\n",
              "      fill: #1967D2;\n",
              "      height: 32px;\n",
              "      padding: 0 0 0 0;\n",
              "      width: 32px;\n",
              "    }\n",
              "\n",
              "    .colab-df-convert:hover {\n",
              "      background-color: #E2EBFA;\n",
              "      box-shadow: 0px 1px 2px rgba(60, 64, 67, 0.3), 0px 1px 3px 1px rgba(60, 64, 67, 0.15);\n",
              "      fill: #174EA6;\n",
              "    }\n",
              "\n",
              "    [theme=dark] .colab-df-convert {\n",
              "      background-color: #3B4455;\n",
              "      fill: #D2E3FC;\n",
              "    }\n",
              "\n",
              "    [theme=dark] .colab-df-convert:hover {\n",
              "      background-color: #434B5C;\n",
              "      box-shadow: 0px 1px 3px 1px rgba(0, 0, 0, 0.15);\n",
              "      filter: drop-shadow(0px 1px 2px rgba(0, 0, 0, 0.3));\n",
              "      fill: #FFFFFF;\n",
              "    }\n",
              "  </style>\n",
              "\n",
              "      <script>\n",
              "        const buttonEl =\n",
              "          document.querySelector('#df-17fa3dc3-2948-4e79-80ef-b003c447895f button.colab-df-convert');\n",
              "        buttonEl.style.display =\n",
              "          google.colab.kernel.accessAllowed ? 'block' : 'none';\n",
              "\n",
              "        async function convertToInteractive(key) {\n",
              "          const element = document.querySelector('#df-17fa3dc3-2948-4e79-80ef-b003c447895f');\n",
              "          const dataTable =\n",
              "            await google.colab.kernel.invokeFunction('convertToInteractive',\n",
              "                                                     [key], {});\n",
              "          if (!dataTable) return;\n",
              "\n",
              "          const docLinkHtml = 'Like what you see? Visit the ' +\n",
              "            '<a target=\"_blank\" href=https://colab.research.google.com/notebooks/data_table.ipynb>data table notebook</a>'\n",
              "            + ' to learn more about interactive tables.';\n",
              "          element.innerHTML = '';\n",
              "          dataTable['output_type'] = 'display_data';\n",
              "          await google.colab.output.renderOutput(dataTable, element);\n",
              "          const docLink = document.createElement('div');\n",
              "          docLink.innerHTML = docLinkHtml;\n",
              "          element.appendChild(docLink);\n",
              "        }\n",
              "      </script>\n",
              "    </div>\n",
              "  </div>\n",
              "  "
            ]
          },
          "metadata": {},
          "execution_count": 9
        }
      ]
    },
    {
      "cell_type": "code",
      "source": [
        "Medic.plot(kind=\"box\", subplots=True, layout=(4,4), figsize=(10,10)) "
      ],
      "metadata": {
        "colab": {
          "base_uri": "https://localhost:8080/",
          "height": 429
        },
        "id": "D-11FDUhgcJn",
        "outputId": "e5a9ce9e-dd95-43b0-ecde-cde9cdb3470c"
      },
      "execution_count": null,
      "outputs": [
        {
          "output_type": "execute_result",
          "data": {
            "text/plain": [
              "age             AxesSubplot(0.125,0.71587;0.168478x0.16413)\n",
              "sex          AxesSubplot(0.327174,0.71587;0.168478x0.16413)\n",
              "bmi          AxesSubplot(0.529348,0.71587;0.168478x0.16413)\n",
              "children     AxesSubplot(0.731522,0.71587;0.168478x0.16413)\n",
              "smoker         AxesSubplot(0.125,0.518913;0.168478x0.16413)\n",
              "charges     AxesSubplot(0.327174,0.518913;0.168478x0.16413)\n",
              "dtype: object"
            ]
          },
          "metadata": {},
          "execution_count": 10
        },
        {
          "output_type": "display_data",
          "data": {
            "text/plain": [
              "<Figure size 720x720 with 16 Axes>"
            ],
            "image/png": "[encoded data removed]"
          },
          "metadata": {
            "needs_background": "light"
          }
        }
      ]
    },
    {
      "cell_type": "code",
      "source": [
        "z1 = np.abs(stats.zscore(Medic[\"bmi\"]))\n",
        "threshold = 2\n",
        "print(np.where(z1 > threshold))\n",
        "outliers1 = np.where(z1 > threshold)\n",
        "amount_outliers1 = list((int(j) for i in outliers1 for j in i))\n",
        "print(len(amount_outliers1))\n",
        "100* len(amount_outliers1)/len(Medic)"
      ],
      "metadata": {
        "colab": {
          "base_uri": "https://localhost:8080/"
        },
        "id": "iaHDQ42ZgiLW",
        "outputId": "0d0ed23b-00ec-4fe8-db14-7a0b51b88c98"
      },
      "execution_count": null,
      "outputs": [
        {
          "output_type": "stream",
          "name": "stdout",
          "text": [
            "(array([  28,  116,  128,  172,  198,  232,  250,  286,  292,  356,  380,\n",
            "        383,  401,  410,  412,  428,  438,  442,  454,  493,  521,  543,\n",
            "        547,  549,  563,  572,  582,  660,  674,  680,  701,  796,  811,\n",
            "        821,  847,  860,  867,  895,  930,  941,  950,  951, 1024, 1029,\n",
            "       1047, 1074, 1085, 1088, 1131, 1133, 1156, 1205, 1226, 1286, 1312,\n",
            "       1317, 1332]),)\n",
            "57\n"
          ]
        },
        {
          "output_type": "execute_result",
          "data": {
            "text/plain": [
              "4.260089686098655"
            ]
          },
          "metadata": {},
          "execution_count": 11
        }
      ]
    },
    {
      "cell_type": "code",
      "source": [
        "Medic.drop(outliers1[0], inplace = True)"
      ],
      "metadata": {
        "id": "bTTJxgmFhtp4"
      },
      "execution_count": null,
      "outputs": []
    },
    {
      "cell_type": "code",
      "source": [
        "100*len(np.where(Medic[\"charges\"]>32000))/len(Medic)"
      ],
      "metadata": {
        "colab": {
          "base_uri": "https://localhost:8080/"
        },
        "id": "ns6Xl0AfrA7O",
        "outputId": "e32d6e84-00bb-4041-99dd-c5f28f8d700a"
      },
      "execution_count": null,
      "outputs": [
        {
          "output_type": "execute_result",
          "data": {
            "text/plain": [
              "0.078064012490242"
            ]
          },
          "metadata": {},
          "execution_count": 13
        }
      ]
    },
    {
      "cell_type": "code",
      "source": [
        "Medic.drop(Medic[Medic['charges'] >32000].index, inplace = True)"
      ],
      "metadata": {
        "id": "CQGxfqm8hy-C"
      },
      "execution_count": null,
      "outputs": []
    },
    {
      "cell_type": "code",
      "source": [
        "len(np.where(Medic[\"smoker\"]==1))/len(Medic)"
      ],
      "metadata": {
        "colab": {
          "base_uri": "https://localhost:8080/"
        },
        "id": "gzon32SltTyC",
        "outputId": "8f1a9a8f-2f35-49c8-f921-7fa47a1488cb"
      },
      "execution_count": null,
      "outputs": [
        {
          "output_type": "execute_result",
          "data": {
            "text/plain": [
              "0.000881057268722467"
            ]
          },
          "metadata": {},
          "execution_count": 15
        }
      ]
    },
    {
      "cell_type": "code",
      "source": [
        "#Medic.drop(Medic[Medic['smoker'] >0].index, inplace = True)"
      ],
      "metadata": {
        "id": "IEPDtsHhtaia"
      },
      "execution_count": null,
      "outputs": []
    },
    {
      "cell_type": "code",
      "source": [
        "Medic.plot(kind=\"box\", subplots=True, layout=(4,4), figsize=(10,10)) "
      ],
      "metadata": {
        "colab": {
          "base_uri": "https://localhost:8080/",
          "height": 429
        },
        "id": "dTesAKbtjmrC",
        "outputId": "7a1823e0-b2eb-4d85-e357-cc6651f1b63d"
      },
      "execution_count": null,
      "outputs": [
        {
          "output_type": "execute_result",
          "data": {
            "text/plain": [
              "age             AxesSubplot(0.125,0.71587;0.168478x0.16413)\n",
              "sex          AxesSubplot(0.327174,0.71587;0.168478x0.16413)\n",
              "bmi          AxesSubplot(0.529348,0.71587;0.168478x0.16413)\n",
              "children     AxesSubplot(0.731522,0.71587;0.168478x0.16413)\n",
              "smoker         AxesSubplot(0.125,0.518913;0.168478x0.16413)\n",
              "charges     AxesSubplot(0.327174,0.518913;0.168478x0.16413)\n",
              "dtype: object"
            ]
          },
          "metadata": {},
          "execution_count": 17
        },
        {
          "output_type": "display_data",
          "data": {
            "text/plain": [
              "<Figure size 720x720 with 16 Axes>"
            ],
            "image/png": "[encoded data removed]"
          },
          "metadata": {
            "needs_background": "light"
          }
        }
      ]
    },
    {
      "cell_type": "code",
      "source": [
        "100*len(np.where(Medic[\"charges\"]>20050))/len(Medic)"
      ],
      "metadata": {
        "colab": {
          "base_uri": "https://localhost:8080/"
        },
        "id": "I9J8IMD1CMyA",
        "outputId": "65e9037d-bca1-40e9-c1e9-47785567a546"
      },
      "execution_count": null,
      "outputs": [
        {
          "output_type": "execute_result",
          "data": {
            "text/plain": [
              "0.0881057268722467"
            ]
          },
          "metadata": {},
          "execution_count": 18
        }
      ]
    },
    {
      "cell_type": "code",
      "source": [
        "Medic.drop(Medic[Medic['charges'] >20050].index, inplace = True)"
      ],
      "metadata": {
        "id": "TttVMR0_CVV5"
      },
      "execution_count": null,
      "outputs": []
    },
    {
      "cell_type": "code",
      "source": [
        "Medic.plot(kind=\"box\", subplots=True, layout=(4,4), figsize=(10,10)) "
      ],
      "metadata": {
        "colab": {
          "base_uri": "https://localhost:8080/",
          "height": 429
        },
        "id": "bS4nmLxTClfN",
        "outputId": "6a329d03-5440-4f8a-e263-92bd00a9955d"
      },
      "execution_count": null,
      "outputs": [
        {
          "output_type": "execute_result",
          "data": {
            "text/plain": [
              "age             AxesSubplot(0.125,0.71587;0.168478x0.16413)\n",
              "sex          AxesSubplot(0.327174,0.71587;0.168478x0.16413)\n",
              "bmi          AxesSubplot(0.529348,0.71587;0.168478x0.16413)\n",
              "children     AxesSubplot(0.731522,0.71587;0.168478x0.16413)\n",
              "smoker         AxesSubplot(0.125,0.518913;0.168478x0.16413)\n",
              "charges     AxesSubplot(0.327174,0.518913;0.168478x0.16413)\n",
              "dtype: object"
            ]
          },
          "metadata": {},
          "execution_count": 20
        },
        {
          "output_type": "display_data",
          "data": {
            "text/plain": [
              "<Figure size 720x720 with 16 Axes>"
            ],
            "image/png": "[encoded data removed]"
          },
          "metadata": {
            "needs_background": "light"
          }
        }
      ]
    },
    {
      "cell_type": "code",
      "source": [
        "#Medic[\"children\"] = np.where(Medic[\"children\"]>= 1, 0, Medic['children'])"
      ],
      "metadata": {
        "id": "XtIquUPoCtIX"
      },
      "execution_count": null,
      "outputs": []
    },
    {
      "cell_type": "code",
      "source": [
        "Medic.plot(kind=\"box\", subplots=True, layout=(4,4), figsize=(10,10)) "
      ],
      "metadata": {
        "colab": {
          "base_uri": "https://localhost:8080/",
          "height": 429
        },
        "id": "8SGlJTMmCzQM",
        "outputId": "c9ca4d4a-bcc6-4e38-9b2b-cfd202d780b3"
      },
      "execution_count": null,
      "outputs": [
        {
          "output_type": "execute_result",
          "data": {
            "text/plain": [
              "age             AxesSubplot(0.125,0.71587;0.168478x0.16413)\n",
              "sex          AxesSubplot(0.327174,0.71587;0.168478x0.16413)\n",
              "bmi          AxesSubplot(0.529348,0.71587;0.168478x0.16413)\n",
              "children     AxesSubplot(0.731522,0.71587;0.168478x0.16413)\n",
              "smoker         AxesSubplot(0.125,0.518913;0.168478x0.16413)\n",
              "charges     AxesSubplot(0.327174,0.518913;0.168478x0.16413)\n",
              "dtype: object"
            ]
          },
          "metadata": {},
          "execution_count": 22
        },
        {
          "output_type": "display_data",
          "data": {
            "text/plain": [
              "<Figure size 720x720 with 16 Axes>"
            ],
            "image/png": "[encoded data removed]"
          },
          "metadata": {
            "needs_background": "light"
          }
        }
      ]
    },
    {
      "cell_type": "code",
      "source": [
        "Medic"
      ],
      "metadata": {
        "colab": {
          "base_uri": "https://localhost:8080/",
          "height": 424
        },
        "id": "pCQkqRio3-IZ",
        "outputId": "35091199-a0fd-44b3-bd57-762eafcceed7"
      },
      "execution_count": null,
      "outputs": [
        {
          "output_type": "execute_result",
          "data": {
            "text/plain": [
              "      age  sex    bmi  children  smoker      charges\n",
              "0      19    0  27.90         0       1  16884.92400\n",
              "1      18    1  33.77         1       0   1725.55230\n",
              "2      28    1  33.00         3       0   4449.46200\n",
              "4      32    1  28.88         0       0   3866.85520\n",
              "5      31    0  25.74         0       0   3756.62160\n",
              "...   ...  ...    ...       ...     ...          ...\n",
              "1331   23    0  33.40         0       0  10795.93733\n",
              "1333   50    1  30.97         3       0  10600.54830\n",
              "1334   18    0  31.92         0       0   2205.98080\n",
              "1335   18    0  36.85         0       0   1629.83350\n",
              "1336   21    0  25.80         0       0   2007.94500\n",
              "\n",
              "[1018 rows x 6 columns]"
            ],
            "text/html": [
              "\n",
              "  <div id=\"df-34b93509-ff60-428e-9d1a-d724c0bb218e\">\n",
              "    <div class=\"colab-df-container\">\n",
              "      <div>\n",
              "<style scoped>\n",
              "    .dataframe tbody tr th:only-of-type {\n",
              "        vertical-align: middle;\n",
              "    }\n",
              "\n",
              "    .dataframe tbody tr th {\n",
              "        vertical-align: top;\n",
              "    }\n",
              "\n",
              "    .dataframe thead th {\n",
              "        text-align: right;\n",
              "    }\n",
              "</style>\n",
              "<table border=\"1\" class=\"dataframe\">\n",
              "  <thead>\n",
              "    <tr style=\"text-align: right;\">\n",
              "      <th></th>\n",
              "      <th>age</th>\n",
              "      <th>sex</th>\n",
              "      <th>bmi</th>\n",
              "      <th>children</th>\n",
              "      <th>smoker</th>\n",
              "      <th>charges</th>\n",
              "    </tr>\n",
              "  </thead>\n",
              "  <tbody>\n",
              "    <tr>\n",
              "      <th>0</th>\n",
              "      <td>19</td>\n",
              "      <td>0</td>\n",
              "      <td>27.90</td>\n",
              "      <td>0</td>\n",
              "      <td>1</td>\n",
              "      <td>16884.92400</td>\n",
              "    </tr>\n",
              "    <tr>\n",
              "      <th>1</th>\n",
              "      <td>18</td>\n",
              "      <td>1</td>\n",
              "      <td>33.77</td>\n",
              "      <td>1</td>\n",
              "      <td>0</td>\n",
              "      <td>1725.55230</td>\n",
              "    </tr>\n",
              "    <tr>\n",
              "      <th>2</th>\n",
              "      <td>28</td>\n",
              "      <td>1</td>\n",
              "      <td>33.00</td>\n",
              "      <td>3</td>\n",
              "      <td>0</td>\n",
              "      <td>4449.46200</td>\n",
              "    </tr>\n",
              "    <tr>\n",
              "      <th>4</th>\n",
              "      <td>32</td>\n",
              "      <td>1</td>\n",
              "      <td>28.88</td>\n",
              "      <td>0</td>\n",
              "      <td>0</td>\n",
              "      <td>3866.85520</td>\n",
              "    </tr>\n",
              "    <tr>\n",
              "      <th>5</th>\n",
              "      <td>31</td>\n",
              "      <td>0</td>\n",
              "      <td>25.74</td>\n",
              "      <td>0</td>\n",
              "      <td>0</td>\n",
              "      <td>3756.62160</td>\n",
              "    </tr>\n",
              "    <tr>\n",
              "      <th>...</th>\n",
              "      <td>...</td>\n",
              "      <td>...</td>\n",
              "      <td>...</td>\n",
              "      <td>...</td>\n",
              "      <td>...</td>\n",
              "      <td>...</td>\n",
              "    </tr>\n",
              "    <tr>\n",
              "      <th>1331</th>\n",
              "      <td>23</td>\n",
              "      <td>0</td>\n",
              "      <td>33.40</td>\n",
              "      <td>0</td>\n",
              "      <td>0</td>\n",
              "      <td>10795.93733</td>\n",
              "    </tr>\n",
              "    <tr>\n",
              "      <th>1333</th>\n",
              "      <td>50</td>\n",
              "      <td>1</td>\n",
              "      <td>30.97</td>\n",
              "      <td>3</td>\n",
              "      <td>0</td>\n",
              "      <td>10600.54830</td>\n",
              "    </tr>\n",
              "    <tr>\n",
              "      <th>1334</th>\n",
              "      <td>18</td>\n",
              "      <td>0</td>\n",
              "      <td>31.92</td>\n",
              "      <td>0</td>\n",
              "      <td>0</td>\n",
              "      <td>2205.98080</td>\n",
              "    </tr>\n",
              "    <tr>\n",
              "      <th>1335</th>\n",
              "      <td>18</td>\n",
              "      <td>0</td>\n",
              "      <td>36.85</td>\n",
              "      <td>0</td>\n",
              "      <td>0</td>\n",
              "      <td>1629.83350</td>\n",
              "    </tr>\n",
              "    <tr>\n",
              "      <th>1336</th>\n",
              "      <td>21</td>\n",
              "      <td>0</td>\n",
              "      <td>25.80</td>\n",
              "      <td>0</td>\n",
              "      <td>0</td>\n",
              "      <td>2007.94500</td>\n",
              "    </tr>\n",
              "  </tbody>\n",
              "</table>\n",
              "<p>1018 rows × 6 columns</p>\n",
              "</div>\n",
              "      <button class=\"colab-df-convert\" onclick=\"convertToInteractive('df-34b93509-ff60-428e-9d1a-d724c0bb218e')\"\n",
              "              title=\"Convert this dataframe to an interactive table.\"\n",
              "              style=\"display:none;\">\n",
              "        \n",
              "  <svg xmlns=\"http://www.w3.org/2000/svg\" height=\"24px\"viewBox=\"0 0 24 24\"\n",
              "       width=\"24px\">\n",
              "    <path d=\"M0 0h24v24H0V0z\" fill=\"none\"/>\n",
              "    <path d=\"M18.56 5.44l.94 2.06.94-2.06 2.06-.94-2.06-.94-.94-2.06-.94 2.06-2.06.94zm-11 1L8.5 8.5l.94-2.06 2.06-.94-2.06-.94L8.5 2.5l-.94 2.06-2.06.94zm10 10l.94 2.06.94-2.06 2.06-.94-2.06-.94-.94-2.06-.94 2.06-2.06.94z\"/><path d=\"M17.41 7.96l-1.37-1.37c-.4-.4-.92-.59-1.43-.59-.52 0-1.04.2-1.43.59L10.3 9.45l-7.72 7.72c-.78.78-.78 2.05 0 2.83L4 21.41c.39.39.9.59 1.41.59.51 0 1.02-.2 1.41-.59l7.78-7.78 2.81-2.81c.8-.78.8-2.07 0-2.86zM5.41 20L4 18.59l7.72-7.72 1.47 1.35L5.41 20z\"/>\n",
              "  </svg>\n",
              "      </button>\n",
              "      \n",
              "  <style>\n",
              "    .colab-df-container {\n",
              "      display:flex;\n",
              "      flex-wrap:wrap;\n",
              "      gap: 12px;\n",
              "    }\n",
              "\n",
              "    .colab-df-convert {\n",
              "      background-color: #E8F0FE;\n",
              "      border: none;\n",
              "      border-radius: 50%;\n",
              "      cursor: pointer;\n",
              "      display: none;\n",
              "      fill: #1967D2;\n",
              "      height: 32px;\n",
              "      padding: 0 0 0 0;\n",
              "      width: 32px;\n",
              "    }\n",
              "\n",
              "    .colab-df-convert:hover {\n",
              "      background-color: #E2EBFA;\n",
              "      box-shadow: 0px 1px 2px rgba(60, 64, 67, 0.3), 0px 1px 3px 1px rgba(60, 64, 67, 0.15);\n",
              "      fill: #174EA6;\n",
              "    }\n",
              "\n",
              "    [theme=dark] .colab-df-convert {\n",
              "      background-color: #3B4455;\n",
              "      fill: #D2E3FC;\n",
              "    }\n",
              "\n",
              "    [theme=dark] .colab-df-convert:hover {\n",
              "      background-color: #434B5C;\n",
              "      box-shadow: 0px 1px 3px 1px rgba(0, 0, 0, 0.15);\n",
              "      filter: drop-shadow(0px 1px 2px rgba(0, 0, 0, 0.3));\n",
              "      fill: #FFFFFF;\n",
              "    }\n",
              "  </style>\n",
              "\n",
              "      <script>\n",
              "        const buttonEl =\n",
              "          document.querySelector('#df-34b93509-ff60-428e-9d1a-d724c0bb218e button.colab-df-convert');\n",
              "        buttonEl.style.display =\n",
              "          google.colab.kernel.accessAllowed ? 'block' : 'none';\n",
              "\n",
              "        async function convertToInteractive(key) {\n",
              "          const element = document.querySelector('#df-34b93509-ff60-428e-9d1a-d724c0bb218e');\n",
              "          const dataTable =\n",
              "            await google.colab.kernel.invokeFunction('convertToInteractive',\n",
              "                                                     [key], {});\n",
              "          if (!dataTable) return;\n",
              "\n",
              "          const docLinkHtml = 'Like what you see? Visit the ' +\n",
              "            '<a target=\"_blank\" href=https://colab.research.google.com/notebooks/data_table.ipynb>data table notebook</a>'\n",
              "            + ' to learn more about interactive tables.';\n",
              "          element.innerHTML = '';\n",
              "          dataTable['output_type'] = 'display_data';\n",
              "          await google.colab.output.renderOutput(dataTable, element);\n",
              "          const docLink = document.createElement('div');\n",
              "          docLink.innerHTML = docLinkHtml;\n",
              "          element.appendChild(docLink);\n",
              "        }\n",
              "      </script>\n",
              "    </div>\n",
              "  </div>\n",
              "  "
            ]
          },
          "metadata": {},
          "execution_count": 23
        }
      ]
    },
    {
      "cell_type": "code",
      "source": [
        "Medic.drop_duplicates()"
      ],
      "metadata": {
        "colab": {
          "base_uri": "https://localhost:8080/",
          "height": 424
        },
        "id": "O_49vX1XkVLQ",
        "outputId": "3ef33758-c531-4472-c536-2647b535a42f"
      },
      "execution_count": null,
      "outputs": [
        {
          "output_type": "execute_result",
          "data": {
            "text/plain": [
              "      age  sex    bmi  children  smoker      charges\n",
              "0      19    0  27.90         0       1  16884.92400\n",
              "1      18    1  33.77         1       0   1725.55230\n",
              "2      28    1  33.00         3       0   4449.46200\n",
              "4      32    1  28.88         0       0   3866.85520\n",
              "5      31    0  25.74         0       0   3756.62160\n",
              "...   ...  ...    ...       ...     ...          ...\n",
              "1331   23    0  33.40         0       0  10795.93733\n",
              "1333   50    1  30.97         3       0  10600.54830\n",
              "1334   18    0  31.92         0       0   2205.98080\n",
              "1335   18    0  36.85         0       0   1629.83350\n",
              "1336   21    0  25.80         0       0   2007.94500\n",
              "\n",
              "[1017 rows x 6 columns]"
            ],
            "text/html": [
              "\n",
              "  <div id=\"df-ffec2b0e-ab25-4907-b9d9-4a81cc4c2682\">\n",
              "    <div class=\"colab-df-container\">\n",
              "      <div>\n",
              "<style scoped>\n",
              "    .dataframe tbody tr th:only-of-type {\n",
              "        vertical-align: middle;\n",
              "    }\n",
              "\n",
              "    .dataframe tbody tr th {\n",
              "        vertical-align: top;\n",
              "    }\n",
              "\n",
              "    .dataframe thead th {\n",
              "        text-align: right;\n",
              "    }\n",
              "</style>\n",
              "<table border=\"1\" class=\"dataframe\">\n",
              "  <thead>\n",
              "    <tr style=\"text-align: right;\">\n",
              "      <th></th>\n",
              "      <th>age</th>\n",
              "      <th>sex</th>\n",
              "      <th>bmi</th>\n",
              "      <th>children</th>\n",
              "      <th>smoker</th>\n",
              "      <th>charges</th>\n",
              "    </tr>\n",
              "  </thead>\n",
              "  <tbody>\n",
              "    <tr>\n",
              "      <th>0</th>\n",
              "      <td>19</td>\n",
              "      <td>0</td>\n",
              "      <td>27.90</td>\n",
              "      <td>0</td>\n",
              "      <td>1</td>\n",
              "      <td>16884.92400</td>\n",
              "    </tr>\n",
              "    <tr>\n",
              "      <th>1</th>\n",
              "      <td>18</td>\n",
              "      <td>1</td>\n",
              "      <td>33.77</td>\n",
              "      <td>1</td>\n",
              "      <td>0</td>\n",
              "      <td>1725.55230</td>\n",
              "    </tr>\n",
              "    <tr>\n",
              "      <th>2</th>\n",
              "      <td>28</td>\n",
              "      <td>1</td>\n",
              "      <td>33.00</td>\n",
              "      <td>3</td>\n",
              "      <td>0</td>\n",
              "      <td>4449.46200</td>\n",
              "    </tr>\n",
              "    <tr>\n",
              "      <th>4</th>\n",
              "      <td>32</td>\n",
              "      <td>1</td>\n",
              "      <td>28.88</td>\n",
              "      <td>0</td>\n",
              "      <td>0</td>\n",
              "      <td>3866.85520</td>\n",
              "    </tr>\n",
              "    <tr>\n",
              "      <th>5</th>\n",
              "      <td>31</td>\n",
              "      <td>0</td>\n",
              "      <td>25.74</td>\n",
              "      <td>0</td>\n",
              "      <td>0</td>\n",
              "      <td>3756.62160</td>\n",
              "    </tr>\n",
              "    <tr>\n",
              "      <th>...</th>\n",
              "      <td>...</td>\n",
              "      <td>...</td>\n",
              "      <td>...</td>\n",
              "      <td>...</td>\n",
              "      <td>...</td>\n",
              "      <td>...</td>\n",
              "    </tr>\n",
              "    <tr>\n",
              "      <th>1331</th>\n",
              "      <td>23</td>\n",
              "      <td>0</td>\n",
              "      <td>33.40</td>\n",
              "      <td>0</td>\n",
              "      <td>0</td>\n",
              "      <td>10795.93733</td>\n",
              "    </tr>\n",
              "    <tr>\n",
              "      <th>1333</th>\n",
              "      <td>50</td>\n",
              "      <td>1</td>\n",
              "      <td>30.97</td>\n",
              "      <td>3</td>\n",
              "      <td>0</td>\n",
              "      <td>10600.54830</td>\n",
              "    </tr>\n",
              "    <tr>\n",
              "      <th>1334</th>\n",
              "      <td>18</td>\n",
              "      <td>0</td>\n",
              "      <td>31.92</td>\n",
              "      <td>0</td>\n",
              "      <td>0</td>\n",
              "      <td>2205.98080</td>\n",
              "    </tr>\n",
              "    <tr>\n",
              "      <th>1335</th>\n",
              "      <td>18</td>\n",
              "      <td>0</td>\n",
              "      <td>36.85</td>\n",
              "      <td>0</td>\n",
              "      <td>0</td>\n",
              "      <td>1629.83350</td>\n",
              "    </tr>\n",
              "    <tr>\n",
              "      <th>1336</th>\n",
              "      <td>21</td>\n",
              "      <td>0</td>\n",
              "      <td>25.80</td>\n",
              "      <td>0</td>\n",
              "      <td>0</td>\n",
              "      <td>2007.94500</td>\n",
              "    </tr>\n",
              "  </tbody>\n",
              "</table>\n",
              "<p>1017 rows × 6 columns</p>\n",
              "</div>\n",
              "      <button class=\"colab-df-convert\" onclick=\"convertToInteractive('df-ffec2b0e-ab25-4907-b9d9-4a81cc4c2682')\"\n",
              "              title=\"Convert this dataframe to an interactive table.\"\n",
              "              style=\"display:none;\">\n",
              "        \n",
              "  <svg xmlns=\"http://www.w3.org/2000/svg\" height=\"24px\"viewBox=\"0 0 24 24\"\n",
              "       width=\"24px\">\n",
              "    <path d=\"M0 0h24v24H0V0z\" fill=\"none\"/>\n",
              "    <path d=\"M18.56 5.44l.94 2.06.94-2.06 2.06-.94-2.06-.94-.94-2.06-.94 2.06-2.06.94zm-11 1L8.5 8.5l.94-2.06 2.06-.94-2.06-.94L8.5 2.5l-.94 2.06-2.06.94zm10 10l.94 2.06.94-2.06 2.06-.94-2.06-.94-.94-2.06-.94 2.06-2.06.94z\"/><path d=\"M17.41 7.96l-1.37-1.37c-.4-.4-.92-.59-1.43-.59-.52 0-1.04.2-1.43.59L10.3 9.45l-7.72 7.72c-.78.78-.78 2.05 0 2.83L4 21.41c.39.39.9.59 1.41.59.51 0 1.02-.2 1.41-.59l7.78-7.78 2.81-2.81c.8-.78.8-2.07 0-2.86zM5.41 20L4 18.59l7.72-7.72 1.47 1.35L5.41 20z\"/>\n",
              "  </svg>\n",
              "      </button>\n",
              "      \n",
              "  <style>\n",
              "    .colab-df-container {\n",
              "      display:flex;\n",
              "      flex-wrap:wrap;\n",
              "      gap: 12px;\n",
              "    }\n",
              "\n",
              "    .colab-df-convert {\n",
              "      background-color: #E8F0FE;\n",
              "      border: none;\n",
              "      border-radius: 50%;\n",
              "      cursor: pointer;\n",
              "      display: none;\n",
              "      fill: #1967D2;\n",
              "      height: 32px;\n",
              "      padding: 0 0 0 0;\n",
              "      width: 32px;\n",
              "    }\n",
              "\n",
              "    .colab-df-convert:hover {\n",
              "      background-color: #E2EBFA;\n",
              "      box-shadow: 0px 1px 2px rgba(60, 64, 67, 0.3), 0px 1px 3px 1px rgba(60, 64, 67, 0.15);\n",
              "      fill: #174EA6;\n",
              "    }\n",
              "\n",
              "    [theme=dark] .colab-df-convert {\n",
              "      background-color: #3B4455;\n",
              "      fill: #D2E3FC;\n",
              "    }\n",
              "\n",
              "    [theme=dark] .colab-df-convert:hover {\n",
              "      background-color: #434B5C;\n",
              "      box-shadow: 0px 1px 3px 1px rgba(0, 0, 0, 0.15);\n",
              "      filter: drop-shadow(0px 1px 2px rgba(0, 0, 0, 0.3));\n",
              "      fill: #FFFFFF;\n",
              "    }\n",
              "  </style>\n",
              "\n",
              "      <script>\n",
              "        const buttonEl =\n",
              "          document.querySelector('#df-ffec2b0e-ab25-4907-b9d9-4a81cc4c2682 button.colab-df-convert');\n",
              "        buttonEl.style.display =\n",
              "          google.colab.kernel.accessAllowed ? 'block' : 'none';\n",
              "\n",
              "        async function convertToInteractive(key) {\n",
              "          const element = document.querySelector('#df-ffec2b0e-ab25-4907-b9d9-4a81cc4c2682');\n",
              "          const dataTable =\n",
              "            await google.colab.kernel.invokeFunction('convertToInteractive',\n",
              "                                                     [key], {});\n",
              "          if (!dataTable) return;\n",
              "\n",
              "          const docLinkHtml = 'Like what you see? Visit the ' +\n",
              "            '<a target=\"_blank\" href=https://colab.research.google.com/notebooks/data_table.ipynb>data table notebook</a>'\n",
              "            + ' to learn more about interactive tables.';\n",
              "          element.innerHTML = '';\n",
              "          dataTable['output_type'] = 'display_data';\n",
              "          await google.colab.output.renderOutput(dataTable, element);\n",
              "          const docLink = document.createElement('div');\n",
              "          docLink.innerHTML = docLinkHtml;\n",
              "          element.appendChild(docLink);\n",
              "        }\n",
              "      </script>\n",
              "    </div>\n",
              "  </div>\n",
              "  "
            ]
          },
          "metadata": {},
          "execution_count": 24
        }
      ]
    },
    {
      "cell_type": "code",
      "source": [
        "#Medic['bmi'] = Medic['bmi'].astype(int)\n",
        "#Medic['charges'] = Medic['charges'].astype(int)"
      ],
      "metadata": {
        "id": "iubptzXbzCJk"
      },
      "execution_count": null,
      "outputs": []
    },
    {
      "cell_type": "code",
      "source": [
        "X = Medic.drop(columns =\"charges\")\n",
        "y = Medic['charges']\n",
        "X.shape,y.shape"
      ],
      "metadata": {
        "colab": {
          "base_uri": "https://localhost:8080/"
        },
        "id": "lFPsvtecwguX",
        "outputId": "e4bde258-1824-452c-b186-c93d317ce436"
      },
      "execution_count": null,
      "outputs": [
        {
          "output_type": "execute_result",
          "data": {
            "text/plain": [
              "((1018, 5), (1018,))"
            ]
          },
          "metadata": {},
          "execution_count": 26
        }
      ]
    },
    {
      "cell_type": "code",
      "source": [
        "X"
      ],
      "metadata": {
        "colab": {
          "base_uri": "https://localhost:8080/",
          "height": 424
        },
        "id": "NtEzY3ObZiv8",
        "outputId": "0e5829ae-a7c2-4227-9104-c84c2210e565"
      },
      "execution_count": null,
      "outputs": [
        {
          "output_type": "execute_result",
          "data": {
            "text/plain": [
              "      age  sex    bmi  children  smoker\n",
              "0      19    0  27.90         0       1\n",
              "1      18    1  33.77         1       0\n",
              "2      28    1  33.00         3       0\n",
              "4      32    1  28.88         0       0\n",
              "5      31    0  25.74         0       0\n",
              "...   ...  ...    ...       ...     ...\n",
              "1331   23    0  33.40         0       0\n",
              "1333   50    1  30.97         3       0\n",
              "1334   18    0  31.92         0       0\n",
              "1335   18    0  36.85         0       0\n",
              "1336   21    0  25.80         0       0\n",
              "\n",
              "[1018 rows x 5 columns]"
            ],
            "text/html": [
              "\n",
              "  <div id=\"df-5b027dcc-fe2c-4e05-a72f-1aa6fa4bb407\">\n",
              "    <div class=\"colab-df-container\">\n",
              "      <div>\n",
              "<style scoped>\n",
              "    .dataframe tbody tr th:only-of-type {\n",
              "        vertical-align: middle;\n",
              "    }\n",
              "\n",
              "    .dataframe tbody tr th {\n",
              "        vertical-align: top;\n",
              "    }\n",
              "\n",
              "    .dataframe thead th {\n",
              "        text-align: right;\n",
              "    }\n",
              "</style>\n",
              "<table border=\"1\" class=\"dataframe\">\n",
              "  <thead>\n",
              "    <tr style=\"text-align: right;\">\n",
              "      <th></th>\n",
              "      <th>age</th>\n",
              "      <th>sex</th>\n",
              "      <th>bmi</th>\n",
              "      <th>children</th>\n",
              "      <th>smoker</th>\n",
              "    </tr>\n",
              "  </thead>\n",
              "  <tbody>\n",
              "    <tr>\n",
              "      <th>0</th>\n",
              "      <td>19</td>\n",
              "      <td>0</td>\n",
              "      <td>27.90</td>\n",
              "      <td>0</td>\n",
              "      <td>1</td>\n",
              "    </tr>\n",
              "    <tr>\n",
              "      <th>1</th>\n",
              "      <td>18</td>\n",
              "      <td>1</td>\n",
              "      <td>33.77</td>\n",
              "      <td>1</td>\n",
              "      <td>0</td>\n",
              "    </tr>\n",
              "    <tr>\n",
              "      <th>2</th>\n",
              "      <td>28</td>\n",
              "      <td>1</td>\n",
              "      <td>33.00</td>\n",
              "      <td>3</td>\n",
              "      <td>0</td>\n",
              "    </tr>\n",
              "    <tr>\n",
              "      <th>4</th>\n",
              "      <td>32</td>\n",
              "      <td>1</td>\n",
              "      <td>28.88</td>\n",
              "      <td>0</td>\n",
              "      <td>0</td>\n",
              "    </tr>\n",
              "    <tr>\n",
              "      <th>5</th>\n",
              "      <td>31</td>\n",
              "      <td>0</td>\n",
              "      <td>25.74</td>\n",
              "      <td>0</td>\n",
              "      <td>0</td>\n",
              "    </tr>\n",
              "    <tr>\n",
              "      <th>...</th>\n",
              "      <td>...</td>\n",
              "      <td>...</td>\n",
              "      <td>...</td>\n",
              "      <td>...</td>\n",
              "      <td>...</td>\n",
              "    </tr>\n",
              "    <tr>\n",
              "      <th>1331</th>\n",
              "      <td>23</td>\n",
              "      <td>0</td>\n",
              "      <td>33.40</td>\n",
              "      <td>0</td>\n",
              "      <td>0</td>\n",
              "    </tr>\n",
              "    <tr>\n",
              "      <th>1333</th>\n",
              "      <td>50</td>\n",
              "      <td>1</td>\n",
              "      <td>30.97</td>\n",
              "      <td>3</td>\n",
              "      <td>0</td>\n",
              "    </tr>\n",
              "    <tr>\n",
              "      <th>1334</th>\n",
              "      <td>18</td>\n",
              "      <td>0</td>\n",
              "      <td>31.92</td>\n",
              "      <td>0</td>\n",
              "      <td>0</td>\n",
              "    </tr>\n",
              "    <tr>\n",
              "      <th>1335</th>\n",
              "      <td>18</td>\n",
              "      <td>0</td>\n",
              "      <td>36.85</td>\n",
              "      <td>0</td>\n",
              "      <td>0</td>\n",
              "    </tr>\n",
              "    <tr>\n",
              "      <th>1336</th>\n",
              "      <td>21</td>\n",
              "      <td>0</td>\n",
              "      <td>25.80</td>\n",
              "      <td>0</td>\n",
              "      <td>0</td>\n",
              "    </tr>\n",
              "  </tbody>\n",
              "</table>\n",
              "<p>1018 rows × 5 columns</p>\n",
              "</div>\n",
              "      <button class=\"colab-df-convert\" onclick=\"convertToInteractive('df-5b027dcc-fe2c-4e05-a72f-1aa6fa4bb407')\"\n",
              "              title=\"Convert this dataframe to an interactive table.\"\n",
              "              style=\"display:none;\">\n",
              "        \n",
              "  <svg xmlns=\"http://www.w3.org/2000/svg\" height=\"24px\"viewBox=\"0 0 24 24\"\n",
              "       width=\"24px\">\n",
              "    <path d=\"M0 0h24v24H0V0z\" fill=\"none\"/>\n",
              "    <path d=\"M18.56 5.44l.94 2.06.94-2.06 2.06-.94-2.06-.94-.94-2.06-.94 2.06-2.06.94zm-11 1L8.5 8.5l.94-2.06 2.06-.94-2.06-.94L8.5 2.5l-.94 2.06-2.06.94zm10 10l.94 2.06.94-2.06 2.06-.94-2.06-.94-.94-2.06-.94 2.06-2.06.94z\"/><path d=\"M17.41 7.96l-1.37-1.37c-.4-.4-.92-.59-1.43-.59-.52 0-1.04.2-1.43.59L10.3 9.45l-7.72 7.72c-.78.78-.78 2.05 0 2.83L4 21.41c.39.39.9.59 1.41.59.51 0 1.02-.2 1.41-.59l7.78-7.78 2.81-2.81c.8-.78.8-2.07 0-2.86zM5.41 20L4 18.59l7.72-7.72 1.47 1.35L5.41 20z\"/>\n",
              "  </svg>\n",
              "      </button>\n",
              "      \n",
              "  <style>\n",
              "    .colab-df-container {\n",
              "      display:flex;\n",
              "      flex-wrap:wrap;\n",
              "      gap: 12px;\n",
              "    }\n",
              "\n",
              "    .colab-df-convert {\n",
              "      background-color: #E8F0FE;\n",
              "      border: none;\n",
              "      border-radius: 50%;\n",
              "      cursor: pointer;\n",
              "      display: none;\n",
              "      fill: #1967D2;\n",
              "      height: 32px;\n",
              "      padding: 0 0 0 0;\n",
              "      width: 32px;\n",
              "    }\n",
              "\n",
              "    .colab-df-convert:hover {\n",
              "      background-color: #E2EBFA;\n",
              "      box-shadow: 0px 1px 2px rgba(60, 64, 67, 0.3), 0px 1px 3px 1px rgba(60, 64, 67, 0.15);\n",
              "      fill: #174EA6;\n",
              "    }\n",
              "\n",
              "    [theme=dark] .colab-df-convert {\n",
              "      background-color: #3B4455;\n",
              "      fill: #D2E3FC;\n",
              "    }\n",
              "\n",
              "    [theme=dark] .colab-df-convert:hover {\n",
              "      background-color: #434B5C;\n",
              "      box-shadow: 0px 1px 3px 1px rgba(0, 0, 0, 0.15);\n",
              "      filter: drop-shadow(0px 1px 2px rgba(0, 0, 0, 0.3));\n",
              "      fill: #FFFFFF;\n",
              "    }\n",
              "  </style>\n",
              "\n",
              "      <script>\n",
              "        const buttonEl =\n",
              "          document.querySelector('#df-5b027dcc-fe2c-4e05-a72f-1aa6fa4bb407 button.colab-df-convert');\n",
              "        buttonEl.style.display =\n",
              "          google.colab.kernel.accessAllowed ? 'block' : 'none';\n",
              "\n",
              "        async function convertToInteractive(key) {\n",
              "          const element = document.querySelector('#df-5b027dcc-fe2c-4e05-a72f-1aa6fa4bb407');\n",
              "          const dataTable =\n",
              "            await google.colab.kernel.invokeFunction('convertToInteractive',\n",
              "                                                     [key], {});\n",
              "          if (!dataTable) return;\n",
              "\n",
              "          const docLinkHtml = 'Like what you see? Visit the ' +\n",
              "            '<a target=\"_blank\" href=https://colab.research.google.com/notebooks/data_table.ipynb>data table notebook</a>'\n",
              "            + ' to learn more about interactive tables.';\n",
              "          element.innerHTML = '';\n",
              "          dataTable['output_type'] = 'display_data';\n",
              "          await google.colab.output.renderOutput(dataTable, element);\n",
              "          const docLink = document.createElement('div');\n",
              "          docLink.innerHTML = docLinkHtml;\n",
              "          element.appendChild(docLink);\n",
              "        }\n",
              "      </script>\n",
              "    </div>\n",
              "  </div>\n",
              "  "
            ]
          },
          "metadata": {},
          "execution_count": 27
        }
      ]
    },
    {
      "cell_type": "code",
      "source": [
        "y"
      ],
      "metadata": {
        "colab": {
          "base_uri": "https://localhost:8080/"
        },
        "id": "iEliBxk3ZkzQ",
        "outputId": "b607bdac-d72c-4b37-afb3-3b8924e889b4"
      },
      "execution_count": null,
      "outputs": [
        {
          "output_type": "execute_result",
          "data": {
            "text/plain": [
              "0       16884.92400\n",
              "1        1725.55230\n",
              "2        4449.46200\n",
              "4        3866.85520\n",
              "5        3756.62160\n",
              "           ...     \n",
              "1331    10795.93733\n",
              "1333    10600.54830\n",
              "1334     2205.98080\n",
              "1335     1629.83350\n",
              "1336     2007.94500\n",
              "Name: charges, Length: 1018, dtype: float64"
            ]
          },
          "metadata": {},
          "execution_count": 28
        }
      ]
    },
    {
      "cell_type": "code",
      "source": [
        "y.mean()"
      ],
      "metadata": {
        "colab": {
          "base_uri": "https://localhost:8080/"
        },
        "id": "NgrUQrEikj3P",
        "outputId": "ec9f938f-ce90-48b2-a78a-a8f6f29e06fc"
      },
      "execution_count": null,
      "outputs": [
        {
          "output_type": "execute_result",
          "data": {
            "text/plain": [
              "7994.021871266208"
            ]
          },
          "metadata": {},
          "execution_count": 29
        }
      ]
    },
    {
      "cell_type": "code",
      "source": [
        "y.var()"
      ],
      "metadata": {
        "colab": {
          "base_uri": "https://localhost:8080/"
        },
        "id": "cLQBfkuQkm4T",
        "outputId": "cdfd9e7c-5d8e-428a-a178-02612d3b041b"
      },
      "execution_count": null,
      "outputs": [
        {
          "output_type": "execute_result",
          "data": {
            "text/plain": [
              "22521250.30262937"
            ]
          },
          "metadata": {},
          "execution_count": 30
        }
      ]
    },
    {
      "cell_type": "code",
      "source": [
        "from sklearn.preprocessing import StandardScaler\n",
        "scaler = StandardScaler()\n",
        "y = scaler.fit_transform(y.values.reshape(-1,1))"
      ],
      "metadata": {
        "id": "x4XFXi87jfT2"
      },
      "execution_count": null,
      "outputs": []
    },
    {
      "cell_type": "code",
      "source": [
        "y"
      ],
      "metadata": {
        "colab": {
          "base_uri": "https://localhost:8080/"
        },
        "id": "PxRtEsvnZsqy",
        "outputId": "2da5a4a4-3f88-45ec-b546-3f8e571ba784"
      },
      "execution_count": null,
      "outputs": [
        {
          "output_type": "execute_result",
          "data": {
            "text/plain": [
              "array([[ 1.8744031 ],\n",
              "       [-1.32153505],\n",
              "       [-0.74727333],\n",
              "       ...,\n",
              "       [-1.22024986],\n",
              "       [-1.34171474],\n",
              "       [-1.26200029]])"
            ]
          },
          "metadata": {},
          "execution_count": 32
        }
      ]
    },
    {
      "cell_type": "code",
      "source": [
        "from sklearn.model_selection import StratifiedKFold, train_test_split\n",
        "X_train, X_test, y_train, y_test = train_test_split(X,y,test_size = 0.3,random_state=42)\n",
        "#train = pd.concat([X_train,y_train],axis=1)\n",
        "#test = pd.concat([X_test,y_test],axis=1)\n",
        "X_train.shape, X_test.shape, y_train.shape, y_test.shape"
      ],
      "metadata": {
        "colab": {
          "base_uri": "https://localhost:8080/"
        },
        "id": "CeCQcBLhw2BP",
        "outputId": "082852fa-d1ec-4b62-91c3-e5e749b12848"
      },
      "execution_count": null,
      "outputs": [
        {
          "output_type": "execute_result",
          "data": {
            "text/plain": [
              "((712, 5), (306, 5), (712, 1), (306, 1))"
            ]
          },
          "metadata": {},
          "execution_count": 33
        }
      ]
    },
    {
      "cell_type": "code",
      "source": [
        "y_test_inverse = scaler.inverse_transform(y_test)"
      ],
      "metadata": {
        "id": "5MXQmy5Qp-B4"
      },
      "execution_count": null,
      "outputs": []
    },
    {
      "cell_type": "code",
      "source": [
        "y_test_inverse.mean()"
      ],
      "metadata": {
        "colab": {
          "base_uri": "https://localhost:8080/"
        },
        "id": "PkxRZjmHqGrL",
        "outputId": "5d662899-49d8-4834-d30a-84eb8b373057"
      },
      "execution_count": null,
      "outputs": [
        {
          "output_type": "execute_result",
          "data": {
            "text/plain": [
              "7967.72590748366"
            ]
          },
          "metadata": {},
          "execution_count": 35
        }
      ]
    },
    {
      "cell_type": "code",
      "source": [
        "y_test_inverse.var()"
      ],
      "metadata": {
        "colab": {
          "base_uri": "https://localhost:8080/"
        },
        "id": "zfHD1UK6qLIi",
        "outputId": "3acd395d-9473-4563-8659-623d63ac9916"
      },
      "execution_count": null,
      "outputs": [
        {
          "output_type": "execute_result",
          "data": {
            "text/plain": [
              "22597120.203757"
            ]
          },
          "metadata": {},
          "execution_count": 36
        }
      ]
    },
    {
      "cell_type": "code",
      "source": [
        "X_train"
      ],
      "metadata": {
        "colab": {
          "base_uri": "https://localhost:8080/",
          "height": 424
        },
        "id": "Jd-KYw4FaNLe",
        "outputId": "9dd8792e-c6e5-4da9-8ab0-0fc4600cafdf"
      },
      "execution_count": null,
      "outputs": [
        {
          "output_type": "execute_result",
          "data": {
            "text/plain": [
              "      age  sex     bmi  children  smoker\n",
              "711    50    0  23.540         2       0\n",
              "1065   42    0  25.300         1       0\n",
              "228    41    0  31.635         1       0\n",
              "1032   30    0  27.930         0       0\n",
              "507    21    1  23.750         2       0\n",
              "...   ...  ...     ...       ...     ...\n",
              "142    34    1  25.300         2       1\n",
              "359    18    0  20.790         0       0\n",
              "1134   28    1  33.820         0       0\n",
              "579    25    0  23.465         0       0\n",
              "136    19    1  34.100         0       0\n",
              "\n",
              "[712 rows x 5 columns]"
            ],
            "text/html": [
              "\n",
              "  <div id=\"df-b1656bf4-ce70-4592-b835-d019eba98996\">\n",
              "    <div class=\"colab-df-container\">\n",
              "      <div>\n",
              "<style scoped>\n",
              "    .dataframe tbody tr th:only-of-type {\n",
              "        vertical-align: middle;\n",
              "    }\n",
              "\n",
              "    .dataframe tbody tr th {\n",
              "        vertical-align: top;\n",
              "    }\n",
              "\n",
              "    .dataframe thead th {\n",
              "        text-align: right;\n",
              "    }\n",
              "</style>\n",
              "<table border=\"1\" class=\"dataframe\">\n",
              "  <thead>\n",
              "    <tr style=\"text-align: right;\">\n",
              "      <th></th>\n",
              "      <th>age</th>\n",
              "      <th>sex</th>\n",
              "      <th>bmi</th>\n",
              "      <th>children</th>\n",
              "      <th>smoker</th>\n",
              "    </tr>\n",
              "  </thead>\n",
              "  <tbody>\n",
              "    <tr>\n",
              "      <th>711</th>\n",
              "      <td>50</td>\n",
              "      <td>0</td>\n",
              "      <td>23.540</td>\n",
              "      <td>2</td>\n",
              "      <td>0</td>\n",
              "    </tr>\n",
              "    <tr>\n",
              "      <th>1065</th>\n",
              "      <td>42</td>\n",
              "      <td>0</td>\n",
              "      <td>25.300</td>\n",
              "      <td>1</td>\n",
              "      <td>0</td>\n",
              "    </tr>\n",
              "    <tr>\n",
              "      <th>228</th>\n",
              "      <td>41</td>\n",
              "      <td>0</td>\n",
              "      <td>31.635</td>\n",
              "      <td>1</td>\n",
              "      <td>0</td>\n",
              "    </tr>\n",
              "    <tr>\n",
              "      <th>1032</th>\n",
              "      <td>30</td>\n",
              "      <td>0</td>\n",
              "      <td>27.930</td>\n",
              "      <td>0</td>\n",
              "      <td>0</td>\n",
              "    </tr>\n",
              "    <tr>\n",
              "      <th>507</th>\n",
              "      <td>21</td>\n",
              "      <td>1</td>\n",
              "      <td>23.750</td>\n",
              "      <td>2</td>\n",
              "      <td>0</td>\n",
              "    </tr>\n",
              "    <tr>\n",
              "      <th>...</th>\n",
              "      <td>...</td>\n",
              "      <td>...</td>\n",
              "      <td>...</td>\n",
              "      <td>...</td>\n",
              "      <td>...</td>\n",
              "    </tr>\n",
              "    <tr>\n",
              "      <th>142</th>\n",
              "      <td>34</td>\n",
              "      <td>1</td>\n",
              "      <td>25.300</td>\n",
              "      <td>2</td>\n",
              "      <td>1</td>\n",
              "    </tr>\n",
              "    <tr>\n",
              "      <th>359</th>\n",
              "      <td>18</td>\n",
              "      <td>0</td>\n",
              "      <td>20.790</td>\n",
              "      <td>0</td>\n",
              "      <td>0</td>\n",
              "    </tr>\n",
              "    <tr>\n",
              "      <th>1134</th>\n",
              "      <td>28</td>\n",
              "      <td>1</td>\n",
              "      <td>33.820</td>\n",
              "      <td>0</td>\n",
              "      <td>0</td>\n",
              "    </tr>\n",
              "    <tr>\n",
              "      <th>579</th>\n",
              "      <td>25</td>\n",
              "      <td>0</td>\n",
              "      <td>23.465</td>\n",
              "      <td>0</td>\n",
              "      <td>0</td>\n",
              "    </tr>\n",
              "    <tr>\n",
              "      <th>136</th>\n",
              "      <td>19</td>\n",
              "      <td>1</td>\n",
              "      <td>34.100</td>\n",
              "      <td>0</td>\n",
              "      <td>0</td>\n",
              "    </tr>\n",
              "  </tbody>\n",
              "</table>\n",
              "<p>712 rows × 5 columns</p>\n",
              "</div>\n",
              "      <button class=\"colab-df-convert\" onclick=\"convertToInteractive('df-b1656bf4-ce70-4592-b835-d019eba98996')\"\n",
              "              title=\"Convert this dataframe to an interactive table.\"\n",
              "              style=\"display:none;\">\n",
              "        \n",
              "  <svg xmlns=\"http://www.w3.org/2000/svg\" height=\"24px\"viewBox=\"0 0 24 24\"\n",
              "       width=\"24px\">\n",
              "    <path d=\"M0 0h24v24H0V0z\" fill=\"none\"/>\n",
              "    <path d=\"M18.56 5.44l.94 2.06.94-2.06 2.06-.94-2.06-.94-.94-2.06-.94 2.06-2.06.94zm-11 1L8.5 8.5l.94-2.06 2.06-.94-2.06-.94L8.5 2.5l-.94 2.06-2.06.94zm10 10l.94 2.06.94-2.06 2.06-.94-2.06-.94-.94-2.06-.94 2.06-2.06.94z\"/><path d=\"M17.41 7.96l-1.37-1.37c-.4-.4-.92-.59-1.43-.59-.52 0-1.04.2-1.43.59L10.3 9.45l-7.72 7.72c-.78.78-.78 2.05 0 2.83L4 21.41c.39.39.9.59 1.41.59.51 0 1.02-.2 1.41-.59l7.78-7.78 2.81-2.81c.8-.78.8-2.07 0-2.86zM5.41 20L4 18.59l7.72-7.72 1.47 1.35L5.41 20z\"/>\n",
              "  </svg>\n",
              "      </button>\n",
              "      \n",
              "  <style>\n",
              "    .colab-df-container {\n",
              "      display:flex;\n",
              "      flex-wrap:wrap;\n",
              "      gap: 12px;\n",
              "    }\n",
              "\n",
              "    .colab-df-convert {\n",
              "      background-color: #E8F0FE;\n",
              "      border: none;\n",
              "      border-radius: 50%;\n",
              "      cursor: pointer;\n",
              "      display: none;\n",
              "      fill: #1967D2;\n",
              "      height: 32px;\n",
              "      padding: 0 0 0 0;\n",
              "      width: 32px;\n",
              "    }\n",
              "\n",
              "    .colab-df-convert:hover {\n",
              "      background-color: #E2EBFA;\n",
              "      box-shadow: 0px 1px 2px rgba(60, 64, 67, 0.3), 0px 1px 3px 1px rgba(60, 64, 67, 0.15);\n",
              "      fill: #174EA6;\n",
              "    }\n",
              "\n",
              "    [theme=dark] .colab-df-convert {\n",
              "      background-color: #3B4455;\n",
              "      fill: #D2E3FC;\n",
              "    }\n",
              "\n",
              "    [theme=dark] .colab-df-convert:hover {\n",
              "      background-color: #434B5C;\n",
              "      box-shadow: 0px 1px 3px 1px rgba(0, 0, 0, 0.15);\n",
              "      filter: drop-shadow(0px 1px 2px rgba(0, 0, 0, 0.3));\n",
              "      fill: #FFFFFF;\n",
              "    }\n",
              "  </style>\n",
              "\n",
              "      <script>\n",
              "        const buttonEl =\n",
              "          document.querySelector('#df-b1656bf4-ce70-4592-b835-d019eba98996 button.colab-df-convert');\n",
              "        buttonEl.style.display =\n",
              "          google.colab.kernel.accessAllowed ? 'block' : 'none';\n",
              "\n",
              "        async function convertToInteractive(key) {\n",
              "          const element = document.querySelector('#df-b1656bf4-ce70-4592-b835-d019eba98996');\n",
              "          const dataTable =\n",
              "            await google.colab.kernel.invokeFunction('convertToInteractive',\n",
              "                                                     [key], {});\n",
              "          if (!dataTable) return;\n",
              "\n",
              "          const docLinkHtml = 'Like what you see? Visit the ' +\n",
              "            '<a target=\"_blank\" href=https://colab.research.google.com/notebooks/data_table.ipynb>data table notebook</a>'\n",
              "            + ' to learn more about interactive tables.';\n",
              "          element.innerHTML = '';\n",
              "          dataTable['output_type'] = 'display_data';\n",
              "          await google.colab.output.renderOutput(dataTable, element);\n",
              "          const docLink = document.createElement('div');\n",
              "          docLink.innerHTML = docLinkHtml;\n",
              "          element.appendChild(docLink);\n",
              "        }\n",
              "      </script>\n",
              "    </div>\n",
              "  </div>\n",
              "  "
            ]
          },
          "metadata": {},
          "execution_count": 37
        }
      ]
    },
    {
      "cell_type": "code",
      "source": [
        "X.mean()"
      ],
      "metadata": {
        "colab": {
          "base_uri": "https://localhost:8080/"
        },
        "id": "umL7EvM2vblw",
        "outputId": "8aa90c0a-0a13-4cb0-ce85-f001bc3a0cc3"
      },
      "execution_count": null,
      "outputs": [
        {
          "output_type": "execute_result",
          "data": {
            "text/plain": [
              "age         38.398821\n",
              "sex          0.485265\n",
              "bmi         30.088816\n",
              "children     1.075639\n",
              "smoker       0.057957\n",
              "dtype: float64"
            ]
          },
          "metadata": {},
          "execution_count": 38
        }
      ]
    },
    {
      "cell_type": "code",
      "source": [
        "X.var()"
      ],
      "metadata": {
        "colab": {
          "base_uri": "https://localhost:8080/"
        },
        "id": "TJ3luYzPvdSf",
        "outputId": "654829b3-9501-41fa-80f6-99f98d8898cb"
      },
      "execution_count": null,
      "outputs": [
        {
          "output_type": "execute_result",
          "data": {
            "text/plain": [
              "age         195.777855\n",
              "sex           0.250028\n",
              "bmi          29.393695\n",
              "children      1.497715\n",
              "smoker        0.054651\n",
              "dtype: float64"
            ]
          },
          "metadata": {},
          "execution_count": 39
        }
      ]
    },
    {
      "cell_type": "code",
      "source": [
        "from sklearn.preprocessing import StandardScaler\n",
        "scaler = StandardScaler()\n",
        "X_train = scaler.fit_transform(X_train)\n",
        "X_test = scaler.transform(X_test)"
      ],
      "metadata": {
        "id": "01NDGb2dXtJe"
      },
      "execution_count": null,
      "outputs": []
    },
    {
      "cell_type": "code",
      "source": [
        "X_train"
      ],
      "metadata": {
        "colab": {
          "base_uri": "https://localhost:8080/"
        },
        "id": "lf1vQCBGZugy",
        "outputId": "06f3ce06-bd0f-4753-cde4-d87bac095ceb"
      },
      "execution_count": null,
      "outputs": [
        {
          "output_type": "execute_result",
          "data": {
            "text/plain": [
              "array([[ 0.79831522, -0.98882646, -1.20883215,  0.76544083, -0.23744436],\n",
              "       [ 0.23330484, -0.98882646, -0.8822712 , -0.06030746, -0.23744436],\n",
              "       [ 0.16267855, -0.98882646,  0.29316267, -0.06030746, -0.23744436],\n",
              "       ...,\n",
              "       [-0.75546331,  1.01129979,  0.69858067, -0.88605575, -0.23744436],\n",
              "       [-0.96734219, -0.98882646, -1.2227481 , -0.88605575, -0.23744436],\n",
              "       [-1.39109997,  1.01129979,  0.75053355, -0.88605575, -0.23744436]])"
            ]
          },
          "metadata": {},
          "execution_count": 41
        }
      ]
    },
    {
      "cell_type": "code",
      "source": [
        "def calc_nn_params(n_inputs, n_hidden, n_classes):\n",
        "  i_weights = n_inputs*n_hidden\n",
        "  i_bias = n_hidden\n",
        "  h_weights = n_hidden*n_classes\n",
        "  h_bias = n_classes\n",
        "  n_params = i_weights + h_bias + h_weights + h_bias\n",
        "\n",
        "  return i_weights, i_bias, h_weights, h_bias, n_params\n"
      ],
      "metadata": {
        "id": "wTQIvpU6-GWZ"
      },
      "execution_count": null,
      "outputs": []
    },
    {
      "cell_type": "code",
      "source": [
        "n_inputs = 1+len(X.columns.tolist()[1:])\n",
        "n_hidden = 1\n",
        "n_classes = 1\n",
        "\n",
        "i_weights, i_bias, h_weights, h_bias, n_params = calc_nn_params(n_inputs, n_hidden, n_classes)\n"
      ],
      "metadata": {
        "id": "D9pD509M_sVx"
      },
      "execution_count": null,
      "outputs": []
    },
    {
      "cell_type": "code",
      "source": [
        "i_weights"
      ],
      "metadata": {
        "colab": {
          "base_uri": "https://localhost:8080/"
        },
        "id": "rxlzrEwjAX2H",
        "outputId": "5eee4dae-86c1-40ea-be7d-dffc1f334c5b"
      },
      "execution_count": null,
      "outputs": [
        {
          "output_type": "execute_result",
          "data": {
            "text/plain": [
              "5"
            ]
          },
          "metadata": {},
          "execution_count": 44
        }
      ]
    },
    {
      "cell_type": "code",
      "source": [
        "h_weights"
      ],
      "metadata": {
        "colab": {
          "base_uri": "https://localhost:8080/"
        },
        "id": "1N9vZY2MDY24",
        "outputId": "26f0309b-0eb3-4f5b-8bf1-9129ba151e6d"
      },
      "execution_count": null,
      "outputs": [
        {
          "output_type": "execute_result",
          "data": {
            "text/plain": [
              "1"
            ]
          },
          "metadata": {},
          "execution_count": 45
        }
      ]
    },
    {
      "cell_type": "code",
      "source": [
        "def forward_prop(params):\n",
        "  W1 = params[:i_weights].reshape((n_inputs, n_hidden))\n",
        "  b1 = params[i_weights:i_weights+i_bias].reshape((n_hidden,))\n",
        "  W2 = params[i_weights + i_bias: i_weights + i_bias + h_weights].reshape((n_hidden, n_classes))\n",
        "  b2 = params[i_weights + i_bias+ h_weights:].reshape((n_classes,))\n",
        "\n",
        "  #Melakukan Forward Propagation\n",
        "  z1 = X_train.dot(W1) + b1\n",
        "  a1 = np.where(z1 > 0, z1, z1)\n",
        "  z2 = a1.dot(W2) + b2\n",
        "\n",
        "  loss = mean_squared_error(y_train, z2)\n",
        "\n",
        "  return loss\n"
      ],
      "metadata": {
        "id": "R0v6bHGlBD2t"
      },
      "execution_count": null,
      "outputs": []
    },
    {
      "cell_type": "code",
      "source": [
        "def f(x):\n",
        "  n_particles = x.shape[0]\n",
        "  j = [forward_prop(x[i]) for i in range(n_particles)]\n",
        "  return np.array(j)\n"
      ],
      "metadata": {
        "id": "6gvzNN3IRu6M"
      },
      "execution_count": null,
      "outputs": []
    },
    {
      "cell_type": "code",
      "source": [
        "def train_model(options):\n",
        "  optimizer = ps.single.GlobalBestPSO(n_particles = 50, dimensions = n_params, options = options)\n",
        "  #perform optimization\n",
        "  cost, pos = optimizer.optimize(f, iters = 50)\n",
        "\n",
        "  print('\\nModel Run Times:')\n",
        "  return cost, pos, optimizer.cost_history\n"
      ],
      "metadata": {
        "id": "JypkO44lSlLx"
      },
      "execution_count": null,
      "outputs": []
    },
    {
      "cell_type": "code",
      "source": [
        "def predict(X, pos):\n",
        "  W1 = pos[:i_weights].reshape((n_inputs, n_hidden))\n",
        "  b1 = pos[i_weights:i_weights+i_bias].reshape((n_hidden,))\n",
        "  W2 = pos[i_weights + i_bias: i_weights + i_bias + h_weights].reshape((n_hidden, n_classes))\n",
        "  b2 = pos[i_weights + i_bias+ h_weights:].reshape((n_classes,))\n",
        "\n",
        "  #Melakukan Forward Propagation\n",
        "  z1 = X.dot(W1) + b1\n",
        "  a1 = np.where(z1 > 0, z1, z1)\n",
        "  z2 = a1.dot(W2) + b2\n",
        "\n",
        "  y_pred = z2 \n",
        "\n",
        "  return y_pred"
      ],
      "metadata": {
        "id": "Gu79aP_GTozo"
      },
      "execution_count": null,
      "outputs": []
    },
    {
      "cell_type": "code",
      "source": [
        "def plot_history(history):\n",
        "  plt.style.use('ggplot')\n",
        "  plt.rcParams['ytick.right'] = True\n",
        "  plt.rcParams['ytick.labelright'] = True\n",
        "  plt.rcParams['ytick.left'] = False\n",
        "  plt.rcParams['ytick.labelleft'] = False\n",
        "  plt.rcParams['font.family'] = 'Arial'\n",
        "\n",
        "  plt.ylim([min(history)-0.1, max(history)+0.1])\n",
        "  plt.title('Cost History')\n",
        "  plt.plot(history)"
      ],
      "metadata": {
        "id": "oC1OT6ryUIJt"
      },
      "execution_count": null,
      "outputs": []
    },
    {
      "cell_type": "code",
      "source": [
        "checkpoint_state = np.random.get_state()"
      ],
      "metadata": {
        "id": "Hrkc-7tpU7rL"
      },
      "execution_count": null,
      "outputs": []
    },
    {
      "cell_type": "markdown",
      "source": [
        "### Inisiasi Model"
      ],
      "metadata": {
        "id": "b8bHpT_7VgdK"
      }
    },
    {
      "cell_type": "code",
      "source": [
        "np.random.set_state(checkpoint_state)\n",
        "options = {'c1': 2.05, 'c2': 2.05, 'w' : 0.72984}\n",
        "cost, pos, history = train_model(options)"
      ],
      "metadata": {
        "colab": {
          "base_uri": "https://localhost:8080/"
        },
        "id": "sIatTB1EVcvz",
        "outputId": "44ac6ce3-d3ce-4a0f-9a60-14d0d28571c9"
      },
      "execution_count": null,
      "outputs": [
        {
          "output_type": "stream",
          "name": "stderr",
          "text": [
            "2022-12-29 00:07:10,307 - pyswarms.single.global_best - INFO - Optimize for 50 iters with {'c1': 2.05, 'c2': 2.05, 'w': 0.72984}\n",
            "pyswarms.single.global_best: 100%|██████████|50/50, best_cost=0.236\n",
            "2022-12-29 00:07:11,180 - pyswarms.single.global_best - INFO - Optimization finished | best cost: 0.2356635023107036, best pos: [ 1.48880777 -0.11815443  0.04557798  0.22365318  1.13981763  0.86108704\n",
            "  0.51044842 -0.43108388]\n"
          ]
        },
        {
          "output_type": "stream",
          "name": "stdout",
          "text": [
            "\n",
            "Model Run Times:\n"
          ]
        }
      ]
    },
    {
      "cell_type": "code",
      "source": [
        "plot_history(history)"
      ],
      "metadata": {
        "colab": {
          "base_uri": "https://localhost:8080/",
          "height": 337
        },
        "id": "TcLOzwgpV3h-",
        "outputId": "3defde3d-0aa1-417b-899b-f9316bd0d9d1"
      },
      "execution_count": null,
      "outputs": [
        {
          "output_type": "stream",
          "name": "stderr",
          "text": [
            "2022-12-29 00:07:11,217 - matplotlib.font_manager - WARNING - findfont: Font family ['Arial'] not found. Falling back to DejaVu Sans.\n",
            "2022-12-29 00:07:11,230 - matplotlib.font_manager - WARNING - findfont: Font family ['Arial'] not found. Falling back to DejaVu Sans.\n"
          ]
        },
        {
          "output_type": "display_data",
          "data": {
            "text/plain": [
              "<Figure size 432x288 with 1 Axes>"
            ],
            "image/png": "[encoded data removed]"
          },
          "metadata": {}
        }
      ]
    },
    {
      "cell_type": "code",
      "source": [
        "print(f'MSE on training set: {mean_squared_error(predict(X_train, pos),y_train)}')"
      ],
      "metadata": {
        "colab": {
          "base_uri": "https://localhost:8080/"
        },
        "id": "2h1cIQ7omMMB",
        "outputId": "1d3ca400-9015-418f-8684-f1bb9ea58617"
      },
      "execution_count": null,
      "outputs": [
        {
          "output_type": "stream",
          "name": "stdout",
          "text": [
            "MSE on training set: 0.2356635023107036\n"
          ]
        }
      ]
    },
    {
      "cell_type": "code",
      "source": [
        "print(f'MSE on test set: {mean_squared_error(predict(X_test, pos),y_test)}')"
      ],
      "metadata": {
        "colab": {
          "base_uri": "https://localhost:8080/"
        },
        "id": "t4xnMVt1Z_yP",
        "outputId": "a2cf308b-9be7-472b-ad34-19c2e9b6c314"
      },
      "execution_count": null,
      "outputs": [
        {
          "output_type": "stream",
          "name": "stdout",
          "text": [
            "MSE on test set: 0.24123324648678804\n"
          ]
        }
      ]
    },
    {
      "cell_type": "code",
      "source": [
        "y_test.mean()"
      ],
      "metadata": {
        "colab": {
          "base_uri": "https://localhost:8080/"
        },
        "id": "MByJ6BLS07cE",
        "outputId": "65b7fbef-0828-4ae7-8e7d-38ca15e57a17"
      },
      "execution_count": null,
      "outputs": [
        {
          "output_type": "execute_result",
          "data": {
            "text/plain": [
              "-0.00554378343902863"
            ]
          },
          "metadata": {},
          "execution_count": 56
        }
      ]
    },
    {
      "cell_type": "code",
      "source": [
        "y_test.var()"
      ],
      "metadata": {
        "colab": {
          "base_uri": "https://localhost:8080/"
        },
        "id": "u0ltCht-0_NK",
        "outputId": "d5192ee9-d3ef-4bd3-899a-c0c2729d4cf4"
      },
      "execution_count": null,
      "outputs": [
        {
          "output_type": "execute_result",
          "data": {
            "text/plain": [
              "1.0043554105732906"
            ]
          },
          "metadata": {},
          "execution_count": 57
        }
      ]
    },
    {
      "cell_type": "code",
      "source": [
        "X_train_ish = predict(X_test, pos)\n",
        "X_train_ish"
      ],
      "metadata": {
        "colab": {
          "base_uri": "https://localhost:8080/"
        },
        "id": "5OjiMfn7SvpL",
        "outputId": "8d5bfb8b-0783-4358-9886-e374d0e81ceb"
      },
      "execution_count": null,
      "outputs": [
        {
          "output_type": "execute_result",
          "data": {
            "text/plain": [
              "array([[-0.34475725],\n",
              "       [-0.13063669],\n",
              "       [ 0.77055434],\n",
              "       [-0.07051701],\n",
              "       [ 0.73792868],\n",
              "       [ 2.12924704],\n",
              "       [ 0.36133237],\n",
              "       [-0.82243935],\n",
              "       [ 1.08678536],\n",
              "       [-1.35484271],\n",
              "       [-0.22334362],\n",
              "       [-0.04341529],\n",
              "       [ 0.84978596],\n",
              "       [ 0.07269779],\n",
              "       [-0.61487819],\n",
              "       [ 0.59495337],\n",
              "       [-0.5835983 ],\n",
              "       [ 0.41901631],\n",
              "       [-1.07221601],\n",
              "       [ 1.16018611],\n",
              "       [-0.96894909],\n",
              "       [ 0.8188298 ],\n",
              "       [-0.03501917],\n",
              "       [ 0.58158217],\n",
              "       [-1.26555134],\n",
              "       [ 0.39849918],\n",
              "       [-1.10976109],\n",
              "       [ 0.09770381],\n",
              "       [-1.21229908],\n",
              "       [-0.73428282],\n",
              "       [-0.0714915 ],\n",
              "       [-1.15805607],\n",
              "       [ 0.36935021],\n",
              "       [-0.83606423],\n",
              "       [ 0.18025611],\n",
              "       [-0.38447264],\n",
              "       [ 0.30639981],\n",
              "       [-0.62513051],\n",
              "       [-1.27647276],\n",
              "       [ 0.03803416],\n",
              "       [-1.09221344],\n",
              "       [ 0.1539314 ],\n",
              "       [ 0.07487947],\n",
              "       [ 0.69299754],\n",
              "       [ 0.25102534],\n",
              "       [ 0.90321087],\n",
              "       [ 1.37864339],\n",
              "       [ 0.67808843],\n",
              "       [-0.08499104],\n",
              "       [ 0.90740569],\n",
              "       [ 0.02958788],\n",
              "       [ 1.88248302],\n",
              "       [-0.95090708],\n",
              "       [ 1.111752  ],\n",
              "       [ 0.79966922],\n",
              "       [-1.2740122 ],\n",
              "       [ 1.14757586],\n",
              "       [-0.25741334],\n",
              "       [ 1.05001786],\n",
              "       [-0.88481625],\n",
              "       [ 0.84390436],\n",
              "       [-0.51470478],\n",
              "       [-0.15052034],\n",
              "       [-0.29960217],\n",
              "       [-0.10966306],\n",
              "       [-0.64624444],\n",
              "       [-0.01844487],\n",
              "       [ 0.1698868 ],\n",
              "       [-0.76331952],\n",
              "       [ 0.93619645],\n",
              "       [ 1.52629159],\n",
              "       [-0.65634244],\n",
              "       [ 0.7520337 ],\n",
              "       [-0.52666601],\n",
              "       [-0.55076227],\n",
              "       [-0.432576  ],\n",
              "       [-0.70971285],\n",
              "       [-0.03401381],\n",
              "       [ 0.01746855],\n",
              "       [-0.44051999],\n",
              "       [-0.38658464],\n",
              "       [-0.53202051],\n",
              "       [-0.07295542],\n",
              "       [-1.29641622],\n",
              "       [ 0.4099511 ],\n",
              "       [ 0.33089746],\n",
              "       [-0.74662175],\n",
              "       [-0.91265353],\n",
              "       [-0.64815139],\n",
              "       [ 1.06104342],\n",
              "       [-0.90529345],\n",
              "       [-0.65613362],\n",
              "       [-0.96774949],\n",
              "       [ 1.46997077],\n",
              "       [-1.08031489],\n",
              "       [-1.08460836],\n",
              "       [ 0.66806065],\n",
              "       [-1.07602556],\n",
              "       [ 1.49415913],\n",
              "       [ 1.14914058],\n",
              "       [ 0.49642788],\n",
              "       [-1.10025835],\n",
              "       [ 0.73508547],\n",
              "       [ 0.19197613],\n",
              "       [ 0.53492965],\n",
              "       [-0.33876773],\n",
              "       [-0.13696454],\n",
              "       [ 0.7685993 ],\n",
              "       [ 0.95877259],\n",
              "       [-1.11839406],\n",
              "       [-0.12415946],\n",
              "       [-1.180199  ],\n",
              "       [ 0.21175943],\n",
              "       [ 0.74519163],\n",
              "       [ 0.6552851 ],\n",
              "       [ 0.01824386],\n",
              "       [-0.30325854],\n",
              "       [ 0.85240838],\n",
              "       [ 0.08363494],\n",
              "       [ 0.90945408],\n",
              "       [ 0.2577881 ],\n",
              "       [-0.67474967],\n",
              "       [ 0.61655177],\n",
              "       [ 0.3332431 ],\n",
              "       [ 0.54776617],\n",
              "       [-1.23990975],\n",
              "       [ 0.05703666],\n",
              "       [ 0.18934083],\n",
              "       [-0.55710792],\n",
              "       [ 0.34137264],\n",
              "       [-0.42028022],\n",
              "       [-0.58139351],\n",
              "       [ 1.02574136],\n",
              "       [-0.50176583],\n",
              "       [-0.80894908],\n",
              "       [-0.93701088],\n",
              "       [-0.81220159],\n",
              "       [-0.88470776],\n",
              "       [ 0.15336644],\n",
              "       [ 0.6306871 ],\n",
              "       [-0.49347386],\n",
              "       [-0.58220064],\n",
              "       [-0.62845821],\n",
              "       [ 0.53809132],\n",
              "       [ 0.44808388],\n",
              "       [ 0.15035929],\n",
              "       [-0.59675534],\n",
              "       [-1.27417615],\n",
              "       [-0.99925773],\n",
              "       [ 0.84659155],\n",
              "       [ 0.70763084],\n",
              "       [ 0.66501241],\n",
              "       [ 0.37712417],\n",
              "       [-1.3905914 ],\n",
              "       [ 2.21282572],\n",
              "       [ 1.8614064 ],\n",
              "       [ 1.38080878],\n",
              "       [-0.09045724],\n",
              "       [ 0.22220393],\n",
              "       [-1.02256827],\n",
              "       [ 2.03753825],\n",
              "       [-0.56202732],\n",
              "       [-0.66715918],\n",
              "       [-0.22225914],\n",
              "       [ 1.70509077],\n",
              "       [ 0.31826185],\n",
              "       [ 0.06533941],\n",
              "       [ 2.45056977],\n",
              "       [ 0.14117365],\n",
              "       [ 0.36025812],\n",
              "       [-1.1607088 ],\n",
              "       [-1.23833413],\n",
              "       [-1.20123073],\n",
              "       [-0.7412809 ],\n",
              "       [-0.62435728],\n",
              "       [ 0.50442469],\n",
              "       [ 0.73197038],\n",
              "       [ 0.0399572 ],\n",
              "       [-0.18820401],\n",
              "       [-1.32538664],\n",
              "       [-0.4319728 ],\n",
              "       [-0.10422681],\n",
              "       [-1.28621406],\n",
              "       [ 0.17814468],\n",
              "       [ 0.39666626],\n",
              "       [ 0.01086012],\n",
              "       [ 1.04156231],\n",
              "       [-1.25330836],\n",
              "       [-1.15523237],\n",
              "       [-1.25273054],\n",
              "       [ 0.722603  ],\n",
              "       [ 0.29125724],\n",
              "       [-1.10142387],\n",
              "       [-1.28180396],\n",
              "       [-0.16724025],\n",
              "       [ 0.39439124],\n",
              "       [-1.39328938],\n",
              "       [ 0.27462349],\n",
              "       [-0.91771493],\n",
              "       [-0.08106449],\n",
              "       [ 2.14841519],\n",
              "       [ 1.05115631],\n",
              "       [ 0.54128024],\n",
              "       [ 0.71010766],\n",
              "       [-1.24655757],\n",
              "       [-1.15764597],\n",
              "       [-0.82373759],\n",
              "       [ 0.90369157],\n",
              "       [ 0.14901236],\n",
              "       [ 0.20862599],\n",
              "       [ 0.14534482],\n",
              "       [-1.237509  ],\n",
              "       [-0.73089208],\n",
              "       [ 0.53620804],\n",
              "       [ 0.86111972],\n",
              "       [-0.98519093],\n",
              "       [ 1.84278011],\n",
              "       [-0.57995234],\n",
              "       [-0.78122879],\n",
              "       [-0.36738905],\n",
              "       [ 0.3077704 ],\n",
              "       [-0.66802424],\n",
              "       [ 0.51688349],\n",
              "       [ 0.68211875],\n",
              "       [-1.43975351],\n",
              "       [-0.34337589],\n",
              "       [ 1.0706278 ],\n",
              "       [ 0.32253166],\n",
              "       [ 1.0295278 ],\n",
              "       [ 0.69056881],\n",
              "       [-0.6647202 ],\n",
              "       [ 0.33277147],\n",
              "       [-0.47871052],\n",
              "       [ 0.3812429 ],\n",
              "       [-0.21919802],\n",
              "       [-0.61697561],\n",
              "       [ 2.02662763],\n",
              "       [-1.20187995],\n",
              "       [-0.95014957],\n",
              "       [-1.17196476],\n",
              "       [-1.43319202],\n",
              "       [ 0.77569831],\n",
              "       [ 0.43598444],\n",
              "       [-0.12637389],\n",
              "       [-1.29427069],\n",
              "       [-1.02467268],\n",
              "       [ 1.9791076 ],\n",
              "       [ 0.33483499],\n",
              "       [-0.57043916],\n",
              "       [ 0.53277413],\n",
              "       [ 0.20283567],\n",
              "       [ 0.47248062],\n",
              "       [ 1.08545797],\n",
              "       [-0.80267612],\n",
              "       [ 0.48189496],\n",
              "       [ 0.98110276],\n",
              "       [-0.57179951],\n",
              "       [-1.05635513],\n",
              "       [-1.31138081],\n",
              "       [-0.32593993],\n",
              "       [ 2.79357894],\n",
              "       [ 1.74528632],\n",
              "       [-1.14126384],\n",
              "       [ 0.71428415],\n",
              "       [-0.98067991],\n",
              "       [-0.3796886 ],\n",
              "       [-1.08814109],\n",
              "       [-0.58843478],\n",
              "       [-0.06732468],\n",
              "       [ 0.36652651],\n",
              "       [-0.68425149],\n",
              "       [ 0.60254502],\n",
              "       [ 0.60862521],\n",
              "       [ 0.32966718],\n",
              "       [ 0.66150125],\n",
              "       [ 0.27256771],\n",
              "       [ 0.99128277],\n",
              "       [ 0.98718184],\n",
              "       [-1.23716366],\n",
              "       [-0.62646663],\n",
              "       [-0.57519309],\n",
              "       [-1.38940429],\n",
              "       [ 0.66546738],\n",
              "       [ 1.31635831],\n",
              "       [ 0.87762324],\n",
              "       [ 1.26842648],\n",
              "       [ 1.16472411],\n",
              "       [-0.47866564],\n",
              "       [ 0.83295057],\n",
              "       [-1.00293777],\n",
              "       [ 0.19215051],\n",
              "       [-1.11557207],\n",
              "       [-0.1650226 ],\n",
              "       [-1.14963135],\n",
              "       [ 0.8908509 ],\n",
              "       [ 1.01859711],\n",
              "       [-0.4299585 ],\n",
              "       [ 0.80869126],\n",
              "       [-0.52557394],\n",
              "       [ 0.76730104],\n",
              "       [ 0.99393436],\n",
              "       [-0.56994444],\n",
              "       [-0.07824079],\n",
              "       [ 0.03822142],\n",
              "       [ 1.03402632],\n",
              "       [ 0.29431989]])"
            ]
          },
          "metadata": {},
          "execution_count": 58
        }
      ]
    },
    {
      "cell_type": "code",
      "source": [
        "y_testish = np.concatenate((X_train_ish, y_test), axis = 1)"
      ],
      "metadata": {
        "id": "BehSAJMMOtal"
      },
      "execution_count": null,
      "outputs": []
    },
    {
      "cell_type": "code",
      "source": [
        "y_testish"
      ],
      "metadata": {
        "colab": {
          "base_uri": "https://localhost:8080/"
        },
        "id": "pupsmWFi2KJ6",
        "outputId": "f5e6782a-45ee-442c-f8de-f0c6efbe3b90"
      },
      "execution_count": null,
      "outputs": [
        {
          "output_type": "execute_result",
          "data": {
            "text/plain": [
              "array([[-0.34475725, -0.54996954],\n",
              "       [-0.13063669, -0.33740437],\n",
              "       [ 0.77055434,  0.66551595],\n",
              "       [-0.07051701, -0.35423739],\n",
              "       [ 0.73792868,  0.78886806],\n",
              "       [ 2.12924704,  2.53316251],\n",
              "       [ 0.36133237,  0.11131035],\n",
              "       [-0.82243935, -0.77956941],\n",
              "       [ 1.08678536,  1.27536179],\n",
              "       [-1.35484271, -1.44354983],\n",
              "       [-0.22334362, -0.40790987],\n",
              "       [-0.04341529, -0.38131506],\n",
              "       [ 0.84978596,  0.99866196],\n",
              "       [ 0.07269779, -0.25565775],\n",
              "       [-0.61487819, -0.7505508 ],\n",
              "       [ 0.59495337,  0.5497432 ],\n",
              "       [-0.5835983 , -0.69029334],\n",
              "       [ 0.41901631,  0.29873207],\n",
              "       [-1.07221601, -1.26755822],\n",
              "       [ 1.16018611,  1.24241598],\n",
              "       [-0.96894909, -1.11619045],\n",
              "       [ 0.8188298 ,  0.81137225],\n",
              "       [-0.03501917, -0.30000004],\n",
              "       [ 0.58158217,  0.49788268],\n",
              "       [-1.26555134,  0.73547846],\n",
              "       [ 0.39849918,  0.16962178],\n",
              "       [-1.10976109, -1.15239917],\n",
              "       [ 0.09770381, -0.12112685],\n",
              "       [-1.21229908, -1.28110642],\n",
              "       [-0.73428282, -0.93439379],\n",
              "       [-0.0714915 ,  2.42502854],\n",
              "       [-1.15805607, -1.11417846],\n",
              "       [ 0.36935021,  0.12803413],\n",
              "       [-0.83606423, -0.97833315],\n",
              "       [ 0.18025611, -0.13681077],\n",
              "       [-0.38447264, -0.65439806],\n",
              "       [ 0.30639981,  0.05040255],\n",
              "       [-0.62513051,  2.14277015],\n",
              "       [-1.27647276, -1.34332647],\n",
              "       [ 0.03803416, -0.25801089],\n",
              "       [-1.09221344, -1.23195301],\n",
              "       [ 0.1539314 , -0.05162318],\n",
              "       [ 0.07487947, -0.09631599],\n",
              "       [ 0.69299754,  0.50332985],\n",
              "       [ 0.25102534,  0.06679224],\n",
              "       [ 0.90321087,  1.01646495],\n",
              "       [ 1.37864339,  2.01680444],\n",
              "       [ 0.67808843,  0.54969676],\n",
              "       [-0.08499104, -0.28281706],\n",
              "       [ 0.90740569,  0.90140718],\n",
              "       [ 0.02958788, -0.2357125 ],\n",
              "       [ 1.88248302,  2.3941746 ],\n",
              "       [-0.95090708, -0.98754139],\n",
              "       [ 1.111752  ,  1.31987308],\n",
              "       [ 0.79966922,  0.65285349],\n",
              "       [-1.2740122 , -1.22024986],\n",
              "       [ 1.14757586,  1.24929278],\n",
              "       [-0.25741334, -0.5795081 ],\n",
              "       [ 1.05001786,  1.14608291],\n",
              "       [-0.88481625, -1.01557588],\n",
              "       [ 0.84390436,  0.81022037],\n",
              "       [-0.51470478,  2.27914631],\n",
              "       [-0.15052034, -0.39669833],\n",
              "       [-0.29960217, -0.39651321],\n",
              "       [-0.10966306, -0.36294052],\n",
              "       [-0.64624444, -0.84457555],\n",
              "       [-0.01844487, -0.31563008],\n",
              "       [ 0.1698868 , -0.05632503],\n",
              "       [-0.76331952, -0.69702692],\n",
              "       [ 0.93619645,  0.86675456],\n",
              "       [ 1.52629159,  1.55272586],\n",
              "       [-0.65634244, -0.87010001],\n",
              "       [ 0.7520337 ,  0.77252933],\n",
              "       [-0.52666601, -0.73040436],\n",
              "       [-0.55076227, -0.82590278],\n",
              "       [-0.432576  , -0.68053532],\n",
              "       [-0.70971285, -0.74365574],\n",
              "       [-0.03401381, -0.29381521],\n",
              "       [ 0.01746855, -0.16703918],\n",
              "       [-0.44051999, -0.700644  ],\n",
              "       [-0.38658464, -0.58314229],\n",
              "       [-0.53202051, -0.7667572 ],\n",
              "       [-0.07295542, -0.27992579],\n",
              "       [-1.29641622, -1.34468034],\n",
              "       [ 0.4099511 ,  0.1752071 ],\n",
              "       [ 0.33089746,  0.17497514],\n",
              "       [-0.74662175, -0.99799684],\n",
              "       [-0.91265353, -1.00781632],\n",
              "       [-0.64815139, -0.93601416],\n",
              "       [ 1.06104342,  1.18342038],\n",
              "       [-0.90529345, -1.13022625],\n",
              "       [-0.65613362, -0.77082786],\n",
              "       [-0.96774949, -1.01479706],\n",
              "       [ 1.46997077,  1.78391463],\n",
              "       [-1.08031489, -1.25798852],\n",
              "       [-1.08460836, -1.09475181],\n",
              "       [ 0.66806065,  0.62152825],\n",
              "       [-1.07602556, -1.23085409],\n",
              "       [ 1.49415913,  1.91664006],\n",
              "       [ 1.14914058,  1.21304171],\n",
              "       [ 0.49642788,  0.33518083],\n",
              "       [-1.10025835, -1.25934238],\n",
              "       [ 0.73508547,  0.630039  ],\n",
              "       [ 0.19197613, -0.0552701 ],\n",
              "       [ 0.53492965,  0.39669614],\n",
              "       [-0.33876773, -0.55249385],\n",
              "       [-0.13696454, -0.42736576],\n",
              "       [ 0.7685993 ,  0.71020507],\n",
              "       [ 0.95877259,  1.12960392],\n",
              "       [-1.11839406, -0.95126401],\n",
              "       [-0.12415946, -0.48169959],\n",
              "       [-1.180199  , -1.16728483],\n",
              "       [ 0.21175943, -0.0534825 ],\n",
              "       [ 0.74519163,  0.64915528],\n",
              "       [ 0.6552851 ,  0.49435996],\n",
              "       [ 0.01824386, -0.19901665],\n",
              "       [-0.30325854, -0.60502569],\n",
              "       [ 0.85240838,  0.89154272],\n",
              "       [ 0.08363494, -0.19971218],\n",
              "       [ 0.90945408,  0.94568421],\n",
              "       [ 0.2577881 ,  0.01449239],\n",
              "       [-0.67474967, -0.79203844],\n",
              "       [ 0.61655177,  0.39710246],\n",
              "       [ 0.3332431 ,  0.15584162],\n",
              "       [ 0.54776617,  0.34404101],\n",
              "       [-1.23990975, -1.3408444 ],\n",
              "       [ 0.05703666, -0.05573646],\n",
              "       [ 0.18934083, -0.07787615],\n",
              "       [-0.55710792, -0.82633355],\n",
              "       [ 0.34137264,  0.09777871],\n",
              "       [-0.42028022, -0.5760838 ],\n",
              "       [-0.58139351, -0.73654725],\n",
              "       [ 1.02574136,  1.13838599],\n",
              "       [-0.50176583, -0.80300725],\n",
              "       [-0.80894908, -1.01042565],\n",
              "       [-0.93701088, -1.0379246 ],\n",
              "       [-0.81220159, -0.95074475],\n",
              "       [-0.88470776, -0.95944477],\n",
              "       [ 0.15336644, -0.13835736],\n",
              "       [ 0.6306871 ,  0.44787198],\n",
              "       [-0.49347386, -0.76813372],\n",
              "       [-0.58220064, -0.61432143],\n",
              "       [-0.62845821, -0.79145528],\n",
              "       [ 0.53809132,  0.47865589],\n",
              "       [ 0.44808388,  0.36299838],\n",
              "       [ 0.15035929,  2.27944   ],\n",
              "       [-0.59675534, -0.90435883],\n",
              "       [-1.27417615, -1.21696448],\n",
              "       [-0.99925773,  0.5907071 ],\n",
              "       [ 0.84659155,  0.87553553],\n",
              "       [ 0.70763084,  0.7089203 ],\n",
              "       [ 0.66501241,  0.51789207],\n",
              "       [ 0.37712417,  0.11749673],\n",
              "       [-1.3905914 , -1.3426423 ],\n",
              "       [ 2.21282572,  1.65004042],\n",
              "       [ 1.8614064 ,  1.71214991],\n",
              "       [ 1.38080878,  1.4162476 ],\n",
              "       [-0.09045724, -0.36758752],\n",
              "       [ 0.22220393,  0.08770747],\n",
              "       [-1.02256827,  1.08207979],\n",
              "       [ 2.03753825,  2.43035161],\n",
              "       [-0.56202732, -0.58702352],\n",
              "       [-0.66715918, -0.72308576],\n",
              "       [-0.22225914, -0.53042651],\n",
              "       [ 1.70509077,  2.09728096],\n",
              "       [ 0.31826185,  0.13097947],\n",
              "       [ 0.06533941, -0.17770867],\n",
              "       [ 2.45056977,  2.42899674],\n",
              "       [ 0.14117365,  1.01262053],\n",
              "       [ 0.36025812,  0.31761504],\n",
              "       [-1.1607088 , -1.28887131],\n",
              "       [-1.23833413, -1.21782786],\n",
              "       [-1.20123073, -1.0942376 ],\n",
              "       [-0.7412809 , -0.99442087],\n",
              "       [-0.62435728, -0.74901237],\n",
              "       [ 0.50442469,  0.29458751],\n",
              "       [ 0.73197038,  0.5451217 ],\n",
              "       [ 0.0399572 , -0.32045222],\n",
              "       [-0.18820401, -0.26162745],\n",
              "       [-1.32538664, -1.33821588],\n",
              "       [-0.4319728 , -0.70006378],\n",
              "       [-0.10422681, -0.49159548],\n",
              "       [-1.28621406, -1.321116  ],\n",
              "       [ 0.17814468, -0.13667529],\n",
              "       [ 0.39666626,  0.20540617],\n",
              "       [ 0.01086012,  1.20831918],\n",
              "       [ 1.04156231,  1.26236956],\n",
              "       [-1.25330836, -1.24172581],\n",
              "       [-1.15523237, -1.14016472],\n",
              "       [-1.25273054, -1.34171474],\n",
              "       [ 0.722603  ,  0.62523085],\n",
              "       [ 0.29125724,  0.2048719 ],\n",
              "       [-1.10142387, -1.2594215 ],\n",
              "       [-1.28180396, -1.22077881],\n",
              "       [-0.16724025, -0.30406348],\n",
              "       [ 0.39439124,  0.11866891],\n",
              "       [-1.39328938, -1.42357051],\n",
              "       [ 0.27462349,  0.01563526],\n",
              "       [-0.91771493, -1.15952427],\n",
              "       [-0.08106449, -0.28025405],\n",
              "       [ 2.14841519,  2.36246163],\n",
              "       [ 1.05115631,  1.18938016],\n",
              "       [ 0.54128024,  0.51462711],\n",
              "       [ 0.71010766,  0.57103842],\n",
              "       [-1.24655757, -1.34129568],\n",
              "       [-1.15764597, -1.11415062],\n",
              "       [-0.82373759, -0.64911478],\n",
              "       [ 0.90369157,  0.81427902],\n",
              "       [ 0.14901236, -0.07236446],\n",
              "       [ 0.20862599,  0.07177153],\n",
              "       [ 0.14534482, -0.12132838],\n",
              "       [-1.237509  ,  1.81148809],\n",
              "       [-0.73089208, -1.01658739],\n",
              "       [ 0.53620804,  0.39137321],\n",
              "       [ 0.86111972,  0.75029278],\n",
              "       [-0.98519093, -1.08600226],\n",
              "       [ 1.84278011,  2.51710296],\n",
              "       [-0.57995234, -0.76886971],\n",
              "       [-0.78122879, -0.86789711],\n",
              "       [-0.36738905, -0.64179948],\n",
              "       [ 0.3077704 ,  0.20450608],\n",
              "       [-0.66802424, -0.97555041],\n",
              "       [ 0.51688349,  0.44528102],\n",
              "       [ 0.68211875,  0.62644336],\n",
              "       [-1.43975351, -1.32640442],\n",
              "       [-0.34337589, -0.63062082],\n",
              "       [ 1.0706278 ,  1.33995314],\n",
              "       [ 0.32253166,  0.25957206],\n",
              "       [ 1.0295278 ,  1.04465413],\n",
              "       [ 0.69056881,  0.65113726],\n",
              "       [-0.6647202 , -0.84582977],\n",
              "       [ 0.33277147,  0.06042193],\n",
              "       [-0.47871052, -0.68638645],\n",
              "       [ 0.3812429 ,  0.20958652],\n",
              "       [-0.21919802, -0.55034942],\n",
              "       [-0.61697561, -0.79067579],\n",
              "       [ 2.02662763,  2.47203683],\n",
              "       [-1.20187995, -1.33430093],\n",
              "       [-0.95014957, -1.19565931],\n",
              "       [-1.17196476, -1.33227014],\n",
              "       [-1.43319202, -1.32595899],\n",
              "       [ 0.77569831,  0.75057098],\n",
              "       [ 0.43598444,  0.36445907],\n",
              "       [-0.12637389, -0.3033635 ],\n",
              "       [-1.29427069, -1.29907365],\n",
              "       [-1.02467268, -1.11032395],\n",
              "       [ 1.9791076 ,  2.0384695 ],\n",
              "       [ 0.33483499,  0.12708511],\n",
              "       [-0.57043916, -0.74727333],\n",
              "       [ 0.53277413,  0.43669606],\n",
              "       [ 0.20283567,  0.09150701],\n",
              "       [ 0.47248062,  0.41532856],\n",
              "       [ 1.08545797,  1.22883879],\n",
              "       [-0.80267612, -0.97296988],\n",
              "       [ 0.48189496,  0.27632097],\n",
              "       [ 0.98110276,  0.97719305],\n",
              "       [-0.57179951, -0.72729308],\n",
              "       [-1.05635513, -0.96992426],\n",
              "       [-1.31138081, -1.32282444],\n",
              "       [-0.32593993, -0.53233028],\n",
              "       [ 2.79357894,  2.48855685],\n",
              "       [ 1.74528632,  1.7170953 ],\n",
              "       [-1.14126384, -1.19378357],\n",
              "       [ 0.71428415,  0.73667637],\n",
              "       [-0.98067991, -1.04353151],\n",
              "       [-0.3796886 , -0.70567866],\n",
              "       [-1.08814109, -1.12805973],\n",
              "       [-0.58843478, -0.89235511],\n",
              "       [-0.06732468, -0.16144926],\n",
              "       [ 0.36652651,  0.19752237],\n",
              "       [-0.68425149, -0.93099742],\n",
              "       [ 0.60254502,  0.5445685 ],\n",
              "       [ 0.60862521,  0.57825453],\n",
              "       [ 0.32966718,  0.05198205],\n",
              "       [ 0.66150125,  0.61769152],\n",
              "       [ 0.27256771,  1.65175287],\n",
              "       [ 0.99128277,  1.18531564],\n",
              "       [ 0.98718184,  1.14287273],\n",
              "       [-1.23716366, -1.36353941],\n",
              "       [-0.62646663,  2.31254473],\n",
              "       [-0.57519309,  0.92990839],\n",
              "       [-1.38940429, -1.42330677],\n",
              "       [ 0.66546738,  0.54106984],\n",
              "       [ 1.31635831,  1.78289991],\n",
              "       [ 0.87762324,  1.08269666],\n",
              "       [ 1.26842648,  1.93633401],\n",
              "       [ 1.16472411,  1.58626263],\n",
              "       [-0.47866564, -0.56539501],\n",
              "       [ 0.83295057,  0.87460951],\n",
              "       [-1.00293777, -1.15101299],\n",
              "       [ 0.19215051, -0.07457062],\n",
              "       [-1.11557207, -1.30018068],\n",
              "       [-0.1650226 , -0.54667172],\n",
              "       [-1.14963135, -1.30249279],\n",
              "       [ 0.8908509 ,  0.81953831],\n",
              "       [ 1.01859711,  1.26081057],\n",
              "       [-0.4299585 , -0.59988923],\n",
              "       [ 0.80869126,  0.65346595],\n",
              "       [-0.52557394, -0.70128329],\n",
              "       [ 0.76730104,  0.71740365],\n",
              "       [ 0.99393436,  1.04036088],\n",
              "       [-0.56994444, -0.86822813],\n",
              "       [-0.07824079, -0.24384863],\n",
              "       [ 0.03822142, -0.15438136],\n",
              "       [ 1.03402632,  0.98078576],\n",
              "       [ 0.29431989,  0.09458453]])"
            ]
          },
          "metadata": {},
          "execution_count": 60
        }
      ]
    },
    {
      "cell_type": "code",
      "source": [
        "y_test_inverse.mean()"
      ],
      "metadata": {
        "colab": {
          "base_uri": "https://localhost:8080/"
        },
        "id": "5WLjggD722JV",
        "outputId": "35c8822c-5efe-4ceb-c987-db8c79d437de"
      },
      "execution_count": null,
      "outputs": [
        {
          "output_type": "execute_result",
          "data": {
            "text/plain": [
              "7967.72590748366"
            ]
          },
          "metadata": {},
          "execution_count": 61
        }
      ]
    },
    {
      "cell_type": "code",
      "source": [
        "y_test_inverse.std()"
      ],
      "metadata": {
        "colab": {
          "base_uri": "https://localhost:8080/"
        },
        "id": "ZeLEG2RK3_CC",
        "outputId": "29e2dc6b-f9d4-49b4-8fcc-389884820d7b"
      },
      "execution_count": null,
      "outputs": [
        {
          "output_type": "execute_result",
          "data": {
            "text/plain": [
              "4753.642835106251"
            ]
          },
          "metadata": {},
          "execution_count": 62
        }
      ]
    },
    {
      "cell_type": "code",
      "source": [
        "y_test_inverse[0]"
      ],
      "metadata": {
        "id": "Cp_PuyCTdkXS",
        "colab": {
          "base_uri": "https://localhost:8080/"
        },
        "outputId": "af9591bc-80e6-4d61-827a-4dad39995a96"
      },
      "execution_count": null,
      "outputs": [
        {
          "output_type": "execute_result",
          "data": {
            "text/plain": [
              "array([5385.3379])"
            ]
          },
          "metadata": {},
          "execution_count": 63
        }
      ]
    },
    {
      "cell_type": "code",
      "source": [
        "5385.3379 - 7967.72590748366"
      ],
      "metadata": {
        "colab": {
          "base_uri": "https://localhost:8080/"
        },
        "id": "7ZzI_MvY4ls0",
        "outputId": "ee76a6fe-d95d-403d-cb4a-9a763bfafe11"
      },
      "execution_count": null,
      "outputs": [
        {
          "output_type": "execute_result",
          "data": {
            "text/plain": [
              "-2582.3880074836597"
            ]
          },
          "metadata": {},
          "execution_count": 64
        }
      ]
    },
    {
      "cell_type": "code",
      "source": [
        "-2582.3880074836597 / 4753.642835106251"
      ],
      "metadata": {
        "colab": {
          "base_uri": "https://localhost:8080/"
        },
        "id": "fI-om5O44sJs",
        "outputId": "24b1183b-c8f8-4b85-a2e8-26290c782253"
      },
      "execution_count": null,
      "outputs": [
        {
          "output_type": "execute_result",
          "data": {
            "text/plain": [
              "-0.5432440124471277"
            ]
          },
          "metadata": {},
          "execution_count": 65
        }
      ]
    },
    {
      "cell_type": "code",
      "source": [
        "-0.54996954 * 4753.642835106251 + 7967.72590748366"
      ],
      "metadata": {
        "colab": {
          "base_uri": "https://localhost:8080/"
        },
        "id": "w-uJQ1b94sD2",
        "outputId": "7661d4ab-0523-4eb2-a247-273185de64b0"
      },
      "execution_count": null,
      "outputs": [
        {
          "output_type": "execute_result",
          "data": {
            "text/plain": [
              "5353.367144135979"
            ]
          },
          "metadata": {},
          "execution_count": 66
        }
      ]
    },
    {
      "cell_type": "code",
      "source": [
        "-0.41363629 * 4753.642835106251 + 7967.72590748366"
      ],
      "metadata": {
        "colab": {
          "base_uri": "https://localhost:8080/"
        },
        "id": "10vUC66y5Xtz",
        "outputId": "0ae59b4a-157b-491f-a119-53393cd4da0b"
      },
      "execution_count": null,
      "outputs": [
        {
          "output_type": "execute_result",
          "data": {
            "text/plain": [
              "6001.446721185229"
            ]
          },
          "metadata": {},
          "execution_count": 67
        }
      ]
    },
    {
      "cell_type": "code",
      "source": [
        "for i in range(len(y_testish)):\n",
        "  for j in range(len(y_testish[i])):\n",
        "    y_testish[i][j] = y_testish[i][j]* 4753.642835106251 + 7967.72590748366\n",
        "\n",
        "print (y_testish)"
      ],
      "metadata": {
        "colab": {
          "base_uri": "https://localhost:8080/"
        },
        "id": "1rbx96Fd5sH3",
        "outputId": "32cc4b3e-3159-44df-f7cd-d86f9075cdd4"
      },
      "execution_count": null,
      "outputs": [
        {
          "output_type": "stream",
          "name": "stdout",
          "text": [
            "[[ 6328.87307445  5353.36716362]\n",
            " [ 7346.72574213  6363.82603323]\n",
            " [11630.66600363 11131.35105603]\n",
            " [ 7632.51321738  6283.80789447]\n",
            " [11475.5752743  11717.72289495]\n",
            " [18089.40582667 20009.47571797]\n",
            " [ 9685.37094996  8496.85557428]\n",
            " [ 4058.14300676  4261.9313741 ]\n",
            " [13133.91535641 14030.34035266]\n",
            " [ 1527.28754738  1105.60559843]\n",
            " [ 6906.03008981  6028.66808355]\n",
            " [ 7761.34514842  6155.09029781]\n",
            " [12007.30484176 12715.00816973]\n",
            " [ 8313.30525784  6752.42027265]\n",
            " [ 5044.81458853  4399.87549801]\n",
            " [10795.92172351 10581.00872339]\n",
            " [ 5193.5080406   4686.31790489]\n",
            " [ 9959.57980063  9387.79145521]\n",
            " [ 2870.79396756  1942.20683964]\n",
            " [13482.8363193  13873.72770653]\n",
            " [ 3361.68800778  2661.75515374]\n",
            " [11860.1503272  11824.69980089]\n",
            " [ 7801.25725922  6541.63288388]\n",
            " [10732.35984658 10334.48235897]\n",
            " [ 1951.74685951 11463.92780291]\n",
            " [ 9862.04869638  8774.04725136]\n",
            " [ 2692.31804412  2489.63183988]\n",
            " [ 8432.17494207  7391.93210817]\n",
            " [ 2204.88906162  1877.80354473]\n",
            " [ 4477.20765551  3525.95154346]\n",
            " [ 7627.88084316 19495.44547497]\n",
            " [ 2462.7409883   2671.3194642 ]\n",
            " [ 9723.48488374  8576.3544359 ]\n",
            " [ 3993.37515938  3317.07956231]\n",
            " [ 8824.5990797   7317.3763762 ]\n",
            " [ 6140.08028991  4856.95123456]\n",
            " [ 9424.24118722  8207.32160681]\n",
            " [ 4996.07872059 18153.6898669 ]\n",
            " [ 1899.83033493  1582.03163708]\n",
            " [ 8148.52672329  6741.23429217]\n",
            " [ 2775.73332966  2111.46132638]\n",
            " [ 8699.46081444  7722.32777075]\n",
            " [ 8323.6761548   7509.87411515]\n",
            " [11261.98872163 10360.37626473]\n",
            " [ 9161.01073207  8285.23237127]\n",
            " [12261.26776859 12799.63721702]\n",
            " [14521.30419709 17554.89385986]\n",
            " [11191.11611048 10580.78799427]\n",
            " [ 7563.70886759  6623.3146337 ]\n",
            " [12281.20848704 12252.69371192]\n",
            " [ 8108.37613486  6847.23287454]\n",
            " [16916.37780982 19348.77684349]\n",
            " [ 3447.45326578  3273.30684849]\n",
            " [13252.59781897 14241.9311353 ]\n",
            " [11769.06775617 11071.15820037]\n",
            " [ 1911.52694323  2167.09388337]\n",
            " [13422.89169062 13906.4175637 ]\n",
            " [ 6744.07481773  5212.95137466]\n",
            " [12959.13578874 13415.79470919]\n",
            " [ 3761.6254832   3140.04087906]\n",
            " [11979.34579889 11819.22416538]\n",
            " [ 5521.00320358 18801.97344251]\n",
            " [ 7252.20596493  6081.96371798]\n",
            " [ 6543.52420944  6082.84372815]\n",
            " [ 7446.42686664  6242.43629255]\n",
            " [ 4895.71063925  3952.91541868]\n",
            " [ 7880.04559296  6467.33325781]\n",
            " [ 8775.30705907  7699.97685546]\n",
            " [ 4339.17752398  4654.30887553]\n",
            " [12418.069455   12087.96750435]\n",
            " [15223.17099852 15348.83008944]\n",
            " [ 4847.708366    3831.58124862]\n",
            " [11542.62552345 11640.05440638]\n",
            " [ 5464.1438093   4495.64447582]\n",
            " [ 5349.59878372  4041.67909066]\n",
            " [ 5911.41409097  4732.70404144]\n",
            " [ 4594.00449888  4432.65214357]\n",
            " [ 7806.03640155  6571.03335104]\n",
            " [ 8050.76516391  7173.68131921]\n",
            " [ 5873.65119613  4637.11455324]\n",
            " [ 6130.04060283  5195.67572584]\n",
            " [ 5438.69044374  4322.83602479]\n",
            " [ 7620.92190089  6637.05866674]\n",
            " [ 1805.02624656  1575.59586748]\n",
            " [ 9916.48703319  8800.59788262]\n",
            " [ 9540.69426114  8799.49523921]\n",
            " [ 4418.55277421  3223.60536559]\n",
            " [ 3629.29697762  3176.92709492]\n",
            " [ 4886.64571448  3518.24892402]\n",
            " [13011.54734048 13593.28371993]\n",
            " [ 3664.28420071  2595.03397759]\n",
            " [ 4848.70102039  4303.48557236]\n",
            " [ 3367.39047665  3143.7431152 ]\n",
            " [14955.44193253 16447.81892373]\n",
            " [ 2832.29478804  1987.69778308]\n",
            " [ 2811.88513682  2763.66681496]\n",
            " [11143.4476472  10922.24922596]\n",
            " [ 2852.6847001   2116.68516533]\n",
            " [15070.42472932 17078.74817976]\n",
            " [13430.32979047 13734.09296292]\n",
            " [10327.5667214   9561.05584592]\n",
            " [ 2737.49069966  1981.26201348]\n",
            " [11462.05968466 10962.70629278]\n",
            " [ 8880.31187189  7704.99159054]\n",
            " [10510.59039921  9853.47768184]\n",
            " [ 6357.34512646  5341.36746687]\n",
            " [ 7316.64542476  5936.18173106]\n",
            " [11621.37247081 11343.78717357]\n",
            " [12525.38836621 13337.45947337]\n",
            " [ 2651.28000321  3445.75657086]\n",
            " [ 7377.51615988  5677.89809611]\n",
            " [ 2357.48138313  2418.87074461]\n",
            " [ 8974.35460392  7713.48918556]\n",
            " [11510.10074421 11053.57824101]\n",
            " [11082.71723505 10317.73661036]\n",
            " [ 8054.45071729  7021.67181474]\n",
            " [ 6526.14311426  5091.64987552]\n",
            " [12019.77091882 12205.80157704]\n",
            " [ 8365.29653269  7018.36553807]\n",
            " [12290.94579105 12463.17087732]\n",
            " [ 9193.15846788  8036.61757367]\n",
            " [ 4760.20698934  4202.65806442]\n",
            " [10898.5927887   9855.40917438]\n",
            " [ 9551.84458634  8708.54131303]\n",
            " [10571.61063486  9603.17396825]\n",
            " [ 2073.63783027  1593.830548  ]\n",
            " [ 8238.85780755  7702.77467847]\n",
            " [ 8867.78457939  7597.53048359]\n",
            " [ 5319.43384651  4039.63134579]\n",
            " [ 9590.48951124  8432.53095013]\n",
            " [ 5969.86385852  5229.22925772]\n",
            " [ 5203.98880888  4466.44334133]\n",
            " [12843.73398458 13379.20628973]\n",
            " [ 5582.51035397  4150.51623445]\n",
            " [ 4122.27090596  3164.52327097]\n",
            " [ 3513.51086054  3033.80307744]\n",
            " [ 4106.80963675  3448.22492872]\n",
            " [ 3762.14118233  3406.868159  ]\n",
            " [ 8696.77518494  7310.02441792]\n",
            " [10965.78711596 10096.74933152]\n",
            " [ 5621.92743762  4316.29257146]\n",
            " [ 5200.1519978   5047.46125894]\n",
            " [ 4980.26005721  4205.43018162]\n",
            " [10525.61985468 10243.08507042]\n",
            " [10097.75661036  9693.29057693]\n",
            " [ 8682.48025698 18803.36954291]\n",
            " [ 5130.96415945  3668.72705447]\n",
            " [ 1910.7476049   2182.7114331 ]\n",
            " [ 3217.61154803 10775.73648285]\n",
            " [11992.11977133 12129.7091094 ]\n",
            " [11331.55016041 11337.67981683]\n",
            " [11128.95738516 10429.59982259]\n",
            " [ 9760.43952353  8526.26340744]\n",
            " [ 1357.35106991  1585.2839466 ]\n",
            " [18486.70901846 15811.42871407]\n",
            " [16816.18708056 16106.67508097]\n",
            " [14531.59765379 14700.06116031]\n",
            " [ 7537.7245109   6220.34614328]\n",
            " [ 9024.00401873  8384.65588168]\n",
            " [ 3106.80157461 13111.54675328]\n",
            " [17653.45501998 19520.74943018]\n",
            " [ 5296.04874231  5177.22577806]\n",
            " [ 4796.28946865  4530.43444153]\n",
            " [ 6911.18534275  5446.26771517]\n",
            " [16073.11842095 17937.45049395]\n",
            " [ 9480.62904865  8590.35552691]\n",
            " [ 8278.32614716  7122.9623778 ]\n",
            " [19616.8593411  19514.30885014]\n",
            " [ 8638.81502213 12781.36221899]\n",
            " [ 9680.2643529   9477.55434611]\n",
            " [ 2450.13083312  1840.89202394]\n",
            " [ 2081.12776366  2178.60722443]\n",
            " [ 2257.50405984  2766.11117073]\n",
            " [ 4443.94125908  3240.60426369]\n",
            " [ 4999.75440439  4407.18862201]\n",
            " [10365.58074334  9368.08969022]\n",
            " [11447.25165766 10559.03978723]\n",
            " [ 8157.66815549  6444.41050128]\n",
            " [ 7073.07128698  6724.04247531]\n",
            " [ 1667.31119     1606.32556991]\n",
            " [ 5914.28151971  4639.8727402 ]\n",
            " [ 7472.26890238  5630.85658699]\n",
            " [ 1853.52363686  1687.61231233]\n",
            " [ 8814.56208262  7318.02037408]\n",
            " [ 9853.33565347  8944.15348692]\n",
            " [ 8019.3510228  13711.64372422]\n",
            " [12918.94112394 13968.57994445]\n",
            " [ 2009.94558986  2065.00488722]\n",
            " [ 2476.16384568  2547.79007916]\n",
            " [ 2012.69234489  1589.69326755]\n",
            " [11402.72246464 10939.85008068]\n",
            " [ 9352.25878088  8941.61372406]\n",
            " [ 2731.95020099  1980.88589708]\n",
            " [ 1874.4876836   2164.57947556]\n",
            " [ 7172.72551279  6522.31670584]\n",
            " [ 9842.52098532  8531.83550232]\n",
            " [ 1344.5258415   1200.58015184]\n",
            " [ 9273.18789313  8042.05036618]\n",
            " [ 3605.23689409  2455.7616707 ]\n",
            " [ 7582.37428774  6635.49822963]\n",
            " [18180.52436166 19198.0247183 ]\n",
            " [12964.5475912  13621.61436492]\n",
            " [10540.77883072 10414.07938366]\n",
            " [11343.32411907 10682.23860473]\n",
            " [ 2042.03646748  1591.68529147]\n",
            " [ 2464.69042302  2671.45180145]\n",
            " [ 4051.97160513  4882.06609933]\n",
            " [12263.55286035 11838.51754392]\n",
            " [ 8676.0774674   7623.73110511]\n",
            " [ 8959.45935699  8308.90214931]\n",
            " [ 8658.64326918  7390.97412877]\n",
            " [ 2085.0501274  16578.89329605]\n",
            " [ 4493.32601196  3135.232542  ]\n",
            " [10516.66740132  9828.17435801]\n",
            " [12061.18151356 11534.34981215]\n",
            " [ 3284.48008783  2805.25904578]\n",
            " [16727.64439364 19933.13436009]\n",
            " [ 5210.839637    4312.79392724]\n",
            " [ 4254.04325884  3842.05302885]\n",
            " [ 6221.28959122  4916.8404311 ]\n",
            " [ 9430.75644821  8939.87474942]\n",
            " [ 4792.17728315  3330.30767548]\n",
            " [10424.80540206 10084.43284715]\n",
            " [11210.27480061 10945.61389171]\n",
            " [ 1123.65195901  1662.4730446 ]\n",
            " [ 6335.43959139  4969.97977628]\n",
            " [13057.1080641  14337.3845281 ]\n",
            " [ 9500.92622846  9201.638789  ]\n",
            " [12861.73338072 12933.6385326 ]\n",
            " [11250.44337103 11062.99989181]\n",
            " [ 4807.88347513  3946.95327716]\n",
            " [ 9549.60263813  8254.95019025]\n",
            " [ 5692.10708745  4704.88986751]\n",
            " [ 9780.01849055  8964.02537118]\n",
            " [ 6925.73682023  5351.56134388]\n",
            " [ 5034.84422931  4209.13562472]\n",
            " [17601.58984126 19718.90605239]\n",
            " [ 2254.41789262  1624.93586574]\n",
            " [ 3451.05419931  2283.98861712]\n",
            " [ 2396.62402517  1634.58952013]\n",
            " [ 1154.84291449  1664.59044065]\n",
            " [11655.11860239 11535.67228273]\n",
            " [10040.24021874  9700.23414876]\n",
            " [ 7366.98955805  6525.64417851]\n",
            " [ 1815.22530374  1792.39375275]\n",
            " [ 3096.79794141  2689.64243636]\n",
            " [17375.69658164 17657.8818574 ]\n",
            " [ 9559.41187007  8571.84314361]\n",
            " [ 5256.06188124  4415.45541605]\n",
            " [10500.34384121 10043.62301461]\n",
            " [ 8931.93421572  8402.71753662]\n",
            " [10213.73003903  9942.04953746]\n",
            " [13127.60538899 13809.18661251]\n",
            " [ 4152.09031654  3342.57460228]\n",
            " [10258.48241769  9281.25710991]\n",
            " [12631.53802394 12612.95264624]\n",
            " [ 5249.59527614  4510.43437904]\n",
            " [ 2946.19092868  3357.052378  ]\n",
            " [ 1733.8899063   1679.49098403]\n",
            " [ 6418.32388582  5437.21787143]\n",
            " [21247.40244044 19797.43636165]\n",
            " [16264.19369717 16130.1836591 ]\n",
            " [ 2542.56520989  2292.90517155]\n",
            " [11363.17761759 11469.62226341]\n",
            " [ 3305.92386972  3007.14982342]\n",
            " [ 6162.82193159  4613.18160396]\n",
            " [ 2795.09180104  2605.33283247]\n",
            " [ 5170.5171189   3725.78841285]\n",
            " [ 7647.68841823  7200.2537979 ]\n",
            " [ 9710.06202636  8906.67668913]\n",
            " [ 4715.03869105  3542.0966884 ]\n",
            " [10832.00971514 10556.41007914]\n",
            " [10860.91275653 10716.541413  ]\n",
            " [ 9534.84595699  8214.83000467]\n",
            " [11112.26656129 10904.01078729]\n",
            " [ 9263.41546806 15819.56911376]\n",
            " [12679.93012243 13602.2931259 ]\n",
            " [12660.43577526 13400.53468552]\n",
            " [ 2086.69175664  1485.94657317]\n",
            " [ 4989.72727688 18960.73757871]\n",
            " [ 5233.46338486 12388.17824701]\n",
            " [ 1362.9941704   1201.83387319]\n",
            " [11131.12013594 10539.77867873]\n",
            " [14225.22317523 16442.9953035 ]\n",
            " [12139.63334734 13114.47911833]\n",
            " [13997.37236849 17172.36618864]\n",
            " [13504.40830974 15508.25188316]\n",
            " [ 5692.32040351  5280.03994829]\n",
            " [11927.27541652 12125.30715444]\n",
            " [ 3200.11798144  2496.22124295]\n",
            " [ 8881.14079892  7613.24379117]\n",
            " [ 2664.69474819  1787.13133004]\n",
            " [ 7183.2674066   5369.04379158]\n",
            " [ 2502.7890648   1776.14037288]\n",
            " [12202.51288554 11863.51831102]\n",
            " [12809.77277976 13961.16905825]\n",
            " [ 5923.85676363  5116.06677527]\n",
            " [11811.95531995 11074.06961995]\n",
            " [ 5469.33511611  4634.07560685]\n",
            " [11615.20097927 11378.00665096]\n",
            " [12692.53485519 12913.22993334]\n",
            " [ 5258.41361086  3840.47946324]\n",
            " [ 7595.79714512  6808.55662319]\n",
            " [ 8149.41686576  7233.85207691]\n",
            " [12883.11770434 12630.03111706]\n",
            " [ 9366.81752785  8417.34699157]]\n"
          ]
        }
      ]
    },
    {
      "cell_type": "code",
      "source": [
        "X_test_inverse = scaler.inverse_transform(X_test)"
      ],
      "metadata": {
        "id": "iSQItSiZ8X2C"
      },
      "execution_count": null,
      "outputs": []
    },
    {
      "cell_type": "code",
      "source": [
        "X_test_inverse"
      ],
      "metadata": {
        "colab": {
          "base_uri": "https://localhost:8080/"
        },
        "id": "1CfmnTUc8gqV",
        "outputId": "ee129659-36d2-4345-d280-934dcb62deb3"
      },
      "execution_count": null,
      "outputs": [
        {
          "output_type": "execute_result",
          "data": {
            "text/plain": [
              "array([[34.   ,  0.   , 26.41 ,  1.   ,  0.   ],\n",
              "       [40.   ,  1.   , 29.355,  1.   ,  0.   ],\n",
              "       [53.   ,  0.   , 26.7  ,  2.   ,  0.   ],\n",
              "       ...,\n",
              "       [41.   ,  1.   , 34.2  ,  2.   ,  0.   ],\n",
              "       [57.   ,  0.   , 38.   ,  2.   ,  0.   ],\n",
              "       [50.   ,  1.   , 25.3  ,  0.   ,  0.   ]])"
            ]
          },
          "metadata": {},
          "execution_count": 70
        }
      ]
    },
    {
      "cell_type": "markdown",
      "source": [],
      "metadata": {
        "id": "5ZwSjYHo9Tf7"
      }
    },
    {
      "cell_type": "code",
      "source": [
        "X_overview = np.concatenate((X_test_inverse, y_testish), axis = 1)"
      ],
      "metadata": {
        "id": "Mmvmq9T28igC"
      },
      "execution_count": null,
      "outputs": []
    },
    {
      "cell_type": "code",
      "source": [
        "X_overview"
      ],
      "metadata": {
        "colab": {
          "base_uri": "https://localhost:8080/"
        },
        "id": "1tObjXXG9Rhi",
        "outputId": "1fe06cd0-5e2d-4abc-ad79-e48f79f9e8d0"
      },
      "execution_count": null,
      "outputs": [
        {
          "output_type": "execute_result",
          "data": {
            "text/plain": [
              "array([[3.40000000e+01, 0.00000000e+00, 2.64100000e+01, ...,\n",
              "        0.00000000e+00, 6.32887307e+03, 5.35336716e+03],\n",
              "       [4.00000000e+01, 1.00000000e+00, 2.93550000e+01, ...,\n",
              "        0.00000000e+00, 7.34672574e+03, 6.36382603e+03],\n",
              "       [5.30000000e+01, 0.00000000e+00, 2.67000000e+01, ...,\n",
              "        0.00000000e+00, 1.16306660e+04, 1.11313511e+04],\n",
              "       ...,\n",
              "       [4.10000000e+01, 1.00000000e+00, 3.42000000e+01, ...,\n",
              "        0.00000000e+00, 8.14941687e+03, 7.23385208e+03],\n",
              "       [5.70000000e+01, 0.00000000e+00, 3.80000000e+01, ...,\n",
              "        0.00000000e+00, 1.28831177e+04, 1.26300311e+04],\n",
              "       [5.00000000e+01, 1.00000000e+00, 2.53000000e+01, ...,\n",
              "        0.00000000e+00, 9.36681753e+03, 8.41734699e+03]])"
            ]
          },
          "metadata": {},
          "execution_count": 72
        }
      ]
    },
    {
      "cell_type": "code",
      "source": [
        "x_overview_df = pd.DataFrame(X_overview)"
      ],
      "metadata": {
        "id": "pMjBwe9T9TKG"
      },
      "execution_count": null,
      "outputs": []
    },
    {
      "cell_type": "code",
      "source": [
        "x_overview_df"
      ],
      "metadata": {
        "colab": {
          "base_uri": "https://localhost:8080/",
          "height": 424
        },
        "id": "Rz2Sd4XW9aeh",
        "outputId": "d3dfbbf9-86c6-4ea2-a9f1-fff95d22b745"
      },
      "execution_count": null,
      "outputs": [
        {
          "output_type": "execute_result",
          "data": {
            "text/plain": [
              "        0    1       2    3    4             5             6\n",
              "0    34.0  0.0  26.410  1.0  0.0   6328.873074   5353.367164\n",
              "1    40.0  1.0  29.355  1.0  0.0   7346.725742   6363.826033\n",
              "2    53.0  0.0  26.700  2.0  0.0  11630.666004  11131.351056\n",
              "3    37.0  0.0  30.800  2.0  0.0   7632.513217   6283.807894\n",
              "4    58.0  1.0  28.595  0.0  0.0  11475.575274  11717.722895\n",
              "..    ...  ...     ...  ...  ...           ...           ...\n",
              "301  31.0  1.0  39.490  1.0  0.0   5258.413611   3840.479463\n",
              "302  43.0  1.0  26.030  0.0  0.0   7595.797145   6808.556623\n",
              "303  41.0  1.0  34.200  2.0  0.0   8149.416866   7233.852077\n",
              "304  57.0  0.0  38.000  2.0  0.0  12883.117704  12630.031117\n",
              "305  50.0  1.0  25.300  0.0  0.0   9366.817528   8417.346992\n",
              "\n",
              "[306 rows x 7 columns]"
            ],
            "text/html": [
              "\n",
              "  <div id=\"df-3207ae14-8dcd-4e9e-a8ac-76e3a4f78c50\">\n",
              "    <div class=\"colab-df-container\">\n",
              "      <div>\n",
              "<style scoped>\n",
              "    .dataframe tbody tr th:only-of-type {\n",
              "        vertical-align: middle;\n",
              "    }\n",
              "\n",
              "    .dataframe tbody tr th {\n",
              "        vertical-align: top;\n",
              "    }\n",
              "\n",
              "    .dataframe thead th {\n",
              "        text-align: right;\n",
              "    }\n",
              "</style>\n",
              "<table border=\"1\" class=\"dataframe\">\n",
              "  <thead>\n",
              "    <tr style=\"text-align: right;\">\n",
              "      <th></th>\n",
              "      <th>0</th>\n",
              "      <th>1</th>\n",
              "      <th>2</th>\n",
              "      <th>3</th>\n",
              "      <th>4</th>\n",
              "      <th>5</th>\n",
              "      <th>6</th>\n",
              "    </tr>\n",
              "  </thead>\n",
              "  <tbody>\n",
              "    <tr>\n",
              "      <th>0</th>\n",
              "      <td>34.0</td>\n",
              "      <td>0.0</td>\n",
              "      <td>26.410</td>\n",
              "      <td>1.0</td>\n",
              "      <td>0.0</td>\n",
              "      <td>6328.873074</td>\n",
              "      <td>5353.367164</td>\n",
              "    </tr>\n",
              "    <tr>\n",
              "      <th>1</th>\n",
              "      <td>40.0</td>\n",
              "      <td>1.0</td>\n",
              "      <td>29.355</td>\n",
              "      <td>1.0</td>\n",
              "      <td>0.0</td>\n",
              "      <td>7346.725742</td>\n",
              "      <td>6363.826033</td>\n",
              "    </tr>\n",
              "    <tr>\n",
              "      <th>2</th>\n",
              "      <td>53.0</td>\n",
              "      <td>0.0</td>\n",
              "      <td>26.700</td>\n",
              "      <td>2.0</td>\n",
              "      <td>0.0</td>\n",
              "      <td>11630.666004</td>\n",
              "      <td>11131.351056</td>\n",
              "    </tr>\n",
              "    <tr>\n",
              "      <th>3</th>\n",
              "      <td>37.0</td>\n",
              "      <td>0.0</td>\n",
              "      <td>30.800</td>\n",
              "      <td>2.0</td>\n",
              "      <td>0.0</td>\n",
              "      <td>7632.513217</td>\n",
              "      <td>6283.807894</td>\n",
              "    </tr>\n",
              "    <tr>\n",
              "      <th>4</th>\n",
              "      <td>58.0</td>\n",
              "      <td>1.0</td>\n",
              "      <td>28.595</td>\n",
              "      <td>0.0</td>\n",
              "      <td>0.0</td>\n",
              "      <td>11475.575274</td>\n",
              "      <td>11717.722895</td>\n",
              "    </tr>\n",
              "    <tr>\n",
              "      <th>...</th>\n",
              "      <td>...</td>\n",
              "      <td>...</td>\n",
              "      <td>...</td>\n",
              "      <td>...</td>\n",
              "      <td>...</td>\n",
              "      <td>...</td>\n",
              "      <td>...</td>\n",
              "    </tr>\n",
              "    <tr>\n",
              "      <th>301</th>\n",
              "      <td>31.0</td>\n",
              "      <td>1.0</td>\n",
              "      <td>39.490</td>\n",
              "      <td>1.0</td>\n",
              "      <td>0.0</td>\n",
              "      <td>5258.413611</td>\n",
              "      <td>3840.479463</td>\n",
              "    </tr>\n",
              "    <tr>\n",
              "      <th>302</th>\n",
              "      <td>43.0</td>\n",
              "      <td>1.0</td>\n",
              "      <td>26.030</td>\n",
              "      <td>0.0</td>\n",
              "      <td>0.0</td>\n",
              "      <td>7595.797145</td>\n",
              "      <td>6808.556623</td>\n",
              "    </tr>\n",
              "    <tr>\n",
              "      <th>303</th>\n",
              "      <td>41.0</td>\n",
              "      <td>1.0</td>\n",
              "      <td>34.200</td>\n",
              "      <td>2.0</td>\n",
              "      <td>0.0</td>\n",
              "      <td>8149.416866</td>\n",
              "      <td>7233.852077</td>\n",
              "    </tr>\n",
              "    <tr>\n",
              "      <th>304</th>\n",
              "      <td>57.0</td>\n",
              "      <td>0.0</td>\n",
              "      <td>38.000</td>\n",
              "      <td>2.0</td>\n",
              "      <td>0.0</td>\n",
              "      <td>12883.117704</td>\n",
              "      <td>12630.031117</td>\n",
              "    </tr>\n",
              "    <tr>\n",
              "      <th>305</th>\n",
              "      <td>50.0</td>\n",
              "      <td>1.0</td>\n",
              "      <td>25.300</td>\n",
              "      <td>0.0</td>\n",
              "      <td>0.0</td>\n",
              "      <td>9366.817528</td>\n",
              "      <td>8417.346992</td>\n",
              "    </tr>\n",
              "  </tbody>\n",
              "</table>\n",
              "<p>306 rows × 7 columns</p>\n",
              "</div>\n",
              "      <button class=\"colab-df-convert\" onclick=\"convertToInteractive('df-3207ae14-8dcd-4e9e-a8ac-76e3a4f78c50')\"\n",
              "              title=\"Convert this dataframe to an interactive table.\"\n",
              "              style=\"display:none;\">\n",
              "        \n",
              "  <svg xmlns=\"http://www.w3.org/2000/svg\" height=\"24px\"viewBox=\"0 0 24 24\"\n",
              "       width=\"24px\">\n",
              "    <path d=\"M0 0h24v24H0V0z\" fill=\"none\"/>\n",
              "    <path d=\"M18.56 5.44l.94 2.06.94-2.06 2.06-.94-2.06-.94-.94-2.06-.94 2.06-2.06.94zm-11 1L8.5 8.5l.94-2.06 2.06-.94-2.06-.94L8.5 2.5l-.94 2.06-2.06.94zm10 10l.94 2.06.94-2.06 2.06-.94-2.06-.94-.94-2.06-.94 2.06-2.06.94z\"/><path d=\"M17.41 7.96l-1.37-1.37c-.4-.4-.92-.59-1.43-.59-.52 0-1.04.2-1.43.59L10.3 9.45l-7.72 7.72c-.78.78-.78 2.05 0 2.83L4 21.41c.39.39.9.59 1.41.59.51 0 1.02-.2 1.41-.59l7.78-7.78 2.81-2.81c.8-.78.8-2.07 0-2.86zM5.41 20L4 18.59l7.72-7.72 1.47 1.35L5.41 20z\"/>\n",
              "  </svg>\n",
              "      </button>\n",
              "      \n",
              "  <style>\n",
              "    .colab-df-container {\n",
              "      display:flex;\n",
              "      flex-wrap:wrap;\n",
              "      gap: 12px;\n",
              "    }\n",
              "\n",
              "    .colab-df-convert {\n",
              "      background-color: #E8F0FE;\n",
              "      border: none;\n",
              "      border-radius: 50%;\n",
              "      cursor: pointer;\n",
              "      display: none;\n",
              "      fill: #1967D2;\n",
              "      height: 32px;\n",
              "      padding: 0 0 0 0;\n",
              "      width: 32px;\n",
              "    }\n",
              "\n",
              "    .colab-df-convert:hover {\n",
              "      background-color: #E2EBFA;\n",
              "      box-shadow: 0px 1px 2px rgba(60, 64, 67, 0.3), 0px 1px 3px 1px rgba(60, 64, 67, 0.15);\n",
              "      fill: #174EA6;\n",
              "    }\n",
              "\n",
              "    [theme=dark] .colab-df-convert {\n",
              "      background-color: #3B4455;\n",
              "      fill: #D2E3FC;\n",
              "    }\n",
              "\n",
              "    [theme=dark] .colab-df-convert:hover {\n",
              "      background-color: #434B5C;\n",
              "      box-shadow: 0px 1px 3px 1px rgba(0, 0, 0, 0.15);\n",
              "      filter: drop-shadow(0px 1px 2px rgba(0, 0, 0, 0.3));\n",
              "      fill: #FFFFFF;\n",
              "    }\n",
              "  </style>\n",
              "\n",
              "      <script>\n",
              "        const buttonEl =\n",
              "          document.querySelector('#df-3207ae14-8dcd-4e9e-a8ac-76e3a4f78c50 button.colab-df-convert');\n",
              "        buttonEl.style.display =\n",
              "          google.colab.kernel.accessAllowed ? 'block' : 'none';\n",
              "\n",
              "        async function convertToInteractive(key) {\n",
              "          const element = document.querySelector('#df-3207ae14-8dcd-4e9e-a8ac-76e3a4f78c50');\n",
              "          const dataTable =\n",
              "            await google.colab.kernel.invokeFunction('convertToInteractive',\n",
              "                                                     [key], {});\n",
              "          if (!dataTable) return;\n",
              "\n",
              "          const docLinkHtml = 'Like what you see? Visit the ' +\n",
              "            '<a target=\"_blank\" href=https://colab.research.google.com/notebooks/data_table.ipynb>data table notebook</a>'\n",
              "            + ' to learn more about interactive tables.';\n",
              "          element.innerHTML = '';\n",
              "          dataTable['output_type'] = 'display_data';\n",
              "          await google.colab.output.renderOutput(dataTable, element);\n",
              "          const docLink = document.createElement('div');\n",
              "          docLink.innerHTML = docLinkHtml;\n",
              "          element.appendChild(docLink);\n",
              "        }\n",
              "      </script>\n",
              "    </div>\n",
              "  </div>\n",
              "  "
            ]
          },
          "metadata": {},
          "execution_count": 74
        }
      ]
    },
    {
      "cell_type": "code",
      "source": [
        "x_overview_df"
      ],
      "metadata": {
        "colab": {
          "base_uri": "https://localhost:8080/",
          "height": 424
        },
        "id": "u4rUzMP89cKE",
        "outputId": "b64db3ad-0fef-48a0-da8c-0b231fbdfaf2"
      },
      "execution_count": null,
      "outputs": [
        {
          "output_type": "execute_result",
          "data": {
            "text/plain": [
              "        0    1       2    3    4             5             6\n",
              "0    34.0  0.0  26.410  1.0  0.0   6328.873074   5353.367164\n",
              "1    40.0  1.0  29.355  1.0  0.0   7346.725742   6363.826033\n",
              "2    53.0  0.0  26.700  2.0  0.0  11630.666004  11131.351056\n",
              "3    37.0  0.0  30.800  2.0  0.0   7632.513217   6283.807894\n",
              "4    58.0  1.0  28.595  0.0  0.0  11475.575274  11717.722895\n",
              "..    ...  ...     ...  ...  ...           ...           ...\n",
              "301  31.0  1.0  39.490  1.0  0.0   5258.413611   3840.479463\n",
              "302  43.0  1.0  26.030  0.0  0.0   7595.797145   6808.556623\n",
              "303  41.0  1.0  34.200  2.0  0.0   8149.416866   7233.852077\n",
              "304  57.0  0.0  38.000  2.0  0.0  12883.117704  12630.031117\n",
              "305  50.0  1.0  25.300  0.0  0.0   9366.817528   8417.346992\n",
              "\n",
              "[306 rows x 7 columns]"
            ],
            "text/html": [
              "\n",
              "  <div id=\"df-6d0afead-e6ca-4087-bf66-f98236b7bf20\">\n",
              "    <div class=\"colab-df-container\">\n",
              "      <div>\n",
              "<style scoped>\n",
              "    .dataframe tbody tr th:only-of-type {\n",
              "        vertical-align: middle;\n",
              "    }\n",
              "\n",
              "    .dataframe tbody tr th {\n",
              "        vertical-align: top;\n",
              "    }\n",
              "\n",
              "    .dataframe thead th {\n",
              "        text-align: right;\n",
              "    }\n",
              "</style>\n",
              "<table border=\"1\" class=\"dataframe\">\n",
              "  <thead>\n",
              "    <tr style=\"text-align: right;\">\n",
              "      <th></th>\n",
              "      <th>0</th>\n",
              "      <th>1</th>\n",
              "      <th>2</th>\n",
              "      <th>3</th>\n",
              "      <th>4</th>\n",
              "      <th>5</th>\n",
              "      <th>6</th>\n",
              "    </tr>\n",
              "  </thead>\n",
              "  <tbody>\n",
              "    <tr>\n",
              "      <th>0</th>\n",
              "      <td>34.0</td>\n",
              "      <td>0.0</td>\n",
              "      <td>26.410</td>\n",
              "      <td>1.0</td>\n",
              "      <td>0.0</td>\n",
              "      <td>6328.873074</td>\n",
              "      <td>5353.367164</td>\n",
              "    </tr>\n",
              "    <tr>\n",
              "      <th>1</th>\n",
              "      <td>40.0</td>\n",
              "      <td>1.0</td>\n",
              "      <td>29.355</td>\n",
              "      <td>1.0</td>\n",
              "      <td>0.0</td>\n",
              "      <td>7346.725742</td>\n",
              "      <td>6363.826033</td>\n",
              "    </tr>\n",
              "    <tr>\n",
              "      <th>2</th>\n",
              "      <td>53.0</td>\n",
              "      <td>0.0</td>\n",
              "      <td>26.700</td>\n",
              "      <td>2.0</td>\n",
              "      <td>0.0</td>\n",
              "      <td>11630.666004</td>\n",
              "      <td>11131.351056</td>\n",
              "    </tr>\n",
              "    <tr>\n",
              "      <th>3</th>\n",
              "      <td>37.0</td>\n",
              "      <td>0.0</td>\n",
              "      <td>30.800</td>\n",
              "      <td>2.0</td>\n",
              "      <td>0.0</td>\n",
              "      <td>7632.513217</td>\n",
              "      <td>6283.807894</td>\n",
              "    </tr>\n",
              "    <tr>\n",
              "      <th>4</th>\n",
              "      <td>58.0</td>\n",
              "      <td>1.0</td>\n",
              "      <td>28.595</td>\n",
              "      <td>0.0</td>\n",
              "      <td>0.0</td>\n",
              "      <td>11475.575274</td>\n",
              "      <td>11717.722895</td>\n",
              "    </tr>\n",
              "    <tr>\n",
              "      <th>...</th>\n",
              "      <td>...</td>\n",
              "      <td>...</td>\n",
              "      <td>...</td>\n",
              "      <td>...</td>\n",
              "      <td>...</td>\n",
              "      <td>...</td>\n",
              "      <td>...</td>\n",
              "    </tr>\n",
              "    <tr>\n",
              "      <th>301</th>\n",
              "      <td>31.0</td>\n",
              "      <td>1.0</td>\n",
              "      <td>39.490</td>\n",
              "      <td>1.0</td>\n",
              "      <td>0.0</td>\n",
              "      <td>5258.413611</td>\n",
              "      <td>3840.479463</td>\n",
              "    </tr>\n",
              "    <tr>\n",
              "      <th>302</th>\n",
              "      <td>43.0</td>\n",
              "      <td>1.0</td>\n",
              "      <td>26.030</td>\n",
              "      <td>0.0</td>\n",
              "      <td>0.0</td>\n",
              "      <td>7595.797145</td>\n",
              "      <td>6808.556623</td>\n",
              "    </tr>\n",
              "    <tr>\n",
              "      <th>303</th>\n",
              "      <td>41.0</td>\n",
              "      <td>1.0</td>\n",
              "      <td>34.200</td>\n",
              "      <td>2.0</td>\n",
              "      <td>0.0</td>\n",
              "      <td>8149.416866</td>\n",
              "      <td>7233.852077</td>\n",
              "    </tr>\n",
              "    <tr>\n",
              "      <th>304</th>\n",
              "      <td>57.0</td>\n",
              "      <td>0.0</td>\n",
              "      <td>38.000</td>\n",
              "      <td>2.0</td>\n",
              "      <td>0.0</td>\n",
              "      <td>12883.117704</td>\n",
              "      <td>12630.031117</td>\n",
              "    </tr>\n",
              "    <tr>\n",
              "      <th>305</th>\n",
              "      <td>50.0</td>\n",
              "      <td>1.0</td>\n",
              "      <td>25.300</td>\n",
              "      <td>0.0</td>\n",
              "      <td>0.0</td>\n",
              "      <td>9366.817528</td>\n",
              "      <td>8417.346992</td>\n",
              "    </tr>\n",
              "  </tbody>\n",
              "</table>\n",
              "<p>306 rows × 7 columns</p>\n",
              "</div>\n",
              "      <button class=\"colab-df-convert\" onclick=\"convertToInteractive('df-6d0afead-e6ca-4087-bf66-f98236b7bf20')\"\n",
              "              title=\"Convert this dataframe to an interactive table.\"\n",
              "              style=\"display:none;\">\n",
              "        \n",
              "  <svg xmlns=\"http://www.w3.org/2000/svg\" height=\"24px\"viewBox=\"0 0 24 24\"\n",
              "       width=\"24px\">\n",
              "    <path d=\"M0 0h24v24H0V0z\" fill=\"none\"/>\n",
              "    <path d=\"M18.56 5.44l.94 2.06.94-2.06 2.06-.94-2.06-.94-.94-2.06-.94 2.06-2.06.94zm-11 1L8.5 8.5l.94-2.06 2.06-.94-2.06-.94L8.5 2.5l-.94 2.06-2.06.94zm10 10l.94 2.06.94-2.06 2.06-.94-2.06-.94-.94-2.06-.94 2.06-2.06.94z\"/><path d=\"M17.41 7.96l-1.37-1.37c-.4-.4-.92-.59-1.43-.59-.52 0-1.04.2-1.43.59L10.3 9.45l-7.72 7.72c-.78.78-.78 2.05 0 2.83L4 21.41c.39.39.9.59 1.41.59.51 0 1.02-.2 1.41-.59l7.78-7.78 2.81-2.81c.8-.78.8-2.07 0-2.86zM5.41 20L4 18.59l7.72-7.72 1.47 1.35L5.41 20z\"/>\n",
              "  </svg>\n",
              "      </button>\n",
              "      \n",
              "  <style>\n",
              "    .colab-df-container {\n",
              "      display:flex;\n",
              "      flex-wrap:wrap;\n",
              "      gap: 12px;\n",
              "    }\n",
              "\n",
              "    .colab-df-convert {\n",
              "      background-color: #E8F0FE;\n",
              "      border: none;\n",
              "      border-radius: 50%;\n",
              "      cursor: pointer;\n",
              "      display: none;\n",
              "      fill: #1967D2;\n",
              "      height: 32px;\n",
              "      padding: 0 0 0 0;\n",
              "      width: 32px;\n",
              "    }\n",
              "\n",
              "    .colab-df-convert:hover {\n",
              "      background-color: #E2EBFA;\n",
              "      box-shadow: 0px 1px 2px rgba(60, 64, 67, 0.3), 0px 1px 3px 1px rgba(60, 64, 67, 0.15);\n",
              "      fill: #174EA6;\n",
              "    }\n",
              "\n",
              "    [theme=dark] .colab-df-convert {\n",
              "      background-color: #3B4455;\n",
              "      fill: #D2E3FC;\n",
              "    }\n",
              "\n",
              "    [theme=dark] .colab-df-convert:hover {\n",
              "      background-color: #434B5C;\n",
              "      box-shadow: 0px 1px 3px 1px rgba(0, 0, 0, 0.15);\n",
              "      filter: drop-shadow(0px 1px 2px rgba(0, 0, 0, 0.3));\n",
              "      fill: #FFFFFF;\n",
              "    }\n",
              "  </style>\n",
              "\n",
              "      <script>\n",
              "        const buttonEl =\n",
              "          document.querySelector('#df-6d0afead-e6ca-4087-bf66-f98236b7bf20 button.colab-df-convert');\n",
              "        buttonEl.style.display =\n",
              "          google.colab.kernel.accessAllowed ? 'block' : 'none';\n",
              "\n",
              "        async function convertToInteractive(key) {\n",
              "          const element = document.querySelector('#df-6d0afead-e6ca-4087-bf66-f98236b7bf20');\n",
              "          const dataTable =\n",
              "            await google.colab.kernel.invokeFunction('convertToInteractive',\n",
              "                                                     [key], {});\n",
              "          if (!dataTable) return;\n",
              "\n",
              "          const docLinkHtml = 'Like what you see? Visit the ' +\n",
              "            '<a target=\"_blank\" href=https://colab.research.google.com/notebooks/data_table.ipynb>data table notebook</a>'\n",
              "            + ' to learn more about interactive tables.';\n",
              "          element.innerHTML = '';\n",
              "          dataTable['output_type'] = 'display_data';\n",
              "          await google.colab.output.renderOutput(dataTable, element);\n",
              "          const docLink = document.createElement('div');\n",
              "          docLink.innerHTML = docLinkHtml;\n",
              "          element.appendChild(docLink);\n",
              "        }\n",
              "      </script>\n",
              "    </div>\n",
              "  </div>\n",
              "  "
            ]
          },
          "metadata": {},
          "execution_count": 75
        }
      ]
    },
    {
      "cell_type": "code",
      "source": [
        "x_overview_df.rename(columns = {0:'age', 1:'sex',\n",
        "                              2:'bmi', 3: 'children', 4:  'smoker', 5 : 'predicted_charges', 6: 'charges'}, inplace = True)\n",
        "   "
      ],
      "metadata": {
        "id": "gMeiZsMd-V8k"
      },
      "execution_count": null,
      "outputs": []
    },
    {
      "cell_type": "code",
      "source": [
        "x_overview_df"
      ],
      "metadata": {
        "colab": {
          "base_uri": "https://localhost:8080/",
          "height": 424
        },
        "id": "Vrwig9A5-z8e",
        "outputId": "435c1d81-fac4-427d-912c-9c7c9b0d2f04"
      },
      "execution_count": null,
      "outputs": [
        {
          "output_type": "execute_result",
          "data": {
            "text/plain": [
              "      age  sex     bmi  children  smoker  predicted_charges       charges\n",
              "0    34.0  0.0  26.410       1.0     0.0        6328.873074   5353.367164\n",
              "1    40.0  1.0  29.355       1.0     0.0        7346.725742   6363.826033\n",
              "2    53.0  0.0  26.700       2.0     0.0       11630.666004  11131.351056\n",
              "3    37.0  0.0  30.800       2.0     0.0        7632.513217   6283.807894\n",
              "4    58.0  1.0  28.595       0.0     0.0       11475.575274  11717.722895\n",
              "..    ...  ...     ...       ...     ...                ...           ...\n",
              "301  31.0  1.0  39.490       1.0     0.0        5258.413611   3840.479463\n",
              "302  43.0  1.0  26.030       0.0     0.0        7595.797145   6808.556623\n",
              "303  41.0  1.0  34.200       2.0     0.0        8149.416866   7233.852077\n",
              "304  57.0  0.0  38.000       2.0     0.0       12883.117704  12630.031117\n",
              "305  50.0  1.0  25.300       0.0     0.0        9366.817528   8417.346992\n",
              "\n",
              "[306 rows x 7 columns]"
            ],
            "text/html": [
              "\n",
              "  <div id=\"df-89c5ec04-00f8-4417-a135-470aec046d6d\">\n",
              "    <div class=\"colab-df-container\">\n",
              "      <div>\n",
              "<style scoped>\n",
              "    .dataframe tbody tr th:only-of-type {\n",
              "        vertical-align: middle;\n",
              "    }\n",
              "\n",
              "    .dataframe tbody tr th {\n",
              "        vertical-align: top;\n",
              "    }\n",
              "\n",
              "    .dataframe thead th {\n",
              "        text-align: right;\n",
              "    }\n",
              "</style>\n",
              "<table border=\"1\" class=\"dataframe\">\n",
              "  <thead>\n",
              "    <tr style=\"text-align: right;\">\n",
              "      <th></th>\n",
              "      <th>age</th>\n",
              "      <th>sex</th>\n",
              "      <th>bmi</th>\n",
              "      <th>children</th>\n",
              "      <th>smoker</th>\n",
              "      <th>predicted_charges</th>\n",
              "      <th>charges</th>\n",
              "    </tr>\n",
              "  </thead>\n",
              "  <tbody>\n",
              "    <tr>\n",
              "      <th>0</th>\n",
              "      <td>34.0</td>\n",
              "      <td>0.0</td>\n",
              "      <td>26.410</td>\n",
              "      <td>1.0</td>\n",
              "      <td>0.0</td>\n",
              "      <td>6328.873074</td>\n",
              "      <td>5353.367164</td>\n",
              "    </tr>\n",
              "    <tr>\n",
              "      <th>1</th>\n",
              "      <td>40.0</td>\n",
              "      <td>1.0</td>\n",
              "      <td>29.355</td>\n",
              "      <td>1.0</td>\n",
              "      <td>0.0</td>\n",
              "      <td>7346.725742</td>\n",
              "      <td>6363.826033</td>\n",
              "    </tr>\n",
              "    <tr>\n",
              "      <th>2</th>\n",
              "      <td>53.0</td>\n",
              "      <td>0.0</td>\n",
              "      <td>26.700</td>\n",
              "      <td>2.0</td>\n",
              "      <td>0.0</td>\n",
              "      <td>11630.666004</td>\n",
              "      <td>11131.351056</td>\n",
              "    </tr>\n",
              "    <tr>\n",
              "      <th>3</th>\n",
              "      <td>37.0</td>\n",
              "      <td>0.0</td>\n",
              "      <td>30.800</td>\n",
              "      <td>2.0</td>\n",
              "      <td>0.0</td>\n",
              "      <td>7632.513217</td>\n",
              "      <td>6283.807894</td>\n",
              "    </tr>\n",
              "    <tr>\n",
              "      <th>4</th>\n",
              "      <td>58.0</td>\n",
              "      <td>1.0</td>\n",
              "      <td>28.595</td>\n",
              "      <td>0.0</td>\n",
              "      <td>0.0</td>\n",
              "      <td>11475.575274</td>\n",
              "      <td>11717.722895</td>\n",
              "    </tr>\n",
              "    <tr>\n",
              "      <th>...</th>\n",
              "      <td>...</td>\n",
              "      <td>...</td>\n",
              "      <td>...</td>\n",
              "      <td>...</td>\n",
              "      <td>...</td>\n",
              "      <td>...</td>\n",
              "      <td>...</td>\n",
              "    </tr>\n",
              "    <tr>\n",
              "      <th>301</th>\n",
              "      <td>31.0</td>\n",
              "      <td>1.0</td>\n",
              "      <td>39.490</td>\n",
              "      <td>1.0</td>\n",
              "      <td>0.0</td>\n",
              "      <td>5258.413611</td>\n",
              "      <td>3840.479463</td>\n",
              "    </tr>\n",
              "    <tr>\n",
              "      <th>302</th>\n",
              "      <td>43.0</td>\n",
              "      <td>1.0</td>\n",
              "      <td>26.030</td>\n",
              "      <td>0.0</td>\n",
              "      <td>0.0</td>\n",
              "      <td>7595.797145</td>\n",
              "      <td>6808.556623</td>\n",
              "    </tr>\n",
              "    <tr>\n",
              "      <th>303</th>\n",
              "      <td>41.0</td>\n",
              "      <td>1.0</td>\n",
              "      <td>34.200</td>\n",
              "      <td>2.0</td>\n",
              "      <td>0.0</td>\n",
              "      <td>8149.416866</td>\n",
              "      <td>7233.852077</td>\n",
              "    </tr>\n",
              "    <tr>\n",
              "      <th>304</th>\n",
              "      <td>57.0</td>\n",
              "      <td>0.0</td>\n",
              "      <td>38.000</td>\n",
              "      <td>2.0</td>\n",
              "      <td>0.0</td>\n",
              "      <td>12883.117704</td>\n",
              "      <td>12630.031117</td>\n",
              "    </tr>\n",
              "    <tr>\n",
              "      <th>305</th>\n",
              "      <td>50.0</td>\n",
              "      <td>1.0</td>\n",
              "      <td>25.300</td>\n",
              "      <td>0.0</td>\n",
              "      <td>0.0</td>\n",
              "      <td>9366.817528</td>\n",
              "      <td>8417.346992</td>\n",
              "    </tr>\n",
              "  </tbody>\n",
              "</table>\n",
              "<p>306 rows × 7 columns</p>\n",
              "</div>\n",
              "      <button class=\"colab-df-convert\" onclick=\"convertToInteractive('df-89c5ec04-00f8-4417-a135-470aec046d6d')\"\n",
              "              title=\"Convert this dataframe to an interactive table.\"\n",
              "              style=\"display:none;\">\n",
              "        \n",
              "  <svg xmlns=\"http://www.w3.org/2000/svg\" height=\"24px\"viewBox=\"0 0 24 24\"\n",
              "       width=\"24px\">\n",
              "    <path d=\"M0 0h24v24H0V0z\" fill=\"none\"/>\n",
              "    <path d=\"M18.56 5.44l.94 2.06.94-2.06 2.06-.94-2.06-.94-.94-2.06-.94 2.06-2.06.94zm-11 1L8.5 8.5l.94-2.06 2.06-.94-2.06-.94L8.5 2.5l-.94 2.06-2.06.94zm10 10l.94 2.06.94-2.06 2.06-.94-2.06-.94-.94-2.06-.94 2.06-2.06.94z\"/><path d=\"M17.41 7.96l-1.37-1.37c-.4-.4-.92-.59-1.43-.59-.52 0-1.04.2-1.43.59L10.3 9.45l-7.72 7.72c-.78.78-.78 2.05 0 2.83L4 21.41c.39.39.9.59 1.41.59.51 0 1.02-.2 1.41-.59l7.78-7.78 2.81-2.81c.8-.78.8-2.07 0-2.86zM5.41 20L4 18.59l7.72-7.72 1.47 1.35L5.41 20z\"/>\n",
              "  </svg>\n",
              "      </button>\n",
              "      \n",
              "  <style>\n",
              "    .colab-df-container {\n",
              "      display:flex;\n",
              "      flex-wrap:wrap;\n",
              "      gap: 12px;\n",
              "    }\n",
              "\n",
              "    .colab-df-convert {\n",
              "      background-color: #E8F0FE;\n",
              "      border: none;\n",
              "      border-radius: 50%;\n",
              "      cursor: pointer;\n",
              "      display: none;\n",
              "      fill: #1967D2;\n",
              "      height: 32px;\n",
              "      padding: 0 0 0 0;\n",
              "      width: 32px;\n",
              "    }\n",
              "\n",
              "    .colab-df-convert:hover {\n",
              "      background-color: #E2EBFA;\n",
              "      box-shadow: 0px 1px 2px rgba(60, 64, 67, 0.3), 0px 1px 3px 1px rgba(60, 64, 67, 0.15);\n",
              "      fill: #174EA6;\n",
              "    }\n",
              "\n",
              "    [theme=dark] .colab-df-convert {\n",
              "      background-color: #3B4455;\n",
              "      fill: #D2E3FC;\n",
              "    }\n",
              "\n",
              "    [theme=dark] .colab-df-convert:hover {\n",
              "      background-color: #434B5C;\n",
              "      box-shadow: 0px 1px 3px 1px rgba(0, 0, 0, 0.15);\n",
              "      filter: drop-shadow(0px 1px 2px rgba(0, 0, 0, 0.3));\n",
              "      fill: #FFFFFF;\n",
              "    }\n",
              "  </style>\n",
              "\n",
              "      <script>\n",
              "        const buttonEl =\n",
              "          document.querySelector('#df-89c5ec04-00f8-4417-a135-470aec046d6d button.colab-df-convert');\n",
              "        buttonEl.style.display =\n",
              "          google.colab.kernel.accessAllowed ? 'block' : 'none';\n",
              "\n",
              "        async function convertToInteractive(key) {\n",
              "          const element = document.querySelector('#df-89c5ec04-00f8-4417-a135-470aec046d6d');\n",
              "          const dataTable =\n",
              "            await google.colab.kernel.invokeFunction('convertToInteractive',\n",
              "                                                     [key], {});\n",
              "          if (!dataTable) return;\n",
              "\n",
              "          const docLinkHtml = 'Like what you see? Visit the ' +\n",
              "            '<a target=\"_blank\" href=https://colab.research.google.com/notebooks/data_table.ipynb>data table notebook</a>'\n",
              "            + ' to learn more about interactive tables.';\n",
              "          element.innerHTML = '';\n",
              "          dataTable['output_type'] = 'display_data';\n",
              "          await google.colab.output.renderOutput(dataTable, element);\n",
              "          const docLink = document.createElement('div');\n",
              "          docLink.innerHTML = docLinkHtml;\n",
              "          element.appendChild(docLink);\n",
              "        }\n",
              "      </script>\n",
              "    </div>\n",
              "  </div>\n",
              "  "
            ]
          },
          "metadata": {},
          "execution_count": 77
        }
      ]
    },
    {
      "cell_type": "code",
      "source": [
        "# importing package\n",
        "import matplotlib.pyplot as plt\n",
        "plt.figure(figsize=(15,7))\n",
        "a = []\n",
        "for x in range(len(X_test)):\n",
        "   a.append(x)\n",
        "plt.plot(a, y_testish[:,0], label = \"Prediksi Harga Medis\")\n",
        "plt.plot(a, y_testish[:,1], label = \"Nilai Aktual Harga Medis\")\n",
        "plt.xlabel(\"Indeks Data Testing\")\n",
        "plt.ylabel(\"Harga Medis\")\n",
        "plt.legend()\n",
        "plt.show()"
      ],
      "metadata": {
        "id": "4MgjGaht-1tn",
        "colab": {
          "base_uri": "https://localhost:8080/",
          "height": 421
        },
        "outputId": "48bb5cab-926c-4b97-8c03-1049219f558b"
      },
      "execution_count": null,
      "outputs": [
        {
          "output_type": "display_data",
          "data": {
            "text/plain": [
              "<Figure size 1080x504 with 1 Axes>"
            ],
            "image/png": "[encoded data removed]"
          },
          "metadata": {}
        }
      ]
    },
    {
      "cell_type": "code",
      "source": [],
      "metadata": {
        "id": "ctEfWyqXPpNd"
      },
      "execution_count": null,
      "outputs": []
    }
  ]
}