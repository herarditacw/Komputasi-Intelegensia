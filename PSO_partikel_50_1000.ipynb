{
  "nbformat": 4,
  "nbformat_minor": 0,
  "metadata": {
    "colab": {
      "provenance": []
    },
    "kernelspec": {
      "name": "python3",
      "display_name": "Python 3"
    },
    "language_info": {
      "name": "python"
    }
  },
  "cells": [
    {
      "cell_type": "code",
      "source": [
        "!pip install pyswarms"
      ],
      "metadata": {
        "colab": {
          "base_uri": "https://localhost:8080/"
        },
        "id": "Z84jcFvJx9Fd",
        "outputId": "aac771a4-67ef-45ca-eda2-d55a29313feb"
      },
      "execution_count": null,
      "outputs": [
        {
          "output_type": "stream",
          "name": "stdout",
          "text": [
            "Looking in indexes: https://pypi.org/simple, https://us-python.pkg.dev/colab-wheels/public/simple/\n",
            "Requirement already satisfied: pyswarms in /usr/local/lib/python3.8/dist-packages (1.3.0)\n",
            "Requirement already satisfied: pyyaml in /usr/local/lib/python3.8/dist-packages (from pyswarms) (6.0)\n",
            "Requirement already satisfied: tqdm in /usr/local/lib/python3.8/dist-packages (from pyswarms) (4.64.1)\n",
            "Requirement already satisfied: scipy in /usr/local/lib/python3.8/dist-packages (from pyswarms) (1.7.3)\n",
            "Requirement already satisfied: matplotlib>=1.3.1 in /usr/local/lib/python3.8/dist-packages (from pyswarms) (3.2.2)\n",
            "Requirement already satisfied: future in /usr/local/lib/python3.8/dist-packages (from pyswarms) (0.16.0)\n",
            "Requirement already satisfied: attrs in /usr/local/lib/python3.8/dist-packages (from pyswarms) (22.1.0)\n",
            "Requirement already satisfied: numpy in /usr/local/lib/python3.8/dist-packages (from pyswarms) (1.21.6)\n",
            "Requirement already satisfied: cycler>=0.10 in /usr/local/lib/python3.8/dist-packages (from matplotlib>=1.3.1->pyswarms) (0.11.0)\n",
            "Requirement already satisfied: pyparsing!=2.0.4,!=2.1.2,!=2.1.6,>=2.0.1 in /usr/local/lib/python3.8/dist-packages (from matplotlib>=1.3.1->pyswarms) (3.0.9)\n",
            "Requirement already satisfied: python-dateutil>=2.1 in /usr/local/lib/python3.8/dist-packages (from matplotlib>=1.3.1->pyswarms) (2.8.2)\n",
            "Requirement already satisfied: kiwisolver>=1.0.1 in /usr/local/lib/python3.8/dist-packages (from matplotlib>=1.3.1->pyswarms) (1.4.4)\n",
            "Requirement already satisfied: six>=1.5 in /usr/local/lib/python3.8/dist-packages (from python-dateutil>=2.1->matplotlib>=1.3.1->pyswarms) (1.15.0)\n"
          ]
        }
      ]
    },
    {
      "cell_type": "code",
      "source": [
        "#First step :- Load libraries\n",
        "from keras.models import Sequential\n",
        "from keras.layers import Dense      #neural net layers\n",
        "import pandas as pd                  \n",
        "from sklearn.model_selection import train_test_split   #to spit dataset into train,validation,test \n",
        "import matplotlib.pyplot as plt\n",
        "import numpy as np\n",
        "import pyswarms as ps\n",
        "from sklearn.metrics import mean_squared_error\n",
        "from scipy import stats\n",
        "import seaborn as sns\n"
      ],
      "metadata": {
        "id": "3FPzHNDSwWcW"
      },
      "execution_count": null,
      "outputs": []
    },
    {
      "cell_type": "code",
      "execution_count": null,
      "metadata": {
        "colab": {
          "base_uri": "https://localhost:8080/",
          "height": 206
        },
        "id": "T_NthWDHwDkM",
        "outputId": "8104f965-3efc-4fe5-be5f-c9298a2b6de0"
      },
      "outputs": [
        {
          "output_type": "execute_result",
          "data": {
            "text/plain": [
              "   age     sex     bmi  children smoker     region      charges\n",
              "0   19  female  27.900         0    yes  southwest  16884.92400\n",
              "1   18    male  33.770         1     no  southeast   1725.55230\n",
              "2   28    male  33.000         3     no  southeast   4449.46200\n",
              "3   33    male  22.705         0     no  northwest  21984.47061\n",
              "4   32    male  28.880         0     no  northwest   3866.85520"
            ],
            "text/html": [
              "\n",
              "  <div id=\"df-a50ef8d6-5f8a-435f-b16f-775a0f5d760b\">\n",
              "    <div class=\"colab-df-container\">\n",
              "      <div>\n",
              "<style scoped>\n",
              "    .dataframe tbody tr th:only-of-type {\n",
              "        vertical-align: middle;\n",
              "    }\n",
              "\n",
              "    .dataframe tbody tr th {\n",
              "        vertical-align: top;\n",
              "    }\n",
              "\n",
              "    .dataframe thead th {\n",
              "        text-align: right;\n",
              "    }\n",
              "</style>\n",
              "<table border=\"1\" class=\"dataframe\">\n",
              "  <thead>\n",
              "    <tr style=\"text-align: right;\">\n",
              "      <th></th>\n",
              "      <th>age</th>\n",
              "      <th>sex</th>\n",
              "      <th>bmi</th>\n",
              "      <th>children</th>\n",
              "      <th>smoker</th>\n",
              "      <th>region</th>\n",
              "      <th>charges</th>\n",
              "    </tr>\n",
              "  </thead>\n",
              "  <tbody>\n",
              "    <tr>\n",
              "      <th>0</th>\n",
              "      <td>19</td>\n",
              "      <td>female</td>\n",
              "      <td>27.900</td>\n",
              "      <td>0</td>\n",
              "      <td>yes</td>\n",
              "      <td>southwest</td>\n",
              "      <td>16884.92400</td>\n",
              "    </tr>\n",
              "    <tr>\n",
              "      <th>1</th>\n",
              "      <td>18</td>\n",
              "      <td>male</td>\n",
              "      <td>33.770</td>\n",
              "      <td>1</td>\n",
              "      <td>no</td>\n",
              "      <td>southeast</td>\n",
              "      <td>1725.55230</td>\n",
              "    </tr>\n",
              "    <tr>\n",
              "      <th>2</th>\n",
              "      <td>28</td>\n",
              "      <td>male</td>\n",
              "      <td>33.000</td>\n",
              "      <td>3</td>\n",
              "      <td>no</td>\n",
              "      <td>southeast</td>\n",
              "      <td>4449.46200</td>\n",
              "    </tr>\n",
              "    <tr>\n",
              "      <th>3</th>\n",
              "      <td>33</td>\n",
              "      <td>male</td>\n",
              "      <td>22.705</td>\n",
              "      <td>0</td>\n",
              "      <td>no</td>\n",
              "      <td>northwest</td>\n",
              "      <td>21984.47061</td>\n",
              "    </tr>\n",
              "    <tr>\n",
              "      <th>4</th>\n",
              "      <td>32</td>\n",
              "      <td>male</td>\n",
              "      <td>28.880</td>\n",
              "      <td>0</td>\n",
              "      <td>no</td>\n",
              "      <td>northwest</td>\n",
              "      <td>3866.85520</td>\n",
              "    </tr>\n",
              "  </tbody>\n",
              "</table>\n",
              "</div>\n",
              "      <button class=\"colab-df-convert\" onclick=\"convertToInteractive('df-a50ef8d6-5f8a-435f-b16f-775a0f5d760b')\"\n",
              "              title=\"Convert this dataframe to an interactive table.\"\n",
              "              style=\"display:none;\">\n",
              "        \n",
              "  <svg xmlns=\"http://www.w3.org/2000/svg\" height=\"24px\"viewBox=\"0 0 24 24\"\n",
              "       width=\"24px\">\n",
              "    <path d=\"M0 0h24v24H0V0z\" fill=\"none\"/>\n",
              "    <path d=\"M18.56 5.44l.94 2.06.94-2.06 2.06-.94-2.06-.94-.94-2.06-.94 2.06-2.06.94zm-11 1L8.5 8.5l.94-2.06 2.06-.94-2.06-.94L8.5 2.5l-.94 2.06-2.06.94zm10 10l.94 2.06.94-2.06 2.06-.94-2.06-.94-.94-2.06-.94 2.06-2.06.94z\"/><path d=\"M17.41 7.96l-1.37-1.37c-.4-.4-.92-.59-1.43-.59-.52 0-1.04.2-1.43.59L10.3 9.45l-7.72 7.72c-.78.78-.78 2.05 0 2.83L4 21.41c.39.39.9.59 1.41.59.51 0 1.02-.2 1.41-.59l7.78-7.78 2.81-2.81c.8-.78.8-2.07 0-2.86zM5.41 20L4 18.59l7.72-7.72 1.47 1.35L5.41 20z\"/>\n",
              "  </svg>\n",
              "      </button>\n",
              "      \n",
              "  <style>\n",
              "    .colab-df-container {\n",
              "      display:flex;\n",
              "      flex-wrap:wrap;\n",
              "      gap: 12px;\n",
              "    }\n",
              "\n",
              "    .colab-df-convert {\n",
              "      background-color: #E8F0FE;\n",
              "      border: none;\n",
              "      border-radius: 50%;\n",
              "      cursor: pointer;\n",
              "      display: none;\n",
              "      fill: #1967D2;\n",
              "      height: 32px;\n",
              "      padding: 0 0 0 0;\n",
              "      width: 32px;\n",
              "    }\n",
              "\n",
              "    .colab-df-convert:hover {\n",
              "      background-color: #E2EBFA;\n",
              "      box-shadow: 0px 1px 2px rgba(60, 64, 67, 0.3), 0px 1px 3px 1px rgba(60, 64, 67, 0.15);\n",
              "      fill: #174EA6;\n",
              "    }\n",
              "\n",
              "    [theme=dark] .colab-df-convert {\n",
              "      background-color: #3B4455;\n",
              "      fill: #D2E3FC;\n",
              "    }\n",
              "\n",
              "    [theme=dark] .colab-df-convert:hover {\n",
              "      background-color: #434B5C;\n",
              "      box-shadow: 0px 1px 3px 1px rgba(0, 0, 0, 0.15);\n",
              "      filter: drop-shadow(0px 1px 2px rgba(0, 0, 0, 0.3));\n",
              "      fill: #FFFFFF;\n",
              "    }\n",
              "  </style>\n",
              "\n",
              "      <script>\n",
              "        const buttonEl =\n",
              "          document.querySelector('#df-a50ef8d6-5f8a-435f-b16f-775a0f5d760b button.colab-df-convert');\n",
              "        buttonEl.style.display =\n",
              "          google.colab.kernel.accessAllowed ? 'block' : 'none';\n",
              "\n",
              "        async function convertToInteractive(key) {\n",
              "          const element = document.querySelector('#df-a50ef8d6-5f8a-435f-b16f-775a0f5d760b');\n",
              "          const dataTable =\n",
              "            await google.colab.kernel.invokeFunction('convertToInteractive',\n",
              "                                                     [key], {});\n",
              "          if (!dataTable) return;\n",
              "\n",
              "          const docLinkHtml = 'Like what you see? Visit the ' +\n",
              "            '<a target=\"_blank\" href=https://colab.research.google.com/notebooks/data_table.ipynb>data table notebook</a>'\n",
              "            + ' to learn more about interactive tables.';\n",
              "          element.innerHTML = '';\n",
              "          dataTable['output_type'] = 'display_data';\n",
              "          await google.colab.output.renderOutput(dataTable, element);\n",
              "          const docLink = document.createElement('div');\n",
              "          docLink.innerHTML = docLinkHtml;\n",
              "          element.appendChild(docLink);\n",
              "        }\n",
              "      </script>\n",
              "    </div>\n",
              "  </div>\n",
              "  "
            ]
          },
          "metadata": {},
          "execution_count": 6
        }
      ],
      "source": [
        "Medic= pd.read_csv('Data Medical Cost_Regresi.csv')\n",
        "Medic.head()"
      ]
    },
    {
      "cell_type": "code",
      "source": [
        "Medic.describe()"
      ],
      "metadata": {
        "colab": {
          "base_uri": "https://localhost:8080/",
          "height": 300
        },
        "id": "8ufE-yRdlIln",
        "outputId": "47527f5c-49b1-4335-a0e5-e3fd45491f2e"
      },
      "execution_count": null,
      "outputs": [
        {
          "output_type": "execute_result",
          "data": {
            "text/plain": [
              "               age          bmi     children       charges\n",
              "count  1338.000000  1338.000000  1338.000000   1338.000000\n",
              "mean     39.207025    30.663397     1.094918  13270.422265\n",
              "std      14.049960     6.098187     1.205493  12110.011237\n",
              "min      18.000000    15.960000     0.000000   1121.873900\n",
              "25%      27.000000    26.296250     0.000000   4740.287150\n",
              "50%      39.000000    30.400000     1.000000   9382.033000\n",
              "75%      51.000000    34.693750     2.000000  16639.912515\n",
              "max      64.000000    53.130000     5.000000  63770.428010"
            ],
            "text/html": [
              "\n",
              "  <div id=\"df-bfcb8335-417d-4ab8-9f37-1b7a13d34ed3\">\n",
              "    <div class=\"colab-df-container\">\n",
              "      <div>\n",
              "<style scoped>\n",
              "    .dataframe tbody tr th:only-of-type {\n",
              "        vertical-align: middle;\n",
              "    }\n",
              "\n",
              "    .dataframe tbody tr th {\n",
              "        vertical-align: top;\n",
              "    }\n",
              "\n",
              "    .dataframe thead th {\n",
              "        text-align: right;\n",
              "    }\n",
              "</style>\n",
              "<table border=\"1\" class=\"dataframe\">\n",
              "  <thead>\n",
              "    <tr style=\"text-align: right;\">\n",
              "      <th></th>\n",
              "      <th>age</th>\n",
              "      <th>bmi</th>\n",
              "      <th>children</th>\n",
              "      <th>charges</th>\n",
              "    </tr>\n",
              "  </thead>\n",
              "  <tbody>\n",
              "    <tr>\n",
              "      <th>count</th>\n",
              "      <td>1338.000000</td>\n",
              "      <td>1338.000000</td>\n",
              "      <td>1338.000000</td>\n",
              "      <td>1338.000000</td>\n",
              "    </tr>\n",
              "    <tr>\n",
              "      <th>mean</th>\n",
              "      <td>39.207025</td>\n",
              "      <td>30.663397</td>\n",
              "      <td>1.094918</td>\n",
              "      <td>13270.422265</td>\n",
              "    </tr>\n",
              "    <tr>\n",
              "      <th>std</th>\n",
              "      <td>14.049960</td>\n",
              "      <td>6.098187</td>\n",
              "      <td>1.205493</td>\n",
              "      <td>12110.011237</td>\n",
              "    </tr>\n",
              "    <tr>\n",
              "      <th>min</th>\n",
              "      <td>18.000000</td>\n",
              "      <td>15.960000</td>\n",
              "      <td>0.000000</td>\n",
              "      <td>1121.873900</td>\n",
              "    </tr>\n",
              "    <tr>\n",
              "      <th>25%</th>\n",
              "      <td>27.000000</td>\n",
              "      <td>26.296250</td>\n",
              "      <td>0.000000</td>\n",
              "      <td>4740.287150</td>\n",
              "    </tr>\n",
              "    <tr>\n",
              "      <th>50%</th>\n",
              "      <td>39.000000</td>\n",
              "      <td>30.400000</td>\n",
              "      <td>1.000000</td>\n",
              "      <td>9382.033000</td>\n",
              "    </tr>\n",
              "    <tr>\n",
              "      <th>75%</th>\n",
              "      <td>51.000000</td>\n",
              "      <td>34.693750</td>\n",
              "      <td>2.000000</td>\n",
              "      <td>16639.912515</td>\n",
              "    </tr>\n",
              "    <tr>\n",
              "      <th>max</th>\n",
              "      <td>64.000000</td>\n",
              "      <td>53.130000</td>\n",
              "      <td>5.000000</td>\n",
              "      <td>63770.428010</td>\n",
              "    </tr>\n",
              "  </tbody>\n",
              "</table>\n",
              "</div>\n",
              "      <button class=\"colab-df-convert\" onclick=\"convertToInteractive('df-bfcb8335-417d-4ab8-9f37-1b7a13d34ed3')\"\n",
              "              title=\"Convert this dataframe to an interactive table.\"\n",
              "              style=\"display:none;\">\n",
              "        \n",
              "  <svg xmlns=\"http://www.w3.org/2000/svg\" height=\"24px\"viewBox=\"0 0 24 24\"\n",
              "       width=\"24px\">\n",
              "    <path d=\"M0 0h24v24H0V0z\" fill=\"none\"/>\n",
              "    <path d=\"M18.56 5.44l.94 2.06.94-2.06 2.06-.94-2.06-.94-.94-2.06-.94 2.06-2.06.94zm-11 1L8.5 8.5l.94-2.06 2.06-.94-2.06-.94L8.5 2.5l-.94 2.06-2.06.94zm10 10l.94 2.06.94-2.06 2.06-.94-2.06-.94-.94-2.06-.94 2.06-2.06.94z\"/><path d=\"M17.41 7.96l-1.37-1.37c-.4-.4-.92-.59-1.43-.59-.52 0-1.04.2-1.43.59L10.3 9.45l-7.72 7.72c-.78.78-.78 2.05 0 2.83L4 21.41c.39.39.9.59 1.41.59.51 0 1.02-.2 1.41-.59l7.78-7.78 2.81-2.81c.8-.78.8-2.07 0-2.86zM5.41 20L4 18.59l7.72-7.72 1.47 1.35L5.41 20z\"/>\n",
              "  </svg>\n",
              "      </button>\n",
              "      \n",
              "  <style>\n",
              "    .colab-df-container {\n",
              "      display:flex;\n",
              "      flex-wrap:wrap;\n",
              "      gap: 12px;\n",
              "    }\n",
              "\n",
              "    .colab-df-convert {\n",
              "      background-color: #E8F0FE;\n",
              "      border: none;\n",
              "      border-radius: 50%;\n",
              "      cursor: pointer;\n",
              "      display: none;\n",
              "      fill: #1967D2;\n",
              "      height: 32px;\n",
              "      padding: 0 0 0 0;\n",
              "      width: 32px;\n",
              "    }\n",
              "\n",
              "    .colab-df-convert:hover {\n",
              "      background-color: #E2EBFA;\n",
              "      box-shadow: 0px 1px 2px rgba(60, 64, 67, 0.3), 0px 1px 3px 1px rgba(60, 64, 67, 0.15);\n",
              "      fill: #174EA6;\n",
              "    }\n",
              "\n",
              "    [theme=dark] .colab-df-convert {\n",
              "      background-color: #3B4455;\n",
              "      fill: #D2E3FC;\n",
              "    }\n",
              "\n",
              "    [theme=dark] .colab-df-convert:hover {\n",
              "      background-color: #434B5C;\n",
              "      box-shadow: 0px 1px 3px 1px rgba(0, 0, 0, 0.15);\n",
              "      filter: drop-shadow(0px 1px 2px rgba(0, 0, 0, 0.3));\n",
              "      fill: #FFFFFF;\n",
              "    }\n",
              "  </style>\n",
              "\n",
              "      <script>\n",
              "        const buttonEl =\n",
              "          document.querySelector('#df-bfcb8335-417d-4ab8-9f37-1b7a13d34ed3 button.colab-df-convert');\n",
              "        buttonEl.style.display =\n",
              "          google.colab.kernel.accessAllowed ? 'block' : 'none';\n",
              "\n",
              "        async function convertToInteractive(key) {\n",
              "          const element = document.querySelector('#df-bfcb8335-417d-4ab8-9f37-1b7a13d34ed3');\n",
              "          const dataTable =\n",
              "            await google.colab.kernel.invokeFunction('convertToInteractive',\n",
              "                                                     [key], {});\n",
              "          if (!dataTable) return;\n",
              "\n",
              "          const docLinkHtml = 'Like what you see? Visit the ' +\n",
              "            '<a target=\"_blank\" href=https://colab.research.google.com/notebooks/data_table.ipynb>data table notebook</a>'\n",
              "            + ' to learn more about interactive tables.';\n",
              "          element.innerHTML = '';\n",
              "          dataTable['output_type'] = 'display_data';\n",
              "          await google.colab.output.renderOutput(dataTable, element);\n",
              "          const docLink = document.createElement('div');\n",
              "          docLink.innerHTML = docLinkHtml;\n",
              "          element.appendChild(docLink);\n",
              "        }\n",
              "      </script>\n",
              "    </div>\n",
              "  </div>\n",
              "  "
            ]
          },
          "metadata": {},
          "execution_count": 7
        }
      ]
    },
    {
      "cell_type": "code",
      "source": [
        "from sklearn.preprocessing import LabelEncoder\n",
        "#sex\n",
        "le = LabelEncoder()\n",
        "le.fit(Medic.sex.drop_duplicates()) \n",
        "Medic.sex = le.transform(Medic.sex)\n",
        "# smoker or not\n",
        "le.fit(Medic.smoker.drop_duplicates()) \n",
        "Medic.smoker = le.transform(Medic.smoker)\n",
        "#region\n",
        "le.fit(Medic.region.drop_duplicates()) \n",
        "Medic.region = le.transform(Medic.region)\n",
        "Medic.head()"
      ],
      "metadata": {
        "colab": {
          "base_uri": "https://localhost:8080/",
          "height": 206
        },
        "id": "TvFeWFdfwKJf",
        "outputId": "cec77417-9135-4676-d5f1-eab8b4e80d91"
      },
      "execution_count": null,
      "outputs": [
        {
          "output_type": "execute_result",
          "data": {
            "text/plain": [
              "   age  sex     bmi  children  smoker  region      charges\n",
              "0   19    0  27.900         0       1       3  16884.92400\n",
              "1   18    1  33.770         1       0       2   1725.55230\n",
              "2   28    1  33.000         3       0       2   4449.46200\n",
              "3   33    1  22.705         0       0       1  21984.47061\n",
              "4   32    1  28.880         0       0       1   3866.85520"
            ],
            "text/html": [
              "\n",
              "  <div id=\"df-8cc66978-d764-454a-94ea-eff4fb39ff47\">\n",
              "    <div class=\"colab-df-container\">\n",
              "      <div>\n",
              "<style scoped>\n",
              "    .dataframe tbody tr th:only-of-type {\n",
              "        vertical-align: middle;\n",
              "    }\n",
              "\n",
              "    .dataframe tbody tr th {\n",
              "        vertical-align: top;\n",
              "    }\n",
              "\n",
              "    .dataframe thead th {\n",
              "        text-align: right;\n",
              "    }\n",
              "</style>\n",
              "<table border=\"1\" class=\"dataframe\">\n",
              "  <thead>\n",
              "    <tr style=\"text-align: right;\">\n",
              "      <th></th>\n",
              "      <th>age</th>\n",
              "      <th>sex</th>\n",
              "      <th>bmi</th>\n",
              "      <th>children</th>\n",
              "      <th>smoker</th>\n",
              "      <th>region</th>\n",
              "      <th>charges</th>\n",
              "    </tr>\n",
              "  </thead>\n",
              "  <tbody>\n",
              "    <tr>\n",
              "      <th>0</th>\n",
              "      <td>19</td>\n",
              "      <td>0</td>\n",
              "      <td>27.900</td>\n",
              "      <td>0</td>\n",
              "      <td>1</td>\n",
              "      <td>3</td>\n",
              "      <td>16884.92400</td>\n",
              "    </tr>\n",
              "    <tr>\n",
              "      <th>1</th>\n",
              "      <td>18</td>\n",
              "      <td>1</td>\n",
              "      <td>33.770</td>\n",
              "      <td>1</td>\n",
              "      <td>0</td>\n",
              "      <td>2</td>\n",
              "      <td>1725.55230</td>\n",
              "    </tr>\n",
              "    <tr>\n",
              "      <th>2</th>\n",
              "      <td>28</td>\n",
              "      <td>1</td>\n",
              "      <td>33.000</td>\n",
              "      <td>3</td>\n",
              "      <td>0</td>\n",
              "      <td>2</td>\n",
              "      <td>4449.46200</td>\n",
              "    </tr>\n",
              "    <tr>\n",
              "      <th>3</th>\n",
              "      <td>33</td>\n",
              "      <td>1</td>\n",
              "      <td>22.705</td>\n",
              "      <td>0</td>\n",
              "      <td>0</td>\n",
              "      <td>1</td>\n",
              "      <td>21984.47061</td>\n",
              "    </tr>\n",
              "    <tr>\n",
              "      <th>4</th>\n",
              "      <td>32</td>\n",
              "      <td>1</td>\n",
              "      <td>28.880</td>\n",
              "      <td>0</td>\n",
              "      <td>0</td>\n",
              "      <td>1</td>\n",
              "      <td>3866.85520</td>\n",
              "    </tr>\n",
              "  </tbody>\n",
              "</table>\n",
              "</div>\n",
              "      <button class=\"colab-df-convert\" onclick=\"convertToInteractive('df-8cc66978-d764-454a-94ea-eff4fb39ff47')\"\n",
              "              title=\"Convert this dataframe to an interactive table.\"\n",
              "              style=\"display:none;\">\n",
              "        \n",
              "  <svg xmlns=\"http://www.w3.org/2000/svg\" height=\"24px\"viewBox=\"0 0 24 24\"\n",
              "       width=\"24px\">\n",
              "    <path d=\"M0 0h24v24H0V0z\" fill=\"none\"/>\n",
              "    <path d=\"M18.56 5.44l.94 2.06.94-2.06 2.06-.94-2.06-.94-.94-2.06-.94 2.06-2.06.94zm-11 1L8.5 8.5l.94-2.06 2.06-.94-2.06-.94L8.5 2.5l-.94 2.06-2.06.94zm10 10l.94 2.06.94-2.06 2.06-.94-2.06-.94-.94-2.06-.94 2.06-2.06.94z\"/><path d=\"M17.41 7.96l-1.37-1.37c-.4-.4-.92-.59-1.43-.59-.52 0-1.04.2-1.43.59L10.3 9.45l-7.72 7.72c-.78.78-.78 2.05 0 2.83L4 21.41c.39.39.9.59 1.41.59.51 0 1.02-.2 1.41-.59l7.78-7.78 2.81-2.81c.8-.78.8-2.07 0-2.86zM5.41 20L4 18.59l7.72-7.72 1.47 1.35L5.41 20z\"/>\n",
              "  </svg>\n",
              "      </button>\n",
              "      \n",
              "  <style>\n",
              "    .colab-df-container {\n",
              "      display:flex;\n",
              "      flex-wrap:wrap;\n",
              "      gap: 12px;\n",
              "    }\n",
              "\n",
              "    .colab-df-convert {\n",
              "      background-color: #E8F0FE;\n",
              "      border: none;\n",
              "      border-radius: 50%;\n",
              "      cursor: pointer;\n",
              "      display: none;\n",
              "      fill: #1967D2;\n",
              "      height: 32px;\n",
              "      padding: 0 0 0 0;\n",
              "      width: 32px;\n",
              "    }\n",
              "\n",
              "    .colab-df-convert:hover {\n",
              "      background-color: #E2EBFA;\n",
              "      box-shadow: 0px 1px 2px rgba(60, 64, 67, 0.3), 0px 1px 3px 1px rgba(60, 64, 67, 0.15);\n",
              "      fill: #174EA6;\n",
              "    }\n",
              "\n",
              "    [theme=dark] .colab-df-convert {\n",
              "      background-color: #3B4455;\n",
              "      fill: #D2E3FC;\n",
              "    }\n",
              "\n",
              "    [theme=dark] .colab-df-convert:hover {\n",
              "      background-color: #434B5C;\n",
              "      box-shadow: 0px 1px 3px 1px rgba(0, 0, 0, 0.15);\n",
              "      filter: drop-shadow(0px 1px 2px rgba(0, 0, 0, 0.3));\n",
              "      fill: #FFFFFF;\n",
              "    }\n",
              "  </style>\n",
              "\n",
              "      <script>\n",
              "        const buttonEl =\n",
              "          document.querySelector('#df-8cc66978-d764-454a-94ea-eff4fb39ff47 button.colab-df-convert');\n",
              "        buttonEl.style.display =\n",
              "          google.colab.kernel.accessAllowed ? 'block' : 'none';\n",
              "\n",
              "        async function convertToInteractive(key) {\n",
              "          const element = document.querySelector('#df-8cc66978-d764-454a-94ea-eff4fb39ff47');\n",
              "          const dataTable =\n",
              "            await google.colab.kernel.invokeFunction('convertToInteractive',\n",
              "                                                     [key], {});\n",
              "          if (!dataTable) return;\n",
              "\n",
              "          const docLinkHtml = 'Like what you see? Visit the ' +\n",
              "            '<a target=\"_blank\" href=https://colab.research.google.com/notebooks/data_table.ipynb>data table notebook</a>'\n",
              "            + ' to learn more about interactive tables.';\n",
              "          element.innerHTML = '';\n",
              "          dataTable['output_type'] = 'display_data';\n",
              "          await google.colab.output.renderOutput(dataTable, element);\n",
              "          const docLink = document.createElement('div');\n",
              "          docLink.innerHTML = docLinkHtml;\n",
              "          element.appendChild(docLink);\n",
              "        }\n",
              "      </script>\n",
              "    </div>\n",
              "  </div>\n",
              "  "
            ]
          },
          "metadata": {},
          "execution_count": 8
        }
      ]
    },
    {
      "cell_type": "code",
      "source": [
        "Medic.dtypes"
      ],
      "metadata": {
        "colab": {
          "base_uri": "https://localhost:8080/"
        },
        "id": "-0PWOTLudBqs",
        "outputId": "7e2fce30-10d1-4751-8f3f-f014f45a16db"
      },
      "execution_count": null,
      "outputs": [
        {
          "output_type": "execute_result",
          "data": {
            "text/plain": [
              "age           int64\n",
              "sex           int64\n",
              "bmi         float64\n",
              "children      int64\n",
              "smoker        int64\n",
              "region        int64\n",
              "charges     float64\n",
              "dtype: object"
            ]
          },
          "metadata": {},
          "execution_count": 9
        }
      ]
    },
    {
      "cell_type": "code",
      "source": [
        "korelasi = Medic.corr()\n",
        "sns.heatmap(korelasi, annot = True)\n",
        "plt.show()"
      ],
      "metadata": {
        "colab": {
          "base_uri": "https://localhost:8080/",
          "height": 300
        },
        "id": "xImqrNr68YjF",
        "outputId": "6d718d63-415d-4a4d-98ce-d5e11f4f5ac4"
      },
      "execution_count": null,
      "outputs": [
        {
          "output_type": "display_data",
          "data": {
            "text/plain": [
              "<Figure size 432x288 with 2 Axes>"
            ],
            "image/png": "[encoded data removed]"
          },
          "metadata": {
            "needs_background": "light"
          }
        }
      ]
    },
    {
      "cell_type": "code",
      "source": [
        "#Medic = Medic.drop(labels='sex', axis=1)\n",
        "#Medic = Medic.drop(labels='children', axis=1)\n",
        "Medic = Medic.drop(labels='region', axis=1)"
      ],
      "metadata": {
        "id": "b6cxal0bwckk"
      },
      "execution_count": null,
      "outputs": []
    },
    {
      "cell_type": "code",
      "source": [
        "Medic.head()"
      ],
      "metadata": {
        "colab": {
          "base_uri": "https://localhost:8080/",
          "height": 206
        },
        "id": "n52Bz2Tewe3t",
        "outputId": "0156f745-8660-43ac-c407-11078065f005"
      },
      "execution_count": null,
      "outputs": [
        {
          "output_type": "execute_result",
          "data": {
            "text/plain": [
              "   age  sex     bmi  children  smoker      charges\n",
              "0   19    0  27.900         0       1  16884.92400\n",
              "1   18    1  33.770         1       0   1725.55230\n",
              "2   28    1  33.000         3       0   4449.46200\n",
              "3   33    1  22.705         0       0  21984.47061\n",
              "4   32    1  28.880         0       0   3866.85520"
            ],
            "text/html": [
              "\n",
              "  <div id=\"df-839910ff-8f9f-47b5-9271-924662509395\">\n",
              "    <div class=\"colab-df-container\">\n",
              "      <div>\n",
              "<style scoped>\n",
              "    .dataframe tbody tr th:only-of-type {\n",
              "        vertical-align: middle;\n",
              "    }\n",
              "\n",
              "    .dataframe tbody tr th {\n",
              "        vertical-align: top;\n",
              "    }\n",
              "\n",
              "    .dataframe thead th {\n",
              "        text-align: right;\n",
              "    }\n",
              "</style>\n",
              "<table border=\"1\" class=\"dataframe\">\n",
              "  <thead>\n",
              "    <tr style=\"text-align: right;\">\n",
              "      <th></th>\n",
              "      <th>age</th>\n",
              "      <th>sex</th>\n",
              "      <th>bmi</th>\n",
              "      <th>children</th>\n",
              "      <th>smoker</th>\n",
              "      <th>charges</th>\n",
              "    </tr>\n",
              "  </thead>\n",
              "  <tbody>\n",
              "    <tr>\n",
              "      <th>0</th>\n",
              "      <td>19</td>\n",
              "      <td>0</td>\n",
              "      <td>27.900</td>\n",
              "      <td>0</td>\n",
              "      <td>1</td>\n",
              "      <td>16884.92400</td>\n",
              "    </tr>\n",
              "    <tr>\n",
              "      <th>1</th>\n",
              "      <td>18</td>\n",
              "      <td>1</td>\n",
              "      <td>33.770</td>\n",
              "      <td>1</td>\n",
              "      <td>0</td>\n",
              "      <td>1725.55230</td>\n",
              "    </tr>\n",
              "    <tr>\n",
              "      <th>2</th>\n",
              "      <td>28</td>\n",
              "      <td>1</td>\n",
              "      <td>33.000</td>\n",
              "      <td>3</td>\n",
              "      <td>0</td>\n",
              "      <td>4449.46200</td>\n",
              "    </tr>\n",
              "    <tr>\n",
              "      <th>3</th>\n",
              "      <td>33</td>\n",
              "      <td>1</td>\n",
              "      <td>22.705</td>\n",
              "      <td>0</td>\n",
              "      <td>0</td>\n",
              "      <td>21984.47061</td>\n",
              "    </tr>\n",
              "    <tr>\n",
              "      <th>4</th>\n",
              "      <td>32</td>\n",
              "      <td>1</td>\n",
              "      <td>28.880</td>\n",
              "      <td>0</td>\n",
              "      <td>0</td>\n",
              "      <td>3866.85520</td>\n",
              "    </tr>\n",
              "  </tbody>\n",
              "</table>\n",
              "</div>\n",
              "      <button class=\"colab-df-convert\" onclick=\"convertToInteractive('df-839910ff-8f9f-47b5-9271-924662509395')\"\n",
              "              title=\"Convert this dataframe to an interactive table.\"\n",
              "              style=\"display:none;\">\n",
              "        \n",
              "  <svg xmlns=\"http://www.w3.org/2000/svg\" height=\"24px\"viewBox=\"0 0 24 24\"\n",
              "       width=\"24px\">\n",
              "    <path d=\"M0 0h24v24H0V0z\" fill=\"none\"/>\n",
              "    <path d=\"M18.56 5.44l.94 2.06.94-2.06 2.06-.94-2.06-.94-.94-2.06-.94 2.06-2.06.94zm-11 1L8.5 8.5l.94-2.06 2.06-.94-2.06-.94L8.5 2.5l-.94 2.06-2.06.94zm10 10l.94 2.06.94-2.06 2.06-.94-2.06-.94-.94-2.06-.94 2.06-2.06.94z\"/><path d=\"M17.41 7.96l-1.37-1.37c-.4-.4-.92-.59-1.43-.59-.52 0-1.04.2-1.43.59L10.3 9.45l-7.72 7.72c-.78.78-.78 2.05 0 2.83L4 21.41c.39.39.9.59 1.41.59.51 0 1.02-.2 1.41-.59l7.78-7.78 2.81-2.81c.8-.78.8-2.07 0-2.86zM5.41 20L4 18.59l7.72-7.72 1.47 1.35L5.41 20z\"/>\n",
              "  </svg>\n",
              "      </button>\n",
              "      \n",
              "  <style>\n",
              "    .colab-df-container {\n",
              "      display:flex;\n",
              "      flex-wrap:wrap;\n",
              "      gap: 12px;\n",
              "    }\n",
              "\n",
              "    .colab-df-convert {\n",
              "      background-color: #E8F0FE;\n",
              "      border: none;\n",
              "      border-radius: 50%;\n",
              "      cursor: pointer;\n",
              "      display: none;\n",
              "      fill: #1967D2;\n",
              "      height: 32px;\n",
              "      padding: 0 0 0 0;\n",
              "      width: 32px;\n",
              "    }\n",
              "\n",
              "    .colab-df-convert:hover {\n",
              "      background-color: #E2EBFA;\n",
              "      box-shadow: 0px 1px 2px rgba(60, 64, 67, 0.3), 0px 1px 3px 1px rgba(60, 64, 67, 0.15);\n",
              "      fill: #174EA6;\n",
              "    }\n",
              "\n",
              "    [theme=dark] .colab-df-convert {\n",
              "      background-color: #3B4455;\n",
              "      fill: #D2E3FC;\n",
              "    }\n",
              "\n",
              "    [theme=dark] .colab-df-convert:hover {\n",
              "      background-color: #434B5C;\n",
              "      box-shadow: 0px 1px 3px 1px rgba(0, 0, 0, 0.15);\n",
              "      filter: drop-shadow(0px 1px 2px rgba(0, 0, 0, 0.3));\n",
              "      fill: #FFFFFF;\n",
              "    }\n",
              "  </style>\n",
              "\n",
              "      <script>\n",
              "        const buttonEl =\n",
              "          document.querySelector('#df-839910ff-8f9f-47b5-9271-924662509395 button.colab-df-convert');\n",
              "        buttonEl.style.display =\n",
              "          google.colab.kernel.accessAllowed ? 'block' : 'none';\n",
              "\n",
              "        async function convertToInteractive(key) {\n",
              "          const element = document.querySelector('#df-839910ff-8f9f-47b5-9271-924662509395');\n",
              "          const dataTable =\n",
              "            await google.colab.kernel.invokeFunction('convertToInteractive',\n",
              "                                                     [key], {});\n",
              "          if (!dataTable) return;\n",
              "\n",
              "          const docLinkHtml = 'Like what you see? Visit the ' +\n",
              "            '<a target=\"_blank\" href=https://colab.research.google.com/notebooks/data_table.ipynb>data table notebook</a>'\n",
              "            + ' to learn more about interactive tables.';\n",
              "          element.innerHTML = '';\n",
              "          dataTable['output_type'] = 'display_data';\n",
              "          await google.colab.output.renderOutput(dataTable, element);\n",
              "          const docLink = document.createElement('div');\n",
              "          docLink.innerHTML = docLinkHtml;\n",
              "          element.appendChild(docLink);\n",
              "        }\n",
              "      </script>\n",
              "    </div>\n",
              "  </div>\n",
              "  "
            ]
          },
          "metadata": {},
          "execution_count": 12
        }
      ]
    },
    {
      "cell_type": "code",
      "source": [
        "Medic.plot(kind=\"box\", subplots=True, layout=(4,4), figsize=(10,10)) "
      ],
      "metadata": {
        "colab": {
          "base_uri": "https://localhost:8080/",
          "height": 429
        },
        "id": "D-11FDUhgcJn",
        "outputId": "a1231468-b167-4687-be0c-0b424dac438c"
      },
      "execution_count": null,
      "outputs": [
        {
          "output_type": "execute_result",
          "data": {
            "text/plain": [
              "age             AxesSubplot(0.125,0.71587;0.168478x0.16413)\n",
              "sex          AxesSubplot(0.327174,0.71587;0.168478x0.16413)\n",
              "bmi          AxesSubplot(0.529348,0.71587;0.168478x0.16413)\n",
              "children     AxesSubplot(0.731522,0.71587;0.168478x0.16413)\n",
              "smoker         AxesSubplot(0.125,0.518913;0.168478x0.16413)\n",
              "charges     AxesSubplot(0.327174,0.518913;0.168478x0.16413)\n",
              "dtype: object"
            ]
          },
          "metadata": {},
          "execution_count": 13
        },
        {
          "output_type": "display_data",
          "data": {
            "text/plain": [
              "<Figure size 720x720 with 16 Axes>"
            ],
            "image/png": "[encoded data removed]"
          },
          "metadata": {
            "needs_background": "light"
          }
        }
      ]
    },
    {
      "cell_type": "code",
      "source": [
        "z1 = np.abs(stats.zscore(Medic[\"bmi\"]))\n",
        "threshold = 2\n",
        "print(np.where(z1 > threshold))\n",
        "outliers1 = np.where(z1 > threshold)\n",
        "amount_outliers1 = list((int(j) for i in outliers1 for j in i))\n",
        "print(len(amount_outliers1))\n",
        "100* len(amount_outliers1)/len(Medic)"
      ],
      "metadata": {
        "colab": {
          "base_uri": "https://localhost:8080/"
        },
        "id": "iaHDQ42ZgiLW",
        "outputId": "18240616-970c-47f7-dc08-3364655f15b1"
      },
      "execution_count": null,
      "outputs": [
        {
          "output_type": "stream",
          "name": "stdout",
          "text": [
            "(array([  28,  116,  128,  172,  198,  232,  250,  286,  292,  356,  380,\n",
            "        383,  401,  410,  412,  428,  438,  442,  454,  493,  521,  543,\n",
            "        547,  549,  563,  572,  582,  660,  674,  680,  701,  796,  811,\n",
            "        821,  847,  860,  867,  895,  930,  941,  950,  951, 1024, 1029,\n",
            "       1047, 1074, 1085, 1088, 1131, 1133, 1156, 1205, 1226, 1286, 1312,\n",
            "       1317, 1332]),)\n",
            "57\n"
          ]
        },
        {
          "output_type": "execute_result",
          "data": {
            "text/plain": [
              "4.260089686098655"
            ]
          },
          "metadata": {},
          "execution_count": 14
        }
      ]
    },
    {
      "cell_type": "code",
      "source": [
        "Medic.drop(outliers1[0], inplace = True)"
      ],
      "metadata": {
        "id": "bTTJxgmFhtp4"
      },
      "execution_count": null,
      "outputs": []
    },
    {
      "cell_type": "code",
      "source": [
        "100*len(np.where(Medic[\"charges\"]>32000))/len(Medic)"
      ],
      "metadata": {
        "colab": {
          "base_uri": "https://localhost:8080/"
        },
        "id": "ns6Xl0AfrA7O",
        "outputId": "d6465ba5-8a55-4067-de4e-c0268831f5d1"
      },
      "execution_count": null,
      "outputs": [
        {
          "output_type": "execute_result",
          "data": {
            "text/plain": [
              "0.078064012490242"
            ]
          },
          "metadata": {},
          "execution_count": 16
        }
      ]
    },
    {
      "cell_type": "code",
      "source": [
        "Medic.drop(Medic[Medic['charges'] >32000].index, inplace = True)"
      ],
      "metadata": {
        "id": "CQGxfqm8hy-C"
      },
      "execution_count": null,
      "outputs": []
    },
    {
      "cell_type": "code",
      "source": [
        "len(np.where(Medic[\"smoker\"]==1))/len(Medic)"
      ],
      "metadata": {
        "colab": {
          "base_uri": "https://localhost:8080/"
        },
        "id": "gzon32SltTyC",
        "outputId": "5da0c89b-f359-4d42-9c84-4c8018239a6c"
      },
      "execution_count": null,
      "outputs": [
        {
          "output_type": "execute_result",
          "data": {
            "text/plain": [
              "0.000881057268722467"
            ]
          },
          "metadata": {},
          "execution_count": 18
        }
      ]
    },
    {
      "cell_type": "code",
      "source": [
        "#Medic.drop(Medic[Medic['smoker'] >0].index, inplace = True)"
      ],
      "metadata": {
        "id": "IEPDtsHhtaia"
      },
      "execution_count": null,
      "outputs": []
    },
    {
      "cell_type": "code",
      "source": [
        "Medic.plot(kind=\"box\", subplots=True, layout=(4,4), figsize=(10,10)) "
      ],
      "metadata": {
        "colab": {
          "base_uri": "https://localhost:8080/",
          "height": 429
        },
        "id": "dTesAKbtjmrC",
        "outputId": "0974e379-1f5d-4f42-bc01-ce315af47c98"
      },
      "execution_count": null,
      "outputs": [
        {
          "output_type": "execute_result",
          "data": {
            "text/plain": [
              "age             AxesSubplot(0.125,0.71587;0.168478x0.16413)\n",
              "sex          AxesSubplot(0.327174,0.71587;0.168478x0.16413)\n",
              "bmi          AxesSubplot(0.529348,0.71587;0.168478x0.16413)\n",
              "children     AxesSubplot(0.731522,0.71587;0.168478x0.16413)\n",
              "smoker         AxesSubplot(0.125,0.518913;0.168478x0.16413)\n",
              "charges     AxesSubplot(0.327174,0.518913;0.168478x0.16413)\n",
              "dtype: object"
            ]
          },
          "metadata": {},
          "execution_count": 20
        },
        {
          "output_type": "display_data",
          "data": {
            "text/plain": [
              "<Figure size 720x720 with 16 Axes>"
            ],
            "image/png": "[encoded data removed]"
          },
          "metadata": {
            "needs_background": "light"
          }
        }
      ]
    },
    {
      "cell_type": "code",
      "source": [
        "100*len(np.where(Medic[\"charges\"]>20050))/len(Medic)"
      ],
      "metadata": {
        "colab": {
          "base_uri": "https://localhost:8080/"
        },
        "id": "I9J8IMD1CMyA",
        "outputId": "d76ea290-96ff-468e-8b0e-ab5eedf2f313"
      },
      "execution_count": null,
      "outputs": [
        {
          "output_type": "execute_result",
          "data": {
            "text/plain": [
              "0.0881057268722467"
            ]
          },
          "metadata": {},
          "execution_count": 21
        }
      ]
    },
    {
      "cell_type": "code",
      "source": [
        "Medic.drop(Medic[Medic['charges'] >20050].index, inplace = True)"
      ],
      "metadata": {
        "id": "TttVMR0_CVV5"
      },
      "execution_count": null,
      "outputs": []
    },
    {
      "cell_type": "code",
      "source": [
        "Medic.plot(kind=\"box\", subplots=True, layout=(4,4), figsize=(10,10)) "
      ],
      "metadata": {
        "colab": {
          "base_uri": "https://localhost:8080/",
          "height": 429
        },
        "id": "bS4nmLxTClfN",
        "outputId": "396b7dbf-737e-43b7-c88a-84384a4820e0"
      },
      "execution_count": null,
      "outputs": [
        {
          "output_type": "execute_result",
          "data": {
            "text/plain": [
              "age             AxesSubplot(0.125,0.71587;0.168478x0.16413)\n",
              "sex          AxesSubplot(0.327174,0.71587;0.168478x0.16413)\n",
              "bmi          AxesSubplot(0.529348,0.71587;0.168478x0.16413)\n",
              "children     AxesSubplot(0.731522,0.71587;0.168478x0.16413)\n",
              "smoker         AxesSubplot(0.125,0.518913;0.168478x0.16413)\n",
              "charges     AxesSubplot(0.327174,0.518913;0.168478x0.16413)\n",
              "dtype: object"
            ]
          },
          "metadata": {},
          "execution_count": 23
        },
        {
          "output_type": "display_data",
          "data": {
            "text/plain": [
              "<Figure size 720x720 with 16 Axes>"
            ],
            "image/png": "[encoded data removed]"
          },
          "metadata": {
            "needs_background": "light"
          }
        }
      ]
    },
    {
      "cell_type": "code",
      "source": [
        "#Medic[\"children\"] = np.where(Medic[\"children\"]>= 1, 0, Medic['children'])"
      ],
      "metadata": {
        "id": "XtIquUPoCtIX"
      },
      "execution_count": null,
      "outputs": []
    },
    {
      "cell_type": "code",
      "source": [
        "Medic.plot(kind=\"box\", subplots=True, layout=(4,4), figsize=(10,10)) "
      ],
      "metadata": {
        "colab": {
          "base_uri": "https://localhost:8080/",
          "height": 429
        },
        "id": "8SGlJTMmCzQM",
        "outputId": "a11c46d6-1dd6-4dec-96ee-e2931ceae3c9"
      },
      "execution_count": null,
      "outputs": [
        {
          "output_type": "execute_result",
          "data": {
            "text/plain": [
              "age             AxesSubplot(0.125,0.71587;0.168478x0.16413)\n",
              "sex          AxesSubplot(0.327174,0.71587;0.168478x0.16413)\n",
              "bmi          AxesSubplot(0.529348,0.71587;0.168478x0.16413)\n",
              "children     AxesSubplot(0.731522,0.71587;0.168478x0.16413)\n",
              "smoker         AxesSubplot(0.125,0.518913;0.168478x0.16413)\n",
              "charges     AxesSubplot(0.327174,0.518913;0.168478x0.16413)\n",
              "dtype: object"
            ]
          },
          "metadata": {},
          "execution_count": 25
        },
        {
          "output_type": "display_data",
          "data": {
            "text/plain": [
              "<Figure size 720x720 with 16 Axes>"
            ],
            "image/png": "[encoded data removed]"
          },
          "metadata": {
            "needs_background": "light"
          }
        }
      ]
    },
    {
      "cell_type": "code",
      "source": [
        "Medic"
      ],
      "metadata": {
        "colab": {
          "base_uri": "https://localhost:8080/",
          "height": 424
        },
        "id": "pCQkqRio3-IZ",
        "outputId": "22847dce-c16b-450d-ac0d-01b68f502682"
      },
      "execution_count": null,
      "outputs": [
        {
          "output_type": "execute_result",
          "data": {
            "text/plain": [
              "      age  sex    bmi  children  smoker      charges\n",
              "0      19    0  27.90         0       1  16884.92400\n",
              "1      18    1  33.77         1       0   1725.55230\n",
              "2      28    1  33.00         3       0   4449.46200\n",
              "4      32    1  28.88         0       0   3866.85520\n",
              "5      31    0  25.74         0       0   3756.62160\n",
              "...   ...  ...    ...       ...     ...          ...\n",
              "1331   23    0  33.40         0       0  10795.93733\n",
              "1333   50    1  30.97         3       0  10600.54830\n",
              "1334   18    0  31.92         0       0   2205.98080\n",
              "1335   18    0  36.85         0       0   1629.83350\n",
              "1336   21    0  25.80         0       0   2007.94500\n",
              "\n",
              "[1018 rows x 6 columns]"
            ],
            "text/html": [
              "\n",
              "  <div id=\"df-787df356-4da3-48c6-907e-06e0363c90f0\">\n",
              "    <div class=\"colab-df-container\">\n",
              "      <div>\n",
              "<style scoped>\n",
              "    .dataframe tbody tr th:only-of-type {\n",
              "        vertical-align: middle;\n",
              "    }\n",
              "\n",
              "    .dataframe tbody tr th {\n",
              "        vertical-align: top;\n",
              "    }\n",
              "\n",
              "    .dataframe thead th {\n",
              "        text-align: right;\n",
              "    }\n",
              "</style>\n",
              "<table border=\"1\" class=\"dataframe\">\n",
              "  <thead>\n",
              "    <tr style=\"text-align: right;\">\n",
              "      <th></th>\n",
              "      <th>age</th>\n",
              "      <th>sex</th>\n",
              "      <th>bmi</th>\n",
              "      <th>children</th>\n",
              "      <th>smoker</th>\n",
              "      <th>charges</th>\n",
              "    </tr>\n",
              "  </thead>\n",
              "  <tbody>\n",
              "    <tr>\n",
              "      <th>0</th>\n",
              "      <td>19</td>\n",
              "      <td>0</td>\n",
              "      <td>27.90</td>\n",
              "      <td>0</td>\n",
              "      <td>1</td>\n",
              "      <td>16884.92400</td>\n",
              "    </tr>\n",
              "    <tr>\n",
              "      <th>1</th>\n",
              "      <td>18</td>\n",
              "      <td>1</td>\n",
              "      <td>33.77</td>\n",
              "      <td>1</td>\n",
              "      <td>0</td>\n",
              "      <td>1725.55230</td>\n",
              "    </tr>\n",
              "    <tr>\n",
              "      <th>2</th>\n",
              "      <td>28</td>\n",
              "      <td>1</td>\n",
              "      <td>33.00</td>\n",
              "      <td>3</td>\n",
              "      <td>0</td>\n",
              "      <td>4449.46200</td>\n",
              "    </tr>\n",
              "    <tr>\n",
              "      <th>4</th>\n",
              "      <td>32</td>\n",
              "      <td>1</td>\n",
              "      <td>28.88</td>\n",
              "      <td>0</td>\n",
              "      <td>0</td>\n",
              "      <td>3866.85520</td>\n",
              "    </tr>\n",
              "    <tr>\n",
              "      <th>5</th>\n",
              "      <td>31</td>\n",
              "      <td>0</td>\n",
              "      <td>25.74</td>\n",
              "      <td>0</td>\n",
              "      <td>0</td>\n",
              "      <td>3756.62160</td>\n",
              "    </tr>\n",
              "    <tr>\n",
              "      <th>...</th>\n",
              "      <td>...</td>\n",
              "      <td>...</td>\n",
              "      <td>...</td>\n",
              "      <td>...</td>\n",
              "      <td>...</td>\n",
              "      <td>...</td>\n",
              "    </tr>\n",
              "    <tr>\n",
              "      <th>1331</th>\n",
              "      <td>23</td>\n",
              "      <td>0</td>\n",
              "      <td>33.40</td>\n",
              "      <td>0</td>\n",
              "      <td>0</td>\n",
              "      <td>10795.93733</td>\n",
              "    </tr>\n",
              "    <tr>\n",
              "      <th>1333</th>\n",
              "      <td>50</td>\n",
              "      <td>1</td>\n",
              "      <td>30.97</td>\n",
              "      <td>3</td>\n",
              "      <td>0</td>\n",
              "      <td>10600.54830</td>\n",
              "    </tr>\n",
              "    <tr>\n",
              "      <th>1334</th>\n",
              "      <td>18</td>\n",
              "      <td>0</td>\n",
              "      <td>31.92</td>\n",
              "      <td>0</td>\n",
              "      <td>0</td>\n",
              "      <td>2205.98080</td>\n",
              "    </tr>\n",
              "    <tr>\n",
              "      <th>1335</th>\n",
              "      <td>18</td>\n",
              "      <td>0</td>\n",
              "      <td>36.85</td>\n",
              "      <td>0</td>\n",
              "      <td>0</td>\n",
              "      <td>1629.83350</td>\n",
              "    </tr>\n",
              "    <tr>\n",
              "      <th>1336</th>\n",
              "      <td>21</td>\n",
              "      <td>0</td>\n",
              "      <td>25.80</td>\n",
              "      <td>0</td>\n",
              "      <td>0</td>\n",
              "      <td>2007.94500</td>\n",
              "    </tr>\n",
              "  </tbody>\n",
              "</table>\n",
              "<p>1018 rows × 6 columns</p>\n",
              "</div>\n",
              "      <button class=\"colab-df-convert\" onclick=\"convertToInteractive('df-787df356-4da3-48c6-907e-06e0363c90f0')\"\n",
              "              title=\"Convert this dataframe to an interactive table.\"\n",
              "              style=\"display:none;\">\n",
              "        \n",
              "  <svg xmlns=\"http://www.w3.org/2000/svg\" height=\"24px\"viewBox=\"0 0 24 24\"\n",
              "       width=\"24px\">\n",
              "    <path d=\"M0 0h24v24H0V0z\" fill=\"none\"/>\n",
              "    <path d=\"M18.56 5.44l.94 2.06.94-2.06 2.06-.94-2.06-.94-.94-2.06-.94 2.06-2.06.94zm-11 1L8.5 8.5l.94-2.06 2.06-.94-2.06-.94L8.5 2.5l-.94 2.06-2.06.94zm10 10l.94 2.06.94-2.06 2.06-.94-2.06-.94-.94-2.06-.94 2.06-2.06.94z\"/><path d=\"M17.41 7.96l-1.37-1.37c-.4-.4-.92-.59-1.43-.59-.52 0-1.04.2-1.43.59L10.3 9.45l-7.72 7.72c-.78.78-.78 2.05 0 2.83L4 21.41c.39.39.9.59 1.41.59.51 0 1.02-.2 1.41-.59l7.78-7.78 2.81-2.81c.8-.78.8-2.07 0-2.86zM5.41 20L4 18.59l7.72-7.72 1.47 1.35L5.41 20z\"/>\n",
              "  </svg>\n",
              "      </button>\n",
              "      \n",
              "  <style>\n",
              "    .colab-df-container {\n",
              "      display:flex;\n",
              "      flex-wrap:wrap;\n",
              "      gap: 12px;\n",
              "    }\n",
              "\n",
              "    .colab-df-convert {\n",
              "      background-color: #E8F0FE;\n",
              "      border: none;\n",
              "      border-radius: 50%;\n",
              "      cursor: pointer;\n",
              "      display: none;\n",
              "      fill: #1967D2;\n",
              "      height: 32px;\n",
              "      padding: 0 0 0 0;\n",
              "      width: 32px;\n",
              "    }\n",
              "\n",
              "    .colab-df-convert:hover {\n",
              "      background-color: #E2EBFA;\n",
              "      box-shadow: 0px 1px 2px rgba(60, 64, 67, 0.3), 0px 1px 3px 1px rgba(60, 64, 67, 0.15);\n",
              "      fill: #174EA6;\n",
              "    }\n",
              "\n",
              "    [theme=dark] .colab-df-convert {\n",
              "      background-color: #3B4455;\n",
              "      fill: #D2E3FC;\n",
              "    }\n",
              "\n",
              "    [theme=dark] .colab-df-convert:hover {\n",
              "      background-color: #434B5C;\n",
              "      box-shadow: 0px 1px 3px 1px rgba(0, 0, 0, 0.15);\n",
              "      filter: drop-shadow(0px 1px 2px rgba(0, 0, 0, 0.3));\n",
              "      fill: #FFFFFF;\n",
              "    }\n",
              "  </style>\n",
              "\n",
              "      <script>\n",
              "        const buttonEl =\n",
              "          document.querySelector('#df-787df356-4da3-48c6-907e-06e0363c90f0 button.colab-df-convert');\n",
              "        buttonEl.style.display =\n",
              "          google.colab.kernel.accessAllowed ? 'block' : 'none';\n",
              "\n",
              "        async function convertToInteractive(key) {\n",
              "          const element = document.querySelector('#df-787df356-4da3-48c6-907e-06e0363c90f0');\n",
              "          const dataTable =\n",
              "            await google.colab.kernel.invokeFunction('convertToInteractive',\n",
              "                                                     [key], {});\n",
              "          if (!dataTable) return;\n",
              "\n",
              "          const docLinkHtml = 'Like what you see? Visit the ' +\n",
              "            '<a target=\"_blank\" href=https://colab.research.google.com/notebooks/data_table.ipynb>data table notebook</a>'\n",
              "            + ' to learn more about interactive tables.';\n",
              "          element.innerHTML = '';\n",
              "          dataTable['output_type'] = 'display_data';\n",
              "          await google.colab.output.renderOutput(dataTable, element);\n",
              "          const docLink = document.createElement('div');\n",
              "          docLink.innerHTML = docLinkHtml;\n",
              "          element.appendChild(docLink);\n",
              "        }\n",
              "      </script>\n",
              "    </div>\n",
              "  </div>\n",
              "  "
            ]
          },
          "metadata": {},
          "execution_count": 26
        }
      ]
    },
    {
      "cell_type": "code",
      "source": [
        "Medic.drop_duplicates()"
      ],
      "metadata": {
        "colab": {
          "base_uri": "https://localhost:8080/",
          "height": 424
        },
        "id": "O_49vX1XkVLQ",
        "outputId": "d009a285-c051-4f48-f5a0-a045e0ac7255"
      },
      "execution_count": null,
      "outputs": [
        {
          "output_type": "execute_result",
          "data": {
            "text/plain": [
              "      age  sex    bmi  children  smoker      charges\n",
              "0      19    0  27.90         0       1  16884.92400\n",
              "1      18    1  33.77         1       0   1725.55230\n",
              "2      28    1  33.00         3       0   4449.46200\n",
              "4      32    1  28.88         0       0   3866.85520\n",
              "5      31    0  25.74         0       0   3756.62160\n",
              "...   ...  ...    ...       ...     ...          ...\n",
              "1331   23    0  33.40         0       0  10795.93733\n",
              "1333   50    1  30.97         3       0  10600.54830\n",
              "1334   18    0  31.92         0       0   2205.98080\n",
              "1335   18    0  36.85         0       0   1629.83350\n",
              "1336   21    0  25.80         0       0   2007.94500\n",
              "\n",
              "[1017 rows x 6 columns]"
            ],
            "text/html": [
              "\n",
              "  <div id=\"df-fc39dd2e-13b2-403d-8981-6166eb6c4e6d\">\n",
              "    <div class=\"colab-df-container\">\n",
              "      <div>\n",
              "<style scoped>\n",
              "    .dataframe tbody tr th:only-of-type {\n",
              "        vertical-align: middle;\n",
              "    }\n",
              "\n",
              "    .dataframe tbody tr th {\n",
              "        vertical-align: top;\n",
              "    }\n",
              "\n",
              "    .dataframe thead th {\n",
              "        text-align: right;\n",
              "    }\n",
              "</style>\n",
              "<table border=\"1\" class=\"dataframe\">\n",
              "  <thead>\n",
              "    <tr style=\"text-align: right;\">\n",
              "      <th></th>\n",
              "      <th>age</th>\n",
              "      <th>sex</th>\n",
              "      <th>bmi</th>\n",
              "      <th>children</th>\n",
              "      <th>smoker</th>\n",
              "      <th>charges</th>\n",
              "    </tr>\n",
              "  </thead>\n",
              "  <tbody>\n",
              "    <tr>\n",
              "      <th>0</th>\n",
              "      <td>19</td>\n",
              "      <td>0</td>\n",
              "      <td>27.90</td>\n",
              "      <td>0</td>\n",
              "      <td>1</td>\n",
              "      <td>16884.92400</td>\n",
              "    </tr>\n",
              "    <tr>\n",
              "      <th>1</th>\n",
              "      <td>18</td>\n",
              "      <td>1</td>\n",
              "      <td>33.77</td>\n",
              "      <td>1</td>\n",
              "      <td>0</td>\n",
              "      <td>1725.55230</td>\n",
              "    </tr>\n",
              "    <tr>\n",
              "      <th>2</th>\n",
              "      <td>28</td>\n",
              "      <td>1</td>\n",
              "      <td>33.00</td>\n",
              "      <td>3</td>\n",
              "      <td>0</td>\n",
              "      <td>4449.46200</td>\n",
              "    </tr>\n",
              "    <tr>\n",
              "      <th>4</th>\n",
              "      <td>32</td>\n",
              "      <td>1</td>\n",
              "      <td>28.88</td>\n",
              "      <td>0</td>\n",
              "      <td>0</td>\n",
              "      <td>3866.85520</td>\n",
              "    </tr>\n",
              "    <tr>\n",
              "      <th>5</th>\n",
              "      <td>31</td>\n",
              "      <td>0</td>\n",
              "      <td>25.74</td>\n",
              "      <td>0</td>\n",
              "      <td>0</td>\n",
              "      <td>3756.62160</td>\n",
              "    </tr>\n",
              "    <tr>\n",
              "      <th>...</th>\n",
              "      <td>...</td>\n",
              "      <td>...</td>\n",
              "      <td>...</td>\n",
              "      <td>...</td>\n",
              "      <td>...</td>\n",
              "      <td>...</td>\n",
              "    </tr>\n",
              "    <tr>\n",
              "      <th>1331</th>\n",
              "      <td>23</td>\n",
              "      <td>0</td>\n",
              "      <td>33.40</td>\n",
              "      <td>0</td>\n",
              "      <td>0</td>\n",
              "      <td>10795.93733</td>\n",
              "    </tr>\n",
              "    <tr>\n",
              "      <th>1333</th>\n",
              "      <td>50</td>\n",
              "      <td>1</td>\n",
              "      <td>30.97</td>\n",
              "      <td>3</td>\n",
              "      <td>0</td>\n",
              "      <td>10600.54830</td>\n",
              "    </tr>\n",
              "    <tr>\n",
              "      <th>1334</th>\n",
              "      <td>18</td>\n",
              "      <td>0</td>\n",
              "      <td>31.92</td>\n",
              "      <td>0</td>\n",
              "      <td>0</td>\n",
              "      <td>2205.98080</td>\n",
              "    </tr>\n",
              "    <tr>\n",
              "      <th>1335</th>\n",
              "      <td>18</td>\n",
              "      <td>0</td>\n",
              "      <td>36.85</td>\n",
              "      <td>0</td>\n",
              "      <td>0</td>\n",
              "      <td>1629.83350</td>\n",
              "    </tr>\n",
              "    <tr>\n",
              "      <th>1336</th>\n",
              "      <td>21</td>\n",
              "      <td>0</td>\n",
              "      <td>25.80</td>\n",
              "      <td>0</td>\n",
              "      <td>0</td>\n",
              "      <td>2007.94500</td>\n",
              "    </tr>\n",
              "  </tbody>\n",
              "</table>\n",
              "<p>1017 rows × 6 columns</p>\n",
              "</div>\n",
              "      <button class=\"colab-df-convert\" onclick=\"convertToInteractive('df-fc39dd2e-13b2-403d-8981-6166eb6c4e6d')\"\n",
              "              title=\"Convert this dataframe to an interactive table.\"\n",
              "              style=\"display:none;\">\n",
              "        \n",
              "  <svg xmlns=\"http://www.w3.org/2000/svg\" height=\"24px\"viewBox=\"0 0 24 24\"\n",
              "       width=\"24px\">\n",
              "    <path d=\"M0 0h24v24H0V0z\" fill=\"none\"/>\n",
              "    <path d=\"M18.56 5.44l.94 2.06.94-2.06 2.06-.94-2.06-.94-.94-2.06-.94 2.06-2.06.94zm-11 1L8.5 8.5l.94-2.06 2.06-.94-2.06-.94L8.5 2.5l-.94 2.06-2.06.94zm10 10l.94 2.06.94-2.06 2.06-.94-2.06-.94-.94-2.06-.94 2.06-2.06.94z\"/><path d=\"M17.41 7.96l-1.37-1.37c-.4-.4-.92-.59-1.43-.59-.52 0-1.04.2-1.43.59L10.3 9.45l-7.72 7.72c-.78.78-.78 2.05 0 2.83L4 21.41c.39.39.9.59 1.41.59.51 0 1.02-.2 1.41-.59l7.78-7.78 2.81-2.81c.8-.78.8-2.07 0-2.86zM5.41 20L4 18.59l7.72-7.72 1.47 1.35L5.41 20z\"/>\n",
              "  </svg>\n",
              "      </button>\n",
              "      \n",
              "  <style>\n",
              "    .colab-df-container {\n",
              "      display:flex;\n",
              "      flex-wrap:wrap;\n",
              "      gap: 12px;\n",
              "    }\n",
              "\n",
              "    .colab-df-convert {\n",
              "      background-color: #E8F0FE;\n",
              "      border: none;\n",
              "      border-radius: 50%;\n",
              "      cursor: pointer;\n",
              "      display: none;\n",
              "      fill: #1967D2;\n",
              "      height: 32px;\n",
              "      padding: 0 0 0 0;\n",
              "      width: 32px;\n",
              "    }\n",
              "\n",
              "    .colab-df-convert:hover {\n",
              "      background-color: #E2EBFA;\n",
              "      box-shadow: 0px 1px 2px rgba(60, 64, 67, 0.3), 0px 1px 3px 1px rgba(60, 64, 67, 0.15);\n",
              "      fill: #174EA6;\n",
              "    }\n",
              "\n",
              "    [theme=dark] .colab-df-convert {\n",
              "      background-color: #3B4455;\n",
              "      fill: #D2E3FC;\n",
              "    }\n",
              "\n",
              "    [theme=dark] .colab-df-convert:hover {\n",
              "      background-color: #434B5C;\n",
              "      box-shadow: 0px 1px 3px 1px rgba(0, 0, 0, 0.15);\n",
              "      filter: drop-shadow(0px 1px 2px rgba(0, 0, 0, 0.3));\n",
              "      fill: #FFFFFF;\n",
              "    }\n",
              "  </style>\n",
              "\n",
              "      <script>\n",
              "        const buttonEl =\n",
              "          document.querySelector('#df-fc39dd2e-13b2-403d-8981-6166eb6c4e6d button.colab-df-convert');\n",
              "        buttonEl.style.display =\n",
              "          google.colab.kernel.accessAllowed ? 'block' : 'none';\n",
              "\n",
              "        async function convertToInteractive(key) {\n",
              "          const element = document.querySelector('#df-fc39dd2e-13b2-403d-8981-6166eb6c4e6d');\n",
              "          const dataTable =\n",
              "            await google.colab.kernel.invokeFunction('convertToInteractive',\n",
              "                                                     [key], {});\n",
              "          if (!dataTable) return;\n",
              "\n",
              "          const docLinkHtml = 'Like what you see? Visit the ' +\n",
              "            '<a target=\"_blank\" href=https://colab.research.google.com/notebooks/data_table.ipynb>data table notebook</a>'\n",
              "            + ' to learn more about interactive tables.';\n",
              "          element.innerHTML = '';\n",
              "          dataTable['output_type'] = 'display_data';\n",
              "          await google.colab.output.renderOutput(dataTable, element);\n",
              "          const docLink = document.createElement('div');\n",
              "          docLink.innerHTML = docLinkHtml;\n",
              "          element.appendChild(docLink);\n",
              "        }\n",
              "      </script>\n",
              "    </div>\n",
              "  </div>\n",
              "  "
            ]
          },
          "metadata": {},
          "execution_count": 27
        }
      ]
    },
    {
      "cell_type": "code",
      "source": [
        "#Medic['bmi'] = Medic['bmi'].astype(int)\n",
        "#Medic['charges'] = Medic['charges'].astype(int)"
      ],
      "metadata": {
        "id": "iubptzXbzCJk"
      },
      "execution_count": null,
      "outputs": []
    },
    {
      "cell_type": "code",
      "source": [
        "X = Medic.drop(columns =\"charges\")\n",
        "y = Medic['charges']\n",
        "X.shape,y.shape"
      ],
      "metadata": {
        "colab": {
          "base_uri": "https://localhost:8080/"
        },
        "id": "lFPsvtecwguX",
        "outputId": "0f840f9c-de5b-43bf-d370-876a126f93e6"
      },
      "execution_count": null,
      "outputs": [
        {
          "output_type": "execute_result",
          "data": {
            "text/plain": [
              "((1018, 5), (1018,))"
            ]
          },
          "metadata": {},
          "execution_count": 29
        }
      ]
    },
    {
      "cell_type": "code",
      "source": [
        "X"
      ],
      "metadata": {
        "colab": {
          "base_uri": "https://localhost:8080/",
          "height": 424
        },
        "id": "NtEzY3ObZiv8",
        "outputId": "804a5ce8-9f60-450e-e772-636a8f4a4ca6"
      },
      "execution_count": null,
      "outputs": [
        {
          "output_type": "execute_result",
          "data": {
            "text/plain": [
              "      age  sex    bmi  children  smoker\n",
              "0      19    0  27.90         0       1\n",
              "1      18    1  33.77         1       0\n",
              "2      28    1  33.00         3       0\n",
              "4      32    1  28.88         0       0\n",
              "5      31    0  25.74         0       0\n",
              "...   ...  ...    ...       ...     ...\n",
              "1331   23    0  33.40         0       0\n",
              "1333   50    1  30.97         3       0\n",
              "1334   18    0  31.92         0       0\n",
              "1335   18    0  36.85         0       0\n",
              "1336   21    0  25.80         0       0\n",
              "\n",
              "[1018 rows x 5 columns]"
            ],
            "text/html": [
              "\n",
              "  <div id=\"df-b7a2b05c-fd52-45f0-ac40-c4cbb1a91642\">\n",
              "    <div class=\"colab-df-container\">\n",
              "      <div>\n",
              "<style scoped>\n",
              "    .dataframe tbody tr th:only-of-type {\n",
              "        vertical-align: middle;\n",
              "    }\n",
              "\n",
              "    .dataframe tbody tr th {\n",
              "        vertical-align: top;\n",
              "    }\n",
              "\n",
              "    .dataframe thead th {\n",
              "        text-align: right;\n",
              "    }\n",
              "</style>\n",
              "<table border=\"1\" class=\"dataframe\">\n",
              "  <thead>\n",
              "    <tr style=\"text-align: right;\">\n",
              "      <th></th>\n",
              "      <th>age</th>\n",
              "      <th>sex</th>\n",
              "      <th>bmi</th>\n",
              "      <th>children</th>\n",
              "      <th>smoker</th>\n",
              "    </tr>\n",
              "  </thead>\n",
              "  <tbody>\n",
              "    <tr>\n",
              "      <th>0</th>\n",
              "      <td>19</td>\n",
              "      <td>0</td>\n",
              "      <td>27.90</td>\n",
              "      <td>0</td>\n",
              "      <td>1</td>\n",
              "    </tr>\n",
              "    <tr>\n",
              "      <th>1</th>\n",
              "      <td>18</td>\n",
              "      <td>1</td>\n",
              "      <td>33.77</td>\n",
              "      <td>1</td>\n",
              "      <td>0</td>\n",
              "    </tr>\n",
              "    <tr>\n",
              "      <th>2</th>\n",
              "      <td>28</td>\n",
              "      <td>1</td>\n",
              "      <td>33.00</td>\n",
              "      <td>3</td>\n",
              "      <td>0</td>\n",
              "    </tr>\n",
              "    <tr>\n",
              "      <th>4</th>\n",
              "      <td>32</td>\n",
              "      <td>1</td>\n",
              "      <td>28.88</td>\n",
              "      <td>0</td>\n",
              "      <td>0</td>\n",
              "    </tr>\n",
              "    <tr>\n",
              "      <th>5</th>\n",
              "      <td>31</td>\n",
              "      <td>0</td>\n",
              "      <td>25.74</td>\n",
              "      <td>0</td>\n",
              "      <td>0</td>\n",
              "    </tr>\n",
              "    <tr>\n",
              "      <th>...</th>\n",
              "      <td>...</td>\n",
              "      <td>...</td>\n",
              "      <td>...</td>\n",
              "      <td>...</td>\n",
              "      <td>...</td>\n",
              "    </tr>\n",
              "    <tr>\n",
              "      <th>1331</th>\n",
              "      <td>23</td>\n",
              "      <td>0</td>\n",
              "      <td>33.40</td>\n",
              "      <td>0</td>\n",
              "      <td>0</td>\n",
              "    </tr>\n",
              "    <tr>\n",
              "      <th>1333</th>\n",
              "      <td>50</td>\n",
              "      <td>1</td>\n",
              "      <td>30.97</td>\n",
              "      <td>3</td>\n",
              "      <td>0</td>\n",
              "    </tr>\n",
              "    <tr>\n",
              "      <th>1334</th>\n",
              "      <td>18</td>\n",
              "      <td>0</td>\n",
              "      <td>31.92</td>\n",
              "      <td>0</td>\n",
              "      <td>0</td>\n",
              "    </tr>\n",
              "    <tr>\n",
              "      <th>1335</th>\n",
              "      <td>18</td>\n",
              "      <td>0</td>\n",
              "      <td>36.85</td>\n",
              "      <td>0</td>\n",
              "      <td>0</td>\n",
              "    </tr>\n",
              "    <tr>\n",
              "      <th>1336</th>\n",
              "      <td>21</td>\n",
              "      <td>0</td>\n",
              "      <td>25.80</td>\n",
              "      <td>0</td>\n",
              "      <td>0</td>\n",
              "    </tr>\n",
              "  </tbody>\n",
              "</table>\n",
              "<p>1018 rows × 5 columns</p>\n",
              "</div>\n",
              "      <button class=\"colab-df-convert\" onclick=\"convertToInteractive('df-b7a2b05c-fd52-45f0-ac40-c4cbb1a91642')\"\n",
              "              title=\"Convert this dataframe to an interactive table.\"\n",
              "              style=\"display:none;\">\n",
              "        \n",
              "  <svg xmlns=\"http://www.w3.org/2000/svg\" height=\"24px\"viewBox=\"0 0 24 24\"\n",
              "       width=\"24px\">\n",
              "    <path d=\"M0 0h24v24H0V0z\" fill=\"none\"/>\n",
              "    <path d=\"M18.56 5.44l.94 2.06.94-2.06 2.06-.94-2.06-.94-.94-2.06-.94 2.06-2.06.94zm-11 1L8.5 8.5l.94-2.06 2.06-.94-2.06-.94L8.5 2.5l-.94 2.06-2.06.94zm10 10l.94 2.06.94-2.06 2.06-.94-2.06-.94-.94-2.06-.94 2.06-2.06.94z\"/><path d=\"M17.41 7.96l-1.37-1.37c-.4-.4-.92-.59-1.43-.59-.52 0-1.04.2-1.43.59L10.3 9.45l-7.72 7.72c-.78.78-.78 2.05 0 2.83L4 21.41c.39.39.9.59 1.41.59.51 0 1.02-.2 1.41-.59l7.78-7.78 2.81-2.81c.8-.78.8-2.07 0-2.86zM5.41 20L4 18.59l7.72-7.72 1.47 1.35L5.41 20z\"/>\n",
              "  </svg>\n",
              "      </button>\n",
              "      \n",
              "  <style>\n",
              "    .colab-df-container {\n",
              "      display:flex;\n",
              "      flex-wrap:wrap;\n",
              "      gap: 12px;\n",
              "    }\n",
              "\n",
              "    .colab-df-convert {\n",
              "      background-color: #E8F0FE;\n",
              "      border: none;\n",
              "      border-radius: 50%;\n",
              "      cursor: pointer;\n",
              "      display: none;\n",
              "      fill: #1967D2;\n",
              "      height: 32px;\n",
              "      padding: 0 0 0 0;\n",
              "      width: 32px;\n",
              "    }\n",
              "\n",
              "    .colab-df-convert:hover {\n",
              "      background-color: #E2EBFA;\n",
              "      box-shadow: 0px 1px 2px rgba(60, 64, 67, 0.3), 0px 1px 3px 1px rgba(60, 64, 67, 0.15);\n",
              "      fill: #174EA6;\n",
              "    }\n",
              "\n",
              "    [theme=dark] .colab-df-convert {\n",
              "      background-color: #3B4455;\n",
              "      fill: #D2E3FC;\n",
              "    }\n",
              "\n",
              "    [theme=dark] .colab-df-convert:hover {\n",
              "      background-color: #434B5C;\n",
              "      box-shadow: 0px 1px 3px 1px rgba(0, 0, 0, 0.15);\n",
              "      filter: drop-shadow(0px 1px 2px rgba(0, 0, 0, 0.3));\n",
              "      fill: #FFFFFF;\n",
              "    }\n",
              "  </style>\n",
              "\n",
              "      <script>\n",
              "        const buttonEl =\n",
              "          document.querySelector('#df-b7a2b05c-fd52-45f0-ac40-c4cbb1a91642 button.colab-df-convert');\n",
              "        buttonEl.style.display =\n",
              "          google.colab.kernel.accessAllowed ? 'block' : 'none';\n",
              "\n",
              "        async function convertToInteractive(key) {\n",
              "          const element = document.querySelector('#df-b7a2b05c-fd52-45f0-ac40-c4cbb1a91642');\n",
              "          const dataTable =\n",
              "            await google.colab.kernel.invokeFunction('convertToInteractive',\n",
              "                                                     [key], {});\n",
              "          if (!dataTable) return;\n",
              "\n",
              "          const docLinkHtml = 'Like what you see? Visit the ' +\n",
              "            '<a target=\"_blank\" href=https://colab.research.google.com/notebooks/data_table.ipynb>data table notebook</a>'\n",
              "            + ' to learn more about interactive tables.';\n",
              "          element.innerHTML = '';\n",
              "          dataTable['output_type'] = 'display_data';\n",
              "          await google.colab.output.renderOutput(dataTable, element);\n",
              "          const docLink = document.createElement('div');\n",
              "          docLink.innerHTML = docLinkHtml;\n",
              "          element.appendChild(docLink);\n",
              "        }\n",
              "      </script>\n",
              "    </div>\n",
              "  </div>\n",
              "  "
            ]
          },
          "metadata": {},
          "execution_count": 30
        }
      ]
    },
    {
      "cell_type": "code",
      "source": [
        "y"
      ],
      "metadata": {
        "colab": {
          "base_uri": "https://localhost:8080/"
        },
        "id": "iEliBxk3ZkzQ",
        "outputId": "c4ff7786-3397-40d3-f70a-c98036906607"
      },
      "execution_count": null,
      "outputs": [
        {
          "output_type": "execute_result",
          "data": {
            "text/plain": [
              "0       16884.92400\n",
              "1        1725.55230\n",
              "2        4449.46200\n",
              "4        3866.85520\n",
              "5        3756.62160\n",
              "           ...     \n",
              "1331    10795.93733\n",
              "1333    10600.54830\n",
              "1334     2205.98080\n",
              "1335     1629.83350\n",
              "1336     2007.94500\n",
              "Name: charges, Length: 1018, dtype: float64"
            ]
          },
          "metadata": {},
          "execution_count": 31
        }
      ]
    },
    {
      "cell_type": "code",
      "source": [
        "y.mean()"
      ],
      "metadata": {
        "colab": {
          "base_uri": "https://localhost:8080/"
        },
        "id": "NgrUQrEikj3P",
        "outputId": "e76d397d-75e9-4565-9c8a-e63f82434311"
      },
      "execution_count": null,
      "outputs": [
        {
          "output_type": "execute_result",
          "data": {
            "text/plain": [
              "7994.021871266208"
            ]
          },
          "metadata": {},
          "execution_count": 32
        }
      ]
    },
    {
      "cell_type": "code",
      "source": [
        "y.var()"
      ],
      "metadata": {
        "colab": {
          "base_uri": "https://localhost:8080/"
        },
        "id": "cLQBfkuQkm4T",
        "outputId": "84e8018f-950a-424d-81f3-29e140ea175b"
      },
      "execution_count": null,
      "outputs": [
        {
          "output_type": "execute_result",
          "data": {
            "text/plain": [
              "22521250.30262937"
            ]
          },
          "metadata": {},
          "execution_count": 33
        }
      ]
    },
    {
      "cell_type": "code",
      "source": [
        "from sklearn.preprocessing import StandardScaler\n",
        "scaler = StandardScaler()\n",
        "y = scaler.fit_transform(y.values.reshape(-1,1))"
      ],
      "metadata": {
        "id": "x4XFXi87jfT2"
      },
      "execution_count": null,
      "outputs": []
    },
    {
      "cell_type": "code",
      "source": [
        "y"
      ],
      "metadata": {
        "colab": {
          "base_uri": "https://localhost:8080/"
        },
        "id": "PxRtEsvnZsqy",
        "outputId": "7431b072-9d79-4ed0-8b1b-ba01805d9c3a"
      },
      "execution_count": null,
      "outputs": [
        {
          "output_type": "execute_result",
          "data": {
            "text/plain": [
              "array([[ 1.8744031 ],\n",
              "       [-1.32153505],\n",
              "       [-0.74727333],\n",
              "       ...,\n",
              "       [-1.22024986],\n",
              "       [-1.34171474],\n",
              "       [-1.26200029]])"
            ]
          },
          "metadata": {},
          "execution_count": 35
        }
      ]
    },
    {
      "cell_type": "code",
      "source": [
        "from sklearn.model_selection import StratifiedKFold, train_test_split\n",
        "X_train, X_test, y_train, y_test = train_test_split(X,y,test_size = 0.3,random_state=42)\n",
        "#train = pd.concat([X_train,y_train],axis=1)\n",
        "#test = pd.concat([X_test,y_test],axis=1)\n",
        "X_train.shape, X_test.shape, y_train.shape, y_test.shape"
      ],
      "metadata": {
        "colab": {
          "base_uri": "https://localhost:8080/"
        },
        "id": "CeCQcBLhw2BP",
        "outputId": "d8eed749-6203-41f8-8310-e94b0c7357dd"
      },
      "execution_count": null,
      "outputs": [
        {
          "output_type": "execute_result",
          "data": {
            "text/plain": [
              "((712, 5), (306, 5), (712, 1), (306, 1))"
            ]
          },
          "metadata": {},
          "execution_count": 36
        }
      ]
    },
    {
      "cell_type": "code",
      "source": [
        "y_test_inverse = scaler.inverse_transform(y_test)"
      ],
      "metadata": {
        "id": "5MXQmy5Qp-B4"
      },
      "execution_count": null,
      "outputs": []
    },
    {
      "cell_type": "code",
      "source": [
        "y_test_inverse.mean()"
      ],
      "metadata": {
        "colab": {
          "base_uri": "https://localhost:8080/"
        },
        "id": "PkxRZjmHqGrL",
        "outputId": "d1749cda-c827-4ace-d621-a69720dbe62b"
      },
      "execution_count": null,
      "outputs": [
        {
          "output_type": "execute_result",
          "data": {
            "text/plain": [
              "7967.72590748366"
            ]
          },
          "metadata": {},
          "execution_count": 38
        }
      ]
    },
    {
      "cell_type": "code",
      "source": [
        "y_test_inverse.var()"
      ],
      "metadata": {
        "colab": {
          "base_uri": "https://localhost:8080/"
        },
        "id": "zfHD1UK6qLIi",
        "outputId": "ec599ebb-f71a-400f-e09f-d59f9586e8e9"
      },
      "execution_count": null,
      "outputs": [
        {
          "output_type": "execute_result",
          "data": {
            "text/plain": [
              "22597120.203757"
            ]
          },
          "metadata": {},
          "execution_count": 39
        }
      ]
    },
    {
      "cell_type": "code",
      "source": [
        "X_train"
      ],
      "metadata": {
        "colab": {
          "base_uri": "https://localhost:8080/",
          "height": 424
        },
        "id": "Jd-KYw4FaNLe",
        "outputId": "499e53ea-34eb-483e-fe19-e1413550ca7e"
      },
      "execution_count": null,
      "outputs": [
        {
          "output_type": "execute_result",
          "data": {
            "text/plain": [
              "      age  sex     bmi  children  smoker\n",
              "711    50    0  23.540         2       0\n",
              "1065   42    0  25.300         1       0\n",
              "228    41    0  31.635         1       0\n",
              "1032   30    0  27.930         0       0\n",
              "507    21    1  23.750         2       0\n",
              "...   ...  ...     ...       ...     ...\n",
              "142    34    1  25.300         2       1\n",
              "359    18    0  20.790         0       0\n",
              "1134   28    1  33.820         0       0\n",
              "579    25    0  23.465         0       0\n",
              "136    19    1  34.100         0       0\n",
              "\n",
              "[712 rows x 5 columns]"
            ],
            "text/html": [
              "\n",
              "  <div id=\"df-89c36e4a-5227-458c-a7df-43733ffafe70\">\n",
              "    <div class=\"colab-df-container\">\n",
              "      <div>\n",
              "<style scoped>\n",
              "    .dataframe tbody tr th:only-of-type {\n",
              "        vertical-align: middle;\n",
              "    }\n",
              "\n",
              "    .dataframe tbody tr th {\n",
              "        vertical-align: top;\n",
              "    }\n",
              "\n",
              "    .dataframe thead th {\n",
              "        text-align: right;\n",
              "    }\n",
              "</style>\n",
              "<table border=\"1\" class=\"dataframe\">\n",
              "  <thead>\n",
              "    <tr style=\"text-align: right;\">\n",
              "      <th></th>\n",
              "      <th>age</th>\n",
              "      <th>sex</th>\n",
              "      <th>bmi</th>\n",
              "      <th>children</th>\n",
              "      <th>smoker</th>\n",
              "    </tr>\n",
              "  </thead>\n",
              "  <tbody>\n",
              "    <tr>\n",
              "      <th>711</th>\n",
              "      <td>50</td>\n",
              "      <td>0</td>\n",
              "      <td>23.540</td>\n",
              "      <td>2</td>\n",
              "      <td>0</td>\n",
              "    </tr>\n",
              "    <tr>\n",
              "      <th>1065</th>\n",
              "      <td>42</td>\n",
              "      <td>0</td>\n",
              "      <td>25.300</td>\n",
              "      <td>1</td>\n",
              "      <td>0</td>\n",
              "    </tr>\n",
              "    <tr>\n",
              "      <th>228</th>\n",
              "      <td>41</td>\n",
              "      <td>0</td>\n",
              "      <td>31.635</td>\n",
              "      <td>1</td>\n",
              "      <td>0</td>\n",
              "    </tr>\n",
              "    <tr>\n",
              "      <th>1032</th>\n",
              "      <td>30</td>\n",
              "      <td>0</td>\n",
              "      <td>27.930</td>\n",
              "      <td>0</td>\n",
              "      <td>0</td>\n",
              "    </tr>\n",
              "    <tr>\n",
              "      <th>507</th>\n",
              "      <td>21</td>\n",
              "      <td>1</td>\n",
              "      <td>23.750</td>\n",
              "      <td>2</td>\n",
              "      <td>0</td>\n",
              "    </tr>\n",
              "    <tr>\n",
              "      <th>...</th>\n",
              "      <td>...</td>\n",
              "      <td>...</td>\n",
              "      <td>...</td>\n",
              "      <td>...</td>\n",
              "      <td>...</td>\n",
              "    </tr>\n",
              "    <tr>\n",
              "      <th>142</th>\n",
              "      <td>34</td>\n",
              "      <td>1</td>\n",
              "      <td>25.300</td>\n",
              "      <td>2</td>\n",
              "      <td>1</td>\n",
              "    </tr>\n",
              "    <tr>\n",
              "      <th>359</th>\n",
              "      <td>18</td>\n",
              "      <td>0</td>\n",
              "      <td>20.790</td>\n",
              "      <td>0</td>\n",
              "      <td>0</td>\n",
              "    </tr>\n",
              "    <tr>\n",
              "      <th>1134</th>\n",
              "      <td>28</td>\n",
              "      <td>1</td>\n",
              "      <td>33.820</td>\n",
              "      <td>0</td>\n",
              "      <td>0</td>\n",
              "    </tr>\n",
              "    <tr>\n",
              "      <th>579</th>\n",
              "      <td>25</td>\n",
              "      <td>0</td>\n",
              "      <td>23.465</td>\n",
              "      <td>0</td>\n",
              "      <td>0</td>\n",
              "    </tr>\n",
              "    <tr>\n",
              "      <th>136</th>\n",
              "      <td>19</td>\n",
              "      <td>1</td>\n",
              "      <td>34.100</td>\n",
              "      <td>0</td>\n",
              "      <td>0</td>\n",
              "    </tr>\n",
              "  </tbody>\n",
              "</table>\n",
              "<p>712 rows × 5 columns</p>\n",
              "</div>\n",
              "      <button class=\"colab-df-convert\" onclick=\"convertToInteractive('df-89c36e4a-5227-458c-a7df-43733ffafe70')\"\n",
              "              title=\"Convert this dataframe to an interactive table.\"\n",
              "              style=\"display:none;\">\n",
              "        \n",
              "  <svg xmlns=\"http://www.w3.org/2000/svg\" height=\"24px\"viewBox=\"0 0 24 24\"\n",
              "       width=\"24px\">\n",
              "    <path d=\"M0 0h24v24H0V0z\" fill=\"none\"/>\n",
              "    <path d=\"M18.56 5.44l.94 2.06.94-2.06 2.06-.94-2.06-.94-.94-2.06-.94 2.06-2.06.94zm-11 1L8.5 8.5l.94-2.06 2.06-.94-2.06-.94L8.5 2.5l-.94 2.06-2.06.94zm10 10l.94 2.06.94-2.06 2.06-.94-2.06-.94-.94-2.06-.94 2.06-2.06.94z\"/><path d=\"M17.41 7.96l-1.37-1.37c-.4-.4-.92-.59-1.43-.59-.52 0-1.04.2-1.43.59L10.3 9.45l-7.72 7.72c-.78.78-.78 2.05 0 2.83L4 21.41c.39.39.9.59 1.41.59.51 0 1.02-.2 1.41-.59l7.78-7.78 2.81-2.81c.8-.78.8-2.07 0-2.86zM5.41 20L4 18.59l7.72-7.72 1.47 1.35L5.41 20z\"/>\n",
              "  </svg>\n",
              "      </button>\n",
              "      \n",
              "  <style>\n",
              "    .colab-df-container {\n",
              "      display:flex;\n",
              "      flex-wrap:wrap;\n",
              "      gap: 12px;\n",
              "    }\n",
              "\n",
              "    .colab-df-convert {\n",
              "      background-color: #E8F0FE;\n",
              "      border: none;\n",
              "      border-radius: 50%;\n",
              "      cursor: pointer;\n",
              "      display: none;\n",
              "      fill: #1967D2;\n",
              "      height: 32px;\n",
              "      padding: 0 0 0 0;\n",
              "      width: 32px;\n",
              "    }\n",
              "\n",
              "    .colab-df-convert:hover {\n",
              "      background-color: #E2EBFA;\n",
              "      box-shadow: 0px 1px 2px rgba(60, 64, 67, 0.3), 0px 1px 3px 1px rgba(60, 64, 67, 0.15);\n",
              "      fill: #174EA6;\n",
              "    }\n",
              "\n",
              "    [theme=dark] .colab-df-convert {\n",
              "      background-color: #3B4455;\n",
              "      fill: #D2E3FC;\n",
              "    }\n",
              "\n",
              "    [theme=dark] .colab-df-convert:hover {\n",
              "      background-color: #434B5C;\n",
              "      box-shadow: 0px 1px 3px 1px rgba(0, 0, 0, 0.15);\n",
              "      filter: drop-shadow(0px 1px 2px rgba(0, 0, 0, 0.3));\n",
              "      fill: #FFFFFF;\n",
              "    }\n",
              "  </style>\n",
              "\n",
              "      <script>\n",
              "        const buttonEl =\n",
              "          document.querySelector('#df-89c36e4a-5227-458c-a7df-43733ffafe70 button.colab-df-convert');\n",
              "        buttonEl.style.display =\n",
              "          google.colab.kernel.accessAllowed ? 'block' : 'none';\n",
              "\n",
              "        async function convertToInteractive(key) {\n",
              "          const element = document.querySelector('#df-89c36e4a-5227-458c-a7df-43733ffafe70');\n",
              "          const dataTable =\n",
              "            await google.colab.kernel.invokeFunction('convertToInteractive',\n",
              "                                                     [key], {});\n",
              "          if (!dataTable) return;\n",
              "\n",
              "          const docLinkHtml = 'Like what you see? Visit the ' +\n",
              "            '<a target=\"_blank\" href=https://colab.research.google.com/notebooks/data_table.ipynb>data table notebook</a>'\n",
              "            + ' to learn more about interactive tables.';\n",
              "          element.innerHTML = '';\n",
              "          dataTable['output_type'] = 'display_data';\n",
              "          await google.colab.output.renderOutput(dataTable, element);\n",
              "          const docLink = document.createElement('div');\n",
              "          docLink.innerHTML = docLinkHtml;\n",
              "          element.appendChild(docLink);\n",
              "        }\n",
              "      </script>\n",
              "    </div>\n",
              "  </div>\n",
              "  "
            ]
          },
          "metadata": {},
          "execution_count": 40
        }
      ]
    },
    {
      "cell_type": "code",
      "source": [
        "X.mean()"
      ],
      "metadata": {
        "colab": {
          "base_uri": "https://localhost:8080/"
        },
        "id": "umL7EvM2vblw",
        "outputId": "f9cbe9f5-466c-4e96-aef1-9f5c2594d687"
      },
      "execution_count": null,
      "outputs": [
        {
          "output_type": "execute_result",
          "data": {
            "text/plain": [
              "age         38.398821\n",
              "sex          0.485265\n",
              "bmi         30.088816\n",
              "children     1.075639\n",
              "smoker       0.057957\n",
              "dtype: float64"
            ]
          },
          "metadata": {},
          "execution_count": 41
        }
      ]
    },
    {
      "cell_type": "code",
      "source": [
        "X.var()"
      ],
      "metadata": {
        "colab": {
          "base_uri": "https://localhost:8080/"
        },
        "id": "TJ3luYzPvdSf",
        "outputId": "a83bf010-aed4-4cd7-adf3-1589e246d77a"
      },
      "execution_count": null,
      "outputs": [
        {
          "output_type": "execute_result",
          "data": {
            "text/plain": [
              "age         195.777855\n",
              "sex           0.250028\n",
              "bmi          29.393695\n",
              "children      1.497715\n",
              "smoker        0.054651\n",
              "dtype: float64"
            ]
          },
          "metadata": {},
          "execution_count": 42
        }
      ]
    },
    {
      "cell_type": "code",
      "source": [
        "from sklearn.preprocessing import StandardScaler\n",
        "scaler = StandardScaler()\n",
        "X_train = scaler.fit_transform(X_train)\n",
        "X_test = scaler.transform(X_test)"
      ],
      "metadata": {
        "id": "01NDGb2dXtJe"
      },
      "execution_count": null,
      "outputs": []
    },
    {
      "cell_type": "code",
      "source": [
        "X_train"
      ],
      "metadata": {
        "colab": {
          "base_uri": "https://localhost:8080/"
        },
        "id": "lf1vQCBGZugy",
        "outputId": "c24a56b2-d164-43f2-e318-ed4916f776f7"
      },
      "execution_count": null,
      "outputs": [
        {
          "output_type": "execute_result",
          "data": {
            "text/plain": [
              "array([[ 0.79831522, -0.98882646, -1.20883215,  0.76544083, -0.23744436],\n",
              "       [ 0.23330484, -0.98882646, -0.8822712 , -0.06030746, -0.23744436],\n",
              "       [ 0.16267855, -0.98882646,  0.29316267, -0.06030746, -0.23744436],\n",
              "       ...,\n",
              "       [-0.75546331,  1.01129979,  0.69858067, -0.88605575, -0.23744436],\n",
              "       [-0.96734219, -0.98882646, -1.2227481 , -0.88605575, -0.23744436],\n",
              "       [-1.39109997,  1.01129979,  0.75053355, -0.88605575, -0.23744436]])"
            ]
          },
          "metadata": {},
          "execution_count": 44
        }
      ]
    },
    {
      "cell_type": "code",
      "source": [
        "def calc_nn_params(n_inputs, n_hidden, n_classes):\n",
        "  i_weights = n_inputs*n_hidden\n",
        "  i_bias = n_hidden\n",
        "  h_weights = n_hidden*n_classes\n",
        "  h_bias = n_classes\n",
        "  n_params = i_weights + h_bias + h_weights + h_bias\n",
        "\n",
        "  return i_weights, i_bias, h_weights, h_bias, n_params\n"
      ],
      "metadata": {
        "id": "wTQIvpU6-GWZ"
      },
      "execution_count": null,
      "outputs": []
    },
    {
      "cell_type": "code",
      "source": [
        "n_inputs = 1+len(X.columns.tolist()[1:])\n",
        "n_hidden = 1\n",
        "n_classes = 1\n",
        "\n",
        "i_weights, i_bias, h_weights, h_bias, n_params = calc_nn_params(n_inputs, n_hidden, n_classes)\n"
      ],
      "metadata": {
        "id": "D9pD509M_sVx"
      },
      "execution_count": null,
      "outputs": []
    },
    {
      "cell_type": "code",
      "source": [
        "i_weights"
      ],
      "metadata": {
        "colab": {
          "base_uri": "https://localhost:8080/"
        },
        "id": "rxlzrEwjAX2H",
        "outputId": "8a45a3bd-182b-4ee2-81cd-8ec665d34262"
      },
      "execution_count": null,
      "outputs": [
        {
          "output_type": "execute_result",
          "data": {
            "text/plain": [
              "5"
            ]
          },
          "metadata": {},
          "execution_count": 47
        }
      ]
    },
    {
      "cell_type": "code",
      "source": [
        "h_weights"
      ],
      "metadata": {
        "colab": {
          "base_uri": "https://localhost:8080/"
        },
        "id": "1N9vZY2MDY24",
        "outputId": "561b5dc2-4798-4535-e25c-4cb2ef654d83"
      },
      "execution_count": null,
      "outputs": [
        {
          "output_type": "execute_result",
          "data": {
            "text/plain": [
              "1"
            ]
          },
          "metadata": {},
          "execution_count": 48
        }
      ]
    },
    {
      "cell_type": "code",
      "source": [
        "def forward_prop(params):\n",
        "  W1 = params[:i_weights].reshape((n_inputs, n_hidden))\n",
        "  b1 = params[i_weights:i_weights+i_bias].reshape((n_hidden,))\n",
        "  W2 = params[i_weights + i_bias: i_weights + i_bias + h_weights].reshape((n_hidden, n_classes))\n",
        "  b2 = params[i_weights + i_bias+ h_weights:].reshape((n_classes,))\n",
        "\n",
        "  #Melakukan Forward Propagation\n",
        "  z1 = X_train.dot(W1) + b1\n",
        "  a1 = np.where(z1 > 0, z1, z1)\n",
        "  z2 = a1.dot(W2) + b2\n",
        "\n",
        "  loss = mean_squared_error(y_train, z2)\n",
        "\n",
        "  return loss\n"
      ],
      "metadata": {
        "id": "R0v6bHGlBD2t"
      },
      "execution_count": null,
      "outputs": []
    },
    {
      "cell_type": "code",
      "source": [
        "def f(x):\n",
        "  n_particles = x.shape[0]\n",
        "  j = [forward_prop(x[i]) for i in range(n_particles)]\n",
        "  return np.array(j)\n"
      ],
      "metadata": {
        "id": "6gvzNN3IRu6M"
      },
      "execution_count": null,
      "outputs": []
    },
    {
      "cell_type": "code",
      "source": [
        "def train_model(options):\n",
        "  optimizer = ps.single.GlobalBestPSO(n_particles = 50, dimensions = n_params, options = options)\n",
        "  #perform optimization\n",
        "  cost, pos = optimizer.optimize(f, iters = 1000)\n",
        "\n",
        "  print('\\nModel Run Times:')\n",
        "  return cost, pos, optimizer.cost_history\n"
      ],
      "metadata": {
        "id": "JypkO44lSlLx"
      },
      "execution_count": null,
      "outputs": []
    },
    {
      "cell_type": "code",
      "source": [
        "def predict(X, pos):\n",
        "  W1 = pos[:i_weights].reshape((n_inputs, n_hidden))\n",
        "  b1 = pos[i_weights:i_weights+i_bias].reshape((n_hidden,))\n",
        "  W2 = pos[i_weights + i_bias: i_weights + i_bias + h_weights].reshape((n_hidden, n_classes))\n",
        "  b2 = pos[i_weights + i_bias+ h_weights:].reshape((n_classes,))\n",
        "\n",
        "  #Melakukan Forward Propagation\n",
        "  z1 = X.dot(W1) + b1\n",
        "  a1 = np.where(z1 > 0, z1, z1)\n",
        "  z2 = a1.dot(W2) + b2\n",
        "\n",
        "  y_pred = z2 \n",
        "\n",
        "  return y_pred"
      ],
      "metadata": {
        "id": "Gu79aP_GTozo"
      },
      "execution_count": null,
      "outputs": []
    },
    {
      "cell_type": "code",
      "source": [
        "def plot_history(history):\n",
        "  plt.style.use('ggplot')\n",
        "  plt.rcParams['ytick.right'] = True\n",
        "  plt.rcParams['ytick.labelright'] = True\n",
        "  plt.rcParams['ytick.left'] = False\n",
        "  plt.rcParams['ytick.labelleft'] = False\n",
        "  plt.rcParams['font.family'] = 'Arial'\n",
        "\n",
        "  plt.ylim([min(history)-0.1, max(history)+0.1])\n",
        "  plt.title('Cost History')\n",
        "  plt.plot(history)"
      ],
      "metadata": {
        "id": "oC1OT6ryUIJt"
      },
      "execution_count": null,
      "outputs": []
    },
    {
      "cell_type": "code",
      "source": [
        "checkpoint_state = np.random.get_state()"
      ],
      "metadata": {
        "id": "Hrkc-7tpU7rL"
      },
      "execution_count": null,
      "outputs": []
    },
    {
      "cell_type": "markdown",
      "source": [
        "### Inisiasi Model"
      ],
      "metadata": {
        "id": "b8bHpT_7VgdK"
      }
    },
    {
      "cell_type": "code",
      "source": [
        "np.random.set_state(checkpoint_state)\n",
        "options = {'c1': 2.05, 'c2': 2.05, 'w' : 0.72984}\n",
        "cost, pos, history = train_model(options)"
      ],
      "metadata": {
        "colab": {
          "base_uri": "https://localhost:8080/"
        },
        "id": "sIatTB1EVcvz",
        "outputId": "33f9ed65-d051-4096-c9fa-fde8dbbb8c93"
      },
      "execution_count": null,
      "outputs": [
        {
          "output_type": "stream",
          "name": "stderr",
          "text": [
            "2022-12-29 00:06:56,490 - pyswarms.single.global_best - INFO - Optimize for 1000 iters with {'c1': 2.05, 'c2': 2.05, 'w': 0.72984}\n",
            "pyswarms.single.global_best: 100%|██████████|1000/1000, best_cost=0.232\n",
            "2022-12-29 00:07:28,214 - pyswarms.single.global_best - INFO - Optimization finished | best cost: 0.23187792094511123, best pos: [ 1.27106441 -0.10758892  0.07761161  0.20652398  1.09997513  0.71126078\n",
            "  0.56412328 -0.39886807]\n"
          ]
        },
        {
          "output_type": "stream",
          "name": "stdout",
          "text": [
            "\n",
            "Model Run Times:\n"
          ]
        }
      ]
    },
    {
      "cell_type": "code",
      "source": [
        "plot_history(history)"
      ],
      "metadata": {
        "colab": {
          "base_uri": "https://localhost:8080/",
          "height": 337
        },
        "id": "TcLOzwgpV3h-",
        "outputId": "183d730d-a51a-4adc-baad-a4011e210df9"
      },
      "execution_count": null,
      "outputs": [
        {
          "output_type": "stream",
          "name": "stderr",
          "text": [
            "2022-12-29 00:07:28,345 - matplotlib.font_manager - WARNING - findfont: Font family ['Arial'] not found. Falling back to DejaVu Sans.\n",
            "2022-12-29 00:07:28,384 - matplotlib.font_manager - WARNING - findfont: Font family ['Arial'] not found. Falling back to DejaVu Sans.\n"
          ]
        },
        {
          "output_type": "display_data",
          "data": {
            "text/plain": [
              "<Figure size 432x288 with 1 Axes>"
            ],
            "image/png": "[encoded data removed]"
          },
          "metadata": {}
        }
      ]
    },
    {
      "cell_type": "code",
      "source": [
        "print(f'MSE on training set: {mean_squared_error(predict(X_train, pos),y_train)}')"
      ],
      "metadata": {
        "colab": {
          "base_uri": "https://localhost:8080/"
        },
        "id": "2h1cIQ7omMMB",
        "outputId": "ce437743-db29-476d-fc26-25f3d6fd25b2"
      },
      "execution_count": null,
      "outputs": [
        {
          "output_type": "stream",
          "name": "stdout",
          "text": [
            "MSE on training set: 0.23187792094511123\n"
          ]
        }
      ]
    },
    {
      "cell_type": "code",
      "source": [
        "print(f'MSE on test set: {mean_squared_error(predict(X_test, pos),y_test)}')"
      ],
      "metadata": {
        "colab": {
          "base_uri": "https://localhost:8080/"
        },
        "id": "t4xnMVt1Z_yP",
        "outputId": "ae56c796-cb23-4e1a-94f1-27a2d52513d9"
      },
      "execution_count": null,
      "outputs": [
        {
          "output_type": "stream",
          "name": "stdout",
          "text": [
            "MSE on test set: 0.23472685799738222\n"
          ]
        }
      ]
    },
    {
      "cell_type": "code",
      "source": [
        "y_test.mean()"
      ],
      "metadata": {
        "colab": {
          "base_uri": "https://localhost:8080/"
        },
        "id": "MByJ6BLS07cE",
        "outputId": "f104ce61-f330-4795-82a8-08621ec42e36"
      },
      "execution_count": null,
      "outputs": [
        {
          "output_type": "execute_result",
          "data": {
            "text/plain": [
              "-0.00554378343902863"
            ]
          },
          "metadata": {},
          "execution_count": 59
        }
      ]
    },
    {
      "cell_type": "code",
      "source": [
        "y_test.var()"
      ],
      "metadata": {
        "colab": {
          "base_uri": "https://localhost:8080/"
        },
        "id": "u0ltCht-0_NK",
        "outputId": "207a8df4-b278-4697-bd35-3eaa5fc5f21e"
      },
      "execution_count": null,
      "outputs": [
        {
          "output_type": "execute_result",
          "data": {
            "text/plain": [
              "1.0043554105732906"
            ]
          },
          "metadata": {},
          "execution_count": 60
        }
      ]
    },
    {
      "cell_type": "code",
      "source": [
        "X_train_ish = predict(X_test, pos)\n",
        "X_train_ish"
      ],
      "metadata": {
        "colab": {
          "base_uri": "https://localhost:8080/"
        },
        "id": "5OjiMfn7SvpL",
        "outputId": "5a5d3da6-a4c2-4de6-c72f-547c37a511a8"
      },
      "execution_count": null,
      "outputs": [
        {
          "output_type": "execute_result",
          "data": {
            "text/plain": [
              "array([[-3.59435447e-01],\n",
              "       [-1.53055712e-01],\n",
              "       [ 7.01315927e-01],\n",
              "       [-7.56437322e-02],\n",
              "       [ 6.56116554e-01],\n",
              "       [ 2.29142035e+00],\n",
              "       [ 3.53655291e-01],\n",
              "       [-8.16402326e-01],\n",
              "       [ 1.00554543e+00],\n",
              "       [-1.26763877e+00],\n",
              "       [-2.18570456e-01],\n",
              "       [-6.36974315e-02],\n",
              "       [ 7.65889128e-01],\n",
              "       [ 7.36121347e-02],\n",
              "       [-5.91529569e-01],\n",
              "       [ 5.38148490e-01],\n",
              "       [-5.87918886e-01],\n",
              "       [ 3.92316798e-01],\n",
              "       [-1.03795787e+00],\n",
              "       [ 1.09331228e+00],\n",
              "       [-9.44351397e-01],\n",
              "       [ 7.53108832e-01],\n",
              "       [-4.78968918e-02],\n",
              "       [ 5.08095975e-01],\n",
              "       [-1.20522213e+00],\n",
              "       [ 3.69904322e-01],\n",
              "       [-1.11350294e+00],\n",
              "       [ 5.07774541e-02],\n",
              "       [-1.15048307e+00],\n",
              "       [-7.39922879e-01],\n",
              "       [-3.35320714e-02],\n",
              "       [-1.13449546e+00],\n",
              "       [ 3.10159790e-01],\n",
              "       [-8.50261858e-01],\n",
              "       [ 1.55766481e-01],\n",
              "       [-3.59392730e-01],\n",
              "       [ 2.61587405e-01],\n",
              "       [-6.10823287e-01],\n",
              "       [-1.22577501e+00],\n",
              "       [ 8.37905836e-03],\n",
              "       [-1.08048022e+00],\n",
              "       [ 1.45282441e-01],\n",
              "       [ 6.64087635e-02],\n",
              "       [ 6.75621092e-01],\n",
              "       [ 2.27272062e-01],\n",
              "       [ 8.11174243e-01],\n",
              "       [ 1.58398048e+00],\n",
              "       [ 6.44234212e-01],\n",
              "       [-1.28829895e-01],\n",
              "       [ 8.58124555e-01],\n",
              "       [ 1.69015928e-02],\n",
              "       [ 2.05933580e+00],\n",
              "       [-9.41235454e-01],\n",
              "       [ 1.00216469e+00],\n",
              "       [ 7.67415911e-01],\n",
              "       [-1.22114452e+00],\n",
              "       [ 1.08268964e+00],\n",
              "       [-2.45429145e-01],\n",
              "       [ 9.94937283e-01],\n",
              "       [-8.91642542e-01],\n",
              "       [ 7.49931183e-01],\n",
              "       [-4.89106102e-01],\n",
              "       [-1.44998792e-01],\n",
              "       [-2.85767676e-01],\n",
              "       [-1.63950849e-01],\n",
              "       [-6.05081614e-01],\n",
              "       [-4.75429970e-02],\n",
              "       [ 1.29832981e-01],\n",
              "       [-7.16454479e-01],\n",
              "       [ 8.81468438e-01],\n",
              "       [ 1.70585298e+00],\n",
              "       [-6.58251602e-01],\n",
              "       [ 6.77771204e-01],\n",
              "       [-5.31143845e-01],\n",
              "       [-5.40763793e-01],\n",
              "       [-4.74335352e-01],\n",
              "       [-6.54628840e-01],\n",
              "       [-5.24245193e-02],\n",
              "       [-1.07950570e-02],\n",
              "       [-4.14502419e-01],\n",
              "       [-4.07312816e-01],\n",
              "       [-5.29911372e-01],\n",
              "       [-1.67589435e-02],\n",
              "       [-1.26330637e+00],\n",
              "       [ 3.75257089e-01],\n",
              "       [ 3.07689237e-01],\n",
              "       [-7.77782000e-01],\n",
              "       [-8.93664042e-01],\n",
              "       [-6.47726381e-01],\n",
              "       [ 9.96158086e-01],\n",
              "       [-8.79813183e-01],\n",
              "       [-6.43219996e-01],\n",
              "       [-9.58292348e-01],\n",
              "       [ 1.38232042e+00],\n",
              "       [-1.00772333e+00],\n",
              "       [-1.02711220e+00],\n",
              "       [ 5.89636542e-01],\n",
              "       [-1.05001645e+00],\n",
              "       [ 1.69574842e+00],\n",
              "       [ 1.33401444e+00],\n",
              "       [ 4.68103481e-01],\n",
              "       [-1.04525469e+00],\n",
              "       [ 7.01131108e-01],\n",
              "       [ 1.77822247e-01],\n",
              "       [ 5.21031448e-01],\n",
              "       [-3.43274410e-01],\n",
              "       [-1.84492066e-01],\n",
              "       [ 7.13835235e-01],\n",
              "       [ 8.70259462e-01],\n",
              "       [-1.06627562e+00],\n",
              "       [-1.10029205e-01],\n",
              "       [-1.14532889e+00],\n",
              "       [ 2.08632588e-01],\n",
              "       [ 6.64895186e-01],\n",
              "       [ 5.96431477e-01],\n",
              "       [ 1.97302877e-03],\n",
              "       [-2.56922042e-01],\n",
              "       [ 7.65934814e-01],\n",
              "       [ 4.38294633e-02],\n",
              "       [ 8.31142298e-01],\n",
              "       [ 2.25360184e-01],\n",
              "       [-6.73363882e-01],\n",
              "       [ 5.93432885e-01],\n",
              "       [ 3.36520948e-01],\n",
              "       [ 4.94823192e-01],\n",
              "       [-1.15696752e+00],\n",
              "       [ 1.81919621e-02],\n",
              "       [ 1.42025807e-01],\n",
              "       [-5.52705589e-01],\n",
              "       [ 3.12763716e-01],\n",
              "       [-4.26778580e-01],\n",
              "       [-6.17936413e-01],\n",
              "       [ 9.45922037e-01],\n",
              "       [-5.23340617e-01],\n",
              "       [-7.48869028e-01],\n",
              "       [-9.34612410e-01],\n",
              "       [-8.11774649e-01],\n",
              "       [-8.27964788e-01],\n",
              "       [ 1.24691188e-01],\n",
              "       [ 5.89196906e-01],\n",
              "       [-4.88207993e-01],\n",
              "       [-5.72180207e-01],\n",
              "       [-6.36613690e-01],\n",
              "       [ 4.89724655e-01],\n",
              "       [ 3.96653544e-01],\n",
              "       [ 1.43449548e-01],\n",
              "       [-5.96480504e-01],\n",
              "       [-1.24740072e+00],\n",
              "       [-9.55913143e-01],\n",
              "       [ 7.59877612e-01],\n",
              "       [ 6.49464562e-01],\n",
              "       [ 6.39154666e-01],\n",
              "       [ 3.44317574e-01],\n",
              "       [-1.38527894e+00],\n",
              "       [ 2.32844771e+00],\n",
              "       [ 2.01478254e+00],\n",
              "       [ 1.56363801e+00],\n",
              "       [-1.47335690e-01],\n",
              "       [ 1.97450870e-01],\n",
              "       [-9.99780965e-01],\n",
              "       [ 2.21467557e+00],\n",
              "       [-5.73272398e-01],\n",
              "       [-6.44440799e-01],\n",
              "       [-2.29638024e-01],\n",
              "       [ 1.90434599e+00],\n",
              "       [ 2.77490809e-01],\n",
              "       [ 4.84554510e-02],\n",
              "       [ 2.57439479e+00],\n",
              "       [ 1.32582819e-01],\n",
              "       [ 3.06157949e-01],\n",
              "       [-1.10865052e+00],\n",
              "       [-1.15400238e+00],\n",
              "       [-1.19132786e+00],\n",
              "       [-6.97837913e-01],\n",
              "       [-6.28896203e-01],\n",
              "       [ 4.88042025e-01],\n",
              "       [ 7.09907488e-01],\n",
              "       [ 4.28350928e-02],\n",
              "       [-2.27224263e-01],\n",
              "       [-1.26257089e+00],\n",
              "       [-3.98417551e-01],\n",
              "       [-7.74075991e-02],\n",
              "       [-1.21968958e+00],\n",
              "       [ 1.71321058e-01],\n",
              "       [ 3.55145936e-01],\n",
              "       [-4.27594492e-02],\n",
              "       [ 9.75695291e-01],\n",
              "       [-1.22765794e+00],\n",
              "       [-1.14870963e+00],\n",
              "       [-1.18109482e+00],\n",
              "       [ 6.92279122e-01],\n",
              "       [ 2.60837847e-01],\n",
              "       [-1.04744808e+00],\n",
              "       [-1.23580775e+00],\n",
              "       [-1.37407665e-01],\n",
              "       [ 3.76812257e-01],\n",
              "       [-1.39035623e+00],\n",
              "       [ 2.57042500e-01],\n",
              "       [-8.98299602e-01],\n",
              "       [-1.10131530e-01],\n",
              "       [ 2.31618363e+00],\n",
              "       [ 9.88860705e-01],\n",
              "       [ 4.87506820e-01],\n",
              "       [ 6.57455270e-01],\n",
              "       [-1.16947798e+00],\n",
              "       [-1.13372371e+00],\n",
              "       [-7.74899940e-01],\n",
              "       [ 8.62444023e-01],\n",
              "       [ 1.66862457e-01],\n",
              "       [ 1.83207750e-01],\n",
              "       [ 1.48651512e-01],\n",
              "       [-1.19792531e+00],\n",
              "       [-7.02704796e-01],\n",
              "       [ 4.77961507e-01],\n",
              "       [ 8.29603714e-01],\n",
              "       [-9.79806153e-01],\n",
              "       [ 2.04320356e+00],\n",
              "       [-5.69748559e-01],\n",
              "       [-7.53487311e-01],\n",
              "       [-3.32132747e-01],\n",
              "       [ 2.69056114e-01],\n",
              "       [-6.34759708e-01],\n",
              "       [ 4.56233503e-01],\n",
              "       [ 6.01453667e-01],\n",
              "       [-1.42743137e+00],\n",
              "       [-3.56835872e-01],\n",
              "       [ 9.49191036e-01],\n",
              "       [ 2.65998068e-01],\n",
              "       [ 9.80794776e-01],\n",
              "       [ 6.12466309e-01],\n",
              "       [-6.39850925e-01],\n",
              "       [ 2.91687857e-01],\n",
              "       [-4.60425039e-01],\n",
              "       [ 3.32540504e-01],\n",
              "       [-2.43405393e-01],\n",
              "       [-6.15004726e-01],\n",
              "       [ 2.19903244e+00],\n",
              "       [-1.18124058e+00],\n",
              "       [-9.08972811e-01],\n",
              "       [-1.12494355e+00],\n",
              "       [-1.41508339e+00],\n",
              "       [ 6.96357672e-01],\n",
              "       [ 3.90082225e-01],\n",
              "       [-1.49923031e-01],\n",
              "       [-1.28521640e+00],\n",
              "       [-9.98851810e-01],\n",
              "       [ 2.14866117e+00],\n",
              "       [ 3.42846304e-01],\n",
              "       [-5.38737380e-01],\n",
              "       [ 4.40662188e-01],\n",
              "       [ 1.21945855e-01],\n",
              "       [ 4.27926861e-01],\n",
              "       [ 1.00793685e+00],\n",
              "       [-8.18266265e-01],\n",
              "       [ 4.65171639e-01],\n",
              "       [ 8.96083880e-01],\n",
              "       [-6.04770998e-01],\n",
              "       [-9.73942778e-01],\n",
              "       [-1.26705058e+00],\n",
              "       [-3.43551418e-01],\n",
              "       [ 2.90151027e+00],\n",
              "       [ 1.90187728e+00],\n",
              "       [-1.10289438e+00],\n",
              "       [ 6.70204366e-01],\n",
              "       [-9.71316917e-01],\n",
              "       [-3.89445808e-01],\n",
              "       [-1.04839904e+00],\n",
              "       [-5.85711572e-01],\n",
              "       [-1.00473217e-01],\n",
              "       [ 3.24373962e-01],\n",
              "       [-6.45769534e-01],\n",
              "       [ 5.02069973e-01],\n",
              "       [ 5.91624435e-01],\n",
              "       [ 3.05373990e-01],\n",
              "       [ 6.08129563e-01],\n",
              "       [ 2.56503354e-01],\n",
              "       [ 8.76185391e-01],\n",
              "       [ 8.68467904e-01],\n",
              "       [-1.19727542e+00],\n",
              "       [-5.82500624e-01],\n",
              "       [-5.55902768e-01],\n",
              "       [-1.38304493e+00],\n",
              "       [ 6.28701826e-01],\n",
              "       [ 1.51713209e+00],\n",
              "       [ 7.67910628e-01],\n",
              "       [ 1.47729490e+00],\n",
              "       [ 1.36334089e+00],\n",
              "       [-4.71649627e-01],\n",
              "       [ 7.34206812e-01],\n",
              "       [-9.57949128e-01],\n",
              "       [ 1.66841369e-01],\n",
              "       [-1.06918396e+00],\n",
              "       [-1.41453325e-01],\n",
              "       [-1.13327973e+00],\n",
              "       [ 8.26970278e-01],\n",
              "       [ 9.32477362e-01],\n",
              "       [-4.19044354e-01],\n",
              "       [ 7.84394383e-01],\n",
              "       [-4.93362174e-01],\n",
              "       [ 7.45558732e-01],\n",
              "       [ 9.25120935e-01],\n",
              "       [-5.26497332e-01],\n",
              "       [-1.24345701e-01],\n",
              "       [ 3.31489344e-02],\n",
              "       [ 9.95680084e-01],\n",
              "       [ 2.24215704e-01]])"
            ]
          },
          "metadata": {},
          "execution_count": 61
        }
      ]
    },
    {
      "cell_type": "code",
      "source": [
        "y_testish = np.concatenate((X_train_ish, y_test), axis = 1)"
      ],
      "metadata": {
        "id": "BehSAJMMOtal"
      },
      "execution_count": null,
      "outputs": []
    },
    {
      "cell_type": "code",
      "source": [
        "y_testish"
      ],
      "metadata": {
        "colab": {
          "base_uri": "https://localhost:8080/"
        },
        "id": "pupsmWFi2KJ6",
        "outputId": "52967804-3324-4b1d-8f89-66019efbdaea"
      },
      "execution_count": null,
      "outputs": [
        {
          "output_type": "execute_result",
          "data": {
            "text/plain": [
              "array([[-3.59435447e-01, -5.49969536e-01],\n",
              "       [-1.53055712e-01, -3.37404372e-01],\n",
              "       [ 7.01315927e-01,  6.65515954e-01],\n",
              "       [-7.56437322e-02, -3.54237386e-01],\n",
              "       [ 6.56116554e-01,  7.88868057e-01],\n",
              "       [ 2.29142035e+00,  2.53316251e+00],\n",
              "       [ 3.53655291e-01,  1.11310354e-01],\n",
              "       [-8.16402326e-01, -7.79569409e-01],\n",
              "       [ 1.00554543e+00,  1.27536179e+00],\n",
              "       [-1.26763877e+00, -1.44354983e+00],\n",
              "       [-2.18570456e-01, -4.07909869e-01],\n",
              "       [-6.36974315e-02, -3.81315061e-01],\n",
              "       [ 7.65889128e-01,  9.98661958e-01],\n",
              "       [ 7.36121347e-02, -2.55657751e-01],\n",
              "       [-5.91529569e-01, -7.50550795e-01],\n",
              "       [ 5.38148490e-01,  5.49743198e-01],\n",
              "       [-5.87918886e-01, -6.90293343e-01],\n",
              "       [ 3.92316798e-01,  2.98732067e-01],\n",
              "       [-1.03795787e+00, -1.26755822e+00],\n",
              "       [ 1.09331228e+00,  1.24241598e+00],\n",
              "       [-9.44351397e-01, -1.11619045e+00],\n",
              "       [ 7.53108832e-01,  8.11372252e-01],\n",
              "       [-4.78968918e-02, -3.00000036e-01],\n",
              "       [ 5.08095975e-01,  4.97882684e-01],\n",
              "       [-1.20522213e+00,  7.35478457e-01],\n",
              "       [ 3.69904322e-01,  1.69621777e-01],\n",
              "       [-1.11350294e+00, -1.15239917e+00],\n",
              "       [ 5.07774541e-02, -1.21126854e-01],\n",
              "       [-1.15048307e+00, -1.28110642e+00],\n",
              "       [-7.39922879e-01, -9.34393794e-01],\n",
              "       [-3.35320714e-02,  2.42502854e+00],\n",
              "       [-1.13449546e+00, -1.11417846e+00],\n",
              "       [ 3.10159790e-01,  1.28034131e-01],\n",
              "       [-8.50261858e-01, -9.78333145e-01],\n",
              "       [ 1.55766481e-01, -1.36810769e-01],\n",
              "       [-3.59392730e-01, -6.54398065e-01],\n",
              "       [ 2.61587405e-01,  5.04025455e-02],\n",
              "       [-6.10823287e-01,  2.14277015e+00],\n",
              "       [-1.22577501e+00, -1.34332647e+00],\n",
              "       [ 8.37905836e-03, -2.58010889e-01],\n",
              "       [-1.08048022e+00, -1.23195301e+00],\n",
              "       [ 1.45282441e-01, -5.16231752e-02],\n",
              "       [ 6.64087635e-02, -9.63159851e-02],\n",
              "       [ 6.75621092e-01,  5.03329855e-01],\n",
              "       [ 2.27272062e-01,  6.67922422e-02],\n",
              "       [ 8.11174243e-01,  1.01646495e+00],\n",
              "       [ 1.58398048e+00,  2.01680444e+00],\n",
              "       [ 6.44234212e-01,  5.49696765e-01],\n",
              "       [-1.28829895e-01, -2.82817056e-01],\n",
              "       [ 8.58124555e-01,  9.01407185e-01],\n",
              "       [ 1.69015928e-02, -2.35712499e-01],\n",
              "       [ 2.05933580e+00,  2.39417460e+00],\n",
              "       [-9.41235454e-01, -9.87541391e-01],\n",
              "       [ 1.00216469e+00,  1.31987308e+00],\n",
              "       [ 7.67415911e-01,  6.52853485e-01],\n",
              "       [-1.22114452e+00, -1.22024986e+00],\n",
              "       [ 1.08268964e+00,  1.24929278e+00],\n",
              "       [-2.45429145e-01, -5.79508101e-01],\n",
              "       [ 9.94937283e-01,  1.14608291e+00],\n",
              "       [-8.91642542e-01, -1.01557588e+00],\n",
              "       [ 7.49931183e-01,  8.10220370e-01],\n",
              "       [-4.89106102e-01,  2.27914631e+00],\n",
              "       [-1.44998792e-01, -3.96698333e-01],\n",
              "       [-2.85767676e-01, -3.96513210e-01],\n",
              "       [-1.63950849e-01, -3.62940523e-01],\n",
              "       [-6.05081614e-01, -8.44575545e-01],\n",
              "       [-4.75429970e-02, -3.15630076e-01],\n",
              "       [ 1.29832981e-01, -5.63250251e-02],\n",
              "       [-7.16454479e-01, -6.97026922e-01],\n",
              "       [ 8.81468438e-01,  8.66754559e-01],\n",
              "       [ 1.70585298e+00,  1.55272586e+00],\n",
              "       [-6.58251602e-01, -8.70100006e-01],\n",
              "       [ 6.77771204e-01,  7.72529327e-01],\n",
              "       [-5.31143845e-01, -7.30404356e-01],\n",
              "       [-5.40763793e-01, -8.25902777e-01],\n",
              "       [-4.74335352e-01, -6.80535324e-01],\n",
              "       [-6.54628840e-01, -7.43655737e-01],\n",
              "       [-5.24245193e-02, -2.93815208e-01],\n",
              "       [-1.07950570e-02, -1.67039177e-01],\n",
              "       [-4.14502419e-01, -7.00644005e-01],\n",
              "       [-4.07312816e-01, -5.83142293e-01],\n",
              "       [-5.29911372e-01, -7.66757203e-01],\n",
              "       [-1.67589435e-02, -2.79925793e-01],\n",
              "       [-1.26330637e+00, -1.34468034e+00],\n",
              "       [ 3.75257089e-01,  1.75207100e-01],\n",
              "       [ 3.07689237e-01,  1.74975142e-01],\n",
              "       [-7.77782000e-01, -9.97996843e-01],\n",
              "       [-8.93664042e-01, -1.00781632e+00],\n",
              "       [-6.47726381e-01, -9.36014155e-01],\n",
              "       [ 9.96158086e-01,  1.18342038e+00],\n",
              "       [-8.79813183e-01, -1.13022625e+00],\n",
              "       [-6.43219996e-01, -7.70827860e-01],\n",
              "       [-9.58292348e-01, -1.01479706e+00],\n",
              "       [ 1.38232042e+00,  1.78391463e+00],\n",
              "       [-1.00772333e+00, -1.25798852e+00],\n",
              "       [-1.02711220e+00, -1.09475181e+00],\n",
              "       [ 5.89636542e-01,  6.21528251e-01],\n",
              "       [-1.05001645e+00, -1.23085409e+00],\n",
              "       [ 1.69574842e+00,  1.91664006e+00],\n",
              "       [ 1.33401444e+00,  1.21304171e+00],\n",
              "       [ 4.68103481e-01,  3.35180827e-01],\n",
              "       [-1.04525469e+00, -1.25934238e+00],\n",
              "       [ 7.01131108e-01,  6.30039001e-01],\n",
              "       [ 1.77822247e-01, -5.52701004e-02],\n",
              "       [ 5.21031448e-01,  3.96696142e-01],\n",
              "       [-3.43274410e-01, -5.52493852e-01],\n",
              "       [-1.84492066e-01, -4.27365759e-01],\n",
              "       [ 7.13835235e-01,  7.10205075e-01],\n",
              "       [ 8.70259462e-01,  1.12960392e+00],\n",
              "       [-1.06627562e+00, -9.51264008e-01],\n",
              "       [-1.10029205e-01, -4.81699591e-01],\n",
              "       [-1.14532889e+00, -1.16728483e+00],\n",
              "       [ 2.08632588e-01, -5.34825040e-02],\n",
              "       [ 6.64895186e-01,  6.49155277e-01],\n",
              "       [ 5.96431477e-01,  4.94359964e-01],\n",
              "       [ 1.97302877e-03, -1.99016654e-01],\n",
              "       [-2.56922042e-01, -6.05025689e-01],\n",
              "       [ 7.65934814e-01,  8.91542721e-01],\n",
              "       [ 4.38294633e-02, -1.99712179e-01],\n",
              "       [ 8.31142298e-01,  9.45684210e-01],\n",
              "       [ 2.25360184e-01,  1.44923943e-02],\n",
              "       [-6.73363882e-01, -7.92038437e-01],\n",
              "       [ 5.93432885e-01,  3.97102461e-01],\n",
              "       [ 3.36520948e-01,  1.55841621e-01],\n",
              "       [ 4.94823192e-01,  3.44041005e-01],\n",
              "       [-1.15696752e+00, -1.34084440e+00],\n",
              "       [ 1.81919621e-02, -5.57364611e-02],\n",
              "       [ 1.42025807e-01, -7.78761545e-02],\n",
              "       [-5.52705589e-01, -8.26333550e-01],\n",
              "       [ 3.12763716e-01,  9.77787055e-02],\n",
              "       [-4.26778580e-01, -5.76083805e-01],\n",
              "       [-6.17936413e-01, -7.36547252e-01],\n",
              "       [ 9.45922037e-01,  1.13838599e+00],\n",
              "       [-5.23340617e-01, -8.03007253e-01],\n",
              "       [-7.48869028e-01, -1.01042565e+00],\n",
              "       [-9.34612410e-01, -1.03792460e+00],\n",
              "       [-8.11774649e-01, -9.50744752e-01],\n",
              "       [-8.27964788e-01, -9.59444768e-01],\n",
              "       [ 1.24691188e-01, -1.38357363e-01],\n",
              "       [ 5.89196906e-01,  4.47871979e-01],\n",
              "       [-4.88207993e-01, -7.68133716e-01],\n",
              "       [-5.72180207e-01, -6.14321427e-01],\n",
              "       [-6.36613690e-01, -7.91455281e-01],\n",
              "       [ 4.89724655e-01,  4.78655894e-01],\n",
              "       [ 3.96653544e-01,  3.62998384e-01],\n",
              "       [ 1.43449548e-01,  2.27944000e+00],\n",
              "       [-5.96480504e-01, -9.04358826e-01],\n",
              "       [-1.24740072e+00, -1.21696448e+00],\n",
              "       [-9.55913143e-01,  5.90707100e-01],\n",
              "       [ 7.59877612e-01,  8.75535531e-01],\n",
              "       [ 6.49464562e-01,  7.08920301e-01],\n",
              "       [ 6.39154666e-01,  5.17892067e-01],\n",
              "       [ 3.44317574e-01,  1.17496732e-01],\n",
              "       [-1.38527894e+00, -1.34264230e+00],\n",
              "       [ 2.32844771e+00,  1.65004042e+00],\n",
              "       [ 2.01478254e+00,  1.71214991e+00],\n",
              "       [ 1.56363801e+00,  1.41624760e+00],\n",
              "       [-1.47335690e-01, -3.67587517e-01],\n",
              "       [ 1.97450870e-01,  8.77074674e-02],\n",
              "       [-9.99780965e-01,  1.08207979e+00],\n",
              "       [ 2.21467557e+00,  2.43035161e+00],\n",
              "       [-5.73272398e-01, -5.87023516e-01],\n",
              "       [-6.44440799e-01, -7.23085765e-01],\n",
              "       [-2.29638024e-01, -5.30426513e-01],\n",
              "       [ 1.90434599e+00,  2.09728096e+00],\n",
              "       [ 2.77490809e-01,  1.30979470e-01],\n",
              "       [ 4.84554510e-02, -1.77708667e-01],\n",
              "       [ 2.57439479e+00,  2.42899674e+00],\n",
              "       [ 1.32582819e-01,  1.01262053e+00],\n",
              "       [ 3.06157949e-01,  3.17615036e-01],\n",
              "       [-1.10865052e+00, -1.28887131e+00],\n",
              "       [-1.15400238e+00, -1.21782786e+00],\n",
              "       [-1.19132786e+00, -1.09423760e+00],\n",
              "       [-6.97837913e-01, -9.94420870e-01],\n",
              "       [-6.28896203e-01, -7.49012370e-01],\n",
              "       [ 4.88042025e-01,  2.94587505e-01],\n",
              "       [ 7.09907488e-01,  5.45121703e-01],\n",
              "       [ 4.28350928e-02, -3.20452221e-01],\n",
              "       [-2.27224263e-01, -2.61627446e-01],\n",
              "       [-1.26257089e+00, -1.33821588e+00],\n",
              "       [-3.98417551e-01, -7.00063779e-01],\n",
              "       [-7.74075991e-02, -4.91595478e-01],\n",
              "       [-1.21968958e+00, -1.32111600e+00],\n",
              "       [ 1.71321058e-01, -1.36675294e-01],\n",
              "       [ 3.55145936e-01,  2.05406172e-01],\n",
              "       [-4.27594492e-02,  1.20831918e+00],\n",
              "       [ 9.75695291e-01,  1.26236956e+00],\n",
              "       [-1.22765794e+00, -1.24172581e+00],\n",
              "       [-1.14870963e+00, -1.14016472e+00],\n",
              "       [-1.18109482e+00, -1.34171474e+00],\n",
              "       [ 6.92279122e-01,  6.25230855e-01],\n",
              "       [ 2.60837847e-01,  2.04871895e-01],\n",
              "       [-1.04744808e+00, -1.25942150e+00],\n",
              "       [-1.23580775e+00, -1.22077881e+00],\n",
              "       [-1.37407665e-01, -3.04063484e-01],\n",
              "       [ 3.76812257e-01,  1.18668906e-01],\n",
              "       [-1.39035623e+00, -1.42357051e+00],\n",
              "       [ 2.57042500e-01,  1.56352636e-02],\n",
              "       [-8.98299602e-01, -1.15952427e+00],\n",
              "       [-1.10131530e-01, -2.80254054e-01],\n",
              "       [ 2.31618363e+00,  2.36246163e+00],\n",
              "       [ 9.88860705e-01,  1.18938016e+00],\n",
              "       [ 4.87506820e-01,  5.14627110e-01],\n",
              "       [ 6.57455270e-01,  5.71038421e-01],\n",
              "       [-1.16947798e+00, -1.34129568e+00],\n",
              "       [-1.13372371e+00, -1.11415062e+00],\n",
              "       [-7.74899940e-01, -6.49114777e-01],\n",
              "       [ 8.62444023e-01,  8.14279022e-01],\n",
              "       [ 1.66862457e-01, -7.23644612e-02],\n",
              "       [ 1.83207750e-01,  7.17715347e-02],\n",
              "       [ 1.48651512e-01, -1.21328379e-01],\n",
              "       [-1.19792531e+00,  1.81148809e+00],\n",
              "       [-7.02704796e-01, -1.01658739e+00],\n",
              "       [ 4.77961507e-01,  3.91373209e-01],\n",
              "       [ 8.29603714e-01,  7.50292781e-01],\n",
              "       [-9.79806153e-01, -1.08600226e+00],\n",
              "       [ 2.04320356e+00,  2.51710296e+00],\n",
              "       [-5.69748559e-01, -7.68869708e-01],\n",
              "       [-7.53487311e-01, -8.67897110e-01],\n",
              "       [-3.32132747e-01, -6.41799475e-01],\n",
              "       [ 2.69056114e-01,  2.04506076e-01],\n",
              "       [-6.34759708e-01, -9.75550413e-01],\n",
              "       [ 4.56233503e-01,  4.45281022e-01],\n",
              "       [ 6.01453667e-01,  6.26443359e-01],\n",
              "       [-1.42743137e+00, -1.32640442e+00],\n",
              "       [-3.56835872e-01, -6.30620818e-01],\n",
              "       [ 9.49191036e-01,  1.33995314e+00],\n",
              "       [ 2.65998068e-01,  2.59572064e-01],\n",
              "       [ 9.80794776e-01,  1.04465413e+00],\n",
              "       [ 6.12466309e-01,  6.51137263e-01],\n",
              "       [-6.39850925e-01, -8.45829771e-01],\n",
              "       [ 2.91687857e-01,  6.04219317e-02],\n",
              "       [-4.60425039e-01, -6.86386452e-01],\n",
              "       [ 3.32540504e-01,  2.09586521e-01],\n",
              "       [-2.43405393e-01, -5.50349417e-01],\n",
              "       [-6.15004726e-01, -7.90675786e-01],\n",
              "       [ 2.19903244e+00,  2.47203683e+00],\n",
              "       [-1.18124058e+00, -1.33430093e+00],\n",
              "       [-9.08972811e-01, -1.19565931e+00],\n",
              "       [-1.12494355e+00, -1.33227014e+00],\n",
              "       [-1.41508339e+00, -1.32595899e+00],\n",
              "       [ 6.96357672e-01,  7.50570983e-01],\n",
              "       [ 3.90082225e-01,  3.64459069e-01],\n",
              "       [-1.49923031e-01, -3.03363500e-01],\n",
              "       [-1.28521640e+00, -1.29907365e+00],\n",
              "       [-9.98851810e-01, -1.11032395e+00],\n",
              "       [ 2.14866117e+00,  2.03846950e+00],\n",
              "       [ 3.42846304e-01,  1.27085113e-01],\n",
              "       [-5.38737380e-01, -7.47273326e-01],\n",
              "       [ 4.40662188e-01,  4.36696062e-01],\n",
              "       [ 1.21945855e-01,  9.15070072e-02],\n",
              "       [ 4.27926861e-01,  4.15328559e-01],\n",
              "       [ 1.00793685e+00,  1.22883879e+00],\n",
              "       [-8.18266265e-01, -9.72969881e-01],\n",
              "       [ 4.65171639e-01,  2.76320971e-01],\n",
              "       [ 8.96083880e-01,  9.77193050e-01],\n",
              "       [-6.04770998e-01, -7.27293078e-01],\n",
              "       [-9.73942778e-01, -9.69924264e-01],\n",
              "       [-1.26705058e+00, -1.32282444e+00],\n",
              "       [-3.43551418e-01, -5.32330283e-01],\n",
              "       [ 2.90151027e+00,  2.48855685e+00],\n",
              "       [ 1.90187728e+00,  1.71709530e+00],\n",
              "       [-1.10289438e+00, -1.19378357e+00],\n",
              "       [ 6.70204366e-01,  7.36676372e-01],\n",
              "       [-9.71316917e-01, -1.04353151e+00],\n",
              "       [-3.89445808e-01, -7.05678659e-01],\n",
              "       [-1.04839904e+00, -1.12805973e+00],\n",
              "       [-5.85711572e-01, -8.92355114e-01],\n",
              "       [-1.00473217e-01, -1.61449258e-01],\n",
              "       [ 3.24373962e-01,  1.97522366e-01],\n",
              "       [-6.45769534e-01, -9.30997421e-01],\n",
              "       [ 5.02069973e-01,  5.44568505e-01],\n",
              "       [ 5.91624435e-01,  5.78254530e-01],\n",
              "       [ 3.05373990e-01,  5.19820495e-02],\n",
              "       [ 6.08129563e-01,  6.17691522e-01],\n",
              "       [ 2.56503354e-01,  1.65175287e+00],\n",
              "       [ 8.76185391e-01,  1.18531564e+00],\n",
              "       [ 8.68467904e-01,  1.14287273e+00],\n",
              "       [-1.19727542e+00, -1.36353941e+00],\n",
              "       [-5.82500624e-01,  2.31254473e+00],\n",
              "       [-5.55902768e-01,  9.29908387e-01],\n",
              "       [-1.38304493e+00, -1.42330677e+00],\n",
              "       [ 6.28701826e-01,  5.41069841e-01],\n",
              "       [ 1.51713209e+00,  1.78289991e+00],\n",
              "       [ 7.67910628e-01,  1.08269666e+00],\n",
              "       [ 1.47729490e+00,  1.93633401e+00],\n",
              "       [ 1.36334089e+00,  1.58626263e+00],\n",
              "       [-4.71649627e-01, -5.65395014e-01],\n",
              "       [ 7.34206812e-01,  8.74609513e-01],\n",
              "       [-9.57949128e-01, -1.15101299e+00],\n",
              "       [ 1.66841369e-01, -7.45706248e-02],\n",
              "       [-1.06918396e+00, -1.30018068e+00],\n",
              "       [-1.41453325e-01, -5.46671722e-01],\n",
              "       [-1.13327973e+00, -1.30249279e+00],\n",
              "       [ 8.26970278e-01,  8.19538307e-01],\n",
              "       [ 9.32477362e-01,  1.26081057e+00],\n",
              "       [-4.19044354e-01, -5.99889228e-01],\n",
              "       [ 7.84394383e-01,  6.53465946e-01],\n",
              "       [-4.93362174e-01, -7.01283293e-01],\n",
              "       [ 7.45558732e-01,  7.17403655e-01],\n",
              "       [ 9.25120935e-01,  1.04036088e+00],\n",
              "       [-5.26497332e-01, -8.68228133e-01],\n",
              "       [-1.24345701e-01, -2.43848628e-01],\n",
              "       [ 3.31489344e-02, -1.54381357e-01],\n",
              "       [ 9.95680084e-01,  9.80785762e-01],\n",
              "       [ 2.24215704e-01,  9.45845323e-02]])"
            ]
          },
          "metadata": {},
          "execution_count": 63
        }
      ]
    },
    {
      "cell_type": "code",
      "source": [
        "y_test_inverse.mean()"
      ],
      "metadata": {
        "colab": {
          "base_uri": "https://localhost:8080/"
        },
        "id": "5WLjggD722JV",
        "outputId": "33417a31-caa6-44e2-bf79-dc8ac9a9b1d7"
      },
      "execution_count": null,
      "outputs": [
        {
          "output_type": "execute_result",
          "data": {
            "text/plain": [
              "7967.72590748366"
            ]
          },
          "metadata": {},
          "execution_count": 64
        }
      ]
    },
    {
      "cell_type": "code",
      "source": [
        "y_test_inverse.std()"
      ],
      "metadata": {
        "colab": {
          "base_uri": "https://localhost:8080/"
        },
        "id": "ZeLEG2RK3_CC",
        "outputId": "1ccf81db-1bc9-4221-8ac3-ac3b50412e53"
      },
      "execution_count": null,
      "outputs": [
        {
          "output_type": "execute_result",
          "data": {
            "text/plain": [
              "4753.642835106251"
            ]
          },
          "metadata": {},
          "execution_count": 65
        }
      ]
    },
    {
      "cell_type": "code",
      "source": [
        "y_test_inverse[0]"
      ],
      "metadata": {
        "id": "Cp_PuyCTdkXS",
        "colab": {
          "base_uri": "https://localhost:8080/"
        },
        "outputId": "93f575f7-bf5e-468a-a17f-00f94e1d9990"
      },
      "execution_count": null,
      "outputs": [
        {
          "output_type": "execute_result",
          "data": {
            "text/plain": [
              "array([5385.3379])"
            ]
          },
          "metadata": {},
          "execution_count": 66
        }
      ]
    },
    {
      "cell_type": "code",
      "source": [
        "5385.3379 - 7967.72590748366"
      ],
      "metadata": {
        "colab": {
          "base_uri": "https://localhost:8080/"
        },
        "id": "7ZzI_MvY4ls0",
        "outputId": "e5235410-38a5-42af-be68-afac074caaef"
      },
      "execution_count": null,
      "outputs": [
        {
          "output_type": "execute_result",
          "data": {
            "text/plain": [
              "-2582.3880074836597"
            ]
          },
          "metadata": {},
          "execution_count": 67
        }
      ]
    },
    {
      "cell_type": "code",
      "source": [
        "-2582.3880074836597 / 4753.642835106251"
      ],
      "metadata": {
        "colab": {
          "base_uri": "https://localhost:8080/"
        },
        "id": "fI-om5O44sJs",
        "outputId": "83211c07-3f81-448a-e6fc-f66919af9924"
      },
      "execution_count": null,
      "outputs": [
        {
          "output_type": "execute_result",
          "data": {
            "text/plain": [
              "-0.5432440124471277"
            ]
          },
          "metadata": {},
          "execution_count": 68
        }
      ]
    },
    {
      "cell_type": "code",
      "source": [
        "-0.54996954 * 4753.642835106251 + 7967.72590748366"
      ],
      "metadata": {
        "colab": {
          "base_uri": "https://localhost:8080/"
        },
        "id": "w-uJQ1b94sD2",
        "outputId": "aac9f3ee-e97e-41e9-98ea-ae465ea6b6f2"
      },
      "execution_count": null,
      "outputs": [
        {
          "output_type": "execute_result",
          "data": {
            "text/plain": [
              "5353.367144135979"
            ]
          },
          "metadata": {},
          "execution_count": 69
        }
      ]
    },
    {
      "cell_type": "code",
      "source": [
        "-0.41363629 * 4753.642835106251 + 7967.72590748366"
      ],
      "metadata": {
        "colab": {
          "base_uri": "https://localhost:8080/"
        },
        "id": "10vUC66y5Xtz",
        "outputId": "e1513162-53ae-4c4d-b3b2-76c95436156a"
      },
      "execution_count": null,
      "outputs": [
        {
          "output_type": "execute_result",
          "data": {
            "text/plain": [
              "6001.446721185229"
            ]
          },
          "metadata": {},
          "execution_count": 70
        }
      ]
    },
    {
      "cell_type": "code",
      "source": [
        "for i in range(len(y_testish)):\n",
        "  for j in range(len(y_testish[i])):\n",
        "    y_testish[i][j] = y_testish[i][j]* y_test_inverse.std()  + y_test_inverse.mean()\n",
        "\n",
        "print (y_testish)"
      ],
      "metadata": {
        "colab": {
          "base_uri": "https://localhost:8080/"
        },
        "id": "1rbx96Fd5sH3",
        "outputId": "dfb974c4-fb08-4327-f5ff-82bdc0ae78bf"
      },
      "execution_count": null,
      "outputs": [
        {
          "output_type": "stream",
          "name": "stdout",
          "text": [
            "[[ 6259.09817066  5353.36716362]\n",
            " [ 7240.15371894  6363.82603323]\n",
            " [11301.53133719 11131.35105603]\n",
            " [ 7608.14262208  6283.80789447]\n",
            " [11086.66966234 11717.72289495]\n",
            " [18860.31985742 20009.47571797]\n",
            " [ 9648.87684571  8496.85557428]\n",
            " [ 4086.84084182  4261.9313741 ]\n",
            " [12747.72973765 14030.34035266]\n",
            " [ 1941.82395707  1105.60559843]\n",
            " [ 6928.72002656  6028.66808355]\n",
            " [ 7664.9310687   6155.09029781]\n",
            " [11608.48927503 12715.00816973]\n",
            " [ 8317.65170438  6752.42027265]\n",
            " [ 5155.80560857  4399.87549801]\n",
            " [10525.89161982 10581.00872339]\n",
            " [ 5172.96950624  4686.31790489]\n",
            " [ 9832.65984251  9387.79145521]\n",
            " [ 3033.64492946  1942.20683964]\n",
            " [13164.94197052 13873.72770653]\n",
            " [ 3478.61665363  2661.75515374]\n",
            " [11547.73631304 11824.69980089]\n",
            " [ 7740.04119089  6541.63288388]\n",
            " [10383.03270047 10334.48235897]\n",
            " [ 2238.53037777 11463.92780291]\n",
            " [ 9726.11893515  8774.04725136]\n",
            " [ 2674.53064543  2489.63183988]\n",
            " [ 8209.10378857  7391.93210817]\n",
            " [ 2498.74029664  1877.80354473]\n",
            " [ 4450.3968172   3525.95154346]\n",
            " [ 7808.32641671 19495.44547497]\n",
            " [ 2574.73968759  2671.3194642 ]\n",
            " [ 9442.11477332  8576.3544359 ]\n",
            " [ 3925.88471915  3317.07956231]\n",
            " [ 8708.18412378  7317.3763762 ]\n",
            " [ 6259.30122953  4856.95123456]\n",
            " [ 9211.21900064  8207.32160681]\n",
            " [ 5064.09016373 18153.6898669 ]\n",
            " [ 2140.82929337  1582.03163708]\n",
            " [ 8007.55695824  6741.23429217]\n",
            " [ 2831.50886997  2111.46132638]\n",
            " [ 8658.34674246  7722.32777075]\n",
            " [ 8283.40945009  7509.87411515]\n",
            " [11179.38727216 10360.37626473]\n",
            " [ 9048.09611458  8285.23237127]\n",
            " [11823.75853356 12799.63721702]\n",
            " [15497.40337429 17554.89385986]\n",
            " [11030.185254   10580.78799427]\n",
            " [ 7355.31459859  6623.3146337 ]\n",
            " [12046.94355014 12252.69371192]\n",
            " [ 8048.07004297  6847.23287454]\n",
            " [17757.07279817 19348.77684349]\n",
            " [ 3493.42873338  3273.30684849]\n",
            " [12731.65890057 14241.9311353 ]\n",
            " [11615.74705467 11071.15820037]\n",
            " [ 2162.84100013  2167.09388337]\n",
            " [13114.44576773 13906.4175637 ]\n",
            " [ 6801.04340851  5212.95137466]\n",
            " [12697.30239419 13415.79470919]\n",
            " [ 3729.17572419  3140.04087906]\n",
            " [11532.6309017  11819.22416538]\n",
            " [ 5642.69019241 18801.97344251]\n",
            " [ 7278.45343738  6081.96371798]\n",
            " [ 6609.28844412  6082.84372815]\n",
            " [ 7188.36212966  6242.43629255]\n",
            " [ 5091.38402879  3952.91541868]\n",
            " [ 7741.72348065  6467.33325781]\n",
            " [ 8584.90552725  7699.97685546]\n",
            " [ 4561.95720541  4654.30887553]\n",
            " [12157.91203312 12087.96750435]\n",
            " [16076.74168038 15348.83008944]\n",
            " [ 4838.63289525  3831.58124862]\n",
            " [11189.60813517 11640.05440638]\n",
            " [ 5442.85777192  4495.64447582]\n",
            " [ 5397.12797918  4041.67909066]\n",
            " [ 5712.90505957  4732.70404144]\n",
            " [ 4855.85421258  4432.65214357]\n",
            " [ 7718.51846685  6571.03335104]\n",
            " [ 7916.41006215  7173.68131921]\n",
            " [ 5997.32945487  4637.11455324]\n",
            " [ 6031.50625887  5195.67572584]\n",
            " [ 5448.71650959  4322.83602479]\n",
            " [ 7888.05987574  6637.05866674]\n",
            " [ 1962.41861751  1575.59586748]\n",
            " [ 9751.56408075  8800.59788262]\n",
            " [ 9430.37064253  8799.49523921]\n",
            " [ 4270.4280774   3223.60536559]\n",
            " [ 3719.56623671  3176.92709492]\n",
            " [ 4888.66603779  3518.24892402]\n",
            " [12703.10565529 13593.28371993]\n",
            " [ 3785.40827185  2595.03397759]\n",
            " [ 4910.08778242  4303.48557236]\n",
            " [ 3412.34635439  3143.7431152 ]\n",
            " [14538.78345277 16447.81892373]\n",
            " [ 3177.36913818  1987.69778308]\n",
            " [ 3085.20133978  2763.66681496]\n",
            " [10770.64742928 10922.24922596]\n",
            " [ 2976.32273025  2116.68516533]\n",
            " [16028.70824864 17078.74817976]\n",
            " [14309.15408048 13734.09296292]\n",
            " [10192.9226637   9561.05584592]\n",
            " [ 2998.95846232  1981.26201348]\n",
            " [11300.65277513 10962.70629278]\n",
            " [ 8813.02935862  7704.99159054]\n",
            " [10444.52331698  9853.47768184]\n",
            " [ 6335.92196972  5341.36746687]\n",
            " [ 7090.71652183  5936.18173106]\n",
            " [11361.04365628 11343.78717357]\n",
            " [12104.62856316 13337.45947337]\n",
            " [ 2899.03246189  3445.75657086]\n",
            " [ 7444.68636622  5677.89809611]\n",
            " [ 2523.2414299   2418.87074461]\n",
            " [ 8959.4907125   7713.48918556]\n",
            " [11128.40014356 11053.57824101]\n",
            " [10802.9481254  10317.73661036]\n",
            " [ 7977.10498158  7021.67181474]\n",
            " [ 6746.41028562  5091.64987552]\n",
            " [11608.70644963 12205.80157704]\n",
            " [ 8176.07552173  7018.36553807]\n",
            " [11918.67953594 12463.17087732]\n",
            " [ 9039.0077299   8036.61757367]\n",
            " [ 4766.79451386  4202.65806442]\n",
            " [10788.6938877   9855.40917438]\n",
            " [ 9567.42630077  8708.54131303]\n",
            " [10319.93862727  9603.17396825]\n",
            " [ 2467.91553245  1593.830548  ]\n",
            " [ 8054.2039978   7702.77467847]\n",
            " [ 8642.86586752  7597.53048359]\n",
            " [ 5340.36094595  4039.63134579]\n",
            " [ 9454.49290314  8432.53095013]\n",
            " [ 5938.9729706   5229.22925772]\n",
            " [ 5030.27690651  4466.44334133]\n",
            " [12464.30142222 13379.20628973]\n",
            " [ 5479.95153354  4150.51623445]\n",
            " [ 4407.87001602  3164.52327097]\n",
            " [ 3524.91231904  3033.80307744]\n",
            " [ 4108.83916582  3448.22492872]\n",
            " [ 4031.8770252   3406.868159  ]\n",
            " [ 8560.46327961  7310.02441792]\n",
            " [10768.55755584 10096.74933152]\n",
            " [ 5646.95947903  4316.29257146]\n",
            " [ 5247.78556387  5047.46125894]\n",
            " [ 4941.49180205  4205.43018162]\n",
            " [10295.70200447 10243.08507042]\n",
            " [ 9853.27518337  9693.29057693]\n",
            " [ 8649.63382138 18803.36954291]\n",
            " [ 5132.27063402  3668.72705447]\n",
            " [ 2038.02842912  2182.7114331 ]\n",
            " [ 3423.65624605 10775.73648285]\n",
            " [11579.91267327 12129.7091094 ]\n",
            " [11055.0484681  11337.67981683]\n",
            " [11006.03890393 10429.59982259]\n",
            " [ 9604.48867528  8526.26340744]\n",
            " [ 1382.60460138  1585.2839466 ]\n",
            " [19036.33467846 15811.42871407]\n",
            " [17545.28248133 16106.67508097]\n",
            " [15400.70251178 14700.06116031]\n",
            " [ 7267.3446615   6220.34614328]\n",
            " [ 8906.3368205   8384.65588168]\n",
            " [ 3215.12428726 13111.54675328]\n",
            " [18495.50255872 19520.74943018]\n",
            " [ 5242.59367829  5177.22577806]\n",
            " [ 4904.28452131  4530.43444153]\n",
            " [ 6876.10876084  5446.26771517]\n",
            " [17020.30659005 17937.45049395]\n",
            " [ 9286.81810556  8590.35552691]\n",
            " [ 8198.06581511  7122.9623778 ]\n",
            " [20205.47924941 19514.30885014]\n",
            " [ 8597.9772747  12781.36221899]\n",
            " [ 9423.09144949  9477.55434611]\n",
            " [ 2697.59731767  1840.89202394]\n",
            " [ 2482.01074818  2178.60722443]\n",
            " [ 2304.57877074  2766.11117073]\n",
            " [ 4650.45370994  3240.60426369]\n",
            " [ 4978.17797999  4407.18862201]\n",
            " [10287.70338143  9368.08969022]\n",
            " [11342.37254965 10559.03978723]\n",
            " [ 8171.3486395   6444.41050128]\n",
            " [ 6887.58291652  6724.04247531]\n",
            " [ 1965.91483057  1606.32556991]\n",
            " [ 6073.7911731   4639.8727402 ]\n",
            " [ 7599.75782875  5630.85658699]\n",
            " [ 2169.75726927  1687.61231233]\n",
            " [ 8782.1250284   7318.02037408]\n",
            " [ 9655.96284351  8944.15348692]\n",
            " [ 7764.46275813 13711.64372422]\n",
            " [12605.83283499 13968.57994445]\n",
            " [ 2131.87851728  2065.00488722]\n",
            " [ 2507.17059283  2547.79007916]\n",
            " [ 2353.22295511  1589.69326755]\n",
            " [11258.57359584 10939.85008068]\n",
            " [ 9207.65587134  8941.61372406]\n",
            " [ 2988.53186438  1980.88589708]\n",
            " [ 2093.13726205  2164.57947556]\n",
            " [ 7314.53894649  6522.31670584]\n",
            " [ 9758.95679291  8531.83550232]\n",
            " [ 1358.468958    1200.58015184]\n",
            " [ 9189.61414459  8042.05036618]\n",
            " [ 3697.53044049  2455.7616707 ]\n",
            " [ 7444.19994949  6635.49822963]\n",
            " [18978.03561384 19198.0247183 ]\n",
            " [12668.41651209 13621.61436492]\n",
            " [10285.15921134 10414.07938366]\n",
            " [11093.03344157 10682.23860473]\n",
            " [ 2408.44530716  1591.68529147]\n",
            " [ 2578.40830539  2671.45180145]\n",
            " [ 4284.12835924  4882.06609933]\n",
            " [12067.47675899 11838.51754392]\n",
            " [ 8760.9304321   7623.73110511]\n",
            " [ 8838.63011715  8308.90214931]\n",
            " [ 8674.36210297  7390.97412877]\n",
            " [ 2273.21684491 16578.89329605]\n",
            " [ 4627.31828845  3135.232542  ]\n",
            " [10239.78420179  9828.17435801]\n",
            " [11911.36565684 11534.34981215]\n",
            " [ 3310.07740972  2805.25904578]\n",
            " [17680.38587471 19933.13436009]\n",
            " [ 5259.34475023  4312.79392724]\n",
            " [ 4385.91635181  3842.05302885]\n",
            " [ 6388.88545264  4916.8404311 ]\n",
            " [ 9246.72257824  8939.87474942]\n",
            " [ 4950.30496957  3330.30767548]\n",
            " [10136.49703089 10084.43284715]\n",
            " [10826.8218243  10945.61389171]\n",
            " [ 1182.22698863  1662.4730446 ]\n",
            " [ 6271.45562007  4969.97977628]\n",
            " [12479.84107269 14337.3845281 ]\n",
            " [ 9232.18571564  9201.638789  ]\n",
            " [12630.07396687 12933.6385326 ]\n",
            " [10879.17198861 11062.99989181]\n",
            " [ 4926.10314293  3946.95327716]\n",
            " [ 9354.30580129  8254.95019025]\n",
            " [ 5779.0297196   4704.88986751]\n",
            " [ 9548.50468933  8964.02537118]\n",
            " [ 6810.66360269  5351.56134388]\n",
            " [ 5044.21310028  4209.13562472]\n",
            " [18421.14068766 19718.90605239]\n",
            " [ 2352.53007047  1624.93586574]\n",
            " [ 3646.7938167   2283.98861712]\n",
            " [ 2620.14608426  1634.58952013]\n",
            " [ 1240.92487333  1664.59044065]\n",
            " [11277.96156648 11535.67228273]\n",
            " [ 9822.03748335  9700.23414876]\n",
            " [ 7255.04536472  6525.64417851]\n",
            " [ 1858.26615723  1792.39375275]\n",
            " [ 3219.54115618  2689.64243636]\n",
            " [18181.69369194 17657.8818574 ]\n",
            " [ 9597.49478321  8571.84314361]\n",
            " [ 5406.76082314  4415.45541605]\n",
            " [10062.47656024 10043.62301461]\n",
            " [ 8547.41294555  8402.71753662]\n",
            " [10001.93736382  9942.04953746]\n",
            " [12759.09767187 13809.18661251]\n",
            " [ 4077.98033844  3342.57460228]\n",
            " [10178.98573696  9281.25710991]\n",
            " [12227.38862287 12612.95264624]\n",
            " [ 5092.86058361  4510.43437904]\n",
            " [ 3337.94979725  3357.052378  ]\n",
            " [ 1944.61998783  1679.49098403]\n",
            " [ 6334.60516985  5437.21787143]\n",
            " [21760.46939574 19797.43636165]\n",
            " [17008.57122286 16130.1836591 ]\n",
            " [ 2724.95993199  2292.90517155]\n",
            " [11153.63808828 11469.62226341]\n",
            " [ 3350.43220546  3007.14982342]\n",
            " [ 6116.43963411  4613.18160396]\n",
            " [ 2984.01133998  2605.33283247]\n",
            " [ 5183.46228744  3725.78841285]\n",
            " [ 7490.11212067  7200.2537979 ]\n",
            " [ 9509.68386809  8906.67668913]\n",
            " [ 4897.96818803  3542.0966884 ]\n",
            " [10354.38723938 10556.41007914]\n",
            " [10780.09716182 10716.541413  ]\n",
            " [ 9419.36478915  8214.83000467]\n",
            " [10858.55664775 10904.01078729]\n",
            " [ 9187.05123718 15819.56911376]\n",
            " [12132.79831422 13602.2931259 ]\n",
            " [12096.11213628 13400.53468552]\n",
            " [ 2276.30620726  1485.94657317]\n",
            " [ 5198.72598778 18960.73757871]\n",
            " [ 5325.16269591 12388.17824701]\n",
            " [ 1393.22428447  1201.83387319]\n",
            " [10956.34983788 10539.77867873]\n",
            " [15179.62999214 16442.9953035 ]\n",
            " [11618.09876251 13114.47911833]\n",
            " [14990.25823277 17172.36618864]\n",
            " [14448.56155663 15508.25188316]\n",
            " [ 5725.67203576  5280.03994829]\n",
            " [11457.88286034 12125.30715444]\n",
            " [ 3413.97789924  2496.22124295]\n",
            " [ 8760.83018566  7613.24379117]\n",
            " [ 2885.20722126  1787.13133004]\n",
            " [ 7295.30732174  5369.04379158]\n",
            " [ 2580.51885924  1776.14037288]\n",
            " [11898.84724237 11863.51831102]\n",
            " [12400.39023855 13961.16905825]\n",
            " [ 5975.73871456  5116.06677527]\n",
            " [11696.45664613 11074.06961995]\n",
            " [ 5622.45834577  4634.07560685]\n",
            " [11511.84583218 11378.00665096]\n",
            " [12365.42041355 12913.22993334]\n",
            " [ 5464.94563566  3840.47946324]\n",
            " [ 7376.63085472  6808.55662319]\n",
            " [ 8125.30410178  7233.85207691]\n",
            " [12700.8334034  12630.03111706]\n",
            " [ 9033.56728261  8417.34699157]]\n"
          ]
        }
      ]
    },
    {
      "cell_type": "code",
      "source": [
        "X_test_inverse = scaler.inverse_transform(X_test)"
      ],
      "metadata": {
        "id": "iSQItSiZ8X2C"
      },
      "execution_count": null,
      "outputs": []
    },
    {
      "cell_type": "code",
      "source": [
        "X_test_inverse"
      ],
      "metadata": {
        "colab": {
          "base_uri": "https://localhost:8080/"
        },
        "id": "1CfmnTUc8gqV",
        "outputId": "bafc32d6-dde2-4820-a0dc-585b59181e91"
      },
      "execution_count": null,
      "outputs": [
        {
          "output_type": "execute_result",
          "data": {
            "text/plain": [
              "array([[34.   ,  0.   , 26.41 ,  1.   ,  0.   ],\n",
              "       [40.   ,  1.   , 29.355,  1.   ,  0.   ],\n",
              "       [53.   ,  0.   , 26.7  ,  2.   ,  0.   ],\n",
              "       ...,\n",
              "       [41.   ,  1.   , 34.2  ,  2.   ,  0.   ],\n",
              "       [57.   ,  0.   , 38.   ,  2.   ,  0.   ],\n",
              "       [50.   ,  1.   , 25.3  ,  0.   ,  0.   ]])"
            ]
          },
          "metadata": {},
          "execution_count": 73
        }
      ]
    },
    {
      "cell_type": "markdown",
      "source": [],
      "metadata": {
        "id": "5ZwSjYHo9Tf7"
      }
    },
    {
      "cell_type": "code",
      "source": [
        "X_overview = np.concatenate((X_test_inverse, y_testish), axis = 1)"
      ],
      "metadata": {
        "id": "Mmvmq9T28igC"
      },
      "execution_count": null,
      "outputs": []
    },
    {
      "cell_type": "code",
      "source": [
        "X_overview"
      ],
      "metadata": {
        "colab": {
          "base_uri": "https://localhost:8080/"
        },
        "id": "1tObjXXG9Rhi",
        "outputId": "7433d10f-5cc8-41ab-eaeb-8e0c2264c924"
      },
      "execution_count": null,
      "outputs": [
        {
          "output_type": "execute_result",
          "data": {
            "text/plain": [
              "array([[3.40000000e+01, 0.00000000e+00, 2.64100000e+01, ...,\n",
              "        0.00000000e+00, 6.25909817e+03, 5.35336716e+03],\n",
              "       [4.00000000e+01, 1.00000000e+00, 2.93550000e+01, ...,\n",
              "        0.00000000e+00, 7.24015372e+03, 6.36382603e+03],\n",
              "       [5.30000000e+01, 0.00000000e+00, 2.67000000e+01, ...,\n",
              "        0.00000000e+00, 1.13015313e+04, 1.11313511e+04],\n",
              "       ...,\n",
              "       [4.10000000e+01, 1.00000000e+00, 3.42000000e+01, ...,\n",
              "        0.00000000e+00, 8.12530410e+03, 7.23385208e+03],\n",
              "       [5.70000000e+01, 0.00000000e+00, 3.80000000e+01, ...,\n",
              "        0.00000000e+00, 1.27008334e+04, 1.26300311e+04],\n",
              "       [5.00000000e+01, 1.00000000e+00, 2.53000000e+01, ...,\n",
              "        0.00000000e+00, 9.03356728e+03, 8.41734699e+03]])"
            ]
          },
          "metadata": {},
          "execution_count": 75
        }
      ]
    },
    {
      "cell_type": "code",
      "source": [
        "x_overview_df = pd.DataFrame(X_overview)"
      ],
      "metadata": {
        "id": "pMjBwe9T9TKG"
      },
      "execution_count": null,
      "outputs": []
    },
    {
      "cell_type": "code",
      "source": [
        "x_overview_df"
      ],
      "metadata": {
        "colab": {
          "base_uri": "https://localhost:8080/",
          "height": 424
        },
        "id": "Rz2Sd4XW9aeh",
        "outputId": "220fc92e-35c0-474c-94bb-e74049aca03a"
      },
      "execution_count": null,
      "outputs": [
        {
          "output_type": "execute_result",
          "data": {
            "text/plain": [
              "        0    1       2    3    4             5             6\n",
              "0    34.0  0.0  26.410  1.0  0.0   6259.098171   5353.367164\n",
              "1    40.0  1.0  29.355  1.0  0.0   7240.153719   6363.826033\n",
              "2    53.0  0.0  26.700  2.0  0.0  11301.531337  11131.351056\n",
              "3    37.0  0.0  30.800  2.0  0.0   7608.142622   6283.807894\n",
              "4    58.0  1.0  28.595  0.0  0.0  11086.669662  11717.722895\n",
              "..    ...  ...     ...  ...  ...           ...           ...\n",
              "301  31.0  1.0  39.490  1.0  0.0   5464.945636   3840.479463\n",
              "302  43.0  1.0  26.030  0.0  0.0   7376.630855   6808.556623\n",
              "303  41.0  1.0  34.200  2.0  0.0   8125.304102   7233.852077\n",
              "304  57.0  0.0  38.000  2.0  0.0  12700.833403  12630.031117\n",
              "305  50.0  1.0  25.300  0.0  0.0   9033.567283   8417.346992\n",
              "\n",
              "[306 rows x 7 columns]"
            ],
            "text/html": [
              "\n",
              "  <div id=\"df-c5daf3dc-c554-4af1-8b7a-9a1420051d25\">\n",
              "    <div class=\"colab-df-container\">\n",
              "      <div>\n",
              "<style scoped>\n",
              "    .dataframe tbody tr th:only-of-type {\n",
              "        vertical-align: middle;\n",
              "    }\n",
              "\n",
              "    .dataframe tbody tr th {\n",
              "        vertical-align: top;\n",
              "    }\n",
              "\n",
              "    .dataframe thead th {\n",
              "        text-align: right;\n",
              "    }\n",
              "</style>\n",
              "<table border=\"1\" class=\"dataframe\">\n",
              "  <thead>\n",
              "    <tr style=\"text-align: right;\">\n",
              "      <th></th>\n",
              "      <th>0</th>\n",
              "      <th>1</th>\n",
              "      <th>2</th>\n",
              "      <th>3</th>\n",
              "      <th>4</th>\n",
              "      <th>5</th>\n",
              "      <th>6</th>\n",
              "    </tr>\n",
              "  </thead>\n",
              "  <tbody>\n",
              "    <tr>\n",
              "      <th>0</th>\n",
              "      <td>34.0</td>\n",
              "      <td>0.0</td>\n",
              "      <td>26.410</td>\n",
              "      <td>1.0</td>\n",
              "      <td>0.0</td>\n",
              "      <td>6259.098171</td>\n",
              "      <td>5353.367164</td>\n",
              "    </tr>\n",
              "    <tr>\n",
              "      <th>1</th>\n",
              "      <td>40.0</td>\n",
              "      <td>1.0</td>\n",
              "      <td>29.355</td>\n",
              "      <td>1.0</td>\n",
              "      <td>0.0</td>\n",
              "      <td>7240.153719</td>\n",
              "      <td>6363.826033</td>\n",
              "    </tr>\n",
              "    <tr>\n",
              "      <th>2</th>\n",
              "      <td>53.0</td>\n",
              "      <td>0.0</td>\n",
              "      <td>26.700</td>\n",
              "      <td>2.0</td>\n",
              "      <td>0.0</td>\n",
              "      <td>11301.531337</td>\n",
              "      <td>11131.351056</td>\n",
              "    </tr>\n",
              "    <tr>\n",
              "      <th>3</th>\n",
              "      <td>37.0</td>\n",
              "      <td>0.0</td>\n",
              "      <td>30.800</td>\n",
              "      <td>2.0</td>\n",
              "      <td>0.0</td>\n",
              "      <td>7608.142622</td>\n",
              "      <td>6283.807894</td>\n",
              "    </tr>\n",
              "    <tr>\n",
              "      <th>4</th>\n",
              "      <td>58.0</td>\n",
              "      <td>1.0</td>\n",
              "      <td>28.595</td>\n",
              "      <td>0.0</td>\n",
              "      <td>0.0</td>\n",
              "      <td>11086.669662</td>\n",
              "      <td>11717.722895</td>\n",
              "    </tr>\n",
              "    <tr>\n",
              "      <th>...</th>\n",
              "      <td>...</td>\n",
              "      <td>...</td>\n",
              "      <td>...</td>\n",
              "      <td>...</td>\n",
              "      <td>...</td>\n",
              "      <td>...</td>\n",
              "      <td>...</td>\n",
              "    </tr>\n",
              "    <tr>\n",
              "      <th>301</th>\n",
              "      <td>31.0</td>\n",
              "      <td>1.0</td>\n",
              "      <td>39.490</td>\n",
              "      <td>1.0</td>\n",
              "      <td>0.0</td>\n",
              "      <td>5464.945636</td>\n",
              "      <td>3840.479463</td>\n",
              "    </tr>\n",
              "    <tr>\n",
              "      <th>302</th>\n",
              "      <td>43.0</td>\n",
              "      <td>1.0</td>\n",
              "      <td>26.030</td>\n",
              "      <td>0.0</td>\n",
              "      <td>0.0</td>\n",
              "      <td>7376.630855</td>\n",
              "      <td>6808.556623</td>\n",
              "    </tr>\n",
              "    <tr>\n",
              "      <th>303</th>\n",
              "      <td>41.0</td>\n",
              "      <td>1.0</td>\n",
              "      <td>34.200</td>\n",
              "      <td>2.0</td>\n",
              "      <td>0.0</td>\n",
              "      <td>8125.304102</td>\n",
              "      <td>7233.852077</td>\n",
              "    </tr>\n",
              "    <tr>\n",
              "      <th>304</th>\n",
              "      <td>57.0</td>\n",
              "      <td>0.0</td>\n",
              "      <td>38.000</td>\n",
              "      <td>2.0</td>\n",
              "      <td>0.0</td>\n",
              "      <td>12700.833403</td>\n",
              "      <td>12630.031117</td>\n",
              "    </tr>\n",
              "    <tr>\n",
              "      <th>305</th>\n",
              "      <td>50.0</td>\n",
              "      <td>1.0</td>\n",
              "      <td>25.300</td>\n",
              "      <td>0.0</td>\n",
              "      <td>0.0</td>\n",
              "      <td>9033.567283</td>\n",
              "      <td>8417.346992</td>\n",
              "    </tr>\n",
              "  </tbody>\n",
              "</table>\n",
              "<p>306 rows × 7 columns</p>\n",
              "</div>\n",
              "      <button class=\"colab-df-convert\" onclick=\"convertToInteractive('df-c5daf3dc-c554-4af1-8b7a-9a1420051d25')\"\n",
              "              title=\"Convert this dataframe to an interactive table.\"\n",
              "              style=\"display:none;\">\n",
              "        \n",
              "  <svg xmlns=\"http://www.w3.org/2000/svg\" height=\"24px\"viewBox=\"0 0 24 24\"\n",
              "       width=\"24px\">\n",
              "    <path d=\"M0 0h24v24H0V0z\" fill=\"none\"/>\n",
              "    <path d=\"M18.56 5.44l.94 2.06.94-2.06 2.06-.94-2.06-.94-.94-2.06-.94 2.06-2.06.94zm-11 1L8.5 8.5l.94-2.06 2.06-.94-2.06-.94L8.5 2.5l-.94 2.06-2.06.94zm10 10l.94 2.06.94-2.06 2.06-.94-2.06-.94-.94-2.06-.94 2.06-2.06.94z\"/><path d=\"M17.41 7.96l-1.37-1.37c-.4-.4-.92-.59-1.43-.59-.52 0-1.04.2-1.43.59L10.3 9.45l-7.72 7.72c-.78.78-.78 2.05 0 2.83L4 21.41c.39.39.9.59 1.41.59.51 0 1.02-.2 1.41-.59l7.78-7.78 2.81-2.81c.8-.78.8-2.07 0-2.86zM5.41 20L4 18.59l7.72-7.72 1.47 1.35L5.41 20z\"/>\n",
              "  </svg>\n",
              "      </button>\n",
              "      \n",
              "  <style>\n",
              "    .colab-df-container {\n",
              "      display:flex;\n",
              "      flex-wrap:wrap;\n",
              "      gap: 12px;\n",
              "    }\n",
              "\n",
              "    .colab-df-convert {\n",
              "      background-color: #E8F0FE;\n",
              "      border: none;\n",
              "      border-radius: 50%;\n",
              "      cursor: pointer;\n",
              "      display: none;\n",
              "      fill: #1967D2;\n",
              "      height: 32px;\n",
              "      padding: 0 0 0 0;\n",
              "      width: 32px;\n",
              "    }\n",
              "\n",
              "    .colab-df-convert:hover {\n",
              "      background-color: #E2EBFA;\n",
              "      box-shadow: 0px 1px 2px rgba(60, 64, 67, 0.3), 0px 1px 3px 1px rgba(60, 64, 67, 0.15);\n",
              "      fill: #174EA6;\n",
              "    }\n",
              "\n",
              "    [theme=dark] .colab-df-convert {\n",
              "      background-color: #3B4455;\n",
              "      fill: #D2E3FC;\n",
              "    }\n",
              "\n",
              "    [theme=dark] .colab-df-convert:hover {\n",
              "      background-color: #434B5C;\n",
              "      box-shadow: 0px 1px 3px 1px rgba(0, 0, 0, 0.15);\n",
              "      filter: drop-shadow(0px 1px 2px rgba(0, 0, 0, 0.3));\n",
              "      fill: #FFFFFF;\n",
              "    }\n",
              "  </style>\n",
              "\n",
              "      <script>\n",
              "        const buttonEl =\n",
              "          document.querySelector('#df-c5daf3dc-c554-4af1-8b7a-9a1420051d25 button.colab-df-convert');\n",
              "        buttonEl.style.display =\n",
              "          google.colab.kernel.accessAllowed ? 'block' : 'none';\n",
              "\n",
              "        async function convertToInteractive(key) {\n",
              "          const element = document.querySelector('#df-c5daf3dc-c554-4af1-8b7a-9a1420051d25');\n",
              "          const dataTable =\n",
              "            await google.colab.kernel.invokeFunction('convertToInteractive',\n",
              "                                                     [key], {});\n",
              "          if (!dataTable) return;\n",
              "\n",
              "          const docLinkHtml = 'Like what you see? Visit the ' +\n",
              "            '<a target=\"_blank\" href=https://colab.research.google.com/notebooks/data_table.ipynb>data table notebook</a>'\n",
              "            + ' to learn more about interactive tables.';\n",
              "          element.innerHTML = '';\n",
              "          dataTable['output_type'] = 'display_data';\n",
              "          await google.colab.output.renderOutput(dataTable, element);\n",
              "          const docLink = document.createElement('div');\n",
              "          docLink.innerHTML = docLinkHtml;\n",
              "          element.appendChild(docLink);\n",
              "        }\n",
              "      </script>\n",
              "    </div>\n",
              "  </div>\n",
              "  "
            ]
          },
          "metadata": {},
          "execution_count": 77
        }
      ]
    },
    {
      "cell_type": "code",
      "source": [
        "x_overview_df"
      ],
      "metadata": {
        "colab": {
          "base_uri": "https://localhost:8080/",
          "height": 424
        },
        "id": "u4rUzMP89cKE",
        "outputId": "8a5e33d1-ecc7-415b-9e88-e9dcf8d96786"
      },
      "execution_count": null,
      "outputs": [
        {
          "output_type": "execute_result",
          "data": {
            "text/plain": [
              "        0    1       2    3    4             5             6\n",
              "0    34.0  0.0  26.410  1.0  0.0   6259.098171   5353.367164\n",
              "1    40.0  1.0  29.355  1.0  0.0   7240.153719   6363.826033\n",
              "2    53.0  0.0  26.700  2.0  0.0  11301.531337  11131.351056\n",
              "3    37.0  0.0  30.800  2.0  0.0   7608.142622   6283.807894\n",
              "4    58.0  1.0  28.595  0.0  0.0  11086.669662  11717.722895\n",
              "..    ...  ...     ...  ...  ...           ...           ...\n",
              "301  31.0  1.0  39.490  1.0  0.0   5464.945636   3840.479463\n",
              "302  43.0  1.0  26.030  0.0  0.0   7376.630855   6808.556623\n",
              "303  41.0  1.0  34.200  2.0  0.0   8125.304102   7233.852077\n",
              "304  57.0  0.0  38.000  2.0  0.0  12700.833403  12630.031117\n",
              "305  50.0  1.0  25.300  0.0  0.0   9033.567283   8417.346992\n",
              "\n",
              "[306 rows x 7 columns]"
            ],
            "text/html": [
              "\n",
              "  <div id=\"df-d813fe24-468e-4ad8-a5f8-0a7cacd3e32a\">\n",
              "    <div class=\"colab-df-container\">\n",
              "      <div>\n",
              "<style scoped>\n",
              "    .dataframe tbody tr th:only-of-type {\n",
              "        vertical-align: middle;\n",
              "    }\n",
              "\n",
              "    .dataframe tbody tr th {\n",
              "        vertical-align: top;\n",
              "    }\n",
              "\n",
              "    .dataframe thead th {\n",
              "        text-align: right;\n",
              "    }\n",
              "</style>\n",
              "<table border=\"1\" class=\"dataframe\">\n",
              "  <thead>\n",
              "    <tr style=\"text-align: right;\">\n",
              "      <th></th>\n",
              "      <th>0</th>\n",
              "      <th>1</th>\n",
              "      <th>2</th>\n",
              "      <th>3</th>\n",
              "      <th>4</th>\n",
              "      <th>5</th>\n",
              "      <th>6</th>\n",
              "    </tr>\n",
              "  </thead>\n",
              "  <tbody>\n",
              "    <tr>\n",
              "      <th>0</th>\n",
              "      <td>34.0</td>\n",
              "      <td>0.0</td>\n",
              "      <td>26.410</td>\n",
              "      <td>1.0</td>\n",
              "      <td>0.0</td>\n",
              "      <td>6259.098171</td>\n",
              "      <td>5353.367164</td>\n",
              "    </tr>\n",
              "    <tr>\n",
              "      <th>1</th>\n",
              "      <td>40.0</td>\n",
              "      <td>1.0</td>\n",
              "      <td>29.355</td>\n",
              "      <td>1.0</td>\n",
              "      <td>0.0</td>\n",
              "      <td>7240.153719</td>\n",
              "      <td>6363.826033</td>\n",
              "    </tr>\n",
              "    <tr>\n",
              "      <th>2</th>\n",
              "      <td>53.0</td>\n",
              "      <td>0.0</td>\n",
              "      <td>26.700</td>\n",
              "      <td>2.0</td>\n",
              "      <td>0.0</td>\n",
              "      <td>11301.531337</td>\n",
              "      <td>11131.351056</td>\n",
              "    </tr>\n",
              "    <tr>\n",
              "      <th>3</th>\n",
              "      <td>37.0</td>\n",
              "      <td>0.0</td>\n",
              "      <td>30.800</td>\n",
              "      <td>2.0</td>\n",
              "      <td>0.0</td>\n",
              "      <td>7608.142622</td>\n",
              "      <td>6283.807894</td>\n",
              "    </tr>\n",
              "    <tr>\n",
              "      <th>4</th>\n",
              "      <td>58.0</td>\n",
              "      <td>1.0</td>\n",
              "      <td>28.595</td>\n",
              "      <td>0.0</td>\n",
              "      <td>0.0</td>\n",
              "      <td>11086.669662</td>\n",
              "      <td>11717.722895</td>\n",
              "    </tr>\n",
              "    <tr>\n",
              "      <th>...</th>\n",
              "      <td>...</td>\n",
              "      <td>...</td>\n",
              "      <td>...</td>\n",
              "      <td>...</td>\n",
              "      <td>...</td>\n",
              "      <td>...</td>\n",
              "      <td>...</td>\n",
              "    </tr>\n",
              "    <tr>\n",
              "      <th>301</th>\n",
              "      <td>31.0</td>\n",
              "      <td>1.0</td>\n",
              "      <td>39.490</td>\n",
              "      <td>1.0</td>\n",
              "      <td>0.0</td>\n",
              "      <td>5464.945636</td>\n",
              "      <td>3840.479463</td>\n",
              "    </tr>\n",
              "    <tr>\n",
              "      <th>302</th>\n",
              "      <td>43.0</td>\n",
              "      <td>1.0</td>\n",
              "      <td>26.030</td>\n",
              "      <td>0.0</td>\n",
              "      <td>0.0</td>\n",
              "      <td>7376.630855</td>\n",
              "      <td>6808.556623</td>\n",
              "    </tr>\n",
              "    <tr>\n",
              "      <th>303</th>\n",
              "      <td>41.0</td>\n",
              "      <td>1.0</td>\n",
              "      <td>34.200</td>\n",
              "      <td>2.0</td>\n",
              "      <td>0.0</td>\n",
              "      <td>8125.304102</td>\n",
              "      <td>7233.852077</td>\n",
              "    </tr>\n",
              "    <tr>\n",
              "      <th>304</th>\n",
              "      <td>57.0</td>\n",
              "      <td>0.0</td>\n",
              "      <td>38.000</td>\n",
              "      <td>2.0</td>\n",
              "      <td>0.0</td>\n",
              "      <td>12700.833403</td>\n",
              "      <td>12630.031117</td>\n",
              "    </tr>\n",
              "    <tr>\n",
              "      <th>305</th>\n",
              "      <td>50.0</td>\n",
              "      <td>1.0</td>\n",
              "      <td>25.300</td>\n",
              "      <td>0.0</td>\n",
              "      <td>0.0</td>\n",
              "      <td>9033.567283</td>\n",
              "      <td>8417.346992</td>\n",
              "    </tr>\n",
              "  </tbody>\n",
              "</table>\n",
              "<p>306 rows × 7 columns</p>\n",
              "</div>\n",
              "      <button class=\"colab-df-convert\" onclick=\"convertToInteractive('df-d813fe24-468e-4ad8-a5f8-0a7cacd3e32a')\"\n",
              "              title=\"Convert this dataframe to an interactive table.\"\n",
              "              style=\"display:none;\">\n",
              "        \n",
              "  <svg xmlns=\"http://www.w3.org/2000/svg\" height=\"24px\"viewBox=\"0 0 24 24\"\n",
              "       width=\"24px\">\n",
              "    <path d=\"M0 0h24v24H0V0z\" fill=\"none\"/>\n",
              "    <path d=\"M18.56 5.44l.94 2.06.94-2.06 2.06-.94-2.06-.94-.94-2.06-.94 2.06-2.06.94zm-11 1L8.5 8.5l.94-2.06 2.06-.94-2.06-.94L8.5 2.5l-.94 2.06-2.06.94zm10 10l.94 2.06.94-2.06 2.06-.94-2.06-.94-.94-2.06-.94 2.06-2.06.94z\"/><path d=\"M17.41 7.96l-1.37-1.37c-.4-.4-.92-.59-1.43-.59-.52 0-1.04.2-1.43.59L10.3 9.45l-7.72 7.72c-.78.78-.78 2.05 0 2.83L4 21.41c.39.39.9.59 1.41.59.51 0 1.02-.2 1.41-.59l7.78-7.78 2.81-2.81c.8-.78.8-2.07 0-2.86zM5.41 20L4 18.59l7.72-7.72 1.47 1.35L5.41 20z\"/>\n",
              "  </svg>\n",
              "      </button>\n",
              "      \n",
              "  <style>\n",
              "    .colab-df-container {\n",
              "      display:flex;\n",
              "      flex-wrap:wrap;\n",
              "      gap: 12px;\n",
              "    }\n",
              "\n",
              "    .colab-df-convert {\n",
              "      background-color: #E8F0FE;\n",
              "      border: none;\n",
              "      border-radius: 50%;\n",
              "      cursor: pointer;\n",
              "      display: none;\n",
              "      fill: #1967D2;\n",
              "      height: 32px;\n",
              "      padding: 0 0 0 0;\n",
              "      width: 32px;\n",
              "    }\n",
              "\n",
              "    .colab-df-convert:hover {\n",
              "      background-color: #E2EBFA;\n",
              "      box-shadow: 0px 1px 2px rgba(60, 64, 67, 0.3), 0px 1px 3px 1px rgba(60, 64, 67, 0.15);\n",
              "      fill: #174EA6;\n",
              "    }\n",
              "\n",
              "    [theme=dark] .colab-df-convert {\n",
              "      background-color: #3B4455;\n",
              "      fill: #D2E3FC;\n",
              "    }\n",
              "\n",
              "    [theme=dark] .colab-df-convert:hover {\n",
              "      background-color: #434B5C;\n",
              "      box-shadow: 0px 1px 3px 1px rgba(0, 0, 0, 0.15);\n",
              "      filter: drop-shadow(0px 1px 2px rgba(0, 0, 0, 0.3));\n",
              "      fill: #FFFFFF;\n",
              "    }\n",
              "  </style>\n",
              "\n",
              "      <script>\n",
              "        const buttonEl =\n",
              "          document.querySelector('#df-d813fe24-468e-4ad8-a5f8-0a7cacd3e32a button.colab-df-convert');\n",
              "        buttonEl.style.display =\n",
              "          google.colab.kernel.accessAllowed ? 'block' : 'none';\n",
              "\n",
              "        async function convertToInteractive(key) {\n",
              "          const element = document.querySelector('#df-d813fe24-468e-4ad8-a5f8-0a7cacd3e32a');\n",
              "          const dataTable =\n",
              "            await google.colab.kernel.invokeFunction('convertToInteractive',\n",
              "                                                     [key], {});\n",
              "          if (!dataTable) return;\n",
              "\n",
              "          const docLinkHtml = 'Like what you see? Visit the ' +\n",
              "            '<a target=\"_blank\" href=https://colab.research.google.com/notebooks/data_table.ipynb>data table notebook</a>'\n",
              "            + ' to learn more about interactive tables.';\n",
              "          element.innerHTML = '';\n",
              "          dataTable['output_type'] = 'display_data';\n",
              "          await google.colab.output.renderOutput(dataTable, element);\n",
              "          const docLink = document.createElement('div');\n",
              "          docLink.innerHTML = docLinkHtml;\n",
              "          element.appendChild(docLink);\n",
              "        }\n",
              "      </script>\n",
              "    </div>\n",
              "  </div>\n",
              "  "
            ]
          },
          "metadata": {},
          "execution_count": 78
        }
      ]
    },
    {
      "cell_type": "code",
      "source": [
        "x_overview_df.rename(columns = {0:'age', 1:'sex',\n",
        "                              2:'bmi', 3: 'children', 4:  'smoker', 5 : 'predicted_charges', 6: 'charges'}, inplace = True)\n",
        "   "
      ],
      "metadata": {
        "id": "gMeiZsMd-V8k"
      },
      "execution_count": null,
      "outputs": []
    },
    {
      "cell_type": "code",
      "source": [
        "x_overview_df"
      ],
      "metadata": {
        "colab": {
          "base_uri": "https://localhost:8080/",
          "height": 424
        },
        "id": "Vrwig9A5-z8e",
        "outputId": "822dd91f-2fea-460b-afd0-cd2e2553f0f1"
      },
      "execution_count": null,
      "outputs": [
        {
          "output_type": "execute_result",
          "data": {
            "text/plain": [
              "      age  sex     bmi  children  smoker  predicted_charges       charges\n",
              "0    34.0  0.0  26.410       1.0     0.0        6259.098171   5353.367164\n",
              "1    40.0  1.0  29.355       1.0     0.0        7240.153719   6363.826033\n",
              "2    53.0  0.0  26.700       2.0     0.0       11301.531337  11131.351056\n",
              "3    37.0  0.0  30.800       2.0     0.0        7608.142622   6283.807894\n",
              "4    58.0  1.0  28.595       0.0     0.0       11086.669662  11717.722895\n",
              "..    ...  ...     ...       ...     ...                ...           ...\n",
              "301  31.0  1.0  39.490       1.0     0.0        5464.945636   3840.479463\n",
              "302  43.0  1.0  26.030       0.0     0.0        7376.630855   6808.556623\n",
              "303  41.0  1.0  34.200       2.0     0.0        8125.304102   7233.852077\n",
              "304  57.0  0.0  38.000       2.0     0.0       12700.833403  12630.031117\n",
              "305  50.0  1.0  25.300       0.0     0.0        9033.567283   8417.346992\n",
              "\n",
              "[306 rows x 7 columns]"
            ],
            "text/html": [
              "\n",
              "  <div id=\"df-b8a1c732-449c-4d9e-8480-f4b668db8071\">\n",
              "    <div class=\"colab-df-container\">\n",
              "      <div>\n",
              "<style scoped>\n",
              "    .dataframe tbody tr th:only-of-type {\n",
              "        vertical-align: middle;\n",
              "    }\n",
              "\n",
              "    .dataframe tbody tr th {\n",
              "        vertical-align: top;\n",
              "    }\n",
              "\n",
              "    .dataframe thead th {\n",
              "        text-align: right;\n",
              "    }\n",
              "</style>\n",
              "<table border=\"1\" class=\"dataframe\">\n",
              "  <thead>\n",
              "    <tr style=\"text-align: right;\">\n",
              "      <th></th>\n",
              "      <th>age</th>\n",
              "      <th>sex</th>\n",
              "      <th>bmi</th>\n",
              "      <th>children</th>\n",
              "      <th>smoker</th>\n",
              "      <th>predicted_charges</th>\n",
              "      <th>charges</th>\n",
              "    </tr>\n",
              "  </thead>\n",
              "  <tbody>\n",
              "    <tr>\n",
              "      <th>0</th>\n",
              "      <td>34.0</td>\n",
              "      <td>0.0</td>\n",
              "      <td>26.410</td>\n",
              "      <td>1.0</td>\n",
              "      <td>0.0</td>\n",
              "      <td>6259.098171</td>\n",
              "      <td>5353.367164</td>\n",
              "    </tr>\n",
              "    <tr>\n",
              "      <th>1</th>\n",
              "      <td>40.0</td>\n",
              "      <td>1.0</td>\n",
              "      <td>29.355</td>\n",
              "      <td>1.0</td>\n",
              "      <td>0.0</td>\n",
              "      <td>7240.153719</td>\n",
              "      <td>6363.826033</td>\n",
              "    </tr>\n",
              "    <tr>\n",
              "      <th>2</th>\n",
              "      <td>53.0</td>\n",
              "      <td>0.0</td>\n",
              "      <td>26.700</td>\n",
              "      <td>2.0</td>\n",
              "      <td>0.0</td>\n",
              "      <td>11301.531337</td>\n",
              "      <td>11131.351056</td>\n",
              "    </tr>\n",
              "    <tr>\n",
              "      <th>3</th>\n",
              "      <td>37.0</td>\n",
              "      <td>0.0</td>\n",
              "      <td>30.800</td>\n",
              "      <td>2.0</td>\n",
              "      <td>0.0</td>\n",
              "      <td>7608.142622</td>\n",
              "      <td>6283.807894</td>\n",
              "    </tr>\n",
              "    <tr>\n",
              "      <th>4</th>\n",
              "      <td>58.0</td>\n",
              "      <td>1.0</td>\n",
              "      <td>28.595</td>\n",
              "      <td>0.0</td>\n",
              "      <td>0.0</td>\n",
              "      <td>11086.669662</td>\n",
              "      <td>11717.722895</td>\n",
              "    </tr>\n",
              "    <tr>\n",
              "      <th>...</th>\n",
              "      <td>...</td>\n",
              "      <td>...</td>\n",
              "      <td>...</td>\n",
              "      <td>...</td>\n",
              "      <td>...</td>\n",
              "      <td>...</td>\n",
              "      <td>...</td>\n",
              "    </tr>\n",
              "    <tr>\n",
              "      <th>301</th>\n",
              "      <td>31.0</td>\n",
              "      <td>1.0</td>\n",
              "      <td>39.490</td>\n",
              "      <td>1.0</td>\n",
              "      <td>0.0</td>\n",
              "      <td>5464.945636</td>\n",
              "      <td>3840.479463</td>\n",
              "    </tr>\n",
              "    <tr>\n",
              "      <th>302</th>\n",
              "      <td>43.0</td>\n",
              "      <td>1.0</td>\n",
              "      <td>26.030</td>\n",
              "      <td>0.0</td>\n",
              "      <td>0.0</td>\n",
              "      <td>7376.630855</td>\n",
              "      <td>6808.556623</td>\n",
              "    </tr>\n",
              "    <tr>\n",
              "      <th>303</th>\n",
              "      <td>41.0</td>\n",
              "      <td>1.0</td>\n",
              "      <td>34.200</td>\n",
              "      <td>2.0</td>\n",
              "      <td>0.0</td>\n",
              "      <td>8125.304102</td>\n",
              "      <td>7233.852077</td>\n",
              "    </tr>\n",
              "    <tr>\n",
              "      <th>304</th>\n",
              "      <td>57.0</td>\n",
              "      <td>0.0</td>\n",
              "      <td>38.000</td>\n",
              "      <td>2.0</td>\n",
              "      <td>0.0</td>\n",
              "      <td>12700.833403</td>\n",
              "      <td>12630.031117</td>\n",
              "    </tr>\n",
              "    <tr>\n",
              "      <th>305</th>\n",
              "      <td>50.0</td>\n",
              "      <td>1.0</td>\n",
              "      <td>25.300</td>\n",
              "      <td>0.0</td>\n",
              "      <td>0.0</td>\n",
              "      <td>9033.567283</td>\n",
              "      <td>8417.346992</td>\n",
              "    </tr>\n",
              "  </tbody>\n",
              "</table>\n",
              "<p>306 rows × 7 columns</p>\n",
              "</div>\n",
              "      <button class=\"colab-df-convert\" onclick=\"convertToInteractive('df-b8a1c732-449c-4d9e-8480-f4b668db8071')\"\n",
              "              title=\"Convert this dataframe to an interactive table.\"\n",
              "              style=\"display:none;\">\n",
              "        \n",
              "  <svg xmlns=\"http://www.w3.org/2000/svg\" height=\"24px\"viewBox=\"0 0 24 24\"\n",
              "       width=\"24px\">\n",
              "    <path d=\"M0 0h24v24H0V0z\" fill=\"none\"/>\n",
              "    <path d=\"M18.56 5.44l.94 2.06.94-2.06 2.06-.94-2.06-.94-.94-2.06-.94 2.06-2.06.94zm-11 1L8.5 8.5l.94-2.06 2.06-.94-2.06-.94L8.5 2.5l-.94 2.06-2.06.94zm10 10l.94 2.06.94-2.06 2.06-.94-2.06-.94-.94-2.06-.94 2.06-2.06.94z\"/><path d=\"M17.41 7.96l-1.37-1.37c-.4-.4-.92-.59-1.43-.59-.52 0-1.04.2-1.43.59L10.3 9.45l-7.72 7.72c-.78.78-.78 2.05 0 2.83L4 21.41c.39.39.9.59 1.41.59.51 0 1.02-.2 1.41-.59l7.78-7.78 2.81-2.81c.8-.78.8-2.07 0-2.86zM5.41 20L4 18.59l7.72-7.72 1.47 1.35L5.41 20z\"/>\n",
              "  </svg>\n",
              "      </button>\n",
              "      \n",
              "  <style>\n",
              "    .colab-df-container {\n",
              "      display:flex;\n",
              "      flex-wrap:wrap;\n",
              "      gap: 12px;\n",
              "    }\n",
              "\n",
              "    .colab-df-convert {\n",
              "      background-color: #E8F0FE;\n",
              "      border: none;\n",
              "      border-radius: 50%;\n",
              "      cursor: pointer;\n",
              "      display: none;\n",
              "      fill: #1967D2;\n",
              "      height: 32px;\n",
              "      padding: 0 0 0 0;\n",
              "      width: 32px;\n",
              "    }\n",
              "\n",
              "    .colab-df-convert:hover {\n",
              "      background-color: #E2EBFA;\n",
              "      box-shadow: 0px 1px 2px rgba(60, 64, 67, 0.3), 0px 1px 3px 1px rgba(60, 64, 67, 0.15);\n",
              "      fill: #174EA6;\n",
              "    }\n",
              "\n",
              "    [theme=dark] .colab-df-convert {\n",
              "      background-color: #3B4455;\n",
              "      fill: #D2E3FC;\n",
              "    }\n",
              "\n",
              "    [theme=dark] .colab-df-convert:hover {\n",
              "      background-color: #434B5C;\n",
              "      box-shadow: 0px 1px 3px 1px rgba(0, 0, 0, 0.15);\n",
              "      filter: drop-shadow(0px 1px 2px rgba(0, 0, 0, 0.3));\n",
              "      fill: #FFFFFF;\n",
              "    }\n",
              "  </style>\n",
              "\n",
              "      <script>\n",
              "        const buttonEl =\n",
              "          document.querySelector('#df-b8a1c732-449c-4d9e-8480-f4b668db8071 button.colab-df-convert');\n",
              "        buttonEl.style.display =\n",
              "          google.colab.kernel.accessAllowed ? 'block' : 'none';\n",
              "\n",
              "        async function convertToInteractive(key) {\n",
              "          const element = document.querySelector('#df-b8a1c732-449c-4d9e-8480-f4b668db8071');\n",
              "          const dataTable =\n",
              "            await google.colab.kernel.invokeFunction('convertToInteractive',\n",
              "                                                     [key], {});\n",
              "          if (!dataTable) return;\n",
              "\n",
              "          const docLinkHtml = 'Like what you see? Visit the ' +\n",
              "            '<a target=\"_blank\" href=https://colab.research.google.com/notebooks/data_table.ipynb>data table notebook</a>'\n",
              "            + ' to learn more about interactive tables.';\n",
              "          element.innerHTML = '';\n",
              "          dataTable['output_type'] = 'display_data';\n",
              "          await google.colab.output.renderOutput(dataTable, element);\n",
              "          const docLink = document.createElement('div');\n",
              "          docLink.innerHTML = docLinkHtml;\n",
              "          element.appendChild(docLink);\n",
              "        }\n",
              "      </script>\n",
              "    </div>\n",
              "  </div>\n",
              "  "
            ]
          },
          "metadata": {},
          "execution_count": 80
        }
      ]
    },
    {
      "cell_type": "code",
      "source": [
        "# importing package\n",
        "import matplotlib.pyplot as plt\n",
        "plt.figure(figsize=(15,7))\n",
        "a = []\n",
        "for x in range(len(X_test)):\n",
        "   a.append(x)\n",
        "plt.plot(a, y_testish[:,0], label = \"Prediksi Harga Medis\")\n",
        "plt.plot(a, y_testish[:,1], label = \"Nilai Aktual Harga Medis\")\n",
        "plt.xlabel(\"Indeks Data Testing\")\n",
        "plt.ylabel(\"Harga Medis\")\n",
        "plt.legend()\n",
        "plt.show()"
      ],
      "metadata": {
        "id": "4MgjGaht-1tn",
        "colab": {
          "base_uri": "https://localhost:8080/",
          "height": 465
        },
        "outputId": "902580e6-eed1-41d0-bffb-078764e9e84e"
      },
      "execution_count": null,
      "outputs": [
        {
          "output_type": "display_data",
          "data": {
            "text/plain": [
              "<Figure size 1080x504 with 1 Axes>"
            ],
            "image/png": "[encoded data removed]"
          },
          "metadata": {}
        }
      ]
    },
    {
      "cell_type": "code",
      "source": [],
      "metadata": {
        "id": "PaVRUQUUPL0x"
      },
      "execution_count": null,
      "outputs": []
    }
  ]
}