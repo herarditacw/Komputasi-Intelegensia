{
  "nbformat": 4,
  "nbformat_minor": 0,
  "metadata": {
    "colab": {
      "provenance": []
    },
    "kernelspec": {
      "name": "python3",
      "display_name": "Python 3"
    },
    "language_info": {
      "name": "python"
    }
  },
  "cells": [
    {
      "cell_type": "code",
      "source": [
        "!pip install pyswarms"
      ],
      "metadata": {
        "colab": {
          "base_uri": "https://localhost:8080/"
        },
        "id": "Z84jcFvJx9Fd",
        "outputId": "7e438d9c-252a-40cb-a3c1-2a69951bde8a"
      },
      "execution_count": null,
      "outputs": [
        {
          "output_type": "stream",
          "name": "stdout",
          "text": [
            "Looking in indexes: https://pypi.org/simple, https://us-python.pkg.dev/colab-wheels/public/simple/\n",
            "Collecting pyswarms\n",
            "  Downloading pyswarms-1.3.0-py2.py3-none-any.whl (104 kB)\n",
            "\u001b[K     |████████████████████████████████| 104 kB 9.1 MB/s \n",
            "\u001b[?25hRequirement already satisfied: pyyaml in /usr/local/lib/python3.8/dist-packages (from pyswarms) (6.0)\n",
            "Requirement already satisfied: matplotlib>=1.3.1 in /usr/local/lib/python3.8/dist-packages (from pyswarms) (3.2.2)\n",
            "Requirement already satisfied: numpy in /usr/local/lib/python3.8/dist-packages (from pyswarms) (1.21.6)\n",
            "Requirement already satisfied: attrs in /usr/local/lib/python3.8/dist-packages (from pyswarms) (22.1.0)\n",
            "Requirement already satisfied: tqdm in /usr/local/lib/python3.8/dist-packages (from pyswarms) (4.64.1)\n",
            "Requirement already satisfied: future in /usr/local/lib/python3.8/dist-packages (from pyswarms) (0.16.0)\n",
            "Requirement already satisfied: scipy in /usr/local/lib/python3.8/dist-packages (from pyswarms) (1.7.3)\n",
            "Requirement already satisfied: python-dateutil>=2.1 in /usr/local/lib/python3.8/dist-packages (from matplotlib>=1.3.1->pyswarms) (2.8.2)\n",
            "Requirement already satisfied: kiwisolver>=1.0.1 in /usr/local/lib/python3.8/dist-packages (from matplotlib>=1.3.1->pyswarms) (1.4.4)\n",
            "Requirement already satisfied: cycler>=0.10 in /usr/local/lib/python3.8/dist-packages (from matplotlib>=1.3.1->pyswarms) (0.11.0)\n",
            "Requirement already satisfied: pyparsing!=2.0.4,!=2.1.2,!=2.1.6,>=2.0.1 in /usr/local/lib/python3.8/dist-packages (from matplotlib>=1.3.1->pyswarms) (3.0.9)\n",
            "Requirement already satisfied: six>=1.5 in /usr/local/lib/python3.8/dist-packages (from python-dateutil>=2.1->matplotlib>=1.3.1->pyswarms) (1.15.0)\n",
            "Installing collected packages: pyswarms\n",
            "Successfully installed pyswarms-1.3.0\n"
          ]
        }
      ]
    },
    {
      "cell_type": "code",
      "source": [
        "#First step :- Load libraries\n",
        "from keras.models import Sequential\n",
        "from keras.layers import Dense      #neural net layers\n",
        "import pandas as pd                  \n",
        "from sklearn.model_selection import train_test_split   #to spit dataset into train,validation,test \n",
        "import matplotlib.pyplot as plt\n",
        "import numpy as np\n",
        "import pyswarms as ps\n",
        "from sklearn.metrics import mean_squared_error\n",
        "from scipy import stats\n",
        "import seaborn as sns\n"
      ],
      "metadata": {
        "id": "3FPzHNDSwWcW"
      },
      "execution_count": null,
      "outputs": []
    },
    {
      "cell_type": "code",
      "execution_count": null,
      "metadata": {
        "colab": {
          "base_uri": "https://localhost:8080/",
          "height": 206
        },
        "id": "T_NthWDHwDkM",
        "outputId": "3ea9d44f-5e6f-4045-cbf8-cf731fdc7928"
      },
      "outputs": [
        {
          "output_type": "execute_result",
          "data": {
            "text/plain": [
              "   age     sex     bmi  children smoker     region      charges\n",
              "0   19  female  27.900         0    yes  southwest  16884.92400\n",
              "1   18    male  33.770         1     no  southeast   1725.55230\n",
              "2   28    male  33.000         3     no  southeast   4449.46200\n",
              "3   33    male  22.705         0     no  northwest  21984.47061\n",
              "4   32    male  28.880         0     no  northwest   3866.85520"
            ],
            "text/html": [
              "\n",
              "  <div id=\"df-8b1ba6a7-b82f-4bf0-8ae7-d3f501fbba46\">\n",
              "    <div class=\"colab-df-container\">\n",
              "      <div>\n",
              "<style scoped>\n",
              "    .dataframe tbody tr th:only-of-type {\n",
              "        vertical-align: middle;\n",
              "    }\n",
              "\n",
              "    .dataframe tbody tr th {\n",
              "        vertical-align: top;\n",
              "    }\n",
              "\n",
              "    .dataframe thead th {\n",
              "        text-align: right;\n",
              "    }\n",
              "</style>\n",
              "<table border=\"1\" class=\"dataframe\">\n",
              "  <thead>\n",
              "    <tr style=\"text-align: right;\">\n",
              "      <th></th>\n",
              "      <th>age</th>\n",
              "      <th>sex</th>\n",
              "      <th>bmi</th>\n",
              "      <th>children</th>\n",
              "      <th>smoker</th>\n",
              "      <th>region</th>\n",
              "      <th>charges</th>\n",
              "    </tr>\n",
              "  </thead>\n",
              "  <tbody>\n",
              "    <tr>\n",
              "      <th>0</th>\n",
              "      <td>19</td>\n",
              "      <td>female</td>\n",
              "      <td>27.900</td>\n",
              "      <td>0</td>\n",
              "      <td>yes</td>\n",
              "      <td>southwest</td>\n",
              "      <td>16884.92400</td>\n",
              "    </tr>\n",
              "    <tr>\n",
              "      <th>1</th>\n",
              "      <td>18</td>\n",
              "      <td>male</td>\n",
              "      <td>33.770</td>\n",
              "      <td>1</td>\n",
              "      <td>no</td>\n",
              "      <td>southeast</td>\n",
              "      <td>1725.55230</td>\n",
              "    </tr>\n",
              "    <tr>\n",
              "      <th>2</th>\n",
              "      <td>28</td>\n",
              "      <td>male</td>\n",
              "      <td>33.000</td>\n",
              "      <td>3</td>\n",
              "      <td>no</td>\n",
              "      <td>southeast</td>\n",
              "      <td>4449.46200</td>\n",
              "    </tr>\n",
              "    <tr>\n",
              "      <th>3</th>\n",
              "      <td>33</td>\n",
              "      <td>male</td>\n",
              "      <td>22.705</td>\n",
              "      <td>0</td>\n",
              "      <td>no</td>\n",
              "      <td>northwest</td>\n",
              "      <td>21984.47061</td>\n",
              "    </tr>\n",
              "    <tr>\n",
              "      <th>4</th>\n",
              "      <td>32</td>\n",
              "      <td>male</td>\n",
              "      <td>28.880</td>\n",
              "      <td>0</td>\n",
              "      <td>no</td>\n",
              "      <td>northwest</td>\n",
              "      <td>3866.85520</td>\n",
              "    </tr>\n",
              "  </tbody>\n",
              "</table>\n",
              "</div>\n",
              "      <button class=\"colab-df-convert\" onclick=\"convertToInteractive('df-8b1ba6a7-b82f-4bf0-8ae7-d3f501fbba46')\"\n",
              "              title=\"Convert this dataframe to an interactive table.\"\n",
              "              style=\"display:none;\">\n",
              "        \n",
              "  <svg xmlns=\"http://www.w3.org/2000/svg\" height=\"24px\"viewBox=\"0 0 24 24\"\n",
              "       width=\"24px\">\n",
              "    <path d=\"M0 0h24v24H0V0z\" fill=\"none\"/>\n",
              "    <path d=\"M18.56 5.44l.94 2.06.94-2.06 2.06-.94-2.06-.94-.94-2.06-.94 2.06-2.06.94zm-11 1L8.5 8.5l.94-2.06 2.06-.94-2.06-.94L8.5 2.5l-.94 2.06-2.06.94zm10 10l.94 2.06.94-2.06 2.06-.94-2.06-.94-.94-2.06-.94 2.06-2.06.94z\"/><path d=\"M17.41 7.96l-1.37-1.37c-.4-.4-.92-.59-1.43-.59-.52 0-1.04.2-1.43.59L10.3 9.45l-7.72 7.72c-.78.78-.78 2.05 0 2.83L4 21.41c.39.39.9.59 1.41.59.51 0 1.02-.2 1.41-.59l7.78-7.78 2.81-2.81c.8-.78.8-2.07 0-2.86zM5.41 20L4 18.59l7.72-7.72 1.47 1.35L5.41 20z\"/>\n",
              "  </svg>\n",
              "      </button>\n",
              "      \n",
              "  <style>\n",
              "    .colab-df-container {\n",
              "      display:flex;\n",
              "      flex-wrap:wrap;\n",
              "      gap: 12px;\n",
              "    }\n",
              "\n",
              "    .colab-df-convert {\n",
              "      background-color: #E8F0FE;\n",
              "      border: none;\n",
              "      border-radius: 50%;\n",
              "      cursor: pointer;\n",
              "      display: none;\n",
              "      fill: #1967D2;\n",
              "      height: 32px;\n",
              "      padding: 0 0 0 0;\n",
              "      width: 32px;\n",
              "    }\n",
              "\n",
              "    .colab-df-convert:hover {\n",
              "      background-color: #E2EBFA;\n",
              "      box-shadow: 0px 1px 2px rgba(60, 64, 67, 0.3), 0px 1px 3px 1px rgba(60, 64, 67, 0.15);\n",
              "      fill: #174EA6;\n",
              "    }\n",
              "\n",
              "    [theme=dark] .colab-df-convert {\n",
              "      background-color: #3B4455;\n",
              "      fill: #D2E3FC;\n",
              "    }\n",
              "\n",
              "    [theme=dark] .colab-df-convert:hover {\n",
              "      background-color: #434B5C;\n",
              "      box-shadow: 0px 1px 3px 1px rgba(0, 0, 0, 0.15);\n",
              "      filter: drop-shadow(0px 1px 2px rgba(0, 0, 0, 0.3));\n",
              "      fill: #FFFFFF;\n",
              "    }\n",
              "  </style>\n",
              "\n",
              "      <script>\n",
              "        const buttonEl =\n",
              "          document.querySelector('#df-8b1ba6a7-b82f-4bf0-8ae7-d3f501fbba46 button.colab-df-convert');\n",
              "        buttonEl.style.display =\n",
              "          google.colab.kernel.accessAllowed ? 'block' : 'none';\n",
              "\n",
              "        async function convertToInteractive(key) {\n",
              "          const element = document.querySelector('#df-8b1ba6a7-b82f-4bf0-8ae7-d3f501fbba46');\n",
              "          const dataTable =\n",
              "            await google.colab.kernel.invokeFunction('convertToInteractive',\n",
              "                                                     [key], {});\n",
              "          if (!dataTable) return;\n",
              "\n",
              "          const docLinkHtml = 'Like what you see? Visit the ' +\n",
              "            '<a target=\"_blank\" href=https://colab.research.google.com/notebooks/data_table.ipynb>data table notebook</a>'\n",
              "            + ' to learn more about interactive tables.';\n",
              "          element.innerHTML = '';\n",
              "          dataTable['output_type'] = 'display_data';\n",
              "          await google.colab.output.renderOutput(dataTable, element);\n",
              "          const docLink = document.createElement('div');\n",
              "          docLink.innerHTML = docLinkHtml;\n",
              "          element.appendChild(docLink);\n",
              "        }\n",
              "      </script>\n",
              "    </div>\n",
              "  </div>\n",
              "  "
            ]
          },
          "metadata": {},
          "execution_count": 3
        }
      ],
      "source": [
        "Medic= pd.read_csv('Data Medical Cost_Regresi.csv')\n",
        "Medic.head()"
      ]
    },
    {
      "cell_type": "code",
      "source": [
        "Medic.describe()"
      ],
      "metadata": {
        "colab": {
          "base_uri": "https://localhost:8080/",
          "height": 300
        },
        "id": "8ufE-yRdlIln",
        "outputId": "ac16fa72-1727-4e58-938a-696c329a7db4"
      },
      "execution_count": null,
      "outputs": [
        {
          "output_type": "execute_result",
          "data": {
            "text/plain": [
              "               age          bmi     children       charges\n",
              "count  1338.000000  1338.000000  1338.000000   1338.000000\n",
              "mean     39.207025    30.663397     1.094918  13270.422265\n",
              "std      14.049960     6.098187     1.205493  12110.011237\n",
              "min      18.000000    15.960000     0.000000   1121.873900\n",
              "25%      27.000000    26.296250     0.000000   4740.287150\n",
              "50%      39.000000    30.400000     1.000000   9382.033000\n",
              "75%      51.000000    34.693750     2.000000  16639.912515\n",
              "max      64.000000    53.130000     5.000000  63770.428010"
            ],
            "text/html": [
              "\n",
              "  <div id=\"df-2cc914e0-516e-449a-9d25-e9a85f9b6cdb\">\n",
              "    <div class=\"colab-df-container\">\n",
              "      <div>\n",
              "<style scoped>\n",
              "    .dataframe tbody tr th:only-of-type {\n",
              "        vertical-align: middle;\n",
              "    }\n",
              "\n",
              "    .dataframe tbody tr th {\n",
              "        vertical-align: top;\n",
              "    }\n",
              "\n",
              "    .dataframe thead th {\n",
              "        text-align: right;\n",
              "    }\n",
              "</style>\n",
              "<table border=\"1\" class=\"dataframe\">\n",
              "  <thead>\n",
              "    <tr style=\"text-align: right;\">\n",
              "      <th></th>\n",
              "      <th>age</th>\n",
              "      <th>bmi</th>\n",
              "      <th>children</th>\n",
              "      <th>charges</th>\n",
              "    </tr>\n",
              "  </thead>\n",
              "  <tbody>\n",
              "    <tr>\n",
              "      <th>count</th>\n",
              "      <td>1338.000000</td>\n",
              "      <td>1338.000000</td>\n",
              "      <td>1338.000000</td>\n",
              "      <td>1338.000000</td>\n",
              "    </tr>\n",
              "    <tr>\n",
              "      <th>mean</th>\n",
              "      <td>39.207025</td>\n",
              "      <td>30.663397</td>\n",
              "      <td>1.094918</td>\n",
              "      <td>13270.422265</td>\n",
              "    </tr>\n",
              "    <tr>\n",
              "      <th>std</th>\n",
              "      <td>14.049960</td>\n",
              "      <td>6.098187</td>\n",
              "      <td>1.205493</td>\n",
              "      <td>12110.011237</td>\n",
              "    </tr>\n",
              "    <tr>\n",
              "      <th>min</th>\n",
              "      <td>18.000000</td>\n",
              "      <td>15.960000</td>\n",
              "      <td>0.000000</td>\n",
              "      <td>1121.873900</td>\n",
              "    </tr>\n",
              "    <tr>\n",
              "      <th>25%</th>\n",
              "      <td>27.000000</td>\n",
              "      <td>26.296250</td>\n",
              "      <td>0.000000</td>\n",
              "      <td>4740.287150</td>\n",
              "    </tr>\n",
              "    <tr>\n",
              "      <th>50%</th>\n",
              "      <td>39.000000</td>\n",
              "      <td>30.400000</td>\n",
              "      <td>1.000000</td>\n",
              "      <td>9382.033000</td>\n",
              "    </tr>\n",
              "    <tr>\n",
              "      <th>75%</th>\n",
              "      <td>51.000000</td>\n",
              "      <td>34.693750</td>\n",
              "      <td>2.000000</td>\n",
              "      <td>16639.912515</td>\n",
              "    </tr>\n",
              "    <tr>\n",
              "      <th>max</th>\n",
              "      <td>64.000000</td>\n",
              "      <td>53.130000</td>\n",
              "      <td>5.000000</td>\n",
              "      <td>63770.428010</td>\n",
              "    </tr>\n",
              "  </tbody>\n",
              "</table>\n",
              "</div>\n",
              "      <button class=\"colab-df-convert\" onclick=\"convertToInteractive('df-2cc914e0-516e-449a-9d25-e9a85f9b6cdb')\"\n",
              "              title=\"Convert this dataframe to an interactive table.\"\n",
              "              style=\"display:none;\">\n",
              "        \n",
              "  <svg xmlns=\"http://www.w3.org/2000/svg\" height=\"24px\"viewBox=\"0 0 24 24\"\n",
              "       width=\"24px\">\n",
              "    <path d=\"M0 0h24v24H0V0z\" fill=\"none\"/>\n",
              "    <path d=\"M18.56 5.44l.94 2.06.94-2.06 2.06-.94-2.06-.94-.94-2.06-.94 2.06-2.06.94zm-11 1L8.5 8.5l.94-2.06 2.06-.94-2.06-.94L8.5 2.5l-.94 2.06-2.06.94zm10 10l.94 2.06.94-2.06 2.06-.94-2.06-.94-.94-2.06-.94 2.06-2.06.94z\"/><path d=\"M17.41 7.96l-1.37-1.37c-.4-.4-.92-.59-1.43-.59-.52 0-1.04.2-1.43.59L10.3 9.45l-7.72 7.72c-.78.78-.78 2.05 0 2.83L4 21.41c.39.39.9.59 1.41.59.51 0 1.02-.2 1.41-.59l7.78-7.78 2.81-2.81c.8-.78.8-2.07 0-2.86zM5.41 20L4 18.59l7.72-7.72 1.47 1.35L5.41 20z\"/>\n",
              "  </svg>\n",
              "      </button>\n",
              "      \n",
              "  <style>\n",
              "    .colab-df-container {\n",
              "      display:flex;\n",
              "      flex-wrap:wrap;\n",
              "      gap: 12px;\n",
              "    }\n",
              "\n",
              "    .colab-df-convert {\n",
              "      background-color: #E8F0FE;\n",
              "      border: none;\n",
              "      border-radius: 50%;\n",
              "      cursor: pointer;\n",
              "      display: none;\n",
              "      fill: #1967D2;\n",
              "      height: 32px;\n",
              "      padding: 0 0 0 0;\n",
              "      width: 32px;\n",
              "    }\n",
              "\n",
              "    .colab-df-convert:hover {\n",
              "      background-color: #E2EBFA;\n",
              "      box-shadow: 0px 1px 2px rgba(60, 64, 67, 0.3), 0px 1px 3px 1px rgba(60, 64, 67, 0.15);\n",
              "      fill: #174EA6;\n",
              "    }\n",
              "\n",
              "    [theme=dark] .colab-df-convert {\n",
              "      background-color: #3B4455;\n",
              "      fill: #D2E3FC;\n",
              "    }\n",
              "\n",
              "    [theme=dark] .colab-df-convert:hover {\n",
              "      background-color: #434B5C;\n",
              "      box-shadow: 0px 1px 3px 1px rgba(0, 0, 0, 0.15);\n",
              "      filter: drop-shadow(0px 1px 2px rgba(0, 0, 0, 0.3));\n",
              "      fill: #FFFFFF;\n",
              "    }\n",
              "  </style>\n",
              "\n",
              "      <script>\n",
              "        const buttonEl =\n",
              "          document.querySelector('#df-2cc914e0-516e-449a-9d25-e9a85f9b6cdb button.colab-df-convert');\n",
              "        buttonEl.style.display =\n",
              "          google.colab.kernel.accessAllowed ? 'block' : 'none';\n",
              "\n",
              "        async function convertToInteractive(key) {\n",
              "          const element = document.querySelector('#df-2cc914e0-516e-449a-9d25-e9a85f9b6cdb');\n",
              "          const dataTable =\n",
              "            await google.colab.kernel.invokeFunction('convertToInteractive',\n",
              "                                                     [key], {});\n",
              "          if (!dataTable) return;\n",
              "\n",
              "          const docLinkHtml = 'Like what you see? Visit the ' +\n",
              "            '<a target=\"_blank\" href=https://colab.research.google.com/notebooks/data_table.ipynb>data table notebook</a>'\n",
              "            + ' to learn more about interactive tables.';\n",
              "          element.innerHTML = '';\n",
              "          dataTable['output_type'] = 'display_data';\n",
              "          await google.colab.output.renderOutput(dataTable, element);\n",
              "          const docLink = document.createElement('div');\n",
              "          docLink.innerHTML = docLinkHtml;\n",
              "          element.appendChild(docLink);\n",
              "        }\n",
              "      </script>\n",
              "    </div>\n",
              "  </div>\n",
              "  "
            ]
          },
          "metadata": {},
          "execution_count": 4
        }
      ]
    },
    {
      "cell_type": "code",
      "source": [
        "from sklearn.preprocessing import LabelEncoder\n",
        "#sex\n",
        "le = LabelEncoder()\n",
        "le.fit(Medic.sex.drop_duplicates()) \n",
        "Medic.sex = le.transform(Medic.sex)\n",
        "# smoker or not\n",
        "le.fit(Medic.smoker.drop_duplicates()) \n",
        "Medic.smoker = le.transform(Medic.smoker)\n",
        "#region\n",
        "le.fit(Medic.region.drop_duplicates()) \n",
        "Medic.region = le.transform(Medic.region)\n",
        "Medic.head()"
      ],
      "metadata": {
        "colab": {
          "base_uri": "https://localhost:8080/",
          "height": 206
        },
        "id": "TvFeWFdfwKJf",
        "outputId": "c1f813a3-9562-4534-d961-1a8a4acb923d"
      },
      "execution_count": null,
      "outputs": [
        {
          "output_type": "execute_result",
          "data": {
            "text/plain": [
              "   age  sex     bmi  children  smoker  region      charges\n",
              "0   19    0  27.900         0       1       3  16884.92400\n",
              "1   18    1  33.770         1       0       2   1725.55230\n",
              "2   28    1  33.000         3       0       2   4449.46200\n",
              "3   33    1  22.705         0       0       1  21984.47061\n",
              "4   32    1  28.880         0       0       1   3866.85520"
            ],
            "text/html": [
              "\n",
              "  <div id=\"df-c9b3ea5f-352d-4e0c-b927-0a659b9b2799\">\n",
              "    <div class=\"colab-df-container\">\n",
              "      <div>\n",
              "<style scoped>\n",
              "    .dataframe tbody tr th:only-of-type {\n",
              "        vertical-align: middle;\n",
              "    }\n",
              "\n",
              "    .dataframe tbody tr th {\n",
              "        vertical-align: top;\n",
              "    }\n",
              "\n",
              "    .dataframe thead th {\n",
              "        text-align: right;\n",
              "    }\n",
              "</style>\n",
              "<table border=\"1\" class=\"dataframe\">\n",
              "  <thead>\n",
              "    <tr style=\"text-align: right;\">\n",
              "      <th></th>\n",
              "      <th>age</th>\n",
              "      <th>sex</th>\n",
              "      <th>bmi</th>\n",
              "      <th>children</th>\n",
              "      <th>smoker</th>\n",
              "      <th>region</th>\n",
              "      <th>charges</th>\n",
              "    </tr>\n",
              "  </thead>\n",
              "  <tbody>\n",
              "    <tr>\n",
              "      <th>0</th>\n",
              "      <td>19</td>\n",
              "      <td>0</td>\n",
              "      <td>27.900</td>\n",
              "      <td>0</td>\n",
              "      <td>1</td>\n",
              "      <td>3</td>\n",
              "      <td>16884.92400</td>\n",
              "    </tr>\n",
              "    <tr>\n",
              "      <th>1</th>\n",
              "      <td>18</td>\n",
              "      <td>1</td>\n",
              "      <td>33.770</td>\n",
              "      <td>1</td>\n",
              "      <td>0</td>\n",
              "      <td>2</td>\n",
              "      <td>1725.55230</td>\n",
              "    </tr>\n",
              "    <tr>\n",
              "      <th>2</th>\n",
              "      <td>28</td>\n",
              "      <td>1</td>\n",
              "      <td>33.000</td>\n",
              "      <td>3</td>\n",
              "      <td>0</td>\n",
              "      <td>2</td>\n",
              "      <td>4449.46200</td>\n",
              "    </tr>\n",
              "    <tr>\n",
              "      <th>3</th>\n",
              "      <td>33</td>\n",
              "      <td>1</td>\n",
              "      <td>22.705</td>\n",
              "      <td>0</td>\n",
              "      <td>0</td>\n",
              "      <td>1</td>\n",
              "      <td>21984.47061</td>\n",
              "    </tr>\n",
              "    <tr>\n",
              "      <th>4</th>\n",
              "      <td>32</td>\n",
              "      <td>1</td>\n",
              "      <td>28.880</td>\n",
              "      <td>0</td>\n",
              "      <td>0</td>\n",
              "      <td>1</td>\n",
              "      <td>3866.85520</td>\n",
              "    </tr>\n",
              "  </tbody>\n",
              "</table>\n",
              "</div>\n",
              "      <button class=\"colab-df-convert\" onclick=\"convertToInteractive('df-c9b3ea5f-352d-4e0c-b927-0a659b9b2799')\"\n",
              "              title=\"Convert this dataframe to an interactive table.\"\n",
              "              style=\"display:none;\">\n",
              "        \n",
              "  <svg xmlns=\"http://www.w3.org/2000/svg\" height=\"24px\"viewBox=\"0 0 24 24\"\n",
              "       width=\"24px\">\n",
              "    <path d=\"M0 0h24v24H0V0z\" fill=\"none\"/>\n",
              "    <path d=\"M18.56 5.44l.94 2.06.94-2.06 2.06-.94-2.06-.94-.94-2.06-.94 2.06-2.06.94zm-11 1L8.5 8.5l.94-2.06 2.06-.94-2.06-.94L8.5 2.5l-.94 2.06-2.06.94zm10 10l.94 2.06.94-2.06 2.06-.94-2.06-.94-.94-2.06-.94 2.06-2.06.94z\"/><path d=\"M17.41 7.96l-1.37-1.37c-.4-.4-.92-.59-1.43-.59-.52 0-1.04.2-1.43.59L10.3 9.45l-7.72 7.72c-.78.78-.78 2.05 0 2.83L4 21.41c.39.39.9.59 1.41.59.51 0 1.02-.2 1.41-.59l7.78-7.78 2.81-2.81c.8-.78.8-2.07 0-2.86zM5.41 20L4 18.59l7.72-7.72 1.47 1.35L5.41 20z\"/>\n",
              "  </svg>\n",
              "      </button>\n",
              "      \n",
              "  <style>\n",
              "    .colab-df-container {\n",
              "      display:flex;\n",
              "      flex-wrap:wrap;\n",
              "      gap: 12px;\n",
              "    }\n",
              "\n",
              "    .colab-df-convert {\n",
              "      background-color: #E8F0FE;\n",
              "      border: none;\n",
              "      border-radius: 50%;\n",
              "      cursor: pointer;\n",
              "      display: none;\n",
              "      fill: #1967D2;\n",
              "      height: 32px;\n",
              "      padding: 0 0 0 0;\n",
              "      width: 32px;\n",
              "    }\n",
              "\n",
              "    .colab-df-convert:hover {\n",
              "      background-color: #E2EBFA;\n",
              "      box-shadow: 0px 1px 2px rgba(60, 64, 67, 0.3), 0px 1px 3px 1px rgba(60, 64, 67, 0.15);\n",
              "      fill: #174EA6;\n",
              "    }\n",
              "\n",
              "    [theme=dark] .colab-df-convert {\n",
              "      background-color: #3B4455;\n",
              "      fill: #D2E3FC;\n",
              "    }\n",
              "\n",
              "    [theme=dark] .colab-df-convert:hover {\n",
              "      background-color: #434B5C;\n",
              "      box-shadow: 0px 1px 3px 1px rgba(0, 0, 0, 0.15);\n",
              "      filter: drop-shadow(0px 1px 2px rgba(0, 0, 0, 0.3));\n",
              "      fill: #FFFFFF;\n",
              "    }\n",
              "  </style>\n",
              "\n",
              "      <script>\n",
              "        const buttonEl =\n",
              "          document.querySelector('#df-c9b3ea5f-352d-4e0c-b927-0a659b9b2799 button.colab-df-convert');\n",
              "        buttonEl.style.display =\n",
              "          google.colab.kernel.accessAllowed ? 'block' : 'none';\n",
              "\n",
              "        async function convertToInteractive(key) {\n",
              "          const element = document.querySelector('#df-c9b3ea5f-352d-4e0c-b927-0a659b9b2799');\n",
              "          const dataTable =\n",
              "            await google.colab.kernel.invokeFunction('convertToInteractive',\n",
              "                                                     [key], {});\n",
              "          if (!dataTable) return;\n",
              "\n",
              "          const docLinkHtml = 'Like what you see? Visit the ' +\n",
              "            '<a target=\"_blank\" href=https://colab.research.google.com/notebooks/data_table.ipynb>data table notebook</a>'\n",
              "            + ' to learn more about interactive tables.';\n",
              "          element.innerHTML = '';\n",
              "          dataTable['output_type'] = 'display_data';\n",
              "          await google.colab.output.renderOutput(dataTable, element);\n",
              "          const docLink = document.createElement('div');\n",
              "          docLink.innerHTML = docLinkHtml;\n",
              "          element.appendChild(docLink);\n",
              "        }\n",
              "      </script>\n",
              "    </div>\n",
              "  </div>\n",
              "  "
            ]
          },
          "metadata": {},
          "execution_count": 5
        }
      ]
    },
    {
      "cell_type": "code",
      "source": [
        "Medic.dtypes"
      ],
      "metadata": {
        "colab": {
          "base_uri": "https://localhost:8080/"
        },
        "id": "-0PWOTLudBqs",
        "outputId": "e62bbf84-4bb1-4780-e60f-ae1f29c987fa"
      },
      "execution_count": null,
      "outputs": [
        {
          "output_type": "execute_result",
          "data": {
            "text/plain": [
              "age           int64\n",
              "sex           int64\n",
              "bmi         float64\n",
              "children      int64\n",
              "smoker        int64\n",
              "region        int64\n",
              "charges     float64\n",
              "dtype: object"
            ]
          },
          "metadata": {},
          "execution_count": 6
        }
      ]
    },
    {
      "cell_type": "code",
      "source": [
        "korelasi = Medic.corr()\n",
        "sns.heatmap(korelasi, annot = True)\n",
        "plt.show()"
      ],
      "metadata": {
        "colab": {
          "base_uri": "https://localhost:8080/",
          "height": 300
        },
        "id": "xImqrNr68YjF",
        "outputId": "472bf85e-f8ea-402b-b1f8-b8471a8b46fe"
      },
      "execution_count": null,
      "outputs": [
        {
          "output_type": "display_data",
          "data": {
            "text/plain": [
              "<Figure size 432x288 with 2 Axes>"
            ],
            "image/png": "[encoded data removed]"
          },
          "metadata": {
            "needs_background": "light"
          }
        }
      ]
    },
    {
      "cell_type": "code",
      "source": [
        "#Medic = Medic.drop(labels='sex', axis=1)\n",
        "#Medic = Medic.drop(labels='children', axis=1)\n",
        "Medic = Medic.drop(labels='region', axis=1)"
      ],
      "metadata": {
        "id": "b6cxal0bwckk"
      },
      "execution_count": null,
      "outputs": []
    },
    {
      "cell_type": "code",
      "source": [
        "Medic.head()"
      ],
      "metadata": {
        "colab": {
          "base_uri": "https://localhost:8080/",
          "height": 206
        },
        "id": "n52Bz2Tewe3t",
        "outputId": "8dddc3f6-1118-4e5c-a87b-e2b9eb905f2e"
      },
      "execution_count": null,
      "outputs": [
        {
          "output_type": "execute_result",
          "data": {
            "text/plain": [
              "   age  sex     bmi  children  smoker      charges\n",
              "0   19    0  27.900         0       1  16884.92400\n",
              "1   18    1  33.770         1       0   1725.55230\n",
              "2   28    1  33.000         3       0   4449.46200\n",
              "3   33    1  22.705         0       0  21984.47061\n",
              "4   32    1  28.880         0       0   3866.85520"
            ],
            "text/html": [
              "\n",
              "  <div id=\"df-a0b34d97-ce8e-46a8-b989-c9345867cd41\">\n",
              "    <div class=\"colab-df-container\">\n",
              "      <div>\n",
              "<style scoped>\n",
              "    .dataframe tbody tr th:only-of-type {\n",
              "        vertical-align: middle;\n",
              "    }\n",
              "\n",
              "    .dataframe tbody tr th {\n",
              "        vertical-align: top;\n",
              "    }\n",
              "\n",
              "    .dataframe thead th {\n",
              "        text-align: right;\n",
              "    }\n",
              "</style>\n",
              "<table border=\"1\" class=\"dataframe\">\n",
              "  <thead>\n",
              "    <tr style=\"text-align: right;\">\n",
              "      <th></th>\n",
              "      <th>age</th>\n",
              "      <th>sex</th>\n",
              "      <th>bmi</th>\n",
              "      <th>children</th>\n",
              "      <th>smoker</th>\n",
              "      <th>charges</th>\n",
              "    </tr>\n",
              "  </thead>\n",
              "  <tbody>\n",
              "    <tr>\n",
              "      <th>0</th>\n",
              "      <td>19</td>\n",
              "      <td>0</td>\n",
              "      <td>27.900</td>\n",
              "      <td>0</td>\n",
              "      <td>1</td>\n",
              "      <td>16884.92400</td>\n",
              "    </tr>\n",
              "    <tr>\n",
              "      <th>1</th>\n",
              "      <td>18</td>\n",
              "      <td>1</td>\n",
              "      <td>33.770</td>\n",
              "      <td>1</td>\n",
              "      <td>0</td>\n",
              "      <td>1725.55230</td>\n",
              "    </tr>\n",
              "    <tr>\n",
              "      <th>2</th>\n",
              "      <td>28</td>\n",
              "      <td>1</td>\n",
              "      <td>33.000</td>\n",
              "      <td>3</td>\n",
              "      <td>0</td>\n",
              "      <td>4449.46200</td>\n",
              "    </tr>\n",
              "    <tr>\n",
              "      <th>3</th>\n",
              "      <td>33</td>\n",
              "      <td>1</td>\n",
              "      <td>22.705</td>\n",
              "      <td>0</td>\n",
              "      <td>0</td>\n",
              "      <td>21984.47061</td>\n",
              "    </tr>\n",
              "    <tr>\n",
              "      <th>4</th>\n",
              "      <td>32</td>\n",
              "      <td>1</td>\n",
              "      <td>28.880</td>\n",
              "      <td>0</td>\n",
              "      <td>0</td>\n",
              "      <td>3866.85520</td>\n",
              "    </tr>\n",
              "  </tbody>\n",
              "</table>\n",
              "</div>\n",
              "      <button class=\"colab-df-convert\" onclick=\"convertToInteractive('df-a0b34d97-ce8e-46a8-b989-c9345867cd41')\"\n",
              "              title=\"Convert this dataframe to an interactive table.\"\n",
              "              style=\"display:none;\">\n",
              "        \n",
              "  <svg xmlns=\"http://www.w3.org/2000/svg\" height=\"24px\"viewBox=\"0 0 24 24\"\n",
              "       width=\"24px\">\n",
              "    <path d=\"M0 0h24v24H0V0z\" fill=\"none\"/>\n",
              "    <path d=\"M18.56 5.44l.94 2.06.94-2.06 2.06-.94-2.06-.94-.94-2.06-.94 2.06-2.06.94zm-11 1L8.5 8.5l.94-2.06 2.06-.94-2.06-.94L8.5 2.5l-.94 2.06-2.06.94zm10 10l.94 2.06.94-2.06 2.06-.94-2.06-.94-.94-2.06-.94 2.06-2.06.94z\"/><path d=\"M17.41 7.96l-1.37-1.37c-.4-.4-.92-.59-1.43-.59-.52 0-1.04.2-1.43.59L10.3 9.45l-7.72 7.72c-.78.78-.78 2.05 0 2.83L4 21.41c.39.39.9.59 1.41.59.51 0 1.02-.2 1.41-.59l7.78-7.78 2.81-2.81c.8-.78.8-2.07 0-2.86zM5.41 20L4 18.59l7.72-7.72 1.47 1.35L5.41 20z\"/>\n",
              "  </svg>\n",
              "      </button>\n",
              "      \n",
              "  <style>\n",
              "    .colab-df-container {\n",
              "      display:flex;\n",
              "      flex-wrap:wrap;\n",
              "      gap: 12px;\n",
              "    }\n",
              "\n",
              "    .colab-df-convert {\n",
              "      background-color: #E8F0FE;\n",
              "      border: none;\n",
              "      border-radius: 50%;\n",
              "      cursor: pointer;\n",
              "      display: none;\n",
              "      fill: #1967D2;\n",
              "      height: 32px;\n",
              "      padding: 0 0 0 0;\n",
              "      width: 32px;\n",
              "    }\n",
              "\n",
              "    .colab-df-convert:hover {\n",
              "      background-color: #E2EBFA;\n",
              "      box-shadow: 0px 1px 2px rgba(60, 64, 67, 0.3), 0px 1px 3px 1px rgba(60, 64, 67, 0.15);\n",
              "      fill: #174EA6;\n",
              "    }\n",
              "\n",
              "    [theme=dark] .colab-df-convert {\n",
              "      background-color: #3B4455;\n",
              "      fill: #D2E3FC;\n",
              "    }\n",
              "\n",
              "    [theme=dark] .colab-df-convert:hover {\n",
              "      background-color: #434B5C;\n",
              "      box-shadow: 0px 1px 3px 1px rgba(0, 0, 0, 0.15);\n",
              "      filter: drop-shadow(0px 1px 2px rgba(0, 0, 0, 0.3));\n",
              "      fill: #FFFFFF;\n",
              "    }\n",
              "  </style>\n",
              "\n",
              "      <script>\n",
              "        const buttonEl =\n",
              "          document.querySelector('#df-a0b34d97-ce8e-46a8-b989-c9345867cd41 button.colab-df-convert');\n",
              "        buttonEl.style.display =\n",
              "          google.colab.kernel.accessAllowed ? 'block' : 'none';\n",
              "\n",
              "        async function convertToInteractive(key) {\n",
              "          const element = document.querySelector('#df-a0b34d97-ce8e-46a8-b989-c9345867cd41');\n",
              "          const dataTable =\n",
              "            await google.colab.kernel.invokeFunction('convertToInteractive',\n",
              "                                                     [key], {});\n",
              "          if (!dataTable) return;\n",
              "\n",
              "          const docLinkHtml = 'Like what you see? Visit the ' +\n",
              "            '<a target=\"_blank\" href=https://colab.research.google.com/notebooks/data_table.ipynb>data table notebook</a>'\n",
              "            + ' to learn more about interactive tables.';\n",
              "          element.innerHTML = '';\n",
              "          dataTable['output_type'] = 'display_data';\n",
              "          await google.colab.output.renderOutput(dataTable, element);\n",
              "          const docLink = document.createElement('div');\n",
              "          docLink.innerHTML = docLinkHtml;\n",
              "          element.appendChild(docLink);\n",
              "        }\n",
              "      </script>\n",
              "    </div>\n",
              "  </div>\n",
              "  "
            ]
          },
          "metadata": {},
          "execution_count": 9
        }
      ]
    },
    {
      "cell_type": "code",
      "source": [
        "Medic.plot(kind=\"box\", subplots=True, layout=(4,4), figsize=(10,10)) "
      ],
      "metadata": {
        "colab": {
          "base_uri": "https://localhost:8080/",
          "height": 429
        },
        "id": "D-11FDUhgcJn",
        "outputId": "c341e555-e648-47c7-ee97-f74ebd4ff8da"
      },
      "execution_count": null,
      "outputs": [
        {
          "output_type": "execute_result",
          "data": {
            "text/plain": [
              "age             AxesSubplot(0.125,0.71587;0.168478x0.16413)\n",
              "sex          AxesSubplot(0.327174,0.71587;0.168478x0.16413)\n",
              "bmi          AxesSubplot(0.529348,0.71587;0.168478x0.16413)\n",
              "children     AxesSubplot(0.731522,0.71587;0.168478x0.16413)\n",
              "smoker         AxesSubplot(0.125,0.518913;0.168478x0.16413)\n",
              "charges     AxesSubplot(0.327174,0.518913;0.168478x0.16413)\n",
              "dtype: object"
            ]
          },
          "metadata": {},
          "execution_count": 10
        },
        {
          "output_type": "display_data",
          "data": {
            "text/plain": [
              "<Figure size 720x720 with 16 Axes>"
            ],
            "image/png": "[encoded data removed]"
          },
          "metadata": {
            "needs_background": "light"
          }
        }
      ]
    },
    {
      "cell_type": "code",
      "source": [
        "z1 = np.abs(stats.zscore(Medic[\"bmi\"]))\n",
        "threshold = 2\n",
        "print(np.where(z1 > threshold))\n",
        "outliers1 = np.where(z1 > threshold)\n",
        "amount_outliers1 = list((int(j) for i in outliers1 for j in i))\n",
        "print(len(amount_outliers1))\n",
        "100* len(amount_outliers1)/len(Medic)"
      ],
      "metadata": {
        "colab": {
          "base_uri": "https://localhost:8080/"
        },
        "id": "iaHDQ42ZgiLW",
        "outputId": "b7ad3527-d50a-4963-93b2-7bcd5bf95d2f"
      },
      "execution_count": null,
      "outputs": [
        {
          "output_type": "stream",
          "name": "stdout",
          "text": [
            "(array([  28,  116,  128,  172,  198,  232,  250,  286,  292,  356,  380,\n",
            "        383,  401,  410,  412,  428,  438,  442,  454,  493,  521,  543,\n",
            "        547,  549,  563,  572,  582,  660,  674,  680,  701,  796,  811,\n",
            "        821,  847,  860,  867,  895,  930,  941,  950,  951, 1024, 1029,\n",
            "       1047, 1074, 1085, 1088, 1131, 1133, 1156, 1205, 1226, 1286, 1312,\n",
            "       1317, 1332]),)\n",
            "57\n"
          ]
        },
        {
          "output_type": "execute_result",
          "data": {
            "text/plain": [
              "4.260089686098655"
            ]
          },
          "metadata": {},
          "execution_count": 11
        }
      ]
    },
    {
      "cell_type": "code",
      "source": [
        "Medic.drop(outliers1[0], inplace = True)"
      ],
      "metadata": {
        "id": "bTTJxgmFhtp4"
      },
      "execution_count": null,
      "outputs": []
    },
    {
      "cell_type": "code",
      "source": [
        "100*len(np.where(Medic[\"charges\"]>32000))/len(Medic)"
      ],
      "metadata": {
        "colab": {
          "base_uri": "https://localhost:8080/"
        },
        "id": "ns6Xl0AfrA7O",
        "outputId": "62d0ef4d-3e7a-40f0-8790-44b7f2a1eab5"
      },
      "execution_count": null,
      "outputs": [
        {
          "output_type": "execute_result",
          "data": {
            "text/plain": [
              "0.078064012490242"
            ]
          },
          "metadata": {},
          "execution_count": 13
        }
      ]
    },
    {
      "cell_type": "code",
      "source": [
        "Medic.drop(Medic[Medic['charges'] >32000].index, inplace = True)"
      ],
      "metadata": {
        "id": "CQGxfqm8hy-C"
      },
      "execution_count": null,
      "outputs": []
    },
    {
      "cell_type": "code",
      "source": [
        "len(np.where(Medic[\"smoker\"]==1))/len(Medic)"
      ],
      "metadata": {
        "colab": {
          "base_uri": "https://localhost:8080/"
        },
        "id": "gzon32SltTyC",
        "outputId": "0e9c0f95-4dfd-48bf-fe86-82a6eac2b5a5"
      },
      "execution_count": null,
      "outputs": [
        {
          "output_type": "execute_result",
          "data": {
            "text/plain": [
              "0.000881057268722467"
            ]
          },
          "metadata": {},
          "execution_count": 15
        }
      ]
    },
    {
      "cell_type": "code",
      "source": [
        "#Medic.drop(Medic[Medic['smoker'] >0].index, inplace = True)"
      ],
      "metadata": {
        "id": "IEPDtsHhtaia"
      },
      "execution_count": null,
      "outputs": []
    },
    {
      "cell_type": "code",
      "source": [
        "Medic.plot(kind=\"box\", subplots=True, layout=(4,4), figsize=(10,10)) "
      ],
      "metadata": {
        "colab": {
          "base_uri": "https://localhost:8080/",
          "height": 429
        },
        "id": "dTesAKbtjmrC",
        "outputId": "e4fd7406-c81d-43ef-99e7-5ccdeef1e57f"
      },
      "execution_count": null,
      "outputs": [
        {
          "output_type": "execute_result",
          "data": {
            "text/plain": [
              "age             AxesSubplot(0.125,0.71587;0.168478x0.16413)\n",
              "sex          AxesSubplot(0.327174,0.71587;0.168478x0.16413)\n",
              "bmi          AxesSubplot(0.529348,0.71587;0.168478x0.16413)\n",
              "children     AxesSubplot(0.731522,0.71587;0.168478x0.16413)\n",
              "smoker         AxesSubplot(0.125,0.518913;0.168478x0.16413)\n",
              "charges     AxesSubplot(0.327174,0.518913;0.168478x0.16413)\n",
              "dtype: object"
            ]
          },
          "metadata": {},
          "execution_count": 17
        },
        {
          "output_type": "display_data",
          "data": {
            "text/plain": [
              "<Figure size 720x720 with 16 Axes>"
            ],
            "image/png": "[encoded data removed]"
          },
          "metadata": {
            "needs_background": "light"
          }
        }
      ]
    },
    {
      "cell_type": "code",
      "source": [
        "100*len(np.where(Medic[\"charges\"]>20050))/len(Medic)"
      ],
      "metadata": {
        "colab": {
          "base_uri": "https://localhost:8080/"
        },
        "id": "I9J8IMD1CMyA",
        "outputId": "88964235-9862-49c9-db25-653295902330"
      },
      "execution_count": null,
      "outputs": [
        {
          "output_type": "execute_result",
          "data": {
            "text/plain": [
              "0.0881057268722467"
            ]
          },
          "metadata": {},
          "execution_count": 18
        }
      ]
    },
    {
      "cell_type": "code",
      "source": [
        "Medic.drop(Medic[Medic['charges'] >20050].index, inplace = True)"
      ],
      "metadata": {
        "id": "TttVMR0_CVV5"
      },
      "execution_count": null,
      "outputs": []
    },
    {
      "cell_type": "code",
      "source": [
        "Medic.plot(kind=\"box\", subplots=True, layout=(4,4), figsize=(10,10)) "
      ],
      "metadata": {
        "colab": {
          "base_uri": "https://localhost:8080/",
          "height": 429
        },
        "id": "bS4nmLxTClfN",
        "outputId": "19ba7ca0-96d9-4e80-d6ef-bea6c46e7eed"
      },
      "execution_count": null,
      "outputs": [
        {
          "output_type": "execute_result",
          "data": {
            "text/plain": [
              "age             AxesSubplot(0.125,0.71587;0.168478x0.16413)\n",
              "sex          AxesSubplot(0.327174,0.71587;0.168478x0.16413)\n",
              "bmi          AxesSubplot(0.529348,0.71587;0.168478x0.16413)\n",
              "children     AxesSubplot(0.731522,0.71587;0.168478x0.16413)\n",
              "smoker         AxesSubplot(0.125,0.518913;0.168478x0.16413)\n",
              "charges     AxesSubplot(0.327174,0.518913;0.168478x0.16413)\n",
              "dtype: object"
            ]
          },
          "metadata": {},
          "execution_count": 20
        },
        {
          "output_type": "display_data",
          "data": {
            "text/plain": [
              "<Figure size 720x720 with 16 Axes>"
            ],
            "image/png": "[encoded data removed]"
          },
          "metadata": {
            "needs_background": "light"
          }
        }
      ]
    },
    {
      "cell_type": "code",
      "source": [
        "#Medic[\"children\"] = np.where(Medic[\"children\"]>= 1, 0, Medic['children'])"
      ],
      "metadata": {
        "id": "XtIquUPoCtIX"
      },
      "execution_count": null,
      "outputs": []
    },
    {
      "cell_type": "code",
      "source": [
        "Medic.plot(kind=\"box\", subplots=True, layout=(4,4), figsize=(10,10)) "
      ],
      "metadata": {
        "colab": {
          "base_uri": "https://localhost:8080/",
          "height": 429
        },
        "id": "8SGlJTMmCzQM",
        "outputId": "2c5c386a-51e2-4387-80da-e962527808e4"
      },
      "execution_count": null,
      "outputs": [
        {
          "output_type": "execute_result",
          "data": {
            "text/plain": [
              "age             AxesSubplot(0.125,0.71587;0.168478x0.16413)\n",
              "sex          AxesSubplot(0.327174,0.71587;0.168478x0.16413)\n",
              "bmi          AxesSubplot(0.529348,0.71587;0.168478x0.16413)\n",
              "children     AxesSubplot(0.731522,0.71587;0.168478x0.16413)\n",
              "smoker         AxesSubplot(0.125,0.518913;0.168478x0.16413)\n",
              "charges     AxesSubplot(0.327174,0.518913;0.168478x0.16413)\n",
              "dtype: object"
            ]
          },
          "metadata": {},
          "execution_count": 22
        },
        {
          "output_type": "display_data",
          "data": {
            "text/plain": [
              "<Figure size 720x720 with 16 Axes>"
            ],
            "image/png": "[encoded data removed]"
          },
          "metadata": {
            "needs_background": "light"
          }
        }
      ]
    },
    {
      "cell_type": "code",
      "source": [
        "Medic"
      ],
      "metadata": {
        "colab": {
          "base_uri": "https://localhost:8080/",
          "height": 424
        },
        "id": "pCQkqRio3-IZ",
        "outputId": "fcd66cdf-5ff6-467e-ed09-8754c9e36949"
      },
      "execution_count": null,
      "outputs": [
        {
          "output_type": "execute_result",
          "data": {
            "text/plain": [
              "      age  sex    bmi  children  smoker      charges\n",
              "0      19    0  27.90         0       1  16884.92400\n",
              "1      18    1  33.77         1       0   1725.55230\n",
              "2      28    1  33.00         3       0   4449.46200\n",
              "4      32    1  28.88         0       0   3866.85520\n",
              "5      31    0  25.74         0       0   3756.62160\n",
              "...   ...  ...    ...       ...     ...          ...\n",
              "1331   23    0  33.40         0       0  10795.93733\n",
              "1333   50    1  30.97         3       0  10600.54830\n",
              "1334   18    0  31.92         0       0   2205.98080\n",
              "1335   18    0  36.85         0       0   1629.83350\n",
              "1336   21    0  25.80         0       0   2007.94500\n",
              "\n",
              "[1018 rows x 6 columns]"
            ],
            "text/html": [
              "\n",
              "  <div id=\"df-b501fde8-549e-483b-8752-9b12b953a2aa\">\n",
              "    <div class=\"colab-df-container\">\n",
              "      <div>\n",
              "<style scoped>\n",
              "    .dataframe tbody tr th:only-of-type {\n",
              "        vertical-align: middle;\n",
              "    }\n",
              "\n",
              "    .dataframe tbody tr th {\n",
              "        vertical-align: top;\n",
              "    }\n",
              "\n",
              "    .dataframe thead th {\n",
              "        text-align: right;\n",
              "    }\n",
              "</style>\n",
              "<table border=\"1\" class=\"dataframe\">\n",
              "  <thead>\n",
              "    <tr style=\"text-align: right;\">\n",
              "      <th></th>\n",
              "      <th>age</th>\n",
              "      <th>sex</th>\n",
              "      <th>bmi</th>\n",
              "      <th>children</th>\n",
              "      <th>smoker</th>\n",
              "      <th>charges</th>\n",
              "    </tr>\n",
              "  </thead>\n",
              "  <tbody>\n",
              "    <tr>\n",
              "      <th>0</th>\n",
              "      <td>19</td>\n",
              "      <td>0</td>\n",
              "      <td>27.90</td>\n",
              "      <td>0</td>\n",
              "      <td>1</td>\n",
              "      <td>16884.92400</td>\n",
              "    </tr>\n",
              "    <tr>\n",
              "      <th>1</th>\n",
              "      <td>18</td>\n",
              "      <td>1</td>\n",
              "      <td>33.77</td>\n",
              "      <td>1</td>\n",
              "      <td>0</td>\n",
              "      <td>1725.55230</td>\n",
              "    </tr>\n",
              "    <tr>\n",
              "      <th>2</th>\n",
              "      <td>28</td>\n",
              "      <td>1</td>\n",
              "      <td>33.00</td>\n",
              "      <td>3</td>\n",
              "      <td>0</td>\n",
              "      <td>4449.46200</td>\n",
              "    </tr>\n",
              "    <tr>\n",
              "      <th>4</th>\n",
              "      <td>32</td>\n",
              "      <td>1</td>\n",
              "      <td>28.88</td>\n",
              "      <td>0</td>\n",
              "      <td>0</td>\n",
              "      <td>3866.85520</td>\n",
              "    </tr>\n",
              "    <tr>\n",
              "      <th>5</th>\n",
              "      <td>31</td>\n",
              "      <td>0</td>\n",
              "      <td>25.74</td>\n",
              "      <td>0</td>\n",
              "      <td>0</td>\n",
              "      <td>3756.62160</td>\n",
              "    </tr>\n",
              "    <tr>\n",
              "      <th>...</th>\n",
              "      <td>...</td>\n",
              "      <td>...</td>\n",
              "      <td>...</td>\n",
              "      <td>...</td>\n",
              "      <td>...</td>\n",
              "      <td>...</td>\n",
              "    </tr>\n",
              "    <tr>\n",
              "      <th>1331</th>\n",
              "      <td>23</td>\n",
              "      <td>0</td>\n",
              "      <td>33.40</td>\n",
              "      <td>0</td>\n",
              "      <td>0</td>\n",
              "      <td>10795.93733</td>\n",
              "    </tr>\n",
              "    <tr>\n",
              "      <th>1333</th>\n",
              "      <td>50</td>\n",
              "      <td>1</td>\n",
              "      <td>30.97</td>\n",
              "      <td>3</td>\n",
              "      <td>0</td>\n",
              "      <td>10600.54830</td>\n",
              "    </tr>\n",
              "    <tr>\n",
              "      <th>1334</th>\n",
              "      <td>18</td>\n",
              "      <td>0</td>\n",
              "      <td>31.92</td>\n",
              "      <td>0</td>\n",
              "      <td>0</td>\n",
              "      <td>2205.98080</td>\n",
              "    </tr>\n",
              "    <tr>\n",
              "      <th>1335</th>\n",
              "      <td>18</td>\n",
              "      <td>0</td>\n",
              "      <td>36.85</td>\n",
              "      <td>0</td>\n",
              "      <td>0</td>\n",
              "      <td>1629.83350</td>\n",
              "    </tr>\n",
              "    <tr>\n",
              "      <th>1336</th>\n",
              "      <td>21</td>\n",
              "      <td>0</td>\n",
              "      <td>25.80</td>\n",
              "      <td>0</td>\n",
              "      <td>0</td>\n",
              "      <td>2007.94500</td>\n",
              "    </tr>\n",
              "  </tbody>\n",
              "</table>\n",
              "<p>1018 rows × 6 columns</p>\n",
              "</div>\n",
              "      <button class=\"colab-df-convert\" onclick=\"convertToInteractive('df-b501fde8-549e-483b-8752-9b12b953a2aa')\"\n",
              "              title=\"Convert this dataframe to an interactive table.\"\n",
              "              style=\"display:none;\">\n",
              "        \n",
              "  <svg xmlns=\"http://www.w3.org/2000/svg\" height=\"24px\"viewBox=\"0 0 24 24\"\n",
              "       width=\"24px\">\n",
              "    <path d=\"M0 0h24v24H0V0z\" fill=\"none\"/>\n",
              "    <path d=\"M18.56 5.44l.94 2.06.94-2.06 2.06-.94-2.06-.94-.94-2.06-.94 2.06-2.06.94zm-11 1L8.5 8.5l.94-2.06 2.06-.94-2.06-.94L8.5 2.5l-.94 2.06-2.06.94zm10 10l.94 2.06.94-2.06 2.06-.94-2.06-.94-.94-2.06-.94 2.06-2.06.94z\"/><path d=\"M17.41 7.96l-1.37-1.37c-.4-.4-.92-.59-1.43-.59-.52 0-1.04.2-1.43.59L10.3 9.45l-7.72 7.72c-.78.78-.78 2.05 0 2.83L4 21.41c.39.39.9.59 1.41.59.51 0 1.02-.2 1.41-.59l7.78-7.78 2.81-2.81c.8-.78.8-2.07 0-2.86zM5.41 20L4 18.59l7.72-7.72 1.47 1.35L5.41 20z\"/>\n",
              "  </svg>\n",
              "      </button>\n",
              "      \n",
              "  <style>\n",
              "    .colab-df-container {\n",
              "      display:flex;\n",
              "      flex-wrap:wrap;\n",
              "      gap: 12px;\n",
              "    }\n",
              "\n",
              "    .colab-df-convert {\n",
              "      background-color: #E8F0FE;\n",
              "      border: none;\n",
              "      border-radius: 50%;\n",
              "      cursor: pointer;\n",
              "      display: none;\n",
              "      fill: #1967D2;\n",
              "      height: 32px;\n",
              "      padding: 0 0 0 0;\n",
              "      width: 32px;\n",
              "    }\n",
              "\n",
              "    .colab-df-convert:hover {\n",
              "      background-color: #E2EBFA;\n",
              "      box-shadow: 0px 1px 2px rgba(60, 64, 67, 0.3), 0px 1px 3px 1px rgba(60, 64, 67, 0.15);\n",
              "      fill: #174EA6;\n",
              "    }\n",
              "\n",
              "    [theme=dark] .colab-df-convert {\n",
              "      background-color: #3B4455;\n",
              "      fill: #D2E3FC;\n",
              "    }\n",
              "\n",
              "    [theme=dark] .colab-df-convert:hover {\n",
              "      background-color: #434B5C;\n",
              "      box-shadow: 0px 1px 3px 1px rgba(0, 0, 0, 0.15);\n",
              "      filter: drop-shadow(0px 1px 2px rgba(0, 0, 0, 0.3));\n",
              "      fill: #FFFFFF;\n",
              "    }\n",
              "  </style>\n",
              "\n",
              "      <script>\n",
              "        const buttonEl =\n",
              "          document.querySelector('#df-b501fde8-549e-483b-8752-9b12b953a2aa button.colab-df-convert');\n",
              "        buttonEl.style.display =\n",
              "          google.colab.kernel.accessAllowed ? 'block' : 'none';\n",
              "\n",
              "        async function convertToInteractive(key) {\n",
              "          const element = document.querySelector('#df-b501fde8-549e-483b-8752-9b12b953a2aa');\n",
              "          const dataTable =\n",
              "            await google.colab.kernel.invokeFunction('convertToInteractive',\n",
              "                                                     [key], {});\n",
              "          if (!dataTable) return;\n",
              "\n",
              "          const docLinkHtml = 'Like what you see? Visit the ' +\n",
              "            '<a target=\"_blank\" href=https://colab.research.google.com/notebooks/data_table.ipynb>data table notebook</a>'\n",
              "            + ' to learn more about interactive tables.';\n",
              "          element.innerHTML = '';\n",
              "          dataTable['output_type'] = 'display_data';\n",
              "          await google.colab.output.renderOutput(dataTable, element);\n",
              "          const docLink = document.createElement('div');\n",
              "          docLink.innerHTML = docLinkHtml;\n",
              "          element.appendChild(docLink);\n",
              "        }\n",
              "      </script>\n",
              "    </div>\n",
              "  </div>\n",
              "  "
            ]
          },
          "metadata": {},
          "execution_count": 23
        }
      ]
    },
    {
      "cell_type": "code",
      "source": [
        "Medic.drop_duplicates()"
      ],
      "metadata": {
        "colab": {
          "base_uri": "https://localhost:8080/",
          "height": 424
        },
        "id": "O_49vX1XkVLQ",
        "outputId": "29f21556-81e6-4c57-a0d4-227396c61df5"
      },
      "execution_count": null,
      "outputs": [
        {
          "output_type": "execute_result",
          "data": {
            "text/plain": [
              "      age  sex    bmi  children  smoker      charges\n",
              "0      19    0  27.90         0       1  16884.92400\n",
              "1      18    1  33.77         1       0   1725.55230\n",
              "2      28    1  33.00         3       0   4449.46200\n",
              "4      32    1  28.88         0       0   3866.85520\n",
              "5      31    0  25.74         0       0   3756.62160\n",
              "...   ...  ...    ...       ...     ...          ...\n",
              "1331   23    0  33.40         0       0  10795.93733\n",
              "1333   50    1  30.97         3       0  10600.54830\n",
              "1334   18    0  31.92         0       0   2205.98080\n",
              "1335   18    0  36.85         0       0   1629.83350\n",
              "1336   21    0  25.80         0       0   2007.94500\n",
              "\n",
              "[1017 rows x 6 columns]"
            ],
            "text/html": [
              "\n",
              "  <div id=\"df-b4c7ab4b-2afb-45c0-af3b-2e25c31d0d4d\">\n",
              "    <div class=\"colab-df-container\">\n",
              "      <div>\n",
              "<style scoped>\n",
              "    .dataframe tbody tr th:only-of-type {\n",
              "        vertical-align: middle;\n",
              "    }\n",
              "\n",
              "    .dataframe tbody tr th {\n",
              "        vertical-align: top;\n",
              "    }\n",
              "\n",
              "    .dataframe thead th {\n",
              "        text-align: right;\n",
              "    }\n",
              "</style>\n",
              "<table border=\"1\" class=\"dataframe\">\n",
              "  <thead>\n",
              "    <tr style=\"text-align: right;\">\n",
              "      <th></th>\n",
              "      <th>age</th>\n",
              "      <th>sex</th>\n",
              "      <th>bmi</th>\n",
              "      <th>children</th>\n",
              "      <th>smoker</th>\n",
              "      <th>charges</th>\n",
              "    </tr>\n",
              "  </thead>\n",
              "  <tbody>\n",
              "    <tr>\n",
              "      <th>0</th>\n",
              "      <td>19</td>\n",
              "      <td>0</td>\n",
              "      <td>27.90</td>\n",
              "      <td>0</td>\n",
              "      <td>1</td>\n",
              "      <td>16884.92400</td>\n",
              "    </tr>\n",
              "    <tr>\n",
              "      <th>1</th>\n",
              "      <td>18</td>\n",
              "      <td>1</td>\n",
              "      <td>33.77</td>\n",
              "      <td>1</td>\n",
              "      <td>0</td>\n",
              "      <td>1725.55230</td>\n",
              "    </tr>\n",
              "    <tr>\n",
              "      <th>2</th>\n",
              "      <td>28</td>\n",
              "      <td>1</td>\n",
              "      <td>33.00</td>\n",
              "      <td>3</td>\n",
              "      <td>0</td>\n",
              "      <td>4449.46200</td>\n",
              "    </tr>\n",
              "    <tr>\n",
              "      <th>4</th>\n",
              "      <td>32</td>\n",
              "      <td>1</td>\n",
              "      <td>28.88</td>\n",
              "      <td>0</td>\n",
              "      <td>0</td>\n",
              "      <td>3866.85520</td>\n",
              "    </tr>\n",
              "    <tr>\n",
              "      <th>5</th>\n",
              "      <td>31</td>\n",
              "      <td>0</td>\n",
              "      <td>25.74</td>\n",
              "      <td>0</td>\n",
              "      <td>0</td>\n",
              "      <td>3756.62160</td>\n",
              "    </tr>\n",
              "    <tr>\n",
              "      <th>...</th>\n",
              "      <td>...</td>\n",
              "      <td>...</td>\n",
              "      <td>...</td>\n",
              "      <td>...</td>\n",
              "      <td>...</td>\n",
              "      <td>...</td>\n",
              "    </tr>\n",
              "    <tr>\n",
              "      <th>1331</th>\n",
              "      <td>23</td>\n",
              "      <td>0</td>\n",
              "      <td>33.40</td>\n",
              "      <td>0</td>\n",
              "      <td>0</td>\n",
              "      <td>10795.93733</td>\n",
              "    </tr>\n",
              "    <tr>\n",
              "      <th>1333</th>\n",
              "      <td>50</td>\n",
              "      <td>1</td>\n",
              "      <td>30.97</td>\n",
              "      <td>3</td>\n",
              "      <td>0</td>\n",
              "      <td>10600.54830</td>\n",
              "    </tr>\n",
              "    <tr>\n",
              "      <th>1334</th>\n",
              "      <td>18</td>\n",
              "      <td>0</td>\n",
              "      <td>31.92</td>\n",
              "      <td>0</td>\n",
              "      <td>0</td>\n",
              "      <td>2205.98080</td>\n",
              "    </tr>\n",
              "    <tr>\n",
              "      <th>1335</th>\n",
              "      <td>18</td>\n",
              "      <td>0</td>\n",
              "      <td>36.85</td>\n",
              "      <td>0</td>\n",
              "      <td>0</td>\n",
              "      <td>1629.83350</td>\n",
              "    </tr>\n",
              "    <tr>\n",
              "      <th>1336</th>\n",
              "      <td>21</td>\n",
              "      <td>0</td>\n",
              "      <td>25.80</td>\n",
              "      <td>0</td>\n",
              "      <td>0</td>\n",
              "      <td>2007.94500</td>\n",
              "    </tr>\n",
              "  </tbody>\n",
              "</table>\n",
              "<p>1017 rows × 6 columns</p>\n",
              "</div>\n",
              "      <button class=\"colab-df-convert\" onclick=\"convertToInteractive('df-b4c7ab4b-2afb-45c0-af3b-2e25c31d0d4d')\"\n",
              "              title=\"Convert this dataframe to an interactive table.\"\n",
              "              style=\"display:none;\">\n",
              "        \n",
              "  <svg xmlns=\"http://www.w3.org/2000/svg\" height=\"24px\"viewBox=\"0 0 24 24\"\n",
              "       width=\"24px\">\n",
              "    <path d=\"M0 0h24v24H0V0z\" fill=\"none\"/>\n",
              "    <path d=\"M18.56 5.44l.94 2.06.94-2.06 2.06-.94-2.06-.94-.94-2.06-.94 2.06-2.06.94zm-11 1L8.5 8.5l.94-2.06 2.06-.94-2.06-.94L8.5 2.5l-.94 2.06-2.06.94zm10 10l.94 2.06.94-2.06 2.06-.94-2.06-.94-.94-2.06-.94 2.06-2.06.94z\"/><path d=\"M17.41 7.96l-1.37-1.37c-.4-.4-.92-.59-1.43-.59-.52 0-1.04.2-1.43.59L10.3 9.45l-7.72 7.72c-.78.78-.78 2.05 0 2.83L4 21.41c.39.39.9.59 1.41.59.51 0 1.02-.2 1.41-.59l7.78-7.78 2.81-2.81c.8-.78.8-2.07 0-2.86zM5.41 20L4 18.59l7.72-7.72 1.47 1.35L5.41 20z\"/>\n",
              "  </svg>\n",
              "      </button>\n",
              "      \n",
              "  <style>\n",
              "    .colab-df-container {\n",
              "      display:flex;\n",
              "      flex-wrap:wrap;\n",
              "      gap: 12px;\n",
              "    }\n",
              "\n",
              "    .colab-df-convert {\n",
              "      background-color: #E8F0FE;\n",
              "      border: none;\n",
              "      border-radius: 50%;\n",
              "      cursor: pointer;\n",
              "      display: none;\n",
              "      fill: #1967D2;\n",
              "      height: 32px;\n",
              "      padding: 0 0 0 0;\n",
              "      width: 32px;\n",
              "    }\n",
              "\n",
              "    .colab-df-convert:hover {\n",
              "      background-color: #E2EBFA;\n",
              "      box-shadow: 0px 1px 2px rgba(60, 64, 67, 0.3), 0px 1px 3px 1px rgba(60, 64, 67, 0.15);\n",
              "      fill: #174EA6;\n",
              "    }\n",
              "\n",
              "    [theme=dark] .colab-df-convert {\n",
              "      background-color: #3B4455;\n",
              "      fill: #D2E3FC;\n",
              "    }\n",
              "\n",
              "    [theme=dark] .colab-df-convert:hover {\n",
              "      background-color: #434B5C;\n",
              "      box-shadow: 0px 1px 3px 1px rgba(0, 0, 0, 0.15);\n",
              "      filter: drop-shadow(0px 1px 2px rgba(0, 0, 0, 0.3));\n",
              "      fill: #FFFFFF;\n",
              "    }\n",
              "  </style>\n",
              "\n",
              "      <script>\n",
              "        const buttonEl =\n",
              "          document.querySelector('#df-b4c7ab4b-2afb-45c0-af3b-2e25c31d0d4d button.colab-df-convert');\n",
              "        buttonEl.style.display =\n",
              "          google.colab.kernel.accessAllowed ? 'block' : 'none';\n",
              "\n",
              "        async function convertToInteractive(key) {\n",
              "          const element = document.querySelector('#df-b4c7ab4b-2afb-45c0-af3b-2e25c31d0d4d');\n",
              "          const dataTable =\n",
              "            await google.colab.kernel.invokeFunction('convertToInteractive',\n",
              "                                                     [key], {});\n",
              "          if (!dataTable) return;\n",
              "\n",
              "          const docLinkHtml = 'Like what you see? Visit the ' +\n",
              "            '<a target=\"_blank\" href=https://colab.research.google.com/notebooks/data_table.ipynb>data table notebook</a>'\n",
              "            + ' to learn more about interactive tables.';\n",
              "          element.innerHTML = '';\n",
              "          dataTable['output_type'] = 'display_data';\n",
              "          await google.colab.output.renderOutput(dataTable, element);\n",
              "          const docLink = document.createElement('div');\n",
              "          docLink.innerHTML = docLinkHtml;\n",
              "          element.appendChild(docLink);\n",
              "        }\n",
              "      </script>\n",
              "    </div>\n",
              "  </div>\n",
              "  "
            ]
          },
          "metadata": {},
          "execution_count": 24
        }
      ]
    },
    {
      "cell_type": "code",
      "source": [
        "#Medic['bmi'] = Medic['bmi'].astype(int)\n",
        "#Medic['charges'] = Medic['charges'].astype(int)"
      ],
      "metadata": {
        "id": "iubptzXbzCJk"
      },
      "execution_count": null,
      "outputs": []
    },
    {
      "cell_type": "code",
      "source": [
        "X = Medic.drop(columns =\"charges\")\n",
        "y = Medic['charges']\n",
        "X.shape,y.shape"
      ],
      "metadata": {
        "colab": {
          "base_uri": "https://localhost:8080/"
        },
        "id": "lFPsvtecwguX",
        "outputId": "6b551726-79cd-47d5-9574-31f9e4ecfe6b"
      },
      "execution_count": null,
      "outputs": [
        {
          "output_type": "execute_result",
          "data": {
            "text/plain": [
              "((1018, 5), (1018,))"
            ]
          },
          "metadata": {},
          "execution_count": 26
        }
      ]
    },
    {
      "cell_type": "code",
      "source": [
        "X"
      ],
      "metadata": {
        "colab": {
          "base_uri": "https://localhost:8080/",
          "height": 424
        },
        "id": "NtEzY3ObZiv8",
        "outputId": "6cd77e53-d5ad-4816-c5fd-1006ca395bf7"
      },
      "execution_count": null,
      "outputs": [
        {
          "output_type": "execute_result",
          "data": {
            "text/plain": [
              "      age  sex    bmi  children  smoker\n",
              "0      19    0  27.90         0       1\n",
              "1      18    1  33.77         1       0\n",
              "2      28    1  33.00         3       0\n",
              "4      32    1  28.88         0       0\n",
              "5      31    0  25.74         0       0\n",
              "...   ...  ...    ...       ...     ...\n",
              "1331   23    0  33.40         0       0\n",
              "1333   50    1  30.97         3       0\n",
              "1334   18    0  31.92         0       0\n",
              "1335   18    0  36.85         0       0\n",
              "1336   21    0  25.80         0       0\n",
              "\n",
              "[1018 rows x 5 columns]"
            ],
            "text/html": [
              "\n",
              "  <div id=\"df-b46f284a-42ad-4da9-b9e0-deb46f940b91\">\n",
              "    <div class=\"colab-df-container\">\n",
              "      <div>\n",
              "<style scoped>\n",
              "    .dataframe tbody tr th:only-of-type {\n",
              "        vertical-align: middle;\n",
              "    }\n",
              "\n",
              "    .dataframe tbody tr th {\n",
              "        vertical-align: top;\n",
              "    }\n",
              "\n",
              "    .dataframe thead th {\n",
              "        text-align: right;\n",
              "    }\n",
              "</style>\n",
              "<table border=\"1\" class=\"dataframe\">\n",
              "  <thead>\n",
              "    <tr style=\"text-align: right;\">\n",
              "      <th></th>\n",
              "      <th>age</th>\n",
              "      <th>sex</th>\n",
              "      <th>bmi</th>\n",
              "      <th>children</th>\n",
              "      <th>smoker</th>\n",
              "    </tr>\n",
              "  </thead>\n",
              "  <tbody>\n",
              "    <tr>\n",
              "      <th>0</th>\n",
              "      <td>19</td>\n",
              "      <td>0</td>\n",
              "      <td>27.90</td>\n",
              "      <td>0</td>\n",
              "      <td>1</td>\n",
              "    </tr>\n",
              "    <tr>\n",
              "      <th>1</th>\n",
              "      <td>18</td>\n",
              "      <td>1</td>\n",
              "      <td>33.77</td>\n",
              "      <td>1</td>\n",
              "      <td>0</td>\n",
              "    </tr>\n",
              "    <tr>\n",
              "      <th>2</th>\n",
              "      <td>28</td>\n",
              "      <td>1</td>\n",
              "      <td>33.00</td>\n",
              "      <td>3</td>\n",
              "      <td>0</td>\n",
              "    </tr>\n",
              "    <tr>\n",
              "      <th>4</th>\n",
              "      <td>32</td>\n",
              "      <td>1</td>\n",
              "      <td>28.88</td>\n",
              "      <td>0</td>\n",
              "      <td>0</td>\n",
              "    </tr>\n",
              "    <tr>\n",
              "      <th>5</th>\n",
              "      <td>31</td>\n",
              "      <td>0</td>\n",
              "      <td>25.74</td>\n",
              "      <td>0</td>\n",
              "      <td>0</td>\n",
              "    </tr>\n",
              "    <tr>\n",
              "      <th>...</th>\n",
              "      <td>...</td>\n",
              "      <td>...</td>\n",
              "      <td>...</td>\n",
              "      <td>...</td>\n",
              "      <td>...</td>\n",
              "    </tr>\n",
              "    <tr>\n",
              "      <th>1331</th>\n",
              "      <td>23</td>\n",
              "      <td>0</td>\n",
              "      <td>33.40</td>\n",
              "      <td>0</td>\n",
              "      <td>0</td>\n",
              "    </tr>\n",
              "    <tr>\n",
              "      <th>1333</th>\n",
              "      <td>50</td>\n",
              "      <td>1</td>\n",
              "      <td>30.97</td>\n",
              "      <td>3</td>\n",
              "      <td>0</td>\n",
              "    </tr>\n",
              "    <tr>\n",
              "      <th>1334</th>\n",
              "      <td>18</td>\n",
              "      <td>0</td>\n",
              "      <td>31.92</td>\n",
              "      <td>0</td>\n",
              "      <td>0</td>\n",
              "    </tr>\n",
              "    <tr>\n",
              "      <th>1335</th>\n",
              "      <td>18</td>\n",
              "      <td>0</td>\n",
              "      <td>36.85</td>\n",
              "      <td>0</td>\n",
              "      <td>0</td>\n",
              "    </tr>\n",
              "    <tr>\n",
              "      <th>1336</th>\n",
              "      <td>21</td>\n",
              "      <td>0</td>\n",
              "      <td>25.80</td>\n",
              "      <td>0</td>\n",
              "      <td>0</td>\n",
              "    </tr>\n",
              "  </tbody>\n",
              "</table>\n",
              "<p>1018 rows × 5 columns</p>\n",
              "</div>\n",
              "      <button class=\"colab-df-convert\" onclick=\"convertToInteractive('df-b46f284a-42ad-4da9-b9e0-deb46f940b91')\"\n",
              "              title=\"Convert this dataframe to an interactive table.\"\n",
              "              style=\"display:none;\">\n",
              "        \n",
              "  <svg xmlns=\"http://www.w3.org/2000/svg\" height=\"24px\"viewBox=\"0 0 24 24\"\n",
              "       width=\"24px\">\n",
              "    <path d=\"M0 0h24v24H0V0z\" fill=\"none\"/>\n",
              "    <path d=\"M18.56 5.44l.94 2.06.94-2.06 2.06-.94-2.06-.94-.94-2.06-.94 2.06-2.06.94zm-11 1L8.5 8.5l.94-2.06 2.06-.94-2.06-.94L8.5 2.5l-.94 2.06-2.06.94zm10 10l.94 2.06.94-2.06 2.06-.94-2.06-.94-.94-2.06-.94 2.06-2.06.94z\"/><path d=\"M17.41 7.96l-1.37-1.37c-.4-.4-.92-.59-1.43-.59-.52 0-1.04.2-1.43.59L10.3 9.45l-7.72 7.72c-.78.78-.78 2.05 0 2.83L4 21.41c.39.39.9.59 1.41.59.51 0 1.02-.2 1.41-.59l7.78-7.78 2.81-2.81c.8-.78.8-2.07 0-2.86zM5.41 20L4 18.59l7.72-7.72 1.47 1.35L5.41 20z\"/>\n",
              "  </svg>\n",
              "      </button>\n",
              "      \n",
              "  <style>\n",
              "    .colab-df-container {\n",
              "      display:flex;\n",
              "      flex-wrap:wrap;\n",
              "      gap: 12px;\n",
              "    }\n",
              "\n",
              "    .colab-df-convert {\n",
              "      background-color: #E8F0FE;\n",
              "      border: none;\n",
              "      border-radius: 50%;\n",
              "      cursor: pointer;\n",
              "      display: none;\n",
              "      fill: #1967D2;\n",
              "      height: 32px;\n",
              "      padding: 0 0 0 0;\n",
              "      width: 32px;\n",
              "    }\n",
              "\n",
              "    .colab-df-convert:hover {\n",
              "      background-color: #E2EBFA;\n",
              "      box-shadow: 0px 1px 2px rgba(60, 64, 67, 0.3), 0px 1px 3px 1px rgba(60, 64, 67, 0.15);\n",
              "      fill: #174EA6;\n",
              "    }\n",
              "\n",
              "    [theme=dark] .colab-df-convert {\n",
              "      background-color: #3B4455;\n",
              "      fill: #D2E3FC;\n",
              "    }\n",
              "\n",
              "    [theme=dark] .colab-df-convert:hover {\n",
              "      background-color: #434B5C;\n",
              "      box-shadow: 0px 1px 3px 1px rgba(0, 0, 0, 0.15);\n",
              "      filter: drop-shadow(0px 1px 2px rgba(0, 0, 0, 0.3));\n",
              "      fill: #FFFFFF;\n",
              "    }\n",
              "  </style>\n",
              "\n",
              "      <script>\n",
              "        const buttonEl =\n",
              "          document.querySelector('#df-b46f284a-42ad-4da9-b9e0-deb46f940b91 button.colab-df-convert');\n",
              "        buttonEl.style.display =\n",
              "          google.colab.kernel.accessAllowed ? 'block' : 'none';\n",
              "\n",
              "        async function convertToInteractive(key) {\n",
              "          const element = document.querySelector('#df-b46f284a-42ad-4da9-b9e0-deb46f940b91');\n",
              "          const dataTable =\n",
              "            await google.colab.kernel.invokeFunction('convertToInteractive',\n",
              "                                                     [key], {});\n",
              "          if (!dataTable) return;\n",
              "\n",
              "          const docLinkHtml = 'Like what you see? Visit the ' +\n",
              "            '<a target=\"_blank\" href=https://colab.research.google.com/notebooks/data_table.ipynb>data table notebook</a>'\n",
              "            + ' to learn more about interactive tables.';\n",
              "          element.innerHTML = '';\n",
              "          dataTable['output_type'] = 'display_data';\n",
              "          await google.colab.output.renderOutput(dataTable, element);\n",
              "          const docLink = document.createElement('div');\n",
              "          docLink.innerHTML = docLinkHtml;\n",
              "          element.appendChild(docLink);\n",
              "        }\n",
              "      </script>\n",
              "    </div>\n",
              "  </div>\n",
              "  "
            ]
          },
          "metadata": {},
          "execution_count": 27
        }
      ]
    },
    {
      "cell_type": "code",
      "source": [
        "y"
      ],
      "metadata": {
        "colab": {
          "base_uri": "https://localhost:8080/"
        },
        "id": "iEliBxk3ZkzQ",
        "outputId": "ea635847-0b2b-4a24-ec2a-a7e106072371"
      },
      "execution_count": null,
      "outputs": [
        {
          "output_type": "execute_result",
          "data": {
            "text/plain": [
              "0       16884.92400\n",
              "1        1725.55230\n",
              "2        4449.46200\n",
              "4        3866.85520\n",
              "5        3756.62160\n",
              "           ...     \n",
              "1331    10795.93733\n",
              "1333    10600.54830\n",
              "1334     2205.98080\n",
              "1335     1629.83350\n",
              "1336     2007.94500\n",
              "Name: charges, Length: 1018, dtype: float64"
            ]
          },
          "metadata": {},
          "execution_count": 28
        }
      ]
    },
    {
      "cell_type": "code",
      "source": [
        "y.mean()"
      ],
      "metadata": {
        "colab": {
          "base_uri": "https://localhost:8080/"
        },
        "id": "NgrUQrEikj3P",
        "outputId": "c589cdef-7e13-408f-a07a-2972567101a9"
      },
      "execution_count": null,
      "outputs": [
        {
          "output_type": "execute_result",
          "data": {
            "text/plain": [
              "7994.021871266208"
            ]
          },
          "metadata": {},
          "execution_count": 29
        }
      ]
    },
    {
      "cell_type": "code",
      "source": [
        "y.var()"
      ],
      "metadata": {
        "colab": {
          "base_uri": "https://localhost:8080/"
        },
        "id": "cLQBfkuQkm4T",
        "outputId": "eac8bd1b-6ea3-46a9-cce1-655afec2554c"
      },
      "execution_count": null,
      "outputs": [
        {
          "output_type": "execute_result",
          "data": {
            "text/plain": [
              "22521250.30262937"
            ]
          },
          "metadata": {},
          "execution_count": 30
        }
      ]
    },
    {
      "cell_type": "code",
      "source": [
        "from sklearn.preprocessing import StandardScaler\n",
        "scaler = StandardScaler()\n",
        "y = scaler.fit_transform(y.values.reshape(-1,1))"
      ],
      "metadata": {
        "id": "x4XFXi87jfT2"
      },
      "execution_count": null,
      "outputs": []
    },
    {
      "cell_type": "code",
      "source": [
        "y"
      ],
      "metadata": {
        "colab": {
          "base_uri": "https://localhost:8080/"
        },
        "id": "PxRtEsvnZsqy",
        "outputId": "08e2cf59-d573-47ea-b275-3fcb111f8597"
      },
      "execution_count": null,
      "outputs": [
        {
          "output_type": "execute_result",
          "data": {
            "text/plain": [
              "array([[ 1.8744031 ],\n",
              "       [-1.32153505],\n",
              "       [-0.74727333],\n",
              "       ...,\n",
              "       [-1.22024986],\n",
              "       [-1.34171474],\n",
              "       [-1.26200029]])"
            ]
          },
          "metadata": {},
          "execution_count": 32
        }
      ]
    },
    {
      "cell_type": "code",
      "source": [
        "from sklearn.model_selection import StratifiedKFold, train_test_split\n",
        "X_train, X_test, y_train, y_test = train_test_split(X,y,test_size = 0.3,random_state=42)\n",
        "#train = pd.concat([X_train,y_train],axis=1)\n",
        "#test = pd.concat([X_test,y_test],axis=1)\n",
        "X_train.shape, X_test.shape, y_train.shape, y_test.shape"
      ],
      "metadata": {
        "colab": {
          "base_uri": "https://localhost:8080/"
        },
        "id": "CeCQcBLhw2BP",
        "outputId": "17495037-f1ae-46f4-da47-9dcdd6e33895"
      },
      "execution_count": null,
      "outputs": [
        {
          "output_type": "execute_result",
          "data": {
            "text/plain": [
              "((712, 5), (306, 5), (712, 1), (306, 1))"
            ]
          },
          "metadata": {},
          "execution_count": 33
        }
      ]
    },
    {
      "cell_type": "code",
      "source": [
        "y_test_inverse = scaler.inverse_transform(y_test)"
      ],
      "metadata": {
        "id": "5MXQmy5Qp-B4"
      },
      "execution_count": null,
      "outputs": []
    },
    {
      "cell_type": "code",
      "source": [
        "y_test_inverse.mean()"
      ],
      "metadata": {
        "colab": {
          "base_uri": "https://localhost:8080/"
        },
        "id": "PkxRZjmHqGrL",
        "outputId": "1e59a7f6-1199-46c8-c9a1-41551aab263d"
      },
      "execution_count": null,
      "outputs": [
        {
          "output_type": "execute_result",
          "data": {
            "text/plain": [
              "7967.72590748366"
            ]
          },
          "metadata": {},
          "execution_count": 35
        }
      ]
    },
    {
      "cell_type": "code",
      "source": [
        "y_test_inverse.var()"
      ],
      "metadata": {
        "colab": {
          "base_uri": "https://localhost:8080/"
        },
        "id": "zfHD1UK6qLIi",
        "outputId": "9e08a0d3-5290-4bf5-d9cb-aab2c95c272c"
      },
      "execution_count": null,
      "outputs": [
        {
          "output_type": "execute_result",
          "data": {
            "text/plain": [
              "22597120.203757"
            ]
          },
          "metadata": {},
          "execution_count": 36
        }
      ]
    },
    {
      "cell_type": "code",
      "source": [
        "X_train"
      ],
      "metadata": {
        "colab": {
          "base_uri": "https://localhost:8080/",
          "height": 424
        },
        "id": "Jd-KYw4FaNLe",
        "outputId": "1aeb1827-992e-4e5e-cc9d-f34baf878603"
      },
      "execution_count": null,
      "outputs": [
        {
          "output_type": "execute_result",
          "data": {
            "text/plain": [
              "      age  sex     bmi  children  smoker\n",
              "711    50    0  23.540         2       0\n",
              "1065   42    0  25.300         1       0\n",
              "228    41    0  31.635         1       0\n",
              "1032   30    0  27.930         0       0\n",
              "507    21    1  23.750         2       0\n",
              "...   ...  ...     ...       ...     ...\n",
              "142    34    1  25.300         2       1\n",
              "359    18    0  20.790         0       0\n",
              "1134   28    1  33.820         0       0\n",
              "579    25    0  23.465         0       0\n",
              "136    19    1  34.100         0       0\n",
              "\n",
              "[712 rows x 5 columns]"
            ],
            "text/html": [
              "\n",
              "  <div id=\"df-ff4fe100-f193-4fe9-88d7-eb14ed03cca5\">\n",
              "    <div class=\"colab-df-container\">\n",
              "      <div>\n",
              "<style scoped>\n",
              "    .dataframe tbody tr th:only-of-type {\n",
              "        vertical-align: middle;\n",
              "    }\n",
              "\n",
              "    .dataframe tbody tr th {\n",
              "        vertical-align: top;\n",
              "    }\n",
              "\n",
              "    .dataframe thead th {\n",
              "        text-align: right;\n",
              "    }\n",
              "</style>\n",
              "<table border=\"1\" class=\"dataframe\">\n",
              "  <thead>\n",
              "    <tr style=\"text-align: right;\">\n",
              "      <th></th>\n",
              "      <th>age</th>\n",
              "      <th>sex</th>\n",
              "      <th>bmi</th>\n",
              "      <th>children</th>\n",
              "      <th>smoker</th>\n",
              "    </tr>\n",
              "  </thead>\n",
              "  <tbody>\n",
              "    <tr>\n",
              "      <th>711</th>\n",
              "      <td>50</td>\n",
              "      <td>0</td>\n",
              "      <td>23.540</td>\n",
              "      <td>2</td>\n",
              "      <td>0</td>\n",
              "    </tr>\n",
              "    <tr>\n",
              "      <th>1065</th>\n",
              "      <td>42</td>\n",
              "      <td>0</td>\n",
              "      <td>25.300</td>\n",
              "      <td>1</td>\n",
              "      <td>0</td>\n",
              "    </tr>\n",
              "    <tr>\n",
              "      <th>228</th>\n",
              "      <td>41</td>\n",
              "      <td>0</td>\n",
              "      <td>31.635</td>\n",
              "      <td>1</td>\n",
              "      <td>0</td>\n",
              "    </tr>\n",
              "    <tr>\n",
              "      <th>1032</th>\n",
              "      <td>30</td>\n",
              "      <td>0</td>\n",
              "      <td>27.930</td>\n",
              "      <td>0</td>\n",
              "      <td>0</td>\n",
              "    </tr>\n",
              "    <tr>\n",
              "      <th>507</th>\n",
              "      <td>21</td>\n",
              "      <td>1</td>\n",
              "      <td>23.750</td>\n",
              "      <td>2</td>\n",
              "      <td>0</td>\n",
              "    </tr>\n",
              "    <tr>\n",
              "      <th>...</th>\n",
              "      <td>...</td>\n",
              "      <td>...</td>\n",
              "      <td>...</td>\n",
              "      <td>...</td>\n",
              "      <td>...</td>\n",
              "    </tr>\n",
              "    <tr>\n",
              "      <th>142</th>\n",
              "      <td>34</td>\n",
              "      <td>1</td>\n",
              "      <td>25.300</td>\n",
              "      <td>2</td>\n",
              "      <td>1</td>\n",
              "    </tr>\n",
              "    <tr>\n",
              "      <th>359</th>\n",
              "      <td>18</td>\n",
              "      <td>0</td>\n",
              "      <td>20.790</td>\n",
              "      <td>0</td>\n",
              "      <td>0</td>\n",
              "    </tr>\n",
              "    <tr>\n",
              "      <th>1134</th>\n",
              "      <td>28</td>\n",
              "      <td>1</td>\n",
              "      <td>33.820</td>\n",
              "      <td>0</td>\n",
              "      <td>0</td>\n",
              "    </tr>\n",
              "    <tr>\n",
              "      <th>579</th>\n",
              "      <td>25</td>\n",
              "      <td>0</td>\n",
              "      <td>23.465</td>\n",
              "      <td>0</td>\n",
              "      <td>0</td>\n",
              "    </tr>\n",
              "    <tr>\n",
              "      <th>136</th>\n",
              "      <td>19</td>\n",
              "      <td>1</td>\n",
              "      <td>34.100</td>\n",
              "      <td>0</td>\n",
              "      <td>0</td>\n",
              "    </tr>\n",
              "  </tbody>\n",
              "</table>\n",
              "<p>712 rows × 5 columns</p>\n",
              "</div>\n",
              "      <button class=\"colab-df-convert\" onclick=\"convertToInteractive('df-ff4fe100-f193-4fe9-88d7-eb14ed03cca5')\"\n",
              "              title=\"Convert this dataframe to an interactive table.\"\n",
              "              style=\"display:none;\">\n",
              "        \n",
              "  <svg xmlns=\"http://www.w3.org/2000/svg\" height=\"24px\"viewBox=\"0 0 24 24\"\n",
              "       width=\"24px\">\n",
              "    <path d=\"M0 0h24v24H0V0z\" fill=\"none\"/>\n",
              "    <path d=\"M18.56 5.44l.94 2.06.94-2.06 2.06-.94-2.06-.94-.94-2.06-.94 2.06-2.06.94zm-11 1L8.5 8.5l.94-2.06 2.06-.94-2.06-.94L8.5 2.5l-.94 2.06-2.06.94zm10 10l.94 2.06.94-2.06 2.06-.94-2.06-.94-.94-2.06-.94 2.06-2.06.94z\"/><path d=\"M17.41 7.96l-1.37-1.37c-.4-.4-.92-.59-1.43-.59-.52 0-1.04.2-1.43.59L10.3 9.45l-7.72 7.72c-.78.78-.78 2.05 0 2.83L4 21.41c.39.39.9.59 1.41.59.51 0 1.02-.2 1.41-.59l7.78-7.78 2.81-2.81c.8-.78.8-2.07 0-2.86zM5.41 20L4 18.59l7.72-7.72 1.47 1.35L5.41 20z\"/>\n",
              "  </svg>\n",
              "      </button>\n",
              "      \n",
              "  <style>\n",
              "    .colab-df-container {\n",
              "      display:flex;\n",
              "      flex-wrap:wrap;\n",
              "      gap: 12px;\n",
              "    }\n",
              "\n",
              "    .colab-df-convert {\n",
              "      background-color: #E8F0FE;\n",
              "      border: none;\n",
              "      border-radius: 50%;\n",
              "      cursor: pointer;\n",
              "      display: none;\n",
              "      fill: #1967D2;\n",
              "      height: 32px;\n",
              "      padding: 0 0 0 0;\n",
              "      width: 32px;\n",
              "    }\n",
              "\n",
              "    .colab-df-convert:hover {\n",
              "      background-color: #E2EBFA;\n",
              "      box-shadow: 0px 1px 2px rgba(60, 64, 67, 0.3), 0px 1px 3px 1px rgba(60, 64, 67, 0.15);\n",
              "      fill: #174EA6;\n",
              "    }\n",
              "\n",
              "    [theme=dark] .colab-df-convert {\n",
              "      background-color: #3B4455;\n",
              "      fill: #D2E3FC;\n",
              "    }\n",
              "\n",
              "    [theme=dark] .colab-df-convert:hover {\n",
              "      background-color: #434B5C;\n",
              "      box-shadow: 0px 1px 3px 1px rgba(0, 0, 0, 0.15);\n",
              "      filter: drop-shadow(0px 1px 2px rgba(0, 0, 0, 0.3));\n",
              "      fill: #FFFFFF;\n",
              "    }\n",
              "  </style>\n",
              "\n",
              "      <script>\n",
              "        const buttonEl =\n",
              "          document.querySelector('#df-ff4fe100-f193-4fe9-88d7-eb14ed03cca5 button.colab-df-convert');\n",
              "        buttonEl.style.display =\n",
              "          google.colab.kernel.accessAllowed ? 'block' : 'none';\n",
              "\n",
              "        async function convertToInteractive(key) {\n",
              "          const element = document.querySelector('#df-ff4fe100-f193-4fe9-88d7-eb14ed03cca5');\n",
              "          const dataTable =\n",
              "            await google.colab.kernel.invokeFunction('convertToInteractive',\n",
              "                                                     [key], {});\n",
              "          if (!dataTable) return;\n",
              "\n",
              "          const docLinkHtml = 'Like what you see? Visit the ' +\n",
              "            '<a target=\"_blank\" href=https://colab.research.google.com/notebooks/data_table.ipynb>data table notebook</a>'\n",
              "            + ' to learn more about interactive tables.';\n",
              "          element.innerHTML = '';\n",
              "          dataTable['output_type'] = 'display_data';\n",
              "          await google.colab.output.renderOutput(dataTable, element);\n",
              "          const docLink = document.createElement('div');\n",
              "          docLink.innerHTML = docLinkHtml;\n",
              "          element.appendChild(docLink);\n",
              "        }\n",
              "      </script>\n",
              "    </div>\n",
              "  </div>\n",
              "  "
            ]
          },
          "metadata": {},
          "execution_count": 37
        }
      ]
    },
    {
      "cell_type": "code",
      "source": [
        "X.mean()"
      ],
      "metadata": {
        "colab": {
          "base_uri": "https://localhost:8080/"
        },
        "id": "umL7EvM2vblw",
        "outputId": "ff9055e3-9aea-4bc1-be5a-de9a096a42af"
      },
      "execution_count": null,
      "outputs": [
        {
          "output_type": "execute_result",
          "data": {
            "text/plain": [
              "age         38.398821\n",
              "sex          0.485265\n",
              "bmi         30.088816\n",
              "children     1.075639\n",
              "smoker       0.057957\n",
              "dtype: float64"
            ]
          },
          "metadata": {},
          "execution_count": 38
        }
      ]
    },
    {
      "cell_type": "code",
      "source": [
        "X.var()"
      ],
      "metadata": {
        "colab": {
          "base_uri": "https://localhost:8080/"
        },
        "id": "TJ3luYzPvdSf",
        "outputId": "67be6cb6-df33-4ec3-fdb1-896b3a4a9d91"
      },
      "execution_count": null,
      "outputs": [
        {
          "output_type": "execute_result",
          "data": {
            "text/plain": [
              "age         195.777855\n",
              "sex           0.250028\n",
              "bmi          29.393695\n",
              "children      1.497715\n",
              "smoker        0.054651\n",
              "dtype: float64"
            ]
          },
          "metadata": {},
          "execution_count": 39
        }
      ]
    },
    {
      "cell_type": "code",
      "source": [
        "from sklearn.preprocessing import StandardScaler\n",
        "scaler = StandardScaler()\n",
        "X_train = scaler.fit_transform(X_train)\n",
        "X_test = scaler.transform(X_test)"
      ],
      "metadata": {
        "id": "01NDGb2dXtJe"
      },
      "execution_count": null,
      "outputs": []
    },
    {
      "cell_type": "code",
      "source": [
        "X_train"
      ],
      "metadata": {
        "colab": {
          "base_uri": "https://localhost:8080/"
        },
        "id": "lf1vQCBGZugy",
        "outputId": "18615580-21a9-462b-df52-37480f670500"
      },
      "execution_count": null,
      "outputs": [
        {
          "output_type": "execute_result",
          "data": {
            "text/plain": [
              "array([[ 0.79831522, -0.98882646, -1.20883215,  0.76544083, -0.23744436],\n",
              "       [ 0.23330484, -0.98882646, -0.8822712 , -0.06030746, -0.23744436],\n",
              "       [ 0.16267855, -0.98882646,  0.29316267, -0.06030746, -0.23744436],\n",
              "       ...,\n",
              "       [-0.75546331,  1.01129979,  0.69858067, -0.88605575, -0.23744436],\n",
              "       [-0.96734219, -0.98882646, -1.2227481 , -0.88605575, -0.23744436],\n",
              "       [-1.39109997,  1.01129979,  0.75053355, -0.88605575, -0.23744436]])"
            ]
          },
          "metadata": {},
          "execution_count": 41
        }
      ]
    },
    {
      "cell_type": "code",
      "source": [
        "def calc_nn_params(n_inputs, n_hidden, n_classes):\n",
        "  i_weights = n_inputs*n_hidden\n",
        "  i_bias = n_hidden\n",
        "  h_weights = n_hidden*n_classes\n",
        "  h_bias = n_classes\n",
        "  n_params = i_weights + h_bias + h_weights + h_bias\n",
        "\n",
        "  return i_weights, i_bias, h_weights, h_bias, n_params\n"
      ],
      "metadata": {
        "id": "wTQIvpU6-GWZ"
      },
      "execution_count": null,
      "outputs": []
    },
    {
      "cell_type": "code",
      "source": [
        "n_inputs = 1+len(X.columns.tolist()[1:])\n",
        "n_hidden = 1\n",
        "n_classes = 1\n",
        "\n",
        "i_weights, i_bias, h_weights, h_bias, n_params = calc_nn_params(n_inputs, n_hidden, n_classes)\n"
      ],
      "metadata": {
        "id": "D9pD509M_sVx"
      },
      "execution_count": null,
      "outputs": []
    },
    {
      "cell_type": "code",
      "source": [
        "i_weights"
      ],
      "metadata": {
        "colab": {
          "base_uri": "https://localhost:8080/"
        },
        "id": "rxlzrEwjAX2H",
        "outputId": "b135cf61-411d-4b5f-e6ca-87d9ff71d21b"
      },
      "execution_count": null,
      "outputs": [
        {
          "output_type": "execute_result",
          "data": {
            "text/plain": [
              "5"
            ]
          },
          "metadata": {},
          "execution_count": 44
        }
      ]
    },
    {
      "cell_type": "code",
      "source": [
        "h_weights"
      ],
      "metadata": {
        "colab": {
          "base_uri": "https://localhost:8080/"
        },
        "id": "1N9vZY2MDY24",
        "outputId": "2ab0fa03-253e-46d1-c1b2-bcc69d243e4c"
      },
      "execution_count": null,
      "outputs": [
        {
          "output_type": "execute_result",
          "data": {
            "text/plain": [
              "1"
            ]
          },
          "metadata": {},
          "execution_count": 45
        }
      ]
    },
    {
      "cell_type": "code",
      "source": [
        "def forward_prop(params):\n",
        "  W1 = params[:i_weights].reshape((n_inputs, n_hidden))\n",
        "  b1 = params[i_weights:i_weights+i_bias].reshape((n_hidden,))\n",
        "  W2 = params[i_weights + i_bias: i_weights + i_bias + h_weights].reshape((n_hidden, n_classes))\n",
        "  b2 = params[i_weights + i_bias+ h_weights:].reshape((n_classes,))\n",
        "\n",
        "  #Melakukan Forward Propagation\n",
        "  z1 = X_train.dot(W1) + b1\n",
        "  a1 = np.where(z1 > 0, z1, z1)\n",
        "  z2 = a1.dot(W2) + b2\n",
        "\n",
        "  loss = mean_squared_error(y_train, z2)\n",
        "\n",
        "  return loss\n"
      ],
      "metadata": {
        "id": "R0v6bHGlBD2t"
      },
      "execution_count": null,
      "outputs": []
    },
    {
      "cell_type": "code",
      "source": [
        "def f(x):\n",
        "  n_particles = x.shape[0]\n",
        "  j = [forward_prop(x[i]) for i in range(n_particles)]\n",
        "  return np.array(j)\n"
      ],
      "metadata": {
        "id": "6gvzNN3IRu6M"
      },
      "execution_count": null,
      "outputs": []
    },
    {
      "cell_type": "code",
      "source": [
        "def train_model(options):\n",
        "  optimizer = ps.single.GlobalBestPSO(n_particles = 50, dimensions = n_params, options = options)\n",
        "  #perform optimization\n",
        "  cost, pos = optimizer.optimize(f, iters = 500)\n",
        "\n",
        "  print('\\nModel Run Times:')\n",
        "  return cost, pos, optimizer.cost_history\n"
      ],
      "metadata": {
        "id": "JypkO44lSlLx"
      },
      "execution_count": null,
      "outputs": []
    },
    {
      "cell_type": "code",
      "source": [
        "def predict(X, pos):\n",
        "  W1 = pos[:i_weights].reshape((n_inputs, n_hidden))\n",
        "  b1 = pos[i_weights:i_weights+i_bias].reshape((n_hidden,))\n",
        "  W2 = pos[i_weights + i_bias: i_weights + i_bias + h_weights].reshape((n_hidden, n_classes))\n",
        "  b2 = pos[i_weights + i_bias+ h_weights:].reshape((n_classes,))\n",
        "\n",
        "  #Melakukan Forward Propagation\n",
        "  z1 = X.dot(W1) + b1\n",
        "  a1 = np.where(z1 > 0, z1, z1)\n",
        "  z2 = a1.dot(W2) + b2\n",
        "\n",
        "  y_pred = z2 \n",
        "\n",
        "  return y_pred"
      ],
      "metadata": {
        "id": "Gu79aP_GTozo"
      },
      "execution_count": null,
      "outputs": []
    },
    {
      "cell_type": "code",
      "source": [
        "def plot_history(history):\n",
        "  plt.style.use('ggplot')\n",
        "  plt.rcParams['ytick.right'] = True\n",
        "  plt.rcParams['ytick.labelright'] = True\n",
        "  plt.rcParams['ytick.left'] = False\n",
        "  plt.rcParams['ytick.labelleft'] = False\n",
        "  plt.rcParams['font.family'] = 'Arial'\n",
        "\n",
        "  plt.ylim([min(history)-0.1, max(history)+0.1])\n",
        "  plt.title('Cost History')\n",
        "  plt.plot(history)"
      ],
      "metadata": {
        "id": "oC1OT6ryUIJt"
      },
      "execution_count": null,
      "outputs": []
    },
    {
      "cell_type": "code",
      "source": [
        "checkpoint_state = np.random.get_state()"
      ],
      "metadata": {
        "id": "Hrkc-7tpU7rL"
      },
      "execution_count": null,
      "outputs": []
    },
    {
      "cell_type": "markdown",
      "source": [
        "### Inisiasi Model"
      ],
      "metadata": {
        "id": "b8bHpT_7VgdK"
      }
    },
    {
      "cell_type": "code",
      "source": [
        "np.random.set_state(checkpoint_state)\n",
        "options = {'c1': 2.05, 'c2': 2.05, 'w' : 0.72984}\n",
        "cost, pos, history = train_model(options)"
      ],
      "metadata": {
        "colab": {
          "base_uri": "https://localhost:8080/"
        },
        "id": "sIatTB1EVcvz",
        "outputId": "1b825233-1040-40c6-b18d-a4d1b34a3831"
      },
      "execution_count": null,
      "outputs": [
        {
          "output_type": "stream",
          "name": "stderr",
          "text": [
            "2022-12-29 00:07:06,007 - pyswarms.single.global_best - INFO - Optimize for 500 iters with {'c1': 2.05, 'c2': 2.05, 'w': 0.72984}\n",
            "pyswarms.single.global_best: 100%|██████████|500/500, best_cost=0.233\n",
            "2022-12-29 00:07:19,081 - pyswarms.single.global_best - INFO - Optimization finished | best cost: 0.23279667604133908, best pos: [ 6.74964886 -0.56861421  0.12375816  1.11965953  5.76802542  1.41060283\n",
            "  0.10602165 -0.1503445 ]\n"
          ]
        },
        {
          "output_type": "stream",
          "name": "stdout",
          "text": [
            "\n",
            "Model Run Times:\n"
          ]
        }
      ]
    },
    {
      "cell_type": "code",
      "source": [
        "plot_history(history)"
      ],
      "metadata": {
        "colab": {
          "base_uri": "https://localhost:8080/",
          "height": 337
        },
        "id": "TcLOzwgpV3h-",
        "outputId": "ee142956-9826-4b01-d9ee-2fd023ad3aa2"
      },
      "execution_count": null,
      "outputs": [
        {
          "output_type": "stream",
          "name": "stderr",
          "text": [
            "2022-12-29 00:07:19,192 - matplotlib.font_manager - WARNING - findfont: Font family ['Arial'] not found. Falling back to DejaVu Sans.\n",
            "2022-12-29 00:07:19,224 - matplotlib.font_manager - WARNING - findfont: Font family ['Arial'] not found. Falling back to DejaVu Sans.\n"
          ]
        },
        {
          "output_type": "display_data",
          "data": {
            "text/plain": [
              "<Figure size 432x288 with 1 Axes>"
            ],
            "image/png": "[encoded data removed]"
          },
          "metadata": {}
        }
      ]
    },
    {
      "cell_type": "code",
      "source": [
        "print(f'MSE on training set: {mean_squared_error(predict(X_train, pos),y_train)}')"
      ],
      "metadata": {
        "colab": {
          "base_uri": "https://localhost:8080/"
        },
        "id": "2h1cIQ7omMMB",
        "outputId": "23c4f978-fde4-401b-b4f2-0bd37037cd89"
      },
      "execution_count": null,
      "outputs": [
        {
          "output_type": "stream",
          "name": "stdout",
          "text": [
            "MSE on training set: 0.23279667604133908\n"
          ]
        }
      ]
    },
    {
      "cell_type": "code",
      "source": [
        "print(f'MSE on test set: {mean_squared_error(predict(X_test, pos),y_test)}')"
      ],
      "metadata": {
        "colab": {
          "base_uri": "https://localhost:8080/"
        },
        "id": "t4xnMVt1Z_yP",
        "outputId": "77d262c9-04af-4378-beca-279c0ffc0658"
      },
      "execution_count": null,
      "outputs": [
        {
          "output_type": "stream",
          "name": "stdout",
          "text": [
            "MSE on test set: 0.23593227300496006\n"
          ]
        }
      ]
    },
    {
      "cell_type": "code",
      "source": [
        "y_test.mean()"
      ],
      "metadata": {
        "colab": {
          "base_uri": "https://localhost:8080/"
        },
        "id": "MByJ6BLS07cE",
        "outputId": "6260dadf-d440-43ab-a7fd-e19e0140dc5e"
      },
      "execution_count": null,
      "outputs": [
        {
          "output_type": "execute_result",
          "data": {
            "text/plain": [
              "-0.00554378343902863"
            ]
          },
          "metadata": {},
          "execution_count": 56
        }
      ]
    },
    {
      "cell_type": "code",
      "source": [
        "y_test.var()"
      ],
      "metadata": {
        "colab": {
          "base_uri": "https://localhost:8080/"
        },
        "id": "u0ltCht-0_NK",
        "outputId": "7004f62f-14a9-44ee-ef29-c38602138977"
      },
      "execution_count": null,
      "outputs": [
        {
          "output_type": "execute_result",
          "data": {
            "text/plain": [
              "1.0043554105732906"
            ]
          },
          "metadata": {},
          "execution_count": 57
        }
      ]
    },
    {
      "cell_type": "code",
      "source": [
        "X_train_ish = predict(X_test, pos)\n",
        "X_train_ish"
      ],
      "metadata": {
        "colab": {
          "base_uri": "https://localhost:8080/"
        },
        "id": "5OjiMfn7SvpL",
        "outputId": "35937407-e87c-4346-b3d8-6d1dad06055e"
      },
      "execution_count": null,
      "outputs": [
        {
          "output_type": "execute_result",
          "data": {
            "text/plain": [
              "array([[-3.39788285e-01],\n",
              "       [-1.49952121e-01],\n",
              "       [ 7.19216103e-01],\n",
              "       [-7.94551088e-02],\n",
              "       [ 6.59909072e-01],\n",
              "       [ 2.26379818e+00],\n",
              "       [ 3.30577185e-01],\n",
              "       [-7.62721132e-01],\n",
              "       [ 9.90283077e-01],\n",
              "       [-1.33118165e+00],\n",
              "       [-2.09559054e-01],\n",
              "       [-7.28023853e-02],\n",
              "       [ 7.63534796e-01],\n",
              "       [ 3.75395259e-02],\n",
              "       [-6.01170731e-01],\n",
              "       [ 5.18463103e-01],\n",
              "       [-5.51254709e-01],\n",
              "       [ 3.79063981e-01],\n",
              "       [-1.05016432e+00],\n",
              "       [ 1.05194981e+00],\n",
              "       [-9.51383364e-01],\n",
              "       [ 7.37810330e-01],\n",
              "       [-6.80671715e-02],\n",
              "       [ 5.22926544e-01],\n",
              "       [-1.22827809e+00],\n",
              "       [ 3.26585883e-01],\n",
              "       [-1.05933440e+00],\n",
              "       [ 6.75967239e-02],\n",
              "       [-1.18997914e+00],\n",
              "       [-7.01364510e-01],\n",
              "       [-8.33771565e-02],\n",
              "       [-1.10252603e+00],\n",
              "       [ 3.22151017e-01],\n",
              "       [-8.03623691e-01],\n",
              "       [ 1.34424718e-01],\n",
              "       [-3.90145718e-01],\n",
              "       [ 2.70694061e-01],\n",
              "       [-6.06952804e-01],\n",
              "       [-1.23443752e+00],\n",
              "       [ 1.79900313e-02],\n",
              "       [-1.04943792e+00],\n",
              "       [ 1.28210215e-01],\n",
              "       [ 6.76723600e-02],\n",
              "       [ 6.39251084e-01],\n",
              "       [ 2.23509753e-01],\n",
              "       [ 8.25940097e-01],\n",
              "       [ 1.55668946e+00],\n",
              "       [ 5.85619762e-01],\n",
              "       [-7.50362092e-02],\n",
              "       [ 8.36937914e-01],\n",
              "       [ 5.53805152e-03],\n",
              "       [ 2.01896096e+00],\n",
              "       [-9.16621680e-01],\n",
              "       [ 1.02463408e+00],\n",
              "       [ 7.06733809e-01],\n",
              "       [-1.23304982e+00],\n",
              "       [ 1.06605186e+00],\n",
              "       [-2.70257932e-01],\n",
              "       [ 9.82495093e-01],\n",
              "       [-8.51389102e-01],\n",
              "       [ 7.72222194e-01],\n",
              "       [-4.87813940e-01],\n",
              "       [-1.69431949e-01],\n",
              "       [-2.85419433e-01],\n",
              "       [-1.17853087e-01],\n",
              "       [-6.27126480e-01],\n",
              "       [-3.41332370e-02],\n",
              "       [ 1.45474595e-01],\n",
              "       [-7.00476488e-01],\n",
              "       [ 8.77761645e-01],\n",
              "       [ 1.71277532e+00],\n",
              "       [-6.53458036e-01],\n",
              "       [ 6.79868470e-01],\n",
              "       [-4.98875812e-01],\n",
              "       [-5.49056444e-01],\n",
              "       [-4.09586439e-01],\n",
              "       [-6.78875583e-01],\n",
              "       [-5.06022362e-02],\n",
              "       [ 1.07075140e-02],\n",
              "       [-4.42025531e-01],\n",
              "       [-3.87964379e-01],\n",
              "       [-5.30798046e-01],\n",
              "       [-7.98867580e-02],\n",
              "       [-1.24568517e+00],\n",
              "       [ 3.73951411e-01],\n",
              "       [ 2.84510174e-01],\n",
              "       [-7.24643887e-01],\n",
              "       [-8.87359083e-01],\n",
              "       [-6.36833982e-01],\n",
              "       [ 9.84397239e-01],\n",
              "       [-8.83208163e-01],\n",
              "       [-6.37019764e-01],\n",
              "       [-9.09799910e-01],\n",
              "       [ 1.38150203e+00],\n",
              "       [-1.06299781e+00],\n",
              "       [-1.03651681e+00],\n",
              "       [ 6.16555220e-01],\n",
              "       [-1.04030833e+00],\n",
              "       [ 1.67438295e+00],\n",
              "       [ 1.34185755e+00],\n",
              "       [ 4.38676704e-01],\n",
              "       [-1.07424546e+00],\n",
              "       [ 6.38035177e-01],\n",
              "       [ 1.41034541e-01],\n",
              "       [ 4.56074807e-01],\n",
              "       [-3.48414819e-01],\n",
              "       [-1.57836896e-01],\n",
              "       [ 6.77206601e-01],\n",
              "       [ 8.65541540e-01],\n",
              "       [-1.06325964e+00],\n",
              "       [-1.70885520e-01],\n",
              "       [-1.13960055e+00],\n",
              "       [ 1.69089800e-01],\n",
              "       [ 6.76009696e-01],\n",
              "       [ 5.84763696e-01],\n",
              "       [-1.77576484e-02],\n",
              "       [-3.24072437e-01],\n",
              "       [ 7.77018272e-01],\n",
              "       [ 6.39782153e-02],\n",
              "       [ 8.62679563e-01],\n",
              "       [ 2.11003292e-01],\n",
              "       [-6.59523275e-01],\n",
              "       [ 5.46964606e-01],\n",
              "       [ 2.78144587e-01],\n",
              "       [ 4.83584701e-01],\n",
              "       [-1.21381682e+00],\n",
              "       [ 4.12889223e-02],\n",
              "       [ 1.64134696e-01],\n",
              "       [-5.52635243e-01],\n",
              "       [ 2.74097431e-01],\n",
              "       [-4.10340371e-01],\n",
              "       [-5.70647776e-01],\n",
              "       [ 9.23580782e-01],\n",
              "       [-4.93464713e-01],\n",
              "       [-8.08601758e-01],\n",
              "       [-9.13100554e-01],\n",
              "       [-7.73267775e-01],\n",
              "       [-8.50384362e-01],\n",
              "       [ 1.23575574e-01],\n",
              "       [ 5.79523015e-01],\n",
              "       [-4.84472215e-01],\n",
              "       [-5.29252515e-01],\n",
              "       [-6.13145561e-01],\n",
              "       [ 4.99342255e-01],\n",
              "       [ 4.15727811e-01],\n",
              "       [ 1.14191137e-01],\n",
              "       [-5.99581886e-01],\n",
              "       [-1.22056037e+00],\n",
              "       [-9.76742647e-01],\n",
              "       [ 7.61733224e-01],\n",
              "       [ 6.22551393e-01],\n",
              "       [ 5.82561202e-01],\n",
              "       [ 3.30851368e-01],\n",
              "       [-1.33107270e+00],\n",
              "       [ 2.34715940e+00],\n",
              "       [ 2.01907871e+00],\n",
              "       [ 1.56559916e+00],\n",
              "       [-1.11337455e-01],\n",
              "       [ 1.99566663e-01],\n",
              "       [-9.89889257e-01],\n",
              "       [ 2.18354023e+00],\n",
              "       [-5.26507256e-01],\n",
              "       [-6.38921910e-01],\n",
              "       [-2.30161377e-01],\n",
              "       [ 1.89563907e+00],\n",
              "       [ 2.94281908e-01],\n",
              "       [ 6.22919885e-02],\n",
              "       [ 2.56232316e+00],\n",
              "       [ 9.21127153e-02],\n",
              "       [ 3.38237237e-01],\n",
              "       [-1.12860852e+00],\n",
              "       [-1.21292821e+00],\n",
              "       [-1.13456403e+00],\n",
              "       [-7.37586148e-01],\n",
              "       [-6.10832732e-01],\n",
              "       [ 4.31182239e-01],\n",
              "       [ 6.52598840e-01],\n",
              "       [-5.51182546e-03],\n",
              "       [-1.61782251e-01],\n",
              "       [-1.29429871e+00],\n",
              "       [-4.37205108e-01],\n",
              "       [-1.47639470e-01],\n",
              "       [-1.24761987e+00],\n",
              "       [ 1.37549933e-01],\n",
              "       [ 3.54454579e-01],\n",
              "       [ 2.66449344e-03],\n",
              "       [ 9.32503435e-01],\n",
              "       [-1.21310743e+00],\n",
              "       [-1.10524955e+00],\n",
              "       [-1.22104746e+00],\n",
              "       [ 6.47315850e-01],\n",
              "       [ 2.99688444e-01],\n",
              "       [-1.07490279e+00],\n",
              "       [-1.23744420e+00],\n",
              "       [-1.70229562e-01],\n",
              "       [ 3.40589597e-01],\n",
              "       [-1.33259429e+00],\n",
              "       [ 2.20498065e-01],\n",
              "       [-9.02218083e-01],\n",
              "       [-1.01724145e-01],\n",
              "       [ 2.30351099e+00],\n",
              "       [ 9.49918720e-01],\n",
              "       [ 4.67922297e-01],\n",
              "       [ 6.69171190e-01],\n",
              "       [-1.21756604e+00],\n",
              "       [-1.10229475e+00],\n",
              "       [-7.66825772e-01],\n",
              "       [ 8.05940812e-01],\n",
              "       [ 1.00849585e-01],\n",
              "       [ 1.63006598e-01],\n",
              "       [ 1.27683594e-01],\n",
              "       [-1.20419695e+00],\n",
              "       [-7.24038617e-01],\n",
              "       [ 4.65061692e-01],\n",
              "       [ 8.23781731e-01],\n",
              "       [-9.48538904e-01],\n",
              "       [ 2.00951747e+00],\n",
              "       [-5.78100890e-01],\n",
              "       [-7.55799827e-01],\n",
              "       [-3.68506476e-01],\n",
              "       [ 2.59462551e-01],\n",
              "       [-6.68312204e-01],\n",
              "       [ 4.70483592e-01],\n",
              "       [ 6.08163160e-01],\n",
              "       [-1.37906939e+00],\n",
              "       [-3.39009226e-01],\n",
              "       [ 9.93752499e-01],\n",
              "       [ 2.92373972e-01],\n",
              "       [ 9.63250699e-01],\n",
              "       [ 6.24933288e-01],\n",
              "       [-6.37546385e-01],\n",
              "       [ 2.81251058e-01],\n",
              "       [-4.76146029e-01],\n",
              "       [ 3.28858223e-01],\n",
              "       [-2.32750989e-01],\n",
              "       [-6.06669639e-01],\n",
              "       [ 2.16538240e+00],\n",
              "       [-1.16383259e+00],\n",
              "       [-9.40780868e-01],\n",
              "       [-1.14696111e+00],\n",
              "       [-1.37536886e+00],\n",
              "       [ 7.05796682e-01],\n",
              "       [ 3.67997100e-01],\n",
              "       [-1.35543514e-01],\n",
              "       [-1.23189323e+00],\n",
              "       [-1.00308059e+00],\n",
              "       [ 2.14721423e+00],\n",
              "       [ 3.24265300e-01],\n",
              "       [-5.51521729e-01],\n",
              "       [ 4.87711454e-01],\n",
              "       [ 1.80011378e-01],\n",
              "       [ 4.13166516e-01],\n",
              "       [ 9.77529968e-01],\n",
              "       [-7.60207156e-01],\n",
              "       [ 4.22791999e-01],\n",
              "       [ 9.19042152e-01],\n",
              "       [-5.53232491e-01],\n",
              "       [-1.02058263e+00],\n",
              "       [-1.26181334e+00],\n",
              "       [-3.33491763e-01],\n",
              "       [ 2.91830172e+00],\n",
              "       [ 1.90104438e+00],\n",
              "       [-1.09305561e+00],\n",
              "       [ 6.59522142e-01],\n",
              "       [-9.45994792e-01],\n",
              "       [-3.96079656e-01],\n",
              "       [-1.05482969e+00],\n",
              "       [-5.82884795e-01],\n",
              "       [-5.30683017e-02],\n",
              "       [ 3.24874530e-01],\n",
              "       [-6.73147992e-01],\n",
              "       [ 5.43015010e-01],\n",
              "       [ 5.63708155e-01],\n",
              "       [ 2.83816325e-01],\n",
              "       [ 5.88269458e-01],\n",
              "       [ 2.64561577e-01],\n",
              "       [ 9.16151411e-01],\n",
              "       [ 9.13838582e-01],\n",
              "       [-1.20400219e+00],\n",
              "       [-6.32292752e-01],\n",
              "       [-5.87421273e-01],\n",
              "       [-1.33040319e+00],\n",
              "       [ 6.11720213e-01],\n",
              "       [ 1.50129171e+00],\n",
              "       [ 7.99504777e-01],\n",
              "       [ 1.45398887e+00],\n",
              "       [ 1.35064631e+00],\n",
              "       [-4.47218301e-01],\n",
              "       [ 7.54040023e-01],\n",
              "       [-9.90822589e-01],\n",
              "       [ 1.70035306e-01],\n",
              "       [-1.09488653e+00],\n",
              "       [-2.02197296e-01],\n",
              "       [-1.11409519e+00],\n",
              "       [ 8.27601387e-01],\n",
              "       [ 9.19551590e-01],\n",
              "       [-4.28380618e-01],\n",
              "       [ 7.11822033e-01],\n",
              "       [-5.34850803e-01],\n",
              "       [ 6.97110925e-01],\n",
              "       [ 9.14274391e-01],\n",
              "       [-5.80145138e-01],\n",
              "       [-1.04447658e-01],\n",
              "       [ 1.04071660e-02],\n",
              "       [ 9.48889824e-01],\n",
              "       [ 2.47560758e-01]])"
            ]
          },
          "metadata": {},
          "execution_count": 58
        }
      ]
    },
    {
      "cell_type": "code",
      "source": [
        "y_testish = np.concatenate((X_train_ish, y_test), axis = 1)"
      ],
      "metadata": {
        "id": "BehSAJMMOtal"
      },
      "execution_count": null,
      "outputs": []
    },
    {
      "cell_type": "code",
      "source": [
        "y_testish"
      ],
      "metadata": {
        "colab": {
          "base_uri": "https://localhost:8080/"
        },
        "id": "pupsmWFi2KJ6",
        "outputId": "3ecd2136-2809-4e10-8a2d-2919f95b9fc5"
      },
      "execution_count": null,
      "outputs": [
        {
          "output_type": "execute_result",
          "data": {
            "text/plain": [
              "array([[-3.39788285e-01, -5.49969536e-01],\n",
              "       [-1.49952121e-01, -3.37404372e-01],\n",
              "       [ 7.19216103e-01,  6.65515954e-01],\n",
              "       [-7.94551088e-02, -3.54237386e-01],\n",
              "       [ 6.59909072e-01,  7.88868057e-01],\n",
              "       [ 2.26379818e+00,  2.53316251e+00],\n",
              "       [ 3.30577185e-01,  1.11310354e-01],\n",
              "       [-7.62721132e-01, -7.79569409e-01],\n",
              "       [ 9.90283077e-01,  1.27536179e+00],\n",
              "       [-1.33118165e+00, -1.44354983e+00],\n",
              "       [-2.09559054e-01, -4.07909869e-01],\n",
              "       [-7.28023853e-02, -3.81315061e-01],\n",
              "       [ 7.63534796e-01,  9.98661958e-01],\n",
              "       [ 3.75395259e-02, -2.55657751e-01],\n",
              "       [-6.01170731e-01, -7.50550795e-01],\n",
              "       [ 5.18463103e-01,  5.49743198e-01],\n",
              "       [-5.51254709e-01, -6.90293343e-01],\n",
              "       [ 3.79063981e-01,  2.98732067e-01],\n",
              "       [-1.05016432e+00, -1.26755822e+00],\n",
              "       [ 1.05194981e+00,  1.24241598e+00],\n",
              "       [-9.51383364e-01, -1.11619045e+00],\n",
              "       [ 7.37810330e-01,  8.11372252e-01],\n",
              "       [-6.80671715e-02, -3.00000036e-01],\n",
              "       [ 5.22926544e-01,  4.97882684e-01],\n",
              "       [-1.22827809e+00,  7.35478457e-01],\n",
              "       [ 3.26585883e-01,  1.69621777e-01],\n",
              "       [-1.05933440e+00, -1.15239917e+00],\n",
              "       [ 6.75967239e-02, -1.21126854e-01],\n",
              "       [-1.18997914e+00, -1.28110642e+00],\n",
              "       [-7.01364510e-01, -9.34393794e-01],\n",
              "       [-8.33771565e-02,  2.42502854e+00],\n",
              "       [-1.10252603e+00, -1.11417846e+00],\n",
              "       [ 3.22151017e-01,  1.28034131e-01],\n",
              "       [-8.03623691e-01, -9.78333145e-01],\n",
              "       [ 1.34424718e-01, -1.36810769e-01],\n",
              "       [-3.90145718e-01, -6.54398065e-01],\n",
              "       [ 2.70694061e-01,  5.04025455e-02],\n",
              "       [-6.06952804e-01,  2.14277015e+00],\n",
              "       [-1.23443752e+00, -1.34332647e+00],\n",
              "       [ 1.79900313e-02, -2.58010889e-01],\n",
              "       [-1.04943792e+00, -1.23195301e+00],\n",
              "       [ 1.28210215e-01, -5.16231752e-02],\n",
              "       [ 6.76723600e-02, -9.63159851e-02],\n",
              "       [ 6.39251084e-01,  5.03329855e-01],\n",
              "       [ 2.23509753e-01,  6.67922422e-02],\n",
              "       [ 8.25940097e-01,  1.01646495e+00],\n",
              "       [ 1.55668946e+00,  2.01680444e+00],\n",
              "       [ 5.85619762e-01,  5.49696765e-01],\n",
              "       [-7.50362092e-02, -2.82817056e-01],\n",
              "       [ 8.36937914e-01,  9.01407185e-01],\n",
              "       [ 5.53805152e-03, -2.35712499e-01],\n",
              "       [ 2.01896096e+00,  2.39417460e+00],\n",
              "       [-9.16621680e-01, -9.87541391e-01],\n",
              "       [ 1.02463408e+00,  1.31987308e+00],\n",
              "       [ 7.06733809e-01,  6.52853485e-01],\n",
              "       [-1.23304982e+00, -1.22024986e+00],\n",
              "       [ 1.06605186e+00,  1.24929278e+00],\n",
              "       [-2.70257932e-01, -5.79508101e-01],\n",
              "       [ 9.82495093e-01,  1.14608291e+00],\n",
              "       [-8.51389102e-01, -1.01557588e+00],\n",
              "       [ 7.72222194e-01,  8.10220370e-01],\n",
              "       [-4.87813940e-01,  2.27914631e+00],\n",
              "       [-1.69431949e-01, -3.96698333e-01],\n",
              "       [-2.85419433e-01, -3.96513210e-01],\n",
              "       [-1.17853087e-01, -3.62940523e-01],\n",
              "       [-6.27126480e-01, -8.44575545e-01],\n",
              "       [-3.41332370e-02, -3.15630076e-01],\n",
              "       [ 1.45474595e-01, -5.63250251e-02],\n",
              "       [-7.00476488e-01, -6.97026922e-01],\n",
              "       [ 8.77761645e-01,  8.66754559e-01],\n",
              "       [ 1.71277532e+00,  1.55272586e+00],\n",
              "       [-6.53458036e-01, -8.70100006e-01],\n",
              "       [ 6.79868470e-01,  7.72529327e-01],\n",
              "       [-4.98875812e-01, -7.30404356e-01],\n",
              "       [-5.49056444e-01, -8.25902777e-01],\n",
              "       [-4.09586439e-01, -6.80535324e-01],\n",
              "       [-6.78875583e-01, -7.43655737e-01],\n",
              "       [-5.06022362e-02, -2.93815208e-01],\n",
              "       [ 1.07075140e-02, -1.67039177e-01],\n",
              "       [-4.42025531e-01, -7.00644005e-01],\n",
              "       [-3.87964379e-01, -5.83142293e-01],\n",
              "       [-5.30798046e-01, -7.66757203e-01],\n",
              "       [-7.98867580e-02, -2.79925793e-01],\n",
              "       [-1.24568517e+00, -1.34468034e+00],\n",
              "       [ 3.73951411e-01,  1.75207100e-01],\n",
              "       [ 2.84510174e-01,  1.74975142e-01],\n",
              "       [-7.24643887e-01, -9.97996843e-01],\n",
              "       [-8.87359083e-01, -1.00781632e+00],\n",
              "       [-6.36833982e-01, -9.36014155e-01],\n",
              "       [ 9.84397239e-01,  1.18342038e+00],\n",
              "       [-8.83208163e-01, -1.13022625e+00],\n",
              "       [-6.37019764e-01, -7.70827860e-01],\n",
              "       [-9.09799910e-01, -1.01479706e+00],\n",
              "       [ 1.38150203e+00,  1.78391463e+00],\n",
              "       [-1.06299781e+00, -1.25798852e+00],\n",
              "       [-1.03651681e+00, -1.09475181e+00],\n",
              "       [ 6.16555220e-01,  6.21528251e-01],\n",
              "       [-1.04030833e+00, -1.23085409e+00],\n",
              "       [ 1.67438295e+00,  1.91664006e+00],\n",
              "       [ 1.34185755e+00,  1.21304171e+00],\n",
              "       [ 4.38676704e-01,  3.35180827e-01],\n",
              "       [-1.07424546e+00, -1.25934238e+00],\n",
              "       [ 6.38035177e-01,  6.30039001e-01],\n",
              "       [ 1.41034541e-01, -5.52701004e-02],\n",
              "       [ 4.56074807e-01,  3.96696142e-01],\n",
              "       [-3.48414819e-01, -5.52493852e-01],\n",
              "       [-1.57836896e-01, -4.27365759e-01],\n",
              "       [ 6.77206601e-01,  7.10205075e-01],\n",
              "       [ 8.65541540e-01,  1.12960392e+00],\n",
              "       [-1.06325964e+00, -9.51264008e-01],\n",
              "       [-1.70885520e-01, -4.81699591e-01],\n",
              "       [-1.13960055e+00, -1.16728483e+00],\n",
              "       [ 1.69089800e-01, -5.34825040e-02],\n",
              "       [ 6.76009696e-01,  6.49155277e-01],\n",
              "       [ 5.84763696e-01,  4.94359964e-01],\n",
              "       [-1.77576484e-02, -1.99016654e-01],\n",
              "       [-3.24072437e-01, -6.05025689e-01],\n",
              "       [ 7.77018272e-01,  8.91542721e-01],\n",
              "       [ 6.39782153e-02, -1.99712179e-01],\n",
              "       [ 8.62679563e-01,  9.45684210e-01],\n",
              "       [ 2.11003292e-01,  1.44923943e-02],\n",
              "       [-6.59523275e-01, -7.92038437e-01],\n",
              "       [ 5.46964606e-01,  3.97102461e-01],\n",
              "       [ 2.78144587e-01,  1.55841621e-01],\n",
              "       [ 4.83584701e-01,  3.44041005e-01],\n",
              "       [-1.21381682e+00, -1.34084440e+00],\n",
              "       [ 4.12889223e-02, -5.57364611e-02],\n",
              "       [ 1.64134696e-01, -7.78761545e-02],\n",
              "       [-5.52635243e-01, -8.26333550e-01],\n",
              "       [ 2.74097431e-01,  9.77787055e-02],\n",
              "       [-4.10340371e-01, -5.76083805e-01],\n",
              "       [-5.70647776e-01, -7.36547252e-01],\n",
              "       [ 9.23580782e-01,  1.13838599e+00],\n",
              "       [-4.93464713e-01, -8.03007253e-01],\n",
              "       [-8.08601758e-01, -1.01042565e+00],\n",
              "       [-9.13100554e-01, -1.03792460e+00],\n",
              "       [-7.73267775e-01, -9.50744752e-01],\n",
              "       [-8.50384362e-01, -9.59444768e-01],\n",
              "       [ 1.23575574e-01, -1.38357363e-01],\n",
              "       [ 5.79523015e-01,  4.47871979e-01],\n",
              "       [-4.84472215e-01, -7.68133716e-01],\n",
              "       [-5.29252515e-01, -6.14321427e-01],\n",
              "       [-6.13145561e-01, -7.91455281e-01],\n",
              "       [ 4.99342255e-01,  4.78655894e-01],\n",
              "       [ 4.15727811e-01,  3.62998384e-01],\n",
              "       [ 1.14191137e-01,  2.27944000e+00],\n",
              "       [-5.99581886e-01, -9.04358826e-01],\n",
              "       [-1.22056037e+00, -1.21696448e+00],\n",
              "       [-9.76742647e-01,  5.90707100e-01],\n",
              "       [ 7.61733224e-01,  8.75535531e-01],\n",
              "       [ 6.22551393e-01,  7.08920301e-01],\n",
              "       [ 5.82561202e-01,  5.17892067e-01],\n",
              "       [ 3.30851368e-01,  1.17496732e-01],\n",
              "       [-1.33107270e+00, -1.34264230e+00],\n",
              "       [ 2.34715940e+00,  1.65004042e+00],\n",
              "       [ 2.01907871e+00,  1.71214991e+00],\n",
              "       [ 1.56559916e+00,  1.41624760e+00],\n",
              "       [-1.11337455e-01, -3.67587517e-01],\n",
              "       [ 1.99566663e-01,  8.77074674e-02],\n",
              "       [-9.89889257e-01,  1.08207979e+00],\n",
              "       [ 2.18354023e+00,  2.43035161e+00],\n",
              "       [-5.26507256e-01, -5.87023516e-01],\n",
              "       [-6.38921910e-01, -7.23085765e-01],\n",
              "       [-2.30161377e-01, -5.30426513e-01],\n",
              "       [ 1.89563907e+00,  2.09728096e+00],\n",
              "       [ 2.94281908e-01,  1.30979470e-01],\n",
              "       [ 6.22919885e-02, -1.77708667e-01],\n",
              "       [ 2.56232316e+00,  2.42899674e+00],\n",
              "       [ 9.21127153e-02,  1.01262053e+00],\n",
              "       [ 3.38237237e-01,  3.17615036e-01],\n",
              "       [-1.12860852e+00, -1.28887131e+00],\n",
              "       [-1.21292821e+00, -1.21782786e+00],\n",
              "       [-1.13456403e+00, -1.09423760e+00],\n",
              "       [-7.37586148e-01, -9.94420870e-01],\n",
              "       [-6.10832732e-01, -7.49012370e-01],\n",
              "       [ 4.31182239e-01,  2.94587505e-01],\n",
              "       [ 6.52598840e-01,  5.45121703e-01],\n",
              "       [-5.51182546e-03, -3.20452221e-01],\n",
              "       [-1.61782251e-01, -2.61627446e-01],\n",
              "       [-1.29429871e+00, -1.33821588e+00],\n",
              "       [-4.37205108e-01, -7.00063779e-01],\n",
              "       [-1.47639470e-01, -4.91595478e-01],\n",
              "       [-1.24761987e+00, -1.32111600e+00],\n",
              "       [ 1.37549933e-01, -1.36675294e-01],\n",
              "       [ 3.54454579e-01,  2.05406172e-01],\n",
              "       [ 2.66449344e-03,  1.20831918e+00],\n",
              "       [ 9.32503435e-01,  1.26236956e+00],\n",
              "       [-1.21310743e+00, -1.24172581e+00],\n",
              "       [-1.10524955e+00, -1.14016472e+00],\n",
              "       [-1.22104746e+00, -1.34171474e+00],\n",
              "       [ 6.47315850e-01,  6.25230855e-01],\n",
              "       [ 2.99688444e-01,  2.04871895e-01],\n",
              "       [-1.07490279e+00, -1.25942150e+00],\n",
              "       [-1.23744420e+00, -1.22077881e+00],\n",
              "       [-1.70229562e-01, -3.04063484e-01],\n",
              "       [ 3.40589597e-01,  1.18668906e-01],\n",
              "       [-1.33259429e+00, -1.42357051e+00],\n",
              "       [ 2.20498065e-01,  1.56352636e-02],\n",
              "       [-9.02218083e-01, -1.15952427e+00],\n",
              "       [-1.01724145e-01, -2.80254054e-01],\n",
              "       [ 2.30351099e+00,  2.36246163e+00],\n",
              "       [ 9.49918720e-01,  1.18938016e+00],\n",
              "       [ 4.67922297e-01,  5.14627110e-01],\n",
              "       [ 6.69171190e-01,  5.71038421e-01],\n",
              "       [-1.21756604e+00, -1.34129568e+00],\n",
              "       [-1.10229475e+00, -1.11415062e+00],\n",
              "       [-7.66825772e-01, -6.49114777e-01],\n",
              "       [ 8.05940812e-01,  8.14279022e-01],\n",
              "       [ 1.00849585e-01, -7.23644612e-02],\n",
              "       [ 1.63006598e-01,  7.17715347e-02],\n",
              "       [ 1.27683594e-01, -1.21328379e-01],\n",
              "       [-1.20419695e+00,  1.81148809e+00],\n",
              "       [-7.24038617e-01, -1.01658739e+00],\n",
              "       [ 4.65061692e-01,  3.91373209e-01],\n",
              "       [ 8.23781731e-01,  7.50292781e-01],\n",
              "       [-9.48538904e-01, -1.08600226e+00],\n",
              "       [ 2.00951747e+00,  2.51710296e+00],\n",
              "       [-5.78100890e-01, -7.68869708e-01],\n",
              "       [-7.55799827e-01, -8.67897110e-01],\n",
              "       [-3.68506476e-01, -6.41799475e-01],\n",
              "       [ 2.59462551e-01,  2.04506076e-01],\n",
              "       [-6.68312204e-01, -9.75550413e-01],\n",
              "       [ 4.70483592e-01,  4.45281022e-01],\n",
              "       [ 6.08163160e-01,  6.26443359e-01],\n",
              "       [-1.37906939e+00, -1.32640442e+00],\n",
              "       [-3.39009226e-01, -6.30620818e-01],\n",
              "       [ 9.93752499e-01,  1.33995314e+00],\n",
              "       [ 2.92373972e-01,  2.59572064e-01],\n",
              "       [ 9.63250699e-01,  1.04465413e+00],\n",
              "       [ 6.24933288e-01,  6.51137263e-01],\n",
              "       [-6.37546385e-01, -8.45829771e-01],\n",
              "       [ 2.81251058e-01,  6.04219317e-02],\n",
              "       [-4.76146029e-01, -6.86386452e-01],\n",
              "       [ 3.28858223e-01,  2.09586521e-01],\n",
              "       [-2.32750989e-01, -5.50349417e-01],\n",
              "       [-6.06669639e-01, -7.90675786e-01],\n",
              "       [ 2.16538240e+00,  2.47203683e+00],\n",
              "       [-1.16383259e+00, -1.33430093e+00],\n",
              "       [-9.40780868e-01, -1.19565931e+00],\n",
              "       [-1.14696111e+00, -1.33227014e+00],\n",
              "       [-1.37536886e+00, -1.32595899e+00],\n",
              "       [ 7.05796682e-01,  7.50570983e-01],\n",
              "       [ 3.67997100e-01,  3.64459069e-01],\n",
              "       [-1.35543514e-01, -3.03363500e-01],\n",
              "       [-1.23189323e+00, -1.29907365e+00],\n",
              "       [-1.00308059e+00, -1.11032395e+00],\n",
              "       [ 2.14721423e+00,  2.03846950e+00],\n",
              "       [ 3.24265300e-01,  1.27085113e-01],\n",
              "       [-5.51521729e-01, -7.47273326e-01],\n",
              "       [ 4.87711454e-01,  4.36696062e-01],\n",
              "       [ 1.80011378e-01,  9.15070072e-02],\n",
              "       [ 4.13166516e-01,  4.15328559e-01],\n",
              "       [ 9.77529968e-01,  1.22883879e+00],\n",
              "       [-7.60207156e-01, -9.72969881e-01],\n",
              "       [ 4.22791999e-01,  2.76320971e-01],\n",
              "       [ 9.19042152e-01,  9.77193050e-01],\n",
              "       [-5.53232491e-01, -7.27293078e-01],\n",
              "       [-1.02058263e+00, -9.69924264e-01],\n",
              "       [-1.26181334e+00, -1.32282444e+00],\n",
              "       [-3.33491763e-01, -5.32330283e-01],\n",
              "       [ 2.91830172e+00,  2.48855685e+00],\n",
              "       [ 1.90104438e+00,  1.71709530e+00],\n",
              "       [-1.09305561e+00, -1.19378357e+00],\n",
              "       [ 6.59522142e-01,  7.36676372e-01],\n",
              "       [-9.45994792e-01, -1.04353151e+00],\n",
              "       [-3.96079656e-01, -7.05678659e-01],\n",
              "       [-1.05482969e+00, -1.12805973e+00],\n",
              "       [-5.82884795e-01, -8.92355114e-01],\n",
              "       [-5.30683017e-02, -1.61449258e-01],\n",
              "       [ 3.24874530e-01,  1.97522366e-01],\n",
              "       [-6.73147992e-01, -9.30997421e-01],\n",
              "       [ 5.43015010e-01,  5.44568505e-01],\n",
              "       [ 5.63708155e-01,  5.78254530e-01],\n",
              "       [ 2.83816325e-01,  5.19820495e-02],\n",
              "       [ 5.88269458e-01,  6.17691522e-01],\n",
              "       [ 2.64561577e-01,  1.65175287e+00],\n",
              "       [ 9.16151411e-01,  1.18531564e+00],\n",
              "       [ 9.13838582e-01,  1.14287273e+00],\n",
              "       [-1.20400219e+00, -1.36353941e+00],\n",
              "       [-6.32292752e-01,  2.31254473e+00],\n",
              "       [-5.87421273e-01,  9.29908387e-01],\n",
              "       [-1.33040319e+00, -1.42330677e+00],\n",
              "       [ 6.11720213e-01,  5.41069841e-01],\n",
              "       [ 1.50129171e+00,  1.78289991e+00],\n",
              "       [ 7.99504777e-01,  1.08269666e+00],\n",
              "       [ 1.45398887e+00,  1.93633401e+00],\n",
              "       [ 1.35064631e+00,  1.58626263e+00],\n",
              "       [-4.47218301e-01, -5.65395014e-01],\n",
              "       [ 7.54040023e-01,  8.74609513e-01],\n",
              "       [-9.90822589e-01, -1.15101299e+00],\n",
              "       [ 1.70035306e-01, -7.45706248e-02],\n",
              "       [-1.09488653e+00, -1.30018068e+00],\n",
              "       [-2.02197296e-01, -5.46671722e-01],\n",
              "       [-1.11409519e+00, -1.30249279e+00],\n",
              "       [ 8.27601387e-01,  8.19538307e-01],\n",
              "       [ 9.19551590e-01,  1.26081057e+00],\n",
              "       [-4.28380618e-01, -5.99889228e-01],\n",
              "       [ 7.11822033e-01,  6.53465946e-01],\n",
              "       [-5.34850803e-01, -7.01283293e-01],\n",
              "       [ 6.97110925e-01,  7.17403655e-01],\n",
              "       [ 9.14274391e-01,  1.04036088e+00],\n",
              "       [-5.80145138e-01, -8.68228133e-01],\n",
              "       [-1.04447658e-01, -2.43848628e-01],\n",
              "       [ 1.04071660e-02, -1.54381357e-01],\n",
              "       [ 9.48889824e-01,  9.80785762e-01],\n",
              "       [ 2.47560758e-01,  9.45845323e-02]])"
            ]
          },
          "metadata": {},
          "execution_count": 60
        }
      ]
    },
    {
      "cell_type": "code",
      "source": [
        "y_test_inverse.mean()"
      ],
      "metadata": {
        "colab": {
          "base_uri": "https://localhost:8080/"
        },
        "id": "5WLjggD722JV",
        "outputId": "5bb224f0-0ca5-4f27-edb0-7741d6841283"
      },
      "execution_count": null,
      "outputs": [
        {
          "output_type": "execute_result",
          "data": {
            "text/plain": [
              "7967.72590748366"
            ]
          },
          "metadata": {},
          "execution_count": 61
        }
      ]
    },
    {
      "cell_type": "code",
      "source": [
        "y_test_inverse.std()"
      ],
      "metadata": {
        "colab": {
          "base_uri": "https://localhost:8080/"
        },
        "id": "ZeLEG2RK3_CC",
        "outputId": "5eea1145-7f90-4bc1-e6c0-2c26ac8bb1e2"
      },
      "execution_count": null,
      "outputs": [
        {
          "output_type": "execute_result",
          "data": {
            "text/plain": [
              "4753.642835106251"
            ]
          },
          "metadata": {},
          "execution_count": 62
        }
      ]
    },
    {
      "cell_type": "code",
      "source": [
        "y_test_inverse[0]"
      ],
      "metadata": {
        "id": "Cp_PuyCTdkXS",
        "colab": {
          "base_uri": "https://localhost:8080/"
        },
        "outputId": "c22b07b0-8c33-491b-de08-b2cd7d0d1068"
      },
      "execution_count": null,
      "outputs": [
        {
          "output_type": "execute_result",
          "data": {
            "text/plain": [
              "array([5385.3379])"
            ]
          },
          "metadata": {},
          "execution_count": 63
        }
      ]
    },
    {
      "cell_type": "code",
      "source": [
        "5385.3379 - 7967.72590748366"
      ],
      "metadata": {
        "colab": {
          "base_uri": "https://localhost:8080/"
        },
        "id": "7ZzI_MvY4ls0",
        "outputId": "a64e92a0-2593-400a-ddb2-55e39768ea53"
      },
      "execution_count": null,
      "outputs": [
        {
          "output_type": "execute_result",
          "data": {
            "text/plain": [
              "-2582.3880074836597"
            ]
          },
          "metadata": {},
          "execution_count": 64
        }
      ]
    },
    {
      "cell_type": "code",
      "source": [
        "-2582.3880074836597 / 4753.642835106251"
      ],
      "metadata": {
        "colab": {
          "base_uri": "https://localhost:8080/"
        },
        "id": "fI-om5O44sJs",
        "outputId": "f5a007bc-d574-4b36-8eb7-b43301fbe430"
      },
      "execution_count": null,
      "outputs": [
        {
          "output_type": "execute_result",
          "data": {
            "text/plain": [
              "-0.5432440124471277"
            ]
          },
          "metadata": {},
          "execution_count": 65
        }
      ]
    },
    {
      "cell_type": "code",
      "source": [
        "-0.54996954 * 4753.642835106251 + 7967.72590748366"
      ],
      "metadata": {
        "colab": {
          "base_uri": "https://localhost:8080/"
        },
        "id": "w-uJQ1b94sD2",
        "outputId": "b4259b94-36bc-4bb5-d3e1-9eb50ce3179d"
      },
      "execution_count": null,
      "outputs": [
        {
          "output_type": "execute_result",
          "data": {
            "text/plain": [
              "5353.367144135979"
            ]
          },
          "metadata": {},
          "execution_count": 66
        }
      ]
    },
    {
      "cell_type": "code",
      "source": [
        "-0.41363629 * 4753.642835106251 + 7967.72590748366"
      ],
      "metadata": {
        "colab": {
          "base_uri": "https://localhost:8080/"
        },
        "id": "10vUC66y5Xtz",
        "outputId": "5ae348f4-cfd7-4437-f31c-9c7a08c503be"
      },
      "execution_count": null,
      "outputs": [
        {
          "output_type": "execute_result",
          "data": {
            "text/plain": [
              "6001.446721185229"
            ]
          },
          "metadata": {},
          "execution_count": 67
        }
      ]
    },
    {
      "cell_type": "code",
      "source": [
        "for i in range(len(y_testish)):\n",
        "  for j in range(len(y_testish[i])):\n",
        "    y_testish[i][j] = y_testish[i][j]* y_test_inverse.std()  + y_test_inverse.mean()\n",
        "\n",
        "print (y_testish)"
      ],
      "metadata": {
        "colab": {
          "base_uri": "https://localhost:8080/"
        },
        "id": "1rbx96Fd5sH3",
        "outputId": "e83febb3-1f72-41be-b33c-307829838186"
      },
      "execution_count": null,
      "outputs": [
        {
          "output_type": "stream",
          "name": "stdout",
          "text": [
            "[[ 6352.4937623   5353.36716362]\n",
            " [ 7254.90707976  6363.82603323]\n",
            " [11386.62238153 11131.35105603]\n",
            " [ 7590.02469885  6283.80789447]\n",
            " [11104.69793847 11717.72289495]\n",
            " [18729.01388768 20009.47571797]\n",
            " [ 9539.17177432  8496.85557428]\n",
            " [ 4342.02206111  4261.9313741 ]\n",
            " [12675.17795993 14030.34035266]\n",
            " [ 1639.76380256  1105.60559843]\n",
            " [ 6971.55701317  6028.66808355]\n",
            " [ 7621.6493702   6155.09029781]\n",
            " [11597.29762058 12715.00816973]\n",
            " [ 8146.17540595  6752.42027265]\n",
            " [ 5109.97497004  4399.87549801]\n",
            " [10432.3143224  10581.00872339]\n",
            " [ 5347.2579117   4686.31790489]\n",
            " [ 9769.66068595  9387.79145521]\n",
            " [ 2975.61981269  1942.20683964]\n",
            " [12968.31958159 13873.72770653]\n",
            " [ 3445.18919378  2661.75515374]\n",
            " [11475.01269435 11824.69980089]\n",
            " [ 7644.15888552  6541.63288388]\n",
            " [10453.53192623 10334.48235897]\n",
            " [ 2128.9305653  11463.92780291]\n",
            " [ 9520.19855162  8774.04725136]\n",
            " [ 2932.02852921  2489.63183988]\n",
            " [ 8289.05658956  7391.93210817]\n",
            " [ 2310.99011707  1877.80354473]\n",
            " [ 4633.68952952  3525.95154346]\n",
            " [ 7571.38068474 19495.44547497]\n",
            " [ 2726.71092649  2671.3194642 ]\n",
            " [ 9499.11678347  8576.3544359 ]\n",
            " [ 4147.58590553  3317.07956231]\n",
            " [ 8606.73300428  7317.3763762 ]\n",
            " [ 6113.11250844  4856.95123456]\n",
            " [ 9254.50879282  8207.32160681]\n",
            " [ 5082.48905801 18153.6898669 ]\n",
            " [ 2099.65083586  1582.03163708]\n",
            " [ 8053.24409076  6741.23429217]\n",
            " [ 2979.07283759  2111.46132638]\n",
            " [ 8577.19147574  7722.32777075]\n",
            " [ 8289.41613693  7509.87411515]\n",
            " [11006.49724156 10360.37626473]\n",
            " [ 9030.21144453  8285.23237127]\n",
            " [11893.95013223 12799.63721702]\n",
            " [15367.67159487 17554.89385986]\n",
            " [10751.55309422 10580.78799427]\n",
            " [ 7611.03056928  6623.3146337 ]\n",
            " [11946.22982392 12252.69371192]\n",
            " [ 7994.05182639  6847.23287454]\n",
            " [17565.14519537 19348.77684349]\n",
            " [ 3610.43382377  3273.30684849]\n",
            " [12838.47034666 14241.9311353 ]\n",
            " [11327.28601358 11071.15820037]\n",
            " [ 2106.24745474  2167.09388337]\n",
            " [13035.35571529 13906.4175637 ]\n",
            " [ 6683.01622432  5212.95137466]\n",
            " [12638.15666694 13415.79470919]\n",
            " [ 3920.52620289  3140.04087906]\n",
            " [11638.59440647 11819.22416538]\n",
            " [ 5648.83266536 18801.97344251]\n",
            " [ 7162.30693851  6081.96371798]\n",
            " [ 6610.94386349  6082.84372815]\n",
            " [ 7407.49442707  6242.43629255]\n",
            " [ 4986.59060732  3952.91541868]\n",
            " [ 7805.46869021  6467.33325781]\n",
            " [ 8659.2601728   7699.97685546]\n",
            " [ 4637.91086773  4654.30887553]\n",
            " [12140.29126273 12087.96750435]\n",
            " [16109.64801994 15348.83008944]\n",
            " [ 4861.41979719  3831.58124862]\n",
            " [11199.57778654 11640.05440638]\n",
            " [ 5596.24847889  4495.64447582]\n",
            " [ 5357.7076749   4041.67909066]\n",
            " [ 6020.69826857  4732.70404144]\n",
            " [ 4740.5938548   4432.65214357]\n",
            " [ 7727.18095012  6571.03335104]\n",
            " [ 8018.62560475  7173.68131921]\n",
            " [ 5866.49440946  4637.11455324]\n",
            " [ 6123.4818164   5195.67572584]\n",
            " [ 5444.50158145  4322.83602479]\n",
            " [ 7587.97279272  6637.05866674]\n",
            " [ 2046.18350383  1575.59586748]\n",
            " [ 9745.35735321  8800.59788262]\n",
            " [ 9320.1856563   8799.49523921]\n",
            " [ 4523.02768456  3223.60536559]\n",
            " [ 3749.53776079  3176.92709492]\n",
            " [ 4940.4446139   3518.24892402]\n",
            " [12647.19878849 13593.28371993]\n",
            " [ 3769.26975237  2595.03397759]\n",
            " [ 4939.56146834  4303.48557236]\n",
            " [ 3642.86208334  3143.7431152 ]\n",
            " [14534.89315117 16447.81892373]\n",
            " [ 2914.614004    1987.69778308]\n",
            " [ 3040.49521159  2763.66681496]\n",
            " [10898.60920996 10922.24922596]\n",
            " [ 3022.47164606  2116.68516533]\n",
            " [15927.14442733 17078.74817976]\n",
            " [14346.43745646 13734.09296292]\n",
            " [10053.03827883  9561.05584592]\n",
            " [ 2861.14667197  1981.26201348]\n",
            " [11000.71725664 10962.70629278]\n",
            " [ 8638.15374161  7704.99159054]\n",
            " [10135.74264462  9853.47768184]\n",
            " [ 6311.48630181  5341.36746687]\n",
            " [ 7217.42567864  5936.18173106]\n",
            " [11186.92421424 11343.78717357]\n",
            " [12082.20124733 13337.45947337]\n",
            " [ 2913.36934571  3445.75657086]\n",
            " [ 7155.39717832  5677.89809611]\n",
            " [ 2550.47193169  2418.87074461]\n",
            " [ 8771.51842403  7713.48918556]\n",
            " [11181.23455683 11053.57824101]\n",
            " [10747.48365899 10317.73661036]\n",
            " [ 7883.31238945  7021.67181474]\n",
            " [ 6427.20128833  5091.64987552]\n",
            " [11661.39324718 12205.80157704]\n",
            " [ 8271.85549202  7018.36553807]\n",
            " [12068.59643114 12463.17087732]\n",
            " [ 8970.76019356  8036.61757367]\n",
            " [ 4832.58781897  4202.65806442]\n",
            " [10567.8002858   9855.40917438]\n",
            " [ 9289.92593091  8708.54131303]\n",
            " [10266.51485754  9603.17396825]\n",
            " [ 2197.67427791  1593.830548  ]\n",
            " [ 8163.99869709  7702.77467847]\n",
            " [ 8747.96362692  7597.53048359]\n",
            " [ 5340.69534198  4039.63134579]\n",
            " [ 9270.68719874  8432.53095013]\n",
            " [ 6017.11434412  5229.22925772]\n",
            " [ 5255.070196    4466.44334133]\n",
            " [12358.09907577 13379.20628973]\n",
            " [ 5621.97091228  4150.51623445]\n",
            " [ 4123.9219519   3164.52327097]\n",
            " [ 3627.17200069  3033.80307744]\n",
            " [ 4291.88708768  3448.22492872]\n",
            " [ 3925.30237596  3406.868159  ]\n",
            " [ 8555.16005043  7310.02441792]\n",
            " [10722.57133669 10096.74933152]\n",
            " [ 5664.7180355   4316.29257146]\n",
            " [ 5451.84848099  5047.46125894]\n",
            " [ 5053.05090273  4205.43018162]\n",
            " [10341.42064184 10243.08507042]\n",
            " [ 9943.94743749  9693.29057693]\n",
            " [ 8510.54978571 18803.36954291]\n",
            " [ 5117.52776896  3668.72705447]\n",
            " [ 2165.61787185  2182.7114331 ]\n",
            " [ 3324.64021988 10775.73648285]\n",
            " [11588.73358905 12129.7091094 ]\n",
            " [10927.11287748 11337.67981683]\n",
            " [10737.01379026 10429.59982259]\n",
            " [ 9540.47514482  8526.26340744]\n",
            " [ 1640.281725    1585.2839466 ]\n",
            " [19125.28338439 15811.42871407]\n",
            " [17565.70496637 16106.67508097]\n",
            " [15410.02512155 14700.06116031]\n",
            " [ 7438.46741317  6220.34614328]\n",
            " [ 8916.39454658  8384.65588168]\n",
            " [ 3262.14593569 13111.54675328]\n",
            " [18347.49627546 19520.74943018]\n",
            " [ 5464.89846231  5177.22577806]\n",
            " [ 4930.51934679  4530.43444153]\n",
            " [ 6873.62092785  5446.26771517]\n",
            " [16978.91700463 17937.45049395]\n",
            " [ 9366.63699163  8590.35552691]\n",
            " [ 8263.83977248  7122.9623778 ]\n",
            " [20148.0950493  19514.30885014]\n",
            " [ 8405.59685656 12781.36221899]\n",
            " [ 9575.58492487  9477.55434611]\n",
            " [ 2602.72409708  1840.89202394]\n",
            " [ 2201.8984286   2178.60722443]\n",
            " [ 2574.4137517   2766.11117073]\n",
            " [ 4461.50480056  3240.60426369]\n",
            " [ 5064.04526754  4407.18862201]\n",
            " [10017.41227058  9368.08969022]\n",
            " [11069.94770578 10559.03978723]\n",
            " [ 7941.52465788  6444.41050128]\n",
            " [ 7198.67087051  6724.04247531]\n",
            " [ 1815.0921255   1606.32556991]\n",
            " [ 5889.40898033  4639.8727402 ]\n",
            " [ 7265.90059744  5630.85658699]\n",
            " [ 2036.98666681  1687.61231233]\n",
            " [ 8621.58915992  7318.02037408]\n",
            " [ 9652.6763781   8944.15348692]\n",
            " [ 7980.39195761 13711.64372422]\n",
            " [12400.51417791 13968.57994445]\n",
            " [ 2201.04646895  2065.00488722]\n",
            " [ 2713.76431842  2547.79007916]\n",
            " [ 2163.30242161  1589.69326755]\n",
            " [11044.83426195 10939.85008068]\n",
            " [ 9392.33773277  8941.61372406]\n",
            " [ 2858.02195776  1980.88589708]\n",
            " [ 2085.3581616   2164.57947556]\n",
            " [ 7158.51536966  6522.31670584]\n",
            " [ 9586.76720718  8531.83550232]\n",
            " [ 1633.04859026  1200.58015184]\n",
            " [ 9015.89495437  8042.05036618]\n",
            " [ 3678.90338038  2455.7616707 ]\n",
            " [ 7484.16565536  6635.49822963]\n",
            " [18917.79443501 19198.0247183 ]\n",
            " [12483.30022469 13621.61436492]\n",
            " [10192.06138199 10414.07938366]\n",
            " [11148.72673992 10682.23860473]\n",
            " [ 2179.8518339   1591.68529147]\n",
            " [ 2727.81036297  2671.45180145]\n",
            " [ 4322.51007083  4882.06609933]\n",
            " [11798.8806724  11838.51754392]\n",
            " [ 8447.12881314  7623.73110511]\n",
            " [ 8742.60105444  8308.90214931]\n",
            " [ 8574.68810799  7390.97412877]\n",
            " [ 2243.40370601 16578.89329605]\n",
            " [ 4525.90492194  3135.232542  ]\n",
            " [10178.46308867  9828.17435801]\n",
            " [11883.69003155 11534.34981215]\n",
            " [ 3458.71074225  2805.25904578]\n",
            " [17520.25425178 19933.13436009]\n",
            " [ 5219.64075177  4312.79392724]\n",
            " [ 4374.92347455  3842.05302885]\n",
            " [ 6215.97773727  4916.8404311 ]\n",
            " [ 9201.11820564  8939.87474942]\n",
            " [ 4790.80838556  3330.30767548]\n",
            " [10204.23686427 10084.43284715]\n",
            " [10858.71635534 10945.61389171]\n",
            " [ 1412.12258588  1662.4730446 ]\n",
            " [ 6356.19712729  4969.97977628]\n",
            " [12691.67035427 14337.3845281 ]\n",
            " [ 9357.56734379  9201.638789  ]\n",
            " [12546.67568908 12933.6385326 ]\n",
            " [10938.43555298 11062.99989181]\n",
            " [ 4937.05810059  3946.95327716]\n",
            " [ 9304.6929848   8254.95019025]\n",
            " [ 5704.29774882  4704.88986751]\n",
            " [ 9531.00044142  8964.02537118]\n",
            " [ 6861.31083564  5351.56134388]\n",
            " [ 5083.8351242   4209.13562472]\n",
            " [18261.18045893 19718.90605239]\n",
            " [ 2435.28144126  1624.93586574]\n",
            " [ 3495.58967668  2283.98861712]\n",
            " [ 2515.4824393   1634.58952013]\n",
            " [ 1429.71356958  1664.59044065]\n",
            " [11322.83124971 11535.67228273]\n",
            " [ 9717.05268357  9700.23414876]\n",
            " [ 7323.40045228  6525.64417851]\n",
            " [ 2111.74548428  1792.39375275]\n",
            " [ 3199.43907096  2689.64243636]\n",
            " [18174.81542384 17657.8818574 ]\n",
            " [ 9509.16732516  8571.84314361]\n",
            " [ 5345.98859037  4415.45541605]\n",
            " [10286.13196609 10043.62301461]\n",
            " [ 8823.43570509  8402.71753662]\n",
            " [ 9931.77195521  9942.04953746]\n",
            " [12614.55423801 13809.18661251]\n",
            " [ 4353.97260595  3342.57460228]\n",
            " [ 9977.52806248  9281.25710991]\n",
            " [12336.52404821 12612.95264624]\n",
            " [ 5337.85624278  4510.43437904]\n",
            " [ 3116.24059864  3357.052378  ]\n",
            " [ 1969.51598592  1679.49098403]\n",
            " [ 6382.425177    5437.21787143]\n",
            " [21840.28999274 19797.43636165]\n",
            " [17004.61191173 16130.1836591 ]\n",
            " [ 2771.72995714  2292.90517155]\n",
            " [11102.85861288 11469.62226341]\n",
            " [ 3470.80454354  3007.14982342]\n",
            " [ 6084.90468918  4613.18160396]\n",
            " [ 2953.44231844  2605.33283247]\n",
            " [ 5196.89977614  3725.78841285]\n",
            " [ 7715.45815521  7200.2537979 ]\n",
            " [ 9512.06339154  8906.67668913]\n",
            " [ 4767.82078022  3542.0966884 ]\n",
            " [10549.02532138 10556.41007914]\n",
            " [10647.39314141 10716.541413  ]\n",
            " [ 9316.88734686  8214.83000467]\n",
            " [10764.14880144 10904.01078729]\n",
            " [ 9225.35715044 15819.56911376]\n",
            " [12322.78249844 13602.2931259 ]\n",
            " [12311.78813363 13400.53468552]\n",
            " [ 2244.32954726  1485.94657317]\n",
            " [ 4962.03199836 18960.73757871]\n",
            " [ 5175.33498184 12388.17824701]\n",
            " [ 1643.46430429  1201.83387319]\n",
            " [10875.625315   10539.77867873]\n",
            " [15104.33048835 16442.9953035 ]\n",
            " [11768.28606269 13114.47911833]\n",
            " [14879.46965867 17172.36618864]\n",
            " [14388.21604274 15508.25188316]\n",
            " [ 5841.80983708  5280.03994829]\n",
            " [11552.16285978 12125.30715444]\n",
            " [ 3257.70920446  2496.22124295]\n",
            " [ 8776.01302033  7613.24379117]\n",
            " [ 2763.02637954  1787.13133004]\n",
            " [ 7006.55218131  5369.04379158]\n",
            " [ 2671.71528652  1776.14037288]\n",
            " [11901.84730913 11863.51831102]\n",
            " [12338.94573496 13961.16905825]\n",
            " [ 5931.35745146  5116.06677527]\n",
            " [11351.47361617 11074.06961995]\n",
            " [ 5425.23622088  4634.07560685]\n",
            " [11281.54226322 11378.00665096]\n",
            " [12313.85981743 12913.22993334]\n",
            " [ 5209.92312906  3840.47946324]\n",
            " [ 7471.21904729  6808.55662319]\n",
            " [ 8017.19785758  7233.85207691]\n",
            " [12478.40921936 12630.03111706]\n",
            " [ 9144.5413288   8417.34699157]]\n"
          ]
        }
      ]
    },
    {
      "cell_type": "code",
      "source": [
        "X_test_inverse = scaler.inverse_transform(X_test)"
      ],
      "metadata": {
        "id": "iSQItSiZ8X2C"
      },
      "execution_count": null,
      "outputs": []
    },
    {
      "cell_type": "code",
      "source": [
        "X_test_inverse"
      ],
      "metadata": {
        "colab": {
          "base_uri": "https://localhost:8080/"
        },
        "id": "1CfmnTUc8gqV",
        "outputId": "512e618c-7852-430c-9b3d-92a0c906f6aa"
      },
      "execution_count": null,
      "outputs": [
        {
          "output_type": "execute_result",
          "data": {
            "text/plain": [
              "array([[34.   ,  0.   , 26.41 ,  1.   ,  0.   ],\n",
              "       [40.   ,  1.   , 29.355,  1.   ,  0.   ],\n",
              "       [53.   ,  0.   , 26.7  ,  2.   ,  0.   ],\n",
              "       ...,\n",
              "       [41.   ,  1.   , 34.2  ,  2.   ,  0.   ],\n",
              "       [57.   ,  0.   , 38.   ,  2.   ,  0.   ],\n",
              "       [50.   ,  1.   , 25.3  ,  0.   ,  0.   ]])"
            ]
          },
          "metadata": {},
          "execution_count": 70
        }
      ]
    },
    {
      "cell_type": "markdown",
      "source": [],
      "metadata": {
        "id": "5ZwSjYHo9Tf7"
      }
    },
    {
      "cell_type": "code",
      "source": [
        "X_overview = np.concatenate((X_test_inverse, y_testish), axis = 1)"
      ],
      "metadata": {
        "id": "Mmvmq9T28igC"
      },
      "execution_count": null,
      "outputs": []
    },
    {
      "cell_type": "code",
      "source": [
        "X_overview"
      ],
      "metadata": {
        "colab": {
          "base_uri": "https://localhost:8080/"
        },
        "id": "1tObjXXG9Rhi",
        "outputId": "55fd978b-4df7-422c-cef8-0ed286cb2d7a"
      },
      "execution_count": null,
      "outputs": [
        {
          "output_type": "execute_result",
          "data": {
            "text/plain": [
              "array([[3.40000000e+01, 0.00000000e+00, 2.64100000e+01, ...,\n",
              "        0.00000000e+00, 6.35249376e+03, 5.35336716e+03],\n",
              "       [4.00000000e+01, 1.00000000e+00, 2.93550000e+01, ...,\n",
              "        0.00000000e+00, 7.25490708e+03, 6.36382603e+03],\n",
              "       [5.30000000e+01, 0.00000000e+00, 2.67000000e+01, ...,\n",
              "        0.00000000e+00, 1.13866224e+04, 1.11313511e+04],\n",
              "       ...,\n",
              "       [4.10000000e+01, 1.00000000e+00, 3.42000000e+01, ...,\n",
              "        0.00000000e+00, 8.01719786e+03, 7.23385208e+03],\n",
              "       [5.70000000e+01, 0.00000000e+00, 3.80000000e+01, ...,\n",
              "        0.00000000e+00, 1.24784092e+04, 1.26300311e+04],\n",
              "       [5.00000000e+01, 1.00000000e+00, 2.53000000e+01, ...,\n",
              "        0.00000000e+00, 9.14454133e+03, 8.41734699e+03]])"
            ]
          },
          "metadata": {},
          "execution_count": 72
        }
      ]
    },
    {
      "cell_type": "code",
      "source": [
        "x_overview_df = pd.DataFrame(X_overview)"
      ],
      "metadata": {
        "id": "pMjBwe9T9TKG"
      },
      "execution_count": null,
      "outputs": []
    },
    {
      "cell_type": "code",
      "source": [
        "x_overview_df"
      ],
      "metadata": {
        "colab": {
          "base_uri": "https://localhost:8080/",
          "height": 424
        },
        "id": "Rz2Sd4XW9aeh",
        "outputId": "72b1eb66-008d-4b8f-ba1f-ce8273d1e66e"
      },
      "execution_count": null,
      "outputs": [
        {
          "output_type": "execute_result",
          "data": {
            "text/plain": [
              "        0    1       2    3    4             5             6\n",
              "0    34.0  0.0  26.410  1.0  0.0   6352.493762   5353.367164\n",
              "1    40.0  1.0  29.355  1.0  0.0   7254.907080   6363.826033\n",
              "2    53.0  0.0  26.700  2.0  0.0  11386.622382  11131.351056\n",
              "3    37.0  0.0  30.800  2.0  0.0   7590.024699   6283.807894\n",
              "4    58.0  1.0  28.595  0.0  0.0  11104.697938  11717.722895\n",
              "..    ...  ...     ...  ...  ...           ...           ...\n",
              "301  31.0  1.0  39.490  1.0  0.0   5209.923129   3840.479463\n",
              "302  43.0  1.0  26.030  0.0  0.0   7471.219047   6808.556623\n",
              "303  41.0  1.0  34.200  2.0  0.0   8017.197858   7233.852077\n",
              "304  57.0  0.0  38.000  2.0  0.0  12478.409219  12630.031117\n",
              "305  50.0  1.0  25.300  0.0  0.0   9144.541329   8417.346992\n",
              "\n",
              "[306 rows x 7 columns]"
            ],
            "text/html": [
              "\n",
              "  <div id=\"df-b14fae28-a681-4f7b-8b66-802558382a7a\">\n",
              "    <div class=\"colab-df-container\">\n",
              "      <div>\n",
              "<style scoped>\n",
              "    .dataframe tbody tr th:only-of-type {\n",
              "        vertical-align: middle;\n",
              "    }\n",
              "\n",
              "    .dataframe tbody tr th {\n",
              "        vertical-align: top;\n",
              "    }\n",
              "\n",
              "    .dataframe thead th {\n",
              "        text-align: right;\n",
              "    }\n",
              "</style>\n",
              "<table border=\"1\" class=\"dataframe\">\n",
              "  <thead>\n",
              "    <tr style=\"text-align: right;\">\n",
              "      <th></th>\n",
              "      <th>0</th>\n",
              "      <th>1</th>\n",
              "      <th>2</th>\n",
              "      <th>3</th>\n",
              "      <th>4</th>\n",
              "      <th>5</th>\n",
              "      <th>6</th>\n",
              "    </tr>\n",
              "  </thead>\n",
              "  <tbody>\n",
              "    <tr>\n",
              "      <th>0</th>\n",
              "      <td>34.0</td>\n",
              "      <td>0.0</td>\n",
              "      <td>26.410</td>\n",
              "      <td>1.0</td>\n",
              "      <td>0.0</td>\n",
              "      <td>6352.493762</td>\n",
              "      <td>5353.367164</td>\n",
              "    </tr>\n",
              "    <tr>\n",
              "      <th>1</th>\n",
              "      <td>40.0</td>\n",
              "      <td>1.0</td>\n",
              "      <td>29.355</td>\n",
              "      <td>1.0</td>\n",
              "      <td>0.0</td>\n",
              "      <td>7254.907080</td>\n",
              "      <td>6363.826033</td>\n",
              "    </tr>\n",
              "    <tr>\n",
              "      <th>2</th>\n",
              "      <td>53.0</td>\n",
              "      <td>0.0</td>\n",
              "      <td>26.700</td>\n",
              "      <td>2.0</td>\n",
              "      <td>0.0</td>\n",
              "      <td>11386.622382</td>\n",
              "      <td>11131.351056</td>\n",
              "    </tr>\n",
              "    <tr>\n",
              "      <th>3</th>\n",
              "      <td>37.0</td>\n",
              "      <td>0.0</td>\n",
              "      <td>30.800</td>\n",
              "      <td>2.0</td>\n",
              "      <td>0.0</td>\n",
              "      <td>7590.024699</td>\n",
              "      <td>6283.807894</td>\n",
              "    </tr>\n",
              "    <tr>\n",
              "      <th>4</th>\n",
              "      <td>58.0</td>\n",
              "      <td>1.0</td>\n",
              "      <td>28.595</td>\n",
              "      <td>0.0</td>\n",
              "      <td>0.0</td>\n",
              "      <td>11104.697938</td>\n",
              "      <td>11717.722895</td>\n",
              "    </tr>\n",
              "    <tr>\n",
              "      <th>...</th>\n",
              "      <td>...</td>\n",
              "      <td>...</td>\n",
              "      <td>...</td>\n",
              "      <td>...</td>\n",
              "      <td>...</td>\n",
              "      <td>...</td>\n",
              "      <td>...</td>\n",
              "    </tr>\n",
              "    <tr>\n",
              "      <th>301</th>\n",
              "      <td>31.0</td>\n",
              "      <td>1.0</td>\n",
              "      <td>39.490</td>\n",
              "      <td>1.0</td>\n",
              "      <td>0.0</td>\n",
              "      <td>5209.923129</td>\n",
              "      <td>3840.479463</td>\n",
              "    </tr>\n",
              "    <tr>\n",
              "      <th>302</th>\n",
              "      <td>43.0</td>\n",
              "      <td>1.0</td>\n",
              "      <td>26.030</td>\n",
              "      <td>0.0</td>\n",
              "      <td>0.0</td>\n",
              "      <td>7471.219047</td>\n",
              "      <td>6808.556623</td>\n",
              "    </tr>\n",
              "    <tr>\n",
              "      <th>303</th>\n",
              "      <td>41.0</td>\n",
              "      <td>1.0</td>\n",
              "      <td>34.200</td>\n",
              "      <td>2.0</td>\n",
              "      <td>0.0</td>\n",
              "      <td>8017.197858</td>\n",
              "      <td>7233.852077</td>\n",
              "    </tr>\n",
              "    <tr>\n",
              "      <th>304</th>\n",
              "      <td>57.0</td>\n",
              "      <td>0.0</td>\n",
              "      <td>38.000</td>\n",
              "      <td>2.0</td>\n",
              "      <td>0.0</td>\n",
              "      <td>12478.409219</td>\n",
              "      <td>12630.031117</td>\n",
              "    </tr>\n",
              "    <tr>\n",
              "      <th>305</th>\n",
              "      <td>50.0</td>\n",
              "      <td>1.0</td>\n",
              "      <td>25.300</td>\n",
              "      <td>0.0</td>\n",
              "      <td>0.0</td>\n",
              "      <td>9144.541329</td>\n",
              "      <td>8417.346992</td>\n",
              "    </tr>\n",
              "  </tbody>\n",
              "</table>\n",
              "<p>306 rows × 7 columns</p>\n",
              "</div>\n",
              "      <button class=\"colab-df-convert\" onclick=\"convertToInteractive('df-b14fae28-a681-4f7b-8b66-802558382a7a')\"\n",
              "              title=\"Convert this dataframe to an interactive table.\"\n",
              "              style=\"display:none;\">\n",
              "        \n",
              "  <svg xmlns=\"http://www.w3.org/2000/svg\" height=\"24px\"viewBox=\"0 0 24 24\"\n",
              "       width=\"24px\">\n",
              "    <path d=\"M0 0h24v24H0V0z\" fill=\"none\"/>\n",
              "    <path d=\"M18.56 5.44l.94 2.06.94-2.06 2.06-.94-2.06-.94-.94-2.06-.94 2.06-2.06.94zm-11 1L8.5 8.5l.94-2.06 2.06-.94-2.06-.94L8.5 2.5l-.94 2.06-2.06.94zm10 10l.94 2.06.94-2.06 2.06-.94-2.06-.94-.94-2.06-.94 2.06-2.06.94z\"/><path d=\"M17.41 7.96l-1.37-1.37c-.4-.4-.92-.59-1.43-.59-.52 0-1.04.2-1.43.59L10.3 9.45l-7.72 7.72c-.78.78-.78 2.05 0 2.83L4 21.41c.39.39.9.59 1.41.59.51 0 1.02-.2 1.41-.59l7.78-7.78 2.81-2.81c.8-.78.8-2.07 0-2.86zM5.41 20L4 18.59l7.72-7.72 1.47 1.35L5.41 20z\"/>\n",
              "  </svg>\n",
              "      </button>\n",
              "      \n",
              "  <style>\n",
              "    .colab-df-container {\n",
              "      display:flex;\n",
              "      flex-wrap:wrap;\n",
              "      gap: 12px;\n",
              "    }\n",
              "\n",
              "    .colab-df-convert {\n",
              "      background-color: #E8F0FE;\n",
              "      border: none;\n",
              "      border-radius: 50%;\n",
              "      cursor: pointer;\n",
              "      display: none;\n",
              "      fill: #1967D2;\n",
              "      height: 32px;\n",
              "      padding: 0 0 0 0;\n",
              "      width: 32px;\n",
              "    }\n",
              "\n",
              "    .colab-df-convert:hover {\n",
              "      background-color: #E2EBFA;\n",
              "      box-shadow: 0px 1px 2px rgba(60, 64, 67, 0.3), 0px 1px 3px 1px rgba(60, 64, 67, 0.15);\n",
              "      fill: #174EA6;\n",
              "    }\n",
              "\n",
              "    [theme=dark] .colab-df-convert {\n",
              "      background-color: #3B4455;\n",
              "      fill: #D2E3FC;\n",
              "    }\n",
              "\n",
              "    [theme=dark] .colab-df-convert:hover {\n",
              "      background-color: #434B5C;\n",
              "      box-shadow: 0px 1px 3px 1px rgba(0, 0, 0, 0.15);\n",
              "      filter: drop-shadow(0px 1px 2px rgba(0, 0, 0, 0.3));\n",
              "      fill: #FFFFFF;\n",
              "    }\n",
              "  </style>\n",
              "\n",
              "      <script>\n",
              "        const buttonEl =\n",
              "          document.querySelector('#df-b14fae28-a681-4f7b-8b66-802558382a7a button.colab-df-convert');\n",
              "        buttonEl.style.display =\n",
              "          google.colab.kernel.accessAllowed ? 'block' : 'none';\n",
              "\n",
              "        async function convertToInteractive(key) {\n",
              "          const element = document.querySelector('#df-b14fae28-a681-4f7b-8b66-802558382a7a');\n",
              "          const dataTable =\n",
              "            await google.colab.kernel.invokeFunction('convertToInteractive',\n",
              "                                                     [key], {});\n",
              "          if (!dataTable) return;\n",
              "\n",
              "          const docLinkHtml = 'Like what you see? Visit the ' +\n",
              "            '<a target=\"_blank\" href=https://colab.research.google.com/notebooks/data_table.ipynb>data table notebook</a>'\n",
              "            + ' to learn more about interactive tables.';\n",
              "          element.innerHTML = '';\n",
              "          dataTable['output_type'] = 'display_data';\n",
              "          await google.colab.output.renderOutput(dataTable, element);\n",
              "          const docLink = document.createElement('div');\n",
              "          docLink.innerHTML = docLinkHtml;\n",
              "          element.appendChild(docLink);\n",
              "        }\n",
              "      </script>\n",
              "    </div>\n",
              "  </div>\n",
              "  "
            ]
          },
          "metadata": {},
          "execution_count": 74
        }
      ]
    },
    {
      "cell_type": "code",
      "source": [
        "x_overview_df"
      ],
      "metadata": {
        "colab": {
          "base_uri": "https://localhost:8080/",
          "height": 424
        },
        "id": "u4rUzMP89cKE",
        "outputId": "1718397b-ac3b-487d-ecab-c4094c02fee7"
      },
      "execution_count": null,
      "outputs": [
        {
          "output_type": "execute_result",
          "data": {
            "text/plain": [
              "        0    1       2    3    4             5             6\n",
              "0    34.0  0.0  26.410  1.0  0.0   6352.493762   5353.367164\n",
              "1    40.0  1.0  29.355  1.0  0.0   7254.907080   6363.826033\n",
              "2    53.0  0.0  26.700  2.0  0.0  11386.622382  11131.351056\n",
              "3    37.0  0.0  30.800  2.0  0.0   7590.024699   6283.807894\n",
              "4    58.0  1.0  28.595  0.0  0.0  11104.697938  11717.722895\n",
              "..    ...  ...     ...  ...  ...           ...           ...\n",
              "301  31.0  1.0  39.490  1.0  0.0   5209.923129   3840.479463\n",
              "302  43.0  1.0  26.030  0.0  0.0   7471.219047   6808.556623\n",
              "303  41.0  1.0  34.200  2.0  0.0   8017.197858   7233.852077\n",
              "304  57.0  0.0  38.000  2.0  0.0  12478.409219  12630.031117\n",
              "305  50.0  1.0  25.300  0.0  0.0   9144.541329   8417.346992\n",
              "\n",
              "[306 rows x 7 columns]"
            ],
            "text/html": [
              "\n",
              "  <div id=\"df-52964666-d203-42a1-8430-56eba8f4a3b6\">\n",
              "    <div class=\"colab-df-container\">\n",
              "      <div>\n",
              "<style scoped>\n",
              "    .dataframe tbody tr th:only-of-type {\n",
              "        vertical-align: middle;\n",
              "    }\n",
              "\n",
              "    .dataframe tbody tr th {\n",
              "        vertical-align: top;\n",
              "    }\n",
              "\n",
              "    .dataframe thead th {\n",
              "        text-align: right;\n",
              "    }\n",
              "</style>\n",
              "<table border=\"1\" class=\"dataframe\">\n",
              "  <thead>\n",
              "    <tr style=\"text-align: right;\">\n",
              "      <th></th>\n",
              "      <th>0</th>\n",
              "      <th>1</th>\n",
              "      <th>2</th>\n",
              "      <th>3</th>\n",
              "      <th>4</th>\n",
              "      <th>5</th>\n",
              "      <th>6</th>\n",
              "    </tr>\n",
              "  </thead>\n",
              "  <tbody>\n",
              "    <tr>\n",
              "      <th>0</th>\n",
              "      <td>34.0</td>\n",
              "      <td>0.0</td>\n",
              "      <td>26.410</td>\n",
              "      <td>1.0</td>\n",
              "      <td>0.0</td>\n",
              "      <td>6352.493762</td>\n",
              "      <td>5353.367164</td>\n",
              "    </tr>\n",
              "    <tr>\n",
              "      <th>1</th>\n",
              "      <td>40.0</td>\n",
              "      <td>1.0</td>\n",
              "      <td>29.355</td>\n",
              "      <td>1.0</td>\n",
              "      <td>0.0</td>\n",
              "      <td>7254.907080</td>\n",
              "      <td>6363.826033</td>\n",
              "    </tr>\n",
              "    <tr>\n",
              "      <th>2</th>\n",
              "      <td>53.0</td>\n",
              "      <td>0.0</td>\n",
              "      <td>26.700</td>\n",
              "      <td>2.0</td>\n",
              "      <td>0.0</td>\n",
              "      <td>11386.622382</td>\n",
              "      <td>11131.351056</td>\n",
              "    </tr>\n",
              "    <tr>\n",
              "      <th>3</th>\n",
              "      <td>37.0</td>\n",
              "      <td>0.0</td>\n",
              "      <td>30.800</td>\n",
              "      <td>2.0</td>\n",
              "      <td>0.0</td>\n",
              "      <td>7590.024699</td>\n",
              "      <td>6283.807894</td>\n",
              "    </tr>\n",
              "    <tr>\n",
              "      <th>4</th>\n",
              "      <td>58.0</td>\n",
              "      <td>1.0</td>\n",
              "      <td>28.595</td>\n",
              "      <td>0.0</td>\n",
              "      <td>0.0</td>\n",
              "      <td>11104.697938</td>\n",
              "      <td>11717.722895</td>\n",
              "    </tr>\n",
              "    <tr>\n",
              "      <th>...</th>\n",
              "      <td>...</td>\n",
              "      <td>...</td>\n",
              "      <td>...</td>\n",
              "      <td>...</td>\n",
              "      <td>...</td>\n",
              "      <td>...</td>\n",
              "      <td>...</td>\n",
              "    </tr>\n",
              "    <tr>\n",
              "      <th>301</th>\n",
              "      <td>31.0</td>\n",
              "      <td>1.0</td>\n",
              "      <td>39.490</td>\n",
              "      <td>1.0</td>\n",
              "      <td>0.0</td>\n",
              "      <td>5209.923129</td>\n",
              "      <td>3840.479463</td>\n",
              "    </tr>\n",
              "    <tr>\n",
              "      <th>302</th>\n",
              "      <td>43.0</td>\n",
              "      <td>1.0</td>\n",
              "      <td>26.030</td>\n",
              "      <td>0.0</td>\n",
              "      <td>0.0</td>\n",
              "      <td>7471.219047</td>\n",
              "      <td>6808.556623</td>\n",
              "    </tr>\n",
              "    <tr>\n",
              "      <th>303</th>\n",
              "      <td>41.0</td>\n",
              "      <td>1.0</td>\n",
              "      <td>34.200</td>\n",
              "      <td>2.0</td>\n",
              "      <td>0.0</td>\n",
              "      <td>8017.197858</td>\n",
              "      <td>7233.852077</td>\n",
              "    </tr>\n",
              "    <tr>\n",
              "      <th>304</th>\n",
              "      <td>57.0</td>\n",
              "      <td>0.0</td>\n",
              "      <td>38.000</td>\n",
              "      <td>2.0</td>\n",
              "      <td>0.0</td>\n",
              "      <td>12478.409219</td>\n",
              "      <td>12630.031117</td>\n",
              "    </tr>\n",
              "    <tr>\n",
              "      <th>305</th>\n",
              "      <td>50.0</td>\n",
              "      <td>1.0</td>\n",
              "      <td>25.300</td>\n",
              "      <td>0.0</td>\n",
              "      <td>0.0</td>\n",
              "      <td>9144.541329</td>\n",
              "      <td>8417.346992</td>\n",
              "    </tr>\n",
              "  </tbody>\n",
              "</table>\n",
              "<p>306 rows × 7 columns</p>\n",
              "</div>\n",
              "      <button class=\"colab-df-convert\" onclick=\"convertToInteractive('df-52964666-d203-42a1-8430-56eba8f4a3b6')\"\n",
              "              title=\"Convert this dataframe to an interactive table.\"\n",
              "              style=\"display:none;\">\n",
              "        \n",
              "  <svg xmlns=\"http://www.w3.org/2000/svg\" height=\"24px\"viewBox=\"0 0 24 24\"\n",
              "       width=\"24px\">\n",
              "    <path d=\"M0 0h24v24H0V0z\" fill=\"none\"/>\n",
              "    <path d=\"M18.56 5.44l.94 2.06.94-2.06 2.06-.94-2.06-.94-.94-2.06-.94 2.06-2.06.94zm-11 1L8.5 8.5l.94-2.06 2.06-.94-2.06-.94L8.5 2.5l-.94 2.06-2.06.94zm10 10l.94 2.06.94-2.06 2.06-.94-2.06-.94-.94-2.06-.94 2.06-2.06.94z\"/><path d=\"M17.41 7.96l-1.37-1.37c-.4-.4-.92-.59-1.43-.59-.52 0-1.04.2-1.43.59L10.3 9.45l-7.72 7.72c-.78.78-.78 2.05 0 2.83L4 21.41c.39.39.9.59 1.41.59.51 0 1.02-.2 1.41-.59l7.78-7.78 2.81-2.81c.8-.78.8-2.07 0-2.86zM5.41 20L4 18.59l7.72-7.72 1.47 1.35L5.41 20z\"/>\n",
              "  </svg>\n",
              "      </button>\n",
              "      \n",
              "  <style>\n",
              "    .colab-df-container {\n",
              "      display:flex;\n",
              "      flex-wrap:wrap;\n",
              "      gap: 12px;\n",
              "    }\n",
              "\n",
              "    .colab-df-convert {\n",
              "      background-color: #E8F0FE;\n",
              "      border: none;\n",
              "      border-radius: 50%;\n",
              "      cursor: pointer;\n",
              "      display: none;\n",
              "      fill: #1967D2;\n",
              "      height: 32px;\n",
              "      padding: 0 0 0 0;\n",
              "      width: 32px;\n",
              "    }\n",
              "\n",
              "    .colab-df-convert:hover {\n",
              "      background-color: #E2EBFA;\n",
              "      box-shadow: 0px 1px 2px rgba(60, 64, 67, 0.3), 0px 1px 3px 1px rgba(60, 64, 67, 0.15);\n",
              "      fill: #174EA6;\n",
              "    }\n",
              "\n",
              "    [theme=dark] .colab-df-convert {\n",
              "      background-color: #3B4455;\n",
              "      fill: #D2E3FC;\n",
              "    }\n",
              "\n",
              "    [theme=dark] .colab-df-convert:hover {\n",
              "      background-color: #434B5C;\n",
              "      box-shadow: 0px 1px 3px 1px rgba(0, 0, 0, 0.15);\n",
              "      filter: drop-shadow(0px 1px 2px rgba(0, 0, 0, 0.3));\n",
              "      fill: #FFFFFF;\n",
              "    }\n",
              "  </style>\n",
              "\n",
              "      <script>\n",
              "        const buttonEl =\n",
              "          document.querySelector('#df-52964666-d203-42a1-8430-56eba8f4a3b6 button.colab-df-convert');\n",
              "        buttonEl.style.display =\n",
              "          google.colab.kernel.accessAllowed ? 'block' : 'none';\n",
              "\n",
              "        async function convertToInteractive(key) {\n",
              "          const element = document.querySelector('#df-52964666-d203-42a1-8430-56eba8f4a3b6');\n",
              "          const dataTable =\n",
              "            await google.colab.kernel.invokeFunction('convertToInteractive',\n",
              "                                                     [key], {});\n",
              "          if (!dataTable) return;\n",
              "\n",
              "          const docLinkHtml = 'Like what you see? Visit the ' +\n",
              "            '<a target=\"_blank\" href=https://colab.research.google.com/notebooks/data_table.ipynb>data table notebook</a>'\n",
              "            + ' to learn more about interactive tables.';\n",
              "          element.innerHTML = '';\n",
              "          dataTable['output_type'] = 'display_data';\n",
              "          await google.colab.output.renderOutput(dataTable, element);\n",
              "          const docLink = document.createElement('div');\n",
              "          docLink.innerHTML = docLinkHtml;\n",
              "          element.appendChild(docLink);\n",
              "        }\n",
              "      </script>\n",
              "    </div>\n",
              "  </div>\n",
              "  "
            ]
          },
          "metadata": {},
          "execution_count": 75
        }
      ]
    },
    {
      "cell_type": "code",
      "source": [
        "x_overview_df.rename(columns = {0:'age', 1:'sex',\n",
        "                              2:'bmi', 3: 'children', 4:  'smoker', 5 : 'predicted_charges', 6: 'charges'}, inplace = True)\n",
        "   "
      ],
      "metadata": {
        "id": "gMeiZsMd-V8k"
      },
      "execution_count": null,
      "outputs": []
    },
    {
      "cell_type": "code",
      "source": [
        "x_overview_df"
      ],
      "metadata": {
        "colab": {
          "base_uri": "https://localhost:8080/",
          "height": 424
        },
        "id": "Vrwig9A5-z8e",
        "outputId": "2f95a9c4-5068-4672-825b-ecc6f05ff7ab"
      },
      "execution_count": null,
      "outputs": [
        {
          "output_type": "execute_result",
          "data": {
            "text/plain": [
              "      age  sex     bmi  children  smoker  predicted_charges       charges\n",
              "0    34.0  0.0  26.410       1.0     0.0        6352.493762   5353.367164\n",
              "1    40.0  1.0  29.355       1.0     0.0        7254.907080   6363.826033\n",
              "2    53.0  0.0  26.700       2.0     0.0       11386.622382  11131.351056\n",
              "3    37.0  0.0  30.800       2.0     0.0        7590.024699   6283.807894\n",
              "4    58.0  1.0  28.595       0.0     0.0       11104.697938  11717.722895\n",
              "..    ...  ...     ...       ...     ...                ...           ...\n",
              "301  31.0  1.0  39.490       1.0     0.0        5209.923129   3840.479463\n",
              "302  43.0  1.0  26.030       0.0     0.0        7471.219047   6808.556623\n",
              "303  41.0  1.0  34.200       2.0     0.0        8017.197858   7233.852077\n",
              "304  57.0  0.0  38.000       2.0     0.0       12478.409219  12630.031117\n",
              "305  50.0  1.0  25.300       0.0     0.0        9144.541329   8417.346992\n",
              "\n",
              "[306 rows x 7 columns]"
            ],
            "text/html": [
              "\n",
              "  <div id=\"df-53ff751f-5ed7-4e96-8875-6fd2c3b67ab9\">\n",
              "    <div class=\"colab-df-container\">\n",
              "      <div>\n",
              "<style scoped>\n",
              "    .dataframe tbody tr th:only-of-type {\n",
              "        vertical-align: middle;\n",
              "    }\n",
              "\n",
              "    .dataframe tbody tr th {\n",
              "        vertical-align: top;\n",
              "    }\n",
              "\n",
              "    .dataframe thead th {\n",
              "        text-align: right;\n",
              "    }\n",
              "</style>\n",
              "<table border=\"1\" class=\"dataframe\">\n",
              "  <thead>\n",
              "    <tr style=\"text-align: right;\">\n",
              "      <th></th>\n",
              "      <th>age</th>\n",
              "      <th>sex</th>\n",
              "      <th>bmi</th>\n",
              "      <th>children</th>\n",
              "      <th>smoker</th>\n",
              "      <th>predicted_charges</th>\n",
              "      <th>charges</th>\n",
              "    </tr>\n",
              "  </thead>\n",
              "  <tbody>\n",
              "    <tr>\n",
              "      <th>0</th>\n",
              "      <td>34.0</td>\n",
              "      <td>0.0</td>\n",
              "      <td>26.410</td>\n",
              "      <td>1.0</td>\n",
              "      <td>0.0</td>\n",
              "      <td>6352.493762</td>\n",
              "      <td>5353.367164</td>\n",
              "    </tr>\n",
              "    <tr>\n",
              "      <th>1</th>\n",
              "      <td>40.0</td>\n",
              "      <td>1.0</td>\n",
              "      <td>29.355</td>\n",
              "      <td>1.0</td>\n",
              "      <td>0.0</td>\n",
              "      <td>7254.907080</td>\n",
              "      <td>6363.826033</td>\n",
              "    </tr>\n",
              "    <tr>\n",
              "      <th>2</th>\n",
              "      <td>53.0</td>\n",
              "      <td>0.0</td>\n",
              "      <td>26.700</td>\n",
              "      <td>2.0</td>\n",
              "      <td>0.0</td>\n",
              "      <td>11386.622382</td>\n",
              "      <td>11131.351056</td>\n",
              "    </tr>\n",
              "    <tr>\n",
              "      <th>3</th>\n",
              "      <td>37.0</td>\n",
              "      <td>0.0</td>\n",
              "      <td>30.800</td>\n",
              "      <td>2.0</td>\n",
              "      <td>0.0</td>\n",
              "      <td>7590.024699</td>\n",
              "      <td>6283.807894</td>\n",
              "    </tr>\n",
              "    <tr>\n",
              "      <th>4</th>\n",
              "      <td>58.0</td>\n",
              "      <td>1.0</td>\n",
              "      <td>28.595</td>\n",
              "      <td>0.0</td>\n",
              "      <td>0.0</td>\n",
              "      <td>11104.697938</td>\n",
              "      <td>11717.722895</td>\n",
              "    </tr>\n",
              "    <tr>\n",
              "      <th>...</th>\n",
              "      <td>...</td>\n",
              "      <td>...</td>\n",
              "      <td>...</td>\n",
              "      <td>...</td>\n",
              "      <td>...</td>\n",
              "      <td>...</td>\n",
              "      <td>...</td>\n",
              "    </tr>\n",
              "    <tr>\n",
              "      <th>301</th>\n",
              "      <td>31.0</td>\n",
              "      <td>1.0</td>\n",
              "      <td>39.490</td>\n",
              "      <td>1.0</td>\n",
              "      <td>0.0</td>\n",
              "      <td>5209.923129</td>\n",
              "      <td>3840.479463</td>\n",
              "    </tr>\n",
              "    <tr>\n",
              "      <th>302</th>\n",
              "      <td>43.0</td>\n",
              "      <td>1.0</td>\n",
              "      <td>26.030</td>\n",
              "      <td>0.0</td>\n",
              "      <td>0.0</td>\n",
              "      <td>7471.219047</td>\n",
              "      <td>6808.556623</td>\n",
              "    </tr>\n",
              "    <tr>\n",
              "      <th>303</th>\n",
              "      <td>41.0</td>\n",
              "      <td>1.0</td>\n",
              "      <td>34.200</td>\n",
              "      <td>2.0</td>\n",
              "      <td>0.0</td>\n",
              "      <td>8017.197858</td>\n",
              "      <td>7233.852077</td>\n",
              "    </tr>\n",
              "    <tr>\n",
              "      <th>304</th>\n",
              "      <td>57.0</td>\n",
              "      <td>0.0</td>\n",
              "      <td>38.000</td>\n",
              "      <td>2.0</td>\n",
              "      <td>0.0</td>\n",
              "      <td>12478.409219</td>\n",
              "      <td>12630.031117</td>\n",
              "    </tr>\n",
              "    <tr>\n",
              "      <th>305</th>\n",
              "      <td>50.0</td>\n",
              "      <td>1.0</td>\n",
              "      <td>25.300</td>\n",
              "      <td>0.0</td>\n",
              "      <td>0.0</td>\n",
              "      <td>9144.541329</td>\n",
              "      <td>8417.346992</td>\n",
              "    </tr>\n",
              "  </tbody>\n",
              "</table>\n",
              "<p>306 rows × 7 columns</p>\n",
              "</div>\n",
              "      <button class=\"colab-df-convert\" onclick=\"convertToInteractive('df-53ff751f-5ed7-4e96-8875-6fd2c3b67ab9')\"\n",
              "              title=\"Convert this dataframe to an interactive table.\"\n",
              "              style=\"display:none;\">\n",
              "        \n",
              "  <svg xmlns=\"http://www.w3.org/2000/svg\" height=\"24px\"viewBox=\"0 0 24 24\"\n",
              "       width=\"24px\">\n",
              "    <path d=\"M0 0h24v24H0V0z\" fill=\"none\"/>\n",
              "    <path d=\"M18.56 5.44l.94 2.06.94-2.06 2.06-.94-2.06-.94-.94-2.06-.94 2.06-2.06.94zm-11 1L8.5 8.5l.94-2.06 2.06-.94-2.06-.94L8.5 2.5l-.94 2.06-2.06.94zm10 10l.94 2.06.94-2.06 2.06-.94-2.06-.94-.94-2.06-.94 2.06-2.06.94z\"/><path d=\"M17.41 7.96l-1.37-1.37c-.4-.4-.92-.59-1.43-.59-.52 0-1.04.2-1.43.59L10.3 9.45l-7.72 7.72c-.78.78-.78 2.05 0 2.83L4 21.41c.39.39.9.59 1.41.59.51 0 1.02-.2 1.41-.59l7.78-7.78 2.81-2.81c.8-.78.8-2.07 0-2.86zM5.41 20L4 18.59l7.72-7.72 1.47 1.35L5.41 20z\"/>\n",
              "  </svg>\n",
              "      </button>\n",
              "      \n",
              "  <style>\n",
              "    .colab-df-container {\n",
              "      display:flex;\n",
              "      flex-wrap:wrap;\n",
              "      gap: 12px;\n",
              "    }\n",
              "\n",
              "    .colab-df-convert {\n",
              "      background-color: #E8F0FE;\n",
              "      border: none;\n",
              "      border-radius: 50%;\n",
              "      cursor: pointer;\n",
              "      display: none;\n",
              "      fill: #1967D2;\n",
              "      height: 32px;\n",
              "      padding: 0 0 0 0;\n",
              "      width: 32px;\n",
              "    }\n",
              "\n",
              "    .colab-df-convert:hover {\n",
              "      background-color: #E2EBFA;\n",
              "      box-shadow: 0px 1px 2px rgba(60, 64, 67, 0.3), 0px 1px 3px 1px rgba(60, 64, 67, 0.15);\n",
              "      fill: #174EA6;\n",
              "    }\n",
              "\n",
              "    [theme=dark] .colab-df-convert {\n",
              "      background-color: #3B4455;\n",
              "      fill: #D2E3FC;\n",
              "    }\n",
              "\n",
              "    [theme=dark] .colab-df-convert:hover {\n",
              "      background-color: #434B5C;\n",
              "      box-shadow: 0px 1px 3px 1px rgba(0, 0, 0, 0.15);\n",
              "      filter: drop-shadow(0px 1px 2px rgba(0, 0, 0, 0.3));\n",
              "      fill: #FFFFFF;\n",
              "    }\n",
              "  </style>\n",
              "\n",
              "      <script>\n",
              "        const buttonEl =\n",
              "          document.querySelector('#df-53ff751f-5ed7-4e96-8875-6fd2c3b67ab9 button.colab-df-convert');\n",
              "        buttonEl.style.display =\n",
              "          google.colab.kernel.accessAllowed ? 'block' : 'none';\n",
              "\n",
              "        async function convertToInteractive(key) {\n",
              "          const element = document.querySelector('#df-53ff751f-5ed7-4e96-8875-6fd2c3b67ab9');\n",
              "          const dataTable =\n",
              "            await google.colab.kernel.invokeFunction('convertToInteractive',\n",
              "                                                     [key], {});\n",
              "          if (!dataTable) return;\n",
              "\n",
              "          const docLinkHtml = 'Like what you see? Visit the ' +\n",
              "            '<a target=\"_blank\" href=https://colab.research.google.com/notebooks/data_table.ipynb>data table notebook</a>'\n",
              "            + ' to learn more about interactive tables.';\n",
              "          element.innerHTML = '';\n",
              "          dataTable['output_type'] = 'display_data';\n",
              "          await google.colab.output.renderOutput(dataTable, element);\n",
              "          const docLink = document.createElement('div');\n",
              "          docLink.innerHTML = docLinkHtml;\n",
              "          element.appendChild(docLink);\n",
              "        }\n",
              "      </script>\n",
              "    </div>\n",
              "  </div>\n",
              "  "
            ]
          },
          "metadata": {},
          "execution_count": 77
        }
      ]
    },
    {
      "cell_type": "code",
      "source": [
        "# importing package\n",
        "import matplotlib.pyplot as plt\n",
        "plt.figure(figsize=(15,7))\n",
        "a = []\n",
        "for x in range(len(X_test)):\n",
        "   a.append(x)\n",
        "plt.plot(a, y_testish[:,0], label = \"Prediksi Harga Medis\")\n",
        "plt.plot(a, y_testish[:,1], label = \"Nilai Aktual Harga Medis\")\n",
        "plt.xlabel(\"Indeks Data Testing\")\n",
        "plt.ylabel(\"Harga Medis\")\n",
        "plt.legend()\n",
        "plt.show()"
      ],
      "metadata": {
        "id": "4MgjGaht-1tn",
        "colab": {
          "base_uri": "https://localhost:8080/",
          "height": 314
        },
        "outputId": "75956fa6-a579-43d8-8625-5d1c9965edc3"
      },
      "execution_count": null,
      "outputs": [
        {
          "output_type": "display_data",
          "data": {
            "text/plain": [
              "<Figure size 1080x504 with 1 Axes>"
            ],
            "image/png": "[encoded data removed]"
          },
          "metadata": {}
        }
      ]
    },
    {
      "cell_type": "code",
      "source": [],
      "metadata": {
        "id": "qohceP4TPmSn"
      },
      "execution_count": null,
      "outputs": []
    }
  ]
}