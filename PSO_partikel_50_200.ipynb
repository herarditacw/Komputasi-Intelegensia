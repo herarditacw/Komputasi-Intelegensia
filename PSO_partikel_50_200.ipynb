{
  "nbformat": 4,
  "nbformat_minor": 0,
  "metadata": {
    "colab": {
      "provenance": []
    },
    "kernelspec": {
      "name": "python3",
      "display_name": "Python 3"
    },
    "language_info": {
      "name": "python"
    }
  },
  "cells": [
    {
      "cell_type": "code",
      "source": [
        "!pip install pyswarms"
      ],
      "metadata": {
        "colab": {
          "base_uri": "https://localhost:8080/"
        },
        "id": "Z84jcFvJx9Fd",
        "outputId": "d58f0423-b7bb-42eb-c63c-b09cedf4bb75"
      },
      "execution_count": null,
      "outputs": [
        {
          "output_type": "stream",
          "name": "stdout",
          "text": [
            "Looking in indexes: https://pypi.org/simple, https://us-python.pkg.dev/colab-wheels/public/simple/\n",
            "Collecting pyswarms\n",
            "  Downloading pyswarms-1.3.0-py2.py3-none-any.whl (104 kB)\n",
            "\u001b[K     |████████████████████████████████| 104 kB 9.1 MB/s \n",
            "\u001b[?25hRequirement already satisfied: pyyaml in /usr/local/lib/python3.8/dist-packages (from pyswarms) (6.0)\n",
            "Requirement already satisfied: scipy in /usr/local/lib/python3.8/dist-packages (from pyswarms) (1.7.3)\n",
            "Requirement already satisfied: matplotlib>=1.3.1 in /usr/local/lib/python3.8/dist-packages (from pyswarms) (3.2.2)\n",
            "Requirement already satisfied: numpy in /usr/local/lib/python3.8/dist-packages (from pyswarms) (1.21.6)\n",
            "Requirement already satisfied: attrs in /usr/local/lib/python3.8/dist-packages (from pyswarms) (22.1.0)\n",
            "Requirement already satisfied: future in /usr/local/lib/python3.8/dist-packages (from pyswarms) (0.16.0)\n",
            "Requirement already satisfied: tqdm in /usr/local/lib/python3.8/dist-packages (from pyswarms) (4.64.1)\n",
            "Requirement already satisfied: pyparsing!=2.0.4,!=2.1.2,!=2.1.6,>=2.0.1 in /usr/local/lib/python3.8/dist-packages (from matplotlib>=1.3.1->pyswarms) (3.0.9)\n",
            "Requirement already satisfied: cycler>=0.10 in /usr/local/lib/python3.8/dist-packages (from matplotlib>=1.3.1->pyswarms) (0.11.0)\n",
            "Requirement already satisfied: kiwisolver>=1.0.1 in /usr/local/lib/python3.8/dist-packages (from matplotlib>=1.3.1->pyswarms) (1.4.4)\n",
            "Requirement already satisfied: python-dateutil>=2.1 in /usr/local/lib/python3.8/dist-packages (from matplotlib>=1.3.1->pyswarms) (2.8.2)\n",
            "Requirement already satisfied: six>=1.5 in /usr/local/lib/python3.8/dist-packages (from python-dateutil>=2.1->matplotlib>=1.3.1->pyswarms) (1.15.0)\n",
            "Installing collected packages: pyswarms\n",
            "Successfully installed pyswarms-1.3.0\n"
          ]
        }
      ]
    },
    {
      "cell_type": "code",
      "source": [
        "#First step :- Load libraries\n",
        "from keras.models import Sequential\n",
        "from keras.layers import Dense      #neural net layers\n",
        "import pandas as pd                  \n",
        "from sklearn.model_selection import train_test_split   #to spit dataset into train,validation,test \n",
        "import matplotlib.pyplot as plt\n",
        "import numpy as np\n",
        "import pyswarms as ps\n",
        "from sklearn.metrics import mean_squared_error\n",
        "from scipy import stats\n",
        "import seaborn as sns\n"
      ],
      "metadata": {
        "id": "3FPzHNDSwWcW"
      },
      "execution_count": null,
      "outputs": []
    },
    {
      "cell_type": "code",
      "execution_count": null,
      "metadata": {
        "colab": {
          "base_uri": "https://localhost:8080/",
          "height": 206
        },
        "id": "T_NthWDHwDkM",
        "outputId": "d41a89ef-54ee-489f-c7f0-1054f8d13cbd"
      },
      "outputs": [
        {
          "output_type": "execute_result",
          "data": {
            "text/plain": [
              "   age     sex     bmi  children smoker     region      charges\n",
              "0   19  female  27.900         0    yes  southwest  16884.92400\n",
              "1   18    male  33.770         1     no  southeast   1725.55230\n",
              "2   28    male  33.000         3     no  southeast   4449.46200\n",
              "3   33    male  22.705         0     no  northwest  21984.47061\n",
              "4   32    male  28.880         0     no  northwest   3866.85520"
            ],
            "text/html": [
              "\n",
              "  <div id=\"df-9f798e26-c4cc-47ff-b5fe-9f9df6c99ac9\">\n",
              "    <div class=\"colab-df-container\">\n",
              "      <div>\n",
              "<style scoped>\n",
              "    .dataframe tbody tr th:only-of-type {\n",
              "        vertical-align: middle;\n",
              "    }\n",
              "\n",
              "    .dataframe tbody tr th {\n",
              "        vertical-align: top;\n",
              "    }\n",
              "\n",
              "    .dataframe thead th {\n",
              "        text-align: right;\n",
              "    }\n",
              "</style>\n",
              "<table border=\"1\" class=\"dataframe\">\n",
              "  <thead>\n",
              "    <tr style=\"text-align: right;\">\n",
              "      <th></th>\n",
              "      <th>age</th>\n",
              "      <th>sex</th>\n",
              "      <th>bmi</th>\n",
              "      <th>children</th>\n",
              "      <th>smoker</th>\n",
              "      <th>region</th>\n",
              "      <th>charges</th>\n",
              "    </tr>\n",
              "  </thead>\n",
              "  <tbody>\n",
              "    <tr>\n",
              "      <th>0</th>\n",
              "      <td>19</td>\n",
              "      <td>female</td>\n",
              "      <td>27.900</td>\n",
              "      <td>0</td>\n",
              "      <td>yes</td>\n",
              "      <td>southwest</td>\n",
              "      <td>16884.92400</td>\n",
              "    </tr>\n",
              "    <tr>\n",
              "      <th>1</th>\n",
              "      <td>18</td>\n",
              "      <td>male</td>\n",
              "      <td>33.770</td>\n",
              "      <td>1</td>\n",
              "      <td>no</td>\n",
              "      <td>southeast</td>\n",
              "      <td>1725.55230</td>\n",
              "    </tr>\n",
              "    <tr>\n",
              "      <th>2</th>\n",
              "      <td>28</td>\n",
              "      <td>male</td>\n",
              "      <td>33.000</td>\n",
              "      <td>3</td>\n",
              "      <td>no</td>\n",
              "      <td>southeast</td>\n",
              "      <td>4449.46200</td>\n",
              "    </tr>\n",
              "    <tr>\n",
              "      <th>3</th>\n",
              "      <td>33</td>\n",
              "      <td>male</td>\n",
              "      <td>22.705</td>\n",
              "      <td>0</td>\n",
              "      <td>no</td>\n",
              "      <td>northwest</td>\n",
              "      <td>21984.47061</td>\n",
              "    </tr>\n",
              "    <tr>\n",
              "      <th>4</th>\n",
              "      <td>32</td>\n",
              "      <td>male</td>\n",
              "      <td>28.880</td>\n",
              "      <td>0</td>\n",
              "      <td>no</td>\n",
              "      <td>northwest</td>\n",
              "      <td>3866.85520</td>\n",
              "    </tr>\n",
              "  </tbody>\n",
              "</table>\n",
              "</div>\n",
              "      <button class=\"colab-df-convert\" onclick=\"convertToInteractive('df-9f798e26-c4cc-47ff-b5fe-9f9df6c99ac9')\"\n",
              "              title=\"Convert this dataframe to an interactive table.\"\n",
              "              style=\"display:none;\">\n",
              "        \n",
              "  <svg xmlns=\"http://www.w3.org/2000/svg\" height=\"24px\"viewBox=\"0 0 24 24\"\n",
              "       width=\"24px\">\n",
              "    <path d=\"M0 0h24v24H0V0z\" fill=\"none\"/>\n",
              "    <path d=\"M18.56 5.44l.94 2.06.94-2.06 2.06-.94-2.06-.94-.94-2.06-.94 2.06-2.06.94zm-11 1L8.5 8.5l.94-2.06 2.06-.94-2.06-.94L8.5 2.5l-.94 2.06-2.06.94zm10 10l.94 2.06.94-2.06 2.06-.94-2.06-.94-.94-2.06-.94 2.06-2.06.94z\"/><path d=\"M17.41 7.96l-1.37-1.37c-.4-.4-.92-.59-1.43-.59-.52 0-1.04.2-1.43.59L10.3 9.45l-7.72 7.72c-.78.78-.78 2.05 0 2.83L4 21.41c.39.39.9.59 1.41.59.51 0 1.02-.2 1.41-.59l7.78-7.78 2.81-2.81c.8-.78.8-2.07 0-2.86zM5.41 20L4 18.59l7.72-7.72 1.47 1.35L5.41 20z\"/>\n",
              "  </svg>\n",
              "      </button>\n",
              "      \n",
              "  <style>\n",
              "    .colab-df-container {\n",
              "      display:flex;\n",
              "      flex-wrap:wrap;\n",
              "      gap: 12px;\n",
              "    }\n",
              "\n",
              "    .colab-df-convert {\n",
              "      background-color: #E8F0FE;\n",
              "      border: none;\n",
              "      border-radius: 50%;\n",
              "      cursor: pointer;\n",
              "      display: none;\n",
              "      fill: #1967D2;\n",
              "      height: 32px;\n",
              "      padding: 0 0 0 0;\n",
              "      width: 32px;\n",
              "    }\n",
              "\n",
              "    .colab-df-convert:hover {\n",
              "      background-color: #E2EBFA;\n",
              "      box-shadow: 0px 1px 2px rgba(60, 64, 67, 0.3), 0px 1px 3px 1px rgba(60, 64, 67, 0.15);\n",
              "      fill: #174EA6;\n",
              "    }\n",
              "\n",
              "    [theme=dark] .colab-df-convert {\n",
              "      background-color: #3B4455;\n",
              "      fill: #D2E3FC;\n",
              "    }\n",
              "\n",
              "    [theme=dark] .colab-df-convert:hover {\n",
              "      background-color: #434B5C;\n",
              "      box-shadow: 0px 1px 3px 1px rgba(0, 0, 0, 0.15);\n",
              "      filter: drop-shadow(0px 1px 2px rgba(0, 0, 0, 0.3));\n",
              "      fill: #FFFFFF;\n",
              "    }\n",
              "  </style>\n",
              "\n",
              "      <script>\n",
              "        const buttonEl =\n",
              "          document.querySelector('#df-9f798e26-c4cc-47ff-b5fe-9f9df6c99ac9 button.colab-df-convert');\n",
              "        buttonEl.style.display =\n",
              "          google.colab.kernel.accessAllowed ? 'block' : 'none';\n",
              "\n",
              "        async function convertToInteractive(key) {\n",
              "          const element = document.querySelector('#df-9f798e26-c4cc-47ff-b5fe-9f9df6c99ac9');\n",
              "          const dataTable =\n",
              "            await google.colab.kernel.invokeFunction('convertToInteractive',\n",
              "                                                     [key], {});\n",
              "          if (!dataTable) return;\n",
              "\n",
              "          const docLinkHtml = 'Like what you see? Visit the ' +\n",
              "            '<a target=\"_blank\" href=https://colab.research.google.com/notebooks/data_table.ipynb>data table notebook</a>'\n",
              "            + ' to learn more about interactive tables.';\n",
              "          element.innerHTML = '';\n",
              "          dataTable['output_type'] = 'display_data';\n",
              "          await google.colab.output.renderOutput(dataTable, element);\n",
              "          const docLink = document.createElement('div');\n",
              "          docLink.innerHTML = docLinkHtml;\n",
              "          element.appendChild(docLink);\n",
              "        }\n",
              "      </script>\n",
              "    </div>\n",
              "  </div>\n",
              "  "
            ]
          },
          "metadata": {},
          "execution_count": 3
        }
      ],
      "source": [
        "Medic= pd.read_csv('Data Medical Cost_Regresi.csv')\n",
        "Medic.head()"
      ]
    },
    {
      "cell_type": "code",
      "source": [
        "Medic.describe()"
      ],
      "metadata": {
        "colab": {
          "base_uri": "https://localhost:8080/",
          "height": 300
        },
        "id": "8ufE-yRdlIln",
        "outputId": "2490d2a8-0c3f-413b-cb7b-8c79a96e6a8d"
      },
      "execution_count": null,
      "outputs": [
        {
          "output_type": "execute_result",
          "data": {
            "text/plain": [
              "               age          bmi     children       charges\n",
              "count  1338.000000  1338.000000  1338.000000   1338.000000\n",
              "mean     39.207025    30.663397     1.094918  13270.422265\n",
              "std      14.049960     6.098187     1.205493  12110.011237\n",
              "min      18.000000    15.960000     0.000000   1121.873900\n",
              "25%      27.000000    26.296250     0.000000   4740.287150\n",
              "50%      39.000000    30.400000     1.000000   9382.033000\n",
              "75%      51.000000    34.693750     2.000000  16639.912515\n",
              "max      64.000000    53.130000     5.000000  63770.428010"
            ],
            "text/html": [
              "\n",
              "  <div id=\"df-51b0a8bf-4fbe-4612-8613-e46910879ca7\">\n",
              "    <div class=\"colab-df-container\">\n",
              "      <div>\n",
              "<style scoped>\n",
              "    .dataframe tbody tr th:only-of-type {\n",
              "        vertical-align: middle;\n",
              "    }\n",
              "\n",
              "    .dataframe tbody tr th {\n",
              "        vertical-align: top;\n",
              "    }\n",
              "\n",
              "    .dataframe thead th {\n",
              "        text-align: right;\n",
              "    }\n",
              "</style>\n",
              "<table border=\"1\" class=\"dataframe\">\n",
              "  <thead>\n",
              "    <tr style=\"text-align: right;\">\n",
              "      <th></th>\n",
              "      <th>age</th>\n",
              "      <th>bmi</th>\n",
              "      <th>children</th>\n",
              "      <th>charges</th>\n",
              "    </tr>\n",
              "  </thead>\n",
              "  <tbody>\n",
              "    <tr>\n",
              "      <th>count</th>\n",
              "      <td>1338.000000</td>\n",
              "      <td>1338.000000</td>\n",
              "      <td>1338.000000</td>\n",
              "      <td>1338.000000</td>\n",
              "    </tr>\n",
              "    <tr>\n",
              "      <th>mean</th>\n",
              "      <td>39.207025</td>\n",
              "      <td>30.663397</td>\n",
              "      <td>1.094918</td>\n",
              "      <td>13270.422265</td>\n",
              "    </tr>\n",
              "    <tr>\n",
              "      <th>std</th>\n",
              "      <td>14.049960</td>\n",
              "      <td>6.098187</td>\n",
              "      <td>1.205493</td>\n",
              "      <td>12110.011237</td>\n",
              "    </tr>\n",
              "    <tr>\n",
              "      <th>min</th>\n",
              "      <td>18.000000</td>\n",
              "      <td>15.960000</td>\n",
              "      <td>0.000000</td>\n",
              "      <td>1121.873900</td>\n",
              "    </tr>\n",
              "    <tr>\n",
              "      <th>25%</th>\n",
              "      <td>27.000000</td>\n",
              "      <td>26.296250</td>\n",
              "      <td>0.000000</td>\n",
              "      <td>4740.287150</td>\n",
              "    </tr>\n",
              "    <tr>\n",
              "      <th>50%</th>\n",
              "      <td>39.000000</td>\n",
              "      <td>30.400000</td>\n",
              "      <td>1.000000</td>\n",
              "      <td>9382.033000</td>\n",
              "    </tr>\n",
              "    <tr>\n",
              "      <th>75%</th>\n",
              "      <td>51.000000</td>\n",
              "      <td>34.693750</td>\n",
              "      <td>2.000000</td>\n",
              "      <td>16639.912515</td>\n",
              "    </tr>\n",
              "    <tr>\n",
              "      <th>max</th>\n",
              "      <td>64.000000</td>\n",
              "      <td>53.130000</td>\n",
              "      <td>5.000000</td>\n",
              "      <td>63770.428010</td>\n",
              "    </tr>\n",
              "  </tbody>\n",
              "</table>\n",
              "</div>\n",
              "      <button class=\"colab-df-convert\" onclick=\"convertToInteractive('df-51b0a8bf-4fbe-4612-8613-e46910879ca7')\"\n",
              "              title=\"Convert this dataframe to an interactive table.\"\n",
              "              style=\"display:none;\">\n",
              "        \n",
              "  <svg xmlns=\"http://www.w3.org/2000/svg\" height=\"24px\"viewBox=\"0 0 24 24\"\n",
              "       width=\"24px\">\n",
              "    <path d=\"M0 0h24v24H0V0z\" fill=\"none\"/>\n",
              "    <path d=\"M18.56 5.44l.94 2.06.94-2.06 2.06-.94-2.06-.94-.94-2.06-.94 2.06-2.06.94zm-11 1L8.5 8.5l.94-2.06 2.06-.94-2.06-.94L8.5 2.5l-.94 2.06-2.06.94zm10 10l.94 2.06.94-2.06 2.06-.94-2.06-.94-.94-2.06-.94 2.06-2.06.94z\"/><path d=\"M17.41 7.96l-1.37-1.37c-.4-.4-.92-.59-1.43-.59-.52 0-1.04.2-1.43.59L10.3 9.45l-7.72 7.72c-.78.78-.78 2.05 0 2.83L4 21.41c.39.39.9.59 1.41.59.51 0 1.02-.2 1.41-.59l7.78-7.78 2.81-2.81c.8-.78.8-2.07 0-2.86zM5.41 20L4 18.59l7.72-7.72 1.47 1.35L5.41 20z\"/>\n",
              "  </svg>\n",
              "      </button>\n",
              "      \n",
              "  <style>\n",
              "    .colab-df-container {\n",
              "      display:flex;\n",
              "      flex-wrap:wrap;\n",
              "      gap: 12px;\n",
              "    }\n",
              "\n",
              "    .colab-df-convert {\n",
              "      background-color: #E8F0FE;\n",
              "      border: none;\n",
              "      border-radius: 50%;\n",
              "      cursor: pointer;\n",
              "      display: none;\n",
              "      fill: #1967D2;\n",
              "      height: 32px;\n",
              "      padding: 0 0 0 0;\n",
              "      width: 32px;\n",
              "    }\n",
              "\n",
              "    .colab-df-convert:hover {\n",
              "      background-color: #E2EBFA;\n",
              "      box-shadow: 0px 1px 2px rgba(60, 64, 67, 0.3), 0px 1px 3px 1px rgba(60, 64, 67, 0.15);\n",
              "      fill: #174EA6;\n",
              "    }\n",
              "\n",
              "    [theme=dark] .colab-df-convert {\n",
              "      background-color: #3B4455;\n",
              "      fill: #D2E3FC;\n",
              "    }\n",
              "\n",
              "    [theme=dark] .colab-df-convert:hover {\n",
              "      background-color: #434B5C;\n",
              "      box-shadow: 0px 1px 3px 1px rgba(0, 0, 0, 0.15);\n",
              "      filter: drop-shadow(0px 1px 2px rgba(0, 0, 0, 0.3));\n",
              "      fill: #FFFFFF;\n",
              "    }\n",
              "  </style>\n",
              "\n",
              "      <script>\n",
              "        const buttonEl =\n",
              "          document.querySelector('#df-51b0a8bf-4fbe-4612-8613-e46910879ca7 button.colab-df-convert');\n",
              "        buttonEl.style.display =\n",
              "          google.colab.kernel.accessAllowed ? 'block' : 'none';\n",
              "\n",
              "        async function convertToInteractive(key) {\n",
              "          const element = document.querySelector('#df-51b0a8bf-4fbe-4612-8613-e46910879ca7');\n",
              "          const dataTable =\n",
              "            await google.colab.kernel.invokeFunction('convertToInteractive',\n",
              "                                                     [key], {});\n",
              "          if (!dataTable) return;\n",
              "\n",
              "          const docLinkHtml = 'Like what you see? Visit the ' +\n",
              "            '<a target=\"_blank\" href=https://colab.research.google.com/notebooks/data_table.ipynb>data table notebook</a>'\n",
              "            + ' to learn more about interactive tables.';\n",
              "          element.innerHTML = '';\n",
              "          dataTable['output_type'] = 'display_data';\n",
              "          await google.colab.output.renderOutput(dataTable, element);\n",
              "          const docLink = document.createElement('div');\n",
              "          docLink.innerHTML = docLinkHtml;\n",
              "          element.appendChild(docLink);\n",
              "        }\n",
              "      </script>\n",
              "    </div>\n",
              "  </div>\n",
              "  "
            ]
          },
          "metadata": {},
          "execution_count": 4
        }
      ]
    },
    {
      "cell_type": "code",
      "source": [
        "from sklearn.preprocessing import LabelEncoder\n",
        "#sex\n",
        "le = LabelEncoder()\n",
        "le.fit(Medic.sex.drop_duplicates()) \n",
        "Medic.sex = le.transform(Medic.sex)\n",
        "# smoker or not\n",
        "le.fit(Medic.smoker.drop_duplicates()) \n",
        "Medic.smoker = le.transform(Medic.smoker)\n",
        "#region\n",
        "le.fit(Medic.region.drop_duplicates()) \n",
        "Medic.region = le.transform(Medic.region)\n",
        "Medic.head()"
      ],
      "metadata": {
        "colab": {
          "base_uri": "https://localhost:8080/",
          "height": 206
        },
        "id": "TvFeWFdfwKJf",
        "outputId": "caa89f78-e436-48e3-cd79-56e24f6153fd"
      },
      "execution_count": null,
      "outputs": [
        {
          "output_type": "execute_result",
          "data": {
            "text/plain": [
              "   age  sex     bmi  children  smoker  region      charges\n",
              "0   19    0  27.900         0       1       3  16884.92400\n",
              "1   18    1  33.770         1       0       2   1725.55230\n",
              "2   28    1  33.000         3       0       2   4449.46200\n",
              "3   33    1  22.705         0       0       1  21984.47061\n",
              "4   32    1  28.880         0       0       1   3866.85520"
            ],
            "text/html": [
              "\n",
              "  <div id=\"df-9b0441c9-f912-485d-a2b9-37c10dff422b\">\n",
              "    <div class=\"colab-df-container\">\n",
              "      <div>\n",
              "<style scoped>\n",
              "    .dataframe tbody tr th:only-of-type {\n",
              "        vertical-align: middle;\n",
              "    }\n",
              "\n",
              "    .dataframe tbody tr th {\n",
              "        vertical-align: top;\n",
              "    }\n",
              "\n",
              "    .dataframe thead th {\n",
              "        text-align: right;\n",
              "    }\n",
              "</style>\n",
              "<table border=\"1\" class=\"dataframe\">\n",
              "  <thead>\n",
              "    <tr style=\"text-align: right;\">\n",
              "      <th></th>\n",
              "      <th>age</th>\n",
              "      <th>sex</th>\n",
              "      <th>bmi</th>\n",
              "      <th>children</th>\n",
              "      <th>smoker</th>\n",
              "      <th>region</th>\n",
              "      <th>charges</th>\n",
              "    </tr>\n",
              "  </thead>\n",
              "  <tbody>\n",
              "    <tr>\n",
              "      <th>0</th>\n",
              "      <td>19</td>\n",
              "      <td>0</td>\n",
              "      <td>27.900</td>\n",
              "      <td>0</td>\n",
              "      <td>1</td>\n",
              "      <td>3</td>\n",
              "      <td>16884.92400</td>\n",
              "    </tr>\n",
              "    <tr>\n",
              "      <th>1</th>\n",
              "      <td>18</td>\n",
              "      <td>1</td>\n",
              "      <td>33.770</td>\n",
              "      <td>1</td>\n",
              "      <td>0</td>\n",
              "      <td>2</td>\n",
              "      <td>1725.55230</td>\n",
              "    </tr>\n",
              "    <tr>\n",
              "      <th>2</th>\n",
              "      <td>28</td>\n",
              "      <td>1</td>\n",
              "      <td>33.000</td>\n",
              "      <td>3</td>\n",
              "      <td>0</td>\n",
              "      <td>2</td>\n",
              "      <td>4449.46200</td>\n",
              "    </tr>\n",
              "    <tr>\n",
              "      <th>3</th>\n",
              "      <td>33</td>\n",
              "      <td>1</td>\n",
              "      <td>22.705</td>\n",
              "      <td>0</td>\n",
              "      <td>0</td>\n",
              "      <td>1</td>\n",
              "      <td>21984.47061</td>\n",
              "    </tr>\n",
              "    <tr>\n",
              "      <th>4</th>\n",
              "      <td>32</td>\n",
              "      <td>1</td>\n",
              "      <td>28.880</td>\n",
              "      <td>0</td>\n",
              "      <td>0</td>\n",
              "      <td>1</td>\n",
              "      <td>3866.85520</td>\n",
              "    </tr>\n",
              "  </tbody>\n",
              "</table>\n",
              "</div>\n",
              "      <button class=\"colab-df-convert\" onclick=\"convertToInteractive('df-9b0441c9-f912-485d-a2b9-37c10dff422b')\"\n",
              "              title=\"Convert this dataframe to an interactive table.\"\n",
              "              style=\"display:none;\">\n",
              "        \n",
              "  <svg xmlns=\"http://www.w3.org/2000/svg\" height=\"24px\"viewBox=\"0 0 24 24\"\n",
              "       width=\"24px\">\n",
              "    <path d=\"M0 0h24v24H0V0z\" fill=\"none\"/>\n",
              "    <path d=\"M18.56 5.44l.94 2.06.94-2.06 2.06-.94-2.06-.94-.94-2.06-.94 2.06-2.06.94zm-11 1L8.5 8.5l.94-2.06 2.06-.94-2.06-.94L8.5 2.5l-.94 2.06-2.06.94zm10 10l.94 2.06.94-2.06 2.06-.94-2.06-.94-.94-2.06-.94 2.06-2.06.94z\"/><path d=\"M17.41 7.96l-1.37-1.37c-.4-.4-.92-.59-1.43-.59-.52 0-1.04.2-1.43.59L10.3 9.45l-7.72 7.72c-.78.78-.78 2.05 0 2.83L4 21.41c.39.39.9.59 1.41.59.51 0 1.02-.2 1.41-.59l7.78-7.78 2.81-2.81c.8-.78.8-2.07 0-2.86zM5.41 20L4 18.59l7.72-7.72 1.47 1.35L5.41 20z\"/>\n",
              "  </svg>\n",
              "      </button>\n",
              "      \n",
              "  <style>\n",
              "    .colab-df-container {\n",
              "      display:flex;\n",
              "      flex-wrap:wrap;\n",
              "      gap: 12px;\n",
              "    }\n",
              "\n",
              "    .colab-df-convert {\n",
              "      background-color: #E8F0FE;\n",
              "      border: none;\n",
              "      border-radius: 50%;\n",
              "      cursor: pointer;\n",
              "      display: none;\n",
              "      fill: #1967D2;\n",
              "      height: 32px;\n",
              "      padding: 0 0 0 0;\n",
              "      width: 32px;\n",
              "    }\n",
              "\n",
              "    .colab-df-convert:hover {\n",
              "      background-color: #E2EBFA;\n",
              "      box-shadow: 0px 1px 2px rgba(60, 64, 67, 0.3), 0px 1px 3px 1px rgba(60, 64, 67, 0.15);\n",
              "      fill: #174EA6;\n",
              "    }\n",
              "\n",
              "    [theme=dark] .colab-df-convert {\n",
              "      background-color: #3B4455;\n",
              "      fill: #D2E3FC;\n",
              "    }\n",
              "\n",
              "    [theme=dark] .colab-df-convert:hover {\n",
              "      background-color: #434B5C;\n",
              "      box-shadow: 0px 1px 3px 1px rgba(0, 0, 0, 0.15);\n",
              "      filter: drop-shadow(0px 1px 2px rgba(0, 0, 0, 0.3));\n",
              "      fill: #FFFFFF;\n",
              "    }\n",
              "  </style>\n",
              "\n",
              "      <script>\n",
              "        const buttonEl =\n",
              "          document.querySelector('#df-9b0441c9-f912-485d-a2b9-37c10dff422b button.colab-df-convert');\n",
              "        buttonEl.style.display =\n",
              "          google.colab.kernel.accessAllowed ? 'block' : 'none';\n",
              "\n",
              "        async function convertToInteractive(key) {\n",
              "          const element = document.querySelector('#df-9b0441c9-f912-485d-a2b9-37c10dff422b');\n",
              "          const dataTable =\n",
              "            await google.colab.kernel.invokeFunction('convertToInteractive',\n",
              "                                                     [key], {});\n",
              "          if (!dataTable) return;\n",
              "\n",
              "          const docLinkHtml = 'Like what you see? Visit the ' +\n",
              "            '<a target=\"_blank\" href=https://colab.research.google.com/notebooks/data_table.ipynb>data table notebook</a>'\n",
              "            + ' to learn more about interactive tables.';\n",
              "          element.innerHTML = '';\n",
              "          dataTable['output_type'] = 'display_data';\n",
              "          await google.colab.output.renderOutput(dataTable, element);\n",
              "          const docLink = document.createElement('div');\n",
              "          docLink.innerHTML = docLinkHtml;\n",
              "          element.appendChild(docLink);\n",
              "        }\n",
              "      </script>\n",
              "    </div>\n",
              "  </div>\n",
              "  "
            ]
          },
          "metadata": {},
          "execution_count": 5
        }
      ]
    },
    {
      "cell_type": "code",
      "source": [
        "Medic.dtypes"
      ],
      "metadata": {
        "colab": {
          "base_uri": "https://localhost:8080/"
        },
        "id": "-0PWOTLudBqs",
        "outputId": "7bd27ff0-e224-4c7d-b4d9-be53c24c7f22"
      },
      "execution_count": null,
      "outputs": [
        {
          "output_type": "execute_result",
          "data": {
            "text/plain": [
              "age           int64\n",
              "sex           int64\n",
              "bmi         float64\n",
              "children      int64\n",
              "smoker        int64\n",
              "region        int64\n",
              "charges     float64\n",
              "dtype: object"
            ]
          },
          "metadata": {},
          "execution_count": 6
        }
      ]
    },
    {
      "cell_type": "code",
      "source": [
        "korelasi = Medic.corr()\n",
        "sns.heatmap(korelasi, annot = True)\n",
        "plt.show()"
      ],
      "metadata": {
        "colab": {
          "base_uri": "https://localhost:8080/",
          "height": 300
        },
        "id": "xImqrNr68YjF",
        "outputId": "27009d7c-a712-4798-91ff-2ee100a81048"
      },
      "execution_count": null,
      "outputs": [
        {
          "output_type": "display_data",
          "data": {
            "text/plain": [
              "<Figure size 432x288 with 2 Axes>"
            ],
            "image/png": "[encoded data removed]"
          },
          "metadata": {
            "needs_background": "light"
          }
        }
      ]
    },
    {
      "cell_type": "code",
      "source": [
        "#Medic = Medic.drop(labels='sex', axis=1)\n",
        "#Medic = Medic.drop(labels='children', axis=1)\n",
        "Medic = Medic.drop(labels='region', axis=1)"
      ],
      "metadata": {
        "id": "b6cxal0bwckk"
      },
      "execution_count": null,
      "outputs": []
    },
    {
      "cell_type": "code",
      "source": [
        "Medic.head()"
      ],
      "metadata": {
        "colab": {
          "base_uri": "https://localhost:8080/",
          "height": 206
        },
        "id": "n52Bz2Tewe3t",
        "outputId": "a5f89cd2-0da3-4ae7-cd98-0b85abc373de"
      },
      "execution_count": null,
      "outputs": [
        {
          "output_type": "execute_result",
          "data": {
            "text/plain": [
              "   age  sex     bmi  children  smoker      charges\n",
              "0   19    0  27.900         0       1  16884.92400\n",
              "1   18    1  33.770         1       0   1725.55230\n",
              "2   28    1  33.000         3       0   4449.46200\n",
              "3   33    1  22.705         0       0  21984.47061\n",
              "4   32    1  28.880         0       0   3866.85520"
            ],
            "text/html": [
              "\n",
              "  <div id=\"df-2f26bc75-d69a-4d39-844e-9dca24988f46\">\n",
              "    <div class=\"colab-df-container\">\n",
              "      <div>\n",
              "<style scoped>\n",
              "    .dataframe tbody tr th:only-of-type {\n",
              "        vertical-align: middle;\n",
              "    }\n",
              "\n",
              "    .dataframe tbody tr th {\n",
              "        vertical-align: top;\n",
              "    }\n",
              "\n",
              "    .dataframe thead th {\n",
              "        text-align: right;\n",
              "    }\n",
              "</style>\n",
              "<table border=\"1\" class=\"dataframe\">\n",
              "  <thead>\n",
              "    <tr style=\"text-align: right;\">\n",
              "      <th></th>\n",
              "      <th>age</th>\n",
              "      <th>sex</th>\n",
              "      <th>bmi</th>\n",
              "      <th>children</th>\n",
              "      <th>smoker</th>\n",
              "      <th>charges</th>\n",
              "    </tr>\n",
              "  </thead>\n",
              "  <tbody>\n",
              "    <tr>\n",
              "      <th>0</th>\n",
              "      <td>19</td>\n",
              "      <td>0</td>\n",
              "      <td>27.900</td>\n",
              "      <td>0</td>\n",
              "      <td>1</td>\n",
              "      <td>16884.92400</td>\n",
              "    </tr>\n",
              "    <tr>\n",
              "      <th>1</th>\n",
              "      <td>18</td>\n",
              "      <td>1</td>\n",
              "      <td>33.770</td>\n",
              "      <td>1</td>\n",
              "      <td>0</td>\n",
              "      <td>1725.55230</td>\n",
              "    </tr>\n",
              "    <tr>\n",
              "      <th>2</th>\n",
              "      <td>28</td>\n",
              "      <td>1</td>\n",
              "      <td>33.000</td>\n",
              "      <td>3</td>\n",
              "      <td>0</td>\n",
              "      <td>4449.46200</td>\n",
              "    </tr>\n",
              "    <tr>\n",
              "      <th>3</th>\n",
              "      <td>33</td>\n",
              "      <td>1</td>\n",
              "      <td>22.705</td>\n",
              "      <td>0</td>\n",
              "      <td>0</td>\n",
              "      <td>21984.47061</td>\n",
              "    </tr>\n",
              "    <tr>\n",
              "      <th>4</th>\n",
              "      <td>32</td>\n",
              "      <td>1</td>\n",
              "      <td>28.880</td>\n",
              "      <td>0</td>\n",
              "      <td>0</td>\n",
              "      <td>3866.85520</td>\n",
              "    </tr>\n",
              "  </tbody>\n",
              "</table>\n",
              "</div>\n",
              "      <button class=\"colab-df-convert\" onclick=\"convertToInteractive('df-2f26bc75-d69a-4d39-844e-9dca24988f46')\"\n",
              "              title=\"Convert this dataframe to an interactive table.\"\n",
              "              style=\"display:none;\">\n",
              "        \n",
              "  <svg xmlns=\"http://www.w3.org/2000/svg\" height=\"24px\"viewBox=\"0 0 24 24\"\n",
              "       width=\"24px\">\n",
              "    <path d=\"M0 0h24v24H0V0z\" fill=\"none\"/>\n",
              "    <path d=\"M18.56 5.44l.94 2.06.94-2.06 2.06-.94-2.06-.94-.94-2.06-.94 2.06-2.06.94zm-11 1L8.5 8.5l.94-2.06 2.06-.94-2.06-.94L8.5 2.5l-.94 2.06-2.06.94zm10 10l.94 2.06.94-2.06 2.06-.94-2.06-.94-.94-2.06-.94 2.06-2.06.94z\"/><path d=\"M17.41 7.96l-1.37-1.37c-.4-.4-.92-.59-1.43-.59-.52 0-1.04.2-1.43.59L10.3 9.45l-7.72 7.72c-.78.78-.78 2.05 0 2.83L4 21.41c.39.39.9.59 1.41.59.51 0 1.02-.2 1.41-.59l7.78-7.78 2.81-2.81c.8-.78.8-2.07 0-2.86zM5.41 20L4 18.59l7.72-7.72 1.47 1.35L5.41 20z\"/>\n",
              "  </svg>\n",
              "      </button>\n",
              "      \n",
              "  <style>\n",
              "    .colab-df-container {\n",
              "      display:flex;\n",
              "      flex-wrap:wrap;\n",
              "      gap: 12px;\n",
              "    }\n",
              "\n",
              "    .colab-df-convert {\n",
              "      background-color: #E8F0FE;\n",
              "      border: none;\n",
              "      border-radius: 50%;\n",
              "      cursor: pointer;\n",
              "      display: none;\n",
              "      fill: #1967D2;\n",
              "      height: 32px;\n",
              "      padding: 0 0 0 0;\n",
              "      width: 32px;\n",
              "    }\n",
              "\n",
              "    .colab-df-convert:hover {\n",
              "      background-color: #E2EBFA;\n",
              "      box-shadow: 0px 1px 2px rgba(60, 64, 67, 0.3), 0px 1px 3px 1px rgba(60, 64, 67, 0.15);\n",
              "      fill: #174EA6;\n",
              "    }\n",
              "\n",
              "    [theme=dark] .colab-df-convert {\n",
              "      background-color: #3B4455;\n",
              "      fill: #D2E3FC;\n",
              "    }\n",
              "\n",
              "    [theme=dark] .colab-df-convert:hover {\n",
              "      background-color: #434B5C;\n",
              "      box-shadow: 0px 1px 3px 1px rgba(0, 0, 0, 0.15);\n",
              "      filter: drop-shadow(0px 1px 2px rgba(0, 0, 0, 0.3));\n",
              "      fill: #FFFFFF;\n",
              "    }\n",
              "  </style>\n",
              "\n",
              "      <script>\n",
              "        const buttonEl =\n",
              "          document.querySelector('#df-2f26bc75-d69a-4d39-844e-9dca24988f46 button.colab-df-convert');\n",
              "        buttonEl.style.display =\n",
              "          google.colab.kernel.accessAllowed ? 'block' : 'none';\n",
              "\n",
              "        async function convertToInteractive(key) {\n",
              "          const element = document.querySelector('#df-2f26bc75-d69a-4d39-844e-9dca24988f46');\n",
              "          const dataTable =\n",
              "            await google.colab.kernel.invokeFunction('convertToInteractive',\n",
              "                                                     [key], {});\n",
              "          if (!dataTable) return;\n",
              "\n",
              "          const docLinkHtml = 'Like what you see? Visit the ' +\n",
              "            '<a target=\"_blank\" href=https://colab.research.google.com/notebooks/data_table.ipynb>data table notebook</a>'\n",
              "            + ' to learn more about interactive tables.';\n",
              "          element.innerHTML = '';\n",
              "          dataTable['output_type'] = 'display_data';\n",
              "          await google.colab.output.renderOutput(dataTable, element);\n",
              "          const docLink = document.createElement('div');\n",
              "          docLink.innerHTML = docLinkHtml;\n",
              "          element.appendChild(docLink);\n",
              "        }\n",
              "      </script>\n",
              "    </div>\n",
              "  </div>\n",
              "  "
            ]
          },
          "metadata": {},
          "execution_count": 9
        }
      ]
    },
    {
      "cell_type": "code",
      "source": [
        "Medic.plot(kind=\"box\", subplots=True, layout=(4,4), figsize=(10,10)) "
      ],
      "metadata": {
        "colab": {
          "base_uri": "https://localhost:8080/",
          "height": 429
        },
        "id": "D-11FDUhgcJn",
        "outputId": "7126dec5-956f-4f4c-ca62-258cef411325"
      },
      "execution_count": null,
      "outputs": [
        {
          "output_type": "execute_result",
          "data": {
            "text/plain": [
              "age             AxesSubplot(0.125,0.71587;0.168478x0.16413)\n",
              "sex          AxesSubplot(0.327174,0.71587;0.168478x0.16413)\n",
              "bmi          AxesSubplot(0.529348,0.71587;0.168478x0.16413)\n",
              "children     AxesSubplot(0.731522,0.71587;0.168478x0.16413)\n",
              "smoker         AxesSubplot(0.125,0.518913;0.168478x0.16413)\n",
              "charges     AxesSubplot(0.327174,0.518913;0.168478x0.16413)\n",
              "dtype: object"
            ]
          },
          "metadata": {},
          "execution_count": 10
        },
        {
          "output_type": "display_data",
          "data": {
            "text/plain": [
              "<Figure size 720x720 with 16 Axes>"
            ],
            "image/png": "[encoded data removed]"
          },
          "metadata": {
            "needs_background": "light"
          }
        }
      ]
    },
    {
      "cell_type": "code",
      "source": [
        "z1 = np.abs(stats.zscore(Medic[\"bmi\"]))\n",
        "threshold = 2\n",
        "print(np.where(z1 > threshold))\n",
        "outliers1 = np.where(z1 > threshold)\n",
        "amount_outliers1 = list((int(j) for i in outliers1 for j in i))\n",
        "print(len(amount_outliers1))\n",
        "100* len(amount_outliers1)/len(Medic)"
      ],
      "metadata": {
        "colab": {
          "base_uri": "https://localhost:8080/"
        },
        "id": "iaHDQ42ZgiLW",
        "outputId": "af5d3d86-f0fa-4b61-8d04-f1a7dc3a8940"
      },
      "execution_count": null,
      "outputs": [
        {
          "output_type": "stream",
          "name": "stdout",
          "text": [
            "(array([  28,  116,  128,  172,  198,  232,  250,  286,  292,  356,  380,\n",
            "        383,  401,  410,  412,  428,  438,  442,  454,  493,  521,  543,\n",
            "        547,  549,  563,  572,  582,  660,  674,  680,  701,  796,  811,\n",
            "        821,  847,  860,  867,  895,  930,  941,  950,  951, 1024, 1029,\n",
            "       1047, 1074, 1085, 1088, 1131, 1133, 1156, 1205, 1226, 1286, 1312,\n",
            "       1317, 1332]),)\n",
            "57\n"
          ]
        },
        {
          "output_type": "execute_result",
          "data": {
            "text/plain": [
              "4.260089686098655"
            ]
          },
          "metadata": {},
          "execution_count": 11
        }
      ]
    },
    {
      "cell_type": "code",
      "source": [
        "Medic.drop(outliers1[0], inplace = True)"
      ],
      "metadata": {
        "id": "bTTJxgmFhtp4"
      },
      "execution_count": null,
      "outputs": []
    },
    {
      "cell_type": "code",
      "source": [
        "100*len(np.where(Medic[\"charges\"]>32000))/len(Medic)"
      ],
      "metadata": {
        "colab": {
          "base_uri": "https://localhost:8080/"
        },
        "id": "ns6Xl0AfrA7O",
        "outputId": "57019a74-5abd-4783-aa33-1ed336a26854"
      },
      "execution_count": null,
      "outputs": [
        {
          "output_type": "execute_result",
          "data": {
            "text/plain": [
              "0.078064012490242"
            ]
          },
          "metadata": {},
          "execution_count": 13
        }
      ]
    },
    {
      "cell_type": "code",
      "source": [
        "Medic.drop(Medic[Medic['charges'] >32000].index, inplace = True)"
      ],
      "metadata": {
        "id": "CQGxfqm8hy-C"
      },
      "execution_count": null,
      "outputs": []
    },
    {
      "cell_type": "code",
      "source": [
        "len(np.where(Medic[\"smoker\"]==1))/len(Medic)"
      ],
      "metadata": {
        "colab": {
          "base_uri": "https://localhost:8080/"
        },
        "id": "gzon32SltTyC",
        "outputId": "f3f77008-3719-48eb-d22a-1c8a55cc74cb"
      },
      "execution_count": null,
      "outputs": [
        {
          "output_type": "execute_result",
          "data": {
            "text/plain": [
              "0.000881057268722467"
            ]
          },
          "metadata": {},
          "execution_count": 15
        }
      ]
    },
    {
      "cell_type": "code",
      "source": [
        "#Medic.drop(Medic[Medic['smoker'] >0].index, inplace = True)"
      ],
      "metadata": {
        "id": "IEPDtsHhtaia"
      },
      "execution_count": null,
      "outputs": []
    },
    {
      "cell_type": "code",
      "source": [
        "Medic.plot(kind=\"box\", subplots=True, layout=(4,4), figsize=(10,10)) "
      ],
      "metadata": {
        "colab": {
          "base_uri": "https://localhost:8080/",
          "height": 429
        },
        "id": "dTesAKbtjmrC",
        "outputId": "a96d93b5-f169-4c18-b176-4d9317013cc0"
      },
      "execution_count": null,
      "outputs": [
        {
          "output_type": "execute_result",
          "data": {
            "text/plain": [
              "age             AxesSubplot(0.125,0.71587;0.168478x0.16413)\n",
              "sex          AxesSubplot(0.327174,0.71587;0.168478x0.16413)\n",
              "bmi          AxesSubplot(0.529348,0.71587;0.168478x0.16413)\n",
              "children     AxesSubplot(0.731522,0.71587;0.168478x0.16413)\n",
              "smoker         AxesSubplot(0.125,0.518913;0.168478x0.16413)\n",
              "charges     AxesSubplot(0.327174,0.518913;0.168478x0.16413)\n",
              "dtype: object"
            ]
          },
          "metadata": {},
          "execution_count": 17
        },
        {
          "output_type": "display_data",
          "data": {
            "text/plain": [
              "<Figure size 720x720 with 16 Axes>"
            ],
            "image/png": "[encoded data removed]"
          },
          "metadata": {
            "needs_background": "light"
          }
        }
      ]
    },
    {
      "cell_type": "code",
      "source": [
        "100*len(np.where(Medic[\"charges\"]>20050))/len(Medic)"
      ],
      "metadata": {
        "colab": {
          "base_uri": "https://localhost:8080/"
        },
        "id": "I9J8IMD1CMyA",
        "outputId": "ae793315-677c-4ed9-962a-6fdaa9a411ee"
      },
      "execution_count": null,
      "outputs": [
        {
          "output_type": "execute_result",
          "data": {
            "text/plain": [
              "0.0881057268722467"
            ]
          },
          "metadata": {},
          "execution_count": 18
        }
      ]
    },
    {
      "cell_type": "code",
      "source": [
        "Medic.drop(Medic[Medic['charges'] >20050].index, inplace = True)"
      ],
      "metadata": {
        "id": "TttVMR0_CVV5"
      },
      "execution_count": null,
      "outputs": []
    },
    {
      "cell_type": "code",
      "source": [
        "Medic.plot(kind=\"box\", subplots=True, layout=(4,4), figsize=(10,10)) "
      ],
      "metadata": {
        "colab": {
          "base_uri": "https://localhost:8080/",
          "height": 429
        },
        "id": "bS4nmLxTClfN",
        "outputId": "ac19dbc5-bb0e-4b66-c0a6-4fb4180c5931"
      },
      "execution_count": null,
      "outputs": [
        {
          "output_type": "execute_result",
          "data": {
            "text/plain": [
              "age             AxesSubplot(0.125,0.71587;0.168478x0.16413)\n",
              "sex          AxesSubplot(0.327174,0.71587;0.168478x0.16413)\n",
              "bmi          AxesSubplot(0.529348,0.71587;0.168478x0.16413)\n",
              "children     AxesSubplot(0.731522,0.71587;0.168478x0.16413)\n",
              "smoker         AxesSubplot(0.125,0.518913;0.168478x0.16413)\n",
              "charges     AxesSubplot(0.327174,0.518913;0.168478x0.16413)\n",
              "dtype: object"
            ]
          },
          "metadata": {},
          "execution_count": 20
        },
        {
          "output_type": "display_data",
          "data": {
            "text/plain": [
              "<Figure size 720x720 with 16 Axes>"
            ],
            "image/png": "[encoded data removed]"
          },
          "metadata": {
            "needs_background": "light"
          }
        }
      ]
    },
    {
      "cell_type": "code",
      "source": [
        "#Medic[\"children\"] = np.where(Medic[\"children\"]>= 1, 0, Medic['children'])"
      ],
      "metadata": {
        "id": "XtIquUPoCtIX"
      },
      "execution_count": null,
      "outputs": []
    },
    {
      "cell_type": "code",
      "source": [
        "Medic.plot(kind=\"box\", subplots=True, layout=(4,4), figsize=(10,10)) "
      ],
      "metadata": {
        "colab": {
          "base_uri": "https://localhost:8080/",
          "height": 429
        },
        "id": "8SGlJTMmCzQM",
        "outputId": "677f5186-7770-41d3-c13a-79d894c277ca"
      },
      "execution_count": null,
      "outputs": [
        {
          "output_type": "execute_result",
          "data": {
            "text/plain": [
              "age             AxesSubplot(0.125,0.71587;0.168478x0.16413)\n",
              "sex          AxesSubplot(0.327174,0.71587;0.168478x0.16413)\n",
              "bmi          AxesSubplot(0.529348,0.71587;0.168478x0.16413)\n",
              "children     AxesSubplot(0.731522,0.71587;0.168478x0.16413)\n",
              "smoker         AxesSubplot(0.125,0.518913;0.168478x0.16413)\n",
              "charges     AxesSubplot(0.327174,0.518913;0.168478x0.16413)\n",
              "dtype: object"
            ]
          },
          "metadata": {},
          "execution_count": 22
        },
        {
          "output_type": "display_data",
          "data": {
            "text/plain": [
              "<Figure size 720x720 with 16 Axes>"
            ],
            "image/png": "[encoded data removed]"
          },
          "metadata": {
            "needs_background": "light"
          }
        }
      ]
    },
    {
      "cell_type": "code",
      "source": [
        "Medic"
      ],
      "metadata": {
        "colab": {
          "base_uri": "https://localhost:8080/",
          "height": 424
        },
        "id": "pCQkqRio3-IZ",
        "outputId": "a1a8d8e4-1317-4862-d6b6-c21bfcf95a5e"
      },
      "execution_count": null,
      "outputs": [
        {
          "output_type": "execute_result",
          "data": {
            "text/plain": [
              "      age  sex    bmi  children  smoker      charges\n",
              "0      19    0  27.90         0       1  16884.92400\n",
              "1      18    1  33.77         1       0   1725.55230\n",
              "2      28    1  33.00         3       0   4449.46200\n",
              "4      32    1  28.88         0       0   3866.85520\n",
              "5      31    0  25.74         0       0   3756.62160\n",
              "...   ...  ...    ...       ...     ...          ...\n",
              "1331   23    0  33.40         0       0  10795.93733\n",
              "1333   50    1  30.97         3       0  10600.54830\n",
              "1334   18    0  31.92         0       0   2205.98080\n",
              "1335   18    0  36.85         0       0   1629.83350\n",
              "1336   21    0  25.80         0       0   2007.94500\n",
              "\n",
              "[1018 rows x 6 columns]"
            ],
            "text/html": [
              "\n",
              "  <div id=\"df-b5b83a20-ca87-4350-bc72-3e8d1b94738f\">\n",
              "    <div class=\"colab-df-container\">\n",
              "      <div>\n",
              "<style scoped>\n",
              "    .dataframe tbody tr th:only-of-type {\n",
              "        vertical-align: middle;\n",
              "    }\n",
              "\n",
              "    .dataframe tbody tr th {\n",
              "        vertical-align: top;\n",
              "    }\n",
              "\n",
              "    .dataframe thead th {\n",
              "        text-align: right;\n",
              "    }\n",
              "</style>\n",
              "<table border=\"1\" class=\"dataframe\">\n",
              "  <thead>\n",
              "    <tr style=\"text-align: right;\">\n",
              "      <th></th>\n",
              "      <th>age</th>\n",
              "      <th>sex</th>\n",
              "      <th>bmi</th>\n",
              "      <th>children</th>\n",
              "      <th>smoker</th>\n",
              "      <th>charges</th>\n",
              "    </tr>\n",
              "  </thead>\n",
              "  <tbody>\n",
              "    <tr>\n",
              "      <th>0</th>\n",
              "      <td>19</td>\n",
              "      <td>0</td>\n",
              "      <td>27.90</td>\n",
              "      <td>0</td>\n",
              "      <td>1</td>\n",
              "      <td>16884.92400</td>\n",
              "    </tr>\n",
              "    <tr>\n",
              "      <th>1</th>\n",
              "      <td>18</td>\n",
              "      <td>1</td>\n",
              "      <td>33.77</td>\n",
              "      <td>1</td>\n",
              "      <td>0</td>\n",
              "      <td>1725.55230</td>\n",
              "    </tr>\n",
              "    <tr>\n",
              "      <th>2</th>\n",
              "      <td>28</td>\n",
              "      <td>1</td>\n",
              "      <td>33.00</td>\n",
              "      <td>3</td>\n",
              "      <td>0</td>\n",
              "      <td>4449.46200</td>\n",
              "    </tr>\n",
              "    <tr>\n",
              "      <th>4</th>\n",
              "      <td>32</td>\n",
              "      <td>1</td>\n",
              "      <td>28.88</td>\n",
              "      <td>0</td>\n",
              "      <td>0</td>\n",
              "      <td>3866.85520</td>\n",
              "    </tr>\n",
              "    <tr>\n",
              "      <th>5</th>\n",
              "      <td>31</td>\n",
              "      <td>0</td>\n",
              "      <td>25.74</td>\n",
              "      <td>0</td>\n",
              "      <td>0</td>\n",
              "      <td>3756.62160</td>\n",
              "    </tr>\n",
              "    <tr>\n",
              "      <th>...</th>\n",
              "      <td>...</td>\n",
              "      <td>...</td>\n",
              "      <td>...</td>\n",
              "      <td>...</td>\n",
              "      <td>...</td>\n",
              "      <td>...</td>\n",
              "    </tr>\n",
              "    <tr>\n",
              "      <th>1331</th>\n",
              "      <td>23</td>\n",
              "      <td>0</td>\n",
              "      <td>33.40</td>\n",
              "      <td>0</td>\n",
              "      <td>0</td>\n",
              "      <td>10795.93733</td>\n",
              "    </tr>\n",
              "    <tr>\n",
              "      <th>1333</th>\n",
              "      <td>50</td>\n",
              "      <td>1</td>\n",
              "      <td>30.97</td>\n",
              "      <td>3</td>\n",
              "      <td>0</td>\n",
              "      <td>10600.54830</td>\n",
              "    </tr>\n",
              "    <tr>\n",
              "      <th>1334</th>\n",
              "      <td>18</td>\n",
              "      <td>0</td>\n",
              "      <td>31.92</td>\n",
              "      <td>0</td>\n",
              "      <td>0</td>\n",
              "      <td>2205.98080</td>\n",
              "    </tr>\n",
              "    <tr>\n",
              "      <th>1335</th>\n",
              "      <td>18</td>\n",
              "      <td>0</td>\n",
              "      <td>36.85</td>\n",
              "      <td>0</td>\n",
              "      <td>0</td>\n",
              "      <td>1629.83350</td>\n",
              "    </tr>\n",
              "    <tr>\n",
              "      <th>1336</th>\n",
              "      <td>21</td>\n",
              "      <td>0</td>\n",
              "      <td>25.80</td>\n",
              "      <td>0</td>\n",
              "      <td>0</td>\n",
              "      <td>2007.94500</td>\n",
              "    </tr>\n",
              "  </tbody>\n",
              "</table>\n",
              "<p>1018 rows × 6 columns</p>\n",
              "</div>\n",
              "      <button class=\"colab-df-convert\" onclick=\"convertToInteractive('df-b5b83a20-ca87-4350-bc72-3e8d1b94738f')\"\n",
              "              title=\"Convert this dataframe to an interactive table.\"\n",
              "              style=\"display:none;\">\n",
              "        \n",
              "  <svg xmlns=\"http://www.w3.org/2000/svg\" height=\"24px\"viewBox=\"0 0 24 24\"\n",
              "       width=\"24px\">\n",
              "    <path d=\"M0 0h24v24H0V0z\" fill=\"none\"/>\n",
              "    <path d=\"M18.56 5.44l.94 2.06.94-2.06 2.06-.94-2.06-.94-.94-2.06-.94 2.06-2.06.94zm-11 1L8.5 8.5l.94-2.06 2.06-.94-2.06-.94L8.5 2.5l-.94 2.06-2.06.94zm10 10l.94 2.06.94-2.06 2.06-.94-2.06-.94-.94-2.06-.94 2.06-2.06.94z\"/><path d=\"M17.41 7.96l-1.37-1.37c-.4-.4-.92-.59-1.43-.59-.52 0-1.04.2-1.43.59L10.3 9.45l-7.72 7.72c-.78.78-.78 2.05 0 2.83L4 21.41c.39.39.9.59 1.41.59.51 0 1.02-.2 1.41-.59l7.78-7.78 2.81-2.81c.8-.78.8-2.07 0-2.86zM5.41 20L4 18.59l7.72-7.72 1.47 1.35L5.41 20z\"/>\n",
              "  </svg>\n",
              "      </button>\n",
              "      \n",
              "  <style>\n",
              "    .colab-df-container {\n",
              "      display:flex;\n",
              "      flex-wrap:wrap;\n",
              "      gap: 12px;\n",
              "    }\n",
              "\n",
              "    .colab-df-convert {\n",
              "      background-color: #E8F0FE;\n",
              "      border: none;\n",
              "      border-radius: 50%;\n",
              "      cursor: pointer;\n",
              "      display: none;\n",
              "      fill: #1967D2;\n",
              "      height: 32px;\n",
              "      padding: 0 0 0 0;\n",
              "      width: 32px;\n",
              "    }\n",
              "\n",
              "    .colab-df-convert:hover {\n",
              "      background-color: #E2EBFA;\n",
              "      box-shadow: 0px 1px 2px rgba(60, 64, 67, 0.3), 0px 1px 3px 1px rgba(60, 64, 67, 0.15);\n",
              "      fill: #174EA6;\n",
              "    }\n",
              "\n",
              "    [theme=dark] .colab-df-convert {\n",
              "      background-color: #3B4455;\n",
              "      fill: #D2E3FC;\n",
              "    }\n",
              "\n",
              "    [theme=dark] .colab-df-convert:hover {\n",
              "      background-color: #434B5C;\n",
              "      box-shadow: 0px 1px 3px 1px rgba(0, 0, 0, 0.15);\n",
              "      filter: drop-shadow(0px 1px 2px rgba(0, 0, 0, 0.3));\n",
              "      fill: #FFFFFF;\n",
              "    }\n",
              "  </style>\n",
              "\n",
              "      <script>\n",
              "        const buttonEl =\n",
              "          document.querySelector('#df-b5b83a20-ca87-4350-bc72-3e8d1b94738f button.colab-df-convert');\n",
              "        buttonEl.style.display =\n",
              "          google.colab.kernel.accessAllowed ? 'block' : 'none';\n",
              "\n",
              "        async function convertToInteractive(key) {\n",
              "          const element = document.querySelector('#df-b5b83a20-ca87-4350-bc72-3e8d1b94738f');\n",
              "          const dataTable =\n",
              "            await google.colab.kernel.invokeFunction('convertToInteractive',\n",
              "                                                     [key], {});\n",
              "          if (!dataTable) return;\n",
              "\n",
              "          const docLinkHtml = 'Like what you see? Visit the ' +\n",
              "            '<a target=\"_blank\" href=https://colab.research.google.com/notebooks/data_table.ipynb>data table notebook</a>'\n",
              "            + ' to learn more about interactive tables.';\n",
              "          element.innerHTML = '';\n",
              "          dataTable['output_type'] = 'display_data';\n",
              "          await google.colab.output.renderOutput(dataTable, element);\n",
              "          const docLink = document.createElement('div');\n",
              "          docLink.innerHTML = docLinkHtml;\n",
              "          element.appendChild(docLink);\n",
              "        }\n",
              "      </script>\n",
              "    </div>\n",
              "  </div>\n",
              "  "
            ]
          },
          "metadata": {},
          "execution_count": 23
        }
      ]
    },
    {
      "cell_type": "code",
      "source": [
        "Medic.drop_duplicates()"
      ],
      "metadata": {
        "colab": {
          "base_uri": "https://localhost:8080/",
          "height": 424
        },
        "id": "O_49vX1XkVLQ",
        "outputId": "7a776997-44fb-4a66-b4c7-c19790d6a786"
      },
      "execution_count": null,
      "outputs": [
        {
          "output_type": "execute_result",
          "data": {
            "text/plain": [
              "      age  sex    bmi  children  smoker      charges\n",
              "0      19    0  27.90         0       1  16884.92400\n",
              "1      18    1  33.77         1       0   1725.55230\n",
              "2      28    1  33.00         3       0   4449.46200\n",
              "4      32    1  28.88         0       0   3866.85520\n",
              "5      31    0  25.74         0       0   3756.62160\n",
              "...   ...  ...    ...       ...     ...          ...\n",
              "1331   23    0  33.40         0       0  10795.93733\n",
              "1333   50    1  30.97         3       0  10600.54830\n",
              "1334   18    0  31.92         0       0   2205.98080\n",
              "1335   18    0  36.85         0       0   1629.83350\n",
              "1336   21    0  25.80         0       0   2007.94500\n",
              "\n",
              "[1017 rows x 6 columns]"
            ],
            "text/html": [
              "\n",
              "  <div id=\"df-90049331-3466-422a-be1d-cac4f43bb5c9\">\n",
              "    <div class=\"colab-df-container\">\n",
              "      <div>\n",
              "<style scoped>\n",
              "    .dataframe tbody tr th:only-of-type {\n",
              "        vertical-align: middle;\n",
              "    }\n",
              "\n",
              "    .dataframe tbody tr th {\n",
              "        vertical-align: top;\n",
              "    }\n",
              "\n",
              "    .dataframe thead th {\n",
              "        text-align: right;\n",
              "    }\n",
              "</style>\n",
              "<table border=\"1\" class=\"dataframe\">\n",
              "  <thead>\n",
              "    <tr style=\"text-align: right;\">\n",
              "      <th></th>\n",
              "      <th>age</th>\n",
              "      <th>sex</th>\n",
              "      <th>bmi</th>\n",
              "      <th>children</th>\n",
              "      <th>smoker</th>\n",
              "      <th>charges</th>\n",
              "    </tr>\n",
              "  </thead>\n",
              "  <tbody>\n",
              "    <tr>\n",
              "      <th>0</th>\n",
              "      <td>19</td>\n",
              "      <td>0</td>\n",
              "      <td>27.90</td>\n",
              "      <td>0</td>\n",
              "      <td>1</td>\n",
              "      <td>16884.92400</td>\n",
              "    </tr>\n",
              "    <tr>\n",
              "      <th>1</th>\n",
              "      <td>18</td>\n",
              "      <td>1</td>\n",
              "      <td>33.77</td>\n",
              "      <td>1</td>\n",
              "      <td>0</td>\n",
              "      <td>1725.55230</td>\n",
              "    </tr>\n",
              "    <tr>\n",
              "      <th>2</th>\n",
              "      <td>28</td>\n",
              "      <td>1</td>\n",
              "      <td>33.00</td>\n",
              "      <td>3</td>\n",
              "      <td>0</td>\n",
              "      <td>4449.46200</td>\n",
              "    </tr>\n",
              "    <tr>\n",
              "      <th>4</th>\n",
              "      <td>32</td>\n",
              "      <td>1</td>\n",
              "      <td>28.88</td>\n",
              "      <td>0</td>\n",
              "      <td>0</td>\n",
              "      <td>3866.85520</td>\n",
              "    </tr>\n",
              "    <tr>\n",
              "      <th>5</th>\n",
              "      <td>31</td>\n",
              "      <td>0</td>\n",
              "      <td>25.74</td>\n",
              "      <td>0</td>\n",
              "      <td>0</td>\n",
              "      <td>3756.62160</td>\n",
              "    </tr>\n",
              "    <tr>\n",
              "      <th>...</th>\n",
              "      <td>...</td>\n",
              "      <td>...</td>\n",
              "      <td>...</td>\n",
              "      <td>...</td>\n",
              "      <td>...</td>\n",
              "      <td>...</td>\n",
              "    </tr>\n",
              "    <tr>\n",
              "      <th>1331</th>\n",
              "      <td>23</td>\n",
              "      <td>0</td>\n",
              "      <td>33.40</td>\n",
              "      <td>0</td>\n",
              "      <td>0</td>\n",
              "      <td>10795.93733</td>\n",
              "    </tr>\n",
              "    <tr>\n",
              "      <th>1333</th>\n",
              "      <td>50</td>\n",
              "      <td>1</td>\n",
              "      <td>30.97</td>\n",
              "      <td>3</td>\n",
              "      <td>0</td>\n",
              "      <td>10600.54830</td>\n",
              "    </tr>\n",
              "    <tr>\n",
              "      <th>1334</th>\n",
              "      <td>18</td>\n",
              "      <td>0</td>\n",
              "      <td>31.92</td>\n",
              "      <td>0</td>\n",
              "      <td>0</td>\n",
              "      <td>2205.98080</td>\n",
              "    </tr>\n",
              "    <tr>\n",
              "      <th>1335</th>\n",
              "      <td>18</td>\n",
              "      <td>0</td>\n",
              "      <td>36.85</td>\n",
              "      <td>0</td>\n",
              "      <td>0</td>\n",
              "      <td>1629.83350</td>\n",
              "    </tr>\n",
              "    <tr>\n",
              "      <th>1336</th>\n",
              "      <td>21</td>\n",
              "      <td>0</td>\n",
              "      <td>25.80</td>\n",
              "      <td>0</td>\n",
              "      <td>0</td>\n",
              "      <td>2007.94500</td>\n",
              "    </tr>\n",
              "  </tbody>\n",
              "</table>\n",
              "<p>1017 rows × 6 columns</p>\n",
              "</div>\n",
              "      <button class=\"colab-df-convert\" onclick=\"convertToInteractive('df-90049331-3466-422a-be1d-cac4f43bb5c9')\"\n",
              "              title=\"Convert this dataframe to an interactive table.\"\n",
              "              style=\"display:none;\">\n",
              "        \n",
              "  <svg xmlns=\"http://www.w3.org/2000/svg\" height=\"24px\"viewBox=\"0 0 24 24\"\n",
              "       width=\"24px\">\n",
              "    <path d=\"M0 0h24v24H0V0z\" fill=\"none\"/>\n",
              "    <path d=\"M18.56 5.44l.94 2.06.94-2.06 2.06-.94-2.06-.94-.94-2.06-.94 2.06-2.06.94zm-11 1L8.5 8.5l.94-2.06 2.06-.94-2.06-.94L8.5 2.5l-.94 2.06-2.06.94zm10 10l.94 2.06.94-2.06 2.06-.94-2.06-.94-.94-2.06-.94 2.06-2.06.94z\"/><path d=\"M17.41 7.96l-1.37-1.37c-.4-.4-.92-.59-1.43-.59-.52 0-1.04.2-1.43.59L10.3 9.45l-7.72 7.72c-.78.78-.78 2.05 0 2.83L4 21.41c.39.39.9.59 1.41.59.51 0 1.02-.2 1.41-.59l7.78-7.78 2.81-2.81c.8-.78.8-2.07 0-2.86zM5.41 20L4 18.59l7.72-7.72 1.47 1.35L5.41 20z\"/>\n",
              "  </svg>\n",
              "      </button>\n",
              "      \n",
              "  <style>\n",
              "    .colab-df-container {\n",
              "      display:flex;\n",
              "      flex-wrap:wrap;\n",
              "      gap: 12px;\n",
              "    }\n",
              "\n",
              "    .colab-df-convert {\n",
              "      background-color: #E8F0FE;\n",
              "      border: none;\n",
              "      border-radius: 50%;\n",
              "      cursor: pointer;\n",
              "      display: none;\n",
              "      fill: #1967D2;\n",
              "      height: 32px;\n",
              "      padding: 0 0 0 0;\n",
              "      width: 32px;\n",
              "    }\n",
              "\n",
              "    .colab-df-convert:hover {\n",
              "      background-color: #E2EBFA;\n",
              "      box-shadow: 0px 1px 2px rgba(60, 64, 67, 0.3), 0px 1px 3px 1px rgba(60, 64, 67, 0.15);\n",
              "      fill: #174EA6;\n",
              "    }\n",
              "\n",
              "    [theme=dark] .colab-df-convert {\n",
              "      background-color: #3B4455;\n",
              "      fill: #D2E3FC;\n",
              "    }\n",
              "\n",
              "    [theme=dark] .colab-df-convert:hover {\n",
              "      background-color: #434B5C;\n",
              "      box-shadow: 0px 1px 3px 1px rgba(0, 0, 0, 0.15);\n",
              "      filter: drop-shadow(0px 1px 2px rgba(0, 0, 0, 0.3));\n",
              "      fill: #FFFFFF;\n",
              "    }\n",
              "  </style>\n",
              "\n",
              "      <script>\n",
              "        const buttonEl =\n",
              "          document.querySelector('#df-90049331-3466-422a-be1d-cac4f43bb5c9 button.colab-df-convert');\n",
              "        buttonEl.style.display =\n",
              "          google.colab.kernel.accessAllowed ? 'block' : 'none';\n",
              "\n",
              "        async function convertToInteractive(key) {\n",
              "          const element = document.querySelector('#df-90049331-3466-422a-be1d-cac4f43bb5c9');\n",
              "          const dataTable =\n",
              "            await google.colab.kernel.invokeFunction('convertToInteractive',\n",
              "                                                     [key], {});\n",
              "          if (!dataTable) return;\n",
              "\n",
              "          const docLinkHtml = 'Like what you see? Visit the ' +\n",
              "            '<a target=\"_blank\" href=https://colab.research.google.com/notebooks/data_table.ipynb>data table notebook</a>'\n",
              "            + ' to learn more about interactive tables.';\n",
              "          element.innerHTML = '';\n",
              "          dataTable['output_type'] = 'display_data';\n",
              "          await google.colab.output.renderOutput(dataTable, element);\n",
              "          const docLink = document.createElement('div');\n",
              "          docLink.innerHTML = docLinkHtml;\n",
              "          element.appendChild(docLink);\n",
              "        }\n",
              "      </script>\n",
              "    </div>\n",
              "  </div>\n",
              "  "
            ]
          },
          "metadata": {},
          "execution_count": 24
        }
      ]
    },
    {
      "cell_type": "code",
      "source": [
        "#Medic['bmi'] = Medic['bmi'].astype(int)\n",
        "#Medic['charges'] = Medic['charges'].astype(int)"
      ],
      "metadata": {
        "id": "iubptzXbzCJk"
      },
      "execution_count": null,
      "outputs": []
    },
    {
      "cell_type": "code",
      "source": [
        "X = Medic.drop(columns =\"charges\")\n",
        "y = Medic['charges']\n",
        "X.shape,y.shape"
      ],
      "metadata": {
        "colab": {
          "base_uri": "https://localhost:8080/"
        },
        "id": "lFPsvtecwguX",
        "outputId": "f0cea373-4f58-4a79-cef4-66899a01bacf"
      },
      "execution_count": null,
      "outputs": [
        {
          "output_type": "execute_result",
          "data": {
            "text/plain": [
              "((1018, 5), (1018,))"
            ]
          },
          "metadata": {},
          "execution_count": 26
        }
      ]
    },
    {
      "cell_type": "code",
      "source": [
        "X"
      ],
      "metadata": {
        "colab": {
          "base_uri": "https://localhost:8080/",
          "height": 424
        },
        "id": "NtEzY3ObZiv8",
        "outputId": "0eb8e033-80a0-4c2d-d537-a7da50968b30"
      },
      "execution_count": null,
      "outputs": [
        {
          "output_type": "execute_result",
          "data": {
            "text/plain": [
              "      age  sex    bmi  children  smoker\n",
              "0      19    0  27.90         0       1\n",
              "1      18    1  33.77         1       0\n",
              "2      28    1  33.00         3       0\n",
              "4      32    1  28.88         0       0\n",
              "5      31    0  25.74         0       0\n",
              "...   ...  ...    ...       ...     ...\n",
              "1331   23    0  33.40         0       0\n",
              "1333   50    1  30.97         3       0\n",
              "1334   18    0  31.92         0       0\n",
              "1335   18    0  36.85         0       0\n",
              "1336   21    0  25.80         0       0\n",
              "\n",
              "[1018 rows x 5 columns]"
            ],
            "text/html": [
              "\n",
              "  <div id=\"df-062318d2-60cc-42d9-b718-5436d088216a\">\n",
              "    <div class=\"colab-df-container\">\n",
              "      <div>\n",
              "<style scoped>\n",
              "    .dataframe tbody tr th:only-of-type {\n",
              "        vertical-align: middle;\n",
              "    }\n",
              "\n",
              "    .dataframe tbody tr th {\n",
              "        vertical-align: top;\n",
              "    }\n",
              "\n",
              "    .dataframe thead th {\n",
              "        text-align: right;\n",
              "    }\n",
              "</style>\n",
              "<table border=\"1\" class=\"dataframe\">\n",
              "  <thead>\n",
              "    <tr style=\"text-align: right;\">\n",
              "      <th></th>\n",
              "      <th>age</th>\n",
              "      <th>sex</th>\n",
              "      <th>bmi</th>\n",
              "      <th>children</th>\n",
              "      <th>smoker</th>\n",
              "    </tr>\n",
              "  </thead>\n",
              "  <tbody>\n",
              "    <tr>\n",
              "      <th>0</th>\n",
              "      <td>19</td>\n",
              "      <td>0</td>\n",
              "      <td>27.90</td>\n",
              "      <td>0</td>\n",
              "      <td>1</td>\n",
              "    </tr>\n",
              "    <tr>\n",
              "      <th>1</th>\n",
              "      <td>18</td>\n",
              "      <td>1</td>\n",
              "      <td>33.77</td>\n",
              "      <td>1</td>\n",
              "      <td>0</td>\n",
              "    </tr>\n",
              "    <tr>\n",
              "      <th>2</th>\n",
              "      <td>28</td>\n",
              "      <td>1</td>\n",
              "      <td>33.00</td>\n",
              "      <td>3</td>\n",
              "      <td>0</td>\n",
              "    </tr>\n",
              "    <tr>\n",
              "      <th>4</th>\n",
              "      <td>32</td>\n",
              "      <td>1</td>\n",
              "      <td>28.88</td>\n",
              "      <td>0</td>\n",
              "      <td>0</td>\n",
              "    </tr>\n",
              "    <tr>\n",
              "      <th>5</th>\n",
              "      <td>31</td>\n",
              "      <td>0</td>\n",
              "      <td>25.74</td>\n",
              "      <td>0</td>\n",
              "      <td>0</td>\n",
              "    </tr>\n",
              "    <tr>\n",
              "      <th>...</th>\n",
              "      <td>...</td>\n",
              "      <td>...</td>\n",
              "      <td>...</td>\n",
              "      <td>...</td>\n",
              "      <td>...</td>\n",
              "    </tr>\n",
              "    <tr>\n",
              "      <th>1331</th>\n",
              "      <td>23</td>\n",
              "      <td>0</td>\n",
              "      <td>33.40</td>\n",
              "      <td>0</td>\n",
              "      <td>0</td>\n",
              "    </tr>\n",
              "    <tr>\n",
              "      <th>1333</th>\n",
              "      <td>50</td>\n",
              "      <td>1</td>\n",
              "      <td>30.97</td>\n",
              "      <td>3</td>\n",
              "      <td>0</td>\n",
              "    </tr>\n",
              "    <tr>\n",
              "      <th>1334</th>\n",
              "      <td>18</td>\n",
              "      <td>0</td>\n",
              "      <td>31.92</td>\n",
              "      <td>0</td>\n",
              "      <td>0</td>\n",
              "    </tr>\n",
              "    <tr>\n",
              "      <th>1335</th>\n",
              "      <td>18</td>\n",
              "      <td>0</td>\n",
              "      <td>36.85</td>\n",
              "      <td>0</td>\n",
              "      <td>0</td>\n",
              "    </tr>\n",
              "    <tr>\n",
              "      <th>1336</th>\n",
              "      <td>21</td>\n",
              "      <td>0</td>\n",
              "      <td>25.80</td>\n",
              "      <td>0</td>\n",
              "      <td>0</td>\n",
              "    </tr>\n",
              "  </tbody>\n",
              "</table>\n",
              "<p>1018 rows × 5 columns</p>\n",
              "</div>\n",
              "      <button class=\"colab-df-convert\" onclick=\"convertToInteractive('df-062318d2-60cc-42d9-b718-5436d088216a')\"\n",
              "              title=\"Convert this dataframe to an interactive table.\"\n",
              "              style=\"display:none;\">\n",
              "        \n",
              "  <svg xmlns=\"http://www.w3.org/2000/svg\" height=\"24px\"viewBox=\"0 0 24 24\"\n",
              "       width=\"24px\">\n",
              "    <path d=\"M0 0h24v24H0V0z\" fill=\"none\"/>\n",
              "    <path d=\"M18.56 5.44l.94 2.06.94-2.06 2.06-.94-2.06-.94-.94-2.06-.94 2.06-2.06.94zm-11 1L8.5 8.5l.94-2.06 2.06-.94-2.06-.94L8.5 2.5l-.94 2.06-2.06.94zm10 10l.94 2.06.94-2.06 2.06-.94-2.06-.94-.94-2.06-.94 2.06-2.06.94z\"/><path d=\"M17.41 7.96l-1.37-1.37c-.4-.4-.92-.59-1.43-.59-.52 0-1.04.2-1.43.59L10.3 9.45l-7.72 7.72c-.78.78-.78 2.05 0 2.83L4 21.41c.39.39.9.59 1.41.59.51 0 1.02-.2 1.41-.59l7.78-7.78 2.81-2.81c.8-.78.8-2.07 0-2.86zM5.41 20L4 18.59l7.72-7.72 1.47 1.35L5.41 20z\"/>\n",
              "  </svg>\n",
              "      </button>\n",
              "      \n",
              "  <style>\n",
              "    .colab-df-container {\n",
              "      display:flex;\n",
              "      flex-wrap:wrap;\n",
              "      gap: 12px;\n",
              "    }\n",
              "\n",
              "    .colab-df-convert {\n",
              "      background-color: #E8F0FE;\n",
              "      border: none;\n",
              "      border-radius: 50%;\n",
              "      cursor: pointer;\n",
              "      display: none;\n",
              "      fill: #1967D2;\n",
              "      height: 32px;\n",
              "      padding: 0 0 0 0;\n",
              "      width: 32px;\n",
              "    }\n",
              "\n",
              "    .colab-df-convert:hover {\n",
              "      background-color: #E2EBFA;\n",
              "      box-shadow: 0px 1px 2px rgba(60, 64, 67, 0.3), 0px 1px 3px 1px rgba(60, 64, 67, 0.15);\n",
              "      fill: #174EA6;\n",
              "    }\n",
              "\n",
              "    [theme=dark] .colab-df-convert {\n",
              "      background-color: #3B4455;\n",
              "      fill: #D2E3FC;\n",
              "    }\n",
              "\n",
              "    [theme=dark] .colab-df-convert:hover {\n",
              "      background-color: #434B5C;\n",
              "      box-shadow: 0px 1px 3px 1px rgba(0, 0, 0, 0.15);\n",
              "      filter: drop-shadow(0px 1px 2px rgba(0, 0, 0, 0.3));\n",
              "      fill: #FFFFFF;\n",
              "    }\n",
              "  </style>\n",
              "\n",
              "      <script>\n",
              "        const buttonEl =\n",
              "          document.querySelector('#df-062318d2-60cc-42d9-b718-5436d088216a button.colab-df-convert');\n",
              "        buttonEl.style.display =\n",
              "          google.colab.kernel.accessAllowed ? 'block' : 'none';\n",
              "\n",
              "        async function convertToInteractive(key) {\n",
              "          const element = document.querySelector('#df-062318d2-60cc-42d9-b718-5436d088216a');\n",
              "          const dataTable =\n",
              "            await google.colab.kernel.invokeFunction('convertToInteractive',\n",
              "                                                     [key], {});\n",
              "          if (!dataTable) return;\n",
              "\n",
              "          const docLinkHtml = 'Like what you see? Visit the ' +\n",
              "            '<a target=\"_blank\" href=https://colab.research.google.com/notebooks/data_table.ipynb>data table notebook</a>'\n",
              "            + ' to learn more about interactive tables.';\n",
              "          element.innerHTML = '';\n",
              "          dataTable['output_type'] = 'display_data';\n",
              "          await google.colab.output.renderOutput(dataTable, element);\n",
              "          const docLink = document.createElement('div');\n",
              "          docLink.innerHTML = docLinkHtml;\n",
              "          element.appendChild(docLink);\n",
              "        }\n",
              "      </script>\n",
              "    </div>\n",
              "  </div>\n",
              "  "
            ]
          },
          "metadata": {},
          "execution_count": 27
        }
      ]
    },
    {
      "cell_type": "code",
      "source": [
        "y"
      ],
      "metadata": {
        "colab": {
          "base_uri": "https://localhost:8080/"
        },
        "id": "iEliBxk3ZkzQ",
        "outputId": "5c66b91a-7a16-4e90-fce5-2e9bba1b575c"
      },
      "execution_count": null,
      "outputs": [
        {
          "output_type": "execute_result",
          "data": {
            "text/plain": [
              "0       16884.92400\n",
              "1        1725.55230\n",
              "2        4449.46200\n",
              "4        3866.85520\n",
              "5        3756.62160\n",
              "           ...     \n",
              "1331    10795.93733\n",
              "1333    10600.54830\n",
              "1334     2205.98080\n",
              "1335     1629.83350\n",
              "1336     2007.94500\n",
              "Name: charges, Length: 1018, dtype: float64"
            ]
          },
          "metadata": {},
          "execution_count": 28
        }
      ]
    },
    {
      "cell_type": "code",
      "source": [
        "y.mean()"
      ],
      "metadata": {
        "colab": {
          "base_uri": "https://localhost:8080/"
        },
        "id": "NgrUQrEikj3P",
        "outputId": "df841099-d655-4205-87c6-4f7182856471"
      },
      "execution_count": null,
      "outputs": [
        {
          "output_type": "execute_result",
          "data": {
            "text/plain": [
              "7994.021871266208"
            ]
          },
          "metadata": {},
          "execution_count": 29
        }
      ]
    },
    {
      "cell_type": "code",
      "source": [
        "y.var()"
      ],
      "metadata": {
        "colab": {
          "base_uri": "https://localhost:8080/"
        },
        "id": "cLQBfkuQkm4T",
        "outputId": "ab08754c-7412-46d3-8092-532b417b9253"
      },
      "execution_count": null,
      "outputs": [
        {
          "output_type": "execute_result",
          "data": {
            "text/plain": [
              "22521250.30262937"
            ]
          },
          "metadata": {},
          "execution_count": 30
        }
      ]
    },
    {
      "cell_type": "code",
      "source": [
        "from sklearn.preprocessing import StandardScaler\n",
        "scaler = StandardScaler()\n",
        "y = scaler.fit_transform(y.values.reshape(-1,1))"
      ],
      "metadata": {
        "id": "x4XFXi87jfT2"
      },
      "execution_count": null,
      "outputs": []
    },
    {
      "cell_type": "code",
      "source": [
        "y"
      ],
      "metadata": {
        "colab": {
          "base_uri": "https://localhost:8080/"
        },
        "id": "PxRtEsvnZsqy",
        "outputId": "6e052980-bf80-466c-b7b9-ac23af224ddb"
      },
      "execution_count": null,
      "outputs": [
        {
          "output_type": "execute_result",
          "data": {
            "text/plain": [
              "array([[ 1.8744031 ],\n",
              "       [-1.32153505],\n",
              "       [-0.74727333],\n",
              "       ...,\n",
              "       [-1.22024986],\n",
              "       [-1.34171474],\n",
              "       [-1.26200029]])"
            ]
          },
          "metadata": {},
          "execution_count": 32
        }
      ]
    },
    {
      "cell_type": "code",
      "source": [
        "from sklearn.model_selection import StratifiedKFold, train_test_split\n",
        "X_train, X_test, y_train, y_test = train_test_split(X,y,test_size = 0.3,random_state=42)\n",
        "#train = pd.concat([X_train,y_train],axis=1)\n",
        "#test = pd.concat([X_test,y_test],axis=1)\n",
        "X_train.shape, X_test.shape, y_train.shape, y_test.shape"
      ],
      "metadata": {
        "colab": {
          "base_uri": "https://localhost:8080/"
        },
        "id": "CeCQcBLhw2BP",
        "outputId": "fed54647-47d8-46bf-ab41-ffdca293f7be"
      },
      "execution_count": null,
      "outputs": [
        {
          "output_type": "execute_result",
          "data": {
            "text/plain": [
              "((712, 5), (306, 5), (712, 1), (306, 1))"
            ]
          },
          "metadata": {},
          "execution_count": 33
        }
      ]
    },
    {
      "cell_type": "code",
      "source": [
        "y_test_inverse = scaler.inverse_transform(y_test)"
      ],
      "metadata": {
        "id": "5MXQmy5Qp-B4"
      },
      "execution_count": null,
      "outputs": []
    },
    {
      "cell_type": "code",
      "source": [
        "y_test_inverse.mean()"
      ],
      "metadata": {
        "colab": {
          "base_uri": "https://localhost:8080/"
        },
        "id": "PkxRZjmHqGrL",
        "outputId": "ecf9d233-8716-45d5-b705-04307aeed1d5"
      },
      "execution_count": null,
      "outputs": [
        {
          "output_type": "execute_result",
          "data": {
            "text/plain": [
              "7967.72590748366"
            ]
          },
          "metadata": {},
          "execution_count": 35
        }
      ]
    },
    {
      "cell_type": "code",
      "source": [
        "y_test_inverse.var()"
      ],
      "metadata": {
        "colab": {
          "base_uri": "https://localhost:8080/"
        },
        "id": "zfHD1UK6qLIi",
        "outputId": "a04599b3-c031-4a2a-f133-bd5dc4e03fae"
      },
      "execution_count": null,
      "outputs": [
        {
          "output_type": "execute_result",
          "data": {
            "text/plain": [
              "22597120.203757"
            ]
          },
          "metadata": {},
          "execution_count": 36
        }
      ]
    },
    {
      "cell_type": "code",
      "source": [
        "X_train"
      ],
      "metadata": {
        "colab": {
          "base_uri": "https://localhost:8080/",
          "height": 424
        },
        "id": "Jd-KYw4FaNLe",
        "outputId": "ca264a27-907b-4562-def8-abb4e8e16a61"
      },
      "execution_count": null,
      "outputs": [
        {
          "output_type": "execute_result",
          "data": {
            "text/plain": [
              "      age  sex     bmi  children  smoker\n",
              "711    50    0  23.540         2       0\n",
              "1065   42    0  25.300         1       0\n",
              "228    41    0  31.635         1       0\n",
              "1032   30    0  27.930         0       0\n",
              "507    21    1  23.750         2       0\n",
              "...   ...  ...     ...       ...     ...\n",
              "142    34    1  25.300         2       1\n",
              "359    18    0  20.790         0       0\n",
              "1134   28    1  33.820         0       0\n",
              "579    25    0  23.465         0       0\n",
              "136    19    1  34.100         0       0\n",
              "\n",
              "[712 rows x 5 columns]"
            ],
            "text/html": [
              "\n",
              "  <div id=\"df-6341fb21-6680-4d21-bdd7-c0c9414d2ded\">\n",
              "    <div class=\"colab-df-container\">\n",
              "      <div>\n",
              "<style scoped>\n",
              "    .dataframe tbody tr th:only-of-type {\n",
              "        vertical-align: middle;\n",
              "    }\n",
              "\n",
              "    .dataframe tbody tr th {\n",
              "        vertical-align: top;\n",
              "    }\n",
              "\n",
              "    .dataframe thead th {\n",
              "        text-align: right;\n",
              "    }\n",
              "</style>\n",
              "<table border=\"1\" class=\"dataframe\">\n",
              "  <thead>\n",
              "    <tr style=\"text-align: right;\">\n",
              "      <th></th>\n",
              "      <th>age</th>\n",
              "      <th>sex</th>\n",
              "      <th>bmi</th>\n",
              "      <th>children</th>\n",
              "      <th>smoker</th>\n",
              "    </tr>\n",
              "  </thead>\n",
              "  <tbody>\n",
              "    <tr>\n",
              "      <th>711</th>\n",
              "      <td>50</td>\n",
              "      <td>0</td>\n",
              "      <td>23.540</td>\n",
              "      <td>2</td>\n",
              "      <td>0</td>\n",
              "    </tr>\n",
              "    <tr>\n",
              "      <th>1065</th>\n",
              "      <td>42</td>\n",
              "      <td>0</td>\n",
              "      <td>25.300</td>\n",
              "      <td>1</td>\n",
              "      <td>0</td>\n",
              "    </tr>\n",
              "    <tr>\n",
              "      <th>228</th>\n",
              "      <td>41</td>\n",
              "      <td>0</td>\n",
              "      <td>31.635</td>\n",
              "      <td>1</td>\n",
              "      <td>0</td>\n",
              "    </tr>\n",
              "    <tr>\n",
              "      <th>1032</th>\n",
              "      <td>30</td>\n",
              "      <td>0</td>\n",
              "      <td>27.930</td>\n",
              "      <td>0</td>\n",
              "      <td>0</td>\n",
              "    </tr>\n",
              "    <tr>\n",
              "      <th>507</th>\n",
              "      <td>21</td>\n",
              "      <td>1</td>\n",
              "      <td>23.750</td>\n",
              "      <td>2</td>\n",
              "      <td>0</td>\n",
              "    </tr>\n",
              "    <tr>\n",
              "      <th>...</th>\n",
              "      <td>...</td>\n",
              "      <td>...</td>\n",
              "      <td>...</td>\n",
              "      <td>...</td>\n",
              "      <td>...</td>\n",
              "    </tr>\n",
              "    <tr>\n",
              "      <th>142</th>\n",
              "      <td>34</td>\n",
              "      <td>1</td>\n",
              "      <td>25.300</td>\n",
              "      <td>2</td>\n",
              "      <td>1</td>\n",
              "    </tr>\n",
              "    <tr>\n",
              "      <th>359</th>\n",
              "      <td>18</td>\n",
              "      <td>0</td>\n",
              "      <td>20.790</td>\n",
              "      <td>0</td>\n",
              "      <td>0</td>\n",
              "    </tr>\n",
              "    <tr>\n",
              "      <th>1134</th>\n",
              "      <td>28</td>\n",
              "      <td>1</td>\n",
              "      <td>33.820</td>\n",
              "      <td>0</td>\n",
              "      <td>0</td>\n",
              "    </tr>\n",
              "    <tr>\n",
              "      <th>579</th>\n",
              "      <td>25</td>\n",
              "      <td>0</td>\n",
              "      <td>23.465</td>\n",
              "      <td>0</td>\n",
              "      <td>0</td>\n",
              "    </tr>\n",
              "    <tr>\n",
              "      <th>136</th>\n",
              "      <td>19</td>\n",
              "      <td>1</td>\n",
              "      <td>34.100</td>\n",
              "      <td>0</td>\n",
              "      <td>0</td>\n",
              "    </tr>\n",
              "  </tbody>\n",
              "</table>\n",
              "<p>712 rows × 5 columns</p>\n",
              "</div>\n",
              "      <button class=\"colab-df-convert\" onclick=\"convertToInteractive('df-6341fb21-6680-4d21-bdd7-c0c9414d2ded')\"\n",
              "              title=\"Convert this dataframe to an interactive table.\"\n",
              "              style=\"display:none;\">\n",
              "        \n",
              "  <svg xmlns=\"http://www.w3.org/2000/svg\" height=\"24px\"viewBox=\"0 0 24 24\"\n",
              "       width=\"24px\">\n",
              "    <path d=\"M0 0h24v24H0V0z\" fill=\"none\"/>\n",
              "    <path d=\"M18.56 5.44l.94 2.06.94-2.06 2.06-.94-2.06-.94-.94-2.06-.94 2.06-2.06.94zm-11 1L8.5 8.5l.94-2.06 2.06-.94-2.06-.94L8.5 2.5l-.94 2.06-2.06.94zm10 10l.94 2.06.94-2.06 2.06-.94-2.06-.94-.94-2.06-.94 2.06-2.06.94z\"/><path d=\"M17.41 7.96l-1.37-1.37c-.4-.4-.92-.59-1.43-.59-.52 0-1.04.2-1.43.59L10.3 9.45l-7.72 7.72c-.78.78-.78 2.05 0 2.83L4 21.41c.39.39.9.59 1.41.59.51 0 1.02-.2 1.41-.59l7.78-7.78 2.81-2.81c.8-.78.8-2.07 0-2.86zM5.41 20L4 18.59l7.72-7.72 1.47 1.35L5.41 20z\"/>\n",
              "  </svg>\n",
              "      </button>\n",
              "      \n",
              "  <style>\n",
              "    .colab-df-container {\n",
              "      display:flex;\n",
              "      flex-wrap:wrap;\n",
              "      gap: 12px;\n",
              "    }\n",
              "\n",
              "    .colab-df-convert {\n",
              "      background-color: #E8F0FE;\n",
              "      border: none;\n",
              "      border-radius: 50%;\n",
              "      cursor: pointer;\n",
              "      display: none;\n",
              "      fill: #1967D2;\n",
              "      height: 32px;\n",
              "      padding: 0 0 0 0;\n",
              "      width: 32px;\n",
              "    }\n",
              "\n",
              "    .colab-df-convert:hover {\n",
              "      background-color: #E2EBFA;\n",
              "      box-shadow: 0px 1px 2px rgba(60, 64, 67, 0.3), 0px 1px 3px 1px rgba(60, 64, 67, 0.15);\n",
              "      fill: #174EA6;\n",
              "    }\n",
              "\n",
              "    [theme=dark] .colab-df-convert {\n",
              "      background-color: #3B4455;\n",
              "      fill: #D2E3FC;\n",
              "    }\n",
              "\n",
              "    [theme=dark] .colab-df-convert:hover {\n",
              "      background-color: #434B5C;\n",
              "      box-shadow: 0px 1px 3px 1px rgba(0, 0, 0, 0.15);\n",
              "      filter: drop-shadow(0px 1px 2px rgba(0, 0, 0, 0.3));\n",
              "      fill: #FFFFFF;\n",
              "    }\n",
              "  </style>\n",
              "\n",
              "      <script>\n",
              "        const buttonEl =\n",
              "          document.querySelector('#df-6341fb21-6680-4d21-bdd7-c0c9414d2ded button.colab-df-convert');\n",
              "        buttonEl.style.display =\n",
              "          google.colab.kernel.accessAllowed ? 'block' : 'none';\n",
              "\n",
              "        async function convertToInteractive(key) {\n",
              "          const element = document.querySelector('#df-6341fb21-6680-4d21-bdd7-c0c9414d2ded');\n",
              "          const dataTable =\n",
              "            await google.colab.kernel.invokeFunction('convertToInteractive',\n",
              "                                                     [key], {});\n",
              "          if (!dataTable) return;\n",
              "\n",
              "          const docLinkHtml = 'Like what you see? Visit the ' +\n",
              "            '<a target=\"_blank\" href=https://colab.research.google.com/notebooks/data_table.ipynb>data table notebook</a>'\n",
              "            + ' to learn more about interactive tables.';\n",
              "          element.innerHTML = '';\n",
              "          dataTable['output_type'] = 'display_data';\n",
              "          await google.colab.output.renderOutput(dataTable, element);\n",
              "          const docLink = document.createElement('div');\n",
              "          docLink.innerHTML = docLinkHtml;\n",
              "          element.appendChild(docLink);\n",
              "        }\n",
              "      </script>\n",
              "    </div>\n",
              "  </div>\n",
              "  "
            ]
          },
          "metadata": {},
          "execution_count": 37
        }
      ]
    },
    {
      "cell_type": "code",
      "source": [
        "X.mean()"
      ],
      "metadata": {
        "colab": {
          "base_uri": "https://localhost:8080/"
        },
        "id": "umL7EvM2vblw",
        "outputId": "d116c905-646f-4908-a102-4fe214fb9b0e"
      },
      "execution_count": null,
      "outputs": [
        {
          "output_type": "execute_result",
          "data": {
            "text/plain": [
              "age         38.398821\n",
              "sex          0.485265\n",
              "bmi         30.088816\n",
              "children     1.075639\n",
              "smoker       0.057957\n",
              "dtype: float64"
            ]
          },
          "metadata": {},
          "execution_count": 38
        }
      ]
    },
    {
      "cell_type": "code",
      "source": [
        "X.var()"
      ],
      "metadata": {
        "colab": {
          "base_uri": "https://localhost:8080/"
        },
        "id": "TJ3luYzPvdSf",
        "outputId": "dbb5445c-4b92-4f80-8b00-7f3cc7ba0371"
      },
      "execution_count": null,
      "outputs": [
        {
          "output_type": "execute_result",
          "data": {
            "text/plain": [
              "age         195.777855\n",
              "sex           0.250028\n",
              "bmi          29.393695\n",
              "children      1.497715\n",
              "smoker        0.054651\n",
              "dtype: float64"
            ]
          },
          "metadata": {},
          "execution_count": 39
        }
      ]
    },
    {
      "cell_type": "code",
      "source": [
        "from sklearn.preprocessing import StandardScaler\n",
        "scaler = StandardScaler()\n",
        "X_train = scaler.fit_transform(X_train)\n",
        "X_test = scaler.transform(X_test)"
      ],
      "metadata": {
        "id": "01NDGb2dXtJe"
      },
      "execution_count": null,
      "outputs": []
    },
    {
      "cell_type": "code",
      "source": [
        "X_train"
      ],
      "metadata": {
        "colab": {
          "base_uri": "https://localhost:8080/"
        },
        "id": "lf1vQCBGZugy",
        "outputId": "f41f3f60-0682-4148-e5ec-ad7e5c827e10"
      },
      "execution_count": null,
      "outputs": [
        {
          "output_type": "execute_result",
          "data": {
            "text/plain": [
              "array([[ 0.79831522, -0.98882646, -1.20883215,  0.76544083, -0.23744436],\n",
              "       [ 0.23330484, -0.98882646, -0.8822712 , -0.06030746, -0.23744436],\n",
              "       [ 0.16267855, -0.98882646,  0.29316267, -0.06030746, -0.23744436],\n",
              "       ...,\n",
              "       [-0.75546331,  1.01129979,  0.69858067, -0.88605575, -0.23744436],\n",
              "       [-0.96734219, -0.98882646, -1.2227481 , -0.88605575, -0.23744436],\n",
              "       [-1.39109997,  1.01129979,  0.75053355, -0.88605575, -0.23744436]])"
            ]
          },
          "metadata": {},
          "execution_count": 41
        }
      ]
    },
    {
      "cell_type": "code",
      "source": [
        "def calc_nn_params(n_inputs, n_hidden, n_classes):\n",
        "  i_weights = n_inputs*n_hidden\n",
        "  i_bias = n_hidden\n",
        "  h_weights = n_hidden*n_classes\n",
        "  h_bias = n_classes\n",
        "  n_params = i_weights + h_bias + h_weights + h_bias\n",
        "\n",
        "  return i_weights, i_bias, h_weights, h_bias, n_params\n"
      ],
      "metadata": {
        "id": "wTQIvpU6-GWZ"
      },
      "execution_count": null,
      "outputs": []
    },
    {
      "cell_type": "code",
      "source": [
        "n_inputs = 1+len(X.columns.tolist()[1:])\n",
        "n_hidden = 1\n",
        "n_classes = 1\n",
        "\n",
        "i_weights, i_bias, h_weights, h_bias, n_params = calc_nn_params(n_inputs, n_hidden, n_classes)\n"
      ],
      "metadata": {
        "id": "D9pD509M_sVx"
      },
      "execution_count": null,
      "outputs": []
    },
    {
      "cell_type": "code",
      "source": [
        "i_weights"
      ],
      "metadata": {
        "colab": {
          "base_uri": "https://localhost:8080/"
        },
        "id": "rxlzrEwjAX2H",
        "outputId": "f86f10b4-2d63-4cc0-b275-f369461673b5"
      },
      "execution_count": null,
      "outputs": [
        {
          "output_type": "execute_result",
          "data": {
            "text/plain": [
              "5"
            ]
          },
          "metadata": {},
          "execution_count": 44
        }
      ]
    },
    {
      "cell_type": "code",
      "source": [
        "h_weights"
      ],
      "metadata": {
        "colab": {
          "base_uri": "https://localhost:8080/"
        },
        "id": "1N9vZY2MDY24",
        "outputId": "a4402986-4056-4aa6-d395-73285750782e"
      },
      "execution_count": null,
      "outputs": [
        {
          "output_type": "execute_result",
          "data": {
            "text/plain": [
              "1"
            ]
          },
          "metadata": {},
          "execution_count": 45
        }
      ]
    },
    {
      "cell_type": "code",
      "source": [
        "def forward_prop(params):\n",
        "  W1 = params[:i_weights].reshape((n_inputs, n_hidden))\n",
        "  b1 = params[i_weights:i_weights+i_bias].reshape((n_hidden,))\n",
        "  W2 = params[i_weights + i_bias: i_weights + i_bias + h_weights].reshape((n_hidden, n_classes))\n",
        "  b2 = params[i_weights + i_bias+ h_weights:].reshape((n_classes,))\n",
        "\n",
        "  #Melakukan Forward Propagation\n",
        "  z1 = X_train.dot(W1) + b1\n",
        "  a1 = np.where(z1 > 0, z1, z1)\n",
        "  z2 = a1.dot(W2) + b2\n",
        "\n",
        "  loss = mean_squared_error(y_train, z2)\n",
        "\n",
        "  return loss\n"
      ],
      "metadata": {
        "id": "R0v6bHGlBD2t"
      },
      "execution_count": null,
      "outputs": []
    },
    {
      "cell_type": "code",
      "source": [
        "def f(x):\n",
        "  n_particles = x.shape[0]\n",
        "  j = [forward_prop(x[i]) for i in range(n_particles)]\n",
        "  return np.array(j)\n"
      ],
      "metadata": {
        "id": "6gvzNN3IRu6M"
      },
      "execution_count": null,
      "outputs": []
    },
    {
      "cell_type": "code",
      "source": [
        "def train_model(options):\n",
        "  optimizer = ps.single.GlobalBestPSO(n_particles = 50, dimensions = n_params, options = options)\n",
        "  #perform optimization\n",
        "  cost, pos = optimizer.optimize(f, iters = 200)\n",
        "\n",
        "  print('\\nModel Run Times:')\n",
        "  return cost, pos, optimizer.cost_history\n"
      ],
      "metadata": {
        "id": "JypkO44lSlLx"
      },
      "execution_count": null,
      "outputs": []
    },
    {
      "cell_type": "code",
      "source": [
        "def predict(X, pos):\n",
        "  W1 = pos[:i_weights].reshape((n_inputs, n_hidden))\n",
        "  b1 = pos[i_weights:i_weights+i_bias].reshape((n_hidden,))\n",
        "  W2 = pos[i_weights + i_bias: i_weights + i_bias + h_weights].reshape((n_hidden, n_classes))\n",
        "  b2 = pos[i_weights + i_bias+ h_weights:].reshape((n_classes,))\n",
        "\n",
        "  #Melakukan Forward Propagation\n",
        "  z1 = X.dot(W1) + b1\n",
        "  a1 = np.where(z1 > 0, z1, z1)\n",
        "  z2 = a1.dot(W2) + b2\n",
        "\n",
        "  y_pred = z2 \n",
        "\n",
        "  return y_pred"
      ],
      "metadata": {
        "id": "Gu79aP_GTozo"
      },
      "execution_count": null,
      "outputs": []
    },
    {
      "cell_type": "code",
      "source": [
        "def plot_history(history):\n",
        "  plt.style.use('ggplot')\n",
        "  plt.rcParams['ytick.right'] = True\n",
        "  plt.rcParams['ytick.labelright'] = True\n",
        "  plt.rcParams['ytick.left'] = False\n",
        "  plt.rcParams['ytick.labelleft'] = False\n",
        "  plt.rcParams['font.family'] = 'Arial'\n",
        "\n",
        "  plt.ylim([min(history)-0.1, max(history)+0.1])\n",
        "  plt.title('Cost History')\n",
        "  plt.plot(history)"
      ],
      "metadata": {
        "id": "oC1OT6ryUIJt"
      },
      "execution_count": null,
      "outputs": []
    },
    {
      "cell_type": "code",
      "source": [
        "checkpoint_state = np.random.get_state()"
      ],
      "metadata": {
        "id": "Hrkc-7tpU7rL"
      },
      "execution_count": null,
      "outputs": []
    },
    {
      "cell_type": "markdown",
      "source": [
        "### Inisiasi Model"
      ],
      "metadata": {
        "id": "b8bHpT_7VgdK"
      }
    },
    {
      "cell_type": "code",
      "source": [
        "np.random.set_state(checkpoint_state)\n",
        "options = {'c1': 2.05, 'c2': 2.05, 'w' : 0.72984}\n",
        "cost, pos, history = train_model(options)"
      ],
      "metadata": {
        "colab": {
          "base_uri": "https://localhost:8080/"
        },
        "id": "sIatTB1EVcvz",
        "outputId": "17b00ff9-0da8-4eaf-9037-8281aab835f1"
      },
      "execution_count": null,
      "outputs": [
        {
          "output_type": "stream",
          "name": "stderr",
          "text": [
            "2022-12-29 00:18:16,506 - pyswarms.single.global_best - INFO - Optimize for 200 iters with {'c1': 2.05, 'c2': 2.05, 'w': 0.72984}\n",
            "pyswarms.single.global_best: 100%|██████████|200/200, best_cost=0.248\n",
            "2022-12-29 00:18:19,863 - pyswarms.single.global_best - INFO - Optimization finished | best cost: 0.24836619243797553, best pos: [-2.37255856e+00  4.33870772e-01  1.08401048e-03 -1.08138046e-01\n",
            " -2.02685531e+00  1.81505550e+00 -2.81741081e-01  5.07266970e-01]\n"
          ]
        },
        {
          "output_type": "stream",
          "name": "stdout",
          "text": [
            "\n",
            "Model Run Times:\n"
          ]
        }
      ]
    },
    {
      "cell_type": "code",
      "source": [
        "plot_history(history)"
      ],
      "metadata": {
        "colab": {
          "base_uri": "https://localhost:8080/",
          "height": 337
        },
        "id": "TcLOzwgpV3h-",
        "outputId": "8dc3f7de-c839-419e-d745-fc58e412dc8d"
      },
      "execution_count": null,
      "outputs": [
        {
          "output_type": "stream",
          "name": "stderr",
          "text": [
            "2022-12-29 00:18:19,908 - matplotlib.font_manager - WARNING - findfont: Font family ['Arial'] not found. Falling back to DejaVu Sans.\n",
            "2022-12-29 00:18:19,923 - matplotlib.font_manager - WARNING - findfont: Font family ['Arial'] not found. Falling back to DejaVu Sans.\n"
          ]
        },
        {
          "output_type": "display_data",
          "data": {
            "text/plain": [
              "<Figure size 432x288 with 1 Axes>"
            ],
            "image/png": "[encoded data removed]"
          },
          "metadata": {}
        }
      ]
    },
    {
      "cell_type": "code",
      "source": [
        "print(f'MSE on training set: {mean_squared_error(predict(X_train, pos),y_train)}')"
      ],
      "metadata": {
        "colab": {
          "base_uri": "https://localhost:8080/"
        },
        "id": "2h1cIQ7omMMB",
        "outputId": "1137ea4c-66b9-4af2-9488-59269f74e359"
      },
      "execution_count": null,
      "outputs": [
        {
          "output_type": "stream",
          "name": "stdout",
          "text": [
            "MSE on training set: 0.24836619243797553\n"
          ]
        }
      ]
    },
    {
      "cell_type": "code",
      "source": [
        "print(f'MSE on test set: {mean_squared_error(predict(X_test, pos),y_test)}')"
      ],
      "metadata": {
        "colab": {
          "base_uri": "https://localhost:8080/"
        },
        "id": "t4xnMVt1Z_yP",
        "outputId": "1c54679c-43da-4acf-8d3b-f3817381aa2b"
      },
      "execution_count": null,
      "outputs": [
        {
          "output_type": "stream",
          "name": "stdout",
          "text": [
            "MSE on test set: 0.2652661962520534\n"
          ]
        }
      ]
    },
    {
      "cell_type": "code",
      "source": [
        "y_test.mean()"
      ],
      "metadata": {
        "colab": {
          "base_uri": "https://localhost:8080/"
        },
        "id": "MByJ6BLS07cE",
        "outputId": "52d9a970-0f02-481b-fe98-d06ccf13ac3d"
      },
      "execution_count": null,
      "outputs": [
        {
          "output_type": "execute_result",
          "data": {
            "text/plain": [
              "-0.00554378343902863"
            ]
          },
          "metadata": {},
          "execution_count": 56
        }
      ]
    },
    {
      "cell_type": "code",
      "source": [
        "y_test.var()"
      ],
      "metadata": {
        "colab": {
          "base_uri": "https://localhost:8080/"
        },
        "id": "u0ltCht-0_NK",
        "outputId": "f4d29a15-4b5e-4c34-9414-5ba3df37998f"
      },
      "execution_count": null,
      "outputs": [
        {
          "output_type": "execute_result",
          "data": {
            "text/plain": [
              "1.0043554105732906"
            ]
          },
          "metadata": {},
          "execution_count": 57
        }
      ]
    },
    {
      "cell_type": "code",
      "source": [
        "X_train_ish = predict(X_test, pos)\n",
        "X_train_ish"
      ],
      "metadata": {
        "colab": {
          "base_uri": "https://localhost:8080/"
        },
        "id": "5OjiMfn7SvpL",
        "outputId": "c7a262de-0c28-46b5-ea76-3285b14a8294"
      },
      "execution_count": null,
      "outputs": [
        {
          "output_type": "execute_result",
          "data": {
            "text/plain": [
              "array([[-0.24218604],\n",
              "       [-0.20358709],\n",
              "       [ 0.67994461],\n",
              "       [-0.07564694],\n",
              "       [ 0.62107708],\n",
              "       [ 2.05380936],\n",
              "       [ 0.23256678],\n",
              "       [-0.75809871],\n",
              "       [ 1.0542331 ],\n",
              "       [-1.26803186],\n",
              "       [-0.45858525],\n",
              "       [ 0.06286437],\n",
              "       [ 0.71543776],\n",
              "       [ 0.08773564],\n",
              "       [-0.69789466],\n",
              "       [ 0.47921035],\n",
              "       [-0.50014238],\n",
              "       [ 0.34915762],\n",
              "       [-0.98425478],\n",
              "       [ 1.10118408],\n",
              "       [-0.88978132],\n",
              "       [ 0.81817796],\n",
              "       [ 0.06275415],\n",
              "       [ 0.62963425],\n",
              "       [-1.02312658],\n",
              "       [ 0.29013113],\n",
              "       [-0.83351354],\n",
              "       [ 0.20475546],\n",
              "       [-1.12615947],\n",
              "       [-0.57247436],\n",
              "       [-0.3647496 ],\n",
              "       [-0.95022764],\n",
              "       [ 0.44076214],\n",
              "       [-0.59753377],\n",
              "       [ 0.2515863 ],\n",
              "       [-0.50926112],\n",
              "       [ 0.32424044],\n",
              "       [-0.69776007],\n",
              "       [-1.02298321],\n",
              "       [ 0.08819068],\n",
              "       [-0.8337439 ],\n",
              "       [ 0.11306479],\n",
              "       [-0.00324554],\n",
              "       [ 0.51570011],\n",
              "       [ 0.20761928],\n",
              "       [ 0.91289934],\n",
              "       [ 1.39285928],\n",
              "       [ 0.52603355],\n",
              "       [-0.24722431],\n",
              "       [ 0.77397719],\n",
              "       [-0.13138035],\n",
              "       [ 1.88690958],\n",
              "       [-0.91153717],\n",
              "       [ 1.10181989],\n",
              "       [ 0.77051496],\n",
              "       [-1.02301551],\n",
              "       [ 0.79071517],\n",
              "       [-0.1954181 ],\n",
              "       [ 0.84641514],\n",
              "       [-0.64480832],\n",
              "       [ 0.86576334],\n",
              "       [-0.52256577],\n",
              "       [-0.10099224],\n",
              "       [-0.33373135],\n",
              "       [-0.15594788],\n",
              "       [-0.59514907],\n",
              "       [ 0.04101757],\n",
              "       [ 0.01052151],\n",
              "       [-0.84982734],\n",
              "       [ 0.75208024],\n",
              "       [ 1.68491303],\n",
              "       [-0.6063978 ],\n",
              "       [ 0.77114028],\n",
              "       [-0.45297521],\n",
              "       [-0.58138825],\n",
              "       [-0.28894775],\n",
              "       [-0.71166398],\n",
              "       [-0.17845996],\n",
              "       [ 0.01902712],\n",
              "       [-0.55643991],\n",
              "       [-0.22011795],\n",
              "       [-0.36195238],\n",
              "       [-0.43416392],\n",
              "       [-1.0227214 ],\n",
              "       [ 0.34927662],\n",
              "       [ 0.32391885],\n",
              "       [-0.65312721],\n",
              "       [-0.69235743],\n",
              "       [-0.45625696],\n",
              "       [ 0.91570395],\n",
              "       [-0.69245405],\n",
              "       [-0.52558571],\n",
              "       [-0.83050125],\n",
              "       [ 1.22421857],\n",
              "       [-0.88181463],\n",
              "       [-0.97271081],\n",
              "       [ 0.65489455],\n",
              "       [-0.8339564 ],\n",
              "       [ 1.63742031],\n",
              "       [ 1.27364744],\n",
              "       [ 0.46548949],\n",
              "       [-0.88155283],\n",
              "       [ 0.57319987],\n",
              "       [ 0.25143245],\n",
              "       [ 0.5344176 ],\n",
              "       [-0.39251303],\n",
              "       [-0.13407048],\n",
              "       [ 0.62067445],\n",
              "       [ 0.80983613],\n",
              "       [-1.1919492 ],\n",
              "       [-0.18215312],\n",
              "       [-0.92841795],\n",
              "       [ 0.00997184],\n",
              "       [ 0.7712301 ],\n",
              "       [ 0.67658126],\n",
              "       [ 0.10996948],\n",
              "       [-0.46241271],\n",
              "       [ 0.8656517 ],\n",
              "       [ 0.1355066 ],\n",
              "       [ 0.7524313 ],\n",
              "       [ 0.12671568],\n",
              "       [-0.6755897 ],\n",
              "       [ 0.55974165],\n",
              "       [ 0.10420615],\n",
              "       [ 0.58216363],\n",
              "       [-1.02346318],\n",
              "       [-0.08382614],\n",
              "       [ 0.22994804],\n",
              "       [-0.58130495],\n",
              "       [ 0.24296651],\n",
              "       [-0.50879107],\n",
              "       [-0.51155261],\n",
              "       [ 0.85687155],\n",
              "       [-0.314435  ],\n",
              "       [-0.64580426],\n",
              "       [-0.84228605],\n",
              "       [-0.83904794],\n",
              "       [-1.00335874],\n",
              "       [ 0.18250575],\n",
              "       [ 0.53803709],\n",
              "       [-0.38397739],\n",
              "       [-0.81079517],\n",
              "       [-0.62828285],\n",
              "       [ 0.27165618],\n",
              "       [ 0.39669057],\n",
              "       [-0.03713668],\n",
              "       [-0.55926548],\n",
              "       [-1.19478073],\n",
              "       [-0.78704962],\n",
              "       [ 0.7154797 ],\n",
              "       [ 0.57356027],\n",
              "       [ 0.45677166],\n",
              "       [ 0.37122655],\n",
              "       [-1.21964804],\n",
              "       [ 2.21797481],\n",
              "       [ 2.03743462],\n",
              "       [ 1.61251276],\n",
              "       [-0.08676647],\n",
              "       [-0.01168428],\n",
              "       [-0.78674362],\n",
              "       [ 2.10943255],\n",
              "       [-0.67219292],\n",
              "       [-0.59487452],\n",
              "       [-0.14796504],\n",
              "       [ 1.51567503],\n",
              "       [ 0.08288381],\n",
              "       [-0.00312031],\n",
              "       [ 2.40651201],\n",
              "       [ 0.20418481],\n",
              "       [ 0.13024705],\n",
              "       [-0.92867381],\n",
              "       [-1.02348387],\n",
              "       [-1.16934277],\n",
              "       [-0.7705454 ],\n",
              "       [-0.62833668],\n",
              "       [ 0.31513614],\n",
              "       [ 0.65405558],\n",
              "       [ 0.10968444],\n",
              "       [-0.1914501 ],\n",
              "       [-1.220504  ],\n",
              "       [-0.55655211],\n",
              "       [-0.03216641],\n",
              "       [-1.24253724],\n",
              "       [ 0.18218048],\n",
              "       [ 0.19920265],\n",
              "       [ 0.08854741],\n",
              "       [ 0.85666386],\n",
              "       [-1.12562113],\n",
              "       [-0.88083116],\n",
              "       [-1.02329488],\n",
              "       [ 0.65417855],\n",
              "       [ 0.0946196 ],\n",
              "       [-0.88153753],\n",
              "       [-1.02291322],\n",
              "       [-0.23963983],\n",
              "       [ 0.37099988],\n",
              "       [-1.21961262],\n",
              "       [ 0.12649467],\n",
              "       [-0.84253936],\n",
              "       [-0.15632331],\n",
              "       [ 1.96260519],\n",
              "       [ 1.00678628],\n",
              "       [ 0.4320004 ],\n",
              "       [ 0.56339004],\n",
              "       [-1.02337592],\n",
              "       [-0.95023302],\n",
              "       [-1.04719712],\n",
              "       [ 0.86497849],\n",
              "       [ 0.13464837],\n",
              "       [ 0.07944651],\n",
              "       [ 0.04374397],\n",
              "       [-1.12582853],\n",
              "       [-0.55099987],\n",
              "       [ 0.43206699],\n",
              "       [ 0.56628418],\n",
              "       [-0.73931975],\n",
              "       [ 1.67913015],\n",
              "       [-0.40923769],\n",
              "       [-0.83945453],\n",
              "       [-0.35923702],\n",
              "       [ 0.17397408],\n",
              "       [-0.50391062],\n",
              "       [ 0.51313549],\n",
              "       [ 0.57389518],\n",
              "       [-1.26691721],\n",
              "       [-0.24220417],\n",
              "       [ 0.88267784],\n",
              "       [ 0.1522613 ],\n",
              "       [ 0.62700222],\n",
              "       [ 0.72403262],\n",
              "       [-0.59490653],\n",
              "       [ 0.39332779],\n",
              "       [-0.3841712 ],\n",
              "       [ 0.44060602],\n",
              "       [-0.07857168],\n",
              "       [-0.62843358],\n",
              "       [ 1.95932741],\n",
              "       [-1.07838171],\n",
              "       [-0.89002811],\n",
              "       [-1.07877441],\n",
              "       [-1.26700334],\n",
              "       [ 0.59906226],\n",
              "       [ 0.33755358],\n",
              "       [-0.05339469],\n",
              "       [-1.19451694],\n",
              "       [-0.93696436],\n",
              "       [ 1.82108414],\n",
              "       [ 0.09404754],\n",
              "       [-0.71999703],\n",
              "       [ 0.41059306],\n",
              "       [ 0.12743706],\n",
              "       [ 0.31555548],\n",
              "       [ 0.90400216],\n",
              "       [-0.61949107],\n",
              "       [ 0.24599836],\n",
              "       [ 0.86883882],\n",
              "       [-0.36143018],\n",
              "       [-0.9730817 ],\n",
              "       [-1.24220687],\n",
              "       [-0.17299952],\n",
              "       [ 2.74879225],\n",
              "       [ 1.79288153],\n",
              "       [-0.95044807],\n",
              "       [ 0.41308685],\n",
              "       [-0.73937896],\n",
              "       [-0.37045685],\n",
              "       [-1.05347926],\n",
              "       [-0.40912634],\n",
              "       [-0.09720785],\n",
              "       [ 0.37136567],\n",
              "       [-0.57313114],\n",
              "       [ 0.52702523],\n",
              "       [ 0.24921126],\n",
              "       [ 0.323935  ],\n",
              "       [ 0.67649966],\n",
              "       [ 0.11638394],\n",
              "       [ 1.00757226],\n",
              "       [ 1.0076261 ],\n",
              "       [-1.12583306],\n",
              "       [-0.67622353],\n",
              "       [-0.55954854],\n",
              "       [-1.21966362],\n",
              "       [ 0.36581315],\n",
              "       [ 1.34576238],\n",
              "       [ 0.76298687],\n",
              "       [ 1.29847706],\n",
              "       [ 1.27344287],\n",
              "       [-0.47512433],\n",
              "       [ 0.71565877],\n",
              "       [-0.93724968],\n",
              "       [ 0.16047762],\n",
              "       [-1.03160016],\n",
              "       [-0.07928286],\n",
              "       [-1.03115306],\n",
              "       [ 0.77419451],\n",
              "       [ 0.85696533],\n",
              "       [-0.33689665],\n",
              "       [ 0.77039652],\n",
              "       [-0.58171891],\n",
              "       [ 0.63207278],\n",
              "       [ 0.71842201],\n",
              "       [-0.62905098],\n",
              "       [-0.08692684],\n",
              "       [-0.13149368],\n",
              "       [ 0.86814407],\n",
              "       [ 0.24358419]])"
            ]
          },
          "metadata": {},
          "execution_count": 58
        }
      ]
    },
    {
      "cell_type": "code",
      "source": [
        "y_testish = np.concatenate((X_train_ish, y_test), axis = 1)"
      ],
      "metadata": {
        "id": "BehSAJMMOtal"
      },
      "execution_count": null,
      "outputs": []
    },
    {
      "cell_type": "code",
      "source": [
        "y_testish"
      ],
      "metadata": {
        "colab": {
          "base_uri": "https://localhost:8080/"
        },
        "id": "pupsmWFi2KJ6",
        "outputId": "81c90a78-f460-45b6-c0cb-7f61485e07d1"
      },
      "execution_count": null,
      "outputs": [
        {
          "output_type": "execute_result",
          "data": {
            "text/plain": [
              "array([[-0.24218604, -0.54996954],\n",
              "       [-0.20358709, -0.33740437],\n",
              "       [ 0.67994461,  0.66551595],\n",
              "       [-0.07564694, -0.35423739],\n",
              "       [ 0.62107708,  0.78886806],\n",
              "       [ 2.05380936,  2.53316251],\n",
              "       [ 0.23256678,  0.11131035],\n",
              "       [-0.75809871, -0.77956941],\n",
              "       [ 1.0542331 ,  1.27536179],\n",
              "       [-1.26803186, -1.44354983],\n",
              "       [-0.45858525, -0.40790987],\n",
              "       [ 0.06286437, -0.38131506],\n",
              "       [ 0.71543776,  0.99866196],\n",
              "       [ 0.08773564, -0.25565775],\n",
              "       [-0.69789466, -0.7505508 ],\n",
              "       [ 0.47921035,  0.5497432 ],\n",
              "       [-0.50014238, -0.69029334],\n",
              "       [ 0.34915762,  0.29873207],\n",
              "       [-0.98425478, -1.26755822],\n",
              "       [ 1.10118408,  1.24241598],\n",
              "       [-0.88978132, -1.11619045],\n",
              "       [ 0.81817796,  0.81137225],\n",
              "       [ 0.06275415, -0.30000004],\n",
              "       [ 0.62963425,  0.49788268],\n",
              "       [-1.02312658,  0.73547846],\n",
              "       [ 0.29013113,  0.16962178],\n",
              "       [-0.83351354, -1.15239917],\n",
              "       [ 0.20475546, -0.12112685],\n",
              "       [-1.12615947, -1.28110642],\n",
              "       [-0.57247436, -0.93439379],\n",
              "       [-0.3647496 ,  2.42502854],\n",
              "       [-0.95022764, -1.11417846],\n",
              "       [ 0.44076214,  0.12803413],\n",
              "       [-0.59753377, -0.97833315],\n",
              "       [ 0.2515863 , -0.13681077],\n",
              "       [-0.50926112, -0.65439806],\n",
              "       [ 0.32424044,  0.05040255],\n",
              "       [-0.69776007,  2.14277015],\n",
              "       [-1.02298321, -1.34332647],\n",
              "       [ 0.08819068, -0.25801089],\n",
              "       [-0.8337439 , -1.23195301],\n",
              "       [ 0.11306479, -0.05162318],\n",
              "       [-0.00324554, -0.09631599],\n",
              "       [ 0.51570011,  0.50332985],\n",
              "       [ 0.20761928,  0.06679224],\n",
              "       [ 0.91289934,  1.01646495],\n",
              "       [ 1.39285928,  2.01680444],\n",
              "       [ 0.52603355,  0.54969676],\n",
              "       [-0.24722431, -0.28281706],\n",
              "       [ 0.77397719,  0.90140718],\n",
              "       [-0.13138035, -0.2357125 ],\n",
              "       [ 1.88690958,  2.3941746 ],\n",
              "       [-0.91153717, -0.98754139],\n",
              "       [ 1.10181989,  1.31987308],\n",
              "       [ 0.77051496,  0.65285349],\n",
              "       [-1.02301551, -1.22024986],\n",
              "       [ 0.79071517,  1.24929278],\n",
              "       [-0.1954181 , -0.5795081 ],\n",
              "       [ 0.84641514,  1.14608291],\n",
              "       [-0.64480832, -1.01557588],\n",
              "       [ 0.86576334,  0.81022037],\n",
              "       [-0.52256577,  2.27914631],\n",
              "       [-0.10099224, -0.39669833],\n",
              "       [-0.33373135, -0.39651321],\n",
              "       [-0.15594788, -0.36294052],\n",
              "       [-0.59514907, -0.84457555],\n",
              "       [ 0.04101757, -0.31563008],\n",
              "       [ 0.01052151, -0.05632503],\n",
              "       [-0.84982734, -0.69702692],\n",
              "       [ 0.75208024,  0.86675456],\n",
              "       [ 1.68491303,  1.55272586],\n",
              "       [-0.6063978 , -0.87010001],\n",
              "       [ 0.77114028,  0.77252933],\n",
              "       [-0.45297521, -0.73040436],\n",
              "       [-0.58138825, -0.82590278],\n",
              "       [-0.28894775, -0.68053532],\n",
              "       [-0.71166398, -0.74365574],\n",
              "       [-0.17845996, -0.29381521],\n",
              "       [ 0.01902712, -0.16703918],\n",
              "       [-0.55643991, -0.700644  ],\n",
              "       [-0.22011795, -0.58314229],\n",
              "       [-0.36195238, -0.7667572 ],\n",
              "       [-0.43416392, -0.27992579],\n",
              "       [-1.0227214 , -1.34468034],\n",
              "       [ 0.34927662,  0.1752071 ],\n",
              "       [ 0.32391885,  0.17497514],\n",
              "       [-0.65312721, -0.99799684],\n",
              "       [-0.69235743, -1.00781632],\n",
              "       [-0.45625696, -0.93601416],\n",
              "       [ 0.91570395,  1.18342038],\n",
              "       [-0.69245405, -1.13022625],\n",
              "       [-0.52558571, -0.77082786],\n",
              "       [-0.83050125, -1.01479706],\n",
              "       [ 1.22421857,  1.78391463],\n",
              "       [-0.88181463, -1.25798852],\n",
              "       [-0.97271081, -1.09475181],\n",
              "       [ 0.65489455,  0.62152825],\n",
              "       [-0.8339564 , -1.23085409],\n",
              "       [ 1.63742031,  1.91664006],\n",
              "       [ 1.27364744,  1.21304171],\n",
              "       [ 0.46548949,  0.33518083],\n",
              "       [-0.88155283, -1.25934238],\n",
              "       [ 0.57319987,  0.630039  ],\n",
              "       [ 0.25143245, -0.0552701 ],\n",
              "       [ 0.5344176 ,  0.39669614],\n",
              "       [-0.39251303, -0.55249385],\n",
              "       [-0.13407048, -0.42736576],\n",
              "       [ 0.62067445,  0.71020507],\n",
              "       [ 0.80983613,  1.12960392],\n",
              "       [-1.1919492 , -0.95126401],\n",
              "       [-0.18215312, -0.48169959],\n",
              "       [-0.92841795, -1.16728483],\n",
              "       [ 0.00997184, -0.0534825 ],\n",
              "       [ 0.7712301 ,  0.64915528],\n",
              "       [ 0.67658126,  0.49435996],\n",
              "       [ 0.10996948, -0.19901665],\n",
              "       [-0.46241271, -0.60502569],\n",
              "       [ 0.8656517 ,  0.89154272],\n",
              "       [ 0.1355066 , -0.19971218],\n",
              "       [ 0.7524313 ,  0.94568421],\n",
              "       [ 0.12671568,  0.01449239],\n",
              "       [-0.6755897 , -0.79203844],\n",
              "       [ 0.55974165,  0.39710246],\n",
              "       [ 0.10420615,  0.15584162],\n",
              "       [ 0.58216363,  0.34404101],\n",
              "       [-1.02346318, -1.3408444 ],\n",
              "       [-0.08382614, -0.05573646],\n",
              "       [ 0.22994804, -0.07787615],\n",
              "       [-0.58130495, -0.82633355],\n",
              "       [ 0.24296651,  0.09777871],\n",
              "       [-0.50879107, -0.5760838 ],\n",
              "       [-0.51155261, -0.73654725],\n",
              "       [ 0.85687155,  1.13838599],\n",
              "       [-0.314435  , -0.80300725],\n",
              "       [-0.64580426, -1.01042565],\n",
              "       [-0.84228605, -1.0379246 ],\n",
              "       [-0.83904794, -0.95074475],\n",
              "       [-1.00335874, -0.95944477],\n",
              "       [ 0.18250575, -0.13835736],\n",
              "       [ 0.53803709,  0.44787198],\n",
              "       [-0.38397739, -0.76813372],\n",
              "       [-0.81079517, -0.61432143],\n",
              "       [-0.62828285, -0.79145528],\n",
              "       [ 0.27165618,  0.47865589],\n",
              "       [ 0.39669057,  0.36299838],\n",
              "       [-0.03713668,  2.27944   ],\n",
              "       [-0.55926548, -0.90435883],\n",
              "       [-1.19478073, -1.21696448],\n",
              "       [-0.78704962,  0.5907071 ],\n",
              "       [ 0.7154797 ,  0.87553553],\n",
              "       [ 0.57356027,  0.7089203 ],\n",
              "       [ 0.45677166,  0.51789207],\n",
              "       [ 0.37122655,  0.11749673],\n",
              "       [-1.21964804, -1.3426423 ],\n",
              "       [ 2.21797481,  1.65004042],\n",
              "       [ 2.03743462,  1.71214991],\n",
              "       [ 1.61251276,  1.4162476 ],\n",
              "       [-0.08676647, -0.36758752],\n",
              "       [-0.01168428,  0.08770747],\n",
              "       [-0.78674362,  1.08207979],\n",
              "       [ 2.10943255,  2.43035161],\n",
              "       [-0.67219292, -0.58702352],\n",
              "       [-0.59487452, -0.72308576],\n",
              "       [-0.14796504, -0.53042651],\n",
              "       [ 1.51567503,  2.09728096],\n",
              "       [ 0.08288381,  0.13097947],\n",
              "       [-0.00312031, -0.17770867],\n",
              "       [ 2.40651201,  2.42899674],\n",
              "       [ 0.20418481,  1.01262053],\n",
              "       [ 0.13024705,  0.31761504],\n",
              "       [-0.92867381, -1.28887131],\n",
              "       [-1.02348387, -1.21782786],\n",
              "       [-1.16934277, -1.0942376 ],\n",
              "       [-0.7705454 , -0.99442087],\n",
              "       [-0.62833668, -0.74901237],\n",
              "       [ 0.31513614,  0.29458751],\n",
              "       [ 0.65405558,  0.5451217 ],\n",
              "       [ 0.10968444, -0.32045222],\n",
              "       [-0.1914501 , -0.26162745],\n",
              "       [-1.220504  , -1.33821588],\n",
              "       [-0.55655211, -0.70006378],\n",
              "       [-0.03216641, -0.49159548],\n",
              "       [-1.24253724, -1.321116  ],\n",
              "       [ 0.18218048, -0.13667529],\n",
              "       [ 0.19920265,  0.20540617],\n",
              "       [ 0.08854741,  1.20831918],\n",
              "       [ 0.85666386,  1.26236956],\n",
              "       [-1.12562113, -1.24172581],\n",
              "       [-0.88083116, -1.14016472],\n",
              "       [-1.02329488, -1.34171474],\n",
              "       [ 0.65417855,  0.62523085],\n",
              "       [ 0.0946196 ,  0.2048719 ],\n",
              "       [-0.88153753, -1.2594215 ],\n",
              "       [-1.02291322, -1.22077881],\n",
              "       [-0.23963983, -0.30406348],\n",
              "       [ 0.37099988,  0.11866891],\n",
              "       [-1.21961262, -1.42357051],\n",
              "       [ 0.12649467,  0.01563526],\n",
              "       [-0.84253936, -1.15952427],\n",
              "       [-0.15632331, -0.28025405],\n",
              "       [ 1.96260519,  2.36246163],\n",
              "       [ 1.00678628,  1.18938016],\n",
              "       [ 0.4320004 ,  0.51462711],\n",
              "       [ 0.56339004,  0.57103842],\n",
              "       [-1.02337592, -1.34129568],\n",
              "       [-0.95023302, -1.11415062],\n",
              "       [-1.04719712, -0.64911478],\n",
              "       [ 0.86497849,  0.81427902],\n",
              "       [ 0.13464837, -0.07236446],\n",
              "       [ 0.07944651,  0.07177153],\n",
              "       [ 0.04374397, -0.12132838],\n",
              "       [-1.12582853,  1.81148809],\n",
              "       [-0.55099987, -1.01658739],\n",
              "       [ 0.43206699,  0.39137321],\n",
              "       [ 0.56628418,  0.75029278],\n",
              "       [-0.73931975, -1.08600226],\n",
              "       [ 1.67913015,  2.51710296],\n",
              "       [-0.40923769, -0.76886971],\n",
              "       [-0.83945453, -0.86789711],\n",
              "       [-0.35923702, -0.64179948],\n",
              "       [ 0.17397408,  0.20450608],\n",
              "       [-0.50391062, -0.97555041],\n",
              "       [ 0.51313549,  0.44528102],\n",
              "       [ 0.57389518,  0.62644336],\n",
              "       [-1.26691721, -1.32640442],\n",
              "       [-0.24220417, -0.63062082],\n",
              "       [ 0.88267784,  1.33995314],\n",
              "       [ 0.1522613 ,  0.25957206],\n",
              "       [ 0.62700222,  1.04465413],\n",
              "       [ 0.72403262,  0.65113726],\n",
              "       [-0.59490653, -0.84582977],\n",
              "       [ 0.39332779,  0.06042193],\n",
              "       [-0.3841712 , -0.68638645],\n",
              "       [ 0.44060602,  0.20958652],\n",
              "       [-0.07857168, -0.55034942],\n",
              "       [-0.62843358, -0.79067579],\n",
              "       [ 1.95932741,  2.47203683],\n",
              "       [-1.07838171, -1.33430093],\n",
              "       [-0.89002811, -1.19565931],\n",
              "       [-1.07877441, -1.33227014],\n",
              "       [-1.26700334, -1.32595899],\n",
              "       [ 0.59906226,  0.75057098],\n",
              "       [ 0.33755358,  0.36445907],\n",
              "       [-0.05339469, -0.3033635 ],\n",
              "       [-1.19451694, -1.29907365],\n",
              "       [-0.93696436, -1.11032395],\n",
              "       [ 1.82108414,  2.0384695 ],\n",
              "       [ 0.09404754,  0.12708511],\n",
              "       [-0.71999703, -0.74727333],\n",
              "       [ 0.41059306,  0.43669606],\n",
              "       [ 0.12743706,  0.09150701],\n",
              "       [ 0.31555548,  0.41532856],\n",
              "       [ 0.90400216,  1.22883879],\n",
              "       [-0.61949107, -0.97296988],\n",
              "       [ 0.24599836,  0.27632097],\n",
              "       [ 0.86883882,  0.97719305],\n",
              "       [-0.36143018, -0.72729308],\n",
              "       [-0.9730817 , -0.96992426],\n",
              "       [-1.24220687, -1.32282444],\n",
              "       [-0.17299952, -0.53233028],\n",
              "       [ 2.74879225,  2.48855685],\n",
              "       [ 1.79288153,  1.7170953 ],\n",
              "       [-0.95044807, -1.19378357],\n",
              "       [ 0.41308685,  0.73667637],\n",
              "       [-0.73937896, -1.04353151],\n",
              "       [-0.37045685, -0.70567866],\n",
              "       [-1.05347926, -1.12805973],\n",
              "       [-0.40912634, -0.89235511],\n",
              "       [-0.09720785, -0.16144926],\n",
              "       [ 0.37136567,  0.19752237],\n",
              "       [-0.57313114, -0.93099742],\n",
              "       [ 0.52702523,  0.5445685 ],\n",
              "       [ 0.24921126,  0.57825453],\n",
              "       [ 0.323935  ,  0.05198205],\n",
              "       [ 0.67649966,  0.61769152],\n",
              "       [ 0.11638394,  1.65175287],\n",
              "       [ 1.00757226,  1.18531564],\n",
              "       [ 1.0076261 ,  1.14287273],\n",
              "       [-1.12583306, -1.36353941],\n",
              "       [-0.67622353,  2.31254473],\n",
              "       [-0.55954854,  0.92990839],\n",
              "       [-1.21966362, -1.42330677],\n",
              "       [ 0.36581315,  0.54106984],\n",
              "       [ 1.34576238,  1.78289991],\n",
              "       [ 0.76298687,  1.08269666],\n",
              "       [ 1.29847706,  1.93633401],\n",
              "       [ 1.27344287,  1.58626263],\n",
              "       [-0.47512433, -0.56539501],\n",
              "       [ 0.71565877,  0.87460951],\n",
              "       [-0.93724968, -1.15101299],\n",
              "       [ 0.16047762, -0.07457062],\n",
              "       [-1.03160016, -1.30018068],\n",
              "       [-0.07928286, -0.54667172],\n",
              "       [-1.03115306, -1.30249279],\n",
              "       [ 0.77419451,  0.81953831],\n",
              "       [ 0.85696533,  1.26081057],\n",
              "       [-0.33689665, -0.59988923],\n",
              "       [ 0.77039652,  0.65346595],\n",
              "       [-0.58171891, -0.70128329],\n",
              "       [ 0.63207278,  0.71740365],\n",
              "       [ 0.71842201,  1.04036088],\n",
              "       [-0.62905098, -0.86822813],\n",
              "       [-0.08692684, -0.24384863],\n",
              "       [-0.13149368, -0.15438136],\n",
              "       [ 0.86814407,  0.98078576],\n",
              "       [ 0.24358419,  0.09458453]])"
            ]
          },
          "metadata": {},
          "execution_count": 60
        }
      ]
    },
    {
      "cell_type": "code",
      "source": [
        "y_test_inverse.mean()"
      ],
      "metadata": {
        "colab": {
          "base_uri": "https://localhost:8080/"
        },
        "id": "5WLjggD722JV",
        "outputId": "92245491-61b5-4b1e-e268-9264306ae337"
      },
      "execution_count": null,
      "outputs": [
        {
          "output_type": "execute_result",
          "data": {
            "text/plain": [
              "7967.72590748366"
            ]
          },
          "metadata": {},
          "execution_count": 61
        }
      ]
    },
    {
      "cell_type": "code",
      "source": [
        "y_test_inverse.std()"
      ],
      "metadata": {
        "colab": {
          "base_uri": "https://localhost:8080/"
        },
        "id": "ZeLEG2RK3_CC",
        "outputId": "bf439dfc-4945-423c-8207-8ef732e8f001"
      },
      "execution_count": null,
      "outputs": [
        {
          "output_type": "execute_result",
          "data": {
            "text/plain": [
              "4753.642835106251"
            ]
          },
          "metadata": {},
          "execution_count": 62
        }
      ]
    },
    {
      "cell_type": "code",
      "source": [
        "y_test_inverse[0]"
      ],
      "metadata": {
        "id": "Cp_PuyCTdkXS",
        "colab": {
          "base_uri": "https://localhost:8080/"
        },
        "outputId": "8f014af7-71d2-46d6-d9a4-69146a2c28d6"
      },
      "execution_count": null,
      "outputs": [
        {
          "output_type": "execute_result",
          "data": {
            "text/plain": [
              "array([5385.3379])"
            ]
          },
          "metadata": {},
          "execution_count": 63
        }
      ]
    },
    {
      "cell_type": "code",
      "source": [
        "5385.3379 - 7967.72590748366"
      ],
      "metadata": {
        "colab": {
          "base_uri": "https://localhost:8080/"
        },
        "id": "7ZzI_MvY4ls0",
        "outputId": "13d28b3e-a469-4bda-eb2f-2eefd170f307"
      },
      "execution_count": null,
      "outputs": [
        {
          "output_type": "execute_result",
          "data": {
            "text/plain": [
              "-2582.3880074836597"
            ]
          },
          "metadata": {},
          "execution_count": 64
        }
      ]
    },
    {
      "cell_type": "code",
      "source": [
        "-2582.3880074836597 / 4753.642835106251"
      ],
      "metadata": {
        "colab": {
          "base_uri": "https://localhost:8080/"
        },
        "id": "fI-om5O44sJs",
        "outputId": "46d828e5-cd31-46e7-bc98-89a397f7cf40"
      },
      "execution_count": null,
      "outputs": [
        {
          "output_type": "execute_result",
          "data": {
            "text/plain": [
              "-0.5432440124471277"
            ]
          },
          "metadata": {},
          "execution_count": 65
        }
      ]
    },
    {
      "cell_type": "code",
      "source": [
        "-0.54996954 * 4753.642835106251 + 7967.72590748366"
      ],
      "metadata": {
        "colab": {
          "base_uri": "https://localhost:8080/"
        },
        "id": "w-uJQ1b94sD2",
        "outputId": "712e9d6e-5f91-4f3a-b67e-9e4b41b5472b"
      },
      "execution_count": null,
      "outputs": [
        {
          "output_type": "execute_result",
          "data": {
            "text/plain": [
              "5353.367144135979"
            ]
          },
          "metadata": {},
          "execution_count": 66
        }
      ]
    },
    {
      "cell_type": "code",
      "source": [
        "-0.41363629 * 4753.642835106251 + 7967.72590748366"
      ],
      "metadata": {
        "colab": {
          "base_uri": "https://localhost:8080/"
        },
        "id": "10vUC66y5Xtz",
        "outputId": "e3e5b9f5-5c8a-4079-9894-db702d341d3d"
      },
      "execution_count": null,
      "outputs": [
        {
          "output_type": "execute_result",
          "data": {
            "text/plain": [
              "6001.446721185229"
            ]
          },
          "metadata": {},
          "execution_count": 67
        }
      ]
    },
    {
      "cell_type": "code",
      "source": [
        "for i in range(len(y_testish)):\n",
        "  for j in range(len(y_testish[i])):\n",
        "    y_testish[i][j] = y_testish[i][j]* y_test_inverse.std()  + y_test_inverse.mean()\n",
        "\n",
        "print (y_testish)"
      ],
      "metadata": {
        "colab": {
          "base_uri": "https://localhost:8080/"
        },
        "id": "1rbx96Fd5sH3",
        "outputId": "15d40b81-91c2-487c-e321-541277622f04"
      },
      "execution_count": null,
      "outputs": [
        {
          "output_type": "stream",
          "name": "stdout",
          "text": [
            "[[ 6816.45998137  5353.36716362]\n",
            " [ 6999.9455831   6363.82603323]\n",
            " [11199.93974468 11131.35105603]\n",
            " [ 7608.12736889  6283.80789447]\n",
            " [10920.10450818 11717.72289495]\n",
            " [17730.80207097 20009.47571797]\n",
            " [ 9073.26530115  8496.85557428]\n",
            " [ 4363.99538379  4261.9313741 ]\n",
            " [12979.17354376 14030.34035266]\n",
            " [ 1939.95534666  1105.60559843]\n",
            " [ 5787.77540234  6028.66808355]\n",
            " [ 8266.560648    6155.09029781]\n",
            " [11368.66149925 12715.00816973]\n",
            " [ 8384.78981612  6752.42027265]\n",
            " [ 4650.18396732  4399.87549801]\n",
            " [10245.72077273 10581.00872339]\n",
            " [ 5590.22768258  4686.31790489]\n",
            " [ 9627.49651105  9387.79145521]\n",
            " [ 3288.93023847  1942.20683964]\n",
            " [13202.36173267 13873.72770653]\n",
            " [ 3738.02329134  2661.75515374]\n",
            " [11857.05172573 11824.69980089]\n",
            " [ 8266.03670819  6541.63288388]\n",
            " [10960.78224298 10334.48235897]\n",
            " [ 3104.14758267 11463.92780291]\n",
            " [ 9346.90566985  8774.04725136]\n",
            " [ 4005.50022435  2489.63183988]\n",
            " [ 8941.0602159   7391.93210817]\n",
            " [ 2614.3660199   1877.80354473]\n",
            " [ 5246.3872723   3525.95154346]\n",
            " [ 6233.83660816 19495.44547497]\n",
            " [ 3450.68311775  2671.3194642 ]\n",
            " [10062.95171592  8576.3544359 ]\n",
            " [ 5127.26376992  3317.07956231]\n",
            " [ 9163.6773239   7317.3763762 ]\n",
            " [ 5546.88041387  4856.95123456]\n",
            " [ 9509.04914692  8207.32160681]\n",
            " [ 4650.82373958 18153.6898669 ]\n",
            " [ 3104.82910848  1582.03163708]\n",
            " [ 8386.95291978  6741.23429217]\n",
            " [ 4004.40520363  2111.46132638]\n",
            " [ 8505.19555679  7722.32777075]\n",
            " [ 7952.29776696  7509.87411515]\n",
            " [10419.18006124 10360.37626473]\n",
            " [ 8954.6738199   8285.23237127]\n",
            " [12307.32330643 12799.63721702]\n",
            " [14588.8814532  17554.89385986]\n",
            " [10468.30151473 10580.78799427]\n",
            " [ 6792.50985785  6623.3146337 ]\n",
            " [11646.93703833 12252.69371192]\n",
            " [ 7343.19066845  6847.23287454]\n",
            " [16937.42009381 19348.77684349]\n",
            " [ 3634.60376462  3273.30684849]\n",
            " [13205.3841515  14241.9311353 ]\n",
            " [11630.47880485 11071.15820037]\n",
            " [ 3104.67556314  2167.09388337]\n",
            " [11726.50341754 13906.4175637 ]\n",
            " [ 7038.77808002  5212.95137466]\n",
            " [11991.28118508 13415.79470919]\n",
            " [ 4902.53743381  3140.04087906]\n",
            " [12083.25559902 11819.22416538]\n",
            " [ 5483.63488547 18801.97344251]\n",
            " [ 7487.64485554  6081.96371798]\n",
            " [ 6381.28627629  6082.84372815]\n",
            " [ 7226.4053653   6242.43629255]\n",
            " [ 5138.59978469  3952.91541868]\n",
            " [ 8162.70876992  6467.33325781]\n",
            " [ 8017.74141814  7699.97685546]\n",
            " [ 3927.95024156  4654.30887553]\n",
            " [11542.84676091 12087.96750435]\n",
            " [15977.20065973 15348.83008944]\n",
            " [ 5085.12735438  3831.58124862]\n",
            " [11633.45138878 11640.05440638]\n",
            " [ 5814.44354777  4495.64447582]\n",
            " [ 5204.01380431  4041.67909066]\n",
            " [ 6594.17151427  4732.70404144]\n",
            " [ 4584.72954103  4432.65214357]\n",
            " [ 7119.39099195  6571.03335104]\n",
            " [ 8058.17401914  7173.68131921]\n",
            " [ 5322.60932623  4637.11455324]\n",
            " [ 6921.36377972  5195.67572584]\n",
            " [ 6247.13358961  4322.83602479]\n",
            " [ 5903.86571079  6637.05866674]\n",
            " [ 3106.07363388  1575.59586748]\n",
            " [ 9628.06220442  8800.59788262]\n",
            " [ 9507.52042796  8799.49523921]\n",
            " [ 4862.99243263  3223.60536559]\n",
            " [ 4676.50596229  3176.92709492]\n",
            " [ 5798.84328256  3518.24892402]\n",
            " [12320.65541064 13593.28371993]\n",
            " [ 4676.04667316  2595.03397759]\n",
            " [ 5469.27914565  4303.48557236]\n",
            " [ 4019.81959816  3143.7431152 ]\n",
            " [13787.22373898 16447.81892373]\n",
            " [ 3775.89410954  1987.69778308]\n",
            " [ 3343.80612707  2763.66681496]\n",
            " [11080.86068963 10922.24922596]\n",
            " [ 4003.39503691  2116.68516533]\n",
            " [15751.43721912 17078.74817976]\n",
            " [14022.19092313 13734.09296292]\n",
            " [10180.49666445  9561.05584592]\n",
            " [ 3777.13863494  1981.26201348]\n",
            " [10692.51333926 10962.70629278]\n",
            " [ 9162.9459632   7704.99159054]\n",
            " [10508.15630037  9853.47768184]\n",
            " [ 6101.85914714  5341.36746687]\n",
            " [ 7330.40270739  5936.18173106]\n",
            " [10918.19057897 11343.78717357]\n",
            " [11817.39762654 13337.45947337]\n",
            " [ 2301.62512338  3445.75657086]\n",
            " [ 7101.83504396  5677.89809611]\n",
            " [ 3554.35855337  2418.87074461]\n",
            " [ 8015.12845356  7713.48918556]\n",
            " [11633.87835258 11053.57824101]\n",
            " [11183.95157545 10317.73661036]\n",
            " [ 8490.48154451  7021.67181474]\n",
            " [ 5769.58102899  5091.64987552]\n",
            " [12082.72492477 12205.80157704]\n",
            " [ 8611.87590168  7018.36553807]\n",
            " [11544.51555633 12463.17087732]\n",
            " [ 8570.0869835   8036.61757367]\n",
            " [ 4756.21376484  4202.65806442]\n",
            " [10628.53779704  9855.40917438]\n",
            " [ 8463.08473215  8708.54131303]\n",
            " [10735.1238597   9603.17396825]\n",
            " [ 3102.54747859  1593.830548  ]\n",
            " [ 7569.24638397  7702.77467847]\n",
            " [ 9060.8167561   7597.53048359]\n",
            " [ 5204.40978967  4039.63134579]\n",
            " [ 9122.70192665  8432.53095013]\n",
            " [ 5549.11490265  5229.22925772]\n",
            " [ 5535.98752557  4466.44334133]\n",
            " [12040.98718837 13379.20628973]\n",
            " [ 6473.01420956  4150.51623445]\n",
            " [ 4897.80311912  3164.52327097]\n",
            " [ 3963.79885395  3033.80307744]\n",
            " [ 3979.19169826  3448.22492872]\n",
            " [ 3198.11684281  3406.868159  ]\n",
            " [ 8835.29306173  7310.02441792]\n",
            " [10525.36205722 10096.74933152]\n",
            " [ 6142.43451838  4316.29257146]\n",
            " [ 4113.49523651  5047.46125894]\n",
            " [ 4981.0936463   4205.43018162]\n",
            " [ 9259.08236767 10243.08507042]\n",
            " [ 9853.45120989  9693.29057693]\n",
            " [ 7791.19139438 18803.36954291]\n",
            " [ 5309.17755224  3668.72705447]\n",
            " [ 2288.16506472  2182.7114331 ]\n",
            " [ 4226.37311115 10775.73648285]\n",
            " [11368.86083881 12129.7091094 ]\n",
            " [10694.22658201 11337.67981683]\n",
            " [10139.05524362 10429.59982259]\n",
            " [ 9732.40435007  8526.26340744]\n",
            " [ 2169.95475305  1585.2839466 ]\n",
            " [18511.18597239 15811.42871407]\n",
            " [17652.96240341 16106.67508097]\n",
            " [15633.03564922 14700.06116031]\n",
            " [ 7555.26911995  6220.34614328]\n",
            " [ 7912.18303175  8384.65588168]\n",
            " [ 4227.82775122 13111.54675328]\n",
            " [17995.2148316  19520.74943018]\n",
            " [ 4772.36086698  5177.22577806]\n",
            " [ 5139.90492009  4530.43444153]\n",
            " [ 7264.35295617  5446.26771517]\n",
            " [15172.70366122 17937.45049395]\n",
            " [ 8361.72594553  8590.35552691]\n",
            " [ 7952.89309188  7122.9623778 ]\n",
            " [19407.4244767  19514.30885014]\n",
            " [ 8938.34758154 12781.36221899]\n",
            " [ 8586.87385789  9477.55434611]\n",
            " [ 3553.14231264  1840.89202394]\n",
            " [ 3102.44915569  2178.60722443]\n",
            " [ 2409.08801076  2766.11117073]\n",
            " [ 4304.82830697  3240.60426369]\n",
            " [ 4980.83773739  4407.18862201]\n",
            " [ 9465.77056955  9368.08969022]\n",
            " [11076.87255143 10559.03978723]\n",
            " [ 8489.12657422  6444.41050128]\n",
            " [ 7057.64051029  6724.04247531]\n",
            " [ 2165.8858015   1606.32556991]\n",
            " [ 5322.0759582   4639.8727402 ]\n",
            " [ 7814.81826455  5630.85658699]\n",
            " [ 2061.14767049  1687.61231233]\n",
            " [ 8833.7468332   7318.02037408]\n",
            " [ 8914.66414204  8944.15348692]\n",
            " [ 8388.64865298 13711.64372422]\n",
            " [12039.99991876 13968.57994445]\n",
            " [ 2616.92510892  2065.00488722]\n",
            " [ 3780.56916112  2547.79007916]\n",
            " [ 3103.34753063  1589.69326755]\n",
            " [11077.45710123 10939.85008068]\n",
            " [ 8417.51367796  8941.61372406]\n",
            " [ 3777.21136694  1980.88589708]\n",
            " [ 3105.16179005  2164.57947556]\n",
            " [ 6828.56372284  6522.31670584]\n",
            " [ 9731.32683891  8531.83550232]\n",
            " [ 2170.12311417  1200.58015184]\n",
            " [ 8569.03641011  8042.05036618]\n",
            " [ 3962.59473522  2455.7616707 ]\n",
            " [ 7224.62073743  6635.49822963]\n",
            " [17297.2500202  19198.0247183 ]\n",
            " [12753.62829916 13621.61436492]\n",
            " [10021.3015273  10414.07938366]\n",
            " [10645.88093657 10682.23860473]\n",
            " [ 3102.96232038  1591.68529147]\n",
            " [ 3450.65752686  2671.45180145]\n",
            " [ 2989.72482639  4882.06609933]\n",
            " [12079.52471661 11838.51754392]\n",
            " [ 8607.79617503  7623.73110511]\n",
            " [ 8345.38623828  8308.90214931]\n",
            " [ 8175.66913278  7390.97412877]\n",
            " [ 2615.9391862  16578.89329605]\n",
            " [ 5348.46933829  3135.232542  ]\n",
            " [10021.61804621  9828.17435801]\n",
            " [10659.63865769 11534.34981215]\n",
            " [ 4453.26389782  2805.25904578]\n",
            " [15949.71091203 19933.13436009]\n",
            " [ 6022.35607172  4312.79392724]\n",
            " [ 3977.25891261  3842.05302885]\n",
            " [ 6260.04142379  4916.8404311 ]\n",
            " [ 8794.73654694  8939.87474942]\n",
            " [ 5572.31480902  3330.30767548]\n",
            " [10406.98877198 10084.43284715]\n",
            " [10695.81860476 10945.61389171]\n",
            " [ 1945.25400783  1662.4730446 ]\n",
            " [ 6816.37378047  4969.97977628]\n",
            " [12163.66109005 14337.3845281 ]\n",
            " [ 8691.52174734  9201.638789  ]\n",
            " [10948.27049779 12933.6385326 ]\n",
            " [11409.51837027 11062.99989181]\n",
            " [ 5139.75272164  3946.95327716]\n",
            " [ 9837.46573444  8254.95019025]\n",
            " [ 6141.51324633  4704.88986751]\n",
            " [10062.20958011  8964.02537118]\n",
            " [ 7594.22418376  5351.56134388]\n",
            " [ 4980.37710137  4209.13562472]\n",
            " [17281.66861143 19718.90605239]\n",
            " [ 2841.4844308   1624.93586574]\n",
            " [ 3736.85015106  2283.98861712]\n",
            " [ 2839.6176427   1634.58952013]\n",
            " [ 1944.84455358  1664.59044065]\n",
            " [10815.45392495 11535.67228273]\n",
            " [ 9572.33508199  9700.23414876]\n",
            " [ 7713.90664507  6525.64417851]\n",
            " [ 2289.41901834  1792.39375275]\n",
            " [ 3513.73200036  2689.64243636]\n",
            " [16624.50948928 17657.8818574 ]\n",
            " [ 8414.79430915  8571.84314361]\n",
            " [ 4545.1171954   4415.45541605]\n",
            " [ 9919.538674   10043.62301461]\n",
            " [ 8573.51616279  8402.71753662]\n",
            " [ 9467.76396521  9942.04953746]\n",
            " [12265.02930489 13809.18661251]\n",
            " [ 5022.88660515  3342.57460228]\n",
            " [ 9137.1142358   9281.25710991]\n",
            " [12097.87532908 12612.95264624]\n",
            " [ 6249.61590596  4510.43437904]\n",
            " [ 3342.04304942  3357.052378  ]\n",
            " [ 2062.71814302  1679.49098403]\n",
            " [ 7145.34798002  5437.21787143]\n",
            " [21034.5025058  19797.43636165]\n",
            " [16490.44435038 16130.1836591 ]\n",
            " [ 3449.63523814  2292.90517155]\n",
            " [ 9931.39324102 11469.62226341]\n",
            " [ 4452.98239802  3007.14982342]\n",
            " [ 6206.70637616  4613.18160396]\n",
            " [ 2959.8617567   2605.33283247]\n",
            " [ 6022.88539908  3725.78841285]\n",
            " [ 7505.63450177  7200.2537979 ]\n",
            " [ 9733.06567255  8906.67668913]\n",
            " [ 5243.2651837   3542.0966884 ]\n",
            " [10473.01562609 10556.41007914]\n",
            " [ 9152.387207   10716.541413  ]\n",
            " [ 9507.59720063  8214.83000467]\n",
            " [11183.56367143 10904.01078729]\n",
            " [ 8520.97361135 15819.56911376]\n",
            " [12757.36456913 13602.2931259 ]\n",
            " [12757.62047803 13400.53468552]\n",
            " [ 2615.91763598  1485.94657317]\n",
            " [ 4753.20077424 18960.73757871]\n",
            " [ 5307.83201017 12388.17824701]\n",
            " [ 2169.88067416  1201.83387319]\n",
            " [ 9706.67094557 10539.77867873]\n",
            " [14364.99961647 16442.9953035 ]\n",
            " [11594.69297076 13114.47911833]\n",
            " [14140.22209857 17172.36618864]\n",
            " [14021.21846931 15508.25188316]\n",
            " [ 5709.15453918  5280.03994829]\n",
            " [11369.71207264 12125.30715444]\n",
            " [ 3512.37568318  2496.22124295]\n",
            " [ 8730.57917471  7613.24379117]\n",
            " [ 3063.86718012  1787.13133004]\n",
            " [ 7590.84349247  5369.04379158]\n",
            " [ 3065.9925709   1776.14037288]\n",
            " [11647.97010216 11863.51831102]\n",
            " [12041.43300862 13961.16905825]\n",
            " [ 6366.23958244  5116.06677527]\n",
            " [11629.91580527 11074.06961995]\n",
            " [ 5202.4419849   4634.07560685]\n",
            " [10972.37416665 11378.00665096]\n",
            " [11382.84753105 12913.22993334]\n",
            " [ 4977.44223033  3840.47946324]\n",
            " [ 7554.5067808   6808.55662319]\n",
            " [ 7342.65191287  7233.85207691]\n",
            " [12094.57275735 12630.03111706]\n",
            " [ 9125.63814458  8417.34699157]]\n"
          ]
        }
      ]
    },
    {
      "cell_type": "code",
      "source": [
        "X_test_inverse = scaler.inverse_transform(X_test)"
      ],
      "metadata": {
        "id": "iSQItSiZ8X2C"
      },
      "execution_count": null,
      "outputs": []
    },
    {
      "cell_type": "code",
      "source": [
        "X_test_inverse"
      ],
      "metadata": {
        "colab": {
          "base_uri": "https://localhost:8080/"
        },
        "id": "1CfmnTUc8gqV",
        "outputId": "681ff1d3-201d-47e1-d78a-02ce2cc819fc"
      },
      "execution_count": null,
      "outputs": [
        {
          "output_type": "execute_result",
          "data": {
            "text/plain": [
              "array([[34.   ,  0.   , 26.41 ,  1.   ,  0.   ],\n",
              "       [40.   ,  1.   , 29.355,  1.   ,  0.   ],\n",
              "       [53.   ,  0.   , 26.7  ,  2.   ,  0.   ],\n",
              "       ...,\n",
              "       [41.   ,  1.   , 34.2  ,  2.   ,  0.   ],\n",
              "       [57.   ,  0.   , 38.   ,  2.   ,  0.   ],\n",
              "       [50.   ,  1.   , 25.3  ,  0.   ,  0.   ]])"
            ]
          },
          "metadata": {},
          "execution_count": 70
        }
      ]
    },
    {
      "cell_type": "markdown",
      "source": [],
      "metadata": {
        "id": "5ZwSjYHo9Tf7"
      }
    },
    {
      "cell_type": "code",
      "source": [
        "X_overview = np.concatenate((X_test_inverse, y_testish), axis = 1)"
      ],
      "metadata": {
        "id": "Mmvmq9T28igC"
      },
      "execution_count": null,
      "outputs": []
    },
    {
      "cell_type": "code",
      "source": [
        "X_overview"
      ],
      "metadata": {
        "colab": {
          "base_uri": "https://localhost:8080/"
        },
        "id": "1tObjXXG9Rhi",
        "outputId": "21b67e44-4b7c-4264-b49d-2c4e6145b18a"
      },
      "execution_count": null,
      "outputs": [
        {
          "output_type": "execute_result",
          "data": {
            "text/plain": [
              "array([[3.40000000e+01, 0.00000000e+00, 2.64100000e+01, ...,\n",
              "        0.00000000e+00, 6.81645998e+03, 5.35336716e+03],\n",
              "       [4.00000000e+01, 1.00000000e+00, 2.93550000e+01, ...,\n",
              "        0.00000000e+00, 6.99994558e+03, 6.36382603e+03],\n",
              "       [5.30000000e+01, 0.00000000e+00, 2.67000000e+01, ...,\n",
              "        0.00000000e+00, 1.11999397e+04, 1.11313511e+04],\n",
              "       ...,\n",
              "       [4.10000000e+01, 1.00000000e+00, 3.42000000e+01, ...,\n",
              "        0.00000000e+00, 7.34265191e+03, 7.23385208e+03],\n",
              "       [5.70000000e+01, 0.00000000e+00, 3.80000000e+01, ...,\n",
              "        0.00000000e+00, 1.20945728e+04, 1.26300311e+04],\n",
              "       [5.00000000e+01, 1.00000000e+00, 2.53000000e+01, ...,\n",
              "        0.00000000e+00, 9.12563814e+03, 8.41734699e+03]])"
            ]
          },
          "metadata": {},
          "execution_count": 72
        }
      ]
    },
    {
      "cell_type": "code",
      "source": [
        "x_overview_df = pd.DataFrame(X_overview)"
      ],
      "metadata": {
        "id": "pMjBwe9T9TKG"
      },
      "execution_count": null,
      "outputs": []
    },
    {
      "cell_type": "code",
      "source": [
        "x_overview_df"
      ],
      "metadata": {
        "colab": {
          "base_uri": "https://localhost:8080/",
          "height": 424
        },
        "id": "Rz2Sd4XW9aeh",
        "outputId": "b2fee93c-c70c-4574-9172-433b67d92682"
      },
      "execution_count": null,
      "outputs": [
        {
          "output_type": "execute_result",
          "data": {
            "text/plain": [
              "        0    1       2    3    4             5             6\n",
              "0    34.0  0.0  26.410  1.0  0.0   6816.459981   5353.367164\n",
              "1    40.0  1.0  29.355  1.0  0.0   6999.945583   6363.826033\n",
              "2    53.0  0.0  26.700  2.0  0.0  11199.939745  11131.351056\n",
              "3    37.0  0.0  30.800  2.0  0.0   7608.127369   6283.807894\n",
              "4    58.0  1.0  28.595  0.0  0.0  10920.104508  11717.722895\n",
              "..    ...  ...     ...  ...  ...           ...           ...\n",
              "301  31.0  1.0  39.490  1.0  0.0   4977.442230   3840.479463\n",
              "302  43.0  1.0  26.030  0.0  0.0   7554.506781   6808.556623\n",
              "303  41.0  1.0  34.200  2.0  0.0   7342.651913   7233.852077\n",
              "304  57.0  0.0  38.000  2.0  0.0  12094.572757  12630.031117\n",
              "305  50.0  1.0  25.300  0.0  0.0   9125.638145   8417.346992\n",
              "\n",
              "[306 rows x 7 columns]"
            ],
            "text/html": [
              "\n",
              "  <div id=\"df-bbf33989-ab66-4d7e-8d59-57e2594bb609\">\n",
              "    <div class=\"colab-df-container\">\n",
              "      <div>\n",
              "<style scoped>\n",
              "    .dataframe tbody tr th:only-of-type {\n",
              "        vertical-align: middle;\n",
              "    }\n",
              "\n",
              "    .dataframe tbody tr th {\n",
              "        vertical-align: top;\n",
              "    }\n",
              "\n",
              "    .dataframe thead th {\n",
              "        text-align: right;\n",
              "    }\n",
              "</style>\n",
              "<table border=\"1\" class=\"dataframe\">\n",
              "  <thead>\n",
              "    <tr style=\"text-align: right;\">\n",
              "      <th></th>\n",
              "      <th>0</th>\n",
              "      <th>1</th>\n",
              "      <th>2</th>\n",
              "      <th>3</th>\n",
              "      <th>4</th>\n",
              "      <th>5</th>\n",
              "      <th>6</th>\n",
              "    </tr>\n",
              "  </thead>\n",
              "  <tbody>\n",
              "    <tr>\n",
              "      <th>0</th>\n",
              "      <td>34.0</td>\n",
              "      <td>0.0</td>\n",
              "      <td>26.410</td>\n",
              "      <td>1.0</td>\n",
              "      <td>0.0</td>\n",
              "      <td>6816.459981</td>\n",
              "      <td>5353.367164</td>\n",
              "    </tr>\n",
              "    <tr>\n",
              "      <th>1</th>\n",
              "      <td>40.0</td>\n",
              "      <td>1.0</td>\n",
              "      <td>29.355</td>\n",
              "      <td>1.0</td>\n",
              "      <td>0.0</td>\n",
              "      <td>6999.945583</td>\n",
              "      <td>6363.826033</td>\n",
              "    </tr>\n",
              "    <tr>\n",
              "      <th>2</th>\n",
              "      <td>53.0</td>\n",
              "      <td>0.0</td>\n",
              "      <td>26.700</td>\n",
              "      <td>2.0</td>\n",
              "      <td>0.0</td>\n",
              "      <td>11199.939745</td>\n",
              "      <td>11131.351056</td>\n",
              "    </tr>\n",
              "    <tr>\n",
              "      <th>3</th>\n",
              "      <td>37.0</td>\n",
              "      <td>0.0</td>\n",
              "      <td>30.800</td>\n",
              "      <td>2.0</td>\n",
              "      <td>0.0</td>\n",
              "      <td>7608.127369</td>\n",
              "      <td>6283.807894</td>\n",
              "    </tr>\n",
              "    <tr>\n",
              "      <th>4</th>\n",
              "      <td>58.0</td>\n",
              "      <td>1.0</td>\n",
              "      <td>28.595</td>\n",
              "      <td>0.0</td>\n",
              "      <td>0.0</td>\n",
              "      <td>10920.104508</td>\n",
              "      <td>11717.722895</td>\n",
              "    </tr>\n",
              "    <tr>\n",
              "      <th>...</th>\n",
              "      <td>...</td>\n",
              "      <td>...</td>\n",
              "      <td>...</td>\n",
              "      <td>...</td>\n",
              "      <td>...</td>\n",
              "      <td>...</td>\n",
              "      <td>...</td>\n",
              "    </tr>\n",
              "    <tr>\n",
              "      <th>301</th>\n",
              "      <td>31.0</td>\n",
              "      <td>1.0</td>\n",
              "      <td>39.490</td>\n",
              "      <td>1.0</td>\n",
              "      <td>0.0</td>\n",
              "      <td>4977.442230</td>\n",
              "      <td>3840.479463</td>\n",
              "    </tr>\n",
              "    <tr>\n",
              "      <th>302</th>\n",
              "      <td>43.0</td>\n",
              "      <td>1.0</td>\n",
              "      <td>26.030</td>\n",
              "      <td>0.0</td>\n",
              "      <td>0.0</td>\n",
              "      <td>7554.506781</td>\n",
              "      <td>6808.556623</td>\n",
              "    </tr>\n",
              "    <tr>\n",
              "      <th>303</th>\n",
              "      <td>41.0</td>\n",
              "      <td>1.0</td>\n",
              "      <td>34.200</td>\n",
              "      <td>2.0</td>\n",
              "      <td>0.0</td>\n",
              "      <td>7342.651913</td>\n",
              "      <td>7233.852077</td>\n",
              "    </tr>\n",
              "    <tr>\n",
              "      <th>304</th>\n",
              "      <td>57.0</td>\n",
              "      <td>0.0</td>\n",
              "      <td>38.000</td>\n",
              "      <td>2.0</td>\n",
              "      <td>0.0</td>\n",
              "      <td>12094.572757</td>\n",
              "      <td>12630.031117</td>\n",
              "    </tr>\n",
              "    <tr>\n",
              "      <th>305</th>\n",
              "      <td>50.0</td>\n",
              "      <td>1.0</td>\n",
              "      <td>25.300</td>\n",
              "      <td>0.0</td>\n",
              "      <td>0.0</td>\n",
              "      <td>9125.638145</td>\n",
              "      <td>8417.346992</td>\n",
              "    </tr>\n",
              "  </tbody>\n",
              "</table>\n",
              "<p>306 rows × 7 columns</p>\n",
              "</div>\n",
              "      <button class=\"colab-df-convert\" onclick=\"convertToInteractive('df-bbf33989-ab66-4d7e-8d59-57e2594bb609')\"\n",
              "              title=\"Convert this dataframe to an interactive table.\"\n",
              "              style=\"display:none;\">\n",
              "        \n",
              "  <svg xmlns=\"http://www.w3.org/2000/svg\" height=\"24px\"viewBox=\"0 0 24 24\"\n",
              "       width=\"24px\">\n",
              "    <path d=\"M0 0h24v24H0V0z\" fill=\"none\"/>\n",
              "    <path d=\"M18.56 5.44l.94 2.06.94-2.06 2.06-.94-2.06-.94-.94-2.06-.94 2.06-2.06.94zm-11 1L8.5 8.5l.94-2.06 2.06-.94-2.06-.94L8.5 2.5l-.94 2.06-2.06.94zm10 10l.94 2.06.94-2.06 2.06-.94-2.06-.94-.94-2.06-.94 2.06-2.06.94z\"/><path d=\"M17.41 7.96l-1.37-1.37c-.4-.4-.92-.59-1.43-.59-.52 0-1.04.2-1.43.59L10.3 9.45l-7.72 7.72c-.78.78-.78 2.05 0 2.83L4 21.41c.39.39.9.59 1.41.59.51 0 1.02-.2 1.41-.59l7.78-7.78 2.81-2.81c.8-.78.8-2.07 0-2.86zM5.41 20L4 18.59l7.72-7.72 1.47 1.35L5.41 20z\"/>\n",
              "  </svg>\n",
              "      </button>\n",
              "      \n",
              "  <style>\n",
              "    .colab-df-container {\n",
              "      display:flex;\n",
              "      flex-wrap:wrap;\n",
              "      gap: 12px;\n",
              "    }\n",
              "\n",
              "    .colab-df-convert {\n",
              "      background-color: #E8F0FE;\n",
              "      border: none;\n",
              "      border-radius: 50%;\n",
              "      cursor: pointer;\n",
              "      display: none;\n",
              "      fill: #1967D2;\n",
              "      height: 32px;\n",
              "      padding: 0 0 0 0;\n",
              "      width: 32px;\n",
              "    }\n",
              "\n",
              "    .colab-df-convert:hover {\n",
              "      background-color: #E2EBFA;\n",
              "      box-shadow: 0px 1px 2px rgba(60, 64, 67, 0.3), 0px 1px 3px 1px rgba(60, 64, 67, 0.15);\n",
              "      fill: #174EA6;\n",
              "    }\n",
              "\n",
              "    [theme=dark] .colab-df-convert {\n",
              "      background-color: #3B4455;\n",
              "      fill: #D2E3FC;\n",
              "    }\n",
              "\n",
              "    [theme=dark] .colab-df-convert:hover {\n",
              "      background-color: #434B5C;\n",
              "      box-shadow: 0px 1px 3px 1px rgba(0, 0, 0, 0.15);\n",
              "      filter: drop-shadow(0px 1px 2px rgba(0, 0, 0, 0.3));\n",
              "      fill: #FFFFFF;\n",
              "    }\n",
              "  </style>\n",
              "\n",
              "      <script>\n",
              "        const buttonEl =\n",
              "          document.querySelector('#df-bbf33989-ab66-4d7e-8d59-57e2594bb609 button.colab-df-convert');\n",
              "        buttonEl.style.display =\n",
              "          google.colab.kernel.accessAllowed ? 'block' : 'none';\n",
              "\n",
              "        async function convertToInteractive(key) {\n",
              "          const element = document.querySelector('#df-bbf33989-ab66-4d7e-8d59-57e2594bb609');\n",
              "          const dataTable =\n",
              "            await google.colab.kernel.invokeFunction('convertToInteractive',\n",
              "                                                     [key], {});\n",
              "          if (!dataTable) return;\n",
              "\n",
              "          const docLinkHtml = 'Like what you see? Visit the ' +\n",
              "            '<a target=\"_blank\" href=https://colab.research.google.com/notebooks/data_table.ipynb>data table notebook</a>'\n",
              "            + ' to learn more about interactive tables.';\n",
              "          element.innerHTML = '';\n",
              "          dataTable['output_type'] = 'display_data';\n",
              "          await google.colab.output.renderOutput(dataTable, element);\n",
              "          const docLink = document.createElement('div');\n",
              "          docLink.innerHTML = docLinkHtml;\n",
              "          element.appendChild(docLink);\n",
              "        }\n",
              "      </script>\n",
              "    </div>\n",
              "  </div>\n",
              "  "
            ]
          },
          "metadata": {},
          "execution_count": 74
        }
      ]
    },
    {
      "cell_type": "code",
      "source": [
        "x_overview_df"
      ],
      "metadata": {
        "colab": {
          "base_uri": "https://localhost:8080/",
          "height": 424
        },
        "id": "u4rUzMP89cKE",
        "outputId": "70aa0e51-ba20-4c78-a523-eb7fb34b420d"
      },
      "execution_count": null,
      "outputs": [
        {
          "output_type": "execute_result",
          "data": {
            "text/plain": [
              "        0    1       2    3    4             5             6\n",
              "0    34.0  0.0  26.410  1.0  0.0   6816.459981   5353.367164\n",
              "1    40.0  1.0  29.355  1.0  0.0   6999.945583   6363.826033\n",
              "2    53.0  0.0  26.700  2.0  0.0  11199.939745  11131.351056\n",
              "3    37.0  0.0  30.800  2.0  0.0   7608.127369   6283.807894\n",
              "4    58.0  1.0  28.595  0.0  0.0  10920.104508  11717.722895\n",
              "..    ...  ...     ...  ...  ...           ...           ...\n",
              "301  31.0  1.0  39.490  1.0  0.0   4977.442230   3840.479463\n",
              "302  43.0  1.0  26.030  0.0  0.0   7554.506781   6808.556623\n",
              "303  41.0  1.0  34.200  2.0  0.0   7342.651913   7233.852077\n",
              "304  57.0  0.0  38.000  2.0  0.0  12094.572757  12630.031117\n",
              "305  50.0  1.0  25.300  0.0  0.0   9125.638145   8417.346992\n",
              "\n",
              "[306 rows x 7 columns]"
            ],
            "text/html": [
              "\n",
              "  <div id=\"df-94646e08-b3a6-404e-97b5-6d906440d51e\">\n",
              "    <div class=\"colab-df-container\">\n",
              "      <div>\n",
              "<style scoped>\n",
              "    .dataframe tbody tr th:only-of-type {\n",
              "        vertical-align: middle;\n",
              "    }\n",
              "\n",
              "    .dataframe tbody tr th {\n",
              "        vertical-align: top;\n",
              "    }\n",
              "\n",
              "    .dataframe thead th {\n",
              "        text-align: right;\n",
              "    }\n",
              "</style>\n",
              "<table border=\"1\" class=\"dataframe\">\n",
              "  <thead>\n",
              "    <tr style=\"text-align: right;\">\n",
              "      <th></th>\n",
              "      <th>0</th>\n",
              "      <th>1</th>\n",
              "      <th>2</th>\n",
              "      <th>3</th>\n",
              "      <th>4</th>\n",
              "      <th>5</th>\n",
              "      <th>6</th>\n",
              "    </tr>\n",
              "  </thead>\n",
              "  <tbody>\n",
              "    <tr>\n",
              "      <th>0</th>\n",
              "      <td>34.0</td>\n",
              "      <td>0.0</td>\n",
              "      <td>26.410</td>\n",
              "      <td>1.0</td>\n",
              "      <td>0.0</td>\n",
              "      <td>6816.459981</td>\n",
              "      <td>5353.367164</td>\n",
              "    </tr>\n",
              "    <tr>\n",
              "      <th>1</th>\n",
              "      <td>40.0</td>\n",
              "      <td>1.0</td>\n",
              "      <td>29.355</td>\n",
              "      <td>1.0</td>\n",
              "      <td>0.0</td>\n",
              "      <td>6999.945583</td>\n",
              "      <td>6363.826033</td>\n",
              "    </tr>\n",
              "    <tr>\n",
              "      <th>2</th>\n",
              "      <td>53.0</td>\n",
              "      <td>0.0</td>\n",
              "      <td>26.700</td>\n",
              "      <td>2.0</td>\n",
              "      <td>0.0</td>\n",
              "      <td>11199.939745</td>\n",
              "      <td>11131.351056</td>\n",
              "    </tr>\n",
              "    <tr>\n",
              "      <th>3</th>\n",
              "      <td>37.0</td>\n",
              "      <td>0.0</td>\n",
              "      <td>30.800</td>\n",
              "      <td>2.0</td>\n",
              "      <td>0.0</td>\n",
              "      <td>7608.127369</td>\n",
              "      <td>6283.807894</td>\n",
              "    </tr>\n",
              "    <tr>\n",
              "      <th>4</th>\n",
              "      <td>58.0</td>\n",
              "      <td>1.0</td>\n",
              "      <td>28.595</td>\n",
              "      <td>0.0</td>\n",
              "      <td>0.0</td>\n",
              "      <td>10920.104508</td>\n",
              "      <td>11717.722895</td>\n",
              "    </tr>\n",
              "    <tr>\n",
              "      <th>...</th>\n",
              "      <td>...</td>\n",
              "      <td>...</td>\n",
              "      <td>...</td>\n",
              "      <td>...</td>\n",
              "      <td>...</td>\n",
              "      <td>...</td>\n",
              "      <td>...</td>\n",
              "    </tr>\n",
              "    <tr>\n",
              "      <th>301</th>\n",
              "      <td>31.0</td>\n",
              "      <td>1.0</td>\n",
              "      <td>39.490</td>\n",
              "      <td>1.0</td>\n",
              "      <td>0.0</td>\n",
              "      <td>4977.442230</td>\n",
              "      <td>3840.479463</td>\n",
              "    </tr>\n",
              "    <tr>\n",
              "      <th>302</th>\n",
              "      <td>43.0</td>\n",
              "      <td>1.0</td>\n",
              "      <td>26.030</td>\n",
              "      <td>0.0</td>\n",
              "      <td>0.0</td>\n",
              "      <td>7554.506781</td>\n",
              "      <td>6808.556623</td>\n",
              "    </tr>\n",
              "    <tr>\n",
              "      <th>303</th>\n",
              "      <td>41.0</td>\n",
              "      <td>1.0</td>\n",
              "      <td>34.200</td>\n",
              "      <td>2.0</td>\n",
              "      <td>0.0</td>\n",
              "      <td>7342.651913</td>\n",
              "      <td>7233.852077</td>\n",
              "    </tr>\n",
              "    <tr>\n",
              "      <th>304</th>\n",
              "      <td>57.0</td>\n",
              "      <td>0.0</td>\n",
              "      <td>38.000</td>\n",
              "      <td>2.0</td>\n",
              "      <td>0.0</td>\n",
              "      <td>12094.572757</td>\n",
              "      <td>12630.031117</td>\n",
              "    </tr>\n",
              "    <tr>\n",
              "      <th>305</th>\n",
              "      <td>50.0</td>\n",
              "      <td>1.0</td>\n",
              "      <td>25.300</td>\n",
              "      <td>0.0</td>\n",
              "      <td>0.0</td>\n",
              "      <td>9125.638145</td>\n",
              "      <td>8417.346992</td>\n",
              "    </tr>\n",
              "  </tbody>\n",
              "</table>\n",
              "<p>306 rows × 7 columns</p>\n",
              "</div>\n",
              "      <button class=\"colab-df-convert\" onclick=\"convertToInteractive('df-94646e08-b3a6-404e-97b5-6d906440d51e')\"\n",
              "              title=\"Convert this dataframe to an interactive table.\"\n",
              "              style=\"display:none;\">\n",
              "        \n",
              "  <svg xmlns=\"http://www.w3.org/2000/svg\" height=\"24px\"viewBox=\"0 0 24 24\"\n",
              "       width=\"24px\">\n",
              "    <path d=\"M0 0h24v24H0V0z\" fill=\"none\"/>\n",
              "    <path d=\"M18.56 5.44l.94 2.06.94-2.06 2.06-.94-2.06-.94-.94-2.06-.94 2.06-2.06.94zm-11 1L8.5 8.5l.94-2.06 2.06-.94-2.06-.94L8.5 2.5l-.94 2.06-2.06.94zm10 10l.94 2.06.94-2.06 2.06-.94-2.06-.94-.94-2.06-.94 2.06-2.06.94z\"/><path d=\"M17.41 7.96l-1.37-1.37c-.4-.4-.92-.59-1.43-.59-.52 0-1.04.2-1.43.59L10.3 9.45l-7.72 7.72c-.78.78-.78 2.05 0 2.83L4 21.41c.39.39.9.59 1.41.59.51 0 1.02-.2 1.41-.59l7.78-7.78 2.81-2.81c.8-.78.8-2.07 0-2.86zM5.41 20L4 18.59l7.72-7.72 1.47 1.35L5.41 20z\"/>\n",
              "  </svg>\n",
              "      </button>\n",
              "      \n",
              "  <style>\n",
              "    .colab-df-container {\n",
              "      display:flex;\n",
              "      flex-wrap:wrap;\n",
              "      gap: 12px;\n",
              "    }\n",
              "\n",
              "    .colab-df-convert {\n",
              "      background-color: #E8F0FE;\n",
              "      border: none;\n",
              "      border-radius: 50%;\n",
              "      cursor: pointer;\n",
              "      display: none;\n",
              "      fill: #1967D2;\n",
              "      height: 32px;\n",
              "      padding: 0 0 0 0;\n",
              "      width: 32px;\n",
              "    }\n",
              "\n",
              "    .colab-df-convert:hover {\n",
              "      background-color: #E2EBFA;\n",
              "      box-shadow: 0px 1px 2px rgba(60, 64, 67, 0.3), 0px 1px 3px 1px rgba(60, 64, 67, 0.15);\n",
              "      fill: #174EA6;\n",
              "    }\n",
              "\n",
              "    [theme=dark] .colab-df-convert {\n",
              "      background-color: #3B4455;\n",
              "      fill: #D2E3FC;\n",
              "    }\n",
              "\n",
              "    [theme=dark] .colab-df-convert:hover {\n",
              "      background-color: #434B5C;\n",
              "      box-shadow: 0px 1px 3px 1px rgba(0, 0, 0, 0.15);\n",
              "      filter: drop-shadow(0px 1px 2px rgba(0, 0, 0, 0.3));\n",
              "      fill: #FFFFFF;\n",
              "    }\n",
              "  </style>\n",
              "\n",
              "      <script>\n",
              "        const buttonEl =\n",
              "          document.querySelector('#df-94646e08-b3a6-404e-97b5-6d906440d51e button.colab-df-convert');\n",
              "        buttonEl.style.display =\n",
              "          google.colab.kernel.accessAllowed ? 'block' : 'none';\n",
              "\n",
              "        async function convertToInteractive(key) {\n",
              "          const element = document.querySelector('#df-94646e08-b3a6-404e-97b5-6d906440d51e');\n",
              "          const dataTable =\n",
              "            await google.colab.kernel.invokeFunction('convertToInteractive',\n",
              "                                                     [key], {});\n",
              "          if (!dataTable) return;\n",
              "\n",
              "          const docLinkHtml = 'Like what you see? Visit the ' +\n",
              "            '<a target=\"_blank\" href=https://colab.research.google.com/notebooks/data_table.ipynb>data table notebook</a>'\n",
              "            + ' to learn more about interactive tables.';\n",
              "          element.innerHTML = '';\n",
              "          dataTable['output_type'] = 'display_data';\n",
              "          await google.colab.output.renderOutput(dataTable, element);\n",
              "          const docLink = document.createElement('div');\n",
              "          docLink.innerHTML = docLinkHtml;\n",
              "          element.appendChild(docLink);\n",
              "        }\n",
              "      </script>\n",
              "    </div>\n",
              "  </div>\n",
              "  "
            ]
          },
          "metadata": {},
          "execution_count": 75
        }
      ]
    },
    {
      "cell_type": "code",
      "source": [
        "x_overview_df.rename(columns = {0:'age', 1:'sex',\n",
        "                              2:'bmi', 3: 'children', 4:  'smoker', 5 : 'predicted_charges', 6: 'charges'}, inplace = True)\n",
        "   "
      ],
      "metadata": {
        "id": "gMeiZsMd-V8k"
      },
      "execution_count": null,
      "outputs": []
    },
    {
      "cell_type": "code",
      "source": [
        "x_overview_df"
      ],
      "metadata": {
        "colab": {
          "base_uri": "https://localhost:8080/",
          "height": 424
        },
        "id": "Vrwig9A5-z8e",
        "outputId": "137dda28-9a40-43f8-95c8-cba1d24ae858"
      },
      "execution_count": null,
      "outputs": [
        {
          "output_type": "execute_result",
          "data": {
            "text/plain": [
              "      age  sex     bmi  children  smoker  predicted_charges       charges\n",
              "0    34.0  0.0  26.410       1.0     0.0        6816.459981   5353.367164\n",
              "1    40.0  1.0  29.355       1.0     0.0        6999.945583   6363.826033\n",
              "2    53.0  0.0  26.700       2.0     0.0       11199.939745  11131.351056\n",
              "3    37.0  0.0  30.800       2.0     0.0        7608.127369   6283.807894\n",
              "4    58.0  1.0  28.595       0.0     0.0       10920.104508  11717.722895\n",
              "..    ...  ...     ...       ...     ...                ...           ...\n",
              "301  31.0  1.0  39.490       1.0     0.0        4977.442230   3840.479463\n",
              "302  43.0  1.0  26.030       0.0     0.0        7554.506781   6808.556623\n",
              "303  41.0  1.0  34.200       2.0     0.0        7342.651913   7233.852077\n",
              "304  57.0  0.0  38.000       2.0     0.0       12094.572757  12630.031117\n",
              "305  50.0  1.0  25.300       0.0     0.0        9125.638145   8417.346992\n",
              "\n",
              "[306 rows x 7 columns]"
            ],
            "text/html": [
              "\n",
              "  <div id=\"df-619f162e-673e-4d47-9b41-cb01e63e5a6b\">\n",
              "    <div class=\"colab-df-container\">\n",
              "      <div>\n",
              "<style scoped>\n",
              "    .dataframe tbody tr th:only-of-type {\n",
              "        vertical-align: middle;\n",
              "    }\n",
              "\n",
              "    .dataframe tbody tr th {\n",
              "        vertical-align: top;\n",
              "    }\n",
              "\n",
              "    .dataframe thead th {\n",
              "        text-align: right;\n",
              "    }\n",
              "</style>\n",
              "<table border=\"1\" class=\"dataframe\">\n",
              "  <thead>\n",
              "    <tr style=\"text-align: right;\">\n",
              "      <th></th>\n",
              "      <th>age</th>\n",
              "      <th>sex</th>\n",
              "      <th>bmi</th>\n",
              "      <th>children</th>\n",
              "      <th>smoker</th>\n",
              "      <th>predicted_charges</th>\n",
              "      <th>charges</th>\n",
              "    </tr>\n",
              "  </thead>\n",
              "  <tbody>\n",
              "    <tr>\n",
              "      <th>0</th>\n",
              "      <td>34.0</td>\n",
              "      <td>0.0</td>\n",
              "      <td>26.410</td>\n",
              "      <td>1.0</td>\n",
              "      <td>0.0</td>\n",
              "      <td>6816.459981</td>\n",
              "      <td>5353.367164</td>\n",
              "    </tr>\n",
              "    <tr>\n",
              "      <th>1</th>\n",
              "      <td>40.0</td>\n",
              "      <td>1.0</td>\n",
              "      <td>29.355</td>\n",
              "      <td>1.0</td>\n",
              "      <td>0.0</td>\n",
              "      <td>6999.945583</td>\n",
              "      <td>6363.826033</td>\n",
              "    </tr>\n",
              "    <tr>\n",
              "      <th>2</th>\n",
              "      <td>53.0</td>\n",
              "      <td>0.0</td>\n",
              "      <td>26.700</td>\n",
              "      <td>2.0</td>\n",
              "      <td>0.0</td>\n",
              "      <td>11199.939745</td>\n",
              "      <td>11131.351056</td>\n",
              "    </tr>\n",
              "    <tr>\n",
              "      <th>3</th>\n",
              "      <td>37.0</td>\n",
              "      <td>0.0</td>\n",
              "      <td>30.800</td>\n",
              "      <td>2.0</td>\n",
              "      <td>0.0</td>\n",
              "      <td>7608.127369</td>\n",
              "      <td>6283.807894</td>\n",
              "    </tr>\n",
              "    <tr>\n",
              "      <th>4</th>\n",
              "      <td>58.0</td>\n",
              "      <td>1.0</td>\n",
              "      <td>28.595</td>\n",
              "      <td>0.0</td>\n",
              "      <td>0.0</td>\n",
              "      <td>10920.104508</td>\n",
              "      <td>11717.722895</td>\n",
              "    </tr>\n",
              "    <tr>\n",
              "      <th>...</th>\n",
              "      <td>...</td>\n",
              "      <td>...</td>\n",
              "      <td>...</td>\n",
              "      <td>...</td>\n",
              "      <td>...</td>\n",
              "      <td>...</td>\n",
              "      <td>...</td>\n",
              "    </tr>\n",
              "    <tr>\n",
              "      <th>301</th>\n",
              "      <td>31.0</td>\n",
              "      <td>1.0</td>\n",
              "      <td>39.490</td>\n",
              "      <td>1.0</td>\n",
              "      <td>0.0</td>\n",
              "      <td>4977.442230</td>\n",
              "      <td>3840.479463</td>\n",
              "    </tr>\n",
              "    <tr>\n",
              "      <th>302</th>\n",
              "      <td>43.0</td>\n",
              "      <td>1.0</td>\n",
              "      <td>26.030</td>\n",
              "      <td>0.0</td>\n",
              "      <td>0.0</td>\n",
              "      <td>7554.506781</td>\n",
              "      <td>6808.556623</td>\n",
              "    </tr>\n",
              "    <tr>\n",
              "      <th>303</th>\n",
              "      <td>41.0</td>\n",
              "      <td>1.0</td>\n",
              "      <td>34.200</td>\n",
              "      <td>2.0</td>\n",
              "      <td>0.0</td>\n",
              "      <td>7342.651913</td>\n",
              "      <td>7233.852077</td>\n",
              "    </tr>\n",
              "    <tr>\n",
              "      <th>304</th>\n",
              "      <td>57.0</td>\n",
              "      <td>0.0</td>\n",
              "      <td>38.000</td>\n",
              "      <td>2.0</td>\n",
              "      <td>0.0</td>\n",
              "      <td>12094.572757</td>\n",
              "      <td>12630.031117</td>\n",
              "    </tr>\n",
              "    <tr>\n",
              "      <th>305</th>\n",
              "      <td>50.0</td>\n",
              "      <td>1.0</td>\n",
              "      <td>25.300</td>\n",
              "      <td>0.0</td>\n",
              "      <td>0.0</td>\n",
              "      <td>9125.638145</td>\n",
              "      <td>8417.346992</td>\n",
              "    </tr>\n",
              "  </tbody>\n",
              "</table>\n",
              "<p>306 rows × 7 columns</p>\n",
              "</div>\n",
              "      <button class=\"colab-df-convert\" onclick=\"convertToInteractive('df-619f162e-673e-4d47-9b41-cb01e63e5a6b')\"\n",
              "              title=\"Convert this dataframe to an interactive table.\"\n",
              "              style=\"display:none;\">\n",
              "        \n",
              "  <svg xmlns=\"http://www.w3.org/2000/svg\" height=\"24px\"viewBox=\"0 0 24 24\"\n",
              "       width=\"24px\">\n",
              "    <path d=\"M0 0h24v24H0V0z\" fill=\"none\"/>\n",
              "    <path d=\"M18.56 5.44l.94 2.06.94-2.06 2.06-.94-2.06-.94-.94-2.06-.94 2.06-2.06.94zm-11 1L8.5 8.5l.94-2.06 2.06-.94-2.06-.94L8.5 2.5l-.94 2.06-2.06.94zm10 10l.94 2.06.94-2.06 2.06-.94-2.06-.94-.94-2.06-.94 2.06-2.06.94z\"/><path d=\"M17.41 7.96l-1.37-1.37c-.4-.4-.92-.59-1.43-.59-.52 0-1.04.2-1.43.59L10.3 9.45l-7.72 7.72c-.78.78-.78 2.05 0 2.83L4 21.41c.39.39.9.59 1.41.59.51 0 1.02-.2 1.41-.59l7.78-7.78 2.81-2.81c.8-.78.8-2.07 0-2.86zM5.41 20L4 18.59l7.72-7.72 1.47 1.35L5.41 20z\"/>\n",
              "  </svg>\n",
              "      </button>\n",
              "      \n",
              "  <style>\n",
              "    .colab-df-container {\n",
              "      display:flex;\n",
              "      flex-wrap:wrap;\n",
              "      gap: 12px;\n",
              "    }\n",
              "\n",
              "    .colab-df-convert {\n",
              "      background-color: #E8F0FE;\n",
              "      border: none;\n",
              "      border-radius: 50%;\n",
              "      cursor: pointer;\n",
              "      display: none;\n",
              "      fill: #1967D2;\n",
              "      height: 32px;\n",
              "      padding: 0 0 0 0;\n",
              "      width: 32px;\n",
              "    }\n",
              "\n",
              "    .colab-df-convert:hover {\n",
              "      background-color: #E2EBFA;\n",
              "      box-shadow: 0px 1px 2px rgba(60, 64, 67, 0.3), 0px 1px 3px 1px rgba(60, 64, 67, 0.15);\n",
              "      fill: #174EA6;\n",
              "    }\n",
              "\n",
              "    [theme=dark] .colab-df-convert {\n",
              "      background-color: #3B4455;\n",
              "      fill: #D2E3FC;\n",
              "    }\n",
              "\n",
              "    [theme=dark] .colab-df-convert:hover {\n",
              "      background-color: #434B5C;\n",
              "      box-shadow: 0px 1px 3px 1px rgba(0, 0, 0, 0.15);\n",
              "      filter: drop-shadow(0px 1px 2px rgba(0, 0, 0, 0.3));\n",
              "      fill: #FFFFFF;\n",
              "    }\n",
              "  </style>\n",
              "\n",
              "      <script>\n",
              "        const buttonEl =\n",
              "          document.querySelector('#df-619f162e-673e-4d47-9b41-cb01e63e5a6b button.colab-df-convert');\n",
              "        buttonEl.style.display =\n",
              "          google.colab.kernel.accessAllowed ? 'block' : 'none';\n",
              "\n",
              "        async function convertToInteractive(key) {\n",
              "          const element = document.querySelector('#df-619f162e-673e-4d47-9b41-cb01e63e5a6b');\n",
              "          const dataTable =\n",
              "            await google.colab.kernel.invokeFunction('convertToInteractive',\n",
              "                                                     [key], {});\n",
              "          if (!dataTable) return;\n",
              "\n",
              "          const docLinkHtml = 'Like what you see? Visit the ' +\n",
              "            '<a target=\"_blank\" href=https://colab.research.google.com/notebooks/data_table.ipynb>data table notebook</a>'\n",
              "            + ' to learn more about interactive tables.';\n",
              "          element.innerHTML = '';\n",
              "          dataTable['output_type'] = 'display_data';\n",
              "          await google.colab.output.renderOutput(dataTable, element);\n",
              "          const docLink = document.createElement('div');\n",
              "          docLink.innerHTML = docLinkHtml;\n",
              "          element.appendChild(docLink);\n",
              "        }\n",
              "      </script>\n",
              "    </div>\n",
              "  </div>\n",
              "  "
            ]
          },
          "metadata": {},
          "execution_count": 77
        }
      ]
    },
    {
      "cell_type": "code",
      "source": [
        "# importing package\n",
        "import matplotlib.pyplot as plt\n",
        "plt.figure(figsize=(15,7))\n",
        "a = []\n",
        "for x in range(len(X_test)):\n",
        "   a.append(x)\n",
        "plt.plot(a, y_testish[:,0], label = \"Prediksi Harga Medis\")\n",
        "plt.plot(a, y_testish[:,1], label = \"Nilai Aktual Harga Medis\")\n",
        "plt.xlabel(\"Indeks Data Testing\")\n",
        "plt.ylabel(\"Harga Medis\")\n",
        "plt.legend()\n",
        "plt.show()"
      ],
      "metadata": {
        "id": "4MgjGaht-1tn",
        "colab": {
          "base_uri": "https://localhost:8080/",
          "height": 482
        },
        "outputId": "4c9abbf9-4e21-408b-e06b-baa2938d7810"
      },
      "execution_count": null,
      "outputs": [
        {
          "output_type": "stream",
          "name": "stderr",
          "text": [
            "2022-12-29 00:18:20,686 - matplotlib.font_manager - WARNING - findfont: Font family ['Arial'] not found. Falling back to DejaVu Sans.\n"
          ]
        },
        {
          "output_type": "display_data",
          "data": {
            "text/plain": [
              "<Figure size 1080x504 with 1 Axes>"
            ],
            "image/png": "[encoded data removed]"
          },
          "metadata": {}
        }
      ]
    }
  ]
}