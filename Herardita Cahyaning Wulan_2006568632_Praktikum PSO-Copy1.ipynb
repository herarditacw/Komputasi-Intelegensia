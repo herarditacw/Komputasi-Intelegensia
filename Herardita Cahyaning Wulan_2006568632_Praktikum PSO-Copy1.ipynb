{
 "cells": [
  {
   "cell_type": "code",
   "execution_count": 1,
   "metadata": {
    "id": "2TxJx-jCGfxH"
   },
   "outputs": [],
   "source": [
    "import random\n",
    "import numpy as np\n",
    "from matplotlib import pyplot as plt\n",
    "from matplotlib import animation"
   ]
  },
  {
   "cell_type": "code",
   "execution_count": 2,
   "metadata": {
    "id": "-uJWSHdfHPBX"
   },
   "outputs": [],
   "source": [
    "# Fitness function\n",
    "# We assume the problem can be expressed by the following equation: \n",
    "# f(x1,x2)=(x1+2*-x2+3)^2 + (2*x1+x2-8)^2\n",
    "# The objective is to find a minimum which is 0\n",
    "\n",
    "def fitness_function(x1,x2):\n",
    "  f1=x1+2*-x2+3\n",
    "  f2=2*x1+x2-8\n",
    "  z = f1**2+f2**2\n",
    "  return z"
   ]
  },
  {
   "cell_type": "code",
   "execution_count": 3,
   "metadata": {
    "id": "CqTx_VdMHXA5"
   },
   "outputs": [],
   "source": [
    "def update_velocity(particle, velocity, pbest, gbest, w_min=0.5, max=1.0, c=0.1):\n",
    "  # Initialise new velocity array\n",
    "  num_particle = len(particle)\n",
    "  new_velocity = np.array([0.0 for i in range(num_particle)])\n",
    "  # Randomly generate r1, r2 and inertia weight from normal distribution\n",
    "  r1 = random.uniform(0,max)\n",
    "  r2 = random.uniform(0,max)\n",
    "  w = random.uniform(w_min,max)\n",
    "  c1 = c\n",
    "  c2 = c\n",
    "  # Calculate new velocity\n",
    "  for i in range(num_particle):\n",
    "    new_velocity[i] = w*velocity[i] + c1*r1*(pbest[i]-particle[i])+c2*r2*(gbest[i]-particle[i])\n",
    "  return new_velocity"
   ]
  },
  {
   "cell_type": "code",
   "execution_count": 4,
   "metadata": {
    "id": "DvEqe2UfHeqS"
   },
   "outputs": [],
   "source": [
    "def update_position(particle, velocity):\n",
    "  # Move particles by adding velocity\n",
    "  new_particle = particle + velocity\n",
    "  return new_particle"
   ]
  },
  {
   "cell_type": "code",
   "execution_count": 5,
   "metadata": {
    "id": "dOVs0kYBHmM4"
   },
   "outputs": [],
   "source": [
    "def pso_2d(population, dimension, position_min, position_max, generation, fitness_criterion):\n",
    "  # Initialisation (ini bisa diubah population, dimension, dkk)\n",
    "  # Population\n",
    "  particles = [[random.uniform(position_min, position_max) for j in range(dimension)] for i in range(population)]\n",
    "  # Particle's best position\n",
    "  pbest_position = particles\n",
    "  # Fitness\n",
    "  pbest_fitness = [fitness_function(p[0],p[1]) for p in particles]\n",
    "  # Index of the best particle\n",
    "  gbest_index = np.argmin(pbest_fitness)\n",
    "  # Global best particle position\n",
    "  gbest_position = pbest_position[gbest_index]\n",
    "  # Velocity (starting from 0 speed)\n",
    "  velocity = [[0.0 for j in range(dimension)] for i in range(population)]\n",
    "  \n",
    "  # Loop for the number of generation\n",
    "  for t in range(generation):\n",
    "    # Stop if the average fitness value reached a predefined success criterion\n",
    "    if np.average(pbest_fitness) <= fitness_criterion:\n",
    "      break\n",
    "    else:\n",
    "      for n in range(population):\n",
    "        # Update the velocity of each particle\n",
    "        velocity[n] = update_velocity(particles[n], velocity[n], pbest_position[n], gbest_position)\n",
    "        # Move the particles to new position\n",
    "        particles[n] = update_position(particles[n], velocity[n])\n",
    "    # Calculate the fitness value\n",
    "    pbest_fitness = [fitness_function(p[0],p[1]) for p in particles]\n",
    "    # Find the index of the best particle\n",
    "    gbest_index = np.argmin(pbest_fitness)\n",
    "    # Update the position of the best particle\n",
    "    gbest_position = pbest_position[gbest_index]\n",
    "\n",
    "  # Print the results\n",
    "  print('Global Best Position: ', gbest_position)\n",
    "  print('Best Fitness Value: ', min(pbest_fitness))\n",
    "  print('Average Particle Best Fitness Value: ', np.average(pbest_fitness))\n",
    "  print('Number of Generation: ', t)"
   ]
  },
  {
   "cell_type": "code",
   "execution_count": 6,
   "metadata": {},
   "outputs": [
    {
     "name": "stdout",
     "output_type": "stream",
     "text": [
      "Global Best Position:  [2.60014175 2.80010284]\n",
      "Best Fitness Value:  1.5333960047057384e-07\n",
      "Average Particle Best Fitness Value:  0.0008903662564701284\n",
      "Number of Generation:  69\n"
     ]
    }
   ],
   "source": [
    "#Panggil fungsi dan input parameter sesuai emas2\n",
    "#population = 100\n",
    "#dimension = 2\n",
    "#position_min = -100.0\n",
    "#position_max = 100.0\n",
    "#generation = 400\n",
    "#fitness_criterion = 10e-4\n",
    "\n",
    "pso_2d(100, 2, -100.0, 100.0, 400, 10e-4)"
   ]
  },
  {
   "cell_type": "markdown",
   "metadata": {},
   "source": [
    "### PSO Variasi"
   ]
  },
  {
   "cell_type": "code",
   "execution_count": 9,
   "metadata": {},
   "outputs": [],
   "source": [
    "#Assume fitness function :\n",
    "# f(x1,x2)=(x1+2*x2+14)^2 + (2*x1-x2+5)^2\n",
    "\n",
    "def fitness_function_new(x1,x2):\n",
    "  f1=x1+2*x2+14\n",
    "  f2=2*x1-x2+5\n",
    "  z_new = f1**2+f2**2\n",
    "  return z_new"
   ]
  },
  {
   "cell_type": "code",
   "execution_count": 10,
   "metadata": {},
   "outputs": [],
   "source": [
    "def update_velocity_new(particle, velocity, pbest, gbest, w_min=0.5, max=1.0, c=0.1):\n",
    "  # Initialise new velocity array\n",
    "  num_particle_ = len(particle)\n",
    "  new_velocity = np.array([0.0 for i in range(num_particle)])\n",
    "  # Randomly generate r1, r2 and inertia weight from normal distribution\n",
    "  r1 = random.uniform(0,max)\n",
    "  r2 = random.uniform(0,max)\n",
    "  w = random.uniform(w_min,max)\n",
    "  c1 = c\n",
    "  c2 = c\n",
    "  # Calculate new velocity\n",
    "  for i in range(num_particle):\n",
    "    new_velocity[i] = w*velocity[i] + c1*r1*(pbest[i]-particle[i])+c2*r2*(gbest[i]-particle[i])\n",
    "  return new_velocity"
   ]
  },
  {
   "cell_type": "code",
   "execution_count": 11,
   "metadata": {},
   "outputs": [],
   "source": [
    "def update_position_new(particle, velocity):\n",
    "  # Move particles by adding velocity\n",
    "  new_particle = particle + velocity\n",
    "  return new_particle"
   ]
  },
  {
   "cell_type": "code",
   "execution_count": 12,
   "metadata": {},
   "outputs": [],
   "source": [
    "def pso_2d_new(population, dimension, position_min, position_max, generation, fitness_criterion):\n",
    "  # Initialisation (ini bisa diubah population, dimension, dkk)\n",
    "  # Population\n",
    "  particles = [[random.uniform(position_min, position_max) for j in range(dimension)] for i in range(population)]\n",
    "  # Particle's best position\n",
    "  pbest_position = particles\n",
    "  # Fitness\n",
    "  pbest_fitness = [fitness_function(p[0],p[1]) for p in particles]\n",
    "  # Index of the best particle\n",
    "  gbest_index = np.argmin(pbest_fitness)\n",
    "  # Global best particle position\n",
    "  gbest_position = pbest_position[gbest_index]\n",
    "  # Velocity (starting from 0 speed)\n",
    "  velocity = [[0.0 for j in range(dimension)] for i in range(population)]\n",
    "  \n",
    "  # Loop for the number of generation\n",
    "  for t in range(generation):\n",
    "    # Stop if the average fitness value reached a predefined success criterion\n",
    "    if np.average(pbest_fitness) <= fitness_criterion:\n",
    "      break\n",
    "    else:\n",
    "      for n in range(population):\n",
    "        # Update the velocity of each particle\n",
    "        velocity[n] = update_velocity(particles[n], velocity[n], pbest_position[n], gbest_position)\n",
    "        # Move the particles to new position\n",
    "        particles[n] = update_position(particles[n], velocity[n])\n",
    "    # Calculate the fitness value\n",
    "    pbest_fitness = [fitness_function(p[0],p[1]) for p in particles]\n",
    "    # Find the index of the best particle\n",
    "    gbest_index = np.argmin(pbest_fitness)\n",
    "    # Update the position of the best particle\n",
    "    gbest_position = pbest_position[gbest_index]\n",
    "\n",
    "  # Print the results\n",
    "  print('Global Best Position: ', gbest_position)\n",
    "  print('Best Fitness Value: ', min(pbest_fitness))\n",
    "  print('Average Particle Best Fitness Value: ', np.average(pbest_fitness))\n",
    "  print('Number of Generation: ', t)"
   ]
  },
  {
   "cell_type": "code",
   "execution_count": 15,
   "metadata": {},
   "outputs": [
    {
     "name": "stdout",
     "output_type": "stream",
     "text": [
      "Global Best Position:  [2.60000002 2.79999861]\n",
      "Best Fitness Value:  9.681400096309986e-12\n",
      "Average Particle Best Fitness Value:  9.434838648404338e-05\n",
      "Number of Generation:  82\n"
     ]
    }
   ],
   "source": [
    "#population = 3140\n",
    "#dimension = 2\n",
    "#position_min = -200.0\n",
    "#position_max = 200.0\n",
    "#generation = 500\n",
    "#fitness_criterion = 10e-5\n",
    "\n",
    "pso_2d_new(3140, 2, -200.0, 200.0, 500,10e-5)"
   ]
  },
  {
   "cell_type": "code",
   "execution_count": null,
   "metadata": {},
   "outputs": [],
   "source": []
  }
 ],
 "metadata": {
  "colab": {
   "provenance": []
  },
  "kernelspec": {
   "display_name": "Python 3 (ipykernel)",
   "language": "python",
   "name": "python3"
  },
  "language_info": {
   "codemirror_mode": {
    "name": "ipython",
    "version": 3
   },
   "file_extension": ".py",
   "mimetype": "text/x-python",
   "name": "python",
   "nbconvert_exporter": "python",
   "pygments_lexer": "ipython3",
   "version": "3.9.7"
  }
 },
 "nbformat": 4,
 "nbformat_minor": 1
}
